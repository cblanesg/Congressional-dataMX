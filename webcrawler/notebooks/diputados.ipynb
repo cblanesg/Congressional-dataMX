{
 "cells": [
  {
   "cell_type": "code",
   "execution_count": 8,
   "metadata": {},
   "outputs": [],
   "source": [
    "from webdriver_manager.chrome import ChromeDriverManager\n",
    "from selenium.webdriver import Chrome\n",
    "from selenium import webdriver\n",
    "import re\n",
    "import pandas as pd\n",
    "import datetime\n",
    "import uuid\n",
    "from tqdm import tqdm\n",
    "from datetime import date\n",
    "from selenium.webdriver.chrome.options import Options"
   ]
  },
  {
   "cell_type": "code",
   "execution_count": 9,
   "metadata": {},
   "outputs": [],
   "source": [
    "main_url = 'http://cronica.diputados.gob.mx/DDebates/index.html'"
   ]
  },
  {
   "cell_type": "code",
   "execution_count": 10,
   "metadata": {},
   "outputs": [],
   "source": [
    "import requests"
   ]
  },
  {
   "cell_type": "code",
   "execution_count": 11,
   "metadata": {},
   "outputs": [],
   "source": [
    "r = requests.get(main_url)"
   ]
  },
  {
   "cell_type": "code",
   "execution_count": 12,
   "metadata": {},
   "outputs": [
    {
     "data": {
      "text/plain": [
       "<Response [200]>"
      ]
     },
     "execution_count": 12,
     "metadata": {},
     "output_type": "execute_result"
    }
   ],
   "source": [
    "r"
   ]
  },
  {
   "cell_type": "code",
   "execution_count": 32,
   "metadata": {},
   "outputs": [
    {
     "name": "stderr",
     "output_type": "stream",
     "text": [
      "[WDM] - Current google-chrome version is 84.0.4147\n",
      "[WDM] - Get LATEST driver version for 84.0.4147\n",
      "[WDM] - Driver [/Users/cblanesg/.wdm/drivers/chromedriver/mac64/84.0.4147.30/chromedriver] found in cache\n"
     ]
    },
    {
     "name": "stdout",
     "output_type": "stream",
     "text": [
      " \n"
     ]
    }
   ],
   "source": [
    "options = Options()\n",
    "options.add_argument('--headless')\n",
    "driver = webdriver.Chrome(ChromeDriverManager().install(), options=options)"
   ]
  },
  {
   "cell_type": "code",
   "execution_count": 28,
   "metadata": {},
   "outputs": [],
   "source": [
    "driver.get(main_url)"
   ]
  },
  {
   "cell_type": "code",
   "execution_count": 16,
   "metadata": {},
   "outputs": [],
   "source": [
    "def month_to_number(m):\n",
    "    if m == 'ene':\n",
    "        return(1)\n",
    "    elif m == 'feb':\n",
    "        return(2)\n",
    "    elif m == 'mar':\n",
    "        return(3)\n",
    "    elif m == 'abr':\n",
    "        return(4)\n",
    "    elif m == 'may':\n",
    "        return(5)\n",
    "    elif m == 'jun':\n",
    "        return(6)\n",
    "    elif m == 'jul':\n",
    "        return(7)\n",
    "    elif m == 'ago':\n",
    "        return(8)\n",
    "    elif m == 'sep':\n",
    "        return(9)\n",
    "    elif m == 'oct':\n",
    "        return(10)\n",
    "    elif m == 'nov':\n",
    "        return(11)\n",
    "    elif m == 'dic':\n",
    "        return(12)\n",
    "\n",
    "def get_date_speech(year_session, link_speech, text_day):\n",
    "    day_speech = re.findall('[0-9]+', text_day)[0]\n",
    "    month_speech = month_to_number(link_speech.split('/')[-2:][0])\n",
    "    return(datetime.date(int(year_session), int(month_speech), int(day_speech)))\n",
    "\n",
    "def get_links_legislaturas(legislaturas):\n",
    "    \"\"\"\n",
    "    Parametros:\n",
    "    -----------\n",
    "    legislatura: list of int numbers of legislatura \n",
    "    \n",
    "    Returns:\n",
    "    --------\n",
    "    lista de diccionario con los a el htmls de los debates legislativos\n",
    "    \"\"\"\n",
    "    all_data = []\n",
    "    \n",
    "    for legislatura in legislaturas:\n",
    "        link_debates = 'http://cronica.diputados.gob.mx/DDebates/' + str(legislatura) + '/index.html'\n",
    "        \n",
    "        driver.get(link_debates)\n",
    "        \n",
    "        links_sesiones = []\n",
    "        type_sesion = []\n",
    "        for h in driver.find_elements_by_css_selector('a'):\n",
    "            links_sesiones.append(h.get_attribute('href'))\n",
    "            type_sesion.append(re.sub('^[ ]+', '', h.text))\n",
    "        \n",
    "        \n",
    "        for x, y in zip(links_sesiones, type_sesion):\n",
    "            driver.get(x)\n",
    "            \n",
    "            for i in driver.find_elements_by_css_selector('a'):\n",
    "                year_session = re.findall('[0-9]{4}', driver.find_element_by_css_selector('body > table:nth-child(3) > tbody > tr > td').text)[0]\n",
    "                link_ = i.get_attribute('href')\n",
    "                \n",
    "                fecha_speech = get_date_speech(year_session, link_, i.text)\n",
    "        \n",
    "                temp = {}\n",
    "                temp['id_debate'] = str(uuid.uuid3(uuid.NAMESPACE_URL,link_))\n",
    "                temp['legislatura'] = legislatura\n",
    "                temp['date_debate'] = fecha_speech\n",
    "                temp['type_sesion'] = y\n",
    "                temp['link_debate'] = link_\n",
    "                all_data.append(temp)\n",
    "    return(all_data)\n",
    "    "
   ]
  },
  {
   "cell_type": "code",
   "execution_count": 17,
   "metadata": {},
   "outputs": [],
   "source": [
    "htmls_speeches = get_links_legislaturas([63, 64])"
   ]
  },
  {
   "cell_type": "code",
   "execution_count": 19,
   "metadata": {},
   "outputs": [],
   "source": [
    "df_debates = pd.DataFrame(htmls_speeches)"
   ]
  },
  {
   "cell_type": "code",
   "execution_count": 21,
   "metadata": {},
   "outputs": [
    {
     "data": {
      "text/html": [
       "<div>\n",
       "<style scoped>\n",
       "    .dataframe tbody tr th:only-of-type {\n",
       "        vertical-align: middle;\n",
       "    }\n",
       "\n",
       "    .dataframe tbody tr th {\n",
       "        vertical-align: top;\n",
       "    }\n",
       "\n",
       "    .dataframe thead th {\n",
       "        text-align: right;\n",
       "    }\n",
       "</style>\n",
       "<table border=\"1\" class=\"dataframe\">\n",
       "  <thead>\n",
       "    <tr style=\"text-align: right;\">\n",
       "      <th></th>\n",
       "      <th>legislatura</th>\n",
       "      <th>counts</th>\n",
       "    </tr>\n",
       "  </thead>\n",
       "  <tbody>\n",
       "    <tr>\n",
       "      <th>0</th>\n",
       "      <td>63</td>\n",
       "      <td>223</td>\n",
       "    </tr>\n",
       "    <tr>\n",
       "      <th>1</th>\n",
       "      <td>64</td>\n",
       "      <td>155</td>\n",
       "    </tr>\n",
       "  </tbody>\n",
       "</table>\n",
       "</div>"
      ],
      "text/plain": [
       "   legislatura  counts\n",
       "0           63     223\n",
       "1           64     155"
      ]
     },
     "execution_count": 21,
     "metadata": {},
     "output_type": "execute_result"
    }
   ],
   "source": [
    "df_debates['counts'] = 1\n",
    "df_debates[['legislatura', 'counts']].groupby(['legislatura']).count().reset_index()"
   ]
  },
  {
   "cell_type": "code",
   "execution_count": 22,
   "metadata": {},
   "outputs": [],
   "source": [
    "def obtain_texto_debate(driver):\n",
    "    contenido_debate = driver.find_elements_by_class_name('Contenido')[0].text\n",
    "    \n",
    "    dict_contenidos = {}\n",
    "    for i in contenido_debate.split('\\n\\n\\n'):\n",
    "        try:\n",
    "            name_tema = re.sub('\\n', '', re.findall('^[A-Z].*\\n',i)[0])\n",
    "            dict_contenidos[name_tema] = re.sub(name_tema, '', i)\n",
    "        except:\n",
    "            continue\n",
    "    \n",
    "    main_text = []\n",
    "    for x in dict_contenidos.values():\n",
    "        main_text.append(x)\n",
    "    return(re.sub('\\n', ' ', ' '.join(main_text)))"
   ]
  },
  {
   "cell_type": "code",
   "execution_count": 33,
   "metadata": {},
   "outputs": [],
   "source": [
    "\n",
    "def obtain_text_sesion(driver):\n",
    "    try:\n",
    "        links_volumenes = []\n",
    "        for i in driver.find_elements_by_css_selector('table')[1].find_elements_by_css_selector('a'):\n",
    "            if any(re.findall('Volúmen' ,i.text)):\n",
    "                links_volumenes.append(i.get_attribute('href'))\n",
    "            else:\n",
    "                continue\n",
    "        \n",
    "        driver.get(links_volumenes[0])\n",
    "        return(obtain_texto_debate(driver))\n",
    "    except:\n",
    "        return(obtain_texto_debate(driver))\n",
    "        \n",
    "def obtain_texto_debate(driver):\n",
    "    contenido_debate = driver.find_elements_by_class_name('Contenido')[0].text\n",
    "    \n",
    "    dict_contenidos = {}\n",
    "    for i in contenido_debate.split('\\n\\n\\n'):\n",
    "        try:\n",
    "            name_tema = re.sub('\\n', '', re.findall('^[A-Z].*\\n',i)[0])\n",
    "            dict_contenidos[name_tema] = re.sub(name_tema, '', i)\n",
    "        except:\n",
    "            continue\n",
    "    \n",
    "    main_text = []\n",
    "    for x in dict_contenidos.values():\n",
    "        main_text.append(x)\n",
    "    return(re.sub('\\n', ' ', ' '.join(main_text)))            "
   ]
  },
  {
   "cell_type": "code",
   "execution_count": 34,
   "metadata": {},
   "outputs": [
    {
     "name": "stderr",
     "output_type": "stream",
     "text": [
      " 45%|████▍     | 169/378 [08:20<06:36,  1.90s/it]  "
     ]
    },
    {
     "name": "stdout",
     "output_type": "stream",
     "text": [
      "http://cronica.diputados.gob.mx/DDebates/63/1er/1P/Ord/oct/Sesion13.html\n"
     ]
    },
    {
     "name": "stderr",
     "output_type": "stream",
     "text": [
      " 52%|█████▏    | 196/378 [10:17<04:29,  1.48s/it]  "
     ]
    },
    {
     "name": "stdout",
     "output_type": "stream",
     "text": [
      "http://cronica.diputados.gob.mx/DDebates/63/1er/1P/Ord/oct/Sesion13.html\n"
     ]
    },
    {
     "name": "stderr",
     "output_type": "stream",
     "text": [
      " 73%|███████▎  | 275/378 [13:55<01:08,  1.49it/s]  "
     ]
    },
    {
     "name": "stdout",
     "output_type": "stream",
     "text": [
      "http://cronica.diputados.gob.mx/DDebates/63/1er/1P/Ord/oct/Sesion13.html\n"
     ]
    },
    {
     "name": "stderr",
     "output_type": "stream",
     "text": [
      "100%|██████████| 378/378 [21:27<00:00,  3.40s/it]  \n"
     ]
    }
   ],
   "source": [
    "text_congress = []\n",
    "id_debates = []\n",
    "for x, y in tqdm(zip(df_debates.link_debate, df_debates.id_debate), total = len(df_debates.link_debate)):\n",
    "    driver.get(x)\n",
    "    try:\n",
    "        text_congress.append(obtain_text_sesion(driver))\n",
    "        id_debates.append(y)\n",
    "    except:\n",
    "        print(i)"
   ]
  },
  {
   "cell_type": "code",
   "execution_count": 37,
   "metadata": {},
   "outputs": [],
   "source": [
    "text_data = pd.DataFrame({'full_text_session':text_congress, \n",
    "             'id_debate':id_debates})"
   ]
  },
  {
   "cell_type": "code",
   "execution_count": 42,
   "metadata": {},
   "outputs": [],
   "source": [
    "full_text_session = pd.merge(left = df_debates, \n",
    "         right = text_data, \n",
    "         on = ['id_debate'],\n",
    "         how = 'left')"
   ]
  },
  {
   "cell_type": "code",
   "execution_count": 47,
   "metadata": {},
   "outputs": [],
   "source": [
    "full_text_session[full_text_session['legislatura'] == 64][['id_debate', 'full_text_session']].to_csv('../../data/full_text_legislatura64.csv')"
   ]
  },
  {
   "cell_type": "code",
   "execution_count": null,
   "metadata": {},
   "outputs": [],
   "source": []
  },
  {
   "cell_type": "code",
   "execution_count": null,
   "metadata": {},
   "outputs": [],
   "source": [
    "full_text_session.to_csv('../../data/full_text_legislatura')"
   ]
  },
  {
   "cell_type": "code",
   "execution_count": null,
   "metadata": {},
   "outputs": [],
   "source": []
  },
  {
   "cell_type": "code",
   "execution_count": null,
   "metadata": {},
   "outputs": [],
   "source": []
  },
  {
   "cell_type": "code",
   "execution_count": 16,
   "metadata": {},
   "outputs": [
    {
     "data": {
      "text/html": [
       "<div>\n",
       "<style scoped>\n",
       "    .dataframe tbody tr th:only-of-type {\n",
       "        vertical-align: middle;\n",
       "    }\n",
       "\n",
       "    .dataframe tbody tr th {\n",
       "        vertical-align: top;\n",
       "    }\n",
       "\n",
       "    .dataframe thead th {\n",
       "        text-align: right;\n",
       "    }\n",
       "</style>\n",
       "<table border=\"1\" class=\"dataframe\">\n",
       "  <thead>\n",
       "    <tr style=\"text-align: right;\">\n",
       "      <th></th>\n",
       "      <th>id_debate</th>\n",
       "      <th>legislatura</th>\n",
       "      <th>date_debate</th>\n",
       "      <th>type_sesion</th>\n",
       "      <th>link_debate</th>\n",
       "    </tr>\n",
       "  </thead>\n",
       "  <tbody>\n",
       "    <tr>\n",
       "      <th>0</th>\n",
       "      <td>c0ceba86-4f50-3a1f-8907-e83005ee8720</td>\n",
       "      <td>63</td>\n",
       "      <td>2015-08-29</td>\n",
       "      <td>Primer Periodo Ordinario</td>\n",
       "      <td>http://cronica.diputados.gob.mx/DDebates/63/1e...</td>\n",
       "    </tr>\n",
       "    <tr>\n",
       "      <th>1</th>\n",
       "      <td>fb1799c9-00e9-3a85-b870-a54dbd24512a</td>\n",
       "      <td>63</td>\n",
       "      <td>2015-09-01</td>\n",
       "      <td>Primer Periodo Ordinario</td>\n",
       "      <td>http://cronica.diputados.gob.mx/DDebates/63/1e...</td>\n",
       "    </tr>\n",
       "    <tr>\n",
       "      <th>2</th>\n",
       "      <td>71979612-519d-32bd-ba03-5ce6c7b92e18</td>\n",
       "      <td>63</td>\n",
       "      <td>2015-09-03</td>\n",
       "      <td>Primer Periodo Ordinario</td>\n",
       "      <td>http://cronica.diputados.gob.mx/DDebates/63/1e...</td>\n",
       "    </tr>\n",
       "    <tr>\n",
       "      <th>3</th>\n",
       "      <td>37ea8705-c8f0-306d-91cf-6801203235a8</td>\n",
       "      <td>63</td>\n",
       "      <td>2015-09-08</td>\n",
       "      <td>Primer Periodo Ordinario</td>\n",
       "      <td>http://cronica.diputados.gob.mx/DDebates/63/1e...</td>\n",
       "    </tr>\n",
       "    <tr>\n",
       "      <th>4</th>\n",
       "      <td>a530b0c6-94a2-3b22-955f-5cb57544dea5</td>\n",
       "      <td>63</td>\n",
       "      <td>2015-09-10</td>\n",
       "      <td>Primer Periodo Ordinario</td>\n",
       "      <td>http://cronica.diputados.gob.mx/DDebates/63/1e...</td>\n",
       "    </tr>\n",
       "    <tr>\n",
       "      <th>...</th>\n",
       "      <td>...</td>\n",
       "      <td>...</td>\n",
       "      <td>...</td>\n",
       "      <td>...</td>\n",
       "      <td>...</td>\n",
       "    </tr>\n",
       "    <tr>\n",
       "      <th>373</th>\n",
       "      <td>b3f2f4ad-b4cb-3ef7-8c27-304f1f4565c4</td>\n",
       "      <td>64</td>\n",
       "      <td>2020-03-19</td>\n",
       "      <td>Segundo Periodo Ordinario</td>\n",
       "      <td>http://cronica.diputados.gob.mx/DDebates/64/2d...</td>\n",
       "    </tr>\n",
       "    <tr>\n",
       "      <th>374</th>\n",
       "      <td>7f1c9c76-f4aa-3772-a37c-95d627b805d4</td>\n",
       "      <td>64</td>\n",
       "      <td>2020-03-19</td>\n",
       "      <td>Segundo Periodo Ordinario</td>\n",
       "      <td>http://cronica.diputados.gob.mx/DDebates/64/2d...</td>\n",
       "    </tr>\n",
       "    <tr>\n",
       "      <th>375</th>\n",
       "      <td>a36388e6-7e70-3379-afbd-7560939c6952</td>\n",
       "      <td>64</td>\n",
       "      <td>2020-06-30</td>\n",
       "      <td>Primer Periodo Extraordinario</td>\n",
       "      <td>http://cronica.diputados.gob.mx/DDebates/64/2d...</td>\n",
       "    </tr>\n",
       "    <tr>\n",
       "      <th>376</th>\n",
       "      <td>d570d6a4-9083-3293-8d59-49f1939659dd</td>\n",
       "      <td>64</td>\n",
       "      <td>2020-07-22</td>\n",
       "      <td>Segundo Periodo Extraordinario</td>\n",
       "      <td>http://cronica.diputados.gob.mx/DDebates/64/2d...</td>\n",
       "    </tr>\n",
       "    <tr>\n",
       "      <th>377</th>\n",
       "      <td>29e9d24c-1172-375a-b693-9643b12371d5</td>\n",
       "      <td>64</td>\n",
       "      <td>2020-07-29</td>\n",
       "      <td>Tercer Periodo Extraordinario</td>\n",
       "      <td>http://cronica.diputados.gob.mx/DDebates/64/2d...</td>\n",
       "    </tr>\n",
       "  </tbody>\n",
       "</table>\n",
       "<p>378 rows × 5 columns</p>\n",
       "</div>"
      ],
      "text/plain": [
       "                                id_debate  legislatura date_debate  \\\n",
       "0    c0ceba86-4f50-3a1f-8907-e83005ee8720           63  2015-08-29   \n",
       "1    fb1799c9-00e9-3a85-b870-a54dbd24512a           63  2015-09-01   \n",
       "2    71979612-519d-32bd-ba03-5ce6c7b92e18           63  2015-09-03   \n",
       "3    37ea8705-c8f0-306d-91cf-6801203235a8           63  2015-09-08   \n",
       "4    a530b0c6-94a2-3b22-955f-5cb57544dea5           63  2015-09-10   \n",
       "..                                    ...          ...         ...   \n",
       "373  b3f2f4ad-b4cb-3ef7-8c27-304f1f4565c4           64  2020-03-19   \n",
       "374  7f1c9c76-f4aa-3772-a37c-95d627b805d4           64  2020-03-19   \n",
       "375  a36388e6-7e70-3379-afbd-7560939c6952           64  2020-06-30   \n",
       "376  d570d6a4-9083-3293-8d59-49f1939659dd           64  2020-07-22   \n",
       "377  29e9d24c-1172-375a-b693-9643b12371d5           64  2020-07-29   \n",
       "\n",
       "                        type_sesion  \\\n",
       "0          Primer Periodo Ordinario   \n",
       "1          Primer Periodo Ordinario   \n",
       "2          Primer Periodo Ordinario   \n",
       "3          Primer Periodo Ordinario   \n",
       "4          Primer Periodo Ordinario   \n",
       "..                              ...   \n",
       "373       Segundo Periodo Ordinario   \n",
       "374       Segundo Periodo Ordinario   \n",
       "375   Primer Periodo Extraordinario   \n",
       "376  Segundo Periodo Extraordinario   \n",
       "377   Tercer Periodo Extraordinario   \n",
       "\n",
       "                                           link_debate  \n",
       "0    http://cronica.diputados.gob.mx/DDebates/63/1e...  \n",
       "1    http://cronica.diputados.gob.mx/DDebates/63/1e...  \n",
       "2    http://cronica.diputados.gob.mx/DDebates/63/1e...  \n",
       "3    http://cronica.diputados.gob.mx/DDebates/63/1e...  \n",
       "4    http://cronica.diputados.gob.mx/DDebates/63/1e...  \n",
       "..                                                 ...  \n",
       "373  http://cronica.diputados.gob.mx/DDebates/64/2d...  \n",
       "374  http://cronica.diputados.gob.mx/DDebates/64/2d...  \n",
       "375  http://cronica.diputados.gob.mx/DDebates/64/2d...  \n",
       "376  http://cronica.diputados.gob.mx/DDebates/64/2d...  \n",
       "377  http://cronica.diputados.gob.mx/DDebates/64/2d...  \n",
       "\n",
       "[378 rows x 5 columns]"
      ]
     },
     "execution_count": 16,
     "metadata": {},
     "output_type": "execute_result"
    }
   ],
   "source": [
    "pd.DataFrame(htmls_speeches)"
   ]
  },
  {
   "cell_type": "code",
   "execution_count": 17,
   "metadata": {},
   "outputs": [],
   "source": [
    "driver.get(pd.DataFrame(htmls_speeches).link_debate[0])"
   ]
  },
  {
   "cell_type": "code",
   "execution_count": 34,
   "metadata": {},
   "outputs": [],
   "source": [
    "def metadata_debate(driver):\n",
    "    director_general_cronica_parlamentaria = driver.find_element_by_id('T1').text.split('\\n')[-1:][0]\n",
    "    presidente = driver.find_element_by_id('T2').text.split('\\n')[-1:][0]\n",
    "    director_diario_de_los_debates = driver.find_element_by_id('T3').text.split('\\n')[-1:][0]\n",
    "    sesion = driver.find_element_by_id('Sesion').text\n",
    "    return(director_general_cronica_parlamentaria, presidente, director_diario_de_los_debates, sesion)"
   ]
  },
  {
   "cell_type": "code",
   "execution_count": 26,
   "metadata": {},
   "outputs": [
    {
     "data": {
      "text/plain": [
       "'Luis Alfredo Mora Villagómez'"
      ]
     },
     "execution_count": 26,
     "metadata": {},
     "output_type": "execute_result"
    }
   ],
   "source": [
    "driver.find_element_by_id('T3').text.split('\\n')[-1:][0]"
   ]
  },
  {
   "cell_type": "code",
   "execution_count": 36,
   "metadata": {},
   "outputs": [
    {
     "data": {
      "text/plain": [
       "('Gilberto Becerril Olivares',\n",
       " 'Diputado José de Jesús Zambrano Grijalva',\n",
       " 'Luis Alfredo Mora Villagómez',\n",
       " 'Sesión No. 1')"
      ]
     },
     "execution_count": 36,
     "metadata": {},
     "output_type": "execute_result"
    }
   ],
   "source": [
    "metadata_debate(driver)"
   ]
  },
  {
   "cell_type": "code",
   "execution_count": 59,
   "metadata": {},
   "outputs": [],
   "source": [
    "def obtain_entradas_debates(driver):\n",
    "    contenido_debate = driver.find_elements_by_class_name('Contenido')[0].text\n",
    "    \n",
    "    dict_contenidos = {}\n",
    "    for i in contenido_debate.split('\\n\\n\\n'):\n",
    "        name_tema = re.sub('\\n', '', re.findall('^[A-Z].*\\n',i)[0])\n",
    "        dict_contenidos[name_tema] = re.sub(name_tema, '', i)\n",
    "    return(dict_contenidos)"
   ]
  }
 ],
 "metadata": {
  "kernelspec": {
   "display_name": "Python 3",
   "language": "python",
   "name": "python3"
  },
  "language_info": {
   "codemirror_mode": {
    "name": "ipython",
    "version": 3
   },
   "file_extension": ".py",
   "mimetype": "text/x-python",
   "name": "python",
   "nbconvert_exporter": "python",
   "pygments_lexer": "ipython3",
   "version": "3.8.3"
  }
 },
 "nbformat": 4,
 "nbformat_minor": 4
}
