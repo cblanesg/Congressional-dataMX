{
 "cells": [
  {
   "cell_type": "code",
   "execution_count": 1,
   "metadata": {},
   "outputs": [],
   "source": [
    "from webdriver_manager.chrome import ChromeDriverManager\n",
    "from selenium.webdriver import Chrome\n",
    "from selenium import webdriver\n",
    "import re\n",
    "import time\n",
    "import pandas as pd\n",
    "import datetime\n",
    "import uuid\n",
    "from tqdm import tqdm\n",
    "from datetime import date\n",
    "from selenium.webdriver.chrome.options import Options"
   ]
  },
  {
   "cell_type": "code",
   "execution_count": 2,
   "metadata": {},
   "outputs": [],
   "source": [
    "import requests\n",
    "from bs4 import BeautifulSoup"
   ]
  },
  {
   "cell_type": "code",
   "execution_count": 76,
   "metadata": {},
   "outputs": [
    {
     "name": "stderr",
     "output_type": "stream",
     "text": [
      "[WDM] - Current google-chrome version is 85.0.4183\n",
      "[WDM] - Get LATEST driver version for 85.0.4183\n",
      "[WDM] - Driver [/Users/cblanesg/.wdm/drivers/chromedriver/mac64/85.0.4183.87/chromedriver] found in cache\n"
     ]
    },
    {
     "name": "stdout",
     "output_type": "stream",
     "text": [
      " \n"
     ]
    }
   ],
   "source": [
    "options = Options()\n",
    "options.add_argument('--headless')\n",
    "driver = webdriver.Chrome(ChromeDriverManager().install(), options = options)"
   ]
  },
  {
   "cell_type": "code",
   "execution_count": 23,
   "metadata": {},
   "outputs": [],
   "source": [
    "def obtain_links_periodos(driver):\n",
    "    links_asistencias = []\n",
    "    for i in driver.find_element_by_css_selector('table').find_elements_by_css_selector('a'):\n",
    "        link = i.get_attribute('href')\n",
    "        if any(re.findall('asistencias', link)):\n",
    "            links_asistencias.append(link)\n",
    "    return(links_asistencias)\n",
    "\n",
    "def obtain_links_days(driver):\n",
    "    links_asistencias_sesion = []\n",
    "    for i in driver.find_element_by_css_selector('table').find_elements_by_css_selector('a'):\n",
    "        link = i.get_attribute('href')\n",
    "        if any(re.findall('asisteinifinsesion', link)):\n",
    "            links_asistencias_sesion.append(link)\n",
    "    return(links_asistencias_sesion)\n",
    "\n",
    "def obtain_partyAttendance(driver):\n",
    "    links_asistencias_sesion = []\n",
    "    for i in driver.find_element_by_css_selector('table').find_elements_by_css_selector('a'):\n",
    "        link = i.get_attribute('href')\n",
    "        if any(re.findall('listados_asistencias', link)):\n",
    "            links_asistencias_sesion.append(link)\n",
    "    return(links_asistencias_sesion)"
   ]
  },
  {
   "cell_type": "code",
   "execution_count": 79,
   "metadata": {},
   "outputs": [],
   "source": [
    "def obtain_links_periodos(main_link):\n",
    "    r = requests.get(main_link)\n",
    "    soup = BeautifulSoup(r.content, 'html.parser')\n",
    "    links_asistencias_sesion = []\n",
    "    for i in soup.findAll(\"table\")[0].findAll('a'):\n",
    "        link = i.get('href')\n",
    "        if any(re.findall('asistencias', link)):\n",
    "            links_asistencias_sesion.append(main_link.split('.gob.mx')[0] + '.gob.mx'+'/' + link)\n",
    "    return(links_asistencias_sesion)\n",
    "\n",
    "def obtain_links_days(main_link):\n",
    "    r = requests.get(main_link)\n",
    "    soup = BeautifulSoup(r.content, 'html.parser')\n",
    "    \n",
    "    links_asistencias_sesion = []\n",
    "    partidos = []\n",
    "    for i in soup.findAll(\"table\")[0].findAll('a'):\n",
    "        link = i.get('href')\n",
    "        if any(re.findall('asisteinifinsesion', link)):\n",
    "            links_asistencias_sesion.append(main_link.split('.gob.mx')[0] + '.gob.mx'+'/' + link)\n",
    "    return(links_asistencias_sesion)\n",
    "\n",
    "def obtain_partyAttendance(link):\n",
    "    r = requests.get(link)\n",
    "    soup = BeautifulSoup(r.content, 'html.parser')\n",
    "    links_asistencias = []\n",
    "    partidos = []\n",
    "    for i in soup.findAll('a'):\n",
    "        h = i.get('href')\n",
    "        if any(re.findall('listados_asistencias', h)):\n",
    "            links_asistencias.append(link.split('.gob.mx')[0] + '.gob.mx'+'/' + h)\n",
    "            partidos.append(re.sub('[ ]+$', '', re.sub('^[ ]+', '', i.text)))\n",
    "    return(links_asistencias, partidos)\n"
   ]
  },
  {
   "cell_type": "code",
   "execution_count": null,
   "metadata": {},
   "outputs": [],
   "source": []
  },
  {
   "cell_type": "code",
   "execution_count": null,
   "metadata": {},
   "outputs": [],
   "source": []
  },
  {
   "cell_type": "code",
   "execution_count": null,
   "metadata": {},
   "outputs": [],
   "source": []
  },
  {
   "cell_type": "code",
   "execution_count": 55,
   "metadata": {},
   "outputs": [],
   "source": [
    "def month_to_num(x):\n",
    "    if x == 'Enero':\n",
    "        return(1)\n",
    "    elif x == 'Febrero':\n",
    "        return(2)\n",
    "    elif x == 'Marzo':\n",
    "        return(3)\n",
    "    elif x == 'Abril':\n",
    "        return(4)\n",
    "    elif x == 'Mayo':\n",
    "        return(5)\n",
    "    elif x == 'Junio':\n",
    "        return(6)\n",
    "    elif x == 'Julio':\n",
    "        return(7)\n",
    "    elif x == 'Agosto':\n",
    "        return(8)\n",
    "    elif x == 'Septiembre':\n",
    "        return(9)\n",
    "    elif x == 'Octubre':\n",
    "        return(10)\n",
    "    elif x == 'Noviembre':\n",
    "        return(11)\n",
    "    elif x == 'Diciembre':\n",
    "        return(12)"
   ]
  },
  {
   "cell_type": "code",
   "execution_count": 60,
   "metadata": {},
   "outputs": [],
   "source": [
    "import unidecode"
   ]
  },
  {
   "cell_type": "code",
   "execution_count": 56,
   "metadata": {
    "scrolled": true
   },
   "outputs": [],
   "source": [
    "def obtain_attendance(link, legislatura, partido):\n",
    "    r = requests.get(link)\n",
    "    soup = BeautifulSoup(r.content, 'html.parser')\n",
    "    \n",
    "    temp = re.sub('[ ]+$', '' , re.sub('^[ ]+', '', soup.findAll('u')[0].text))\n",
    "    date_session = datetime.date(int(temp.split('-')[2]), month_to_num(temp.split('-')[1]), int(temp.split('-')[0]))\n",
    "    \n",
    "    \n",
    "    year_legis = []\n",
    "    month_legis = []\n",
    "    day_legis = []\n",
    "    members = []\n",
    "    party = []\n",
    "    type_at = []\n",
    "    legis = []\n",
    "    for i in soup.findAll('tr')[9:]:\n",
    "        try:\n",
    "            if any(re.findall('[a-z]+', i.findAll('td')[0].text)):\n",
    "                continue\n",
    "            else:\n",
    "                members.append(unidecode.unidecode(i.findAll('td')[1].text))\n",
    "                type_at.append(i.findAll('td')[2].text)\n",
    "                \n",
    "                party.append(partido)\n",
    "                year_legis.append(date_session.year)\n",
    "                month_legis.append(date_session.month)\n",
    "                day_legis.append(date_session.day)\n",
    "                legis.append(legislatura)\n",
    "        except:\n",
    "            continue\n",
    "            \n",
    "    return(pd.DataFrame({'legislatura':legis, \n",
    "                 'year_session':year_legis, \n",
    "                 'month_session':month_legis, \n",
    "                 'day_session':day_legis, \n",
    "                 'member':members, \n",
    "                 'party':party, \n",
    "                 'type_attendance':type_at\n",
    "                 }))\n",
    "\n",
    "    "
   ]
  },
  {
   "cell_type": "code",
   "execution_count": 80,
   "metadata": {},
   "outputs": [],
   "source": [
    "link_legislaturas =[\n",
    "    #'http://sitllx.diputados.gob.mx/asistencias_diputados_todosnp.php', \n",
    "   # 'http://sitllxi.diputados.gob.mx/asistencias_diputados_todosnplxi.php', \n",
    "    'http://sitllxiii.diputados.gob.mx/asistencias_diputados_todosnplxiii.php', \n",
    "   #'http://sitl.diputados.gob.mx/LXIV_leg/asistencias_diputados_todosnplxiv.php'\n",
    "]"
   ]
  },
  {
   "cell_type": "code",
   "execution_count": 74,
   "metadata": {},
   "outputs": [
    {
     "data": {
      "text/plain": [
       "'http://sitl.diputados.gob.mx/LXIV_leg/listados_asistenciasnplxiv.php?partidot=14&sesiont=104'"
      ]
     },
     "execution_count": 74,
     "metadata": {},
     "output_type": "execute_result"
    }
   ],
   "source": [
    "link4"
   ]
  },
  {
   "cell_type": "code",
   "execution_count": null,
   "metadata": {},
   "outputs": [],
   "source": []
  },
  {
   "cell_type": "code",
   "execution_count": 81,
   "metadata": {
    "scrolled": true
   },
   "outputs": [
    {
     "name": "stderr",
     "output_type": "stream",
     "text": [
      "  0%|          | 0/2 [00:00<?, ?it/s]\n",
      "  0%|          | 0/8 [00:00<?, ?it/s]\u001b[A\n",
      "\n",
      "  0%|          | 0/35 [00:00<?, ?it/s]\u001b[A\u001b[A\n",
      "\n",
      "  3%|▎         | 1/35 [00:02<01:23,  2.47s/it]\u001b[A\u001b[A\n",
      "\n",
      "  6%|▌         | 2/35 [00:04<01:21,  2.46s/it]\u001b[A\u001b[A\n",
      "\n",
      "  9%|▊         | 3/35 [00:08<01:29,  2.78s/it]\u001b[A\u001b[A\n",
      "\n",
      " 11%|█▏        | 4/35 [00:11<01:30,  2.90s/it]\u001b[A\u001b[A\n",
      "\n",
      " 14%|█▍        | 5/35 [00:14<01:23,  2.77s/it]\u001b[A\u001b[A\n",
      "\n",
      " 17%|█▋        | 6/35 [00:17<01:25,  2.96s/it]\u001b[A\u001b[A\n",
      "\n",
      " 20%|██        | 7/35 [00:19<01:18,  2.80s/it]\u001b[A\u001b[A\n",
      "\n",
      " 23%|██▎       | 8/35 [00:22<01:12,  2.68s/it]\u001b[A\u001b[A\n",
      "\n",
      " 26%|██▌       | 9/35 [00:24<01:07,  2.61s/it]\u001b[A\u001b[A\n",
      "\n",
      " 29%|██▊       | 10/35 [00:27<01:04,  2.56s/it]\u001b[A\u001b[A\n",
      "\n",
      " 31%|███▏      | 11/35 [00:29<01:01,  2.56s/it]\u001b[A\u001b[A\n",
      "\n",
      " 34%|███▍      | 12/35 [00:32<00:58,  2.54s/it]\u001b[A\u001b[A\n",
      "\n",
      " 37%|███▋      | 13/35 [00:34<00:55,  2.52s/it]\u001b[A\u001b[A\n",
      "\n",
      " 40%|████      | 14/35 [00:37<00:52,  2.48s/it]\u001b[A\u001b[A\n",
      "\n",
      " 43%|████▎     | 15/35 [00:39<00:49,  2.47s/it]\u001b[A\u001b[A\n",
      "\n",
      " 46%|████▌     | 16/35 [00:41<00:46,  2.45s/it]\u001b[A\u001b[A\n",
      "\n",
      " 49%|████▊     | 17/35 [00:44<00:44,  2.47s/it]\u001b[A\u001b[A\n",
      "\n",
      " 51%|█████▏    | 18/35 [00:46<00:41,  2.46s/it]\u001b[A\u001b[A\n",
      "\n",
      " 54%|█████▍    | 19/35 [00:49<00:39,  2.49s/it]\u001b[A\u001b[A\n",
      "\n",
      " 57%|█████▋    | 20/35 [00:51<00:36,  2.46s/it]\u001b[A\u001b[A\n",
      "\n",
      " 60%|██████    | 21/35 [00:54<00:34,  2.49s/it]\u001b[A\u001b[A\n",
      "\n",
      " 63%|██████▎   | 22/35 [00:56<00:32,  2.46s/it]\u001b[A\u001b[A\n",
      "\n",
      " 66%|██████▌   | 23/35 [01:01<00:37,  3.09s/it]\u001b[A\u001b[A\n",
      "\n",
      " 69%|██████▊   | 24/35 [01:07<00:43,  3.94s/it]\u001b[A\u001b[A\n",
      "\n",
      " 71%|███████▏  | 25/35 [01:11<00:39,  3.96s/it]\u001b[A\u001b[A\n",
      "\n",
      " 74%|███████▍  | 26/35 [01:13<00:32,  3.56s/it]\u001b[A\u001b[A\n",
      "\n",
      " 77%|███████▋  | 27/35 [01:16<00:25,  3.24s/it]\u001b[A\u001b[A\n",
      "\n",
      " 80%|████████  | 28/35 [01:18<00:21,  3.01s/it]\u001b[A\u001b[A\n",
      "\n",
      " 83%|████████▎ | 29/35 [01:21<00:16,  2.81s/it]\u001b[A\u001b[A\n",
      "\n",
      " 86%|████████▌ | 30/35 [01:23<00:13,  2.71s/it]\u001b[A\u001b[A\n",
      "\n",
      " 89%|████████▊ | 31/35 [01:26<00:10,  2.66s/it]\u001b[A\u001b[A\n",
      "\n",
      " 91%|█████████▏| 32/35 [01:28<00:07,  2.57s/it]\u001b[A\u001b[A\n",
      "\n",
      " 94%|█████████▍| 33/35 [01:31<00:05,  2.53s/it]\u001b[A\u001b[A\n",
      "\n",
      " 97%|█████████▋| 34/35 [01:33<00:02,  2.49s/it]\u001b[A\u001b[A\n",
      "\n",
      "100%|██████████| 35/35 [01:35<00:00,  2.74s/it]\u001b[A\u001b[A\n",
      "\n",
      " 12%|█▎        | 1/8 [01:36<11:13, 96.15s/it]\u001b[A\n",
      "\n",
      "  0%|          | 0/29 [00:00<?, ?it/s]\u001b[A\u001b[A\n",
      "\n",
      "  3%|▎         | 1/29 [00:06<02:48,  6.03s/it]\u001b[A\u001b[A\n",
      "\n",
      "  7%|▋         | 2/29 [00:08<02:13,  4.94s/it]\u001b[A\u001b[A"
     ]
    },
    {
     "name": "stdout",
     "output_type": "stream",
     "text": [
      "http://sitllxiii.diputados.gob.mx/./listados_asistenciasnplxiii.php?partidot=16&sesiont=38\n"
     ]
    },
    {
     "name": "stderr",
     "output_type": "stream",
     "text": [
      "\n",
      "\n",
      " 10%|█         | 3/29 [00:10<01:49,  4.22s/it]\u001b[A\u001b[A"
     ]
    },
    {
     "name": "stdout",
     "output_type": "stream",
     "text": [
      "http://sitllxiii.diputados.gob.mx/./listados_asistenciasnplxiii.php?partidot=16&sesiont=39\n"
     ]
    },
    {
     "name": "stderr",
     "output_type": "stream",
     "text": [
      "\n",
      "\n",
      " 14%|█▍        | 4/29 [00:13<01:31,  3.68s/it]\u001b[A\u001b[A"
     ]
    },
    {
     "name": "stdout",
     "output_type": "stream",
     "text": [
      "http://sitllxiii.diputados.gob.mx/./listados_asistenciasnplxiii.php?partidot=16&sesiont=40\n"
     ]
    },
    {
     "name": "stderr",
     "output_type": "stream",
     "text": [
      "\n",
      "\n",
      " 17%|█▋        | 5/29 [00:15<01:19,  3.31s/it]\u001b[A\u001b[A"
     ]
    },
    {
     "name": "stdout",
     "output_type": "stream",
     "text": [
      "http://sitllxiii.diputados.gob.mx/./listados_asistenciasnplxiii.php?partidot=16&sesiont=41\n"
     ]
    },
    {
     "name": "stderr",
     "output_type": "stream",
     "text": [
      "\n",
      "\n",
      " 21%|██        | 6/29 [00:18<01:09,  3.04s/it]\u001b[A\u001b[A"
     ]
    },
    {
     "name": "stdout",
     "output_type": "stream",
     "text": [
      "http://sitllxiii.diputados.gob.mx/./listados_asistenciasnplxiii.php?partidot=16&sesiont=42\n"
     ]
    },
    {
     "name": "stderr",
     "output_type": "stream",
     "text": [
      "\n",
      "\n",
      " 24%|██▍       | 7/29 [00:20<01:03,  2.87s/it]\u001b[A\u001b[A"
     ]
    },
    {
     "name": "stdout",
     "output_type": "stream",
     "text": [
      "http://sitllxiii.diputados.gob.mx/./listados_asistenciasnplxiii.php?partidot=16&sesiont=43\n"
     ]
    },
    {
     "name": "stderr",
     "output_type": "stream",
     "text": [
      "\n",
      "\n",
      " 28%|██▊       | 8/29 [00:23<00:57,  2.75s/it]\u001b[A\u001b[A"
     ]
    },
    {
     "name": "stdout",
     "output_type": "stream",
     "text": [
      "http://sitllxiii.diputados.gob.mx/./listados_asistenciasnplxiii.php?partidot=16&sesiont=44\n"
     ]
    },
    {
     "name": "stderr",
     "output_type": "stream",
     "text": [
      "\n",
      "\n",
      " 31%|███       | 9/29 [00:25<00:52,  2.64s/it]\u001b[A\u001b[A"
     ]
    },
    {
     "name": "stdout",
     "output_type": "stream",
     "text": [
      "http://sitllxiii.diputados.gob.mx/./listados_asistenciasnplxiii.php?partidot=16&sesiont=45\n"
     ]
    },
    {
     "name": "stderr",
     "output_type": "stream",
     "text": [
      "\n",
      "\n",
      " 34%|███▍      | 10/29 [00:29<00:56,  2.97s/it]\u001b[A\u001b[A"
     ]
    },
    {
     "name": "stdout",
     "output_type": "stream",
     "text": [
      "http://sitllxiii.diputados.gob.mx/./listados_asistenciasnplxiii.php?partidot=16&sesiont=46\n"
     ]
    },
    {
     "name": "stderr",
     "output_type": "stream",
     "text": [
      "\n",
      "\n",
      " 38%|███▊      | 11/29 [00:32<00:52,  2.90s/it]\u001b[A\u001b[A"
     ]
    },
    {
     "name": "stdout",
     "output_type": "stream",
     "text": [
      "http://sitllxiii.diputados.gob.mx/./listados_asistenciasnplxiii.php?partidot=16&sesiont=47\n"
     ]
    },
    {
     "name": "stderr",
     "output_type": "stream",
     "text": [
      "\n",
      "\n",
      " 41%|████▏     | 12/29 [00:36<00:55,  3.24s/it]\u001b[A\u001b[A"
     ]
    },
    {
     "name": "stdout",
     "output_type": "stream",
     "text": [
      "http://sitllxiii.diputados.gob.mx/./listados_asistenciasnplxiii.php?partidot=16&sesiont=48\n"
     ]
    },
    {
     "name": "stderr",
     "output_type": "stream",
     "text": [
      "\n",
      "\n",
      " 45%|████▍     | 13/29 [00:38<00:48,  3.00s/it]\u001b[A\u001b[A"
     ]
    },
    {
     "name": "stdout",
     "output_type": "stream",
     "text": [
      "http://sitllxiii.diputados.gob.mx/./listados_asistenciasnplxiii.php?partidot=16&sesiont=49\n"
     ]
    },
    {
     "name": "stderr",
     "output_type": "stream",
     "text": [
      "\n",
      "\n",
      " 48%|████▊     | 14/29 [00:40<00:42,  2.84s/it]\u001b[A\u001b[A"
     ]
    },
    {
     "name": "stdout",
     "output_type": "stream",
     "text": [
      "http://sitllxiii.diputados.gob.mx/./listados_asistenciasnplxiii.php?partidot=16&sesiont=50\n"
     ]
    },
    {
     "name": "stderr",
     "output_type": "stream",
     "text": [
      "\n",
      "\n",
      " 52%|█████▏    | 15/29 [00:43<00:38,  2.76s/it]\u001b[A\u001b[A"
     ]
    },
    {
     "name": "stdout",
     "output_type": "stream",
     "text": [
      "http://sitllxiii.diputados.gob.mx/./listados_asistenciasnplxiii.php?partidot=16&sesiont=51\n"
     ]
    },
    {
     "name": "stderr",
     "output_type": "stream",
     "text": [
      "\n",
      "\n",
      " 55%|█████▌    | 16/29 [00:46<00:34,  2.67s/it]\u001b[A\u001b[A"
     ]
    },
    {
     "name": "stdout",
     "output_type": "stream",
     "text": [
      "http://sitllxiii.diputados.gob.mx/./listados_asistenciasnplxiii.php?partidot=16&sesiont=52\n"
     ]
    },
    {
     "name": "stderr",
     "output_type": "stream",
     "text": [
      "\n",
      "\n",
      " 59%|█████▊    | 17/29 [00:48<00:31,  2.61s/it]\u001b[A\u001b[A"
     ]
    },
    {
     "name": "stdout",
     "output_type": "stream",
     "text": [
      "http://sitllxiii.diputados.gob.mx/./listados_asistenciasnplxiii.php?partidot=16&sesiont=53\n"
     ]
    },
    {
     "name": "stderr",
     "output_type": "stream",
     "text": [
      "\n",
      "\n",
      " 62%|██████▏   | 18/29 [00:50<00:28,  2.57s/it]\u001b[A\u001b[A"
     ]
    },
    {
     "name": "stdout",
     "output_type": "stream",
     "text": [
      "http://sitllxiii.diputados.gob.mx/./listados_asistenciasnplxiii.php?partidot=16&sesiont=54\n"
     ]
    },
    {
     "name": "stderr",
     "output_type": "stream",
     "text": [
      "\n",
      "\n",
      " 66%|██████▌   | 19/29 [00:53<00:25,  2.52s/it]\u001b[A\u001b[A"
     ]
    },
    {
     "name": "stdout",
     "output_type": "stream",
     "text": [
      "http://sitllxiii.diputados.gob.mx/./listados_asistenciasnplxiii.php?partidot=16&sesiont=55\n"
     ]
    },
    {
     "name": "stderr",
     "output_type": "stream",
     "text": [
      "\n",
      "\n",
      " 69%|██████▉   | 20/29 [00:55<00:22,  2.51s/it]\u001b[A\u001b[A"
     ]
    },
    {
     "name": "stdout",
     "output_type": "stream",
     "text": [
      "http://sitllxiii.diputados.gob.mx/./listados_asistenciasnplxiii.php?partidot=16&sesiont=56\n"
     ]
    },
    {
     "name": "stderr",
     "output_type": "stream",
     "text": [
      "\n",
      "\n",
      " 72%|███████▏  | 21/29 [00:58<00:20,  2.52s/it]\u001b[A\u001b[A"
     ]
    },
    {
     "name": "stdout",
     "output_type": "stream",
     "text": [
      "http://sitllxiii.diputados.gob.mx/./listados_asistenciasnplxiii.php?partidot=16&sesiont=57\n"
     ]
    },
    {
     "name": "stderr",
     "output_type": "stream",
     "text": [
      "\n",
      "\n",
      " 76%|███████▌  | 22/29 [01:00<00:17,  2.50s/it]\u001b[A\u001b[A"
     ]
    },
    {
     "name": "stdout",
     "output_type": "stream",
     "text": [
      "http://sitllxiii.diputados.gob.mx/./listados_asistenciasnplxiii.php?partidot=16&sesiont=58\n"
     ]
    },
    {
     "name": "stderr",
     "output_type": "stream",
     "text": [
      "\n",
      "\n",
      " 79%|███████▉  | 23/29 [01:03<00:14,  2.49s/it]\u001b[A\u001b[A"
     ]
    },
    {
     "name": "stdout",
     "output_type": "stream",
     "text": [
      "http://sitllxiii.diputados.gob.mx/./listados_asistenciasnplxiii.php?partidot=16&sesiont=59\n"
     ]
    },
    {
     "name": "stderr",
     "output_type": "stream",
     "text": [
      "\n",
      "\n",
      " 83%|████████▎ | 24/29 [01:05<00:12,  2.47s/it]\u001b[A\u001b[A"
     ]
    },
    {
     "name": "stdout",
     "output_type": "stream",
     "text": [
      "http://sitllxiii.diputados.gob.mx/./listados_asistenciasnplxiii.php?partidot=16&sesiont=60\n"
     ]
    },
    {
     "name": "stderr",
     "output_type": "stream",
     "text": [
      "\n",
      "\n",
      " 86%|████████▌ | 25/29 [01:08<00:09,  2.48s/it]\u001b[A\u001b[A"
     ]
    },
    {
     "name": "stdout",
     "output_type": "stream",
     "text": [
      "http://sitllxiii.diputados.gob.mx/./listados_asistenciasnplxiii.php?partidot=16&sesiont=61\n"
     ]
    },
    {
     "name": "stderr",
     "output_type": "stream",
     "text": [
      "\n",
      "\n",
      " 90%|████████▉ | 26/29 [01:10<00:07,  2.45s/it]\u001b[A\u001b[A"
     ]
    },
    {
     "name": "stdout",
     "output_type": "stream",
     "text": [
      "http://sitllxiii.diputados.gob.mx/./listados_asistenciasnplxiii.php?partidot=16&sesiont=62\n"
     ]
    },
    {
     "name": "stderr",
     "output_type": "stream",
     "text": [
      "\n",
      "\n",
      " 93%|█████████▎| 27/29 [01:13<00:04,  2.45s/it]\u001b[A\u001b[A"
     ]
    },
    {
     "name": "stdout",
     "output_type": "stream",
     "text": [
      "http://sitllxiii.diputados.gob.mx/./listados_asistenciasnplxiii.php?partidot=16&sesiont=63\n"
     ]
    },
    {
     "name": "stderr",
     "output_type": "stream",
     "text": [
      "\n",
      "\n",
      " 97%|█████████▋| 28/29 [01:15<00:02,  2.43s/it]\u001b[A\u001b[A"
     ]
    },
    {
     "name": "stdout",
     "output_type": "stream",
     "text": [
      "http://sitllxiii.diputados.gob.mx/./listados_asistenciasnplxiii.php?partidot=16&sesiont=64\n"
     ]
    },
    {
     "name": "stderr",
     "output_type": "stream",
     "text": [
      "\n",
      "\n",
      "100%|██████████| 29/29 [01:18<00:00,  2.70s/it]\u001b[A\u001b[A\n",
      "\n",
      " 25%|██▌       | 2/8 [02:54<09:04, 90.83s/it]\u001b[A\n",
      "\n",
      "  0%|          | 0/5 [00:00<?, ?it/s]\u001b[A\u001b[A"
     ]
    },
    {
     "name": "stdout",
     "output_type": "stream",
     "text": [
      "http://sitllxiii.diputados.gob.mx/./listados_asistenciasnplxiii.php?partidot=16&sesiont=65\n"
     ]
    },
    {
     "name": "stderr",
     "output_type": "stream",
     "text": [
      "\n",
      "\n",
      " 20%|██        | 1/5 [00:02<00:09,  2.45s/it]\u001b[A\u001b[A"
     ]
    },
    {
     "name": "stdout",
     "output_type": "stream",
     "text": [
      "http://sitllxiii.diputados.gob.mx/./listados_asistenciasnplxiii.php?partidot=16&sesiont=66\n"
     ]
    },
    {
     "name": "stderr",
     "output_type": "stream",
     "text": [
      "\n",
      "\n",
      " 40%|████      | 2/5 [00:04<00:07,  2.42s/it]\u001b[A\u001b[A"
     ]
    },
    {
     "name": "stdout",
     "output_type": "stream",
     "text": [
      "http://sitllxiii.diputados.gob.mx/./listados_asistenciasnplxiii.php?partidot=16&sesiont=67\n"
     ]
    },
    {
     "name": "stderr",
     "output_type": "stream",
     "text": [
      "\n",
      "\n",
      " 60%|██████    | 3/5 [00:07<00:04,  2.46s/it]\u001b[A\u001b[A"
     ]
    },
    {
     "name": "stdout",
     "output_type": "stream",
     "text": [
      "http://sitllxiii.diputados.gob.mx/./listados_asistenciasnplxiii.php?partidot=16&sesiont=68\n"
     ]
    },
    {
     "name": "stderr",
     "output_type": "stream",
     "text": [
      "\n",
      "\n",
      " 80%|████████  | 4/5 [00:09<00:02,  2.43s/it]\u001b[A\u001b[A"
     ]
    },
    {
     "name": "stdout",
     "output_type": "stream",
     "text": [
      "http://sitllxiii.diputados.gob.mx/./listados_asistenciasnplxiii.php?partidot=16&sesiont=69\n"
     ]
    },
    {
     "name": "stderr",
     "output_type": "stream",
     "text": [
      "\n",
      "\n",
      "100%|██████████| 5/5 [00:12<00:00,  2.42s/it]\u001b[A\u001b[A\n",
      "\n",
      " 38%|███▊      | 3/8 [03:06<05:36, 67.26s/it]\u001b[A\n",
      "\n",
      "  0%|          | 0/1 [00:00<?, ?it/s]\u001b[A\u001b[A"
     ]
    },
    {
     "name": "stdout",
     "output_type": "stream",
     "text": [
      "http://sitllxiii.diputados.gob.mx/./listados_asistenciasnplxiii.php?partidot=16&sesiont=70\n"
     ]
    },
    {
     "name": "stderr",
     "output_type": "stream",
     "text": [
      "\n",
      "\n",
      "100%|██████████| 1/1 [00:04<00:00,  4.10s/it]\u001b[A\u001b[A\n",
      "\n",
      " 50%|█████     | 4/8 [03:11<03:13, 48.35s/it]\u001b[A"
     ]
    },
    {
     "name": "stdout",
     "output_type": "stream",
     "text": [
      "http://sitllxiii.diputados.gob.mx/./listados_asistenciasnplxiii.php?partidot=16&sesiont=71\n"
     ]
    },
    {
     "name": "stderr",
     "output_type": "stream",
     "text": [
      "\n",
      "\n",
      "  0%|          | 0/34 [00:00<?, ?it/s]\u001b[A\u001b[A\n",
      "\n",
      "  3%|▎         | 1/34 [00:02<01:21,  2.48s/it]\u001b[A\u001b[A"
     ]
    },
    {
     "name": "stdout",
     "output_type": "stream",
     "text": [
      "http://sitllxiii.diputados.gob.mx/./listados_asistenciasnplxiii.php?partidot=16&sesiont=73\n"
     ]
    },
    {
     "name": "stderr",
     "output_type": "stream",
     "text": [
      "\n",
      "\n",
      "  6%|▌         | 2/34 [00:04<01:19,  2.48s/it]\u001b[A\u001b[A"
     ]
    },
    {
     "name": "stdout",
     "output_type": "stream",
     "text": [
      "http://sitllxiii.diputados.gob.mx/./listados_asistenciasnplxiii.php?partidot=16&sesiont=74\n"
     ]
    },
    {
     "name": "stderr",
     "output_type": "stream",
     "text": [
      "\n",
      "\n",
      "  9%|▉         | 3/34 [00:07<01:16,  2.46s/it]\u001b[A\u001b[A"
     ]
    },
    {
     "name": "stdout",
     "output_type": "stream",
     "text": [
      "http://sitllxiii.diputados.gob.mx/./listados_asistenciasnplxiii.php?partidot=16&sesiont=75\n"
     ]
    },
    {
     "name": "stderr",
     "output_type": "stream",
     "text": [
      "\n",
      "\n",
      " 12%|█▏        | 4/34 [00:10<01:16,  2.55s/it]\u001b[A\u001b[A"
     ]
    },
    {
     "name": "stdout",
     "output_type": "stream",
     "text": [
      "http://sitllxiii.diputados.gob.mx/./listados_asistenciasnplxiii.php?partidot=16&sesiont=76\n"
     ]
    },
    {
     "name": "stderr",
     "output_type": "stream",
     "text": [
      "\n",
      "\n",
      " 15%|█▍        | 5/34 [00:12<01:15,  2.60s/it]\u001b[A\u001b[A"
     ]
    },
    {
     "name": "stdout",
     "output_type": "stream",
     "text": [
      "http://sitllxiii.diputados.gob.mx/./listados_asistenciasnplxiii.php?partidot=16&sesiont=77\n"
     ]
    },
    {
     "name": "stderr",
     "output_type": "stream",
     "text": [
      "\n",
      "\n",
      " 18%|█▊        | 6/34 [00:15<01:12,  2.58s/it]\u001b[A\u001b[A"
     ]
    },
    {
     "name": "stdout",
     "output_type": "stream",
     "text": [
      "http://sitllxiii.diputados.gob.mx/./listados_asistenciasnplxiii.php?partidot=16&sesiont=78\n"
     ]
    },
    {
     "name": "stderr",
     "output_type": "stream",
     "text": [
      "\n",
      "\n",
      " 21%|██        | 7/34 [00:18<01:13,  2.71s/it]\u001b[A\u001b[A"
     ]
    },
    {
     "name": "stdout",
     "output_type": "stream",
     "text": [
      "http://sitllxiii.diputados.gob.mx/./listados_asistenciasnplxiii.php?partidot=16&sesiont=79\n"
     ]
    },
    {
     "name": "stderr",
     "output_type": "stream",
     "text": [
      "\n",
      "\n",
      " 24%|██▎       | 8/34 [00:21<01:10,  2.70s/it]\u001b[A\u001b[A"
     ]
    },
    {
     "name": "stdout",
     "output_type": "stream",
     "text": [
      "http://sitllxiii.diputados.gob.mx/./listados_asistenciasnplxiii.php?partidot=16&sesiont=80\n"
     ]
    },
    {
     "name": "stderr",
     "output_type": "stream",
     "text": [
      "\n",
      "\n",
      " 26%|██▋       | 9/34 [00:23<01:06,  2.65s/it]\u001b[A\u001b[A"
     ]
    },
    {
     "name": "stdout",
     "output_type": "stream",
     "text": [
      "http://sitllxiii.diputados.gob.mx/./listados_asistenciasnplxiii.php?partidot=16&sesiont=81\n"
     ]
    },
    {
     "name": "stderr",
     "output_type": "stream",
     "text": [
      "\n",
      "\n",
      " 29%|██▉       | 10/34 [00:26<01:02,  2.59s/it]\u001b[A\u001b[A"
     ]
    },
    {
     "name": "stdout",
     "output_type": "stream",
     "text": [
      "http://sitllxiii.diputados.gob.mx/./listados_asistenciasnplxiii.php?partidot=16&sesiont=82\n"
     ]
    },
    {
     "name": "stderr",
     "output_type": "stream",
     "text": [
      "\n",
      "\n",
      " 32%|███▏      | 11/34 [00:28<00:58,  2.55s/it]\u001b[A\u001b[A"
     ]
    },
    {
     "name": "stdout",
     "output_type": "stream",
     "text": [
      "http://sitllxiii.diputados.gob.mx/./listados_asistenciasnplxiii.php?partidot=16&sesiont=83\n"
     ]
    },
    {
     "name": "stderr",
     "output_type": "stream",
     "text": [
      "\n",
      "\n",
      " 35%|███▌      | 12/34 [00:31<00:56,  2.59s/it]\u001b[A\u001b[A"
     ]
    },
    {
     "name": "stdout",
     "output_type": "stream",
     "text": [
      "http://sitllxiii.diputados.gob.mx/./listados_asistenciasnplxiii.php?partidot=16&sesiont=84\n"
     ]
    },
    {
     "name": "stderr",
     "output_type": "stream",
     "text": [
      "\n",
      "\n",
      " 38%|███▊      | 13/34 [00:33<00:54,  2.59s/it]\u001b[A\u001b[A"
     ]
    },
    {
     "name": "stdout",
     "output_type": "stream",
     "text": [
      "http://sitllxiii.diputados.gob.mx/./listados_asistenciasnplxiii.php?partidot=16&sesiont=85\n"
     ]
    },
    {
     "name": "stderr",
     "output_type": "stream",
     "text": [
      "\n",
      "\n",
      " 41%|████      | 14/34 [00:36<00:51,  2.59s/it]\u001b[A\u001b[A"
     ]
    },
    {
     "name": "stdout",
     "output_type": "stream",
     "text": [
      "http://sitllxiii.diputados.gob.mx/./listados_asistenciasnplxiii.php?partidot=16&sesiont=86\n"
     ]
    },
    {
     "name": "stderr",
     "output_type": "stream",
     "text": [
      "\n",
      "\n",
      " 44%|████▍     | 15/34 [00:38<00:47,  2.52s/it]\u001b[A\u001b[A"
     ]
    },
    {
     "name": "stdout",
     "output_type": "stream",
     "text": [
      "http://sitllxiii.diputados.gob.mx/./listados_asistenciasnplxiii.php?partidot=16&sesiont=87\n"
     ]
    },
    {
     "name": "stderr",
     "output_type": "stream",
     "text": [
      "\n",
      "\n",
      " 47%|████▋     | 16/34 [00:41<00:45,  2.51s/it]\u001b[A\u001b[A"
     ]
    },
    {
     "name": "stdout",
     "output_type": "stream",
     "text": [
      "http://sitllxiii.diputados.gob.mx/./listados_asistenciasnplxiii.php?partidot=16&sesiont=88\n"
     ]
    },
    {
     "name": "stderr",
     "output_type": "stream",
     "text": [
      "\n",
      "\n",
      " 50%|█████     | 17/34 [00:43<00:42,  2.52s/it]\u001b[A\u001b[A"
     ]
    },
    {
     "name": "stdout",
     "output_type": "stream",
     "text": [
      "http://sitllxiii.diputados.gob.mx/./listados_asistenciasnplxiii.php?partidot=16&sesiont=89\n"
     ]
    },
    {
     "name": "stderr",
     "output_type": "stream",
     "text": [
      "\n",
      "\n",
      " 53%|█████▎    | 18/34 [00:46<00:40,  2.50s/it]\u001b[A\u001b[A"
     ]
    },
    {
     "name": "stdout",
     "output_type": "stream",
     "text": [
      "http://sitllxiii.diputados.gob.mx/./listados_asistenciasnplxiii.php?partidot=16&sesiont=90\n"
     ]
    },
    {
     "name": "stderr",
     "output_type": "stream",
     "text": [
      "\n",
      "\n",
      " 56%|█████▌    | 19/34 [00:48<00:37,  2.48s/it]\u001b[A\u001b[A"
     ]
    },
    {
     "name": "stdout",
     "output_type": "stream",
     "text": [
      "http://sitllxiii.diputados.gob.mx/./listados_asistenciasnplxiii.php?partidot=16&sesiont=91\n"
     ]
    },
    {
     "name": "stderr",
     "output_type": "stream",
     "text": [
      "\n",
      "\n",
      " 59%|█████▉    | 20/34 [00:51<00:34,  2.45s/it]\u001b[A\u001b[A"
     ]
    },
    {
     "name": "stdout",
     "output_type": "stream",
     "text": [
      "http://sitllxiii.diputados.gob.mx/./listados_asistenciasnplxiii.php?partidot=16&sesiont=92\n"
     ]
    },
    {
     "name": "stderr",
     "output_type": "stream",
     "text": [
      "\n",
      "\n",
      " 62%|██████▏   | 21/34 [00:53<00:31,  2.44s/it]\u001b[A\u001b[A"
     ]
    },
    {
     "name": "stdout",
     "output_type": "stream",
     "text": [
      "http://sitllxiii.diputados.gob.mx/./listados_asistenciasnplxiii.php?partidot=16&sesiont=93\n"
     ]
    },
    {
     "name": "stderr",
     "output_type": "stream",
     "text": [
      "\n",
      "\n",
      " 65%|██████▍   | 22/34 [00:55<00:29,  2.44s/it]\u001b[A\u001b[A"
     ]
    },
    {
     "name": "stdout",
     "output_type": "stream",
     "text": [
      "http://sitllxiii.diputados.gob.mx/./listados_asistenciasnplxiii.php?partidot=16&sesiont=94\n"
     ]
    },
    {
     "name": "stderr",
     "output_type": "stream",
     "text": [
      "\n",
      "\n",
      " 68%|██████▊   | 23/34 [01:00<00:34,  3.10s/it]\u001b[A\u001b[A"
     ]
    },
    {
     "name": "stdout",
     "output_type": "stream",
     "text": [
      "http://sitllxiii.diputados.gob.mx/./listados_asistenciasnplxiii.php?partidot=16&sesiont=95\n"
     ]
    },
    {
     "name": "stderr",
     "output_type": "stream",
     "text": [
      "\n",
      "\n",
      " 71%|███████   | 24/34 [01:03<00:29,  2.97s/it]\u001b[A\u001b[A"
     ]
    },
    {
     "name": "stdout",
     "output_type": "stream",
     "text": [
      "http://sitllxiii.diputados.gob.mx/./listados_asistenciasnplxiii.php?partidot=16&sesiont=96\n"
     ]
    },
    {
     "name": "stderr",
     "output_type": "stream",
     "text": [
      "\n",
      "\n",
      " 74%|███████▎  | 25/34 [01:05<00:25,  2.81s/it]\u001b[A\u001b[A"
     ]
    },
    {
     "name": "stdout",
     "output_type": "stream",
     "text": [
      "http://sitllxiii.diputados.gob.mx/./listados_asistenciasnplxiii.php?partidot=16&sesiont=97\n"
     ]
    },
    {
     "name": "stderr",
     "output_type": "stream",
     "text": [
      "\n",
      "\n",
      " 76%|███████▋  | 26/34 [01:08<00:21,  2.68s/it]\u001b[A\u001b[A"
     ]
    },
    {
     "name": "stdout",
     "output_type": "stream",
     "text": [
      "http://sitllxiii.diputados.gob.mx/./listados_asistenciasnplxiii.php?partidot=16&sesiont=98\n"
     ]
    },
    {
     "name": "stderr",
     "output_type": "stream",
     "text": [
      "\n",
      "\n",
      " 79%|███████▉  | 27/34 [01:10<00:18,  2.60s/it]\u001b[A\u001b[A"
     ]
    },
    {
     "name": "stdout",
     "output_type": "stream",
     "text": [
      "http://sitllxiii.diputados.gob.mx/./listados_asistenciasnplxiii.php?partidot=16&sesiont=99\n"
     ]
    },
    {
     "name": "stderr",
     "output_type": "stream",
     "text": [
      "\n",
      "\n",
      " 82%|████████▏ | 28/34 [01:12<00:15,  2.55s/it]\u001b[A\u001b[A"
     ]
    },
    {
     "name": "stdout",
     "output_type": "stream",
     "text": [
      "http://sitllxiii.diputados.gob.mx/./listados_asistenciasnplxiii.php?partidot=16&sesiont=100\n"
     ]
    },
    {
     "name": "stderr",
     "output_type": "stream",
     "text": [
      "\n",
      "\n",
      " 85%|████████▌ | 29/34 [01:15<00:12,  2.54s/it]\u001b[A\u001b[A"
     ]
    },
    {
     "name": "stdout",
     "output_type": "stream",
     "text": [
      "http://sitllxiii.diputados.gob.mx/./listados_asistenciasnplxiii.php?partidot=16&sesiont=101\n"
     ]
    },
    {
     "name": "stderr",
     "output_type": "stream",
     "text": [
      "\n",
      "\n",
      " 88%|████████▊ | 30/34 [01:17<00:09,  2.49s/it]\u001b[A\u001b[A"
     ]
    },
    {
     "name": "stdout",
     "output_type": "stream",
     "text": [
      "http://sitllxiii.diputados.gob.mx/./listados_asistenciasnplxiii.php?partidot=16&sesiont=102\n"
     ]
    },
    {
     "name": "stderr",
     "output_type": "stream",
     "text": [
      "\n",
      "\n",
      " 91%|█████████ | 31/34 [01:20<00:07,  2.53s/it]\u001b[A\u001b[A"
     ]
    },
    {
     "name": "stdout",
     "output_type": "stream",
     "text": [
      "http://sitllxiii.diputados.gob.mx/./listados_asistenciasnplxiii.php?partidot=16&sesiont=103\n"
     ]
    },
    {
     "name": "stderr",
     "output_type": "stream",
     "text": [
      "\n",
      "\n",
      " 94%|█████████▍| 32/34 [01:22<00:05,  2.51s/it]\u001b[A\u001b[A"
     ]
    },
    {
     "name": "stdout",
     "output_type": "stream",
     "text": [
      "http://sitllxiii.diputados.gob.mx/./listados_asistenciasnplxiii.php?partidot=16&sesiont=104\n"
     ]
    },
    {
     "name": "stderr",
     "output_type": "stream",
     "text": [
      "\n",
      "\n",
      " 97%|█████████▋| 33/34 [01:25<00:02,  2.56s/it]\u001b[A\u001b[A"
     ]
    },
    {
     "name": "stdout",
     "output_type": "stream",
     "text": [
      "http://sitllxiii.diputados.gob.mx/./listados_asistenciasnplxiii.php?partidot=16&sesiont=105\n"
     ]
    },
    {
     "name": "stderr",
     "output_type": "stream",
     "text": [
      "\n",
      "\n",
      "100%|██████████| 34/34 [01:28<00:00,  2.59s/it]\u001b[A\u001b[A\n",
      "\n",
      " 62%|██████▎   | 5/8 [04:39<03:01, 60.41s/it]\u001b[A"
     ]
    },
    {
     "name": "stdout",
     "output_type": "stream",
     "text": [
      "http://sitllxiii.diputados.gob.mx/./listados_asistenciasnplxiii.php?partidot=16&sesiont=106\n"
     ]
    },
    {
     "name": "stderr",
     "output_type": "stream",
     "text": [
      "\n",
      "\n",
      "  0%|          | 0/28 [00:00<?, ?it/s]\u001b[A\u001b[A\n",
      "\n",
      "  4%|▎         | 1/28 [00:02<01:14,  2.77s/it]\u001b[A\u001b[A"
     ]
    },
    {
     "name": "stdout",
     "output_type": "stream",
     "text": [
      "http://sitllxiii.diputados.gob.mx/./listados_asistenciasnplxiii.php?partidot=16&sesiont=107\n"
     ]
    },
    {
     "name": "stderr",
     "output_type": "stream",
     "text": [
      "\n",
      "\n",
      "  7%|▋         | 2/28 [00:05<01:09,  2.68s/it]\u001b[A\u001b[A"
     ]
    },
    {
     "name": "stdout",
     "output_type": "stream",
     "text": [
      "http://sitllxiii.diputados.gob.mx/./listados_asistenciasnplxiii.php?partidot=16&sesiont=108\n"
     ]
    },
    {
     "name": "stderr",
     "output_type": "stream",
     "text": [
      "\n",
      "\n",
      " 11%|█         | 3/28 [00:07<01:05,  2.63s/it]\u001b[A\u001b[A"
     ]
    },
    {
     "name": "stdout",
     "output_type": "stream",
     "text": [
      "http://sitllxiii.diputados.gob.mx/./listados_asistenciasnplxiii.php?partidot=16&sesiont=109\n"
     ]
    },
    {
     "name": "stderr",
     "output_type": "stream",
     "text": [
      "\n",
      "\n",
      " 14%|█▍        | 4/28 [00:10<01:02,  2.59s/it]\u001b[A\u001b[A"
     ]
    },
    {
     "name": "stdout",
     "output_type": "stream",
     "text": [
      "http://sitllxiii.diputados.gob.mx/./listados_asistenciasnplxiii.php?partidot=16&sesiont=110\n"
     ]
    },
    {
     "name": "stderr",
     "output_type": "stream",
     "text": [
      "\n",
      "\n",
      " 18%|█▊        | 5/28 [00:12<00:58,  2.56s/it]\u001b[A\u001b[A"
     ]
    },
    {
     "name": "stdout",
     "output_type": "stream",
     "text": [
      "http://sitllxiii.diputados.gob.mx/./listados_asistenciasnplxiii.php?partidot=16&sesiont=111\n"
     ]
    },
    {
     "name": "stderr",
     "output_type": "stream",
     "text": [
      "\n",
      "\n",
      " 21%|██▏       | 6/28 [00:15<00:55,  2.52s/it]\u001b[A\u001b[A"
     ]
    },
    {
     "name": "stdout",
     "output_type": "stream",
     "text": [
      "http://sitllxiii.diputados.gob.mx/./listados_asistenciasnplxiii.php?partidot=16&sesiont=112\n"
     ]
    },
    {
     "name": "stderr",
     "output_type": "stream",
     "text": [
      "\n",
      "\n",
      " 25%|██▌       | 7/28 [00:17<00:52,  2.49s/it]\u001b[A\u001b[A"
     ]
    },
    {
     "name": "stdout",
     "output_type": "stream",
     "text": [
      "http://sitllxiii.diputados.gob.mx/./listados_asistenciasnplxiii.php?partidot=16&sesiont=113\n"
     ]
    },
    {
     "name": "stderr",
     "output_type": "stream",
     "text": [
      "\n",
      "\n",
      " 29%|██▊       | 8/28 [00:19<00:49,  2.47s/it]\u001b[A\u001b[A"
     ]
    },
    {
     "name": "stdout",
     "output_type": "stream",
     "text": [
      "http://sitllxiii.diputados.gob.mx/./listados_asistenciasnplxiii.php?partidot=16&sesiont=114\n"
     ]
    },
    {
     "name": "stderr",
     "output_type": "stream",
     "text": [
      "\n",
      "\n",
      " 32%|███▏      | 9/28 [00:22<00:46,  2.43s/it]\u001b[A\u001b[A"
     ]
    },
    {
     "name": "stdout",
     "output_type": "stream",
     "text": [
      "http://sitllxiii.diputados.gob.mx/./listados_asistenciasnplxiii.php?partidot=16&sesiont=115\n"
     ]
    },
    {
     "name": "stderr",
     "output_type": "stream",
     "text": [
      "\n",
      "\n",
      " 36%|███▌      | 10/28 [00:24<00:43,  2.44s/it]\u001b[A\u001b[A"
     ]
    },
    {
     "name": "stdout",
     "output_type": "stream",
     "text": [
      "http://sitllxiii.diputados.gob.mx/./listados_asistenciasnplxiii.php?partidot=16&sesiont=116\n"
     ]
    },
    {
     "name": "stderr",
     "output_type": "stream",
     "text": [
      "\n",
      "\n",
      " 39%|███▉      | 11/28 [00:27<00:43,  2.55s/it]\u001b[A\u001b[A"
     ]
    },
    {
     "name": "stdout",
     "output_type": "stream",
     "text": [
      "http://sitllxiii.diputados.gob.mx/./listados_asistenciasnplxiii.php?partidot=16&sesiont=117\n"
     ]
    },
    {
     "name": "stderr",
     "output_type": "stream",
     "text": [
      "\n",
      "\n",
      " 43%|████▎     | 12/28 [00:31<00:45,  2.86s/it]\u001b[A\u001b[A"
     ]
    },
    {
     "name": "stdout",
     "output_type": "stream",
     "text": [
      "http://sitllxiii.diputados.gob.mx/./listados_asistenciasnplxiii.php?partidot=16&sesiont=118\n"
     ]
    },
    {
     "name": "stderr",
     "output_type": "stream",
     "text": [
      "\n",
      "\n",
      " 46%|████▋     | 13/28 [00:34<00:44,  2.93s/it]\u001b[A\u001b[A"
     ]
    },
    {
     "name": "stdout",
     "output_type": "stream",
     "text": [
      "http://sitllxiii.diputados.gob.mx/./listados_asistenciasnplxiii.php?partidot=16&sesiont=119\n"
     ]
    },
    {
     "name": "stderr",
     "output_type": "stream",
     "text": [
      "\n",
      "\n",
      " 50%|█████     | 14/28 [00:36<00:38,  2.78s/it]\u001b[A\u001b[A"
     ]
    },
    {
     "name": "stdout",
     "output_type": "stream",
     "text": [
      "http://sitllxiii.diputados.gob.mx/./listados_asistenciasnplxiii.php?partidot=16&sesiont=120\n"
     ]
    },
    {
     "name": "stderr",
     "output_type": "stream",
     "text": [
      "\n",
      "\n",
      " 54%|█████▎    | 15/28 [00:39<00:35,  2.70s/it]\u001b[A\u001b[A"
     ]
    },
    {
     "name": "stdout",
     "output_type": "stream",
     "text": [
      "http://sitllxiii.diputados.gob.mx/./listados_asistenciasnplxiii.php?partidot=16&sesiont=121\n"
     ]
    },
    {
     "name": "stderr",
     "output_type": "stream",
     "text": [
      "\n",
      "\n",
      " 57%|█████▋    | 16/28 [00:41<00:31,  2.61s/it]\u001b[A\u001b[A"
     ]
    },
    {
     "name": "stdout",
     "output_type": "stream",
     "text": [
      "http://sitllxiii.diputados.gob.mx/./listados_asistenciasnplxiii.php?partidot=16&sesiont=122\n"
     ]
    },
    {
     "name": "stderr",
     "output_type": "stream",
     "text": [
      "\n",
      "\n",
      " 61%|██████    | 17/28 [00:44<00:28,  2.58s/it]\u001b[A\u001b[A\n",
      "\n",
      " 64%|██████▍   | 18/28 [00:49<00:33,  3.32s/it]\u001b[A\u001b[A\n",
      "\n",
      " 68%|██████▊   | 19/28 [00:51<00:27,  3.10s/it]\u001b[A\u001b[A\n",
      "\n",
      " 71%|███████▏  | 20/28 [00:54<00:23,  2.91s/it]\u001b[A\u001b[A\n",
      "\n",
      " 75%|███████▌  | 21/28 [00:56<00:19,  2.77s/it]\u001b[A\u001b[A\n",
      "\n",
      " 79%|███████▊  | 22/28 [00:59<00:16,  2.71s/it]\u001b[A\u001b[A\n",
      "\n",
      " 82%|████████▏ | 23/28 [01:01<00:13,  2.62s/it]\u001b[A\u001b[A\n",
      "\n",
      " 86%|████████▌ | 24/28 [01:04<00:10,  2.59s/it]\u001b[A\u001b[A\n",
      "\n",
      " 89%|████████▉ | 25/28 [01:06<00:07,  2.53s/it]\u001b[A\u001b[A\n",
      "\n",
      " 93%|█████████▎| 26/28 [01:09<00:05,  2.52s/it]\u001b[A\u001b[A\n",
      "\n",
      " 96%|█████████▋| 27/28 [01:11<00:02,  2.52s/it]\u001b[A\u001b[A\n",
      "\n",
      "100%|██████████| 28/28 [01:13<00:00,  2.64s/it]\u001b[A\u001b[A\n",
      "\n",
      " 75%|███████▌  | 6/8 [05:53<02:09, 64.53s/it]\u001b[A\n",
      "\n",
      "  0%|          | 0/33 [00:00<?, ?it/s]\u001b[A\u001b[A\n",
      "\n",
      "  3%|▎         | 1/33 [00:02<01:20,  2.52s/it]\u001b[A\u001b[A\n",
      "\n",
      "  6%|▌         | 2/33 [00:04<01:17,  2.49s/it]\u001b[A\u001b[A\n",
      "\n",
      "  9%|▉         | 3/33 [00:07<01:14,  2.48s/it]\u001b[A\u001b[A\n",
      "\n",
      " 12%|█▏        | 4/33 [00:10<01:13,  2.52s/it]\u001b[A\u001b[A\n",
      "\n",
      " 15%|█▌        | 5/33 [00:13<01:19,  2.82s/it]\u001b[A\u001b[A\n",
      "\n",
      " 18%|█▊        | 6/33 [00:16<01:18,  2.91s/it]\u001b[A\u001b[A\n",
      "\n",
      " 21%|██        | 7/33 [00:20<01:20,  3.09s/it]\u001b[A\u001b[A\n",
      "\n",
      " 24%|██▍       | 8/33 [00:22<01:12,  2.88s/it]\u001b[A\u001b[A\n",
      "\n",
      " 27%|██▋       | 9/33 [00:25<01:06,  2.78s/it]\u001b[A\u001b[A\n",
      "\n",
      " 30%|███       | 10/33 [00:27<01:01,  2.67s/it]\u001b[A\u001b[A\n",
      "\n",
      " 33%|███▎      | 11/33 [00:30<00:58,  2.65s/it]\u001b[A\u001b[A\n",
      "\n",
      " 36%|███▋      | 12/33 [00:33<01:00,  2.88s/it]\u001b[A\u001b[A\n",
      "\n",
      " 39%|███▉      | 13/33 [00:36<00:55,  2.78s/it]\u001b[A\u001b[A\n",
      "\n",
      " 42%|████▏     | 14/33 [00:38<00:50,  2.66s/it]\u001b[A\u001b[A"
     ]
    },
    {
     "name": "stdout",
     "output_type": "stream",
     "text": [
      "http://sitllxiii.diputados.gob.mx/./listados_asistenciasnplxiii.php?partidot=9&sesiont=149\n"
     ]
    },
    {
     "name": "stderr",
     "output_type": "stream",
     "text": [
      "\n",
      "\n",
      " 45%|████▌     | 15/33 [00:40<00:46,  2.59s/it]\u001b[A\u001b[A"
     ]
    },
    {
     "name": "stdout",
     "output_type": "stream",
     "text": [
      "http://sitllxiii.diputados.gob.mx/./listados_asistenciasnplxiii.php?partidot=9&sesiont=150\n"
     ]
    },
    {
     "name": "stderr",
     "output_type": "stream",
     "text": [
      "\n",
      "\n",
      " 48%|████▊     | 16/33 [00:43<00:43,  2.56s/it]\u001b[A\u001b[A"
     ]
    },
    {
     "name": "stdout",
     "output_type": "stream",
     "text": [
      "http://sitllxiii.diputados.gob.mx/./listados_asistenciasnplxiii.php?partidot=9&sesiont=151\n"
     ]
    },
    {
     "name": "stderr",
     "output_type": "stream",
     "text": [
      "\n",
      "\n",
      " 52%|█████▏    | 17/33 [00:45<00:41,  2.56s/it]\u001b[A\u001b[A"
     ]
    },
    {
     "name": "stdout",
     "output_type": "stream",
     "text": [
      "http://sitllxiii.diputados.gob.mx/./listados_asistenciasnplxiii.php?partidot=9&sesiont=152\n"
     ]
    },
    {
     "name": "stderr",
     "output_type": "stream",
     "text": [
      "\n",
      "\n",
      " 55%|█████▍    | 18/33 [00:48<00:38,  2.56s/it]\u001b[A\u001b[A"
     ]
    },
    {
     "name": "stdout",
     "output_type": "stream",
     "text": [
      "http://sitllxiii.diputados.gob.mx/./listados_asistenciasnplxiii.php?partidot=9&sesiont=153\n"
     ]
    },
    {
     "name": "stderr",
     "output_type": "stream",
     "text": [
      "\n",
      "\n",
      " 58%|█████▊    | 19/33 [00:50<00:35,  2.52s/it]\u001b[A\u001b[A"
     ]
    },
    {
     "name": "stdout",
     "output_type": "stream",
     "text": [
      "http://sitllxiii.diputados.gob.mx/./listados_asistenciasnplxiii.php?partidot=9&sesiont=154\n"
     ]
    },
    {
     "name": "stderr",
     "output_type": "stream",
     "text": [
      "\n",
      "\n",
      " 61%|██████    | 20/33 [00:53<00:32,  2.47s/it]\u001b[A\u001b[A"
     ]
    },
    {
     "name": "stdout",
     "output_type": "stream",
     "text": [
      "http://sitllxiii.diputados.gob.mx/./listados_asistenciasnplxiii.php?partidot=9&sesiont=155\n"
     ]
    },
    {
     "name": "stderr",
     "output_type": "stream",
     "text": [
      "\n",
      "\n",
      " 64%|██████▎   | 21/33 [00:55<00:29,  2.47s/it]\u001b[A\u001b[A\n",
      "\n",
      " 67%|██████▋   | 22/33 [00:58<00:26,  2.45s/it]\u001b[A\u001b[A\n",
      "\n",
      " 70%|██████▉   | 23/33 [01:00<00:24,  2.47s/it]\u001b[A\u001b[A\n",
      "\n",
      " 73%|███████▎  | 24/33 [01:03<00:22,  2.45s/it]\u001b[A\u001b[A\n",
      "\n",
      " 76%|███████▌  | 25/33 [01:05<00:19,  2.45s/it]\u001b[A\u001b[A\n",
      "\n",
      " 79%|███████▉  | 26/33 [01:08<00:17,  2.46s/it]\u001b[A\u001b[A\n",
      "\n",
      " 82%|████████▏ | 27/33 [01:10<00:14,  2.44s/it]\u001b[A\u001b[A\n",
      "\n",
      " 85%|████████▍ | 28/33 [01:12<00:12,  2.45s/it]\u001b[A\u001b[A\n",
      "\n",
      " 88%|████████▊ | 29/33 [01:15<00:09,  2.45s/it]\u001b[A\u001b[A\n",
      "\n",
      " 91%|█████████ | 30/33 [01:19<00:08,  2.96s/it]\u001b[A\u001b[A\n",
      "\n",
      " 94%|█████████▍| 31/33 [01:21<00:05,  2.82s/it]\u001b[A\u001b[A\n",
      "\n",
      " 97%|█████████▋| 32/33 [01:24<00:02,  2.72s/it]\u001b[A\u001b[A\n",
      "\n",
      "100%|██████████| 33/33 [01:27<00:00,  2.65s/it]\u001b[A\u001b[A\n",
      "\n",
      " 88%|████████▊ | 7/8 [07:21<01:11, 71.47s/it]\u001b[A\n",
      "\n",
      "  0%|          | 0/27 [00:00<?, ?it/s]\u001b[A\u001b[A\n",
      "\n",
      "  4%|▎         | 1/27 [00:02<01:02,  2.42s/it]\u001b[A\u001b[A\n",
      "\n",
      "  7%|▋         | 2/27 [00:05<01:01,  2.47s/it]\u001b[A\u001b[A\n",
      "\n",
      " 11%|█         | 3/27 [00:07<01:01,  2.56s/it]\u001b[A\u001b[A\n",
      "\n",
      " 15%|█▍        | 4/27 [00:10<00:58,  2.54s/it]\u001b[A\u001b[A\n",
      "\n",
      " 19%|█▊        | 5/27 [00:12<00:55,  2.52s/it]\u001b[A\u001b[A\n",
      "\n",
      " 22%|██▏       | 6/27 [00:15<00:52,  2.49s/it]\u001b[A\u001b[A\n",
      "\n",
      " 26%|██▌       | 7/27 [00:18<00:53,  2.68s/it]\u001b[A\u001b[A\n",
      "\n",
      " 30%|██▉       | 8/27 [00:21<00:52,  2.77s/it]\u001b[A\u001b[A\n",
      "\n",
      " 33%|███▎      | 9/27 [00:23<00:48,  2.69s/it]\u001b[A\u001b[A\n",
      "\n",
      " 37%|███▋      | 10/27 [00:26<00:44,  2.64s/it]\u001b[A\u001b[A\n",
      "\n",
      " 41%|████      | 11/27 [00:28<00:41,  2.58s/it]\u001b[A\u001b[A\n",
      "\n",
      " 44%|████▍     | 12/27 [00:31<00:38,  2.56s/it]\u001b[A\u001b[A\n",
      "\n",
      " 48%|████▊     | 13/27 [00:33<00:35,  2.53s/it]\u001b[A\u001b[A\n",
      "\n",
      " 52%|█████▏    | 14/27 [00:36<00:32,  2.49s/it]\u001b[A\u001b[A\n",
      "\n",
      " 56%|█████▌    | 15/27 [00:38<00:29,  2.49s/it]\u001b[A\u001b[A\n",
      "\n",
      " 59%|█████▉    | 16/27 [00:41<00:28,  2.58s/it]\u001b[A\u001b[A\n",
      "\n",
      " 63%|██████▎   | 17/27 [00:43<00:25,  2.52s/it]\u001b[A\u001b[A\n",
      "\n",
      " 67%|██████▋   | 18/27 [00:46<00:22,  2.48s/it]\u001b[A\u001b[A\n",
      "\n",
      " 70%|███████   | 19/27 [00:48<00:19,  2.44s/it]\u001b[A\u001b[A\n",
      "\n",
      " 74%|███████▍  | 20/27 [00:52<00:20,  2.95s/it]\u001b[A\u001b[A\n",
      "\n",
      " 78%|███████▊  | 21/27 [00:55<00:16,  2.81s/it]\u001b[A\u001b[A\n",
      "\n",
      " 81%|████████▏ | 22/27 [00:57<00:13,  2.72s/it]\u001b[A\u001b[A\n",
      "\n",
      " 85%|████████▌ | 23/27 [01:00<00:10,  2.65s/it]\u001b[A\u001b[A\n",
      "\n",
      " 89%|████████▉ | 24/27 [01:02<00:07,  2.59s/it]\u001b[A\u001b[A\n",
      "\n",
      " 93%|█████████▎| 25/27 [01:05<00:05,  2.56s/it]\u001b[A\u001b[A\n",
      "\n",
      " 96%|█████████▋| 26/27 [01:07<00:02,  2.53s/it]\u001b[A\u001b[A\n",
      "\n",
      "100%|██████████| 27/27 [01:10<00:00,  2.59s/it]\u001b[A\u001b[A\n",
      "\n",
      "100%|██████████| 8/8 [08:31<00:00, 63.95s/it]\u001b[A\n",
      " 50%|█████     | 1/2 [08:32<08:32, 512.61s/it]\n"
     ]
    }
   ],
   "source": [
    "for link, leg in tqdm(zip(link_legislaturas, [63]), total = 2):\n",
    "    data_legislatura = []\n",
    "    \n",
    "    links_periodos = obtain_links_periodos(link)\n",
    "    for link2 in tqdm(links_periodos):\n",
    "\n",
    "        links_sesiones = obtain_links_days(link2)\n",
    "        for link3 in tqdm(links_sesiones):\n",
    "            \n",
    "            links_sesiones_partido, partido = obtain_partyAttendance(link3)\n",
    "            for link4, p in zip(links_sesiones_partido, partido):\n",
    "                try:\n",
    "                    data_legislatura.append(obtain_attendance(link4, leg, p))\n",
    "                except:\n",
    "                    print(link4)\n",
    "    df_attendance_leg = pd.concat(data_legislatura)\n",
    "    name_file = 'floor_attendance' + str(leg) + '.csv'\n",
    "    df_attendance_leg.to_csv('../../data/00-id_data/' + name_file, encoding = 'utf-8')"
   ]
  },
  {
   "cell_type": "code",
   "execution_count": 77,
   "metadata": {},
   "outputs": [
    {
     "data": {
      "text/plain": [
       "array([' ASISTENCIA', ' CÉDULA', ' JUSTIFICADA', ' INASISTENCIA',\n",
       "       ' PERMISO MESA DIRECTIVA', ' OFICIAL COMISIÓN',\n",
       "       ' NO PRESENTE EN VOTACIONES'], dtype=object)"
      ]
     },
     "execution_count": 77,
     "metadata": {},
     "output_type": "execute_result"
    }
   ],
   "source": [
    "df_attendance_leg.type_attendance.unique()"
   ]
  }
 ],
 "metadata": {
  "kernelspec": {
   "display_name": "Python 3",
   "language": "python",
   "name": "python3"
  },
  "language_info": {
   "codemirror_mode": {
    "name": "ipython",
    "version": 3
   },
   "file_extension": ".py",
   "mimetype": "text/x-python",
   "name": "python",
   "nbconvert_exporter": "python",
   "pygments_lexer": "ipython3",
   "version": "3.8.3"
  }
 },
 "nbformat": 4,
 "nbformat_minor": 4
}
