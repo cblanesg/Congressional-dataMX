{
 "cells": [
  {
   "cell_type": "code",
   "execution_count": 38,
   "metadata": {},
   "outputs": [],
   "source": [
    "from webdriver_manager.chrome import ChromeDriverManager\n",
    "from selenium.webdriver import Chrome\n",
    "from selenium import webdriver\n",
    "import re\n",
    "import unidecode\n",
    "import time\n",
    "import pandas as pd\n",
    "import datetime\n",
    "import uuid\n",
    "from tqdm import tqdm\n",
    "from datetime import date\n",
    "from selenium.webdriver.chrome.options import Options"
   ]
  },
  {
   "cell_type": "code",
   "execution_count": 2,
   "metadata": {},
   "outputs": [
    {
     "name": "stderr",
     "output_type": "stream",
     "text": [
      "[WDM] - Current google-chrome version is 85.0.4183\n",
      "[WDM] - Get LATEST driver version for 85.0.4183\n"
     ]
    },
    {
     "name": "stdout",
     "output_type": "stream",
     "text": [
      " \n"
     ]
    },
    {
     "name": "stderr",
     "output_type": "stream",
     "text": [
      "[WDM] - Driver [/Users/cblanesg/.wdm/drivers/chromedriver/mac64/85.0.4183.87/chromedriver] found in cache\n"
     ]
    }
   ],
   "source": [
    "options = Options()\n",
    "options.add_argument('--headless')\n",
    "driver = webdriver.Chrome(ChromeDriverManager().install())"
   ]
  },
  {
   "cell_type": "code",
   "execution_count": null,
   "metadata": {},
   "outputs": [],
   "source": [
    "\n",
    "url_floor_attendance = 'http://sitllxiii.diputados.gob.mx/asistencias_diputados_todosnplxiii.php'\n",
    "driver.get(url_floor_attendance)"
   ]
  },
  {
   "cell_type": "code",
   "execution_count": 29,
   "metadata": {},
   "outputs": [],
   "source": [
    "def obtain_links_periodos(driver):\n",
    "    links_asistencias = []\n",
    "    for i in driver.find_element_by_css_selector('table').find_elements_by_css_selector('a'):\n",
    "        link = i.get_attribute('href')\n",
    "        if any(re.findall('votaciones', link)):\n",
    "            links_asistencias.append(link)\n",
    "    return(links_asistencias)\n",
    "\n",
    "def obtain_links_votaciones(driver):\n",
    "    links_asistencias_sesion = []\n",
    "    for i in driver.find_element_by_css_selector('table').find_elements_by_css_selector('a'):\n",
    "        link = i.get_attribute('href')\n",
    "        if any(re.findall('estadistico_votacion', link)):\n",
    "            links_asistencias_sesion.append(link)\n",
    "    return(links_asistencias_sesion)\n",
    "\n",
    "def obtain_partyVotaciones(driver):\n",
    "    links_asistencias_sesion = []\n",
    "    partidos = []\n",
    "    for i in driver.find_element_by_css_selector('table').find_elements_by_css_selector('a'):\n",
    "        link = i.get_attribute('href')\n",
    "        if any(re.findall('listados_votaciones', link)):\n",
    "            links_asistencias_sesion.append(link)\n",
    "            partidos.append(i.text)\n",
    "    return(links_asistencias_sesion, partidos)"
   ]
  },
  {
   "cell_type": "code",
   "execution_count": 7,
   "metadata": {},
   "outputs": [],
   "source": [
    "driver.get('http://sitl.diputados.gob.mx/LXIV_leg/votaciones_por_periodonplxiv.php')\n",
    "links_periodos = obtain_links_periodos(driver)"
   ]
  },
  {
   "cell_type": "code",
   "execution_count": 9,
   "metadata": {},
   "outputs": [],
   "source": [
    "driver.get(links_periodos[0])"
   ]
  },
  {
   "cell_type": "code",
   "execution_count": 12,
   "metadata": {},
   "outputs": [],
   "source": [
    "links_votaciones = obtain_links_votaciones(driver)"
   ]
  },
  {
   "cell_type": "code",
   "execution_count": 13,
   "metadata": {},
   "outputs": [],
   "source": [
    "driver.get(links_votaciones[0])"
   ]
  },
  {
   "cell_type": "code",
   "execution_count": 30,
   "metadata": {},
   "outputs": [],
   "source": [
    "links_party, parties = obtain_partyVotaciones(driver)"
   ]
  },
  {
   "cell_type": "code",
   "execution_count": 31,
   "metadata": {},
   "outputs": [
    {
     "data": {
      "text/plain": [
       "['MORENA', 'PAN', 'PRI', 'PT', 'MC', 'PES', 'PRD', 'PVEM', 'SP']"
      ]
     },
     "execution_count": 31,
     "metadata": {},
     "output_type": "execute_result"
    }
   ],
   "source": [
    "parties"
   ]
  },
  {
   "cell_type": "code",
   "execution_count": 20,
   "metadata": {},
   "outputs": [],
   "source": [
    "driver.get(links_party[0])"
   ]
  },
  {
   "cell_type": "code",
   "execution_count": 32,
   "metadata": {},
   "outputs": [
    {
     "data": {
      "text/plain": [
       "'MINUTA CON VENCIMIENTO DE PLAZO PROYECTO DE DECRETO POR EL QUE SE EXPIDE LA LEY FEDERAL DE REMUNERACIONES DE LOS SERVIDORES PÚBLICOS, REGLAMENTARIA DE LOS ARTÍCULOS 75 Y 127 DE LA CONSTITUCIÓN POLÍTICA DE LOS ESTADOS UNIDOS MEXICANOS Y SE ADICIONA EL CÓDIGO PENAL FEDERAL (EN LO GENERAL Y EN LO PARTICULAR LOS ARTÍCULOS NO RESERVADOS)'"
      ]
     },
     "execution_count": 32,
     "metadata": {},
     "output_type": "execute_result"
    }
   ],
   "source": [
    "driver.find_element_by_css_selector('body > table > tbody > tr:nth-child(4) > td > table > tbody > tr:nth-child(2) > td > b').text.split('\\n')[2]"
   ]
  },
  {
   "cell_type": "code",
   "execution_count": null,
   "metadata": {},
   "outputs": [],
   "source": []
  },
  {
   "cell_type": "code",
   "execution_count": 46,
   "metadata": {},
   "outputs": [],
   "source": [
    "def month_to_num(x):\n",
    "    if x == 'Enero':\n",
    "        return(1)\n",
    "    elif x == 'Febrero':\n",
    "        return(2)\n",
    "    elif x == 'Marzo':\n",
    "        return(3)\n",
    "    elif x == 'Abril':\n",
    "        return(4)\n",
    "    elif x == 'Mayo':\n",
    "        return(5)\n",
    "    elif x == 'Junio':\n",
    "        return(6)\n",
    "    elif x == 'Julio':\n",
    "        return(7)\n",
    "    elif x == 'Agosto':\n",
    "        return(8)\n",
    "    elif x == 'Septiembre':\n",
    "        return(9)\n",
    "    elif x == 'Octubre':\n",
    "        return(10)\n",
    "    elif x == 'Noviembre':\n",
    "        return(11)\n",
    "    elif x == 'Diciembre':\n",
    "        return(12)\n",
    "\n",
    "def obtain_votacion(driver, legislatura, partido):\n",
    "    temp = driver.find_element_by_css_selector('body > table > tbody > tr:nth-child(4) > td > table > tbody > tr:nth-child(2) > td > b').text.split('\\n')[1].split(' ')[-1:][0]\n",
    "    date_session = datetime.date(int(temp.split('-')[2]), month_to_num(temp.split('-')[1]), int(temp.split('-')[0]))\n",
    "    titulo_votacion = driver.find_element_by_css_selector('body > table > tbody > tr:nth-child(4) > td > table > tbody > tr:nth-child(2) > td > b').text.split('\\n')[2]\n",
    "    \n",
    "    \n",
    "    year_legis = []\n",
    "    month_legis = []\n",
    "    day_legis = []\n",
    "    members = []\n",
    "    party = []\n",
    "    sentido_votacion = []\n",
    "    legis = []\n",
    "    titulo = []\n",
    "    for i in driver.find_element_by_css_selector('table').find_elements_by_css_selector('tr')[10:]:\n",
    "        try:\n",
    "            if any(re.findall('[a-z]+', i.find_elements_by_css_selector('td')[0].text)):\n",
    "                continue\n",
    "            else:\n",
    "                members.append(unidecode.unidecode(i.find_elements_by_css_selector('td')[1].text))\n",
    "                sentido_votacion.append(i.find_elements_by_css_selector('td')[2].text)\n",
    "                titulo.append(titulo_votacion)\n",
    "                party.append(partido)\n",
    "                year_legis.append(date_session.year)\n",
    "                month_legis.append(date_session.month)\n",
    "                day_legis.append(date_session.day)\n",
    "                legis.append(legislatura)\n",
    "        except:\n",
    "            continue\n",
    "            \n",
    "    return(pd.DataFrame({'legislatura':legis, \n",
    "                 'year_session':year_legis, \n",
    "                 'month_session':month_legis, \n",
    "                 'day_session':day_legis, \n",
    "                 'member':members, \n",
    "                 'party':party, \n",
    "                 'voto':sentido_votacion,\n",
    "                         'titulo_votacion':titulo\n",
    "                 }))\n",
    "\n"
   ]
  },
  {
   "cell_type": "code",
   "execution_count": 45,
   "metadata": {},
   "outputs": [],
   "source": [
    "links_legislaturas = [\n",
    "    'http://sitl.diputados.gob.mx/LXIV_leg/votaciones_por_periodonplxiv.php',\n",
    "    'http://sitllxiii.diputados.gob.mx/votaciones_por_periodonplxiii.php',\n",
    "    'http://sitllxii.diputados.gob.mx/votaciones_por_periodonplxii.php', \n",
    "    'http://sitllxi.diputados.gob.mx/votaciones_por_periodonplxi.php', \n",
    "    'http://sitllx.diputados.gob.mx/votaciones_por_periodonp.php'\n",
    "]"
   ]
  },
  {
   "cell_type": "code",
   "execution_count": null,
   "metadata": {},
   "outputs": [
    {
     "name": "stderr",
     "output_type": "stream",
     "text": [
      "  0%|          | 0/5 [00:00<?, ?it/s]\n",
      "  0%|          | 0/9 [00:00<?, ?it/s]\u001b[A\n",
      "\n",
      "  0%|          | 0/37 [00:00<?, ?it/s]\u001b[A\u001b[A\n",
      "\n",
      "\n",
      "  0%|          | 0/9 [00:00<?, ?it/s]\u001b[A\u001b[A\u001b[A"
     ]
    }
   ],
   "source": [
    "for link, leg in tqdm(zip(links_legislaturas, [64, 63, 62, 61, 60]), total = 5):\n",
    "    data_legislatura = []\n",
    "    driver.get(link)\n",
    "    links_periodos = obtain_links_periodos(driver)\n",
    "    for link2 in tqdm(links_periodos):\n",
    "        driver.get(link2)\n",
    "        links_sesiones = obtain_links_votaciones(driver)\n",
    "        for link3 in tqdm(links_sesiones):\n",
    "            driver.get(link3)\n",
    "            links_sesiones_partido, partidos = obtain_partyVotaciones(driver)\n",
    "            for link4, p in tqdm(zip(links_sesiones_partido, partidos), total = len(links_sesiones_partido)):\n",
    "                driver.get(link4)\n",
    "                data_legislatura.append(obtain_votacion(driver, 63, p))\n",
    "    df_attendance_leg = pd.concat(data_legislatura)\n",
    "    name_file = 'roll_call' + str(leg) + '.csv'\n",
    "    df_attendance_leg.to_csv('../../data/02-roll_call_votes/' + name_file, encoding = 'utf-8')"
   ]
  },
  {
   "cell_type": "code",
   "execution_count": null,
   "metadata": {},
   "outputs": [],
   "source": []
  }
 ],
 "metadata": {
  "kernelspec": {
   "display_name": "Python 3",
   "language": "python",
   "name": "python3"
  },
  "language_info": {
   "codemirror_mode": {
    "name": "ipython",
    "version": 3
   },
   "file_extension": ".py",
   "mimetype": "text/x-python",
   "name": "python",
   "nbconvert_exporter": "python",
   "pygments_lexer": "ipython3",
   "version": "3.8.3"
  }
 },
 "nbformat": 4,
 "nbformat_minor": 4
}
