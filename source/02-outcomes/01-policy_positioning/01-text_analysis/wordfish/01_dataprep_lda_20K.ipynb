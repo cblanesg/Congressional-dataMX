{
 "cells": [
  {
   "cell_type": "markdown",
   "metadata": {},
   "source": [
    "## Notebook to create LDA of 40 topics with speeches"
   ]
  },
  {
   "cell_type": "code",
   "execution_count": 1,
   "metadata": {},
   "outputs": [],
   "source": [
    "import pandas as pd\n",
    "import os\n",
    "from operator import itemgetter\n",
    "import gensim\n",
    "import re\n",
    "from tqdm import tqdm\n",
    "from os import listdir\n",
    "from gensim.utils import simple_preprocess\n",
    "import gensim.corpora as corpora\n",
    "from gensim.models import CoherenceModel\n",
    "import spacy\n",
    "from collections import Counter"
   ]
  },
  {
   "cell_type": "code",
   "execution_count": 6,
   "metadata": {},
   "outputs": [],
   "source": [
    "import warnings\n",
    "warnings.filterwarnings(\"ignore\",category=DeprecationWarning)"
   ]
  },
  {
   "cell_type": "code",
   "execution_count": 3,
   "metadata": {},
   "outputs": [],
   "source": [
    "# Gensim\n",
    "import gensim\n",
    "import gensim.corpora as corpora\n",
    "from gensim.utils import simple_preprocess\n",
    "from gensim.models import CoherenceModel\n",
    "\n",
    "# spacy for lemmatization\n",
    "import spacy"
   ]
  },
  {
   "cell_type": "code",
   "execution_count": 4,
   "metadata": {},
   "outputs": [],
   "source": [
    "os.chdir('./../../../../../data/02-outcomes/01-policy_positioning/01-text_analysis/wordfish/01_lda/')"
   ]
  },
  {
   "cell_type": "markdown",
   "metadata": {},
   "source": [
    "## Load Clean Data"
   ]
  },
  {
   "cell_type": "code",
   "execution_count": 33,
   "metadata": {},
   "outputs": [],
   "source": [
    "def remove_infrequent_words(data):\n",
    "    remove = list(pd.read_csv('/Users/cblanesg/cam.blanes Dropbox/Camila Blanes/Congressional-dataMX/data/02-outcomes/01-policy_positioning/01-text_analysis/wordfish/01_lda/remove_words.csv').remove_words)\n",
    "    extra_words = ['diputar', 'ley', \n",
    "              'articular', 'publicar', 'federal']\n",
    "    remove  = remove + extra_words\n",
    "    remove_list = '|'.join(remove)\n",
    "    regex = re.compile(r'\\b('+remove_list+r')\\b', flags=re.IGNORECASE)\n",
    "    \n",
    "    speech_clean = []\n",
    "    for x in tqdm(data.clean_speech):\n",
    "        clean = regex.sub('', x)\n",
    "        clean = re.sub('[ ]+', ' ', clean)\n",
    "        speech_clean.append(clean)\n",
    "    return(speech_clean)"
   ]
  },
  {
   "cell_type": "code",
   "execution_count": 15,
   "metadata": {},
   "outputs": [],
   "source": [
    "def load_data():\n",
    "    \n",
    "    path = '/Users/cblanesg/cam.blanes Dropbox/Camila Blanes/Congressional-dataMX/data/02-outcomes/01-policy_positioning/01-text_analysis/01-clean_data/disaaggregated_data/'\n",
    "    data = []\n",
    "    for i in listdir(path):\n",
    "        if any(re.findall('json$', i)):\n",
    "            data.append(pd.read_json(path + i)[['id_speech', 'clean_speech']])\n",
    "           \n",
    "    data = pd.concat(data)\n",
    "    data = data[data['clean_speech'] != '']\n",
    "    return(data)\n",
    "\n",
    "def sent_to_words(sentences):\n",
    "    for sentence in sentences:\n",
    "        # deacc=True removes punctuations\n",
    "        yield(gensim.utils.simple_preprocess(str(sentence), deacc=True))\n"
   ]
  },
  {
   "cell_type": "code",
   "execution_count": 35,
   "metadata": {},
   "outputs": [],
   "source": [
    "data = load_data()"
   ]
  },
  {
   "cell_type": "code",
   "execution_count": 40,
   "metadata": {},
   "outputs": [
    {
     "name": "stderr",
     "output_type": "stream",
     "text": [
      "100%|██████████| 40414/40414 [4:56:45<00:00,  2.27it/s]   \n"
     ]
    }
   ],
   "source": [
    "data_clean = remove_infrequent_words(data)"
   ]
  },
  {
   "cell_type": "code",
   "execution_count": 41,
   "metadata": {},
   "outputs": [],
   "source": [
    "data['data_clean'] = data_clean"
   ]
  },
  {
   "cell_type": "code",
   "execution_count": 43,
   "metadata": {},
   "outputs": [],
   "source": [
    "data.to_excel('/Users/cblanesg/Desktop/clean_speaches.xlsx')"
   ]
  },
  {
   "cell_type": "code",
   "execution_count": 51,
   "metadata": {},
   "outputs": [],
   "source": [
    "import json"
   ]
  },
  {
   "cell_type": "code",
   "execution_count": 52,
   "metadata": {
    "scrolled": true
   },
   "outputs": [],
   "source": [
    "with open('/Users/cblanesg/Desktop/clean_speaches.json', 'w') as f:\n",
    "    json.dump(data.to_dict(), f)"
   ]
  },
  {
   "cell_type": "code",
   "execution_count": 13,
   "metadata": {},
   "outputs": [],
   "source": [
    "def lda_model_function(num_topics, corpus, id2word):\n",
    "    print('training model')\n",
    "    # Build LDA model\n",
    "    lda_model = gensim.models.LdaMulticore(corpus=corpus,\n",
    "                                           id2word=id2word,\n",
    "                                           num_topics=num_topics)\n",
    "    \n",
    "    return(lda_model)"
   ]
  },
  {
   "cell_type": "code",
   "execution_count": 12,
   "metadata": {},
   "outputs": [],
   "source": [
    "def load_corpus(data):\n",
    "        ## prepare inputs\n",
    "    print('loding data')\n",
    "    #data = load_data()\n",
    "    data = data.data_clean.values.tolist()\n",
    "    data_words = list(sent_to_words(data))\n",
    "    \n",
    "    # Create Dictionary\n",
    "    print('preparing input')\n",
    "    id2word = corpora.Dictionary(data_words)\n",
    "\n",
    "    # Create Corpus\n",
    "    texts = data_words\n",
    "\n",
    "    # Term Document Frequency\n",
    "    corpus = [id2word.doc2bow(text) for text in texts]\n",
    "    return(data_words, corpus, id2word)"
   ]
  },
  {
   "cell_type": "code",
   "execution_count": 11,
   "metadata": {},
   "outputs": [],
   "source": [
    "def obtain_topics_docs(lda_model, corpus):\n",
    "    \n",
    "    all_topics = []\n",
    "    for i in tqdm(corpus):\n",
    "        main_topic = max(lda_model[i],key=itemgetter(1))[0]  \n",
    "        all_topics.append(main_topic + 1)\n",
    "    return(all_topics)\n",
    "    "
   ]
  },
  {
   "cell_type": "code",
   "execution_count": 10,
   "metadata": {},
   "outputs": [],
   "source": [
    "def obtain_visualization(num_topics, lda_model, corpus, id2word):\n",
    "    LDAvis_data_filepath = os.path.join('./lda_visualization/lda_prepared_'+str(num_topics))\n",
    "    \n",
    "    if 1 == 1:\n",
    "        LDAvis_prepared = pyLDAvis.gensim.prepare(lda_model, corpus, id2word)\n",
    "        with open(LDAvis_data_filepath, 'wb') as f:\n",
    "            pickle.dump(LDAvis_prepared, f)\n",
    "\n",
    "    # load the pre-prepared pyLDAvis data from disk\n",
    "    with open(LDAvis_data_filepath, 'rb') as f:\n",
    "        LDAvis_prepared = pickle.load(f)\n",
    "\n",
    "    pyLDAvis.save_html(LDAvis_prepared, './lda_visualization/lda_prepared_'+ str(num_topics) +'.html')\n",
    "    LDAvis_prepared"
   ]
  },
  {
   "cell_type": "markdown",
   "metadata": {},
   "source": [
    "## LDA"
   ]
  },
  {
   "cell_type": "code",
   "execution_count": 7,
   "metadata": {},
   "outputs": [
    {
     "name": "stderr",
     "output_type": "stream",
     "text": [
      "<ipython-input-7-a551e6f736fd>:1: FutureWarning: Your version of xlrd is 1.2.0. In xlrd >= 2.0, only the xls format is supported. As a result, the openpyxl engine will be used if it is installed and the engine argument is not specified. Install openpyxl instead.\n",
      "  data = pd.read_excel('./clean_speaches_topics.xlsx')\n"
     ]
    }
   ],
   "source": [
    "data = pd.read_excel('./clean_speaches_topics.xlsx')"
   ]
  },
  {
   "cell_type": "code",
   "execution_count": 16,
   "metadata": {},
   "outputs": [
    {
     "name": "stdout",
     "output_type": "stream",
     "text": [
      "loding data\n",
      "preparing input\n"
     ]
    }
   ],
   "source": [
    "data_words, corpus20, id2word20 = load_corpus(data)"
   ]
  },
  {
   "cell_type": "code",
   "execution_count": 21,
   "metadata": {},
   "outputs": [
    {
     "name": "stdout",
     "output_type": "stream",
     "text": [
      "training model\n"
     ]
    }
   ],
   "source": [
    "lda_model15k = lda_model_function(15, corpus20, id2word20)"
   ]
  },
  {
   "cell_type": "code",
   "execution_count": null,
   "metadata": {},
   "outputs": [],
   "source": []
  },
  {
   "cell_type": "markdown",
   "metadata": {},
   "source": [
    "## Analysis LDA"
   ]
  },
  {
   "cell_type": "code",
   "execution_count": 18,
   "metadata": {},
   "outputs": [],
   "source": [
    "import pyLDAvis.gensim\n",
    "import pickle \n",
    "import pyLDAvis"
   ]
  },
  {
   "cell_type": "code",
   "execution_count": 19,
   "metadata": {},
   "outputs": [],
   "source": [
    "pyLDAvis.enable_notebook()"
   ]
  },
  {
   "cell_type": "code",
   "execution_count": 22,
   "metadata": {},
   "outputs": [],
   "source": [
    "obtain_visualization(15, lda_model15k, corpus20, id2word20)"
   ]
  },
  {
   "cell_type": "markdown",
   "metadata": {},
   "source": [
    "## Check best number of topics"
   ]
  },
  {
   "cell_type": "code",
   "execution_count": 37,
   "metadata": {},
   "outputs": [],
   "source": [
    "import json"
   ]
  },
  {
   "cell_type": "code",
   "execution_count": 138,
   "metadata": {},
   "outputs": [],
   "source": [
    "data_text = load_data()"
   ]
  },
  {
   "cell_type": "code",
   "execution_count": 28,
   "metadata": {
    "scrolled": true
   },
   "outputs": [
    {
     "name": "stderr",
     "output_type": "stream",
     "text": [
      "100%|██████████| 40414/40414 [00:35<00:00, 1149.99it/s]\n"
     ]
    }
   ],
   "source": [
    "topics20k = obtain_topics_docs(lda_model30k, corpus20)"
   ]
  },
  {
   "cell_type": "code",
   "execution_count": 29,
   "metadata": {},
   "outputs": [],
   "source": [
    "data['topics20k'] = topics20k"
   ]
  },
  {
   "cell_type": "code",
   "execution_count": 35,
   "metadata": {
    "scrolled": true
   },
   "outputs": [],
   "source": [
    "data = data.drop(['Unnamed: 0'], axis = 1)"
   ]
  },
  {
   "cell_type": "code",
   "execution_count": 38,
   "metadata": {},
   "outputs": [],
   "source": [
    "with open('/Users/cblanesg/Desktop/clean_speaches_topics.json', 'w') as f:\n",
    "    json.dump(data.to_dict(), f)"
   ]
  },
  {
   "cell_type": "code",
   "execution_count": 39,
   "metadata": {},
   "outputs": [],
   "source": [
    "data.to_excel('/Users/cblanesg/Desktop/clean_speaches_topics.xlsx')"
   ]
  },
  {
   "cell_type": "markdown",
   "metadata": {},
   "source": [
    "## distribution of percentage of topics"
   ]
  },
  {
   "cell_type": "code",
   "execution_count": 50,
   "metadata": {},
   "outputs": [],
   "source": [
    "def obtain_topics_docs_percentage(lda_model, corpus):\n",
    "    \n",
    "    all_topics = []\n",
    "    for i in tqdm(corpus):\n",
    "        main_topic = max(lda_model[i],key=itemgetter(1))[1]  \n",
    "        all_topics.append(main_topic)\n",
    "    return(all_topics)"
   ]
  },
  {
   "cell_type": "code",
   "execution_count": 52,
   "metadata": {},
   "outputs": [
    {
     "name": "stderr",
     "output_type": "stream",
     "text": [
      "100%|██████████| 40414/40414 [00:32<00:00, 1229.67it/s]\n",
      "100%|██████████| 40414/40414 [00:31<00:00, 1290.02it/s]\n"
     ]
    }
   ],
   "source": [
    "percentage_topics20k = obtain_topics_docs_percentage(lda_model30k, corpus20)\n",
    "percentage_topics15k = obtain_topics_docs_percentage(lda_model15k, corpus20)"
   ]
  },
  {
   "cell_type": "code",
   "execution_count": 53,
   "metadata": {},
   "outputs": [],
   "source": [
    "data['percentage_topics20k'] = percentage_topics20k\n",
    "data['percentage_topics15k'] = percentage_topics15k"
   ]
  },
  {
   "cell_type": "code",
   "execution_count": 82,
   "metadata": {},
   "outputs": [],
   "source": [
    "with open('/Users/cblanesg/Desktop/clean_speaches_topics.json', 'w') as f:\n",
    "    json.dump(data.to_dict(), f)"
   ]
  },
  {
   "cell_type": "code",
   "execution_count": 83,
   "metadata": {},
   "outputs": [],
   "source": [
    "data.to_excel('/Users/cblanesg/Desktop/clean_speaches_topics.xlsx')"
   ]
  },
  {
   "cell_type": "code",
   "execution_count": null,
   "metadata": {},
   "outputs": [],
   "source": []
  }
 ],
 "metadata": {
  "kernelspec": {
   "display_name": "Python 3",
   "language": "python",
   "name": "python3"
  },
  "language_info": {
   "codemirror_mode": {
    "name": "ipython",
    "version": 3
   },
   "file_extension": ".py",
   "mimetype": "text/x-python",
   "name": "python",
   "nbconvert_exporter": "python",
   "pygments_lexer": "ipython3",
   "version": "3.8.3"
  }
 },
 "nbformat": 4,
 "nbformat_minor": 4
}
