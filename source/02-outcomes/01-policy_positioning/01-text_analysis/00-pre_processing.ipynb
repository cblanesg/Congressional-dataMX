{
 "cells": [
  {
   "cell_type": "code",
   "execution_count": 64,
   "metadata": {},
   "outputs": [],
   "source": [
    "import pandas as pd\n",
    "import json\n",
    "import re\n",
    "from os import listdir\n",
    "from tqdm import tqdm\n",
    "from unidecode import unidecode"
   ]
  },
  {
   "cell_type": "code",
   "execution_count": 32,
   "metadata": {},
   "outputs": [],
   "source": [
    "path_speeches = '/Users/cblanesg/cam.blanes Dropbox/Camila Blanes/Congressional-dataMX/data/01-collection_data/01-floor_speech/01-id_speakers/'"
   ]
  },
  {
   "cell_type": "code",
   "execution_count": 52,
   "metadata": {},
   "outputs": [
    {
     "name": "stderr",
     "output_type": "stream",
     "text": [
      " 33%|███▎      | 2/6 [00:00<00:02,  1.89it/s]"
     ]
    },
    {
     "name": "stdout",
     "output_type": "stream",
     "text": [
      ".DS_Store\n"
     ]
    },
    {
     "name": "stderr",
     "output_type": "stream",
     "text": [
      "100%|██████████| 6/6 [00:01<00:00,  3.83it/s]\n"
     ]
    }
   ],
   "source": [
    "no_filter = []\n",
    "for i in tqdm(listdir(path_speeches)):\n",
    "    try:\n",
    "        with open(path_speeches + i) as f:\n",
    "            temp = json.load(f)\n",
    "            for j in temp:\n",
    "                no_filter.append(j)\n",
    "    except:\n",
    "        print(i)"
   ]
  },
  {
   "cell_type": "markdown",
   "metadata": {},
   "source": [
    "## Filter only to Propietaries"
   ]
  },
  {
   "cell_type": "code",
   "execution_count": 38,
   "metadata": {},
   "outputs": [
    {
     "name": "stderr",
     "output_type": "stream",
     "text": [
      "100%|██████████| 6/6 [00:00<00:00, 133.79it/s]"
     ]
    },
    {
     "name": "stdout",
     "output_type": "stream",
     "text": [
      ".DS_Store\n"
     ]
    },
    {
     "name": "stderr",
     "output_type": "stream",
     "text": [
      "\n"
     ]
    }
   ],
   "source": [
    "path_id = '/Users/cblanesg/cam.blanes Dropbox/Camila Blanes/Congressional-dataMX/data/01-collection_data/00-id_data/00-id/'\n",
    "\n",
    "all_inc = []\n",
    "for i in tqdm(listdir(path_id)):\n",
    "    try:\n",
    "        with open(path_id + i) as f:\n",
    "            temp = json.load(f)\n",
    "            for j in temp:\n",
    "                if j['suplente_propietario'] == 'P':\n",
    "                    all_inc.append(j)\n",
    "    except:\n",
    "        print(i)    "
   ]
  },
  {
   "cell_type": "code",
   "execution_count": 49,
   "metadata": {},
   "outputs": [
    {
     "data": {
      "text/plain": [
       "2500"
      ]
     },
     "execution_count": 49,
     "metadata": {},
     "output_type": "execute_result"
    }
   ],
   "source": [
    "len(list(pd.DataFrame(all_inc).id_legislador.unique()))"
   ]
  },
  {
   "cell_type": "code",
   "execution_count": 50,
   "metadata": {},
   "outputs": [
    {
     "name": "stderr",
     "output_type": "stream",
     "text": [
      " 33%|███▎      | 2/6 [02:24<04:38, 69.72s/it]"
     ]
    },
    {
     "name": "stdout",
     "output_type": "stream",
     "text": [
      ".DS_Store\n"
     ]
    },
    {
     "name": "stderr",
     "output_type": "stream",
     "text": [
      "100%|██████████| 6/6 [05:31<00:00, 55.18s/it]\n"
     ]
    }
   ],
   "source": [
    "all_speeches = []\n",
    "for i in tqdm(listdir(path_speeches)):\n",
    "    try:\n",
    "        with open(path_speeches + i) as f:\n",
    "            temp = json.load(f)\n",
    "            for j in temp:\n",
    "                if j['id'] in list(pd.DataFrame(all_inc).id_legislador.unique()):\n",
    "                    all_speeches.append(j)\n",
    "    except:\n",
    "        print(i)"
   ]
  },
  {
   "cell_type": "code",
   "execution_count": 54,
   "metadata": {},
   "outputs": [
    {
     "data": {
      "text/plain": [
       "(40415, 41582)"
      ]
     },
     "execution_count": 54,
     "metadata": {},
     "output_type": "execute_result"
    }
   ],
   "source": [
    "len(all_speeches), len(no_filter)"
   ]
  },
  {
   "cell_type": "markdown",
   "metadata": {},
   "source": [
    "### Pre-processing Steps\n",
    "    - lower\n",
    "    - numbers\n",
    "    - punctuation\n",
    "    - stopwords"
   ]
  },
  {
   "cell_type": "code",
   "execution_count": 60,
   "metadata": {},
   "outputs": [],
   "source": [
    "import spacy ## Lemmatizer\n",
    "nlp_lemm = spacy.load(\"es_core_news_sm\")"
   ]
  },
  {
   "cell_type": "code",
   "execution_count": 61,
   "metadata": {},
   "outputs": [],
   "source": [
    "from spacy.lang.es import Spanish ## StopWords\n",
    "nlp = Spanish()"
   ]
  },
  {
   "cell_type": "code",
   "execution_count": 62,
   "metadata": {},
   "outputs": [],
   "source": [
    "from spacy.lang.es.stop_words import STOP_WORDS"
   ]
  },
  {
   "cell_type": "code",
   "execution_count": 63,
   "metadata": {},
   "outputs": [],
   "source": [
    "def remove_stopwords(text):\n",
    "    my_doc = nlp(text)\n",
    "    \n",
    "    token_list = []\n",
    "    for token in my_doc:\n",
    "        token_list.append(token.text)\n",
    "\n",
    "    filtered_sentence =[] \n",
    "\n",
    "    for word in token_list:\n",
    "        lexeme = nlp.vocab[word]\n",
    "        if lexeme.is_stop == False:\n",
    "            filtered_sentence.append(word)  \n",
    "    \n",
    "    full_text = ' '.join(filtered_sentence)\n",
    "    full_text = re.sub('[ ]+', ' ', full_text)\n",
    "    return(full_text)\n",
    "def apply_Lemmatization(text):\n",
    "    my_doc = nlp_lemm(text)\n",
    "    \n",
    "    lemma_word1 = [] \n",
    "    for token in my_doc:\n",
    "        lemma_word1.append(token.lemma_)\n",
    "\n",
    "    full_text = ' '.join(lemma_word1)\n",
    "    full_text = re.sub('[ ]+', ' ', full_text)\n",
    "    return(full_text)\n",
    "def remove_punctuation(text):\n",
    "    punctuation = {'!', '\"','#', '$','%','&',\"'\",'(',')','*','+',',','-','.','/',':',';','<','=','>','?','@','[','\\\\',']','^','_','`','{','|','}','~', '<'}\n",
    "    text = ''.join(i for i in text if i not in punctuation)\n",
    "    return(text)\n",
    "\n",
    "def remove_numbers(text):\n",
    "    text = re.sub('[0-9]+', '', text)\n",
    "    return(text)\n",
    "\n",
    "def strip_Whitespace(text):\n",
    "    text = re.sub('[ ]+', ' ', text)\n",
    "    text = re.sub('^[ ]+', '', text)\n",
    "    text = re.sub('[ ]+$', '', text)\n",
    "    return(text)\n",
    "def remove_accents(text):\n",
    "    text = unidecode(text)\n",
    "    return(text)\n",
    "def apply_lowercase(text):\n",
    "    text = text.lower()\n",
    "    return(text)\n",
    "\n",
    "def pre_processText(text):\n",
    "    clean = apply_lowercase(text)\n",
    "    clean = remove_numbers(clean)\n",
    "    clean = remove_punctuation(clean)\n",
    "    clean = remove_numbers(clean)\n",
    "    clean = remove_accents(clean)\n",
    "    clean = strip_Whitespace(clean)\n",
    "    clean = remove_stopwords(clean)\n",
    "    clean = apply_Lemmatization(clean)\n",
    "    return(clean)"
   ]
  },
  {
   "cell_type": "code",
   "execution_count": null,
   "metadata": {},
   "outputs": [],
   "source": [
    "#for i in tqdm(all_speeches):\n",
    "#    i['clean_speech'] = pre_processText(i['text_speech'])"
   ]
  },
  {
   "cell_type": "code",
   "execution_count": 65,
   "metadata": {},
   "outputs": [
    {
     "name": "stderr",
     "output_type": "stream",
     "text": [
      "100%|██████████| 40415/40415 [55:10<00:00, 12.21it/s]   \n"
     ]
    }
   ],
   "source": [
    "legislatura60 = []\n",
    "legislatura61 = []\n",
    "legislatura62 = []\n",
    "legislatura63 = []\n",
    "legislatura64 = []\n",
    "\n",
    "for i in tqdm(all_speeches):\n",
    "    i['clean_speech'] = pre_processText(i['text_speech'])\n",
    "    \n",
    "    if i['legislatura'] == 60:\n",
    "        legislatura60.append(i)\n",
    "    elif i['legislatura'] == 61:\n",
    "        legislatura61.append(i)\n",
    "    elif i['legislatura'] == 62:\n",
    "        legislatura62.append(i)\n",
    "    elif i['legislatura'] == 63:\n",
    "        legislatura63.append(i)\n",
    "    elif i['legislatura'] == 64:\n",
    "        legislatura64.append(i)        "
   ]
  },
  {
   "cell_type": "code",
   "execution_count": 66,
   "metadata": {},
   "outputs": [],
   "source": [
    "with open('/Users/cblanesg/cam.blanes Dropbox/Camila Blanes/Congressional-dataMX/data/02-outcomes/01-policy_positioning/01-text_analysis/00-prep_data/legislatura60_speeches.json', 'w') as f:\n",
    "    json.dump(legislatura60, f)\n",
    "with open('/Users/cblanesg/cam.blanes Dropbox/Camila Blanes/Congressional-dataMX/data/02-outcomes/01-policy_positioning/01-text_analysis/00-prep_data/legislatura61_speeches.json', 'w') as f:\n",
    "    json.dump(legislatura61, f)\n",
    "with open('/Users/cblanesg/cam.blanes Dropbox/Camila Blanes/Congressional-dataMX/data/02-outcomes/01-policy_positioning/01-text_analysis/00-prep_data/legislatura62_speeches.json', 'w') as f:\n",
    "    json.dump(legislatura62, f)\n",
    "with open('/Users/cblanesg/cam.blanes Dropbox/Camila Blanes/Congressional-dataMX/data/02-outcomes/01-policy_positioning/01-text_analysis/00-prep_data/legislatura63_speeches.json', 'w') as f:\n",
    "    json.dump(legislatura63, f)\n",
    "with open('/Users/cblanesg/cam.blanes Dropbox/Camila Blanes/Congressional-dataMX/data/02-outcomes/01-policy_positioning/01-text_analysis/00-prep_data/legislatura64_speeches.json', 'w') as f:\n",
    "    json.dump(legislatura64, f)    "
   ]
  },
  {
   "cell_type": "markdown",
   "metadata": {},
   "source": [
    "### Merge All Speeches by Speaker"
   ]
  },
  {
   "cell_type": "code",
   "execution_count": null,
   "metadata": {},
   "outputs": [
    {
     "name": "stderr",
     "output_type": "stream",
     "text": [
      "100%|██████████| 5329/5329 [00:00<00:00, 365697.74it/s]\n",
      " 79%|███████▉  | 374/471 [05:33<04:09,  2.58s/it]"
     ]
    }
   ],
   "source": [
    "agg_inc60 = {}\n",
    "for i in tqdm(legislatura60):\n",
    "    if i['id'] in agg_inc60.keys():\n",
    "        agg_inc60[i['id']].append(i['clean_speech'])\n",
    "    else:\n",
    "        agg_inc60[i['id']] = []\n",
    "        agg_inc60[i['id']].append(i['clean_speech'])\n",
    "        \n",
    "agg_dicts60 = []\n",
    "for x, y in tqdm(agg_inc60.items()):\n",
    "    temp = {}\n",
    "    temp['legislatura'] = 60\n",
    "    temp['id_incumbent'] = x\n",
    "    temp['speech'] = pre_processText(' '.join(y))\n",
    "    agg_dicts60.append(temp)"
   ]
  },
  {
   "cell_type": "code",
   "execution_count": null,
   "metadata": {
    "scrolled": true
   },
   "outputs": [],
   "source": [
    "len(agg_dicts60)"
   ]
  },
  {
   "cell_type": "code",
   "execution_count": null,
   "metadata": {},
   "outputs": [],
   "source": [
    "set(agg_dicts60[5]['speech'])"
   ]
  },
  {
   "cell_type": "code",
   "execution_count": null,
   "metadata": {},
   "outputs": [],
   "source": [
    "with open('/Users/cblanesg/cam.blanes Dropbox/Camila Blanes/Congressional-dataMX/data/02-outcomes/01-policy_positioning/01-text_analysis/00-prep_data/aggregated_legislators/legislatura60_speech.json', 'w') as f:\n",
    "    json.dump(agg_dicts60, f)\n",
    "\n",
    "pd.DataFrame(agg_dicts60).to_excel('/Users/cblanesg/cam.blanes Dropbox/Camila Blanes/Congressional-dataMX/data/02-outcomes/01-policy_positioning/01-text_analysis/00-prep_data/aggregated_legislators/legislatura60_speech.xlsx')"
   ]
  },
  {
   "cell_type": "code",
   "execution_count": 110,
   "metadata": {},
   "outputs": [
    {
     "name": "stderr",
     "output_type": "stream",
     "text": [
      "100%|██████████| 9604/9604 [00:00<00:00, 268590.28it/s]\n",
      "100%|██████████| 464/464 [00:00<00:00, 12911.80it/s]\n"
     ]
    }
   ],
   "source": [
    "agg_inc61 = {}\n",
    "for i in tqdm(legislatura61):\n",
    "    if i['id'] in agg_inc61.keys():\n",
    "        agg_inc61[i['id']].append(i['clean_speech'])\n",
    "    else:\n",
    "        agg_inc61[i['id']] = []\n",
    "        agg_inc61[i['id']].append(i['clean_speech'])\n",
    "        \n",
    "agg_dicts61 = []\n",
    "for x, y in tqdm(agg_inc61.items()):\n",
    "    temp = {}\n",
    "    temp['legislatura'] = 61\n",
    "    temp['id_incumbent'] = x\n",
    "    temp['speech'] = ' '.join(y)  \n",
    "    agg_dicts61.append(temp)"
   ]
  },
  {
   "cell_type": "code",
   "execution_count": 111,
   "metadata": {},
   "outputs": [
    {
     "data": {
      "text/plain": [
       "464"
      ]
     },
     "execution_count": 111,
     "metadata": {},
     "output_type": "execute_result"
    }
   ],
   "source": [
    "len(agg_dicts61)"
   ]
  },
  {
   "cell_type": "code",
   "execution_count": 112,
   "metadata": {},
   "outputs": [
    {
     "name": "stderr",
     "output_type": "stream",
     "text": [
      "100%|██████████| 9686/9686 [00:00<00:00, 343915.32it/s]\n",
      "100%|██████████| 467/467 [00:00<00:00, 15560.00it/s]\n"
     ]
    }
   ],
   "source": [
    "agg_inc62 = {}\n",
    "for i in tqdm(legislatura62):\n",
    "    if i['id'] in agg_inc62.keys():\n",
    "        agg_inc62[i['id']].append(i['clean_speech'])\n",
    "    else:\n",
    "        agg_inc62[i['id']] = []\n",
    "        agg_inc62[i['id']].append(i['clean_speech'])\n",
    "        \n",
    "agg_dicts62 = []\n",
    "for x, y in tqdm(agg_inc62.items()):\n",
    "    temp = {}\n",
    "    temp['legislatura'] = 62\n",
    "    temp['id_incumbent'] = x\n",
    "    temp['speech'] = ' '.join(y)  \n",
    "    agg_dicts62.append(temp)"
   ]
  },
  {
   "cell_type": "code",
   "execution_count": 114,
   "metadata": {},
   "outputs": [
    {
     "data": {
      "text/plain": [
       "467"
      ]
     },
     "execution_count": 114,
     "metadata": {},
     "output_type": "execute_result"
    }
   ],
   "source": [
    "len(agg_dicts62)"
   ]
  },
  {
   "cell_type": "code",
   "execution_count": 115,
   "metadata": {},
   "outputs": [
    {
     "name": "stderr",
     "output_type": "stream",
     "text": [
      "100%|██████████| 7595/7595 [00:00<00:00, 811693.90it/s]\n",
      "100%|██████████| 473/473 [00:00<00:00, 24838.88it/s]\n"
     ]
    }
   ],
   "source": [
    "agg_inc63 = {}\n",
    "for i in tqdm(legislatura63):\n",
    "    if i['id']  in agg_inc63.keys():\n",
    "        agg_inc63[i['id']].append(i['clean_speech'])\n",
    "    else:\n",
    "        agg_inc63[i['id']] = []\n",
    "        agg_inc63[i['id']].append(i['clean_speech'])\n",
    "        \n",
    "agg_dicts63 = []\n",
    "for x, y in tqdm(agg_inc63.items()):\n",
    "    temp = {}\n",
    "    temp['legislatura'] = 63\n",
    "    temp['id_incumbent'] = x\n",
    "    temp['speech'] = ' '.join(y)  \n",
    "    agg_dicts63.append(temp)"
   ]
  },
  {
   "cell_type": "code",
   "execution_count": 116,
   "metadata": {},
   "outputs": [
    {
     "data": {
      "text/plain": [
       "473"
      ]
     },
     "execution_count": 116,
     "metadata": {},
     "output_type": "execute_result"
    }
   ],
   "source": [
    "len(agg_dicts63)"
   ]
  },
  {
   "cell_type": "code",
   "execution_count": 117,
   "metadata": {},
   "outputs": [
    {
     "name": "stderr",
     "output_type": "stream",
     "text": [
      "100%|██████████| 8201/8201 [00:00<00:00, 322203.58it/s]\n",
      "100%|██████████| 440/440 [00:00<00:00, 11804.44it/s]\n"
     ]
    }
   ],
   "source": [
    "agg_inc64 = {}\n",
    "for i in tqdm(legislatura64):\n",
    "    if i['id'] in agg_inc64.keys():\n",
    "        agg_inc64[i['id']].append(i['clean_speech'])\n",
    "    else:\n",
    "        agg_inc64[i['id']] = []\n",
    "        agg_inc64[i['id']].append(i['clean_speech'])\n",
    "        \n",
    "agg_dicts64 = []\n",
    "for x, y in tqdm(agg_inc64.items()):\n",
    "    temp = {}\n",
    "    temp['legislatura'] = 64\n",
    "    temp['id_incumbent'] = x\n",
    "    temp['speech'] = ' '.join(y)  \n",
    "    agg_dicts64.append(temp)"
   ]
  },
  {
   "cell_type": "code",
   "execution_count": 118,
   "metadata": {},
   "outputs": [
    {
     "data": {
      "text/plain": [
       "440"
      ]
     },
     "execution_count": 118,
     "metadata": {},
     "output_type": "execute_result"
    }
   ],
   "source": [
    "len(agg_dicts64)"
   ]
  },
  {
   "cell_type": "code",
   "execution_count": 123,
   "metadata": {},
   "outputs": [],
   "source": [
    "with open('/Users/cblanesg/cam.blanes Dropbox/Camila Blanes/Congressional-dataMX/data/02-outcomes/01-policy_positioning/01-text_analysis/00-prep_data/aggregated_legislators/legislatura64_speech.json', 'w') as f:\n",
    "    json.dump(agg_dicts64, f)"
   ]
  },
  {
   "cell_type": "code",
   "execution_count": 130,
   "metadata": {},
   "outputs": [],
   "source": [
    "pd.DataFrame(agg_dicts60).to_excel('/Users/cblanesg/cam.blanes Dropbox/Camila Blanes/Congressional-dataMX/data/02-outcomes/01-policy_positioning/01-text_analysis/00-prep_data/aggregated_legislators/legislatura60_speech.xlsx')"
   ]
  },
  {
   "cell_type": "code",
   "execution_count": 131,
   "metadata": {},
   "outputs": [
    {
     "data": {
      "text/html": [
       "<div>\n",
       "<style scoped>\n",
       "    .dataframe tbody tr th:only-of-type {\n",
       "        vertical-align: middle;\n",
       "    }\n",
       "\n",
       "    .dataframe tbody tr th {\n",
       "        vertical-align: top;\n",
       "    }\n",
       "\n",
       "    .dataframe thead th {\n",
       "        text-align: right;\n",
       "    }\n",
       "</style>\n",
       "<table border=\"1\" class=\"dataframe\">\n",
       "  <thead>\n",
       "    <tr style=\"text-align: right;\">\n",
       "      <th></th>\n",
       "      <th>legislatura</th>\n",
       "      <th>id_incumbent</th>\n",
       "      <th>speech</th>\n",
       "    </tr>\n",
       "  </thead>\n",
       "  <tbody>\n",
       "    <tr>\n",
       "      <th>0</th>\n",
       "      <td>60</td>\n",
       "      <td>e8f72734-fe1f-11ea-95ca-acde48001122</td>\n",
       "      <td>considerar partir accion nacional consecuencia...</td>\n",
       "    </tr>\n",
       "    <tr>\n",
       "      <th>1</th>\n",
       "      <td>60</td>\n",
       "      <td>e9272d26-fe1f-11ea-95ca-acde48001122</td>\n",
       "      <td>venia diputar presidente diputar suscribir dip...</td>\n",
       "    </tr>\n",
       "    <tr>\n",
       "      <th>2</th>\n",
       "      <td>60</td>\n",
       "      <td>e954ec7a-fe1f-11ea-95ca-acde48001122</td>\n",
       "      <td>suscribir diputar federal margarita arenar guz...</td>\n",
       "    </tr>\n",
       "    <tr>\n",
       "      <th>3</th>\n",
       "      <td>60</td>\n",
       "      <td>e82a705e-fe1f-11ea-95ca-acde48001122</td>\n",
       "      <td>banobras y fideicomiso apoyar rescatar autopis...</td>\n",
       "    </tr>\n",
       "    <tr>\n",
       "      <th>4</th>\n",
       "      <td>60</td>\n",
       "      <td>e9b86872-fe1f-11ea-95ca-acde48001122</td>\n",
       "      <td>proposicion punto solicitar a asf fiscalizar l...</td>\n",
       "    </tr>\n",
       "    <tr>\n",
       "      <th>...</th>\n",
       "      <td>...</td>\n",
       "      <td>...</td>\n",
       "      <td>...</td>\n",
       "    </tr>\n",
       "    <tr>\n",
       "      <th>466</th>\n",
       "      <td>60</td>\n",
       "      <td>45f2c4a2-fe20-11ea-95ca-acde48001122</td>\n",
       "      <td>concluir administracion presidente fox mexican...</td>\n",
       "    </tr>\n",
       "    <tr>\n",
       "      <th>467</th>\n",
       "      <td>60</td>\n",
       "      <td>491962bc-fe20-11ea-95ca-acde48001122</td>\n",
       "      <td>permiso senor presidente suscribir diputar jua...</td>\n",
       "    </tr>\n",
       "    <tr>\n",
       "      <th>468</th>\n",
       "      <td>60</td>\n",
       "      <td>494edcda-fe20-11ea-95ca-acde48001122</td>\n",
       "      <td>permiso senora presidente companeros y compane...</td>\n",
       "    </tr>\n",
       "    <tr>\n",
       "      <th>469</th>\n",
       "      <td>60</td>\n",
       "      <td>4988ffa0-fe20-11ea-95ca-acde48001122</td>\n",
       "      <td>diputar oaxaquenos lux legislatura honorable c...</td>\n",
       "    </tr>\n",
       "    <tr>\n",
       "      <th>470</th>\n",
       "      <td>60</td>\n",
       "      <td>49c255a2-fe20-11ea-95ca-acde48001122</td>\n",
       "      <td>senor presidente zermeno procedimiento y atend...</td>\n",
       "    </tr>\n",
       "  </tbody>\n",
       "</table>\n",
       "<p>471 rows × 3 columns</p>\n",
       "</div>"
      ],
      "text/plain": [
       "     legislatura                          id_incumbent  \\\n",
       "0             60  e8f72734-fe1f-11ea-95ca-acde48001122   \n",
       "1             60  e9272d26-fe1f-11ea-95ca-acde48001122   \n",
       "2             60  e954ec7a-fe1f-11ea-95ca-acde48001122   \n",
       "3             60  e82a705e-fe1f-11ea-95ca-acde48001122   \n",
       "4             60  e9b86872-fe1f-11ea-95ca-acde48001122   \n",
       "..           ...                                   ...   \n",
       "466           60  45f2c4a2-fe20-11ea-95ca-acde48001122   \n",
       "467           60  491962bc-fe20-11ea-95ca-acde48001122   \n",
       "468           60  494edcda-fe20-11ea-95ca-acde48001122   \n",
       "469           60  4988ffa0-fe20-11ea-95ca-acde48001122   \n",
       "470           60  49c255a2-fe20-11ea-95ca-acde48001122   \n",
       "\n",
       "                                                speech  \n",
       "0    considerar partir accion nacional consecuencia...  \n",
       "1    venia diputar presidente diputar suscribir dip...  \n",
       "2    suscribir diputar federal margarita arenar guz...  \n",
       "3    banobras y fideicomiso apoyar rescatar autopis...  \n",
       "4    proposicion punto solicitar a asf fiscalizar l...  \n",
       "..                                                 ...  \n",
       "466  concluir administracion presidente fox mexican...  \n",
       "467  permiso senor presidente suscribir diputar jua...  \n",
       "468  permiso senora presidente companeros y compane...  \n",
       "469  diputar oaxaquenos lux legislatura honorable c...  \n",
       "470  senor presidente zermeno procedimiento y atend...  \n",
       "\n",
       "[471 rows x 3 columns]"
      ]
     },
     "execution_count": 131,
     "metadata": {},
     "output_type": "execute_result"
    }
   ],
   "source": [
    "pd.DataFrame(agg_dicts60)"
   ]
  },
  {
   "cell_type": "code",
   "execution_count": 3,
   "metadata": {},
   "outputs": [],
   "source": [
    "with open('/Users/cblanesg/cam.blanes Dropbox/Camila Blanes/Congressional-dataMX/data/02-outcomes/01-policy_positioning/01-text_analysis/00-prep_data/prep_speeches.json') as f:\n",
    "    all_speeches = json.load(f)"
   ]
  },
  {
   "cell_type": "code",
   "execution_count": null,
   "metadata": {},
   "outputs": [],
   "source": []
  },
  {
   "cell_type": "code",
   "execution_count": 15,
   "metadata": {},
   "outputs": [],
   "source": [
    "### Load only Propietaries\n",
    "id_data = []\n",
    "path_id = '/Users/cblanesg/cam.blanes Dropbox/Camila Blanes/Congressional-dataMX/data/01-collection_data/00-id_data/00-id/'\n",
    "for i in listdir(path_id):\n",
    "    if i == '.DS_Store':\n",
    "        continue\n",
    "    else:\n",
    "        with open(path_id + i) as f:\n",
    "            temp = json.load(f)\n",
    "            for j in temp:\n",
    "                id_data.append(j)"
   ]
  },
  {
   "cell_type": "code",
   "execution_count": 16,
   "metadata": {},
   "outputs": [
    {
     "data": {
      "text/plain": [
       "['.DS_Store',\n",
       " 'id_legislatura60.json',\n",
       " 'id_legislatura61.json',\n",
       " 'id_legislatura62.json',\n",
       " 'id_legislatura63.json',\n",
       " 'id_legislatura64.json']"
      ]
     },
     "execution_count": 16,
     "metadata": {},
     "output_type": "execute_result"
    }
   ],
   "source": [
    "listdir(path_id)"
   ]
  },
  {
   "cell_type": "markdown",
   "metadata": {},
   "source": [
    "### Legislatura 60"
   ]
  },
  {
   "cell_type": "code",
   "execution_count": 17,
   "metadata": {},
   "outputs": [],
   "source": [
    "with open(path_id +  'id_legislatura60.json') as f:\n",
    "    id60 = json.load(f)"
   ]
  },
  {
   "cell_type": "code",
   "execution_count": 18,
   "metadata": {},
   "outputs": [
    {
     "data": {
      "text/plain": [
       "1000"
      ]
     },
     "execution_count": 18,
     "metadata": {},
     "output_type": "execute_result"
    }
   ],
   "source": [
    "len(id60)"
   ]
  },
  {
   "cell_type": "code",
   "execution_count": 19,
   "metadata": {},
   "outputs": [],
   "source": [
    "speeches60 = []\n",
    "for i in all_speeches:\n",
    "    if i['legislatura'] == 60:\n",
    "        speeches60.append(i)"
   ]
  },
  {
   "cell_type": "code",
   "execution_count": 21,
   "metadata": {},
   "outputs": [
    {
     "data": {
      "text/plain": [
       "5406"
      ]
     },
     "execution_count": 21,
     "metadata": {},
     "output_type": "execute_result"
    }
   ],
   "source": [
    "len(speeches60)"
   ]
  },
  {
   "cell_type": "code",
   "execution_count": 26,
   "metadata": {},
   "outputs": [
    {
     "data": {
      "text/plain": [
       "402"
      ]
     },
     "execution_count": 26,
     "metadata": {},
     "output_type": "execute_result"
    }
   ],
   "source": [
    "len(pd.DataFrame(speeches60).id.unique())"
   ]
  },
  {
   "cell_type": "code",
   "execution_count": 30,
   "metadata": {},
   "outputs": [
    {
     "data": {
      "text/plain": [
       "401"
      ]
     },
     "execution_count": 30,
     "metadata": {},
     "output_type": "execute_result"
    }
   ],
   "source": [
    "len(pd.DataFrame(speeches60)[pd.DataFrame(speeches60)['id'] != ''].inc_name.unique())"
   ]
  },
  {
   "cell_type": "code",
   "execution_count": 29,
   "metadata": {},
   "outputs": [
    {
     "data": {
      "text/plain": [
       "75"
      ]
     },
     "execution_count": 29,
     "metadata": {},
     "output_type": "execute_result"
    }
   ],
   "source": [
    "len(pd.DataFrame(speeches60)[pd.DataFrame(speeches60)['id'] == ''].inc_name.unique())"
   ]
  },
  {
   "cell_type": "code",
   "execution_count": 6,
   "metadata": {},
   "outputs": [
    {
     "data": {
      "text/plain": [
       "dict_keys(['legislatura', 'year_session', 'year_speech', 'month_speech', 'day_speech', 'topic_speech', 'link_speech', 'inc_party', 'inc_name', 'id_speech', 'text_speech', 'id', 'clean_speech'])"
      ]
     },
     "execution_count": 6,
     "metadata": {},
     "output_type": "execute_result"
    }
   ],
   "source": [
    "all_speeches[0].keys()"
   ]
  },
  {
   "cell_type": "code",
   "execution_count": null,
   "metadata": {},
   "outputs": [],
   "source": [
    "dict_legis = []\n",
    "for i in all_speeches"
   ]
  },
  {
   "cell_type": "code",
   "execution_count": 122,
   "metadata": {
    "scrolled": true
   },
   "outputs": [
    {
     "data": {
      "text/plain": [
       "{' ',\n",
       " 'a',\n",
       " 'b',\n",
       " 'c',\n",
       " 'd',\n",
       " 'e',\n",
       " 'f',\n",
       " 'g',\n",
       " 'h',\n",
       " 'i',\n",
       " 'j',\n",
       " 'k',\n",
       " 'l',\n",
       " 'm',\n",
       " 'n',\n",
       " 'o',\n",
       " 'p',\n",
       " 'q',\n",
       " 'r',\n",
       " 's',\n",
       " 't',\n",
       " 'u',\n",
       " 'v',\n",
       " 'x',\n",
       " 'y',\n",
       " 'z'}"
      ]
     },
     "execution_count": 122,
     "metadata": {},
     "output_type": "execute_result"
    }
   ],
   "source": [
    "set(pre_processText(all_speeches[4]['clean_speech']))"
   ]
  },
  {
   "cell_type": "code",
   "execution_count": 95,
   "metadata": {},
   "outputs": [],
   "source": [
    "df_speeches = pd.DataFrame(all_speeches)"
   ]
  },
  {
   "cell_type": "code",
   "execution_count": 104,
   "metadata": {
    "scrolled": true
   },
   "outputs": [],
   "source": [
    "df_speeches.drop(['text_speech'], axis = 1).to_excel('/Users/cblanesg/cam.blanes Dropbox/Camila Blanes/Congressional-dataMX/data/02-outcomes/01-policy_positioning/01-text_analysis/00-prep_data/prep_speeches.xlsx')"
   ]
  }
 ],
 "metadata": {
  "kernelspec": {
   "display_name": "Python 3",
   "language": "python",
   "name": "python3"
  },
  "language_info": {
   "codemirror_mode": {
    "name": "ipython",
    "version": 3
   },
   "file_extension": ".py",
   "mimetype": "text/x-python",
   "name": "python",
   "nbconvert_exporter": "python",
   "pygments_lexer": "ipython3",
   "version": "3.8.3"
  }
 },
 "nbformat": 4,
 "nbformat_minor": 4
}
