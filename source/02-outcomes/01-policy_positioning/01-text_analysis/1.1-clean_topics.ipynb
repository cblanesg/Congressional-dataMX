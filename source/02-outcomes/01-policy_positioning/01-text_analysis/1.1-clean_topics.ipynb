{
 "cells": [
  {
   "cell_type": "code",
   "execution_count": 1,
   "metadata": {},
   "outputs": [],
   "source": [
    "import json\n",
    "import pandas as pd\n",
    "from os import listdir\n",
    "import re\n",
    "from unidecode import unidecode\n",
    "from tqdm import tqdm\n",
    "from pre_process_functions import *"
   ]
  },
  {
   "cell_type": "code",
   "execution_count": null,
   "metadata": {},
   "outputs": [],
   "source": [
    "### Load Clean Topics\n",
    "with open('/Users/cblanesg/cam.blanes Dropbox/Camila Blanes/Congressional-dataMX/data/02-outcomes/01-policy_positioning/01-text_analysis/00-prep_data/topics_speeches.json') as f:\n",
    "    clean_topics_data = json.load(f)"
   ]
  },
  {
   "cell_type": "code",
   "execution_count": null,
   "metadata": {},
   "outputs": [],
   "source": [
    "mapping_topics = {}\n",
    "for i in clean_topics_data:\n",
    "    mapping_topics[i['id_speech']] = i['clean_topic']"
   ]
  },
  {
   "cell_type": "code",
   "execution_count": null,
   "metadata": {},
   "outputs": [],
   "source": [
    "### Load Specches Disaggregated\n",
    "with open('/Users/cblanesg/cam.blanes Dropbox/Camila Blanes/Congressional-dataMX/data/02-outcomes/01-policy_positioning/01-text_analysis/00-prep_data/legislatura64_speeches.json') as f:\n",
    "    speech = json.load(f)"
   ]
  },
  {
   "cell_type": "code",
   "execution_count": null,
   "metadata": {},
   "outputs": [],
   "source": [
    "for i in tqdm(speech):\n",
    "    i['topic_speech'] = mapping_topics[i['id_speech']]\n",
    "    i['clean_speech'] = last_cleaning(pre_processText(i['text_speech']))"
   ]
  },
  {
   "cell_type": "code",
   "execution_count": null,
   "metadata": {},
   "outputs": [],
   "source": [
    "set(' '.join(pd.DataFrame(speech).clean_speech.unique()))"
   ]
  },
  {
   "cell_type": "code",
   "execution_count": null,
   "metadata": {},
   "outputs": [],
   "source": [
    "#with open('/Users/cblanesg/cam.blanes Dropbox/Camila Blanes/Congressional-dataMX/data/02-outcomes/01-policy_positioning/01-text_analysis/01-clean_data/disaaggregated_data/legislatura64_disaggregated.json', 'w') as f:\n",
    "#    json.dump(speech, f)"
   ]
  },
  {
   "cell_type": "code",
   "execution_count": null,
   "metadata": {},
   "outputs": [],
   "source": [
    "### Clean Topics For LDA"
   ]
  },
  {
   "cell_type": "code",
   "execution_count": null,
   "metadata": {},
   "outputs": [],
   "source": [
    "def last_cleaning(text):\n",
    "    clean = re.sub('\\t', '', text)\n",
    "    clean = re.sub(r\"\\b\\d+|\\d+\\b\", \"\", clean)\n",
    "    clean = re.sub('ó', 'o', clean)\n",
    "    clean = re.sub('í', 'i', clean)\n",
    "    clean = re.sub('[-]', '', clean)\n",
    "    clean = re.sub('[.]', '', clean)\n",
    "    clean = remove_accents(clean)\n",
    "    return(clean)"
   ]
  },
  {
   "cell_type": "code",
   "execution_count": 2,
   "metadata": {},
   "outputs": [],
   "source": [
    "all_legis = []"
   ]
  },
  {
   "cell_type": "code",
   "execution_count": 3,
   "metadata": {},
   "outputs": [],
   "source": [
    "path_speeches = '/Users/cblanesg/cam.blanes Dropbox/Camila Blanes/Congressional-dataMX/data/02-outcomes/01-policy_positioning/01-text_analysis/01-clean_data/disaaggregated_data/'\n",
    "for i in listdir(path_speeches):\n",
    "    with open(path_speeches + i) as f:\n",
    "        temp = json.load(f)\n",
    "        for h in temp:\n",
    "            del h['link_speech']\n",
    "            del h['text_speech']\n",
    "            del h['clean_speech']\n",
    "            all_legis.append(h)"
   ]
  },
  {
   "cell_type": "code",
   "execution_count": 18,
   "metadata": {},
   "outputs": [],
   "source": [
    "def remove_specific_words(text):\n",
    "    clean_text = []\n",
    "    for i in text.split(' '):\n",
    "        if i in ['a', 'le', 'y']:\n",
    "            continue\n",
    "        else:\n",
    "            clean_text.append(i)\n",
    "    return(' '.join(clean_text))"
   ]
  },
  {
   "cell_type": "code",
   "execution_count": 19,
   "metadata": {},
   "outputs": [
    {
     "name": "stderr",
     "output_type": "stream",
     "text": [
      "100%|██████████| 40415/40415 [20:33<00:00, 32.75it/s] \n"
     ]
    }
   ],
   "source": [
    "for i in tqdm(all_legis):\n",
    "    i['clean_topic'] = last_cleaning(pre_processText(i['topic_speech']))\n",
    "    i['clean_topic'] = last_cleaning(i['clean_topic'])\n",
    "    i['clean_topic'] = remove_specific_words(i['clean_topic'])"
   ]
  },
  {
   "cell_type": "code",
   "execution_count": 20,
   "metadata": {
    "scrolled": true
   },
   "outputs": [],
   "source": [
    "words = ' '.join(pd.DataFrame(all_legis).clean_topic.unique()).split(' ')\n",
    "words.sort()"
   ]
  },
  {
   "cell_type": "code",
   "execution_count": 21,
   "metadata": {},
   "outputs": [],
   "source": [
    "unique_words = []\n",
    "for i in words:\n",
    "    if i not in unique_words:\n",
    "        unique_words.append(i)"
   ]
  },
  {
   "cell_type": "code",
   "execution_count": 26,
   "metadata": {},
   "outputs": [
    {
     "data": {
      "text/plain": [
       "(4790, 40415)"
      ]
     },
     "execution_count": 26,
     "metadata": {},
     "output_type": "execute_result"
    }
   ],
   "source": [
    "len(pd.DataFrame(all_legis).clean_topic.unique()), len(pd.DataFrame(all_legis).clean_topic)"
   ]
  },
  {
   "cell_type": "code",
   "execution_count": 29,
   "metadata": {},
   "outputs": [
    {
     "data": {
      "text/html": [
       "<div>\n",
       "<style scoped>\n",
       "    .dataframe tbody tr th:only-of-type {\n",
       "        vertical-align: middle;\n",
       "    }\n",
       "\n",
       "    .dataframe tbody tr th {\n",
       "        vertical-align: top;\n",
       "    }\n",
       "\n",
       "    .dataframe thead th {\n",
       "        text-align: right;\n",
       "    }\n",
       "</style>\n",
       "<table border=\"1\" class=\"dataframe\">\n",
       "  <thead>\n",
       "    <tr style=\"text-align: right;\">\n",
       "      <th></th>\n",
       "      <th>legislatura</th>\n",
       "      <th>year_session</th>\n",
       "      <th>year_speech</th>\n",
       "      <th>month_speech</th>\n",
       "      <th>day_speech</th>\n",
       "      <th>topic_speech</th>\n",
       "      <th>inc_party</th>\n",
       "      <th>inc_name</th>\n",
       "      <th>id_speech</th>\n",
       "      <th>id</th>\n",
       "      <th>clean_topic</th>\n",
       "    </tr>\n",
       "  </thead>\n",
       "  <tbody>\n",
       "  </tbody>\n",
       "</table>\n",
       "</div>"
      ],
      "text/plain": [
       "Empty DataFrame\n",
       "Columns: [legislatura, year_session, year_speech, month_speech, day_speech, topic_speech, inc_party, inc_name, id_speech, id, clean_topic]\n",
       "Index: []"
      ]
     },
     "execution_count": 29,
     "metadata": {},
     "output_type": "execute_result"
    }
   ],
   "source": [
    "pd.DataFrame(all_legis)[pd.DataFrame(all_legis)['clean_topic'].isna()]"
   ]
  },
  {
   "cell_type": "code",
   "execution_count": 33,
   "metadata": {},
   "outputs": [],
   "source": [
    "df = pd.DataFrame(all_legis)"
   ]
  },
  {
   "cell_type": "code",
   "execution_count": 35,
   "metadata": {},
   "outputs": [],
   "source": [
    "df.to_csv('../../../../data/02-outcomes/01-policy_positioning/01-text_analysis/01-clean_data/topics/topics_speeches.csv', encoding = 'utf-8')"
   ]
  }
 ],
 "metadata": {
  "kernelspec": {
   "display_name": "Python 3",
   "language": "python",
   "name": "python3"
  },
  "language_info": {
   "codemirror_mode": {
    "name": "ipython",
    "version": 3
   },
   "file_extension": ".py",
   "mimetype": "text/x-python",
   "name": "python",
   "nbconvert_exporter": "python",
   "pygments_lexer": "ipython3",
   "version": "3.8.3"
  }
 },
 "nbformat": 4,
 "nbformat_minor": 4
}
