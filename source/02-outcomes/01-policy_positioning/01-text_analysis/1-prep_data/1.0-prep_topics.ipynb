{
 "cells": [
  {
   "cell_type": "code",
   "execution_count": 1,
   "metadata": {},
   "outputs": [],
   "source": [
    "import json\n",
    "from tqdm import tqdm\n",
    "import pandas as pd"
   ]
  },
  {
   "cell_type": "code",
   "execution_count": 8,
   "metadata": {
    "scrolled": true
   },
   "outputs": [],
   "source": [
    "with open('/Users/cblanesg/cam.blanes Dropbox/Camila Blanes/Congressional-dataMX/data/02-outcomes/01-policy_positioning/01-text_analysis/00-prep_data/prep_speeches.json') as f:\n",
    "    data = json.load(f)"
   ]
  },
  {
   "cell_type": "code",
   "execution_count": 12,
   "metadata": {},
   "outputs": [],
   "source": [
    "for i in data:\n",
    "    del i['text_speech']\n",
    "    del i['clean_speech']"
   ]
  },
  {
   "cell_type": "code",
   "execution_count": 21,
   "metadata": {},
   "outputs": [
    {
     "data": {
      "text/plain": [
       "5090"
      ]
     },
     "execution_count": 21,
     "metadata": {},
     "output_type": "execute_result"
    }
   ],
   "source": [
    "len(pd.DataFrame(data).topic_speech.unique())"
   ]
  },
  {
   "cell_type": "code",
   "execution_count": 28,
   "metadata": {},
   "outputs": [
    {
     "data": {
      "text/plain": [
       "'http://cronica.diputados.gob.mx:8080/exist/siid2/xQsiid2.xql?legis=LXIII&coleccion=/db/LXIII/A1/P1/Ord%20,/db/LXIII/A1/P1/CPerma%20,/db/LXIII/A1/P2/Ord%20,/db/LXIII/A1/P2/1Extra%20,/db/LXIII/A1/P2/2Extra%20,/db/LXIII/A2/P1/Ord%20,/db/LXIII/A2/P1/CPerma%20,/db/LXIII/A2/P2/Ord%20,/db/LXIII/A3/P1/Ord%20,/db/LXIII/A3/P1/CPerma%20,/db/LXIII/A3/P2/Ord%20&id=551&num=5447&fecha=20160203&tema=EXPIDE%20LA%20LEY%20DE%20FOMENTO%20PARA%20EL%20DESARROLLO%20ECON%C3%93MICO%20DE%20MADRES%20SOLTERAS%20Y%20JEFAS%20DE%20FAMILIA,%20Y%20LEY%20DEL%20IMPUESTO%20SOBRE%20LA%20RENTA'"
      ]
     },
     "execution_count": 28,
     "metadata": {},
     "output_type": "execute_result"
    }
   ],
   "source": [
    "pd.DataFrame(data).link_speech[0]"
   ]
  },
  {
   "cell_type": "code",
   "execution_count": 26,
   "metadata": {},
   "outputs": [],
   "source": [
    "### Re-run topics"
   ]
  },
  {
   "cell_type": "code",
   "execution_count": 2,
   "metadata": {},
   "outputs": [],
   "source": [
    "import requests\n",
    "from bs4 import BeautifulSoup"
   ]
  },
  {
   "cell_type": "code",
   "execution_count": 3,
   "metadata": {},
   "outputs": [],
   "source": [
    "with open('/Users/cblanesg/cam.blanes Dropbox/Camila Blanes/Congressional-dataMX/data/02-outcomes/01-policy_positioning/01-text_analysis/00-prep_data/topics_speeches.json') as f:\n",
    "    data = json.load(f)"
   ]
  },
  {
   "cell_type": "code",
   "execution_count": 4,
   "metadata": {
    "scrolled": true
   },
   "outputs": [
    {
     "name": "stderr",
     "output_type": "stream",
     "text": [
      "[WDM] - Current google-chrome version is 86.0.4240\n",
      "[WDM] - Get LATEST driver version for 86.0.4240\n"
     ]
    },
    {
     "name": "stdout",
     "output_type": "stream",
     "text": [
      " \n"
     ]
    },
    {
     "name": "stderr",
     "output_type": "stream",
     "text": [
      "[WDM] - Driver [/Users/cblanesg/.wdm/drivers/chromedriver/mac64/86.0.4240.22/chromedriver] found in cache\n"
     ]
    }
   ],
   "source": [
    "from webdriver_manager.chrome import ChromeDriverManager\n",
    "from selenium.webdriver import Chrome\n",
    "from selenium import webdriver\n",
    "from selenium.webdriver.chrome.options import Options\n",
    "\n",
    "\n",
    "options = Options()\n",
    "options.add_argument('--headless')\n",
    "driver = webdriver.Chrome(ChromeDriverManager().install())"
   ]
  },
  {
   "cell_type": "code",
   "execution_count": 5,
   "metadata": {},
   "outputs": [],
   "source": [
    "def optain_cleanTopic(link):\n",
    "    driver.get(link)\n",
    "    topic = driver.find_element_by_id('siid').text.split('\\n')[-1:][0]\n",
    "    return(topic)"
   ]
  },
  {
   "cell_type": "code",
   "execution_count": 6,
   "metadata": {},
   "outputs": [
    {
     "name": "stderr",
     "output_type": "stream",
     "text": [
      "100%|██████████| 41582/41582 [4:40:40<00:00,  2.47it/s]  \n"
     ]
    }
   ],
   "source": [
    "for i in tqdm(data):\n",
    "    if i['clean_topic'] == 'missing':\n",
    "        i['clean_topic'] = optain_cleanTopic(i['link_speech'])\n",
    "    else:\n",
    "        continue"
   ]
  },
  {
   "cell_type": "code",
   "execution_count": 82,
   "metadata": {},
   "outputs": [
    {
     "name": "stderr",
     "output_type": "stream",
     "text": [
      "100%|██████████| 41582/41582 [00:00<00:00, 78582.49it/s]\n"
     ]
    }
   ],
   "source": [
    "for i in tqdm(data):\n",
    "    try:\n",
    "        i['clean_topic']\n",
    "    except:\n",
    "        i['clean_topic'] = 'missing'"
   ]
  },
  {
   "cell_type": "code",
   "execution_count": 85,
   "metadata": {
    "scrolled": true
   },
   "outputs": [
    {
     "data": {
      "text/html": [
       "<div>\n",
       "<style scoped>\n",
       "    .dataframe tbody tr th:only-of-type {\n",
       "        vertical-align: middle;\n",
       "    }\n",
       "\n",
       "    .dataframe tbody tr th {\n",
       "        vertical-align: top;\n",
       "    }\n",
       "\n",
       "    .dataframe thead th {\n",
       "        text-align: right;\n",
       "    }\n",
       "</style>\n",
       "<table border=\"1\" class=\"dataframe\">\n",
       "  <thead>\n",
       "    <tr style=\"text-align: right;\">\n",
       "      <th></th>\n",
       "      <th>legislatura</th>\n",
       "      <th>year_session</th>\n",
       "      <th>year_speech</th>\n",
       "      <th>month_speech</th>\n",
       "      <th>day_speech</th>\n",
       "      <th>topic_speech</th>\n",
       "      <th>link_speech</th>\n",
       "      <th>inc_party</th>\n",
       "      <th>inc_name</th>\n",
       "      <th>id_speech</th>\n",
       "      <th>id</th>\n",
       "      <th>clean_topic</th>\n",
       "    </tr>\n",
       "  </thead>\n",
       "  <tbody>\n",
       "    <tr>\n",
       "      <th>36612</th>\n",
       "      <td>60</td>\n",
       "      <td>II</td>\n",
       "      <td>2008</td>\n",
       "      <td>4</td>\n",
       "      <td>3</td>\n",
       "      <td>LEY GENERAL DE SALUD</td>\n",
       "      <td>http://cronica.diputados.gob.mx:8080/exist/sii...</td>\n",
       "      <td>Partido Acción Nacional</td>\n",
       "      <td>García Reyes Ángel Humberto</td>\n",
       "      <td>c6a85716-5e5f-3c7d-b270-3c3b8935bc75</td>\n",
       "      <td>f6450cb2-fe1f-11ea-95ca-acde48001122</td>\n",
       "      <td>missing</td>\n",
       "    </tr>\n",
       "    <tr>\n",
       "      <th>36613</th>\n",
       "      <td>60</td>\n",
       "      <td>I</td>\n",
       "      <td>2007</td>\n",
       "      <td>3</td>\n",
       "      <td>8</td>\n",
       "      <td>LEY FEDERAL DEL TRABAJO</td>\n",
       "      <td>http://cronica.diputados.gob.mx:8080/exist/sii...</td>\n",
       "      <td>Partido Acción Nacional</td>\n",
       "      <td>García Reyes Beatriz Eugenia</td>\n",
       "      <td>d2ab6585-e7f2-38d8-8e79-955af3e54afd</td>\n",
       "      <td>f60f45fa-fe1f-11ea-95ca-acde48001122</td>\n",
       "      <td>missing</td>\n",
       "    </tr>\n",
       "    <tr>\n",
       "      <th>36614</th>\n",
       "      <td>60</td>\n",
       "      <td>II</td>\n",
       "      <td>2007</td>\n",
       "      <td>11</td>\n",
       "      <td>14</td>\n",
       "      <td>LEY DE ASISTENCIA SOCIAL</td>\n",
       "      <td>http://cronica.diputados.gob.mx:8080/exist/sii...</td>\n",
       "      <td>Partido Acción Nacional</td>\n",
       "      <td>García Reyes Beatriz Eugenia</td>\n",
       "      <td>6322769a-ed04-3e05-a6e2-9702bd6162e9</td>\n",
       "      <td>f60f45fa-fe1f-11ea-95ca-acde48001122</td>\n",
       "      <td>missing</td>\n",
       "    </tr>\n",
       "    <tr>\n",
       "      <th>36615</th>\n",
       "      <td>60</td>\n",
       "      <td>I</td>\n",
       "      <td>2006</td>\n",
       "      <td>10</td>\n",
       "      <td>4</td>\n",
       "      <td>ANALISIS VI INFORME DE GOBIERNO. POLITICA SOC...</td>\n",
       "      <td>http://cronica.diputados.gob.mx:8080/exist/sii...</td>\n",
       "      <td>Partido Acción Nacional</td>\n",
       "      <td>García Vivián Raúl</td>\n",
       "      <td>f10528d8-b9d0-3ad1-aa1d-5c3761dffde2</td>\n",
       "      <td>f6774f2e-fe1f-11ea-95ca-acde48001122</td>\n",
       "      <td>missing</td>\n",
       "    </tr>\n",
       "    <tr>\n",
       "      <th>36616</th>\n",
       "      <td>60</td>\n",
       "      <td>II</td>\n",
       "      <td>2007</td>\n",
       "      <td>11</td>\n",
       "      <td>29</td>\n",
       "      <td>LEY FEDERAL DE TURISMO</td>\n",
       "      <td>http://cronica.diputados.gob.mx:8080/exist/sii...</td>\n",
       "      <td>Partido Acción Nacional</td>\n",
       "      <td>Garmendia Hernández Yolanda Mercedes</td>\n",
       "      <td>ccdc60fd-9aae-3c73-9332-37082b5499b6</td>\n",
       "      <td>f6b48fa6-fe1f-11ea-95ca-acde48001122</td>\n",
       "      <td>missing</td>\n",
       "    </tr>\n",
       "    <tr>\n",
       "      <th>...</th>\n",
       "      <td>...</td>\n",
       "      <td>...</td>\n",
       "      <td>...</td>\n",
       "      <td>...</td>\n",
       "      <td>...</td>\n",
       "      <td>...</td>\n",
       "      <td>...</td>\n",
       "      <td>...</td>\n",
       "      <td>...</td>\n",
       "      <td>...</td>\n",
       "      <td>...</td>\n",
       "      <td>...</td>\n",
       "    </tr>\n",
       "    <tr>\n",
       "      <th>41577</th>\n",
       "      <td>60</td>\n",
       "      <td>II</td>\n",
       "      <td>2007</td>\n",
       "      <td>12</td>\n",
       "      <td>12</td>\n",
       "      <td>ARTICULO 123 CONSTITUCIONAL</td>\n",
       "      <td>http://cronica.diputados.gob.mx:8080/exist/sii...</td>\n",
       "      <td>Partido Revolucionario Institucional</td>\n",
       "      <td>Zataraín González Carlos Ernesto</td>\n",
       "      <td>caf7149c-0c60-329f-9d35-6224fe8ece43</td>\n",
       "      <td>49c255a2-fe20-11ea-95ca-acde48001122</td>\n",
       "      <td>missing</td>\n",
       "    </tr>\n",
       "    <tr>\n",
       "      <th>41578</th>\n",
       "      <td>60</td>\n",
       "      <td>II</td>\n",
       "      <td>2008</td>\n",
       "      <td>3</td>\n",
       "      <td>11</td>\n",
       "      <td>LEY DEL SISTEMA NACIONAL DE INFORMACION ESTAD...</td>\n",
       "      <td>http://cronica.diputados.gob.mx:8080/exist/sii...</td>\n",
       "      <td>Partido Revolucionario Institucional</td>\n",
       "      <td>Zataraín González Carlos Ernesto</td>\n",
       "      <td>4b5b1aa8-31bd-3bba-91ec-28fc46f5be53</td>\n",
       "      <td>49c255a2-fe20-11ea-95ca-acde48001122</td>\n",
       "      <td>missing</td>\n",
       "    </tr>\n",
       "    <tr>\n",
       "      <th>41579</th>\n",
       "      <td>60</td>\n",
       "      <td>II</td>\n",
       "      <td>2008</td>\n",
       "      <td>3</td>\n",
       "      <td>26</td>\n",
       "      <td>LEY ORGANICA DEL CONGRESO GENERAL DE LOS ESTA...</td>\n",
       "      <td>http://cronica.diputados.gob.mx:8080/exist/sii...</td>\n",
       "      <td>Partido Revolucionario Institucional</td>\n",
       "      <td>Zataraín González Carlos Ernesto</td>\n",
       "      <td>8855fdd5-ec1f-35d5-aaf7-19b895fbf244</td>\n",
       "      <td>49c255a2-fe20-11ea-95ca-acde48001122</td>\n",
       "      <td>missing</td>\n",
       "    </tr>\n",
       "    <tr>\n",
       "      <th>41580</th>\n",
       "      <td>60</td>\n",
       "      <td>II</td>\n",
       "      <td>2008</td>\n",
       "      <td>4</td>\n",
       "      <td>30</td>\n",
       "      <td>LEY DE FOMENTO PARA LA LECTURA Y EL LIBRO</td>\n",
       "      <td>http://cronica.diputados.gob.mx:8080/exist/sii...</td>\n",
       "      <td>Partido Revolucionario Institucional</td>\n",
       "      <td>Zataraín González Carlos Ernesto</td>\n",
       "      <td>562194af-8be1-399b-93ff-ba457c907fdc</td>\n",
       "      <td>49c255a2-fe20-11ea-95ca-acde48001122</td>\n",
       "      <td>missing</td>\n",
       "    </tr>\n",
       "    <tr>\n",
       "      <th>41581</th>\n",
       "      <td>60</td>\n",
       "      <td>III</td>\n",
       "      <td>2008</td>\n",
       "      <td>10</td>\n",
       "      <td>7</td>\n",
       "      <td>SALVADOR CHRISTOPHER VERGARA CRUZ</td>\n",
       "      <td>http://cronica.diputados.gob.mx:8080/exist/sii...</td>\n",
       "      <td>Partido Revolucionario Institucional</td>\n",
       "      <td>Zataraín González Carlos Ernesto</td>\n",
       "      <td>54aff9d7-8aef-31cf-8fb4-b662f2b86bb4</td>\n",
       "      <td>49c255a2-fe20-11ea-95ca-acde48001122</td>\n",
       "      <td>missing</td>\n",
       "    </tr>\n",
       "  </tbody>\n",
       "</table>\n",
       "<p>4970 rows × 12 columns</p>\n",
       "</div>"
      ],
      "text/plain": [
       "       legislatura year_session  year_speech  month_speech  day_speech  \\\n",
       "36612           60           II         2008             4           3   \n",
       "36613           60            I         2007             3           8   \n",
       "36614           60           II         2007            11          14   \n",
       "36615           60            I         2006            10           4   \n",
       "36616           60           II         2007            11          29   \n",
       "...            ...          ...          ...           ...         ...   \n",
       "41577           60           II         2007            12          12   \n",
       "41578           60           II         2008             3          11   \n",
       "41579           60           II         2008             3          26   \n",
       "41580           60           II         2008             4          30   \n",
       "41581           60          III         2008            10           7   \n",
       "\n",
       "                                           topic_speech  \\\n",
       "36612                              LEY GENERAL DE SALUD   \n",
       "36613                           LEY FEDERAL DEL TRABAJO   \n",
       "36614                          LEY DE ASISTENCIA SOCIAL   \n",
       "36615  ANALISIS VI INFORME DE GOBIERNO. POLITICA SOC...   \n",
       "36616                            LEY FEDERAL DE TURISMO   \n",
       "...                                                 ...   \n",
       "41577                       ARTICULO 123 CONSTITUCIONAL   \n",
       "41578  LEY DEL SISTEMA NACIONAL DE INFORMACION ESTAD...   \n",
       "41579  LEY ORGANICA DEL CONGRESO GENERAL DE LOS ESTA...   \n",
       "41580         LEY DE FOMENTO PARA LA LECTURA Y EL LIBRO   \n",
       "41581                 SALVADOR CHRISTOPHER VERGARA CRUZ   \n",
       "\n",
       "                                             link_speech  \\\n",
       "36612  http://cronica.diputados.gob.mx:8080/exist/sii...   \n",
       "36613  http://cronica.diputados.gob.mx:8080/exist/sii...   \n",
       "36614  http://cronica.diputados.gob.mx:8080/exist/sii...   \n",
       "36615  http://cronica.diputados.gob.mx:8080/exist/sii...   \n",
       "36616  http://cronica.diputados.gob.mx:8080/exist/sii...   \n",
       "...                                                  ...   \n",
       "41577  http://cronica.diputados.gob.mx:8080/exist/sii...   \n",
       "41578  http://cronica.diputados.gob.mx:8080/exist/sii...   \n",
       "41579  http://cronica.diputados.gob.mx:8080/exist/sii...   \n",
       "41580  http://cronica.diputados.gob.mx:8080/exist/sii...   \n",
       "41581  http://cronica.diputados.gob.mx:8080/exist/sii...   \n",
       "\n",
       "                                  inc_party  \\\n",
       "36612               Partido Acción Nacional   \n",
       "36613               Partido Acción Nacional   \n",
       "36614               Partido Acción Nacional   \n",
       "36615               Partido Acción Nacional   \n",
       "36616               Partido Acción Nacional   \n",
       "...                                     ...   \n",
       "41577  Partido Revolucionario Institucional   \n",
       "41578  Partido Revolucionario Institucional   \n",
       "41579  Partido Revolucionario Institucional   \n",
       "41580  Partido Revolucionario Institucional   \n",
       "41581  Partido Revolucionario Institucional   \n",
       "\n",
       "                                   inc_name  \\\n",
       "36612           García Reyes Ángel Humberto   \n",
       "36613          García Reyes Beatriz Eugenia   \n",
       "36614          García Reyes Beatriz Eugenia   \n",
       "36615                    García Vivián Raúl   \n",
       "36616  Garmendia Hernández Yolanda Mercedes   \n",
       "...                                     ...   \n",
       "41577      Zataraín González Carlos Ernesto   \n",
       "41578      Zataraín González Carlos Ernesto   \n",
       "41579      Zataraín González Carlos Ernesto   \n",
       "41580      Zataraín González Carlos Ernesto   \n",
       "41581      Zataraín González Carlos Ernesto   \n",
       "\n",
       "                                  id_speech  \\\n",
       "36612  c6a85716-5e5f-3c7d-b270-3c3b8935bc75   \n",
       "36613  d2ab6585-e7f2-38d8-8e79-955af3e54afd   \n",
       "36614  6322769a-ed04-3e05-a6e2-9702bd6162e9   \n",
       "36615  f10528d8-b9d0-3ad1-aa1d-5c3761dffde2   \n",
       "36616  ccdc60fd-9aae-3c73-9332-37082b5499b6   \n",
       "...                                     ...   \n",
       "41577  caf7149c-0c60-329f-9d35-6224fe8ece43   \n",
       "41578  4b5b1aa8-31bd-3bba-91ec-28fc46f5be53   \n",
       "41579  8855fdd5-ec1f-35d5-aaf7-19b895fbf244   \n",
       "41580  562194af-8be1-399b-93ff-ba457c907fdc   \n",
       "41581  54aff9d7-8aef-31cf-8fb4-b662f2b86bb4   \n",
       "\n",
       "                                         id clean_topic  \n",
       "36612  f6450cb2-fe1f-11ea-95ca-acde48001122     missing  \n",
       "36613  f60f45fa-fe1f-11ea-95ca-acde48001122     missing  \n",
       "36614  f60f45fa-fe1f-11ea-95ca-acde48001122     missing  \n",
       "36615  f6774f2e-fe1f-11ea-95ca-acde48001122     missing  \n",
       "36616  f6b48fa6-fe1f-11ea-95ca-acde48001122     missing  \n",
       "...                                     ...         ...  \n",
       "41577  49c255a2-fe20-11ea-95ca-acde48001122     missing  \n",
       "41578  49c255a2-fe20-11ea-95ca-acde48001122     missing  \n",
       "41579  49c255a2-fe20-11ea-95ca-acde48001122     missing  \n",
       "41580  49c255a2-fe20-11ea-95ca-acde48001122     missing  \n",
       "41581  49c255a2-fe20-11ea-95ca-acde48001122     missing  \n",
       "\n",
       "[4970 rows x 12 columns]"
      ]
     },
     "execution_count": 85,
     "metadata": {},
     "output_type": "execute_result"
    }
   ],
   "source": [
    "pd.DataFrame(data)[pd.DataFrame(data)['clean_topic'] == 'missing']"
   ]
  },
  {
   "cell_type": "code",
   "execution_count": 7,
   "metadata": {},
   "outputs": [],
   "source": [
    "with open('/Users/cblanesg/cam.blanes Dropbox/Camila Blanes/Congressional-dataMX/data/02-outcomes/01-policy_positioning/01-text_analysis/00-prep_data/topics_speeches.json', 'w') as f:\n",
    "    json.dump(data, f)"
   ]
  }
 ],
 "metadata": {
  "kernelspec": {
   "display_name": "Python 3",
   "language": "python",
   "name": "python3"
  },
  "language_info": {
   "codemirror_mode": {
    "name": "ipython",
    "version": 3
   },
   "file_extension": ".py",
   "mimetype": "text/x-python",
   "name": "python",
   "nbconvert_exporter": "python",
   "pygments_lexer": "ipython3",
   "version": "3.8.3"
  }
 },
 "nbformat": 4,
 "nbformat_minor": 4
}
