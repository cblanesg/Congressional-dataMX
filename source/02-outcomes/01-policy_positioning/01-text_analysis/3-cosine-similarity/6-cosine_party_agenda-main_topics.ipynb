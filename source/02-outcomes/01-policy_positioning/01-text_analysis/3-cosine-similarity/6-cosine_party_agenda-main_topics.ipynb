{
 "cells": [
  {
   "cell_type": "markdown",
   "metadata": {},
   "source": [
    "## Estimate Cosine Similarity between members and their own party- Grouping all speeches"
   ]
  },
  {
   "cell_type": "code",
   "execution_count": 1,
   "metadata": {},
   "outputs": [],
   "source": [
    "import pandas as pd\n",
    "from keras.preprocessing.text import text_to_word_sequence\n",
    "from sklearn.feature_extraction.text import TfidfVectorizer\n",
    "from sklearn.metrics.pairwise import cosine_similarity\n",
    "import numpy as np\n",
    "from tqdm import tqdm"
   ]
  },
  {
   "cell_type": "code",
   "execution_count": 2,
   "metadata": {},
   "outputs": [],
   "source": [
    "import warnings\n",
    "warnings.filterwarnings(\"ignore\")"
   ]
  },
  {
   "cell_type": "code",
   "execution_count": 3,
   "metadata": {},
   "outputs": [],
   "source": [
    "### Load data"
   ]
  },
  {
   "cell_type": "code",
   "execution_count": 4,
   "metadata": {},
   "outputs": [],
   "source": [
    "path_file = '/Users/cblanesg/cam.blanes Dropbox/Camila Blanes/Congressional-dataMX/data/02-outcomes/01-policy_positioning/01-text_analysis/wordfish/01_lda/speeches_20k.csv'"
   ]
  },
  {
   "cell_type": "code",
   "execution_count": 16,
   "metadata": {},
   "outputs": [],
   "source": [
    "data = pd.read_csv(path_file).drop('Unnamed: 0', axis = 1)"
   ]
  },
  {
   "cell_type": "markdown",
   "metadata": {
    "scrolled": true
   },
   "source": [
    "## group by topic and legislator"
   ]
  },
  {
   "cell_type": "code",
   "execution_count": 18,
   "metadata": {},
   "outputs": [],
   "source": [
    "input_data = data[['id_legislador', 'legislatura', 'inc_party','clean_speech', 'topics20k']]"
   ]
  },
  {
   "cell_type": "code",
   "execution_count": 104,
   "metadata": {},
   "outputs": [],
   "source": [
    "input_data = input_data.groupby(['id_legislador',\n",
    "                   'legislatura','topics20k',\n",
    "                   'inc_party']).agg(''.join).reset_index()"
   ]
  },
  {
   "cell_type": "code",
   "execution_count": 105,
   "metadata": {},
   "outputs": [],
   "source": [
    "input_data2 = input_data.groupby(['id_legislador',\n",
    "                   'legislatura',\n",
    "                   'inc_party']).agg(''.join).reset_index()"
   ]
  },
  {
   "cell_type": "markdown",
   "metadata": {},
   "source": [
    "## Obtain Cosain Similarity between members and median member of party"
   ]
  },
  {
   "cell_type": "markdown",
   "metadata": {},
   "source": [
    "### Prepare data"
   ]
  },
  {
   "cell_type": "code",
   "execution_count": 20,
   "metadata": {},
   "outputs": [],
   "source": [
    "coordinadores = pd.read_excel('/Users/cblanesg/cam.blanes Dropbox/Camila Blanes/Congressional-dataMX/data/01-collection_data/00-id_data/04-coordinadores_parlamentarios/coordinadores_parlamentarios.xlsx')\n",
    "ids_coordinadores = list(coordinadores.id_legislador)"
   ]
  },
  {
   "cell_type": "code",
   "execution_count": 108,
   "metadata": {},
   "outputs": [],
   "source": [
    "data_members = input_data[~input_data['id_legislador'].isin(ids_coordinadores)]\n",
    "data_coordinadores = input_data2[input_data2['id_legislador'].isin(ids_coordinadores)].reset_index().drop('index', axis = 1)\n",
    "data_coordinadores2 = input_data[input_data['id_legislador'].isin(ids_coordinadores)].reset_index().drop('index', axis = 1)"
   ]
  },
  {
   "cell_type": "code",
   "execution_count": 32,
   "metadata": {},
   "outputs": [],
   "source": [
    "id_legis = '08f7bbd6-fd10-11ea-83d8-acde48001122'"
   ]
  },
  {
   "cell_type": "code",
   "execution_count": 33,
   "metadata": {},
   "outputs": [],
   "source": [
    "data_legis = data[data['id_legislador'] == id_legis]"
   ]
  },
  {
   "cell_type": "code",
   "execution_count": 41,
   "metadata": {},
   "outputs": [],
   "source": [
    "counts = data_legis[['legislatura', 'topics20k']].groupby(['topics20k']).count().reset_index()"
   ]
  },
  {
   "cell_type": "code",
   "execution_count": 47,
   "metadata": {},
   "outputs": [],
   "source": [
    "top_topics = list(counts.sort_values(by=['legislatura'], ascending=False).head(5).topics20k)"
   ]
  },
  {
   "cell_type": "code",
   "execution_count": 54,
   "metadata": {},
   "outputs": [],
   "source": [
    "data_legis = data_coordinadores[data_coordinadores['id_legislador'] == id_legis]\n",
    "data_legis = data_legis[data_legis['topics20k'].isin(top_topics)]"
   ]
  },
  {
   "cell_type": "code",
   "execution_count": 55,
   "metadata": {},
   "outputs": [],
   "source": [
    "def obtain_main_topics(data_legis):\n",
    "    counts = data_legis[['legislatura', 'topics20k']].groupby(['topics20k']).count().reset_index()\n",
    "    top_topics = list(counts.sort_values(by=['legislatura'], ascending=False).head(5).topics20k)\n",
    "    return(top_topics)"
   ]
  },
  {
   "cell_type": "code",
   "execution_count": null,
   "metadata": {},
   "outputs": [],
   "source": []
  },
  {
   "cell_type": "code",
   "execution_count": 109,
   "metadata": {},
   "outputs": [
    {
     "name": "stderr",
     "output_type": "stream",
     "text": [
      "100%|██████████| 37/37 [00:04<00:00,  7.61it/s]\n"
     ]
    }
   ],
   "source": [
    "all_dataframes = []\n",
    "for i in tqdm(range(0, len(data_coordinadores))):\n",
    "    legislatura = data_coordinadores.loc[i]['legislatura']\n",
    "    party =  data_coordinadores.loc[i]['inc_party']\n",
    "    leader =  data_coordinadores.loc[i]['id_legislador']\n",
    "    \n",
    "    data_legis = data_coordinadores2[data_coordinadores2['id_legislador'] == leader]\n",
    "    top_topics = obtain_main_topics(data_legis)\n",
    "    \n",
    "    #data_legis = data_legis[data_legis['topics20k'].isin(top_topics)]\n",
    "    subtopics = input_data[input_data['topics20k'].isin(top_topics)]\n",
    "    subtopics = subtopics.groupby(['id_legislador',\n",
    "                   'legislatura','inc_party']).agg(''.join).reset_index()\n",
    "    subset = subtopics[subtopics['legislatura'] == legislatura][subtopics[subtopics['legislatura'] == legislatura]['inc_party'] == party]\n",
    "    vectorizer = TfidfVectorizer()\n",
    "    response = vectorizer.fit_transform(subset.clean_speech)\n",
    "    \n",
    "    tfidf = pd.DataFrame(response.toarray().transpose(),\n",
    "                   index=vectorizer.get_feature_names())\n",
    "    cosine_similarity_matrix = np.transpose(np.asmatrix(tfidf))*np.asmatrix(tfidf)\n",
    "    \n",
    "    df_cosine = pd.DataFrame(cosine_similarity_matrix)\n",
    "    temp_cosine = pd.concat([pd.DataFrame({'id_legislador':subset.id_legislador}).reset_index(drop=True), df_cosine], axis=1)\n",
    "        \n",
    "    df_temp = pd.DataFrame({'id_legislador':subset.id_legislador})\n",
    "    index_party_leader  = df_temp.reset_index()[df_temp.reset_index()['id_legislador'] == leader].index[0]\n",
    "        \n",
    "    cosine_out = temp_cosine[['id_legislador', index_party_leader]]\n",
    "    cosine_out.columns = ['id_legislador', 'cosine_similarity']\n",
    "    cosine_out['party_leader'] = np.where(cosine_out['id_legislador'] == leader, 1, 0)\n",
    "    cosine_out['legislatura'] = legislatura\n",
    "    cosine_out['inc_party'] = party\n",
    "    all_dataframes.append(cosine_out)\n",
    "    "
   ]
  },
  {
   "cell_type": "code",
   "execution_count": 110,
   "metadata": {},
   "outputs": [],
   "source": [
    "agenda_main_topics = pd.concat(all_dataframes)"
   ]
  },
  {
   "cell_type": "code",
   "execution_count": 111,
   "metadata": {},
   "outputs": [
    {
     "data": {
      "text/html": [
       "<div>\n",
       "<style scoped>\n",
       "    .dataframe tbody tr th:only-of-type {\n",
       "        vertical-align: middle;\n",
       "    }\n",
       "\n",
       "    .dataframe tbody tr th {\n",
       "        vertical-align: top;\n",
       "    }\n",
       "\n",
       "    .dataframe thead th {\n",
       "        text-align: right;\n",
       "    }\n",
       "</style>\n",
       "<table border=\"1\" class=\"dataframe\">\n",
       "  <thead>\n",
       "    <tr style=\"text-align: right;\">\n",
       "      <th></th>\n",
       "      <th>id_legislador</th>\n",
       "      <th>cosine_similarity</th>\n",
       "      <th>party_leader</th>\n",
       "      <th>legislatura</th>\n",
       "      <th>inc_party</th>\n",
       "    </tr>\n",
       "  </thead>\n",
       "  <tbody>\n",
       "    <tr>\n",
       "      <th>0</th>\n",
       "      <td>015592cc-fd10-11ea-83d8-acde48001122</td>\n",
       "      <td>0.354132</td>\n",
       "      <td>0</td>\n",
       "      <td>64</td>\n",
       "      <td>Partido Encuentro Social</td>\n",
       "    </tr>\n",
       "    <tr>\n",
       "      <th>1</th>\n",
       "      <td>02679372-fd10-11ea-83d8-acde48001122</td>\n",
       "      <td>0.145642</td>\n",
       "      <td>0</td>\n",
       "      <td>64</td>\n",
       "      <td>Partido Encuentro Social</td>\n",
       "    </tr>\n",
       "    <tr>\n",
       "      <th>2</th>\n",
       "      <td>03bc2ac6-fd10-11ea-83d8-acde48001122</td>\n",
       "      <td>0.148824</td>\n",
       "      <td>0</td>\n",
       "      <td>64</td>\n",
       "      <td>Partido Encuentro Social</td>\n",
       "    </tr>\n",
       "    <tr>\n",
       "      <th>3</th>\n",
       "      <td>04e72c02-fd10-11ea-83d8-acde48001122</td>\n",
       "      <td>0.244931</td>\n",
       "      <td>0</td>\n",
       "      <td>64</td>\n",
       "      <td>Partido Encuentro Social</td>\n",
       "    </tr>\n",
       "    <tr>\n",
       "      <th>4</th>\n",
       "      <td>0577b2c2-fd10-11ea-83d8-acde48001122</td>\n",
       "      <td>0.235935</td>\n",
       "      <td>0</td>\n",
       "      <td>64</td>\n",
       "      <td>Partido Encuentro Social</td>\n",
       "    </tr>\n",
       "    <tr>\n",
       "      <th>...</th>\n",
       "      <td>...</td>\n",
       "      <td>...</td>\n",
       "      <td>...</td>\n",
       "      <td>...</td>\n",
       "      <td>...</td>\n",
       "    </tr>\n",
       "    <tr>\n",
       "      <th>126</th>\n",
       "      <td>fe27dc5c-fe1f-11ea-95ca-acde48001122</td>\n",
       "      <td>0.081063</td>\n",
       "      <td>0</td>\n",
       "      <td>60</td>\n",
       "      <td>Partido Acción Nacional</td>\n",
       "    </tr>\n",
       "    <tr>\n",
       "      <th>127</th>\n",
       "      <td>fe58123c-fe1f-11ea-95ca-acde48001122</td>\n",
       "      <td>0.248966</td>\n",
       "      <td>0</td>\n",
       "      <td>60</td>\n",
       "      <td>Partido Acción Nacional</td>\n",
       "    </tr>\n",
       "    <tr>\n",
       "      <th>128</th>\n",
       "      <td>fe862276-fe1f-11ea-95ca-acde48001122</td>\n",
       "      <td>0.126217</td>\n",
       "      <td>0</td>\n",
       "      <td>60</td>\n",
       "      <td>Partido Acción Nacional</td>\n",
       "    </tr>\n",
       "    <tr>\n",
       "      <th>129</th>\n",
       "      <td>feba2706-fe1f-11ea-95ca-acde48001122</td>\n",
       "      <td>0.266683</td>\n",
       "      <td>0</td>\n",
       "      <td>60</td>\n",
       "      <td>Partido Acción Nacional</td>\n",
       "    </tr>\n",
       "    <tr>\n",
       "      <th>130</th>\n",
       "      <td>feebadf8-fe1f-11ea-95ca-acde48001122</td>\n",
       "      <td>0.060118</td>\n",
       "      <td>0</td>\n",
       "      <td>60</td>\n",
       "      <td>Partido Acción Nacional</td>\n",
       "    </tr>\n",
       "  </tbody>\n",
       "</table>\n",
       "<p>1729 rows × 5 columns</p>\n",
       "</div>"
      ],
      "text/plain": [
       "                            id_legislador  cosine_similarity  party_leader  \\\n",
       "0    015592cc-fd10-11ea-83d8-acde48001122           0.354132             0   \n",
       "1    02679372-fd10-11ea-83d8-acde48001122           0.145642             0   \n",
       "2    03bc2ac6-fd10-11ea-83d8-acde48001122           0.148824             0   \n",
       "3    04e72c02-fd10-11ea-83d8-acde48001122           0.244931             0   \n",
       "4    0577b2c2-fd10-11ea-83d8-acde48001122           0.235935             0   \n",
       "..                                    ...                ...           ...   \n",
       "126  fe27dc5c-fe1f-11ea-95ca-acde48001122           0.081063             0   \n",
       "127  fe58123c-fe1f-11ea-95ca-acde48001122           0.248966             0   \n",
       "128  fe862276-fe1f-11ea-95ca-acde48001122           0.126217             0   \n",
       "129  feba2706-fe1f-11ea-95ca-acde48001122           0.266683             0   \n",
       "130  feebadf8-fe1f-11ea-95ca-acde48001122           0.060118             0   \n",
       "\n",
       "     legislatura                 inc_party  \n",
       "0             64  Partido Encuentro Social  \n",
       "1             64  Partido Encuentro Social  \n",
       "2             64  Partido Encuentro Social  \n",
       "3             64  Partido Encuentro Social  \n",
       "4             64  Partido Encuentro Social  \n",
       "..           ...                       ...  \n",
       "126           60   Partido Acción Nacional  \n",
       "127           60   Partido Acción Nacional  \n",
       "128           60   Partido Acción Nacional  \n",
       "129           60   Partido Acción Nacional  \n",
       "130           60   Partido Acción Nacional  \n",
       "\n",
       "[1729 rows x 5 columns]"
      ]
     },
     "execution_count": 111,
     "metadata": {},
     "output_type": "execute_result"
    }
   ],
   "source": [
    "agenda_main_topics"
   ]
  },
  {
   "cell_type": "code",
   "execution_count": 112,
   "metadata": {},
   "outputs": [],
   "source": [
    "agenda_main_topics.to_excel('/Users/cblanesg/cam.blanes Dropbox/Camila Blanes/Congressional-dataMX/data/02-outcomes/01-policy_positioning/01-text_analysis/cosine_similarity/party_agenda_leadership_main-topics.xlsx')"
   ]
  }
 ],
 "metadata": {
  "kernelspec": {
   "display_name": "Python 3",
   "language": "python",
   "name": "python3"
  },
  "language_info": {
   "codemirror_mode": {
    "name": "ipython",
    "version": 3
   },
   "file_extension": ".py",
   "mimetype": "text/x-python",
   "name": "python",
   "nbconvert_exporter": "python",
   "pygments_lexer": "ipython3",
   "version": "3.8.3"
  }
 },
 "nbformat": 4,
 "nbformat_minor": 4
}
