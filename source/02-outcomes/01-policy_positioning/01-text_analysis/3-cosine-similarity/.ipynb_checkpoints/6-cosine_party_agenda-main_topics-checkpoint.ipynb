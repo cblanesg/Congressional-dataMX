{
 "cells": [
  {
   "cell_type": "markdown",
   "metadata": {},
   "source": [
    "## Estimate Cosine Similarity between members and their own party- Grouping all speeches"
   ]
  },
  {
   "cell_type": "code",
   "execution_count": 64,
   "metadata": {},
   "outputs": [],
   "source": [
    "import pandas as pd\n",
    "from keras.preprocessing.text import text_to_word_sequence\n",
    "from sklearn.feature_extraction.text import TfidfVectorizer\n",
    "from sklearn.metrics.pairwise import cosine_similarity\n",
    "import numpy as np\n",
    "from tqdm import tqdm"
   ]
  },
  {
   "cell_type": "code",
   "execution_count": null,
   "metadata": {},
   "outputs": [],
   "source": []
  },
  {
   "cell_type": "code",
   "execution_count": 2,
   "metadata": {},
   "outputs": [],
   "source": [
    "import warnings\n",
    "warnings.filterwarnings(\"ignore\")"
   ]
  },
  {
   "cell_type": "code",
   "execution_count": 3,
   "metadata": {},
   "outputs": [],
   "source": [
    "### Load data"
   ]
  },
  {
   "cell_type": "code",
   "execution_count": 4,
   "metadata": {},
   "outputs": [],
   "source": [
    "path_file = '/Users/cblanesg/cam.blanes Dropbox/Camila Blanes/Congressional-dataMX/data/02-outcomes/01-policy_positioning/01-text_analysis/wordfish/01_lda/speeches_20k.csv'"
   ]
  },
  {
   "cell_type": "code",
   "execution_count": 5,
   "metadata": {},
   "outputs": [],
   "source": [
    "data = pd.read_csv(path_file).drop('Unnamed: 0', axis = 1)"
   ]
  },
  {
   "cell_type": "markdown",
   "metadata": {
    "scrolled": true
   },
   "source": [
    "## group by topic and legislator"
   ]
  },
  {
   "cell_type": "code",
   "execution_count": 6,
   "metadata": {},
   "outputs": [],
   "source": [
    "input_data = data[['id_legislador', 'legislatura', 'inc_party','clean_speech']]"
   ]
  },
  {
   "cell_type": "code",
   "execution_count": 7,
   "metadata": {},
   "outputs": [],
   "source": [
    "input_data = input_data.groupby(['id_legislador',\n",
    "                   'legislatura',\n",
    "                   'inc_party']).agg(''.join).reset_index()"
   ]
  },
  {
   "cell_type": "markdown",
   "metadata": {},
   "source": [
    "## Obtain Cosain Similarity between members and median member of party"
   ]
  },
  {
   "cell_type": "markdown",
   "metadata": {},
   "source": [
    "### Prepare data"
   ]
  },
  {
   "cell_type": "code",
   "execution_count": 9,
   "metadata": {},
   "outputs": [],
   "source": [
    "coordinadores = pd.read_excel('/Users/cblanesg/cam.blanes Dropbox/Camila Blanes/Congressional-dataMX/data/01-collection_data/00-id_data/04-coordinadores_parlamentarios/coordinadores_parlamentarios.xlsx')\n",
    "ids_coordinadores = list(coordinadores.id_legislador)"
   ]
  },
  {
   "cell_type": "code",
   "execution_count": 10,
   "metadata": {},
   "outputs": [],
   "source": [
    "data_members = input_data[~input_data['id_legislador'].isin(ids_coordinadores)]\n",
    "data_coordinadores = input_data[input_data['id_legislador'].isin(ids_coordinadores)].reset_index().drop('index', axis = 1)"
   ]
  },
  {
   "cell_type": "markdown",
   "metadata": {},
   "source": [
    "### Cosine Similarity"
   ]
  },
  {
   "cell_type": "code",
   "execution_count": 62,
   "metadata": {},
   "outputs": [],
   "source": [
    "def party_agenda(data_coordinadores,input_data ):\n",
    "    all_dataframes = []\n",
    "    for i in tqdm(range(0, len(data_coordinadores))):\n",
    "        legislatura = data_coordinadores.loc[i]['legislatura']\n",
    "        party =  data_coordinadores.loc[i]['inc_party']\n",
    "        leader =  data_coordinadores.loc[i]['id_legislador']\n",
    "        \n",
    "        subset = input_data[input_data['legislatura'] == legislatura][input_data[input_data['legislatura'] == legislatura]['inc_party'] == party]\n",
    "        vectorizer = TfidfVectorizer()\n",
    "        response = vectorizer.fit_transform(subset.clean_speech)\n",
    "        \n",
    "        tfidf = pd.DataFrame(response.toarray().transpose(),\n",
    "                   index=vectorizer.get_feature_names())\n",
    "        cosine_similarity_matrix = np.transpose(np.asmatrix(tfidf))*np.asmatrix(tfidf)\n",
    "        \n",
    "        df_cosine = pd.DataFrame(cosine_similarity_matrix)\n",
    "        temp_cosine = pd.concat([pd.DataFrame({'id_legislador':subset.id_legislador}).reset_index(drop=True), df_cosine], axis=1)\n",
    "        \n",
    "        df_temp = pd.DataFrame({'id_legislador':subset.id_legislador})\n",
    "        index_party_leader  = df_temp.reset_index()[df_temp.reset_index()['id_legislador'] == leader].index[0]\n",
    "        \n",
    "        cosine_out = temp_cosine[['id_legislador', index_party_leader]]\n",
    "        cosine_out.columns = ['id_legislador', 'cosine_similarity']\n",
    "        cosine_out['party_leader'] = np.where(cosine_out['id_legislador'] == leader, 1, 0)\n",
    "        cosine_out['legislatura'] = legislatura\n",
    "        cosine_out['inc_party'] = party\n",
    "        all_dataframes.append(cosine_out)\n",
    "    return(pd.concat(all_dataframes))"
   ]
  },
  {
   "cell_type": "markdown",
   "metadata": {},
   "source": [
    "## Party Agenda Measure"
   ]
  },
  {
   "cell_type": "code",
   "execution_count": 65,
   "metadata": {},
   "outputs": [
    {
     "name": "stderr",
     "output_type": "stream",
     "text": [
      "100%|██████████| 37/37 [00:10<00:00,  3.53it/s]\n"
     ]
    }
   ],
   "source": [
    "out = party_agenda(data_coordinadores,input_data)"
   ]
  },
  {
   "cell_type": "code",
   "execution_count": 69,
   "metadata": {},
   "outputs": [],
   "source": [
    "out.to_excel('/Users/cblanesg/cam.blanes Dropbox/Camila Blanes/Congressional-dataMX/data/02-outcomes/01-policy_positioning/01-text_analysis/cosine_similarity/party_agenda_leadership.xlsx')"
   ]
  }
 ],
 "metadata": {
  "kernelspec": {
   "display_name": "Python 3",
   "language": "python",
   "name": "python3"
  },
  "language_info": {
   "codemirror_mode": {
    "name": "ipython",
    "version": 3
   },
   "file_extension": ".py",
   "mimetype": "text/x-python",
   "name": "python",
   "nbconvert_exporter": "python",
   "pygments_lexer": "ipython3",
   "version": "3.8.3"
  }
 },
 "nbformat": 4,
 "nbformat_minor": 4
}
