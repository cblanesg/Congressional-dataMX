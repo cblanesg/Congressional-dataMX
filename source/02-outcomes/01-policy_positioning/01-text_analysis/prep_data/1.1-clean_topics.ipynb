{
 "cells": [
  {
   "cell_type": "code",
   "execution_count": 1,
   "metadata": {},
   "outputs": [],
   "source": [
    "import json\n",
    "import pandas as pd\n",
    "from os import listdir\n",
    "import re\n",
    "from unidecode import unidecode\n",
    "from tqdm import tqdm\n",
    "from pre_process_functions import *"
   ]
  },
  {
   "cell_type": "code",
   "execution_count": null,
   "metadata": {},
   "outputs": [],
   "source": [
    "### Load Clean Topics\n",
    "with open('/Users/cblanesg/cam.blanes Dropbox/Camila Blanes/Congressional-dataMX/data/02-outcomes/01-policy_positioning/01-text_analysis/00-prep_data/topics_speeches.json') as f:\n",
    "    clean_topics_data = json.load(f)"
   ]
  },
  {
   "cell_type": "code",
   "execution_count": null,
   "metadata": {},
   "outputs": [],
   "source": [
    "mapping_topics = {}\n",
    "for i in clean_topics_data:\n",
    "    mapping_topics[i['id_speech']] = i['clean_topic']"
   ]
  },
  {
   "cell_type": "code",
   "execution_count": null,
   "metadata": {},
   "outputs": [],
   "source": [
    "### Load Specches Disaggregated\n",
    "with open('/Users/cblanesg/cam.blanes Dropbox/Camila Blanes/Congressional-dataMX/data/02-outcomes/01-policy_positioning/01-text_analysis/00-prep_data/legislatura64_speeches.json') as f:\n",
    "    speech = json.load(f)"
   ]
  },
  {
   "cell_type": "code",
   "execution_count": null,
   "metadata": {},
   "outputs": [],
   "source": [
    "for i in tqdm(speech):\n",
    "    i['topic_speech'] = mapping_topics[i['id_speech']]\n",
    "    i['clean_speech'] = last_cleaning(pre_processText(i['text_speech']))"
   ]
  },
  {
   "cell_type": "code",
   "execution_count": null,
   "metadata": {},
   "outputs": [],
   "source": [
    "set(' '.join(pd.DataFrame(speech).clean_speech.unique()))"
   ]
  },
  {
   "cell_type": "code",
   "execution_count": null,
   "metadata": {},
   "outputs": [],
   "source": [
    "#with open('/Users/cblanesg/cam.blanes Dropbox/Camila Blanes/Congressional-dataMX/data/02-outcomes/01-policy_positioning/01-text_analysis/01-clean_data/disaaggregated_data/legislatura64_disaggregated.json', 'w') as f:\n",
    "#    json.dump(speech, f)"
   ]
  },
  {
   "cell_type": "code",
   "execution_count": null,
   "metadata": {},
   "outputs": [],
   "source": [
    "### Clean Topics For LDA"
   ]
  },
  {
   "cell_type": "code",
   "execution_count": null,
   "metadata": {},
   "outputs": [],
   "source": [
    "def last_cleaning(text):\n",
    "    clean = re.sub('\\t', '', text)\n",
    "    clean = re.sub(r\"\\b\\d+|\\d+\\b\", \"\", clean)\n",
    "    clean = re.sub('ó', 'o', clean)\n",
    "    clean = re.sub('í', 'i', clean)\n",
    "    clean = re.sub('[-]', '', clean)\n",
    "    clean = re.sub('[.]', '', clean)\n",
    "    clean = remove_accents(clean)\n",
    "    return(clean)"
   ]
  },
  {
   "cell_type": "code",
   "execution_count": 2,
   "metadata": {},
   "outputs": [],
   "source": [
    "all_legis = []"
   ]
  },
  {
   "cell_type": "code",
   "execution_count": 3,
   "metadata": {},
   "outputs": [],
   "source": [
    "path_speeches = '/Users/cblanesg/cam.blanes Dropbox/Camila Blanes/Congressional-dataMX/data/02-outcomes/01-policy_positioning/01-text_analysis/01-clean_data/disaaggregated_data/'\n",
    "for i in listdir(path_speeches):\n",
    "    with open(path_speeches + i) as f:\n",
    "        temp = json.load(f)\n",
    "        for h in temp:\n",
    "            del h['link_speech']\n",
    "            del h['text_speech']\n",
    "            del h['clean_speech']\n",
    "            all_legis.append(h)"
   ]
  },
  {
   "cell_type": "code",
   "execution_count": 18,
   "metadata": {},
   "outputs": [],
   "source": [
    "def remove_specific_words(text):\n",
    "    clean_text = []\n",
    "    for i in text.split(' '):\n",
    "        if i in ['a', 'le', 'y']:\n",
    "            continue\n",
    "        else:\n",
    "            clean_text.append(i)\n",
    "    return(' '.join(clean_text))"
   ]
  },
  {
   "cell_type": "code",
   "execution_count": 19,
   "metadata": {},
   "outputs": [
    {
     "name": "stderr",
     "output_type": "stream",
     "text": [
      "100%|██████████| 40415/40415 [20:33<00:00, 32.75it/s] \n"
     ]
    }
   ],
   "source": [
    "for i in tqdm(all_legis):\n",
    "    i['clean_topic'] = last_cleaning(pre_processText(i['topic_speech']))\n",
    "    i['clean_topic'] = last_cleaning(i['clean_topic'])\n",
    "    i['clean_topic'] = remove_specific_words(i['clean_topic'])"
   ]
  },
  {
   "cell_type": "code",
   "execution_count": 20,
   "metadata": {
    "scrolled": true
   },
   "outputs": [],
   "source": [
    "words = ' '.join(pd.DataFrame(all_legis).clean_topic.unique()).split(' ')\n",
    "words.sort()"
   ]
  },
  {
   "cell_type": "code",
   "execution_count": 21,
   "metadata": {},
   "outputs": [],
   "source": [
    "unique_words = []\n",
    "for i in words:\n",
    "    if i not in unique_words:\n",
    "        unique_words.append(i)"
   ]
  },
  {
   "cell_type": "code",
   "execution_count": 26,
   "metadata": {},
   "outputs": [
    {
     "data": {
      "text/plain": [
       "(4790, 40415)"
      ]
     },
     "execution_count": 26,
     "metadata": {},
     "output_type": "execute_result"
    }
   ],
   "source": [
    "len(pd.DataFrame(all_legis).clean_topic.unique()), len(pd.DataFrame(all_legis).clean_topic)"
   ]
  },
  {
   "cell_type": "code",
   "execution_count": 29,
   "metadata": {},
   "outputs": [
    {
     "data": {
      "text/html": [
       "<div>\n",
       "<style scoped>\n",
       "    .dataframe tbody tr th:only-of-type {\n",
       "        vertical-align: middle;\n",
       "    }\n",
       "\n",
       "    .dataframe tbody tr th {\n",
       "        vertical-align: top;\n",
       "    }\n",
       "\n",
       "    .dataframe thead th {\n",
       "        text-align: right;\n",
       "    }\n",
       "</style>\n",
       "<table border=\"1\" class=\"dataframe\">\n",
       "  <thead>\n",
       "    <tr style=\"text-align: right;\">\n",
       "      <th></th>\n",
       "      <th>legislatura</th>\n",
       "      <th>year_session</th>\n",
       "      <th>year_speech</th>\n",
       "      <th>month_speech</th>\n",
       "      <th>day_speech</th>\n",
       "      <th>topic_speech</th>\n",
       "      <th>inc_party</th>\n",
       "      <th>inc_name</th>\n",
       "      <th>id_speech</th>\n",
       "      <th>id</th>\n",
       "      <th>clean_topic</th>\n",
       "    </tr>\n",
       "  </thead>\n",
       "  <tbody>\n",
       "  </tbody>\n",
       "</table>\n",
       "</div>"
      ],
      "text/plain": [
       "Empty DataFrame\n",
       "Columns: [legislatura, year_session, year_speech, month_speech, day_speech, topic_speech, inc_party, inc_name, id_speech, id, clean_topic]\n",
       "Index: []"
      ]
     },
     "execution_count": 29,
     "metadata": {},
     "output_type": "execute_result"
    }
   ],
   "source": [
    "pd.DataFrame(all_legis)[pd.DataFrame(all_legis)['clean_topic'].isna()]"
   ]
  },
  {
   "cell_type": "code",
   "execution_count": 33,
   "metadata": {},
   "outputs": [],
   "source": [
    "df = pd.DataFrame(all_legis)"
   ]
  },
  {
   "cell_type": "code",
   "execution_count": 35,
   "metadata": {},
   "outputs": [],
   "source": [
    "df.to_csv('../../../../data/02-outcomes/01-policy_positioning/01-text_analysis/01-clean_data/topics/topics_speeches.csv', encoding = 'utf-8')"
   ]
  },
  {
   "cell_type": "code",
   "execution_count": null,
   "metadata": {},
   "outputs": [],
   "source": []
  },
  {
   "cell_type": "code",
   "execution_count": 2,
   "metadata": {},
   "outputs": [],
   "source": [
    "## "
   ]
  },
  {
   "cell_type": "code",
   "execution_count": 3,
   "metadata": {},
   "outputs": [],
   "source": [
    "path = '/Users/cblanesg/cam.blanes Dropbox/Camila Blanes/Congressional-dataMX/data/02-outcomes/01-policy_positioning/01-text_analysis/01-clean_data/disaaggregated_data/'"
   ]
  },
  {
   "cell_type": "code",
   "execution_count": 9,
   "metadata": {},
   "outputs": [],
   "source": [
    "for i in listdir(path):\n",
    "    with open(path + i) as f:\n",
    "        temp = json.load(f)\n",
    "        pd.DataFrame(temp).to_excel(path + re.sub('json', 'xlsx', i))"
   ]
  },
  {
   "cell_type": "code",
   "execution_count": 7,
   "metadata": {},
   "outputs": [],
   "source": [
    "df = pd.DataFrame(temp)"
   ]
  },
  {
   "cell_type": "code",
   "execution_count": 8,
   "metadata": {},
   "outputs": [
    {
     "data": {
      "text/html": [
       "<div>\n",
       "<style scoped>\n",
       "    .dataframe tbody tr th:only-of-type {\n",
       "        vertical-align: middle;\n",
       "    }\n",
       "\n",
       "    .dataframe tbody tr th {\n",
       "        vertical-align: top;\n",
       "    }\n",
       "\n",
       "    .dataframe thead th {\n",
       "        text-align: right;\n",
       "    }\n",
       "</style>\n",
       "<table border=\"1\" class=\"dataframe\">\n",
       "  <thead>\n",
       "    <tr style=\"text-align: right;\">\n",
       "      <th></th>\n",
       "      <th>legislatura</th>\n",
       "      <th>year_session</th>\n",
       "      <th>year_speech</th>\n",
       "      <th>month_speech</th>\n",
       "      <th>day_speech</th>\n",
       "      <th>topic_speech</th>\n",
       "      <th>link_speech</th>\n",
       "      <th>inc_party</th>\n",
       "      <th>inc_name</th>\n",
       "      <th>id_speech</th>\n",
       "      <th>text_speech</th>\n",
       "      <th>id</th>\n",
       "      <th>clean_speech</th>\n",
       "    </tr>\n",
       "  </thead>\n",
       "  <tbody>\n",
       "    <tr>\n",
       "      <th>0</th>\n",
       "      <td>64</td>\n",
       "      <td>I</td>\n",
       "      <td>2018</td>\n",
       "      <td>10</td>\n",
       "      <td>9</td>\n",
       "      <td>RECRUDECIMIENTO DE LA VIOLENCIA EN GUAYMAS Y S...</td>\n",
       "      <td>http://cronica.diputados.gob.mx:8080/exist/sii...</td>\n",
       "      <td>Morena</td>\n",
       "      <td>Aguilar Castillo Heriberto Marcelo</td>\n",
       "      <td>de78d790-2280-334e-911b-247d13cc617c</td>\n",
       "      <td>Muchas gracias, diputada presidenta. Hago uso...</td>\n",
       "      <td>cc9474dc-fd0e-11ea-83d8-acde48001122</td>\n",
       "      <td>gracia diputar presidente voz curul intencion ...</td>\n",
       "    </tr>\n",
       "    <tr>\n",
       "      <th>1</th>\n",
       "      <td>64</td>\n",
       "      <td>I</td>\n",
       "      <td>2018</td>\n",
       "      <td>10</td>\n",
       "      <td>25</td>\n",
       "      <td>COMPARECENCIA DEL SECRETARIO DE COMUNICACIONES...</td>\n",
       "      <td>http://cronica.diputados.gob.mx:8080/exist/sii...</td>\n",
       "      <td>Morena</td>\n",
       "      <td>Aguilar Castillo Heriberto Marcelo</td>\n",
       "      <td>036f8bda-8894-359e-94a8-73d83dde9d3a</td>\n",
       "      <td>Con su venia, diputada presidenta. Senor secr...</td>\n",
       "      <td>cc9474dc-fd0e-11ea-83d8-acde48001122</td>\n",
       "      <td>venia diputar presidente senor secretario educ...</td>\n",
       "    </tr>\n",
       "    <tr>\n",
       "      <th>2</th>\n",
       "      <td>64</td>\n",
       "      <td>I</td>\n",
       "      <td>2019</td>\n",
       "      <td>2</td>\n",
       "      <td>21</td>\n",
       "      <td>AUDITORÍA DE LOS RECURSOS ENTREGADOS Y EJERCID...</td>\n",
       "      <td>http://cronica.diputados.gob.mx:8080/exist/sii...</td>\n",
       "      <td>Morena</td>\n",
       "      <td>Aguilar Castillo Heriberto Marcelo</td>\n",
       "      <td>8f9a988a-67d0-3b24-bade-6a7230817fde</td>\n",
       "      <td>Con su venia, diputada presidenta.  Adelante....</td>\n",
       "      <td>cc9474dc-fd0e-11ea-83d8-acde48001122</td>\n",
       "      <td>venia diputar presidente companeras y companer...</td>\n",
       "    </tr>\n",
       "    <tr>\n",
       "      <th>3</th>\n",
       "      <td>64</td>\n",
       "      <td>II</td>\n",
       "      <td>2019</td>\n",
       "      <td>10</td>\n",
       "      <td>30</td>\n",
       "      <td>PROYECTO DE LEY DE INGRESOS DE LA FEDERACIÓN P...</td>\n",
       "      <td>http://cronica.diputados.gob.mx:8080/exist/sii...</td>\n",
       "      <td>Morena</td>\n",
       "      <td>Aguilar Castillo Heriberto Marcelo</td>\n",
       "      <td>ddcfa825-ed8a-38d1-bf4a-eccdfeee05f5</td>\n",
       "      <td>Con el permiso de la Presidencia.  Adelante, ...</td>\n",
       "      <td>cc9474dc-fd0e-11ea-83d8-acde48001122</td>\n",
       "      <td>permiso presidencia diputar heriberto companer...</td>\n",
       "    </tr>\n",
       "    <tr>\n",
       "      <th>4</th>\n",
       "      <td>64</td>\n",
       "      <td>II</td>\n",
       "      <td>2019</td>\n",
       "      <td>11</td>\n",
       "      <td>5</td>\n",
       "      <td>EN MEMORIA DE LAS VÍCTIMAS DEL ATAQUE PERPETRA...</td>\n",
       "      <td>http://cronica.diputados.gob.mx:8080/exist/sii...</td>\n",
       "      <td>Morena</td>\n",
       "      <td>Aguilar Castillo Heriberto Marcelo</td>\n",
       "      <td>7f37e5f0-9bf2-357b-8aef-9ba34293eeee</td>\n",
       "      <td>Diputadas, diputados, como diputado federal d...</td>\n",
       "      <td>cc9474dc-fd0e-11ea-83d8-acde48001122</td>\n",
       "      <td>diputar diputar diputar federal distrito ubica...</td>\n",
       "    </tr>\n",
       "  </tbody>\n",
       "</table>\n",
       "</div>"
      ],
      "text/plain": [
       "   legislatura year_session  year_speech  month_speech  day_speech  \\\n",
       "0           64            I         2018            10           9   \n",
       "1           64            I         2018            10          25   \n",
       "2           64            I         2019             2          21   \n",
       "3           64           II         2019            10          30   \n",
       "4           64           II         2019            11           5   \n",
       "\n",
       "                                        topic_speech  \\\n",
       "0  RECRUDECIMIENTO DE LA VIOLENCIA EN GUAYMAS Y S...   \n",
       "1  COMPARECENCIA DEL SECRETARIO DE COMUNICACIONES...   \n",
       "2  AUDITORÍA DE LOS RECURSOS ENTREGADOS Y EJERCID...   \n",
       "3  PROYECTO DE LEY DE INGRESOS DE LA FEDERACIÓN P...   \n",
       "4  EN MEMORIA DE LAS VÍCTIMAS DEL ATAQUE PERPETRA...   \n",
       "\n",
       "                                         link_speech inc_party  \\\n",
       "0  http://cronica.diputados.gob.mx:8080/exist/sii...    Morena   \n",
       "1  http://cronica.diputados.gob.mx:8080/exist/sii...    Morena   \n",
       "2  http://cronica.diputados.gob.mx:8080/exist/sii...    Morena   \n",
       "3  http://cronica.diputados.gob.mx:8080/exist/sii...    Morena   \n",
       "4  http://cronica.diputados.gob.mx:8080/exist/sii...    Morena   \n",
       "\n",
       "                             inc_name                             id_speech  \\\n",
       "0  Aguilar Castillo Heriberto Marcelo  de78d790-2280-334e-911b-247d13cc617c   \n",
       "1  Aguilar Castillo Heriberto Marcelo  036f8bda-8894-359e-94a8-73d83dde9d3a   \n",
       "2  Aguilar Castillo Heriberto Marcelo  8f9a988a-67d0-3b24-bade-6a7230817fde   \n",
       "3  Aguilar Castillo Heriberto Marcelo  ddcfa825-ed8a-38d1-bf4a-eccdfeee05f5   \n",
       "4  Aguilar Castillo Heriberto Marcelo  7f37e5f0-9bf2-357b-8aef-9ba34293eeee   \n",
       "\n",
       "                                         text_speech  \\\n",
       "0   Muchas gracias, diputada presidenta. Hago uso...   \n",
       "1   Con su venia, diputada presidenta. Senor secr...   \n",
       "2   Con su venia, diputada presidenta.  Adelante....   \n",
       "3   Con el permiso de la Presidencia.  Adelante, ...   \n",
       "4   Diputadas, diputados, como diputado federal d...   \n",
       "\n",
       "                                     id  \\\n",
       "0  cc9474dc-fd0e-11ea-83d8-acde48001122   \n",
       "1  cc9474dc-fd0e-11ea-83d8-acde48001122   \n",
       "2  cc9474dc-fd0e-11ea-83d8-acde48001122   \n",
       "3  cc9474dc-fd0e-11ea-83d8-acde48001122   \n",
       "4  cc9474dc-fd0e-11ea-83d8-acde48001122   \n",
       "\n",
       "                                        clean_speech  \n",
       "0  gracia diputar presidente voz curul intencion ...  \n",
       "1  venia diputar presidente senor secretario educ...  \n",
       "2  venia diputar presidente companeras y companer...  \n",
       "3  permiso presidencia diputar heriberto companer...  \n",
       "4  diputar diputar diputar federal distrito ubica...  "
      ]
     },
     "execution_count": 8,
     "metadata": {},
     "output_type": "execute_result"
    }
   ],
   "source": [
    "df.head()"
   ]
  },
  {
   "cell_type": "code",
   "execution_count": null,
   "metadata": {},
   "outputs": [],
   "source": []
  }
 ],
 "metadata": {
  "kernelspec": {
   "display_name": "Python 3",
   "language": "python",
   "name": "python3"
  },
  "language_info": {
   "codemirror_mode": {
    "name": "ipython",
    "version": 3
   },
   "file_extension": ".py",
   "mimetype": "text/x-python",
   "name": "python",
   "nbconvert_exporter": "python",
   "pygments_lexer": "ipython3",
   "version": "3.8.3"
  }
 },
 "nbformat": 4,
 "nbformat_minor": 4
}
