{
 "cells": [
  {
   "cell_type": "code",
   "execution_count": 64,
   "metadata": {},
   "outputs": [],
   "source": [
    "import pandas as pd\n",
    "import json\n",
    "import re\n",
    "from os import listdir\n",
    "from tqdm import tqdm\n",
    "from unidecode import unidecode"
   ]
  },
  {
   "cell_type": "code",
   "execution_count": 32,
   "metadata": {},
   "outputs": [],
   "source": [
    "path_speeches = '/Users/cblanesg/cam.blanes Dropbox/Camila Blanes/Congressional-dataMX/data/01-collection_data/01-floor_speech/01-id_speakers/'"
   ]
  },
  {
   "cell_type": "code",
   "execution_count": 52,
   "metadata": {},
   "outputs": [
    {
     "name": "stderr",
     "output_type": "stream",
     "text": [
      " 33%|███▎      | 2/6 [00:00<00:02,  1.89it/s]"
     ]
    },
    {
     "name": "stdout",
     "output_type": "stream",
     "text": [
      ".DS_Store\n"
     ]
    },
    {
     "name": "stderr",
     "output_type": "stream",
     "text": [
      "100%|██████████| 6/6 [00:01<00:00,  3.83it/s]\n"
     ]
    }
   ],
   "source": [
    "no_filter = []\n",
    "for i in tqdm(listdir(path_speeches)):\n",
    "    try:\n",
    "        with open(path_speeches + i) as f:\n",
    "            temp = json.load(f)\n",
    "            for j in temp:\n",
    "                no_filter.append(j)\n",
    "    except:\n",
    "        print(i)"
   ]
  },
  {
   "cell_type": "markdown",
   "metadata": {},
   "source": [
    "## Filter only to Propietaries"
   ]
  },
  {
   "cell_type": "code",
   "execution_count": 38,
   "metadata": {},
   "outputs": [
    {
     "name": "stderr",
     "output_type": "stream",
     "text": [
      "100%|██████████| 6/6 [00:00<00:00, 133.79it/s]"
     ]
    },
    {
     "name": "stdout",
     "output_type": "stream",
     "text": [
      ".DS_Store\n"
     ]
    },
    {
     "name": "stderr",
     "output_type": "stream",
     "text": [
      "\n"
     ]
    }
   ],
   "source": [
    "path_id = '/Users/cblanesg/cam.blanes Dropbox/Camila Blanes/Congressional-dataMX/data/01-collection_data/00-id_data/00-id/'\n",
    "\n",
    "all_inc = []\n",
    "for i in tqdm(listdir(path_id)):\n",
    "    try:\n",
    "        with open(path_id + i) as f:\n",
    "            temp = json.load(f)\n",
    "            for j in temp:\n",
    "                if j['suplente_propietario'] == 'P':\n",
    "                    all_inc.append(j)\n",
    "    except:\n",
    "        print(i)    "
   ]
  },
  {
   "cell_type": "code",
   "execution_count": 49,
   "metadata": {},
   "outputs": [
    {
     "data": {
      "text/plain": [
       "2500"
      ]
     },
     "execution_count": 49,
     "metadata": {},
     "output_type": "execute_result"
    }
   ],
   "source": [
    "len(list(pd.DataFrame(all_inc).id_legislador.unique()))"
   ]
  },
  {
   "cell_type": "code",
   "execution_count": 50,
   "metadata": {},
   "outputs": [
    {
     "name": "stderr",
     "output_type": "stream",
     "text": [
      " 33%|███▎      | 2/6 [02:24<04:38, 69.72s/it]"
     ]
    },
    {
     "name": "stdout",
     "output_type": "stream",
     "text": [
      ".DS_Store\n"
     ]
    },
    {
     "name": "stderr",
     "output_type": "stream",
     "text": [
      "100%|██████████| 6/6 [05:31<00:00, 55.18s/it]\n"
     ]
    }
   ],
   "source": [
    "all_speeches = []\n",
    "for i in tqdm(listdir(path_speeches)):\n",
    "    try:\n",
    "        with open(path_speeches + i) as f:\n",
    "            temp = json.load(f)\n",
    "            for j in temp:\n",
    "                if j['id'] in list(pd.DataFrame(all_inc).id_legislador.unique()):\n",
    "                    all_speeches.append(j)\n",
    "    except:\n",
    "        print(i)"
   ]
  },
  {
   "cell_type": "code",
   "execution_count": 54,
   "metadata": {},
   "outputs": [
    {
     "data": {
      "text/plain": [
       "(40415, 41582)"
      ]
     },
     "execution_count": 54,
     "metadata": {},
     "output_type": "execute_result"
    }
   ],
   "source": [
    "len(all_speeches), len(no_filter)"
   ]
  },
  {
   "cell_type": "markdown",
   "metadata": {},
   "source": [
    "### Pre-processing Steps\n",
    "    - lower\n",
    "    - numbers\n",
    "    - punctuation\n",
    "    - stopwords"
   ]
  },
  {
   "cell_type": "code",
   "execution_count": 60,
   "metadata": {},
   "outputs": [],
   "source": [
    "import spacy ## Lemmatizer\n",
    "nlp_lemm = spacy.load(\"es_core_news_sm\")"
   ]
  },
  {
   "cell_type": "code",
   "execution_count": 61,
   "metadata": {},
   "outputs": [],
   "source": [
    "from spacy.lang.es import Spanish ## StopWords\n",
    "nlp = Spanish()"
   ]
  },
  {
   "cell_type": "code",
   "execution_count": 62,
   "metadata": {},
   "outputs": [],
   "source": [
    "from spacy.lang.es.stop_words import STOP_WORDS"
   ]
  },
  {
   "cell_type": "code",
   "execution_count": 167,
   "metadata": {},
   "outputs": [],
   "source": [
    "def remove_stopwords(text):\n",
    "    my_doc = nlp(text)\n",
    "    \n",
    "    token_list = []\n",
    "    for token in my_doc:\n",
    "        token_list.append(token.text)\n",
    "\n",
    "    filtered_sentence =[] \n",
    "\n",
    "    for word in token_list:\n",
    "        lexeme = nlp.vocab[word]\n",
    "        if lexeme.is_stop == False:\n",
    "            filtered_sentence.append(word)  \n",
    "    \n",
    "    full_text = ' '.join(filtered_sentence)\n",
    "    full_text = re.sub('[ ]+', ' ', full_text)\n",
    "    return(full_text)\n",
    "def apply_Lemmatization(text):\n",
    "    my_doc = nlp_lemm(text)\n",
    "    \n",
    "    lemma_word1 = [] \n",
    "    for token in my_doc:\n",
    "        lemma_word1.append(token.lemma_)\n",
    "\n",
    "    full_text = ' '.join(lemma_word1)\n",
    "    full_text = re.sub('[ ]+', ' ', full_text)\n",
    "    return(full_text)\n",
    "def remove_punctuation(text):\n",
    "    punctuation = {'!', '\"','#', '$','%','&',\"'\",'(',')','*','+',',','-','.','/',':',';','<','=','>','?','@','[','\\\\',']','^','_','`','{','|','}','~', '<'}\n",
    "    text = ''.join(i for i in text if i not in punctuation)\n",
    "    return(text)\n",
    "\n",
    "def remove_numbers(text):\n",
    "    text = re.sub(r\"\\b\\d+|\\d+\\b\", \"\", text)\n",
    "    return(text)\n",
    "\n",
    "def strip_Whitespace(text):\n",
    "    text = re.sub('[ ]+', ' ', text)\n",
    "    text = re.sub('^[ ]+', '', text)\n",
    "    text = re.sub('[ ]+$', '', text)\n",
    "    return(text)\n",
    "def remove_accents(text):\n",
    "    text = unidecode(text)\n",
    "    return(text)\n",
    "def apply_lowercase(text):\n",
    "    text = text.lower()\n",
    "    return(text)\n",
    "\n",
    "def pre_processText(text):\n",
    "    clean = remove_accents(text)\n",
    "    clean = apply_lowercase(clean)\n",
    "    clean = remove_numbers(clean)\n",
    "    clean = remove_punctuation(clean)\n",
    "    clean = remove_numbers(clean)\n",
    "    clean = remove_accents(clean)\n",
    "    clean = strip_Whitespace(clean)\n",
    "    clean = remove_stopwords(clean)\n",
    "    clean = apply_Lemmatization(clean)\n",
    "    return(clean)"
   ]
  },
  {
   "cell_type": "code",
   "execution_count": null,
   "metadata": {},
   "outputs": [],
   "source": [
    "#for i in tqdm(all_speeches):\n",
    "#    i['clean_speech'] = pre_processText(i['text_speech'])"
   ]
  },
  {
   "cell_type": "code",
   "execution_count": 65,
   "metadata": {},
   "outputs": [
    {
     "name": "stderr",
     "output_type": "stream",
     "text": [
      "100%|██████████| 40415/40415 [55:10<00:00, 12.21it/s]   \n"
     ]
    }
   ],
   "source": [
    "legislatura60 = []\n",
    "legislatura61 = []\n",
    "legislatura62 = []\n",
    "legislatura63 = []\n",
    "legislatura64 = []\n",
    "\n",
    "for i in tqdm(all_speeches):\n",
    "    i['clean_speech'] = pre_processText(i['text_speech'])\n",
    "    \n",
    "    if i['legislatura'] == 60:\n",
    "        legislatura60.append(i)\n",
    "    elif i['legislatura'] == 61:\n",
    "        legislatura61.append(i)\n",
    "    elif i['legislatura'] == 62:\n",
    "        legislatura62.append(i)\n",
    "    elif i['legislatura'] == 63:\n",
    "        legislatura63.append(i)\n",
    "    elif i['legislatura'] == 64:\n",
    "        legislatura64.append(i)        "
   ]
  },
  {
   "cell_type": "code",
   "execution_count": 66,
   "metadata": {},
   "outputs": [],
   "source": [
    "with open('/Users/cblanesg/cam.blanes Dropbox/Camila Blanes/Congressional-dataMX/data/02-outcomes/01-policy_positioning/01-text_analysis/00-prep_data/legislatura60_speeches.json', 'w') as f:\n",
    "    json.dump(legislatura60, f)\n",
    "with open('/Users/cblanesg/cam.blanes Dropbox/Camila Blanes/Congressional-dataMX/data/02-outcomes/01-policy_positioning/01-text_analysis/00-prep_data/legislatura61_speeches.json', 'w') as f:\n",
    "    json.dump(legislatura61, f)\n",
    "with open('/Users/cblanesg/cam.blanes Dropbox/Camila Blanes/Congressional-dataMX/data/02-outcomes/01-policy_positioning/01-text_analysis/00-prep_data/legislatura62_speeches.json', 'w') as f:\n",
    "    json.dump(legislatura62, f)\n",
    "with open('/Users/cblanesg/cam.blanes Dropbox/Camila Blanes/Congressional-dataMX/data/02-outcomes/01-policy_positioning/01-text_analysis/00-prep_data/legislatura63_speeches.json', 'w') as f:\n",
    "    json.dump(legislatura63, f)\n",
    "with open('/Users/cblanesg/cam.blanes Dropbox/Camila Blanes/Congressional-dataMX/data/02-outcomes/01-policy_positioning/01-text_analysis/00-prep_data/legislatura64_speeches.json', 'w') as f:\n",
    "    json.dump(legislatura64, f)    "
   ]
  },
  {
   "cell_type": "code",
   "execution_count": 268,
   "metadata": {},
   "outputs": [],
   "source": [
    "def last_cleaning(text):\n",
    "    clean = re.sub('\\t', '', text)\n",
    "    clean = re.sub(r\"\\b\\d+|\\d+\\b\", \"\", clean)\n",
    "    clean = re.sub('ó', 'o', clean)\n",
    "    clean = re.sub('í', 'i', clean)\n",
    "    clean = re.sub('[-]', '', clean)\n",
    "    clean = re.sub('[.]', '', clean)\n",
    "    clean = remove_accents(clean)\n",
    "    return(clean)"
   ]
  },
  {
   "cell_type": "markdown",
   "metadata": {},
   "source": [
    "### Merge All Speeches by Speaker"
   ]
  },
  {
   "cell_type": "code",
   "execution_count": 212,
   "metadata": {},
   "outputs": [
    {
     "name": "stderr",
     "output_type": "stream",
     "text": [
      "100%|██████████| 5329/5329 [00:00<00:00, 600845.32it/s]\n"
     ]
    }
   ],
   "source": [
    "agg_inc60 = {}\n",
    "for i in tqdm(legislatura60):\n",
    "    if i['id'] in agg_inc60.keys():\n",
    "        agg_inc60[i['id']].append(i['clean_speech'])\n",
    "    else:\n",
    "        agg_inc60[i['id']] = []\n",
    "        agg_inc60[i['id']].append(i['clean_speech'])"
   ]
  },
  {
   "cell_type": "code",
   "execution_count": 219,
   "metadata": {
    "scrolled": true
   },
   "outputs": [
    {
     "name": "stderr",
     "output_type": "stream",
     "text": [
      "100%|██████████| 471/471 [09:12<00:00,  1.17s/it]\n"
     ]
    }
   ],
   "source": [
    "agg_dicts60 = []\n",
    "for x, y in tqdm(agg_inc60.items()):\n",
    "    temp = {}\n",
    "    temp['legislatura'] = 60\n",
    "    temp['id_incumbent'] = x\n",
    "    temp['speech'] = last_cleaning(pre_processText(' '.join(y)))\n",
    "    temp['speech'] = last_cleaning(temp['speech'])\n",
    "    agg_dicts60.append(temp)   "
   ]
  },
  {
   "cell_type": "code",
   "execution_count": 242,
   "metadata": {},
   "outputs": [],
   "source": [
    "all_speech = ' '.join(pd.DataFrame(agg_dicts60).speech)    "
   ]
  },
  {
   "cell_type": "code",
   "execution_count": 247,
   "metadata": {
    "scrolled": true
   },
   "outputs": [
    {
     "data": {
      "text/plain": [
       "{' ',\n",
       " 'a',\n",
       " 'b',\n",
       " 'c',\n",
       " 'd',\n",
       " 'e',\n",
       " 'f',\n",
       " 'g',\n",
       " 'h',\n",
       " 'i',\n",
       " 'j',\n",
       " 'k',\n",
       " 'l',\n",
       " 'm',\n",
       " 'n',\n",
       " 'o',\n",
       " 'p',\n",
       " 'q',\n",
       " 'r',\n",
       " 's',\n",
       " 't',\n",
       " 'u',\n",
       " 'v',\n",
       " 'w',\n",
       " 'x',\n",
       " 'y',\n",
       " 'z'}"
      ]
     },
     "execution_count": 247,
     "metadata": {},
     "output_type": "execute_result"
    }
   ],
   "source": [
    "set(all_speech)"
   ]
  },
  {
   "cell_type": "code",
   "execution_count": 248,
   "metadata": {},
   "outputs": [],
   "source": [
    "with open('/Users/cblanesg/cam.blanes Dropbox/Camila Blanes/Congressional-dataMX/data/02-outcomes/01-policy_positioning/01-text_analysis/00-prep_data/aggregated_legislators/legislatura60_speech.json', 'w') as f:\n",
    "    json.dump(agg_dicts60, f)\n",
    "\n",
    "pd.DataFrame(agg_dicts60).to_excel('/Users/cblanesg/cam.blanes Dropbox/Camila Blanes/Congressional-dataMX/data/02-outcomes/01-policy_positioning/01-text_analysis/00-prep_data/aggregated_legislators/legislatura60_speech.xlsx')"
   ]
  },
  {
   "cell_type": "code",
   "execution_count": 251,
   "metadata": {},
   "outputs": [
    {
     "name": "stderr",
     "output_type": "stream",
     "text": [
      "100%|██████████| 9604/9604 [16:09<00:00,  9.91it/s]  \n"
     ]
    }
   ],
   "source": [
    "agg_inc61 = {}\n",
    "for i in tqdm(legislatura61):\n",
    "    if i['id'] in agg_inc61.keys():\n",
    "        agg_inc61[i['id']].append(last_cleaning(pre_processText(i['clean_speech'])))\n",
    "    else:\n",
    "        agg_inc61[i['id']] = []\n",
    "        agg_inc61[i['id']].append(last_cleaning(pre_processText(i['clean_speech'])))"
   ]
  },
  {
   "cell_type": "code",
   "execution_count": 252,
   "metadata": {
    "scrolled": true
   },
   "outputs": [
    {
     "name": "stderr",
     "output_type": "stream",
     "text": [
      "100%|██████████| 464/464 [00:03<00:00, 126.95it/s]\n"
     ]
    }
   ],
   "source": [
    "agg_dicts61 = []\n",
    "for x, y in tqdm(agg_inc61.items()):\n",
    "    temp = {}\n",
    "    temp['legislatura'] = 61\n",
    "    temp['id_incumbent'] = x\n",
    "    temp['speech'] = last_cleaning(' '.join(y))\n",
    "    agg_dicts61.append(temp)   "
   ]
  },
  {
   "cell_type": "code",
   "execution_count": 253,
   "metadata": {},
   "outputs": [],
   "source": [
    "all_speech = ' '.join(pd.DataFrame(agg_dicts61).speech)    "
   ]
  },
  {
   "cell_type": "code",
   "execution_count": 254,
   "metadata": {},
   "outputs": [
    {
     "data": {
      "text/plain": [
       "{' ',\n",
       " 'a',\n",
       " 'b',\n",
       " 'c',\n",
       " 'd',\n",
       " 'e',\n",
       " 'f',\n",
       " 'g',\n",
       " 'h',\n",
       " 'i',\n",
       " 'j',\n",
       " 'k',\n",
       " 'l',\n",
       " 'm',\n",
       " 'n',\n",
       " 'o',\n",
       " 'p',\n",
       " 'q',\n",
       " 'r',\n",
       " 's',\n",
       " 't',\n",
       " 'u',\n",
       " 'v',\n",
       " 'w',\n",
       " 'x',\n",
       " 'y',\n",
       " 'z'}"
      ]
     },
     "execution_count": 254,
     "metadata": {},
     "output_type": "execute_result"
    }
   ],
   "source": [
    "set(all_speech)"
   ]
  },
  {
   "cell_type": "code",
   "execution_count": 255,
   "metadata": {},
   "outputs": [],
   "source": [
    "with open('/Users/cblanesg/cam.blanes Dropbox/Camila Blanes/Congressional-dataMX/data/02-outcomes/01-policy_positioning/01-text_analysis/00-prep_data/aggregated_legislators/legislatura61_speech.json', 'w') as f:\n",
    "    json.dump(agg_dicts61, f)\n",
    "\n",
    "pd.DataFrame(agg_dicts61).to_excel('/Users/cblanesg/cam.blanes Dropbox/Camila Blanes/Congressional-dataMX/data/02-outcomes/01-policy_positioning/01-text_analysis/00-prep_data/aggregated_legislators/legislatura61_speech.xlsx')"
   ]
  },
  {
   "cell_type": "code",
   "execution_count": 260,
   "metadata": {},
   "outputs": [
    {
     "name": "stderr",
     "output_type": "stream",
     "text": [
      "100%|██████████| 9686/9686 [19:18<00:00,  8.36it/s]  \n",
      "100%|██████████| 467/467 [00:04<00:00, 109.65it/s]\n"
     ]
    }
   ],
   "source": [
    "agg_inc62 = {}\n",
    "for i in tqdm(legislatura62):\n",
    "    if i['id'] in agg_inc62.keys():\n",
    "        agg_inc62[i['id']].append(last_cleaning(pre_processText(i['clean_speech'])))\n",
    "    else:\n",
    "        agg_inc62[i['id']] = []\n",
    "        agg_inc62[i['id']].append(last_cleaning(pre_processText(i['clean_speech'])))\n",
    "        \n",
    "agg_dicts62 = []\n",
    "for x, y in tqdm(agg_inc62.items()):\n",
    "    temp = {}\n",
    "    temp['legislatura'] = 62\n",
    "    temp['id_incumbent'] = x\n",
    "    temp['speech'] = last_cleaning(' '.join(y))\n",
    "    agg_dicts62.append(temp)"
   ]
  },
  {
   "cell_type": "code",
   "execution_count": 261,
   "metadata": {},
   "outputs": [
    {
     "data": {
      "text/plain": [
       "{' ',\n",
       " 'a',\n",
       " 'b',\n",
       " 'c',\n",
       " 'd',\n",
       " 'e',\n",
       " 'f',\n",
       " 'g',\n",
       " 'h',\n",
       " 'i',\n",
       " 'j',\n",
       " 'k',\n",
       " 'l',\n",
       " 'm',\n",
       " 'n',\n",
       " 'o',\n",
       " 'p',\n",
       " 'q',\n",
       " 'r',\n",
       " 's',\n",
       " 't',\n",
       " 'u',\n",
       " 'v',\n",
       " 'w',\n",
       " 'x',\n",
       " 'y',\n",
       " 'z'}"
      ]
     },
     "execution_count": 261,
     "metadata": {},
     "output_type": "execute_result"
    }
   ],
   "source": [
    "all_speech = ' '.join(pd.DataFrame(agg_dicts62).speech)    \n",
    "set(all_speech)"
   ]
  },
  {
   "cell_type": "code",
   "execution_count": 262,
   "metadata": {},
   "outputs": [],
   "source": [
    "with open('/Users/cblanesg/cam.blanes Dropbox/Camila Blanes/Congressional-dataMX/data/02-outcomes/01-policy_positioning/01-text_analysis/00-prep_data/aggregated_legislators/legislatura62_speech.json', 'w') as f:\n",
    "    json.dump(agg_dicts62, f)\n",
    "\n",
    "pd.DataFrame(agg_dicts62).to_excel('/Users/cblanesg/cam.blanes Dropbox/Camila Blanes/Congressional-dataMX/data/02-outcomes/01-policy_positioning/01-text_analysis/00-prep_data/aggregated_legislators/legislatura62_speech.xlsx')"
   ]
  },
  {
   "cell_type": "code",
   "execution_count": 263,
   "metadata": {},
   "outputs": [
    {
     "name": "stderr",
     "output_type": "stream",
     "text": [
      "100%|██████████| 7595/7595 [27:12<00:00,  4.65it/s]  \n",
      "100%|██████████| 473/473 [00:06<00:00, 78.05it/s] \n"
     ]
    }
   ],
   "source": [
    "agg_inc63 = {}\n",
    "for i in tqdm(legislatura63):\n",
    "    if i['id']  in agg_inc63.keys():\n",
    "        agg_inc63[i['id']].append(last_cleaning(pre_processText(i['clean_speech'])))\n",
    "    else:\n",
    "        agg_inc63[i['id']] = []\n",
    "        agg_inc63[i['id']].append(last_cleaning(pre_processText(i['clean_speech'])))"
   ]
  },
  {
   "cell_type": "code",
   "execution_count": 269,
   "metadata": {},
   "outputs": [
    {
     "name": "stderr",
     "output_type": "stream",
     "text": [
      "100%|██████████| 473/473 [00:08<00:00, 58.22it/s] \n"
     ]
    }
   ],
   "source": [
    "        \n",
    "agg_dicts63 = []\n",
    "for x, y in tqdm(agg_inc63.items()):\n",
    "    temp = {}\n",
    "    temp['legislatura'] = 63\n",
    "    temp['id_incumbent'] = x\n",
    "    temp['speech'] = last_cleaning(' '.join(y))\n",
    "    agg_dicts63.append(temp)"
   ]
  },
  {
   "cell_type": "code",
   "execution_count": 270,
   "metadata": {},
   "outputs": [
    {
     "data": {
      "text/plain": [
       "{' ',\n",
       " 'a',\n",
       " 'b',\n",
       " 'c',\n",
       " 'd',\n",
       " 'e',\n",
       " 'f',\n",
       " 'g',\n",
       " 'h',\n",
       " 'i',\n",
       " 'j',\n",
       " 'k',\n",
       " 'l',\n",
       " 'm',\n",
       " 'n',\n",
       " 'o',\n",
       " 'p',\n",
       " 'q',\n",
       " 'r',\n",
       " 's',\n",
       " 't',\n",
       " 'u',\n",
       " 'v',\n",
       " 'w',\n",
       " 'x',\n",
       " 'y',\n",
       " 'z'}"
      ]
     },
     "execution_count": 270,
     "metadata": {},
     "output_type": "execute_result"
    }
   ],
   "source": [
    "all_speech = ' '.join(pd.DataFrame(agg_dicts63).speech)    \n",
    "set(all_speech)"
   ]
  },
  {
   "cell_type": "code",
   "execution_count": 271,
   "metadata": {},
   "outputs": [],
   "source": [
    "with open('/Users/cblanesg/cam.blanes Dropbox/Camila Blanes/Congressional-dataMX/data/02-outcomes/01-policy_positioning/01-text_analysis/00-prep_data/aggregated_legislators/legislatura63_speech.json', 'w') as f:\n",
    "    json.dump(agg_dicts63, f)\n",
    "\n",
    "pd.DataFrame(agg_dicts63).to_excel('/Users/cblanesg/cam.blanes Dropbox/Camila Blanes/Congressional-dataMX/data/02-outcomes/01-policy_positioning/01-text_analysis/00-prep_data/aggregated_legislators/legislatura63_speech.xlsx')"
   ]
  },
  {
   "cell_type": "code",
   "execution_count": 272,
   "metadata": {},
   "outputs": [
    {
     "name": "stderr",
     "output_type": "stream",
     "text": [
      "100%|██████████| 8201/8201 [17:36<00:00,  7.76it/s]  \n"
     ]
    }
   ],
   "source": [
    "agg_inc64 = {}\n",
    "for i in tqdm(legislatura64):\n",
    "    if i['id'] in agg_inc64.keys():\n",
    "        agg_inc64[i['id']].append(last_cleaning(pre_processText(i['clean_speech'])))\n",
    "    else:\n",
    "        agg_inc64[i['id']] = []\n",
    "        agg_inc64[i['id']].append(last_cleaning(pre_processText(i['clean_speech'])))"
   ]
  },
  {
   "cell_type": "code",
   "execution_count": 273,
   "metadata": {},
   "outputs": [
    {
     "name": "stderr",
     "output_type": "stream",
     "text": [
      "100%|██████████| 440/440 [00:03<00:00, 146.10it/s]\n"
     ]
    }
   ],
   "source": [
    "agg_dicts64 = []\n",
    "for x, y in tqdm(agg_inc64.items()):\n",
    "    temp = {}\n",
    "    temp['legislatura'] = 64\n",
    "    temp['id_incumbent'] = x\n",
    "    temp['speech'] = last_cleaning(' '.join(y))\n",
    "    agg_dicts64.append(temp)"
   ]
  },
  {
   "cell_type": "code",
   "execution_count": null,
   "metadata": {},
   "outputs": [],
   "source": [
    "all_speech = ' '.join(pd.DataFrame(agg_dicts66).speech)    \n",
    "set(all_speech)"
   ]
  },
  {
   "cell_type": "code",
   "execution_count": null,
   "metadata": {},
   "outputs": [],
   "source": [
    "len(agg_dicts64)"
   ]
  },
  {
   "cell_type": "code",
   "execution_count": null,
   "metadata": {},
   "outputs": [],
   "source": [
    "with open('/Users/cblanesg/cam.blanes Dropbox/Camila Blanes/Congressional-dataMX/data/02-outcomes/01-policy_positioning/01-text_analysis/00-prep_data/aggregated_legislators/legislatura64_speech.json', 'w') as f:\n",
    "    json.dump(agg_dicts64, f)\n",
    "\n",
    "pd.DataFrame(agg_dicts64).to_excel('/Users/cblanesg/cam.blanes Dropbox/Camila Blanes/Congressional-dataMX/data/02-outcomes/01-policy_positioning/01-text_analysis/00-prep_data/aggregated_legislators/legislatura64_speech.xlsx')"
   ]
  }
 ],
 "metadata": {
  "kernelspec": {
   "display_name": "Python 3",
   "language": "python",
   "name": "python3"
  },
  "language_info": {
   "codemirror_mode": {
    "name": "ipython",
    "version": 3
   },
   "file_extension": ".py",
   "mimetype": "text/x-python",
   "name": "python",
   "nbconvert_exporter": "python",
   "pygments_lexer": "ipython3",
   "version": "3.8.3"
  }
 },
 "nbformat": 4,
 "nbformat_minor": 4
}
