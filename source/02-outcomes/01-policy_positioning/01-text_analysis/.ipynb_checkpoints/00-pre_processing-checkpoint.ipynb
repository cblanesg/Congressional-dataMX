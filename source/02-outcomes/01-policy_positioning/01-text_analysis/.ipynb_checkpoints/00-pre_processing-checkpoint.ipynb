{
 "cells": [
  {
   "cell_type": "code",
   "execution_count": 23,
   "metadata": {},
   "outputs": [],
   "source": [
    "import pandas as pd\n",
    "import json\n",
    "from os import listdir\n",
    "from tqdm import tqdm"
   ]
  },
  {
   "cell_type": "code",
   "execution_count": 24,
   "metadata": {},
   "outputs": [],
   "source": [
    "path_speeches = '/Users/cblanesg/cam.blanes Dropbox/Camila Blanes/Congressional-dataMX/data/01-collection_data/01-floor_speech/01-id_speakers/'"
   ]
  },
  {
   "cell_type": "code",
   "execution_count": 25,
   "metadata": {},
   "outputs": [
    {
     "name": "stderr",
     "output_type": "stream",
     "text": [
      " 33%|███▎      | 2/6 [00:00<00:02,  1.79it/s]"
     ]
    },
    {
     "name": "stdout",
     "output_type": "stream",
     "text": [
      ".DS_Store\n"
     ]
    },
    {
     "name": "stderr",
     "output_type": "stream",
     "text": [
      "100%|██████████| 6/6 [00:01<00:00,  3.75it/s]\n"
     ]
    }
   ],
   "source": [
    "all_speeches = []\n",
    "for i in tqdm(listdir(path_speeches)):\n",
    "    try:\n",
    "        with open(path_speeches + i) as f:\n",
    "            temp = json.load(f)\n",
    "            for j in temp:\n",
    "                all_speeches.append(j)\n",
    "    except:\n",
    "        print(i)"
   ]
  },
  {
   "cell_type": "code",
   "execution_count": 27,
   "metadata": {},
   "outputs": [
    {
     "name": "stderr",
     "output_type": "stream",
     "text": [
      "100%|██████████| 41582/41582 [00:00<00:00, 1536887.66it/s]\n"
     ]
    }
   ],
   "source": [
    "for i in tqdm(all_speeches):\n",
    "    i['id']"
   ]
  },
  {
   "cell_type": "code",
   "execution_count": 42,
   "metadata": {},
   "outputs": [
    {
     "data": {
      "text/plain": [
       "'Diputado presidente, muchas gracias. Ratificamos la peticion del minuto de silencio por el excelente funcionario publico que fue el presidente municipal de Ixtapan de la Sal, quien fue anfitrion en nuestra reunion plenaria de agosto. Debemos condenar este tipo de ataques. Hagamos este minuto de silencio.  El diputado Carlos Ernesto Zatarain Gonzalez'"
      ]
     },
     "execution_count": 42,
     "metadata": {},
     "output_type": "execute_result"
    }
   ],
   "source": [
    "i['text_speech']"
   ]
  },
  {
   "cell_type": "markdown",
   "metadata": {},
   "source": [
    "### Pre-processing Steps\n",
    "    - lower\n",
    "    - numbers\n",
    "    - punctuation\n",
    "    - stopwords"
   ]
  },
  {
   "cell_type": "code",
   "execution_count": 58,
   "metadata": {},
   "outputs": [],
   "source": [
    "import spacy ## Lemmatizer\n",
    "nlp_lemm = spacy.load(\"es_core_news_sm\")"
   ]
  },
  {
   "cell_type": "code",
   "execution_count": 59,
   "metadata": {},
   "outputs": [],
   "source": [
    "from spacy.lang.es import Spanish ## StopWords\n",
    "nlp = Spanish()"
   ]
  },
  {
   "cell_type": "code",
   "execution_count": 38,
   "metadata": {},
   "outputs": [],
   "source": [
    "from spacy.lang.es.stop_words import STOP_WORDS"
   ]
  },
  {
   "cell_type": "code",
   "execution_count": 76,
   "metadata": {},
   "outputs": [],
   "source": [
    "def remove_stopwords(text):\n",
    "    my_doc = nlp(text)\n",
    "    \n",
    "    token_list = []\n",
    "    for token in my_doc:\n",
    "        token_list.append(token.text)\n",
    "\n",
    "    filtered_sentence =[] \n",
    "\n",
    "    for word in token_list:\n",
    "        lexeme = nlp.vocab[word]\n",
    "        if lexeme.is_stop == False:\n",
    "            filtered_sentence.append(word)  \n",
    "    \n",
    "    full_text = ' '.join(filtered_sentence)\n",
    "    full_text = re.sub('[ ]+', ' ', full_text)\n",
    "    return(full_text)\n",
    "def apply_Lemmatization(text):\n",
    "    my_doc = nlp_lemm(text)\n",
    "    \n",
    "    lemma_word1 = [] \n",
    "    for token in my_doc:\n",
    "        lemma_word1.append(token.lemma_)\n",
    "\n",
    "    full_text = ' '.join(lemma_word1)\n",
    "    full_text = re.sub('[ ]+', ' ', full_text)\n",
    "    return(full_text)\n",
    "def remove_punctuation(text):\n",
    "    punctuation = {'!', '\"','#', '$','%','&',\"'\",'(',')','*','+',',','-','.','/',':',';','<','=','>','?','@','[','\\\\',']','^','_','`','{','|','}','~'}\n",
    "    text = ''.join(i for i in text if i not in punctuation)\n",
    "    return(text)\n",
    "\n",
    "def remove_numbers(text):\n",
    "    text = re.sub('[0-9]+', '', text)\n",
    "    return(text)\n",
    "\n",
    "def strip_Whitespace(text):\n",
    "    text = re.sub('[ ]+', ' ', text)\n",
    "    text = re.sub('^[ ]+', '', text)\n",
    "    text = re.sub('[ ]+$', '', text)\n",
    "    return(text)\n",
    "\n",
    "def apply_lowercase(text):\n",
    "    text = text.lower()\n",
    "    return(text)\n",
    "\n",
    "def pre_processText(text):\n",
    "    clean = apply_lowercase(text)\n",
    "    clean = remove_numbers(clean)\n",
    "    clean = remove_punctuation(clean)\n",
    "    clean = strip_Whitespace(clean)\n",
    "    clean = remove_stopwords(clean)\n",
    "    clean = apply_Lemmatization(clean)\n",
    "    return(clean)"
   ]
  },
  {
   "cell_type": "code",
   "execution_count": null,
   "metadata": {},
   "outputs": [
    {
     "name": "stderr",
     "output_type": "stream",
     "text": [
      "  3%|▎         | 1207/41582 [01:37<1:21:34,  8.25it/s]"
     ]
    }
   ],
   "source": [
    "for i in tqdm(all_speeches):\n",
    "    i['clean_speech'] = pre_processText(i['text_speech'])"
   ]
  },
  {
   "cell_type": "code",
   "execution_count": 16,
   "metadata": {},
   "outputs": [],
   "source": [
    "with open('/Users/cblanesg/cam.blanes Dropbox/Camila Blanes/Congressional-dataMX/data/02-outcomes/01-policy_positioning/01-text_analysis/00-prep_data/prep_speeches.json', 'w') as f:\n",
    "    json.dump(all_speeches, f)"
   ]
  }
 ],
 "metadata": {
  "kernelspec": {
   "display_name": "Python 3",
   "language": "python",
   "name": "python3"
  },
  "language_info": {
   "codemirror_mode": {
    "name": "ipython",
    "version": 3
   },
   "file_extension": ".py",
   "mimetype": "text/x-python",
   "name": "python",
   "nbconvert_exporter": "python",
   "pygments_lexer": "ipython3",
   "version": "3.8.3"
  }
 },
 "nbformat": 4,
 "nbformat_minor": 4
}
