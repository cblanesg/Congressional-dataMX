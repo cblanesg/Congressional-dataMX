{
 "cells": [
  {
   "cell_type": "markdown",
   "metadata": {},
   "source": [
    "## notebook to prepare matrix for dw nominate estimations"
   ]
  },
  {
   "cell_type": "code",
   "execution_count": 36,
   "metadata": {},
   "outputs": [],
   "source": [
    "import pandas as pd\n",
    "import json \n",
    "import re\n",
    "from tqdm import tqdm"
   ]
  },
  {
   "cell_type": "code",
   "execution_count": 39,
   "metadata": {},
   "outputs": [],
   "source": [
    "with open('../../../../data/01-collection_data/06-aggregated-data/roll_call_votes.json') as d:\n",
    "    votes = json.load(d)"
   ]
  },
  {
   "cell_type": "code",
   "execution_count": 41,
   "metadata": {},
   "outputs": [],
   "source": [
    "with open('../../../../data/01-collection_data/06-aggregated-data/id_data.json') as d:\n",
    "    id_data = json.load(d)"
   ]
  },
  {
   "cell_type": "code",
   "execution_count": 43,
   "metadata": {},
   "outputs": [],
   "source": [
    "id_prop = []\n",
    "for i in id_data:\n",
    "    if i['legislatura'] == 60 and i['suplente_propietario'] == 'P':\n",
    "        id_prop.append(i['id_legislador'])"
   ]
  },
  {
   "cell_type": "code",
   "execution_count": 45,
   "metadata": {},
   "outputs": [
    {
     "data": {
      "text/plain": [
       "500"
      ]
     },
     "execution_count": 45,
     "metadata": {},
     "output_type": "execute_result"
    }
   ],
   "source": [
    "len(id_prop)"
   ]
  },
  {
   "cell_type": "code",
   "execution_count": 47,
   "metadata": {},
   "outputs": [],
   "source": [
    "votes60 = []\n",
    "for i in votes:\n",
    "    if i['legislatura'] == 60 and i['id'] in id_prop:\n",
    "        votes60.append(i)"
   ]
  },
  {
   "cell_type": "code",
   "execution_count": 49,
   "metadata": {},
   "outputs": [
    {
     "data": {
      "text/plain": [
       "590"
      ]
     },
     "execution_count": 49,
     "metadata": {},
     "output_type": "execute_result"
    }
   ],
   "source": [
    "len(pd.DataFrame(votes60).titulo_votacion.unique())"
   ]
  },
  {
   "cell_type": "code",
   "execution_count": 50,
   "metadata": {},
   "outputs": [],
   "source": [
    "bills = pd.DataFrame(votes60).titulo_votacion.unique()"
   ]
  },
  {
   "cell_type": "code",
   "execution_count": 67,
   "metadata": {},
   "outputs": [
    {
     "data": {
      "text/plain": [
       "'dictamen con proyecto de decreto que reforma diversas disposiciones la ley orgánica del congreso general de los e.u.m. (en lo general y en lo particular) 7-septiembre-2006'"
      ]
     },
     "execution_count": 67,
     "metadata": {},
     "output_type": "execute_result"
    }
   ],
   "source": [
    "bills[0]"
   ]
  },
  {
   "cell_type": "markdown",
   "metadata": {},
   "source": [
    "### Complete Data"
   ]
  },
  {
   "cell_type": "code",
   "execution_count": 58,
   "metadata": {},
   "outputs": [],
   "source": [
    "def subset_dict(id_, bill):\n",
    "    for i in votes60:\n",
    "        if i['id'] == id_ and i['titulo_votacion'] == bill:\n",
    "            return(i)\n",
    "        else:\n",
    "            return('no vote')\n",
    "    "
   ]
  },
  {
   "cell_type": "code",
   "execution_count": 68,
   "metadata": {},
   "outputs": [
    {
     "name": "stdout",
     "output_type": "stream",
     "text": [
      "{'legislatura': 60, 'year_session': 2006, 'month_session': 9, 'day_session': 7, 'member': 'Arellano Arellano Joel', 'party': 'PAN', 'titulo_votacion': 'dictamen con proyecto de decreto que reforma diversas disposiciones la ley orgánica del congreso general de los e.u.m. (en lo general y en lo particular) 7-septiembre-2006', 'voto': 'Ausente', 'id': 'e9272d26-fe1f-11ea-95ca-acde48001122'}\n"
     ]
    }
   ],
   "source": [
    "for i in votes60:\n",
    "    if i['id'] == 'e9272d26-fe1f-11ea-95ca-acde48001122' and i['titulo_votacion'] == bills[0]:\n",
    "        print(i)"
   ]
  },
  {
   "cell_type": "code",
   "execution_count": 77,
   "metadata": {},
   "outputs": [
    {
     "data": {
      "text/plain": [
       "' decreto por el que se reforman y adicionan diversas disposiciones de la ley de expropiacion (en lo general y en lo particular) 30-abril-2009'"
      ]
     },
     "execution_count": 77,
     "metadata": {},
     "output_type": "execute_result"
    }
   ],
   "source": [
    "i"
   ]
  },
  {
   "cell_type": "code",
   "execution_count": 78,
   "metadata": {},
   "outputs": [
    {
     "data": {
      "text/plain": [
       "'57862bf0-fe20-11ea-95ca-acde48001122'"
      ]
     },
     "execution_count": 78,
     "metadata": {},
     "output_type": "execute_result"
    }
   ],
   "source": [
    "x"
   ]
  },
  {
   "cell_type": "code",
   "execution_count": 79,
   "metadata": {},
   "outputs": [],
   "source": [
    "df = pd.DataFrame(votes60)"
   ]
  },
  {
   "cell_type": "code",
   "execution_count": 82,
   "metadata": {},
   "outputs": [],
   "source": [
    "subset_legis = df[df['id'] == x]"
   ]
  },
  {
   "cell_type": "code",
   "execution_count": 90,
   "metadata": {},
   "outputs": [
    {
     "data": {
      "text/plain": [
       "'Ausente'"
      ]
     },
     "execution_count": 90,
     "metadata": {},
     "output_type": "execute_result"
    }
   ],
   "source": [
    "list(subset_legis[subset_legis['titulo_votacion'] == i].voto)[0]"
   ]
  },
  {
   "cell_type": "code",
   "execution_count": null,
   "metadata": {
    "scrolled": true
   },
   "outputs": [
    {
     "name": "stderr",
     "output_type": "stream",
     "text": [
      " 14%|█▎        | 80/590 [11:01<1:13:47,  8.68s/it]"
     ]
    }
   ],
   "source": [
    "dict_votes = []\n",
    "for i in tqdm(bills):\n",
    "    for x in id_prop:\n",
    "        temp = {}\n",
    "        temp['id'] = x\n",
    "        temp['bill'] = i\n",
    "        \n",
    "        subset_legis = df[df['id'] == x]\n",
    "        try:\n",
    "            voto = list(subset_legis[subset_legis['titulo_votacion'] == i].voto)[0]\n",
    "            temp['vote'] = voto\n",
    "            dict_votes.append(temp)\n",
    "        except:\n",
    "            temp['vote'] = 'missing'\n",
    "            dict_votes.append(temp)"
   ]
  },
  {
   "cell_type": "code",
   "execution_count": null,
   "metadata": {},
   "outputs": [],
   "source": [
    "party_df = df[['id', 'party']]"
   ]
  },
  {
   "cell_type": "code",
   "execution_count": null,
   "metadata": {},
   "outputs": [],
   "source": [
    "data_all = pd.merge(left = df, \n",
    "        right = party_df, \n",
    "        on = ['id'], \n",
    "        how = 'left')"
   ]
  },
  {
   "cell_type": "code",
   "execution_count": null,
   "metadata": {},
   "outputs": [],
   "source": []
  },
  {
   "cell_type": "code",
   "execution_count": null,
   "metadata": {},
   "outputs": [],
   "source": []
  },
  {
   "cell_type": "code",
   "execution_count": null,
   "metadata": {},
   "outputs": [],
   "source": []
  },
  {
   "cell_type": "code",
   "execution_count": null,
   "metadata": {},
   "outputs": [],
   "source": []
  }
 ],
 "metadata": {
  "kernelspec": {
   "display_name": "Python 3",
   "language": "python",
   "name": "python3"
  },
  "language_info": {
   "codemirror_mode": {
    "name": "ipython",
    "version": 3
   },
   "file_extension": ".py",
   "mimetype": "text/x-python",
   "name": "python",
   "nbconvert_exporter": "python",
   "pygments_lexer": "ipython3",
   "version": "3.8.3"
  }
 },
 "nbformat": 4,
 "nbformat_minor": 4
}
