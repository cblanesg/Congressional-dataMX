{
 "cells": [
  {
   "cell_type": "markdown",
   "metadata": {},
   "source": [
    "## notebook to prepare matrix for dw nominate estimations"
   ]
  },
  {
   "cell_type": "code",
   "execution_count": 1,
   "metadata": {},
   "outputs": [],
   "source": [
    "import pandas as pd\n",
    "import json \n",
    "import re\n",
    "from tqdm import tqdm"
   ]
  },
  {
   "cell_type": "code",
   "execution_count": 2,
   "metadata": {},
   "outputs": [],
   "source": [
    "with open('../../../../data/01-collection_data/06-aggregated-data/roll_call_votes.json') as d:\n",
    "    votes = json.load(d)"
   ]
  },
  {
   "cell_type": "code",
   "execution_count": 3,
   "metadata": {},
   "outputs": [],
   "source": [
    "with open('../../../../data/01-collection_data/06-aggregated-data/id_data.json') as d:\n",
    "    id_data = json.load(d)"
   ]
  },
  {
   "cell_type": "code",
   "execution_count": 4,
   "metadata": {},
   "outputs": [],
   "source": [
    "id_prop = []\n",
    "for i in id_data:\n",
    "    if i['legislatura'] == 61 and i['suplente_propietario'] == 'P':\n",
    "        id_prop.append(i['id_legislador'])"
   ]
  },
  {
   "cell_type": "code",
   "execution_count": 5,
   "metadata": {},
   "outputs": [
    {
     "data": {
      "text/plain": [
       "500"
      ]
     },
     "execution_count": 5,
     "metadata": {},
     "output_type": "execute_result"
    }
   ],
   "source": [
    "len(id_prop)"
   ]
  },
  {
   "cell_type": "code",
   "execution_count": 7,
   "metadata": {},
   "outputs": [],
   "source": [
    "votes61 = []\n",
    "for i in votes:\n",
    "    if i['legislatura'] == 61 and i['id'] in id_prop:\n",
    "        votes61.append(i)"
   ]
  },
  {
   "cell_type": "code",
   "execution_count": 8,
   "metadata": {},
   "outputs": [
    {
     "data": {
      "text/plain": [
       "735"
      ]
     },
     "execution_count": 8,
     "metadata": {},
     "output_type": "execute_result"
    }
   ],
   "source": [
    "len(pd.DataFrame(votes61).titulo_votacion.unique())"
   ]
  },
  {
   "cell_type": "code",
   "execution_count": 9,
   "metadata": {},
   "outputs": [],
   "source": [
    "bills = pd.DataFrame(votes61).titulo_votacion.unique()"
   ]
  },
  {
   "cell_type": "markdown",
   "metadata": {},
   "source": [
    "### Complete Data"
   ]
  },
  {
   "cell_type": "code",
   "execution_count": 10,
   "metadata": {},
   "outputs": [],
   "source": [
    "df = pd.DataFrame(votes61)"
   ]
  },
  {
   "cell_type": "code",
   "execution_count": null,
   "metadata": {
    "scrolled": true
   },
   "outputs": [
    {
     "name": "stderr",
     "output_type": "stream",
     "text": [
      " 32%|███▏      | 236/735 [39:27<1:26:41, 10.42s/it]"
     ]
    }
   ],
   "source": [
    "dict_votes = []\n",
    "for i in tqdm(bills):\n",
    "    for x in id_prop:\n",
    "        temp = {}\n",
    "        temp['id'] = x\n",
    "        temp['bill'] = i\n",
    "        \n",
    "        subset_legis = df[df['id'] == x]\n",
    "        try:\n",
    "            voto = list(subset_legis[subset_legis['titulo_votacion'] == i].voto)[0]\n",
    "            temp['vote'] = voto\n",
    "            dict_votes.append(temp)\n",
    "        except:\n",
    "            temp['vote'] = 'missing'\n",
    "            dict_votes.append(temp)"
   ]
  },
  {
   "cell_type": "code",
   "execution_count": null,
   "metadata": {
    "scrolled": true
   },
   "outputs": [],
   "source": [
    "party_df = df[['id', 'party']].drop_duplicates()"
   ]
  },
  {
   "cell_type": "code",
   "execution_count": null,
   "metadata": {},
   "outputs": [],
   "source": [
    "df_id = pd.DataFrame(id_data)[['id_legislador', 'partido']].drop_duplicates()"
   ]
  },
  {
   "cell_type": "code",
   "execution_count": null,
   "metadata": {
    "scrolled": true
   },
   "outputs": [],
   "source": [
    "data_all = pd.merge(left = pd.DataFrame(dict_votes), \n",
    "        right = df_id, \n",
    "        left_on = ['id'], \n",
    "        right_on = ['id_legislador'], \n",
    "        how = 'left')"
   ]
  },
  {
   "cell_type": "code",
   "execution_count": null,
   "metadata": {},
   "outputs": [],
   "source": [
    "data_all = data_all[['id_legislador', 'bill', 'vote', 'partido']]"
   ]
  },
  {
   "cell_type": "code",
   "execution_count": null,
   "metadata": {},
   "outputs": [],
   "source": [
    "data_all.to_csv('../../../../data/02-outcomes/01-policy_positioning/00-roll_call/00-prep_data/roll_call_votes61.csv', encoding = 'utf-8 sig')"
   ]
  }
 ],
 "metadata": {
  "kernelspec": {
   "display_name": "Python 3",
   "language": "python",
   "name": "python3"
  },
  "language_info": {
   "codemirror_mode": {
    "name": "ipython",
    "version": 3
   },
   "file_extension": ".py",
   "mimetype": "text/x-python",
   "name": "python",
   "nbconvert_exporter": "python",
   "pygments_lexer": "ipython3",
   "version": "3.8.3"
  }
 },
 "nbformat": 4,
 "nbformat_minor": 4
}
