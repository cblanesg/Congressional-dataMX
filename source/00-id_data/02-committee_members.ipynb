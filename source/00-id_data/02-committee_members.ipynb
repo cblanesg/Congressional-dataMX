{
 "cells": [
  {
   "cell_type": "markdown",
   "metadata": {},
   "source": [
    "## Comisiones"
   ]
  },
  {
   "cell_type": "code",
   "execution_count": 7,
   "metadata": {},
   "outputs": [],
   "source": [
    "from webdriver_manager.chrome import ChromeDriverManager\n",
    "from selenium.webdriver import Chrome\n",
    "from selenium import webdriver\n",
    "import re\n",
    "import time\n",
    "import json\n",
    "import pandas as pd\n",
    "import datetime\n",
    "from tqdm import tqdm\n",
    "from datetime import date\n",
    "from selenium.webdriver.chrome.options import Options"
   ]
  },
  {
   "cell_type": "code",
   "execution_count": 127,
   "metadata": {},
   "outputs": [
    {
     "name": "stderr",
     "output_type": "stream",
     "text": [
      "[WDM] - Current google-chrome version is 85.0.4183\n",
      "[WDM] - Get LATEST driver version for 85.0.4183\n",
      "[WDM] - Driver [/Users/cblanesg/.wdm/drivers/chromedriver/mac64/85.0.4183.87/chromedriver] found in cache\n"
     ]
    },
    {
     "name": "stdout",
     "output_type": "stream",
     "text": [
      " \n"
     ]
    }
   ],
   "source": [
    "options = Options()\n",
    "options.add_argument('--headless')\n",
    "driver = webdriver.Chrome(ChromeDriverManager().install())"
   ]
  },
  {
   "cell_type": "code",
   "execution_count": 117,
   "metadata": {},
   "outputs": [
    {
     "data": {
      "text/plain": [
       "500"
      ]
     },
     "execution_count": 117,
     "metadata": {},
     "output_type": "execute_result"
    }
   ],
   "source": [
    "with open('/Users/cblanesg/cam.blanes Dropbox/Camila Blanes/Congressional-dataMX/data/00-id_data/00-id/id_legislatura60.json') as d:\n",
    "    data = json.load(d)\n",
    "\n",
    "data_inc = []\n",
    "for i in data:\n",
    "    if i['suplente_propietario'] == 'P':\n",
    "        data_inc.append(i)\n",
    "len(data_inc)"
   ]
  },
  {
   "cell_type": "code",
   "execution_count": 118,
   "metadata": {},
   "outputs": [],
   "source": [
    "driver.get(data_inc[0]['link_curricula'])"
   ]
  },
  {
   "cell_type": "code",
   "execution_count": 120,
   "metadata": {},
   "outputs": [],
   "source": [
    "    all_comisiones = []\n",
    "    comisiones = re.sub('\\n', '', re.sub('COMITÉ.*', '', driver.find_element_by_css_selector('body > table > tbody > tr:nth-child(3) > td > table > tbody > tr:nth-child(14) > td').text))\n",
    "    for i in re.sub('ORDINARIA|ESPECIAL', '', comisiones).split('|'):\n",
    "        if any(i):\n",
    "            temp = {}\n",
    "            temp['nombre_completo'] = 'c'\n",
    "            temp['id_legislador'] = 'id_inc'\n",
    "            temp['comision'] = re.sub('[ ]+$', '', re.sub('^[ ]+', '', i))\n",
    "            all_comisiones.append(temp)\n",
    "        else:\n",
    "            continue"
   ]
  },
  {
   "cell_type": "code",
   "execution_count": 121,
   "metadata": {},
   "outputs": [
    {
     "data": {
      "text/plain": [
       "[{'nombre_completo': 'c', 'id_legislador': 'id_inc', 'comision': 'Del Café'}]"
      ]
     },
     "execution_count": 121,
     "metadata": {},
     "output_type": "execute_result"
    }
   ],
   "source": [
    "all_comisiones"
   ]
  },
  {
   "cell_type": "code",
   "execution_count": 122,
   "metadata": {},
   "outputs": [],
   "source": []
  },
  {
   "cell_type": "code",
   "execution_count": 130,
   "metadata": {
    "scrolled": true
   },
   "outputs": [
    {
     "name": "stderr",
     "output_type": "stream",
     "text": [
      "100%|██████████| 500/500 [02:50<00:00,  2.93it/s]\n"
     ]
    }
   ],
   "source": [
    "all_comisiones = []\n",
    "for h in tqdm(data_inc):\n",
    "    driver.get(h['link_curricula'])\n",
    "    try:\n",
    "        comisiones = re.sub('\\n', '', re.sub('COMITÉ.*|BICAMARAL.*|COMITé.*|INVESTIGACIóN.*', '', driver.find_element_by_css_selector('body > table > tbody > tr:nth-child(3) > td > table > tbody > tr:nth-child(14) > td').text))\n",
    "        for i in re.sub('ORDINARIA|ESPECIAL', '', comisiones.split('\\n')[0]).split('|'):\n",
    "            if any(i):\n",
    "                temp = {}\n",
    "                temp['legislatura'] = h['legislatura']\n",
    "                temp['nombre_completo'] = h['nombre_completo']\n",
    "                temp['id_legislador'] = h['id_legislador']\n",
    "                temp['comision'] = re.sub('[ ]+$', '', re.sub('^[ ]+', '', i))\n",
    "                all_comisiones.append(temp)\n",
    "            else:\n",
    "                continue\n",
    "    except:\n",
    "        print(h['link_curricula'])"
   ]
  },
  {
   "cell_type": "code",
   "execution_count": 131,
   "metadata": {},
   "outputs": [
    {
     "data": {
      "text/plain": [
       "array(['Del Café', 'Función Pública',\n",
       "       'Vigilancia de la Auditoría Superior de la Federación (Secretaría)',\n",
       "       'Encargada de Vigilar el correcto uso de los Recursos Federales, Estatales y Municipales en el Proceso Electoral Federal de 2009 (Secretaría)',\n",
       "       'Seguimiento a las Denuncias Presentadas por el Presunto Ejercicio Indebido de Servicio Público en la Presidencia de la República, durante la Gestión del C. Vicente Fox Quesada con relación a los señalamientos del Incremento de su Patrimonio',\n",
       "       'Distrito Federal', 'Relaciones Exteriores',\n",
       "       'Régimen, Reglamentos y Prácticas Parlamentarias (Secretaría)',\n",
       "       'Desarrollo Rural (Secretaría)', 'Transportes', 'Defensa Nacional',\n",
       "       'Fomento Cooperativo y Economía Social', 'Reforma Agraria',\n",
       "       'Seguridad Social', 'Vivienda',\n",
       "       'Cuenca Lerma-Chapala-Santiago (Presidente)',\n",
       "       'Apoyo a los Festejos del Bicentenario de la Independencia y del Centenario de la Revolución',\n",
       "       'Hacienda y Crédito Público', 'Puntos Constitucionales',\n",
       "       'Agricultura y Ganadería (Secretaría)', 'Recursos Hidráulicos',\n",
       "       'Cuenca Lerma-Chapala-Santiago', 'Ganadería (Presidente)',\n",
       "       'Seguimiento del Acuerdo Nacional para el Campo y al Capítulo Agropecuario del TLC',\n",
       "       'Ciencia y Tecnología', 'Energía',\n",
       "       'Radio, Televisión y Cinematografía',\n",
       "       'Defensa Nacional (Secretaría)', 'Presupuesto y Cuenta Pública',\n",
       "       'Desarrollo Metropolitano (Presidente)',\n",
       "       'Vigilancia de la Auditoría Superior de la Federación',\n",
       "       'Juventud y Deporte (Secretaría)', 'Seguridad Pública',\n",
       "       'Gobernación (Secretaría)', 'Jurisdiccional', 'Comunicaciones',\n",
       "       'Encargada de Impulsar y Dar Seguimiento a los Programas y Proyectos de Desarrollo Regional del Sur Sureste de México',\n",
       "       'Economía', 'Trabajo y Previsión Social',\n",
       "       'Agricultura y Ganadería',\n",
       "       'Población, Fronteras y Asuntos Migratorios',\n",
       "       'Desarrollo Metropolitano', 'Medio Ambiente y Recursos Naturales',\n",
       "       'Defensa de los Derechos Sociales de Acceso al Agua y la Protección de Ambientes Acuáticos',\n",
       "       'Seguimiento a las Agresiones a Periodistas y Medios de Comunicación',\n",
       "       'Atención a Grupos Vulnerables',\n",
       "       'Sobre no Discriminación, Nuevos Sujetos y Nuevos Derechos',\n",
       "       'Marina', 'Relaciones Exteriores (Presidente)',\n",
       "       'Relaciones Exteriores (Secretaría)', 'Reforma del Estado',\n",
       "       'Desarrollo Social', 'Justicia',\n",
       "       'Prospectiva para la Definición del Futuro de México',\n",
       "       'Equidad y Género', 'Juventud y Deporte', 'Pesca',\n",
       "       'Gobernación (Presidente)', 'Participación Ciudadana',\n",
       "       'Desarrollo Rural',\n",
       "       'Vigilancia y Seguimiento de la Industria Azucarera (Secretaría)',\n",
       "       'Reforma Agraria (Presidente)',\n",
       "       'Promoción del Acceso Digital a los Mexicanos',\n",
       "       'Región Cuenca de Burgos', 'Fortalecimiento al Federalismo',\n",
       "       'Cultura', 'Salud',\n",
       "       'Conocer las Políticas y la Procuración de Justicia Vinculada a los Feminicidios en el País (Presidente)',\n",
       "       'Asuntos Indígenas', 'Educación Pública y Servicios Educativos',\n",
       "       'Atención a Grupos Vulnerables (Secretaría)',\n",
       "       'Educación Pública y Servicios Educativos (Secretaría)',\n",
       "       'Comunicaciones (Secretaría)', 'Derechos Humanos',\n",
       "       'Turismo (Secretaría)', 'Gobernación',\n",
       "       'Medio Ambiente y Recursos Naturales (Secretaría)',\n",
       "       'Encargada de Vigilar el correcto uso de los Recursos Federales, Estatales y Municipales en el Proceso Electoral Federal de 2009',\n",
       "       'Citricultura', 'Trabajo y Previsión Social (Presidente)',\n",
       "       'Citricultura (Secretaría)',\n",
       "       'Régimen, Reglamentos y Prácticas Parlamentarias',\n",
       "       'Transportes (Secretaría)',\n",
       "       'Radio, Televisión y Cinematografía (Secretaría)',\n",
       "       'Asuntos Indígenas (Secretaría)', 'Reforma Agraria (Secretaría)',\n",
       "       'Jurisdiccional (Secretaría)',\n",
       "       'Fortalecimiento al Federalismo (Presidente)', 'Turismo',\n",
       "       'Ganadería',\n",
       "       'Seguimiento a los Fondos Aportados por los Trabajadores Mexicanos Braceros',\n",
       "       'Pesca (Secretaría)', 'Hacienda y Crédito Público (Secretaría)',\n",
       "       'Derechos Humanos (Secretaría)',\n",
       "       'Ciencia y Tecnología (Secretaría)',\n",
       "       'Apoyo a los Festejos del Bicentenario de la Independencia y del Centenario de la Revolución (Presidente)',\n",
       "       'Vivienda (Secretaría)',\n",
       "       'Seguimiento a los Fondos Aportados por los Trabajadores Mexicanos Braceros (Secretaría)',\n",
       "       'Justicia (Secretaría)', 'Defensa Nacional (Presidente)',\n",
       "       'Distrito Federal (Secretaría)', 'Función Pública (Presidente)',\n",
       "       'Participación Ciudadana (Secretaría)',\n",
       "       'Atención a Pueblos que Viven en el Bosque',\n",
       "       'Puntos Constitucionales (Secretaría)',\n",
       "       'Estudio de las Políticas para la Migración Interna (Secretaría)',\n",
       "       'Equidad y Género (Secretaría)',\n",
       "       'Sobre no Discriminación, Nuevos Sujetos y Nuevos Derechos (Secretaría)',\n",
       "       'Seguridad Pública (Secretaría)',\n",
       "       'Encargada de Impulsar y Dar Seguimiento a los Programas y Proyectos de Desarrollo Regional del Sur Sureste de México (Secretaría)',\n",
       "       'Seguimiento del Acuerdo Nacional para el Campo y al Capítulo Agropecuario del TLC (Secretaría)',\n",
       "       'Vigilancia y Seguimiento de la Industria Azucarera',\n",
       "       'Cultura (Secretaría)', 'Energía (Secretaría)',\n",
       "       'Derechos Humanos (Presidente)',\n",
       "       'Conocer las Políticas y la Procuración de Justicia Vinculada a los Feminicidios en el País',\n",
       "       'Fortalecimiento al Federalismo (Secretaría)',\n",
       "       'Fomento Cooperativo y Economía Social (Presidente)',\n",
       "       'Energía (Presidente)',\n",
       "       'Fomento Cooperativo y Economía Social (Secretaría)',\n",
       "       'Recursos Hidráulicos (Secretaría)',\n",
       "       'Estudio de las Políticas para la Migración Interna',\n",
       "       'Del Café (Secretaría)',\n",
       "       'Vigilancia y Seguimiento de la Industria Azucarera (Presidente)',\n",
       "       'Función Pública (Secretaría)',\n",
       "       'Población, Fronteras y Asuntos Migratorios (Secretaría)',\n",
       "       'Marina (Secretaría)', 'Salud (Secretaría)',\n",
       "       'Desarrollo Social (Secretaría)',\n",
       "       'Presupuesto y Cuenta Pública (Presidente)',\n",
       "       'Defensa de los Derechos Sociales de Acceso al Agua y la Protección de Ambientes Acuáticos (Secretaría)',\n",
       "       'Seguimiento a las Agresiones a Periodistas y Medios de Comunicación (Presidente)',\n",
       "       'Salud (Presidente)', 'Economía (Secretaría)',\n",
       "       'Región Cuenca de Burgos (Secretaría)', 'Economía (Presidente)',\n",
       "       'Atención a Grupos Vulnerables (Presidente)',\n",
       "       'Presupuesto y Cuenta Pública (Secretaría)',\n",
       "       'Desarrollo Metropolitano (Secretaría)',\n",
       "       'Trabajo y Previsión Social (Secretaría)',\n",
       "       'Reforma del Estado (Presidente)',\n",
       "       'Población, Fronteras y Asuntos Migratorios (Presidente)',\n",
       "       'Promoción del Acceso Digital a los Mexicanos (Presidente)',\n",
       "       'Prospectiva para la Definición del Futuro de México (Presidente)',\n",
       "       'Ganadería (Secretaría)',\n",
       "       'Educación Pública y Servicios Educativos (Presidente)',\n",
       "       'Turismo (Presidente)', 'Puntos Constitucionales (Presidente)',\n",
       "       'Equidad y Género (Presidente)',\n",
       "       'Seguimiento a las Agresiones a Periodistas y Medios de Comunicación (Secretaría)',\n",
       "       'Seguimiento del Acuerdo Nacional para el Campo y al Capítulo Agropecuario del TLC (Presidente)',\n",
       "       'Seguridad Social (Secretaría)', 'Reforma del Estado (Secretaría)',\n",
       "       'Defensa de los Derechos Sociales de Acceso al Agua y la Protección de Ambientes Acuáticos (Presidente)',\n",
       "       'Apoyo a los Festejos del Bicentenario de la Independencia y del Centenario de la Revolución (Secretaría)',\n",
       "       'Promoción del Acceso Digital a los Mexicanos (Secretaría)',\n",
       "       'Asuntos Indígenas (Presidente)', 'Pesca (Presidente)',\n",
       "       'Desarrollo Rural (Presidente)', 'Seguridad Social (Presidente)',\n",
       "       'Conocer las Políticas y la Procuración de Justicia Vinculada a los Feminicidios en el País (Secretaría)',\n",
       "       'Vigilancia de la Auditoría Superior de la Federación (Presidente)',\n",
       "       'Distrito Federal (Presidente)',\n",
       "       'Atención a Pueblos que Viven en el Bosque (Secretaría)',\n",
       "       'Seguimiento a los Fondos Aportados por los Trabajadores Mexicanos Braceros (Presidente)',\n",
       "       'Encargada de Impulsar y Dar Seguimiento a los Programas y Proyectos de Desarrollo Regional del Sur Sureste de México (Presidente)',\n",
       "       'Estudio de las Políticas para la Migración Interna (Presidente)',\n",
       "       'Encargada de Vigilar el correcto uso de los Recursos Federales, Estatales y Municipales en el Proceso Electoral Federal de 2009 (Presidente)',\n",
       "       'Cultura (Presidente)',\n",
       "       'Cuenca Lerma-Chapala-Santiago (Secretaría)',\n",
       "       'Vivienda (Presidente)', 'Justicia (Presidente)',\n",
       "       'Comunicaciones (Presidente)',\n",
       "       'Hacienda y Crédito Público (Presidente)',\n",
       "       'Región Cuenca de Burgos (Presidente)',\n",
       "       'Atención a Pueblos que Viven en el Bosque (Presidente)',\n",
       "       'Régimen, Reglamentos y Prácticas Parlamentarias (Presidente)',\n",
       "       'Jurisdiccional (Presidente)', 'Juventud y Deporte (Presidente)',\n",
       "       'Desarrollo Social (Presidente)',\n",
       "       'Agricultura y Ganadería (Presidente)',\n",
       "       'Recursos Hidráulicos (Presidente)',\n",
       "       'Seguridad Pública (Presidente)', 'Citricultura (Presidente)',\n",
       "       'Marina (Presidente)', 'Participación Ciudadana (Presidente)',\n",
       "       'Radio, Televisión y Cinematografía (Presidente)',\n",
       "       'Medio Ambiente y Recursos Naturales (Presidente)',\n",
       "       'Transportes (Presidente)', 'Del Café (Presidente)',\n",
       "       'Ciencia y Tecnología (Presidente)',\n",
       "       'Sobre no Discriminación, Nuevos Sujetos y Nuevos Derechos (Presidente)'],\n",
       "      dtype=object)"
      ]
     },
     "execution_count": 131,
     "metadata": {},
     "output_type": "execute_result"
    }
   ],
   "source": [
    "pd.DataFrame(all_comisiones).comision.unique()"
   ]
  },
  {
   "cell_type": "code",
   "execution_count": 132,
   "metadata": {},
   "outputs": [],
   "source": [
    "with open('/Users/cblanesg/cam.blanes Dropbox/Camila Blanes/Congressional-dataMX/data/00-id_data/02-committe_members/committee_members60.json', 'w') as d:\n",
    "    json.dumps(all_comisiones)"
   ]
  },
  {
   "cell_type": "code",
   "execution_count": null,
   "metadata": {},
   "outputs": [],
   "source": []
  },
  {
   "cell_type": "code",
   "execution_count": null,
   "metadata": {},
   "outputs": [],
   "source": []
  }
 ],
 "metadata": {
  "kernelspec": {
   "display_name": "Python 3",
   "language": "python",
   "name": "python3"
  },
  "language_info": {
   "codemirror_mode": {
    "name": "ipython",
    "version": 3
   },
   "file_extension": ".py",
   "mimetype": "text/x-python",
   "name": "python",
   "nbconvert_exporter": "python",
   "pygments_lexer": "ipython3",
   "version": "3.8.3"
  }
 },
 "nbformat": 4,
 "nbformat_minor": 4
}
