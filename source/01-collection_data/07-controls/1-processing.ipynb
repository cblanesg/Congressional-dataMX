{
 "cells": [
  {
   "cell_type": "markdown",
   "metadata": {},
   "source": [
    "## Notebook to process and clean all controls of legislators"
   ]
  },
  {
   "cell_type": "code",
   "execution_count": 389,
   "metadata": {},
   "outputs": [],
   "source": [
    "import pandas as pd\n",
    "import re\n",
    "import numpy as np\n",
    "from os import listdir\n",
    "import json\n",
    "from tqdm import tqdm\n",
    "import difflib "
   ]
  },
  {
   "cell_type": "code",
   "execution_count": 165,
   "metadata": {},
   "outputs": [],
   "source": [
    "import warnings\n",
    "warnings.filterwarnings(\"ignore\")"
   ]
  },
  {
   "cell_type": "markdown",
   "metadata": {},
   "source": [
    "## Functions"
   ]
  },
  {
   "cell_type": "code",
   "execution_count": null,
   "metadata": {},
   "outputs": [],
   "source": []
  },
  {
   "cell_type": "code",
   "execution_count": 174,
   "metadata": {},
   "outputs": [],
   "source": [
    "def education_num(x):\n",
    "    if x is None:\n",
    "        return(0)\n",
    "    elif x  == 'educacion basica':\n",
    "        return(1)\n",
    "    elif x in 'educacion media superior':\n",
    "        return(2)\n",
    "    elif x == 'educacion superior':\n",
    "        return(3)\n",
    "    else:\n",
    "        return(0)"
   ]
  },
  {
   "cell_type": "code",
   "execution_count": 217,
   "metadata": {},
   "outputs": [],
   "source": [
    "def education(x):\n",
    "    if x in ['Primaria', 'Secundaria']:\n",
    "        return('educacion basica')\n",
    "    elif x in ['Nivel Medio Superior', 'Técnica', 'Comercial', 'Secundaria', 'Carrera Técnica', \n",
    "              'Carrera Trunca', 'Carrera Comercial', 'Bachillerato', 'Bachillerato | Nivel Medio Superior','Trunca', \n",
    "              'Trunco', 'Talleres', 'Taller', 'Pasante', 'Contador Privado', 'Conferencia', 'Curso', 'Otro', '']:\n",
    "        return('educacion media superior')\n",
    "    elif x in ['Carrera', 'Licenciatura','Doctorado', 'Maestría',\n",
    "              'Posgrado', 'Especialidad', 'Estudios Superiores', 'Carrera', 'Estudios Profesionales' ,\n",
    "              'Estudios de Maestría', 'Postgrado', 'Doctorante', 'Licenciatura (cursando actualmente)', 'Estudios', \n",
    "              'Profesor Normalista', 'Profesor', '2', '5', '3', '1', '4', 'Diplomado', 'Seminario']:\n",
    "        return('educacion superior')\n",
    "        "
   ]
  },
  {
   "cell_type": "markdown",
   "metadata": {},
   "source": [
    "## ID-Data"
   ]
  },
  {
   "cell_type": "code",
   "execution_count": 193,
   "metadata": {},
   "outputs": [],
   "source": [
    "id_data = pd.read_excel('/Users/cblanesg/cam.blanes Dropbox/Camila Blanes/Congressional-dataMX/data/01-collection_data/00-id_data/00-id/id_data_aggregate.xlsx')"
   ]
  },
  {
   "cell_type": "code",
   "execution_count": 194,
   "metadata": {
    "scrolled": true
   },
   "outputs": [],
   "source": [
    "id_propietarios = id_data[id_data['suplente_propietario'] == 'P']"
   ]
  },
  {
   "cell_type": "code",
   "execution_count": 195,
   "metadata": {
    "scrolled": true
   },
   "outputs": [
    {
     "data": {
      "text/plain": [
       "2500"
      ]
     },
     "execution_count": 195,
     "metadata": {},
     "output_type": "execute_result"
    }
   ],
   "source": [
    "len(id_propietarios.id_legislador.unique())"
   ]
  },
  {
   "cell_type": "markdown",
   "metadata": {},
   "source": [
    "## gender"
   ]
  },
  {
   "cell_type": "code",
   "execution_count": 196,
   "metadata": {},
   "outputs": [
    {
     "name": "stdout",
     "output_type": "stream",
     "text": [
      "mapping_gender64.json\n"
     ]
    }
   ],
   "source": [
    "path_gender = '/Users/cblanesg/cam.blanes Dropbox/Camila Blanes/Congressional-dataMX/data/01-collection_data/00-id_data/03-gender/'\n",
    "all_gender = []\n",
    "for i in listdir(path_gender):\n",
    "    try:\n",
    "        data = pd.read_json(path_gender + i)\n",
    "        all_gender.append(data)\n",
    "    except:\n",
    "        print(i)"
   ]
  },
  {
   "cell_type": "code",
   "execution_count": 197,
   "metadata": {},
   "outputs": [],
   "source": [
    "data_gender = pd.concat(all_gender)"
   ]
  },
  {
   "cell_type": "code",
   "execution_count": 349,
   "metadata": {},
   "outputs": [
    {
     "data": {
      "text/plain": [
       "array(['male', 'female'], dtype=object)"
      ]
     },
     "execution_count": 349,
     "metadata": {},
     "output_type": "execute_result"
    }
   ],
   "source": [
    "data_gender.gender.unique()"
   ]
  },
  {
   "cell_type": "code",
   "execution_count": 351,
   "metadata": {},
   "outputs": [],
   "source": [
    "with open(path_gender + 'mapping_gender64.json') as f:\n",
    "    data64 = json.load(f)"
   ]
  },
  {
   "cell_type": "code",
   "execution_count": 403,
   "metadata": {},
   "outputs": [],
   "source": [
    "temp64 = pd.DataFrame({'nombre_completo':list(data64.keys()), \n",
    "             'gender':list(data64.values())})"
   ]
  },
  {
   "cell_type": "code",
   "execution_count": 363,
   "metadata": {},
   "outputs": [
    {
     "data": {
      "text/plain": [
       "500"
      ]
     },
     "execution_count": 363,
     "metadata": {},
     "output_type": "execute_result"
    }
   ],
   "source": [
    "len(temp64)"
   ]
  },
  {
   "cell_type": "code",
   "execution_count": 387,
   "metadata": {},
   "outputs": [],
   "source": [
    "id64 = id_propietarios[id_propietarios['legislatura'] == 64][['id_legislador', 'nombre_completo']]"
   ]
  },
  {
   "cell_type": "code",
   "execution_count": 405,
   "metadata": {},
   "outputs": [],
   "source": [
    "import fuzzymatcher\n",
    "matched_results = fuzzymatcher.fuzzy_left_join(temp64,\n",
    "                                            id64,\n",
    "                                            ['nombre_completo'],\n",
    "                                            ['nombre_completo'],\n",
    "                                            left_id_col='nombre_completo',\n",
    "                                            right_id_col='nombre_completo')\n",
    "matched_results = matched_results.reset_index()"
   ]
  },
  {
   "cell_type": "code",
   "execution_count": 421,
   "metadata": {},
   "outputs": [],
   "source": [
    "clean64 = []\n",
    "for i in range(0, len(matched_results)):\n",
    "    score = matched_results.loc[i]['best_match_score']\n",
    "    if score < .20:\n",
    "        clean64.append(pd.DataFrame({'id_legislador':[matched_results.loc[i]['id_legislador']], \n",
    "                       'gender':[np.nan], \n",
    "                       'nombre_completo':[matched_results.loc[i]['nombre_completo_right']]}))\n",
    "    else:\n",
    "        clean64.append(pd.DataFrame({'id_legislador':[matched_results.loc[i]['id_legislador']], \n",
    "                       'gender':[matched_results.loc[i]['gender']], \n",
    "                       'nombre_completo':[matched_results.loc[i]['nombre_completo_right']]}))"
   ]
  },
  {
   "cell_type": "code",
   "execution_count": 446,
   "metadata": {},
   "outputs": [],
   "source": [
    "clean64_gender = pd.concat(clean64).reset_index().drop(['index'], axis = 1)"
   ]
  },
  {
   "cell_type": "code",
   "execution_count": 447,
   "metadata": {
    "scrolled": true
   },
   "outputs": [
    {
     "data": {
      "text/plain": [
       "array(['González Márquez Karen Michel',\n",
       "       'Mora Ríos María Teresa Rebeca Rosa',\n",
       "       'Diaz García María Elizabeth', 'Martínez González Laura',\n",
       "       'Méndez De La Luz Dauzón Dulce María', 'Lizeth Sanchez Garcia',\n",
       "       'Báez Ruiz Claudia', 'López Chávez Maria Beatriz',\n",
       "       'Bautista Peláez Maria del Carmen', 'Hidalgo Ponce Javier Ariel',\n",
       "       'Rosas Uribe Erika Mariana', 'Guzmán Valdéz Edgar',\n",
       "       'Juan Carlos Irma', 'Zarzosa Sánchez Eduardo',\n",
       "       'Contreras Montes Gustavo', 'Alvarado Moreno María Guillermina',\n",
       "       'De Jesús Jiménez Lucio', 'Alfonso Ramirez Cuellar',\n",
       "       'Pérez Hernández Sergio', 'Montes Nieves Jorge Luis',\n",
       "       'Romero Herrera Jorge', 'Baldenebro Arredondo Manuel de Jesus',\n",
       "       'Bautista Villegas Oscar', 'Tagle Martínez Martha',\n",
       "       'Medina Herrera Benito', 'Bautista Bravo Juan Angel',\n",
       "       'Merlín García María del Rosario', 'Jose Jaime Montes Salas',\n",
       "       'Vazquez Vazquez Alfredo', 'Mata Carrasco Mario'], dtype=object)"
      ]
     },
     "execution_count": 447,
     "metadata": {},
     "output_type": "execute_result"
    }
   ],
   "source": [
    "clean64_gender[clean64_gender['gender'].isna()].nombre_completo.unique()"
   ]
  },
  {
   "cell_type": "code",
   "execution_count": 448,
   "metadata": {},
   "outputs": [],
   "source": [
    "def clean_missing(gender, x):\n",
    "    if pd.isna(gender):\n",
    "        if x in ['Hidalgo Ponce Javier Ariel','Guzmán Valdéz Edgar',\n",
    "                'Juan Carlos Irma', 'Zarzosa Sánchez Eduardo',\n",
    "           'Contreras Montes Gustavo','De Jesús Jiménez Lucio', 'Alfonso Ramirez Cuellar',\n",
    "           'Pérez Hernández Sergio', 'Montes Nieves Jorge Luis',\n",
    "           'Romero Herrera Jorge', 'Baldenebro Arredondo Manuel de Jesus',\n",
    "           'Bautista Villegas Oscar','Medina Herrera Benito', 'Bautista Bravo Juan Angel','Jose Jaime Montes Salas',\n",
    "           'Vazquez Vazquez Alfredo', 'Mata Carrasco Mario']:\n",
    "            return('male')\n",
    "        else:\n",
    "            return('female')\n",
    "    else:\n",
    "        return(gender)"
   ]
  },
  {
   "cell_type": "code",
   "execution_count": 449,
   "metadata": {},
   "outputs": [],
   "source": [
    "clean64_gender['gender'] = clean64_gender.apply(lambda x: clean_missing(x['gender'], \n",
    "                                                                       x['nombre_completo']), axis = 1)"
   ]
  },
  {
   "cell_type": "code",
   "execution_count": 450,
   "metadata": {},
   "outputs": [],
   "source": [
    "clean64_gender = clean64_gender.rename(columns = {'nombre_completo':'name_legislador'})[['id_legislador', \n",
    "                                                                       'name_legislador', \n",
    "                                                                       'gender']]"
   ]
  },
  {
   "cell_type": "code",
   "execution_count": 461,
   "metadata": {},
   "outputs": [],
   "source": [
    "data_gender_temp = pd.concat([data_gender, clean64_gender])"
   ]
  },
  {
   "cell_type": "code",
   "execution_count": 464,
   "metadata": {},
   "outputs": [
    {
     "data": {
      "text/plain": [
       "array(['male', 'female'], dtype=object)"
      ]
     },
     "execution_count": 464,
     "metadata": {},
     "output_type": "execute_result"
    }
   ],
   "source": [
    "data_gender_temp.gender.unique()"
   ]
  },
  {
   "cell_type": "code",
   "execution_count": 463,
   "metadata": {},
   "outputs": [],
   "source": [
    "data_gender_temp['gender'] = np.where(data_gender_temp['gender'] == 'M', 'female', data_gender_temp['gender'])\n",
    "data_gender_temp['gender'] = np.where(data_gender_temp['gender'] == 'H', 'male', data_gender_temp['gender'])"
   ]
  },
  {
   "cell_type": "code",
   "execution_count": null,
   "metadata": {},
   "outputs": [],
   "source": []
  },
  {
   "cell_type": "code",
   "execution_count": 456,
   "metadata": {},
   "outputs": [],
   "source": [
    "id_propietarios_prep = id_propietarios[['legislatura', 'id_legislador', 'nombre_completo']]"
   ]
  },
  {
   "cell_type": "code",
   "execution_count": 466,
   "metadata": {},
   "outputs": [],
   "source": [
    "gender_clean = pd.merge(left = id_propietarios_prep, \n",
    "         right = data_gender_temp, \n",
    "         on = 'id_legislador', \n",
    "         how = 'left')"
   ]
  },
  {
   "cell_type": "code",
   "execution_count": 473,
   "metadata": {},
   "outputs": [
    {
     "data": {
      "text/plain": [
       "array(['Fernández Noroña José Gerardo Rodolfo', 'González Yáñez Óscar',\n",
       "       'Ibarra Pedroza Juan Enrique',\n",
       "       'Martínez y Hernández Ifigenia Martha', 'Muñoz Ledo Porfirio',\n",
       "       'Reyes Sahagún Teresa Guadalupe', ' Anel Patricia Nava Pérez',\n",
       "       'Vázquez González Pedro', 'Kahwagi Macari Jorge Antonio',\n",
       "       'Martínez Peña Elsa María', ' Reyes S. Tamez Guerra',\n",
       "       'Orozco Torres Norma Leticia', 'Pérez de Alva Blanco Roberto',\n",
       "       'Pinedo Alonso Cora', 'Torre Canales María del Pilar',\n",
       "       'Villarreal Benassini Karla Daniella', 'Álvarez Cisneros Jaime',\n",
       "       'Arizmendi Campos Laura (LICENCIA)',\n",
       "       'García Almanza María Guadalupe', 'Gertz Manero Alejandro',\n",
       "       'Jiménez León Pedro', 'Ochoa Mejía Ma. Teresa Rosaura',\n",
       "       'Serrano Jiménez Emilio', 'Torres Abarca O. Magdalena',\n",
       "       'Vázquez Aguilar Jaime Arturo', 'Abdala Carmona Yahleel',\n",
       "       'Abdala Saad Antonio Tarek', 'Aguilar Yunes Marco Antonio',\n",
       "       'Aguirre Romero Andres', 'Alcantara Rojas Maria Guadalupe',\n",
       "       'Almanza Monroy Fidel', 'Jorge Carlos Ramirez Marin',\n",
       "       'Alpizar Carrillo Lucely Del Perpetuo Socorro',\n",
       "       'Alvarado Varela Edith Anabel', 'Alvarez Ortiz Hector Javier',\n",
       "       'Anaya Mota Claudia Edith', 'Anaya Orozco Alfredo',\n",
       "       'Arcos Velazquez Montserrat Alicia', 'Arellano Nunez Efrain',\n",
       "       'Arroyo Bello Erika Lorena', 'Pablo Basanez Garcia',\n",
       "       'Barragan Amador Carlos', 'Barrientos Cano Laura Mitzi',\n",
       "       'Banales Arambula Ramon', 'Bedolla Lopez Pablo',\n",
       "       'Bejos Nicolas Alfredo', 'Benitez Tiburcio Mariana',\n",
       "       'Bernal Casique Iveth', 'Sylvana Beltrones Sanchez',\n",
       "       'Boone Godoy Ana Maria', 'Yolanda De la Torre Valdez',\n",
       "       'Botello Santibanez Maria Barbara', 'David Aguilar Robles',\n",
       "       'Bugarin Rodriguez Jasmine Maria', 'Cabrera Ruiz Jose Hugo',\n",
       "       'Camargo Felix Maria Esther Guadalupe',\n",
       "       'Canales Najjar Tristan Manuel', 'Gabriel Casillas Zanatta',\n",
       "       'Carvallo Delfin Jorge Alejandro', 'Marco Polo Aguirre Chavez',\n",
       "       'Cavazos Balderas Juan Manuel', 'Cavazos Cavazos Juana Aurora',\n",
       "       'Ceja Garcia Xitlalic', 'Chacon Morales Samuel Alexis',\n",
       "       'Felipe Cervera Hernandez', 'Chavez Acosta Rosa Guadalupe',\n",
       "       'Chazaro Montalvo Oswaldo Guillermo',\n",
       "       'Coheto Martinez Vitalico Candido',\n",
       "       'Cordova Hernandez Jose Del Pilar',\n",
       "       'Cordova Moran Hersilia Onfalia Adamina', 'Corella Platt Susana',\n",
       "       'Jesus Juan De La Garza Diaz Del Guante', 'Pablo Gamboa Miner',\n",
       "       'Covarrubias Anaya Martha Lorena',\n",
       "       'Cristopulos Rios Hector Ulises', 'Cirilo Vazquez Parissi',\n",
       "       'Davila Flores Jorge Enrique', 'De Leon Maza Sofia Del Sagrario',\n",
       "       'Diaz Montoya Rocio', 'Dominguez Dominguez Cesar Alejandro',\n",
       "       'Escobar Manjarrez German', 'Escobedo Villegas Francisco',\n",
       "       'Maria Del Rocio Rebollo Mendoza', 'Esquivel Hernandez Olga Maria',\n",
       "       'Estefan Chidiac Charbel Jorge', 'Etcheverry Aranda Azul',\n",
       "       'Felix Niebla Gloria Himelda', 'Fernandez Marquez Julieta',\n",
       "       'Gaeta Esparza Hugo Daniel', 'Gamboa Martinez Alicia Guadalupe',\n",
       "       'Rosa Elena Millan Bueno', 'Garcia Ayala Marco Antonio',\n",
       "       'Garcia Barron Oscar', 'Garcia Portilla Ricardo David',\n",
       "       'Giorgana Jimenez Victor Manuel', 'Gonzalez Calderon Martha Hilda',\n",
       "       'Raul Dominguez Rex', 'Gonzalez Salum Miguel Angel',\n",
       "       'Guerra Urbiola Braulio Mario', 'Guerrero Aguilar Fabiola',\n",
       "       'Guerrero Coronado Delia', 'Guerrero Esquivel Araceli',\n",
       "       'Guevara Cobos Luis Alejandro',\n",
       "       'Guillen Vicente Mercedes Del Carmen',\n",
       "       'Gutierrez Ramirez Virginia Nallely', 'Guzman Lagunes Noemi Zoila',\n",
       "       'Guzman Vazquez Laura Valeria',\n",
       "       'Hermosillo Arteaga Carlos Gerardo (DECESO)',\n",
       "       'Hernandez Madrid Maria Gloria', 'Cesar Camacho',\n",
       "       'Ibarra Hinojosa Alvaro', 'Ibarra Otero Prospero Manuel',\n",
       "       'Ibarra Rangel Miriam Dennis', 'Iriarte Mercado Carlos',\n",
       "       'Ixtlahuac Orihuela Juan Antonio', 'Jackson Ramirez Jesus Enrique',\n",
       "       'Jimenez Jimenez Flor Angel', 'David Ricardo Sanchez Guevara',\n",
       "       'Kuri Grajales Fidel', 'Lagos Hernandez Erick Alejandro',\n",
       "       'Le Baron Gonzalez Alex', 'Leyva Garcia Leydi Fabiola',\n",
       "       'Maria Veronica Munoz Parra', 'Lopez Gutierrez David Epifanio',\n",
       "       'Lopez Velasco Edith Yolanda', 'Luna Canales Armando',\n",
       "       'Luna Munguia Alma Lilia', 'Madrigal Mendez Liliana Ivette',\n",
       "       'Majul Gonzalez Salomon', 'Yerico Abramo Masso',\n",
       "       'Maya Pineda Maria Isabel', 'Mazari Espin Rosalina',\n",
       "       'Medrano Quezada Benjamin', 'Melendez Ortega Juan Antonio',\n",
       "       'Melhem Salinas Edgardo', 'Mendez Bazan Virgilio Daniel',\n",
       "       'Mercado Ruiz David', 'Moctezuma Pereda Fernando Quetzalcoatl',\n",
       "       'Ivonne Aracelly Ortega Pacheco', 'Molgora Glover Arlet',\n",
       "       'Mondragon Orozco Maria Angelica',\n",
       "       'Ma. Marcela Gonzalez Salas y Petricioli',\n",
       "       'Montoya Diaz Tomas Roberto', 'Mota Hernandez Adolfo',\n",
       "       'Murrieta Gutierrez Abel', 'Telesforo Garcia Carreon',\n",
       "       'Munoz Sanchez Rosalinda', 'Navarrete Perez Fernando',\n",
       "       'Nazar Morales Julian', 'Nazario Morales Matias',\n",
       "       'Noble Monterrubio Pedro Luis', 'Edgar Castillo Martinez',\n",
       "       'Orantes Lopez Hernan De Jesus', 'Oropeza Olguin Nora Liliana',\n",
       "       'Orozco Sanchez Aldana Jose Luis', 'Ortiz Lanz Adriana del Pilar',\n",
       "       'Osorno Belmont Susana', 'Oyervides Valdez Maria Guadalupe',\n",
       "       'Carolina Monroy Del Mazo', 'Pichardo Lechuga Jose Ignacio',\n",
       "       'Bernardino Antelo Esper', 'Pinete Vargas Maria del Carmen',\n",
       "       'Plata Inzunza Evelio', 'Ponce Beltran Esthela de Jesus',\n",
       "       'Quinto Guillen Carlos Federico',\n",
       "       'Quinones Cornejo Maria De La Paz', 'Rafael Rubio Alvaro',\n",
       "       'Ramirez Nieto Ricardo', 'Ramirez Ocampo Gianni Raul',\n",
       "       'Alfredo Del Mazo Maza', 'Real Salinas Dora Elena',\n",
       "       'Renteria Medina Flor Estela', 'Antonio Amaro Cancino',\n",
       "       'Rivera Carbajal Silvia', 'Rocha Aguilar Yulma',\n",
       "       'Maricela Serrano Hernandez', 'Rodriguez Hernandez Erika Araceli',\n",
       "       'Daniel Torres Cantu', 'Rojas Orozco Enrique',\n",
       "       'Rojas San Roman Francisco Lauro (DECESO)',\n",
       "       'Baltazar Manuel Hinojosa Ochoa', 'Romero Vega Esdras',\n",
       "       'Romo Garcia Edgar', 'Rosales Reyes Salomon Fernando',\n",
       "       'Ruiz Chavez Sara Latife', 'Sandra Mendez Hernandez',\n",
       "       'Saenz Soto Jose Luis', 'Salazar Espinosa Heidi',\n",
       "       'Salazar Mucino Pedro Alberto', 'Salinas Lozano Carmen',\n",
       "       'Sanchez Arredondo Nancy Guadalupe', 'Sanchez Coronel Cristina',\n",
       "       'Sanchez Isidoro David', 'Sanchez Sanchez Christian Joaquin',\n",
       "       'Sandoval Martinez Maria Soledad',\n",
       "       'Santillan Oceguera Francisco Javier', 'Sarabia Camacho Carlos',\n",
       "       'Saracho Navarro Francisco',\n",
       "       'Scherman Leano Maria Esther de Jesus', 'Pablo Elizondo Garcia',\n",
       "       'Silva Ramos Alberto', 'Silva Tejeda Victor Manuel',\n",
       "       'Sobreyra Santos Maria Monserrath', 'Jose Lorenzo Rivera Sosa',\n",
       "       'Sulub Caamal Miguel Angel', 'Taja Ramirez Ricardo',\n",
       "       'Tamayo Morales Martha Sofia (LICENCIA)', 'Tannos Cruz Yarith',\n",
       "       'Terrazas Porras Adriana', 'Tiscareno Agoitia Ruth Noemi',\n",
       "       'Torres Huitron Jose Alfredo', 'Uriarte Zazueta Fernando',\n",
       "       'Valencia Garcia Oscar', 'Vallejo Barragan Manuel',\n",
       "       'Vargas Rodriguez Federico Eugenio',\n",
       "       'Vazquez Guerrero Luis Felipe', 'Velez Nunez Beatriz',\n",
       "       'Vidal Aguilar Liborio', 'Viggiano Austria Alma Carolina',\n",
       "       'Villa Ramirez Timoteo', 'Villa Trujillo Edith',\n",
       "       'Villagomez Guerrero Ramon', 'Georgina Trujillo Zentella',\n",
       "       'Yerena Zambrano Rafael', 'Zapata Lucero Ana Georgina',\n",
       "       'Zepahua Garcia Lillian', 'Zuniga Mendoza J. Jesus',\n",
       "       'Monica Rodriguez Della Vecchia', 'Agundis Estrada Maria Veronica',\n",
       "       'Alejo Dominguez Hugo', 'Aleman Olvera Emma Margarita',\n",
       "       'Alfaro Garcia Lorena del Carmen', 'Amparano Gamez Leticia',\n",
       "       'Antero Valle Luis Fernando', 'Arambula Melendez Mariana',\n",
       "       'Barraza Lopez Jose Teodoro', 'Barrera Marmolejo Hector',\n",
       "       'Bello Otero Carlos', 'Bermudez Mendez Jose Erandi',\n",
       "       'Blanco Zaldivar Juan Alberto', 'Bolanos Aguilar Edmundo Javier',\n",
       "       'Bolio Pinelo Kathia Maria', 'Cambranis Torres Enrique',\n",
       "       'Joaquin Jesus Diaz Mena', 'Jorge Ramos Hernandez',\n",
       "       'Casillas Gutierrez J. Apolinar', 'Castanon Herrera Eukid',\n",
       "       'Jisela Paes Martinez', 'Cordero Lerma Leonel Gerardo',\n",
       "       'Corona Rodriguez Ariel Enrique', 'Corral Estrada Herminio',\n",
       "       'Corral Mier Juan', 'Cortes Berumen Jose Hernan',\n",
       "       'Cortes Lugo Roman Francisco', 'Cortes Mendoza Marko Antonio',\n",
       "       'Cuanalo Santos Gerardo Gabriel', 'Culin Jaime Gretel',\n",
       "       'De La Fuente Flores Carlos Alberto', 'Doring Casar Federico',\n",
       "       'Elizarraraz Sandoval Adriana', 'Patricia Garcia Garcia',\n",
       "       'Gama Basarte Marco Antonio', 'Garcia Escobar Lilia Arminda',\n",
       "       'Garcia Lopez Jose Maximo', 'Garcia Perez Maria',\n",
       "       'Garrido Munoz Ruben Alejandro', 'Gomez Olivier Sergio Emilio',\n",
       "       'Gonzalez Cecena Exaltacion', 'Gonzalez Navarro Jose Adrian',\n",
       "       'Gonzalez Suastegui Guadalupe', 'Gutierrez Campos Alejandra',\n",
       "       'Gutierrez De Velasco Urtaza Francisco Jose',\n",
       "       'Hernandez Ramos Minerva', 'Herrera Deras Alfredo Miguel',\n",
       "       'Huepa Perez Miguel Angel', 'Huerta Villegas Genoveva',\n",
       "       'Maria Guadalupe Murguia Gutierrez', 'Iniguez Mejia Elias Octavio',\n",
       "       'Pedro Garza Trevino', 'Jimenez Marquez Martha Cristina',\n",
       "       'Francisco Ricardo Sheffield Padilla',\n",
       "       'Lizarraga Figueroa Teresa de Jesus',\n",
       "       'Lopez Cordova Jose Everardo', 'Lopez Martin Jorge',\n",
       "       'Lopez Rodriguez Jesus Antonio', 'Mandujano Tinajero Rene',\n",
       "       'Marquez Zapata Nelly del Carmen', 'Marron Agustin Luis Gilberto',\n",
       "       'Martinez Montemayor Baltazar', 'Martinez Santos Wenceslao',\n",
       "       'Martinez Sanchez Luis de Leon', 'Matesanz Santamaria Rocio',\n",
       "       'Jose Antonio Salas Valencia', 'Gustavo Enrique Madero Munoz',\n",
       "       'Moya Marin Angelica (LICENCIA)', 'Munoz Cervantes Arlette Ivette',\n",
       "       'Nava Mouett Jacqueline', 'Neblina Vega Javier Antonio',\n",
       "       'Osuna Carranco Karla Karina', 'Ovando Reazola Janette (LICENCIA)',\n",
       "       'Padilla Avila Karina', 'Palomeque Archila Carlos Alberto',\n",
       "       'Paniagua Figueroa Luz Argelia', 'Gina Andrea Cruz Blackledge',\n",
       "       'Pina Kurczyn Juan Pablo', 'Ramirez Nunez Ulises',\n",
       "       'Ramirez Ramos Gabriela', 'Rendon Garcia Cesar Augusto',\n",
       "       'Reynoso Sanchez Alejandra Noemi',\n",
       "       'Rivera Castillejos Armando Alejandro',\n",
       "       'Rodriguez Aguirre Maria de los Angeles',\n",
       "       'Rodriguez Davila Alfredo Javier',\n",
       "       'Rodriguez Rubio Maria del Rosario',\n",
       "       'Rodriguez Torres Luis Agustin',\n",
       "       'Romero Castillo Maria Guadalupe Cecilia',\n",
       "       'Ruiz Garcia Juan Carlos', 'Salas Diaz Gerardo Federico',\n",
       "       'Salim Alle Miguel Angel', 'Sanchez Carrillo Patricia',\n",
       "       'Sanchez Juarez Claudia', 'Sanchez Meza Maria Luisa',\n",
       "       'Schemelensky Castro Ingrid Krasopani (LICENCIA)',\n",
       "       'Taboada Cortina Santiago', 'Talavera Hernandez Maria Eloisa',\n",
       "       'Tamariz Garcia Ximena', 'Victor Ernesto Ibarra Montoya',\n",
       "       'Torreblanca Engell Santiago', 'Triana Tena Jorge',\n",
       "       'Valenzuela Armas Rafael', 'Valles Olvera Elva Lidia',\n",
       "       'Vargas Barcena Marisol', 'Vega Olivas Nadia Haydee',\n",
       "       'Velazquez Valdez Brenda', 'Mayra Angelica Enriquez Vanderkam',\n",
       "       'Acosta Naranjo Guadalupe', 'Alanis Pedraza Angel II',\n",
       "       'Amador Rodriguez Leonardo', 'Aragon Castillo Hortensia',\n",
       "       'Arguijo Herrera Tania Victoria', 'Barrientos Rios Ricardo Angel',\n",
       "       'Basave Benitez Agustin Francisco de Asis',\n",
       "       'Beltran Reyes Maria Luisa', 'Bocanegra Ruiz Elio',\n",
       "       'Waldo Fernandez Gonzalez', 'Briones Perez Erika Irazema',\n",
       "       'Castelan Mondragon Maria Elida', 'Catalan Padilla Olga',\n",
       "       'Cruz Molina Eva Florinda', 'Estefan Garfias Jose Antonio',\n",
       "       'Ferrer Abalos Oscar', 'Flores Sonduk Lluvia',\n",
       "       'Garcia Bravo Maria Cristina Teresa',\n",
       "       'Garcia Calderon David Gerson', 'Gaytan Hernandez Cristina Ismene',\n",
       "       'Hernandez Alcala J. Guadalupe', 'Hernandez Soriano Rafael',\n",
       "       'Jimenez Rumbo David', 'Juarez Blanquet Erik',\n",
       "       'Lopez Lopez Irma Rebeca', 'Lopez Sanchez Sergio',\n",
       "       'Madrigal Sanchez Araceli', 'Maldonado Venegas Luis',\n",
       "       'Martinez Soto Norberto Antonio', 'Nava Palacios Francisco Xavier',\n",
       "       'Octaviano Felix Tomas', 'Ordonez Hernandez Daniel',\n",
       "       'Ortega Alvarez Omar', 'Parra Alvarez Evelyn',\n",
       "       'Peralta Grappin Hector', 'Perez Alvarado Candelario',\n",
       "       'Pool Pech Isaura Ivanova', 'Ramirez Peralta Karen Orney',\n",
       "       'Reyes Alvarez Felipe', 'Rubio Quiroz Juan Fernando',\n",
       "       'Saldana Moran Julio', 'Santana Alfaro Arturo',\n",
       "       'Santiago Lopez Jose', 'Saucedo Reyes Araceli',\n",
       "       'Soto Espino Armando', 'Soto Gonzalez Cecilia Guadalupe',\n",
       "       'Tello Lopez Jorge', 'Miriam Tinoco Soto',\n",
       "       'Valera Fuentes Diego Valente', 'Wences Real Victoriano',\n",
       "       'Zambrano Grijalva Jose de Jesus', 'Abdala Dartigues Rodrigo',\n",
       "       'Aceves Pastrana Patricia Elena', 'Alva y Alva Miguel',\n",
       "       'Alvarez Lopez Jesus Emiliano', 'Armenta Mier Alejandro',\n",
       "       'Baron Ortiz Natalia Karina', 'Barrientos Pantoja Alicia',\n",
       "       'Basurto Roman Alfredo', 'Caballero Pedraza Virgilio Dante',\n",
       "       'Calderon Torreblanca Fidel', 'Cardenas Mariscal Maria Antonia',\n",
       "       'Carrera Hernandez Ana Leticia', 'Castro Vazquez Rogerio',\n",
       "       'Canedo Jimenez Roberto Alejandro', 'Cervera Garcia Rene',\n",
       "       'Chavez Garcia Maria', 'Contreras Julian Maricela',\n",
       "       'Cuata Dominguez Blanca Margarita', 'Damian Gonzalez Araceli',\n",
       "       'Esquivel Valdes Laura Beatriz', 'Fuentes Alonso Modesta',\n",
       "       'Galico Felix Diaz Sara Paola', 'Garcia Chavez Hector Javier',\n",
       "       'Garcia Jimenez Cuitlahuac', 'Garcia Navarro Otniel',\n",
       "       'Godoy Ramos Ernestina', 'Gomez Alvarez Delfina',\n",
       "       'Guzman Jacobo Roberto', 'Hernandez Colin Norma Xochitl',\n",
       "       'Hernandez Correa Guadalupe', 'Hernandez Miron Carlos',\n",
       "       'Hernandez de la Piedra Angel Antonio', 'Hurtado Arana Karen',\n",
       "       'Juarez Rodriguez Mario Ariel', 'Lomeli Bolanos Carlos (LICENCIA)',\n",
       "       'Martinez Urincho Alberto', 'Meza Guzman Lucia Virginia',\n",
       "       'Molina Arias Renato Josafat', 'Montiel Reyes Ariadna',\n",
       "       'Nahle Garcia Norma Rocio', 'Ojeda Anguiano Jeronimo Alejandro',\n",
       "       'Vidal Llerenas Morales', 'Ramos Ramirez Blandina',\n",
       "       'Sandra Luz Falcon Venegas', 'Romero Tenorio Juan',\n",
       "       'Santiago Rodriguez Guillermo Rafael', 'Serrano Lora Jesus',\n",
       "       'Trejo Flores Mariana', 'Valencia Guzman Jesus Salvador',\n",
       "       'Villa Gonzalez Concepcion', 'Alvarez Angli Arturo',\n",
       "       'Alvarez Pinones Rosa Alicia', 'Arevalo Gonzalez Jose Antonio',\n",
       "       'Arzaluz Alonso Alma Lucia', 'Avila Serna Maria',\n",
       "       'Bernardino Vargas Omar Noe', 'Canales Suarez Paloma',\n",
       "       'Canavati Tafich Jesus Ricardo', 'Celis Aguirre Juan Manuel',\n",
       "       'Chavarrias Barajas Eloisa', 'Corona Valdes Lorena',\n",
       "       'Couttolenc Buentello Jose Alberto',\n",
       "       'Cuenca Ayala Sharon Maria Teresa',\n",
       "       'Fernandez del Valle Laisequilla Andres',\n",
       "       'Flores Carranza Evelyng Soraya', 'Quirino Ordaz Coppel',\n",
       "       'Wendolin Toledo Aceves', 'Jorgina Gaxiola Lezama',\n",
       "       'Gonzalez Torres Sofia', 'Jorge Alvarez Lopez',\n",
       "       'Guevara Jimenez Yaret Adriana', 'Guirao Aguilar Leonardo Rafael',\n",
       "       'Herrera Borunda Javier Octavio', 'Limon Garcia Lia',\n",
       "       'Luis Ignacio Avendano Bermudez', 'Remberto Estrada Barba',\n",
       "       'Marquez Alvarado Cesareo Jorge', 'Mendoza Amezcua Virgilio',\n",
       "       'Ochoa Rojas Candido', 'Jesus Gerardo Izquierdo Rojas',\n",
       "       'Salazar Farias Emilio Enrique', 'Sandoval Rodriguez Jose Refugio',\n",
       "       'Sedas Castro Miguel Angel', 'Sesma Suarez Jesus',\n",
       "       'Torres Rivas Francisco Alberto', 'Daniela De Los Santos Torres',\n",
       "       'Villanueva Huerta Claudia', 'Zamora Morlet Enrique',\n",
       "       'Alvarez Maynez Jorge', 'Veronica Delgadillo Garcia',\n",
       "       'Cardenas Gutierrez Gustavo Adolfo', 'Salvador Zamora Zamora',\n",
       "       'Corichi Garcia Claudia Sofia', 'Flores Gomez Mirza (LICENCIA)',\n",
       "       'Luis Ernesto Munguia Gonzalez',\n",
       "       'Jose Clemente Castaneda Hoeflich', 'Guerra Mota Moises',\n",
       "       'Hauffen Torres Angie Dennisse', 'Mercado Sanchez Ma. Victoria',\n",
       "       'Jonadab Martinez Garcia', 'Ochoa Avalos Maria Candelaria',\n",
       "       'Perez Utrera Adan', 'Plascencia Pacheco Laura Nereida',\n",
       "       'Ralis Cumplido German Ernesto', 'Ramirez Nachis Rosa Alba',\n",
       "       'Maria Elena Orantes Lopez', 'Sanchez Orozco Victor Manuel',\n",
       "       'Tamez Guajardo Macedonio Salomon', 'Toledo Ibarra Marbella',\n",
       "       'Garcia Yanez Angel', 'Gonzalez Luna Josefina',\n",
       "       'Manuel Alexander Zetina Aguiluz', 'Jose Bernardo Quezada Salas',\n",
       "       'Mendez Salas Jesus Rafael', 'Ocampo Bedolla Maria Eugenia',\n",
       "       'Palomares Ramirez Elvia Graciela', 'Jorge Gavino Ambriz',\n",
       "       'Reyes Avila Angelica', 'Soralla Banuelos de la Torre',\n",
       "       'Sanchez Ruiz Karina', 'Torres Sandoval Melissa',\n",
       "       'Valles Mendoza Luis Alfredo', 'Cruz Hernandez Abel',\n",
       "       'Hugo Eric Flores Cervantes', 'Ferreiro Velazco Jose Alfredo',\n",
       "       'Garcia Soberanes Cynthia Gissel',\n",
       "       'Garzon Canchola Refugio Trinidad', 'Guizar Valladares Gonzalo',\n",
       "       'Sasil Dora Luz De Leon Villard', 'Martinez Guzman Norma Edith',\n",
       "       'Perea Santos Ana Guadalupe', 'Pineda Morin Abdies',\n",
       "       'Sarur Torre Adriana', 'Manuel Jesus Clouthier Carrillo',\n",
       "       'Espino Manuel de Jesus', 'Flores Sosa Cesar',\n",
       "       'Guerrero Garcia Javier', 'Martinez Neri Francisco',\n",
       "       'Spinoso Carrera Edgar', 'Toledo Medina Jose Luis',\n",
       "       'Javier Julian Castaneda Pomposo', 'Pedro Mario Zenteno Santaella',\n",
       "       'Flor Ivone Morales Miranda', 'Indira Vizcaino Silva',\n",
       "       'Zoe Alejandro Robledo Aburto', 'Cipriano Charrez Pedraza',\n",
       "       'Chávez Pérez María', 'Miroslava Carrillo Martinez',\n",
       "       'Humberto Pedrero Moreno', 'Xochitl Nashielly Zagal Ramirez',\n",
       "       'Horacio Duarte Olivares', 'Hernández Pérez César Agustín',\n",
       "       'Roger Herve (Deceso) Aguilar Salazar',\n",
       "       'Alma Marina Vitela Rodriguez', 'Marina del Pilar Avila Olmeda',\n",
       "       'Jose Guillermo Arechiga Santamaria', 'Lorena Cuellar Cisneros',\n",
       "       'Adriana Aguilar Vazquez', 'Ciro Sales Ruiz', 'Terán Águila Rubén',\n",
       "       'Juan Carlos Loera De La Rosa', 'Alemán Hernández Nohemí',\n",
       "       'Juan Carlos Munoz Marquez', 'Guzmán Avilés Jesús',\n",
       "       'Nemer Alvarez Ernesto Javier', 'Ana Gabriela Guevara Espinoza',\n",
       "       'Maximiliano (Deceso) Ruiz Arias', 'Pérez Hernández José Ángel',\n",
       "       'Alberto Esquer Gutierrez', 'Acundo González Miguel',\n",
       "       'García Gutiérrez Raymundo', 'Jorge Emilio Gonzalez Martinez',\n",
       "       'Beatriz Manrique Guevara'], dtype=object)"
      ]
     },
     "execution_count": 473,
     "metadata": {},
     "output_type": "execute_result"
    }
   ],
   "source": [
    "gender_clean[gender_clean['gender'].isna()].nombre_completo.unique()"
   ]
  },
  {
   "cell_type": "code",
   "execution_count": 476,
   "metadata": {},
   "outputs": [],
   "source": [
    "def clean_missing(gender, x):\n",
    "    if pd.isna(gender):\n",
    "        if x in ['Martínez y Hernández Ifigenia Martha',  'Martinez Guzman Norma Edith',\n",
    "       'Perea Santos Ana Guadalupe','Plascencia Pacheco Laura Nereida','Flor Ivone Morales Miranda', \n",
    "                 'Miroslava Carrillo Martinez','Xochitl Nashielly Zagal Ramirez','Lorena Cuellar Cisneros',\n",
    "                 'Adriana Aguilar Vazquez', 'Alemán Hernández Nohemí','Ana Gabriela Guevara Espinoza',\n",
    "                 'Alma Marina Vitela Rodriguez', 'Marina del Pilar Avila Olmeda', 'Beatriz Manrique Guevara',\n",
    "                 'Jorgina Gaxiola Lezama', 'Daniela De Los Santos Torres','Ramirez Nachis Rosa Alba',\n",
    "                  'Gonzalez Luna Josefina','Ocampo Bedolla Maria Eugenia','Garcia Soberanes Cynthia Gissel',\n",
    "       'Palomares Ramirez Elvia Graciela', 'Reyes Avila Angelica', 'Soralla Banuelos de la Torre',\n",
    "       'Sanchez Ruiz Karina', 'Torres Sandoval Melissa',\n",
    "                 'Villanueva Huerta Claudia','Veronica Delgadillo Garcia','Mercado Sanchez Ma. Victoria',\n",
    "       'Gonzalez Torres Sofia', 'Guevara Jimenez Yaret Adriana','Limon Garcia Lia','Hauffen Torres Angie Dennisse', \n",
    "                 'Hernandez Colin Norma Xochitl','Hernandez Correa Guadalupe','Ochoa Avalos Maria Candelaria',\n",
    "                 'Garcia Perez Maria',  'Flores Sonduk Lluvia','Hurtado Arana Karen','Meza Guzman Lucia Virginia',\n",
    "                  'Montiel Reyes Ariadna','Ramos Ramirez Blandina','Arzaluz Alonso Alma Lucia', 'Avila Serna Maria',\n",
    "       'Sandra Luz Falcon Venegas','Villa Gonzalez Concepcion','Canales Suarez Paloma','Chavarrias Barajas Eloisa',\n",
    "       'Nahle Garcia Norma Rocio',  'Corona Valdes Lorena','Cuenca Ayala Sharon Maria Teresa',\n",
    "                 'Romero Castillo Maria Guadalupe Cecilia','Talavera Hernandez Maria Eloisa',\n",
    "                 'Garcia Jimenez Cuitlahuac', 'Godoy Ramos Ernestina', 'Gomez Alvarez Delfina',\n",
    "                 'Ramirez Peralta Karen Orney','Saucedo Reyes Araceli', 'Soto Gonzalez Cecilia Guadalupe',\n",
    "                 'Miriam Tinoco Soto','Aceves Pastrana Patricia Elena','Baron Ortiz Natalia Karina',\n",
    "                  'Barrientos Pantoja Alicia','Cardenas Mariscal Maria Antonia','Galico Felix Diaz Sara Paola',\n",
    "       'Carrera Hernandez Ana Leticia', 'Chavez Garcia Maria', 'Contreras Julian Maricela',\n",
    "       'Cuata Dominguez Blanca Margarita', 'Esquivel Valdes Laura Beatriz', \n",
    "                 'Madrigal Sanchez Araceli','Parra Alvarez Evelyn','Pool Pech Isaura Ivanova',\n",
    "                 'Garcia Bravo Maria Cristina Teresa','Gaytan Hernandez Cristina Ismene',\n",
    "       'Tamariz Garcia Ximena','Valles Olvera Elva Lidia','Aragon Castillo Hortensia',\n",
    "       'Arguijo Herrera Tania Victoria', 'Beltran Reyes Maria Luisa', 'Lopez Lopez Irma Rebeca',\n",
    "       'Vargas Barcena Marisol', 'Vega Olivas Nadia Haydee','Briones Perez Erika Irazema',\n",
    "       'Castelan Mondragon Maria Elida','Cruz Molina Eva Florinda',\n",
    "       'Velazquez Valdez Brenda', 'Mayra Angelica Enriquez Vanderkam',\n",
    "       'Acosta Naranjo Guadalupe',\n",
    "                 'Hernandez Ramos Minerva','Sanchez Carrillo Patricia',\n",
    "       'Sanchez Juarez Claudia', 'Sanchez Meza Maria Luisa',\n",
    "       'Schemelensky Castro Ingrid Krasopani (LICENCIA)',\n",
    "                 'Huerta Villegas Genoveva','Maria Guadalupe Murguia Gutierrez', 'Jimenez Marquez Martha Cristina',\n",
    "                 'Marquez Zapata Nelly del Carmen','Moya Marin Angelica (LICENCIA)', 'Munoz Cervantes Arlette Ivette',\n",
    "       'Nava Mouett Jacqueline','Osuna Carranco Karla Karina', 'Ovando Reazola Janette (LICENCIA)','Padilla Avila Karina',\n",
    "                 'Paniagua Figueroa Luz Argelia', 'Gina Andrea Cruz Blackledge','Ramirez Ramos Gabriela', \n",
    "                 'Reynoso Sanchez Alejandra Noemi', 'Rodriguez Aguirre Maria de los Angeles','Rodriguez Rubio Maria del Rosario',\n",
    "                 \n",
    "                 \n",
    "                 'Gonzalez Suastegui Guadalupe', 'Gutierrez Campos Alejandra',\n",
    "                 'Elizarraraz Sandoval Adriana', 'Patricia Garcia Garcia', 'Garcia Escobar Lilia Arminda',\n",
    "                 'Reyes Sahagún Teresa Guadalupe', 'Madrigal Mendez Liliana Ivette',\n",
    "                 'Maya Pineda Maria Isabel', 'Mazari Espin Rosalina','Ivonne Aracelly Ortega Pacheco',\n",
    "                 'Aleman Olvera Emma Margarita', 'Arambula Melendez Mariana',\n",
    "       'Alfaro Garcia Lorena del Carmen', 'Amparano Gamez Leticia','Bolio Pinelo Kathia Maria',\n",
    "                  'Viggiano Austria Alma Carolina','Villa Trujillo Edith','Zapata Lucero Ana Georgina',\n",
    "       'Zepahua Garcia Lillian', 'Monica Rodriguez Della Vecchia', 'Agundis Estrada Maria Veronica',\n",
    "                 'Mondragon Orozco Maria Angelica', 'Munoz Sanchez Rosalinda', 'Ortiz Lanz Adriana del Pilar',\n",
    "       'Ma. Marcela Gonzalez Salas y Petricioli','Oropeza Olguin Nora Liliana','Osorno Belmont Susana', 'Oyervides Valdez Maria Guadalupe',\n",
    "       'Carolina Monroy Del Mazo', 'Pinete Vargas Maria del Carmen','Ponce Beltran Esthela de Jesus',\n",
    "                 'Quinones Cornejo Maria De La Paz','Real Salinas Dora Elena','Sandra Mendez Hernandez',\n",
    "       'Renteria Medina Flor Estela','Rivera Carbajal Silvia', 'Rocha Aguilar Yulma','Salazar Espinosa Heidi',\n",
    "                 'Sanchez Arredondo Nancy Guadalupe', 'Sanchez Coronel Cristina','Sandoval Martinez Maria Soledad',\n",
    "                 'Scherman Leano Maria Esther de Jesus',  'Tamayo Morales Martha Sofia (LICENCIA)', 'Tannos Cruz Yarith',\n",
    "       'Terrazas Porras Adriana', 'Tiscareno Agoitia Ruth Noemi','Velez Nunez Beatriz',\n",
    "                 'Sobreyra Santos Maria Monserrath',\n",
    "       'Maricela Serrano Hernandez', 'Rodriguez Hernandez Erika Araceli',\n",
    "                 ' Anel Patricia Nava Pérez', 'Martínez Peña Elsa María', 'Orozco Torres Norma Leticia',\n",
    "                 'Torre Canales María del Pilar','Villarreal Benassini Karla Daniella', 'Álvarez Cisneros Jaime',\n",
    "       'Arizmendi Campos Laura (LICENCIA)','Ochoa Mejía Ma. Teresa Rosaura','Torres Abarca O. Magdalena',\n",
    "       'García Almanza María Guadalupe','Alcantara Rojas Maria Guadalupe','Alpizar Carrillo Lucely Del Perpetuo Socorro',\n",
    "                 'Alvarado Varela Edith Anabel', 'Anaya Mota Claudia Edith','Arcos Velazquez Montserrat Alicia',\n",
    "                 'Arroyo Bello Erika Lorena',  'Barrientos Cano Laura Mitzi','Benitez Tiburcio Mariana',\n",
    "                 'Bernal Casique Iveth', 'Sylvana Beltrones Sanchez','Guerrero Esquivel Araceli',\n",
    "       'Boone Godoy Ana Maria', 'Yolanda De la Torre Valdez','De Leon Maza Sofia Del Sagrario',\n",
    "       'Diaz Montoya Rocio','Maria Del Rocio Rebollo Mendoza','Esquivel Hernandez Olga Maria',\n",
    "                 'Etcheverry Aranda Azul','Gamboa Martinez Alicia Guadalupe','Guillen Vicente Mercedes Del Carmen',\n",
    "                 'Gutierrez Ramirez Virginia Nallely', 'Guzman Lagunes Noemi Zoila','Leyva Garcia Leydi Fabiola',\n",
    "       'Maria Veronica Munoz Parra', 'Lopez Velasco Edith Yolanda','Luna Munguia Alma Lilia',\n",
    "       'Guzman Vazquez Laura Valeria','Hernandez Madrid Maria Gloria', 'Ibarra Rangel Miriam Dennis', \n",
    "                 \n",
    "       'Felix Niebla Gloria Himelda', 'Fernandez Marquez Julieta','Rosa Elena Millan Bueno', \n",
    "                 'Gonzalez Calderon Martha Hilda','Guerrero Coronado Delia',\n",
    "       'Botello Santibanez Maria Barbara','Bugarin Rodriguez Jasmine Maria','Camargo Felix Maria Esther Guadalupe',\n",
    "                 'Cavazos Cavazos Juana Aurora','Covarrubias Anaya Martha Lorena',\n",
    "       'Ceja Garcia Xitlalic', 'Cordova Moran Hersilia Onfalia Adamina', 'Corella Platt Susana',\n",
    "                ]:\n",
    "            return('female')\n",
    "        else:\n",
    "            return('male')\n",
    "    else:\n",
    "        return(gender)"
   ]
  },
  {
   "cell_type": "code",
   "execution_count": 477,
   "metadata": {},
   "outputs": [
    {
     "data": {
      "text/html": [
       "<div>\n",
       "<style scoped>\n",
       "    .dataframe tbody tr th:only-of-type {\n",
       "        vertical-align: middle;\n",
       "    }\n",
       "\n",
       "    .dataframe tbody tr th {\n",
       "        vertical-align: top;\n",
       "    }\n",
       "\n",
       "    .dataframe thead th {\n",
       "        text-align: right;\n",
       "    }\n",
       "</style>\n",
       "<table border=\"1\" class=\"dataframe\">\n",
       "  <thead>\n",
       "    <tr style=\"text-align: right;\">\n",
       "      <th></th>\n",
       "      <th>legislatura</th>\n",
       "      <th>id_legislador</th>\n",
       "      <th>nombre_completo</th>\n",
       "      <th>name_legislador</th>\n",
       "      <th>gender</th>\n",
       "    </tr>\n",
       "  </thead>\n",
       "  <tbody>\n",
       "    <tr>\n",
       "      <th>0</th>\n",
       "      <td>60</td>\n",
       "      <td>e7f3daa8-fe1f-11ea-95ca-acde48001122</td>\n",
       "      <td>Acosta Dávila Constantino</td>\n",
       "      <td>Acosta Dávila Constantino</td>\n",
       "      <td>male</td>\n",
       "    </tr>\n",
       "    <tr>\n",
       "      <th>1</th>\n",
       "      <td>60</td>\n",
       "      <td>e82a705e-fe1f-11ea-95ca-acde48001122</td>\n",
       "      <td>Efraín Arizmendi Uribe</td>\n",
       "      <td>Efraín Arizmendi Uribe</td>\n",
       "      <td>male</td>\n",
       "    </tr>\n",
       "    <tr>\n",
       "      <th>2</th>\n",
       "      <td>60</td>\n",
       "      <td>e85d8a34-fe1f-11ea-95ca-acde48001122</td>\n",
       "      <td>Alcaraz Hernández Alma Edwviges (LICENCIA)</td>\n",
       "      <td>Alcaraz Hernández Alma Edwviges (LICENCIA)</td>\n",
       "      <td>female</td>\n",
       "    </tr>\n",
       "    <tr>\n",
       "      <th>3</th>\n",
       "      <td>60</td>\n",
       "      <td>e88f3462-fe1f-11ea-95ca-acde48001122</td>\n",
       "      <td>Álvarez Bernal María Elena</td>\n",
       "      <td>Álvarez Bernal María Elena</td>\n",
       "      <td>female</td>\n",
       "    </tr>\n",
       "    <tr>\n",
       "      <th>4</th>\n",
       "      <td>60</td>\n",
       "      <td>e8c1e6c8-fe1f-11ea-95ca-acde48001122</td>\n",
       "      <td>Amezola Fonceca Gerardo</td>\n",
       "      <td>Amezola Fonceca Gerardo</td>\n",
       "      <td>male</td>\n",
       "    </tr>\n",
       "    <tr>\n",
       "      <th>...</th>\n",
       "      <td>...</td>\n",
       "      <td>...</td>\n",
       "      <td>...</td>\n",
       "      <td>...</td>\n",
       "      <td>...</td>\n",
       "    </tr>\n",
       "    <tr>\n",
       "      <th>3026</th>\n",
       "      <td>64</td>\n",
       "      <td>27cc57ec-fd10-11ea-83d8-acde48001122</td>\n",
       "      <td>Vidal Peniche Jesús Carlos</td>\n",
       "      <td>Vidal Peniche Jesús Carlos</td>\n",
       "      <td>male</td>\n",
       "    </tr>\n",
       "    <tr>\n",
       "      <th>3027</th>\n",
       "      <td>64</td>\n",
       "      <td>28723afe-fd10-11ea-83d8-acde48001122</td>\n",
       "      <td>Villafuerte Zavala Lilia</td>\n",
       "      <td>Villafuerte Zavala Lilia</td>\n",
       "      <td>female</td>\n",
       "    </tr>\n",
       "    <tr>\n",
       "      <th>3028</th>\n",
       "      <td>64</td>\n",
       "      <td>28fa506a-fd10-11ea-83d8-acde48001122</td>\n",
       "      <td>Morales Vázquez Carlos Alberto</td>\n",
       "      <td>Morales Vázquez Carlos Alberto</td>\n",
       "      <td>male</td>\n",
       "    </tr>\n",
       "    <tr>\n",
       "      <th>3029</th>\n",
       "      <td>64</td>\n",
       "      <td>29eb5122-fd10-11ea-83d8-acde48001122</td>\n",
       "      <td>Pérez Rivera Evaristo Lenin</td>\n",
       "      <td>Pérez Rivera Evaristo Lenin</td>\n",
       "      <td>male</td>\n",
       "    </tr>\n",
       "    <tr>\n",
       "      <th>3030</th>\n",
       "      <td>64</td>\n",
       "      <td>2a42a3dc-fd10-11ea-83d8-acde48001122</td>\n",
       "      <td>Riojas Martínez Ana Lucia</td>\n",
       "      <td>Riojas Martínez Ana Lucia</td>\n",
       "      <td>female</td>\n",
       "    </tr>\n",
       "  </tbody>\n",
       "</table>\n",
       "<p>3031 rows × 5 columns</p>\n",
       "</div>"
      ],
      "text/plain": [
       "      legislatura                         id_legislador  \\\n",
       "0              60  e7f3daa8-fe1f-11ea-95ca-acde48001122   \n",
       "1              60  e82a705e-fe1f-11ea-95ca-acde48001122   \n",
       "2              60  e85d8a34-fe1f-11ea-95ca-acde48001122   \n",
       "3              60  e88f3462-fe1f-11ea-95ca-acde48001122   \n",
       "4              60  e8c1e6c8-fe1f-11ea-95ca-acde48001122   \n",
       "...           ...                                   ...   \n",
       "3026           64  27cc57ec-fd10-11ea-83d8-acde48001122   \n",
       "3027           64  28723afe-fd10-11ea-83d8-acde48001122   \n",
       "3028           64  28fa506a-fd10-11ea-83d8-acde48001122   \n",
       "3029           64  29eb5122-fd10-11ea-83d8-acde48001122   \n",
       "3030           64  2a42a3dc-fd10-11ea-83d8-acde48001122   \n",
       "\n",
       "                                 nombre_completo  \\\n",
       "0                      Acosta Dávila Constantino   \n",
       "1                         Efraín Arizmendi Uribe   \n",
       "2     Alcaraz Hernández Alma Edwviges (LICENCIA)   \n",
       "3                     Álvarez Bernal María Elena   \n",
       "4                        Amezola Fonceca Gerardo   \n",
       "...                                          ...   \n",
       "3026                  Vidal Peniche Jesús Carlos   \n",
       "3027                    Villafuerte Zavala Lilia   \n",
       "3028              Morales Vázquez Carlos Alberto   \n",
       "3029                 Pérez Rivera Evaristo Lenin   \n",
       "3030                   Riojas Martínez Ana Lucia   \n",
       "\n",
       "                                 name_legislador  gender  \n",
       "0                      Acosta Dávila Constantino    male  \n",
       "1                         Efraín Arizmendi Uribe    male  \n",
       "2     Alcaraz Hernández Alma Edwviges (LICENCIA)  female  \n",
       "3                     Álvarez Bernal María Elena  female  \n",
       "4                        Amezola Fonceca Gerardo    male  \n",
       "...                                          ...     ...  \n",
       "3026                  Vidal Peniche Jesús Carlos    male  \n",
       "3027                    Villafuerte Zavala Lilia  female  \n",
       "3028              Morales Vázquez Carlos Alberto    male  \n",
       "3029                 Pérez Rivera Evaristo Lenin    male  \n",
       "3030                   Riojas Martínez Ana Lucia  female  \n",
       "\n",
       "[3031 rows x 5 columns]"
      ]
     },
     "execution_count": 477,
     "metadata": {},
     "output_type": "execute_result"
    }
   ],
   "source": [
    "gender_clean.nombre_completo"
   ]
  },
  {
   "cell_type": "code",
   "execution_count": 478,
   "metadata": {},
   "outputs": [],
   "source": [
    "gender_clean['gender'] = gender_clean.apply(lambda x: clean_missing(x['gender'], \n",
    "                                                                       x['nombre_completo']), axis = 1)"
   ]
  },
  {
   "cell_type": "code",
   "execution_count": 485,
   "metadata": {},
   "outputs": [],
   "source": [
    "gender_clean = gender_clean[['legislatura', 'id_legislador', 'nombre_completo', 'gender']]"
   ]
  },
  {
   "cell_type": "code",
   "execution_count": 497,
   "metadata": {},
   "outputs": [],
   "source": [
    "gender_clean = gender_clean.drop_duplicates('id_legislador', keep = 'first')"
   ]
  },
  {
   "cell_type": "code",
   "execution_count": 499,
   "metadata": {},
   "outputs": [
    {
     "data": {
      "text/html": [
       "<div>\n",
       "<style scoped>\n",
       "    .dataframe tbody tr th:only-of-type {\n",
       "        vertical-align: middle;\n",
       "    }\n",
       "\n",
       "    .dataframe tbody tr th {\n",
       "        vertical-align: top;\n",
       "    }\n",
       "\n",
       "    .dataframe thead th {\n",
       "        text-align: right;\n",
       "    }\n",
       "</style>\n",
       "<table border=\"1\" class=\"dataframe\">\n",
       "  <thead>\n",
       "    <tr style=\"text-align: right;\">\n",
       "      <th></th>\n",
       "      <th>legislatura</th>\n",
       "      <th>id_legislador</th>\n",
       "      <th>nombre_completo</th>\n",
       "      <th>gender</th>\n",
       "    </tr>\n",
       "  </thead>\n",
       "  <tbody>\n",
       "  </tbody>\n",
       "</table>\n",
       "</div>"
      ],
      "text/plain": [
       "Empty DataFrame\n",
       "Columns: [legislatura, id_legislador, nombre_completo, gender]\n",
       "Index: []"
      ]
     },
     "execution_count": 499,
     "metadata": {},
     "output_type": "execute_result"
    }
   ],
   "source": [
    "gender_clean[gender_clean['gender'].isna()]"
   ]
  },
  {
   "cell_type": "markdown",
   "metadata": {},
   "source": [
    "## Career Track"
   ]
  },
  {
   "cell_type": "code",
   "execution_count": 218,
   "metadata": {},
   "outputs": [],
   "source": [
    "path_career = '/Users/cblanesg/cam.blanes Dropbox/Camila Blanes/Congressional-dataMX/data/01-collection_data/00-id_data/01-career_track/'\n",
    "\n",
    "all_career = []\n",
    "for i in listdir(path_career):\n",
    "    try:\n",
    "        data = pd.read_json(path_career + i)\n",
    "        all_career.append(data)\n",
    "    except:\n",
    "        print(i)\n",
    "        \n",
    "data_career = pd.concat(all_career)\n",
    "escolaridad = data_career[data_career['area_experiencia'] == 'ESCOLARIDAD']"
   ]
  },
  {
   "cell_type": "code",
   "execution_count": 219,
   "metadata": {
    "scrolled": true
   },
   "outputs": [],
   "source": [
    "escolaridad['escolaridad'] = escolaridad.apply(lambda x: education(x['grado']), axis = 1)\n",
    "escolaridad['escolaridad_num'] = escolaridad.apply(lambda x: education_num(x['escolaridad']), axis = 1)"
   ]
  },
  {
   "cell_type": "code",
   "execution_count": 220,
   "metadata": {},
   "outputs": [],
   "source": [
    "id_legisladores = list(id_propietarios.id_legislador)"
   ]
  },
  {
   "cell_type": "code",
   "execution_count": 233,
   "metadata": {},
   "outputs": [
    {
     "name": "stderr",
     "output_type": "stream",
     "text": [
      "100%|██████████| 2500/2500 [00:03<00:00, 696.25it/s]\n"
     ]
    }
   ],
   "source": [
    "escolaridad_data = []\n",
    "for i in tqdm(id_legisladores):\n",
    "    temp = escolaridad[escolaridad['id_legislador'] == i]\n",
    "    if len(temp) == 0:\n",
    "        escolaridad_data.append(pd.DataFrame({'id_legislador':[i], \n",
    "                                             'grado_escolaridad':[0]}))\n",
    "    else:\n",
    "        grado = max(temp.escolaridad_num)\n",
    "        escolaridad_data.append(pd.DataFrame({'id_legislador':[i], \n",
    "                                             'grado_escolaridad':[grado]}))\n",
    "    "
   ]
  },
  {
   "cell_type": "code",
   "execution_count": 234,
   "metadata": {},
   "outputs": [],
   "source": [
    "data_escolaridad = pd.concat(escolaridad_data)"
   ]
  },
  {
   "cell_type": "code",
   "execution_count": 235,
   "metadata": {},
   "outputs": [],
   "source": [
    "missing_data = data_escolaridad[data_escolaridad['grado_escolaridad'].isin([0, 'missing'])]"
   ]
  },
  {
   "cell_type": "code",
   "execution_count": 236,
   "metadata": {},
   "outputs": [
    {
     "data": {
      "text/plain": [
       "array([], dtype=object)"
      ]
     },
     "execution_count": 236,
     "metadata": {},
     "output_type": "execute_result"
    }
   ],
   "source": [
    "data_career[data_career['id_legislador'].isin(list(missing_data.id_legislador))][data_career[data_career['id_legislador'].isin(list(missing_data.id_legislador))]['area_experiencia'] == 'ESCOLARIDAD'].grado.unique()"
   ]
  },
  {
   "cell_type": "code",
   "execution_count": 242,
   "metadata": {},
   "outputs": [
    {
     "data": {
      "text/html": [
       "<div>\n",
       "<style scoped>\n",
       "    .dataframe tbody tr th:only-of-type {\n",
       "        vertical-align: middle;\n",
       "    }\n",
       "\n",
       "    .dataframe tbody tr th {\n",
       "        vertical-align: top;\n",
       "    }\n",
       "\n",
       "    .dataframe thead th {\n",
       "        text-align: right;\n",
       "    }\n",
       "</style>\n",
       "<table border=\"1\" class=\"dataframe\">\n",
       "  <thead>\n",
       "    <tr style=\"text-align: right;\">\n",
       "      <th></th>\n",
       "      <th>id_legislador</th>\n",
       "      <th>grado_escolaridad</th>\n",
       "    </tr>\n",
       "  </thead>\n",
       "  <tbody>\n",
       "    <tr>\n",
       "      <th>0</th>\n",
       "      <td>e7f3daa8-fe1f-11ea-95ca-acde48001122</td>\n",
       "      <td>2</td>\n",
       "    </tr>\n",
       "    <tr>\n",
       "      <th>0</th>\n",
       "      <td>e82a705e-fe1f-11ea-95ca-acde48001122</td>\n",
       "      <td>0</td>\n",
       "    </tr>\n",
       "    <tr>\n",
       "      <th>0</th>\n",
       "      <td>e85d8a34-fe1f-11ea-95ca-acde48001122</td>\n",
       "      <td>3</td>\n",
       "    </tr>\n",
       "    <tr>\n",
       "      <th>0</th>\n",
       "      <td>e88f3462-fe1f-11ea-95ca-acde48001122</td>\n",
       "      <td>3</td>\n",
       "    </tr>\n",
       "    <tr>\n",
       "      <th>0</th>\n",
       "      <td>e8c1e6c8-fe1f-11ea-95ca-acde48001122</td>\n",
       "      <td>2</td>\n",
       "    </tr>\n",
       "    <tr>\n",
       "      <th>...</th>\n",
       "      <td>...</td>\n",
       "      <td>...</td>\n",
       "    </tr>\n",
       "    <tr>\n",
       "      <th>0</th>\n",
       "      <td>27cc57ec-fd10-11ea-83d8-acde48001122</td>\n",
       "      <td>2</td>\n",
       "    </tr>\n",
       "    <tr>\n",
       "      <th>0</th>\n",
       "      <td>28723afe-fd10-11ea-83d8-acde48001122</td>\n",
       "      <td>2</td>\n",
       "    </tr>\n",
       "    <tr>\n",
       "      <th>0</th>\n",
       "      <td>28fa506a-fd10-11ea-83d8-acde48001122</td>\n",
       "      <td>3</td>\n",
       "    </tr>\n",
       "    <tr>\n",
       "      <th>0</th>\n",
       "      <td>29eb5122-fd10-11ea-83d8-acde48001122</td>\n",
       "      <td>2</td>\n",
       "    </tr>\n",
       "    <tr>\n",
       "      <th>0</th>\n",
       "      <td>2a42a3dc-fd10-11ea-83d8-acde48001122</td>\n",
       "      <td>2</td>\n",
       "    </tr>\n",
       "  </tbody>\n",
       "</table>\n",
       "<p>2500 rows × 2 columns</p>\n",
       "</div>"
      ],
      "text/plain": [
       "                           id_legislador  grado_escolaridad\n",
       "0   e7f3daa8-fe1f-11ea-95ca-acde48001122                  2\n",
       "0   e82a705e-fe1f-11ea-95ca-acde48001122                  0\n",
       "0   e85d8a34-fe1f-11ea-95ca-acde48001122                  3\n",
       "0   e88f3462-fe1f-11ea-95ca-acde48001122                  3\n",
       "0   e8c1e6c8-fe1f-11ea-95ca-acde48001122                  2\n",
       "..                                   ...                ...\n",
       "0   27cc57ec-fd10-11ea-83d8-acde48001122                  2\n",
       "0   28723afe-fd10-11ea-83d8-acde48001122                  2\n",
       "0   28fa506a-fd10-11ea-83d8-acde48001122                  3\n",
       "0   29eb5122-fd10-11ea-83d8-acde48001122                  2\n",
       "0   2a42a3dc-fd10-11ea-83d8-acde48001122                  2\n",
       "\n",
       "[2500 rows x 2 columns]"
      ]
     },
     "execution_count": 242,
     "metadata": {},
     "output_type": "execute_result"
    }
   ],
   "source": [
    "data_escolaridad"
   ]
  },
  {
   "cell_type": "code",
   "execution_count": 253,
   "metadata": {},
   "outputs": [],
   "source": [
    "experience = data_career[data_career['area_experiencia'] != 'ESCOLARIDAD']"
   ]
  },
  {
   "cell_type": "code",
   "execution_count": 307,
   "metadata": {},
   "outputs": [],
   "source": [
    "def obtain_career_track(x, grado, institucion):\n",
    "    if x in ['ACTIVIDAD EMPRESARIAL', 'INICIATIVA PRIVADA', \n",
    "            'Actividad Empresarial', 'ACTIVIDADES EMPRESARIALES', 'ACTIVIDAD EMPRESARIAL']:\n",
    "        return('experiencia sector privado')\n",
    "    elif x in ['TRAYECTORIA POLÍTICA', 'CARGOS EN LEGISLATURAS LOCALES O FEDERALES', 'CARGOS DE ELECCIÓN POPULAR', \n",
    "              'EXPERIENCIA LEGISLATIVA', 'ADMINISTRACIÓN PÚBLICA FEDERAL']:\n",
    "        return('experiencia politica')\n",
    "    elif x in ['ADMINISTRACIÓN PÚBLICA LOCAL']:\n",
    "        return('administracion publica')\n",
    "    elif x in ['ACTIVIDADES DOCENTES', 'PUBLICACIONES']:\n",
    "        return('docencia')\n",
    "    elif x in ['ORGANISMOS INTERNACIONALES', 'ASOCIACIONES A LAS QUE PERTENECE']:\n",
    "        return('asociacion civil')\n",
    "    elif x in ['LOGROS DEPORTIVOS MÁS DESTACADOS']:\n",
    "        return('carrera deportiva')\n",
    "    else:\n",
    "        return(clean_missing(grado, institucion))"
   ]
  },
  {
   "cell_type": "code",
   "execution_count": 308,
   "metadata": {},
   "outputs": [],
   "source": [
    "def clean_missing(x, institucion):\n",
    "    if x in ['Vicepresidente de Desarrollo de Nuevos Negocios LATAM', \n",
    "            'Vicepresidente de Desarrollo de Nuevos Negocios',\n",
    "       'Director Ejecutivo de Inversiones Internacionales',\n",
    "       'Director para LATAM', 'Vicepresidente',\n",
    "       'Jefe de Departamento de la Coordinación General',\n",
    "       'Jefe de Departamento de Servicios Periciales',\n",
    "       'Secretario Particular del Coordinador General', 'Asesor',  'Invitado', 'Ponente', \n",
    "            'Coordinadora de Módulo','Director General', 'Director Médico',\n",
    "       'Campaña de limpieza en barranca en la colonia \"El Ermitaño\"', 'Propietario', \n",
    "            'Jefe de Sistemas', 'Control de obra', 'Fundador', 'Presidente',\n",
    "            'Enlace de alta responsabilidad', 'Médico',\n",
    "       'Médico encargado del Servicio de Urgencias de fin de semana',\n",
    "       'Médico encargado del Servicio de Urgencias Nocturna',\n",
    "       'Médico encargada del Servicio Médico']:\n",
    "        return('experiencia sector privado')\n",
    "    \n",
    "    \n",
    "    elif x in ['Secretario General de la Agrupación Política Nacional \"Movimiento Nacional de Expresión Política\"', \n",
    "              'Candidata electa a la Diputación Federal por el Distrito 1, Chiapas',\n",
    "       'Diputada(o) Federal ,', 'Senador(a) de la República ,',\n",
    "       'Diputada(o) Constituyente ,',\n",
    "       'Secretaria de la Juventud en el estado de Quintana Roo',\n",
    "       'Integrante del Consejo Político Nacional',\n",
    "       'Secretaria de la Mujer en el estado de Quintana Roo',\n",
    "       'Representante estatal',\n",
    "       'Enlace del CEN para el 4º Distrito Federal, estado de Tabasco','Enlace del Distrito 1, Chiapas',\n",
    "               'Enlace del CEN para el 4º Distrito Federal, estado de Tabasco',\n",
    "       'Coordinador de Organización del Distrito Fedeal 4. estado de Tabasco',\n",
    "              'Candidato a diputación federal','Senador(a) de la República Propietario, PAN',\n",
    "       'Candidato a la Presidencia Municipal de Zacatecas,Zac','Delegado Municipal',\n",
    "              'Consejero del Poder Legislativo en el Instituto Federal Electoral',\n",
    "       'Vocero Nacional del Partido Verde Ecologista de México',\n",
    "       'Directora de Promoción y Fomento de Vivienda', 'Vocero nacional',\n",
    "       'Dirigente nacional']:\n",
    "        return('experiencia politica')\n",
    "    \n",
    "    \n",
    "    elif x in ['Coordinador de Auditor{ia', 'Subcontralor', 'Director General de Vinculación Municipal de la Secretaría',\n",
    "       'Director General de Atención a Municipios de la Secretaría',\n",
    "       'Subsecretario de Vinculación', 'Coordinador de Asesores',\n",
    "       'Presidente del Comité Ejecutivo Estatal', 'Presidenta del Comité Municipal', 'Secretaria General Estatal', \n",
    "              'Integrante del Consejo Consultivo en Morelos',\n",
    "       'Integrante del Consejo Consultivo Estatal en Morelos', 'Enlace del Distrito 1, Chiapas', \n",
    "              'Jefe de trafico', 'Administrativo',\n",
    "       'Secretario de Desarrollo Social','Coordinador General del Comité de Planeación para el Desarrollo del estado de Guerrero',\n",
    "       'Coordinador general de Fortalecimiento Municipal',\n",
    "       'Enlace Distrital', 'Subdirectora de Atención a Grupos Vulnerables',\n",
    "       'JUD de Capacitación', 'Consejero Nacional',\n",
    "       'Secretario de Acción de Gobierno CEN',\n",
    "       'Coordinador de Asuntos Internacionales CEN',\n",
    "       'Miembro de la Comisión Permanente Nacional', 'Consejero', 'Enlace de la Secretaría General del Comité Ejecutivo Nacional en los estados de la Segunda Circunscripción',\n",
    "       'Consejero nacional',\n",
    "       'Presidente de la Comisión de Orden del Consejo nacional',\n",
    "       'Enlace de la Secretaría General del Comité Ejecutivo Nacional en los estados de la Primera Circunscripción',\n",
    "       'Integrante de la Comisión Permanente Estatal',\n",
    "       'Integrante de la Comisión Permanente Nacional',\n",
    "       'Integrante de la Comisión Nacional Organizadora del CEN',\n",
    "       'Miembro de la Comisión Permanente Nacional del CEN',\n",
    "       'Coordinadora Nacional de desarrollo sustentable del CEN',\n",
    "       'Consejera Nacional',\n",
    "       'Coordinadora de medio ambiente en la campaña con la coacilicón \"Por México al frente\"',\n",
    "       'Secretario General CDE', 'Secretaria del PPM',\n",
    "       'Consejera Estatal', 'Presidente del Coimité Directivo Local',\n",
    "       'Integrante de la Comisión Permanente Regional',\n",
    "       'Consejera Estatal Hidalgo', 'Consejera Nacional por Hidalgo',\n",
    "       'Miembro del Comité Directivo Estatal-Hidalgo',\n",
    "       'Secretario de Acción Juvenil Sahuayo',\n",
    "       'Presidente del Comité Directivo Municipal', 'Consejero Estatal','Secretario de Elecciones', 'Secretario General',\n",
    "       'Presidente del Comité Directivo Estatal en el Estado de México',\n",
    "       'Secretario de Organización del CEN',\n",
    "       'Secretario Regional del CEN', 'Consejera Politica Municipal',\n",
    "       'Secretaria General del Frente Juvenil Revolucionario Estatal de Querétaro',\n",
    "       'Secretaria General del Comité Directivo Municipal de Querétaro',\n",
    "       'Secretaria Jurídica del Comité Ejecutivo Nacional de la CNOP',\n",
    "       'Consejera Política Nacional',\n",
    "       'Coordinadora de Legisladores de la CNOP',\n",
    "       'Secretaria General del Comité Directivo Municipal en Guadalupe, Nuevo Léon',\n",
    "       'Secretaria de Organización del CDE en Nuevo León',\n",
    "       'Coordinadora Regional de campaña del candidato a la Presidencia de la República en Coahuila, Tamaulipas y San Luis Potosí',\n",
    "       'Secretaria General del Comité Directivo Estatal, Nuevo León',\n",
    "       'Candidata a Gobernadora del Estado de Nuevo León',\n",
    "       'Vocera del CEN en el Senado de la República',\n",
    "       'Coordinadora Nacional de Equidad e Inclusión en la Campaña Presidencial \"Todos por México\"',\n",
    "       'Subdirector de Administración Cautelar',\n",
    "       'Director de Apoyos Finacieros', 'Subsecretario de Egresos',\n",
    "       'Consejero Político Nacional',\n",
    "       'Delegado del CEN del PRI EN 15 Estados', 'Secretario',\n",
    "       'Subsecretario General de Gobiermo',\n",
    "       'Secretario de Acción Electoral del CEN',\n",
    "       'Secretario General del CEN', 'Directora de Contacto Ciudadano',\n",
    "       'Coordinadora Regional',\n",
    "       'Presidenta Estatal ONMPRI, San Luis Potosí',\n",
    "       'Secretaria del Comité Directivo Estatal',\n",
    "       'Presidenta del Comité Directivo Municipal de la Capital',\n",
    "       'Consejero Político Municipal', 'Consejero Político Estatal',\n",
    "       'Secretario General del Movimiento Territorial',\n",
    "       'Subdirector Médico',\n",
    "       'Integrante de la Comisión Coordinadora Nacional', 'Representante Suplente IFE/INE',\n",
    "       'Integrante de la Comisión Operativa Nacional',\n",
    "       'Director de la Juventud','Secretaria de Acuerdos Consejo Nacional',\n",
    "       'Representante Suplente IFE/INE',\n",
    "       'Integrante de la Comisión Operativa Nacional',\n",
    "       'Director de la Juventud', 'Delegado Municipal',\n",
    "       'Director de Desarrollo Social', 'Embajadora de campaña',\n",
    "       'Locutora', 'Directora del Programa Mundo Maya',\n",
    "       'Directora de Proyectos Especiales del Ejecutivo', 'Presidenta',\n",
    "       'Directora de Relaciones Interinstitucionales',\n",
    "       'Directora del Sub-Centro del C-4 Zona Norte',\n",
    "       'Subsecretaria de Coordinación de Programas Sociales Zona Norte',\n",
    "       'Candidata a Diputada Local por el Dtto. VII, Agua Prieta, Sonora',\n",
    "       'Secretaria Técnica del Consejo Político CEN de la Red de Jóvenes X México',\n",
    "       'Consejera Nacional CEN']:\n",
    "        return('administracion publica')\n",
    "    \n",
    "    \n",
    "    elif x in ['Conferencista', 'Docente', 'Docente frente a grupo']:\n",
    "        return('docencia')\n",
    "    \n",
    "    elif x in [ 'Boxeador Profesional',\n",
    "       'Campeón de los Supergallo',\n",
    "       'Campeón de peso supergallo de la Organización Mundial de Boxeo (OMB).',\n",
    "       'Campeón Pluma Interino del CMB.', 'Promotor de Boxeo',\n",
    "       'Campeón interino de Superligero del CMB.', 'Entrenador de Boxeo',\n",
    "       'Miembro del Salón de la Fama de Las Vegas.']:\n",
    "        return('carrera deportiva')\n",
    "    \n",
    "    \n",
    "    else:\n",
    "        return(clean_institucion(institucion)) "
   ]
  },
  {
   "cell_type": "code",
   "execution_count": 305,
   "metadata": {},
   "outputs": [],
   "source": [
    "def clean_institucion(institucion):\n",
    "    if institucion in ['Star Technology and science', 'Terrafix México', \n",
    "                      'VYV Consultoría y Soluciones Empresariales', \n",
    "                      'Grupo Financiero Banorte', 'Grupo Oro', 'Agrupación musical Piluso']:\n",
    "        return('experiencia sector privado')\n",
    "    \n",
    "    elif institucion in [ 'Secretaría de Desarrollo Urbano yObras Públicas',\n",
    "                        'Coordinaciones de Procuración y Seguridad Pública',\n",
    "       'Secretaría de Salud. Sinaloa','DIF Guadalajara, Jalisco', 'CONADE', \n",
    "                        'Subsecretaría dePrevención del Delito. SEGOB']:\n",
    "        return('administracion publica')\n",
    "    \n",
    "    elif institucion in ['PVEM', 'PAN','Gobierno del estado de Guerrero', 'LVI Legislatura',\n",
    "       'LVII Legislatura','Morena', 'LXI Legislatura', 'No indica Legislatura', 'PT','PRI']:\n",
    "        return('experiencia politica')\n",
    "    \n",
    "    elif institucion in [ 'Instituto de las Mujeres del Distrito Federal Sistema de Centros Integrales de Apoyo a la Mujer',\n",
    "                        'Por un México sin Hambre']:\n",
    "        return('asociacion civil')\n",
    "    \n",
    "    \n",
    "    elif institucion in ['Foro: Bases antropológicas', 'Asignatura: Estadística', \n",
    "                        'Asignatura: Teoremas de la Comunicación Género Periodístico Radio']:\n",
    "        return('docencia')"
   ]
  },
  {
   "cell_type": "code",
   "execution_count": 309,
   "metadata": {
    "scrolled": true
   },
   "outputs": [],
   "source": [
    "experience['career_track'] = experience.apply(lambda x: obtain_career_track(x['area_experiencia'], \n",
    "                                                                           x['grado'], \n",
    "                                                                           x['institucion']), axis = 1)"
   ]
  },
  {
   "cell_type": "code",
   "execution_count": 322,
   "metadata": {},
   "outputs": [
    {
     "data": {
      "text/plain": [
       "array(['experiencia politica', 'experiencia sector privado',\n",
       "       'administracion publica', 'asociacion civil', 'docencia',\n",
       "       'carrera deportiva', None], dtype=object)"
      ]
     },
     "execution_count": 322,
     "metadata": {},
     "output_type": "execute_result"
    }
   ],
   "source": [
    "experience.career_track.unique()"
   ]
  },
  {
   "cell_type": "code",
   "execution_count": 335,
   "metadata": {},
   "outputs": [],
   "source": [
    "def obtain_dummy(type_carrer, x):\n",
    "    if type_carrer in x:\n",
    "        return([1])\n",
    "    else:\n",
    "        return([0])"
   ]
  },
  {
   "cell_type": "code",
   "execution_count": 337,
   "metadata": {},
   "outputs": [
    {
     "name": "stderr",
     "output_type": "stream",
     "text": [
      "100%|██████████| 2500/2500 [00:07<00:00, 323.88it/s]\n"
     ]
    }
   ],
   "source": [
    "career_data = []\n",
    "for i in tqdm(id_legisladores):\n",
    "    temp = experience[experience['id_legislador'] == i]\n",
    "    if len(temp) == 0:\n",
    "        career_data.append(pd.DataFrame({'id_legislador':[i], \n",
    "                                        'exp_pol':[0], \n",
    "                                        'exp_sec_privado':[0], \n",
    "                                        'admon_publica':[0], \n",
    "                                        'asoc_civil':[0], \n",
    "                                        'docencia':[0], \n",
    "                                        'carrera_deportiva':[0]}))\n",
    "    else:\n",
    "        careers = list(temp.career_track.unique())\n",
    "        career_data.append(pd.DataFrame({'id_legislador':[i], \n",
    "                                        'exp_pol':obtain_dummy('experiencia politica',careers), \n",
    "                                        'exp_sec_privado':obtain_dummy('experiencia sector privado',careers),\n",
    "                                        'admon_publica':obtain_dummy('administracion publica',careers),\n",
    "                                        'asoc_civil':obtain_dummy('asociacion civil',careers),\n",
    "                                        'docencia':obtain_dummy('docencia',careers),\n",
    "                                        'carrera_deportiva':obtain_dummy('carrera deportiva',careers)\n",
    "                                        }))"
   ]
  },
  {
   "cell_type": "code",
   "execution_count": 340,
   "metadata": {},
   "outputs": [],
   "source": [
    "carrer_track_data = pd.concat(career_data)"
   ]
  },
  {
   "cell_type": "code",
   "execution_count": 500,
   "metadata": {},
   "outputs": [],
   "source": [
    "demographics = pd.merge(left = gender_clean, \n",
    "                       right = data_escolaridad, \n",
    "                       on = 'id_legislador', \n",
    "                       how = 'left')\n",
    "\n",
    "demographics = pd.merge(left = demographics, \n",
    "                        right = carrer_track_data, \n",
    "                        on = 'id_legislador', \n",
    "                       how = 'left')"
   ]
  },
  {
   "cell_type": "code",
   "execution_count": 502,
   "metadata": {},
   "outputs": [],
   "source": [
    "demographics.to_excel('/Users/cblanesg/cam.blanes Dropbox/Camila Blanes/Congressional-dataMX/data/01-collection_data/09-controls_reg/controls_reg.xlsx')"
   ]
  },
  {
   "cell_type": "code",
   "execution_count": 505,
   "metadata": {},
   "outputs": [
    {
     "data": {
      "text/plain": [
       "Index(['legislatura', 'id_legislador', 'nombre_completo', 'gender',\n",
       "       'grado_escolaridad', 'exp_pol', 'exp_sec_privado', 'admon_publica',\n",
       "       'asoc_civil', 'docencia', 'carrera_deportiva'],\n",
       "      dtype='object')"
      ]
     },
     "execution_count": 505,
     "metadata": {},
     "output_type": "execute_result"
    }
   ],
   "source": [
    "demographics.columns"
   ]
  },
  {
   "cell_type": "code",
   "execution_count": 507,
   "metadata": {},
   "outputs": [
    {
     "data": {
      "text/plain": [
       "array([2, 0, 3, 1])"
      ]
     },
     "execution_count": 507,
     "metadata": {},
     "output_type": "execute_result"
    }
   ],
   "source": [
    "demographics.grado_escolaridad.unique()"
   ]
  }
 ],
 "metadata": {
  "kernelspec": {
   "display_name": "Python 3",
   "language": "python",
   "name": "python3"
  },
  "language_info": {
   "codemirror_mode": {
    "name": "ipython",
    "version": 3
   },
   "file_extension": ".py",
   "mimetype": "text/x-python",
   "name": "python",
   "nbconvert_exporter": "python",
   "pygments_lexer": "ipython3",
   "version": "3.8.3"
  }
 },
 "nbformat": 4,
 "nbformat_minor": 4
}
