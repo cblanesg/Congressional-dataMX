{
 "cells": [
  {
   "cell_type": "code",
   "execution_count": 66,
   "metadata": {},
   "outputs": [],
   "source": [
    "import pandas as pd\n",
    "import numpy as np"
   ]
  },
  {
   "cell_type": "code",
   "execution_count": 67,
   "metadata": {},
   "outputs": [],
   "source": [
    "import warnings\n",
    "warnings.filterwarnings(\"ignore\")"
   ]
  },
  {
   "cell_type": "code",
   "execution_count": 50,
   "metadata": {},
   "outputs": [],
   "source": [
    "data_list = pd.read_excel('/Users/cblanesg/cam.blanes Dropbox/Camila Blanes/Congressional-dataMX/data/01-collection_data/08-ranking_party-list/3-data_ids/ranking_pr.xlsx')"
   ]
  },
  {
   "cell_type": "code",
   "execution_count": 51,
   "metadata": {},
   "outputs": [],
   "source": [
    "def clean_party(x):\n",
    "    if pd.isna(x):\n",
    "        return(x)\n",
    "    else:\n",
    "        x = x.lower()\n",
    "        if x == 'encuentro social':\n",
    "            return('es')\n",
    "        elif x == 'movimiento ciudadano':\n",
    "            return('mc')\n",
    "        elif x == 'partido verde ecologista':\n",
    "            return('pvem')\n",
    "        elif x == 'alianza':\n",
    "            return('pna')\n",
    "        \n",
    "        elif x == 'morenal':\n",
    "            return('morena')\n",
    "        else:\n",
    "            return(x)"
   ]
  },
  {
   "cell_type": "code",
   "execution_count": 52,
   "metadata": {},
   "outputs": [],
   "source": [
    "data_list['circunscripcion'] = data_list['circunscripcion'].apply(lambda x: x.lower())\n",
    "data_list['partido'] = data_list['partido'].apply(lambda x: clean_party(x))"
   ]
  },
  {
   "cell_type": "code",
   "execution_count": 54,
   "metadata": {},
   "outputs": [],
   "source": [
    "data_list = data_list[['legislatura', 'id_legislador', 'nombre_completo', 'partido', 'ranking_list','circunscripcion']]"
   ]
  },
  {
   "cell_type": "code",
   "execution_count": 69,
   "metadata": {},
   "outputs": [],
   "source": [
    "types_pd_data = []\n",
    "\n",
    "for legis in data_list.legislatura.unique():\n",
    "    legis_data = data_list[data_list['legislatura'] == legis]\n",
    "    \n",
    "    for i in legis_data.circunscripcion.unique():\n",
    "        circ_data = legis_data[legis_data['circunscripcion'] == i] \n",
    "        \n",
    "        for party in circ_data.partido.unique():\n",
    "            party_data = circ_data[circ_data['partido'] == party]\n",
    "            top_ranking = list(party_data.sort_values('ranking_list').head(int(party_data.shape[0]*.5)).id_legislador)\n",
    "            party_data['type_pr'] = np.where(party_data['id_legislador'].isin(top_ranking), 1, 0)\n",
    "            types_pd_data.append(party_data)\n",
    "types_pd_data = pd.concat(types_pd_data)"
   ]
  },
  {
   "cell_type": "code",
   "execution_count": 75,
   "metadata": {},
   "outputs": [
    {
     "data": {
      "text/plain": [
       "array([0, 1])"
      ]
     },
     "execution_count": 75,
     "metadata": {},
     "output_type": "execute_result"
    }
   ],
   "source": [
    "types_pd_data.type_pr.unique()"
   ]
  },
  {
   "cell_type": "code",
   "execution_count": 76,
   "metadata": {},
   "outputs": [],
   "source": [
    "types_pd_data.to_excel('/Users/cblanesg/cam.blanes Dropbox/Camila Blanes/Congressional-dataMX/data/01-collection_data/08-ranking_party-list/3-data_ids/ranking_type_rp.xlsx')"
   ]
  },
  {
   "cell_type": "code",
   "execution_count": null,
   "metadata": {},
   "outputs": [],
   "source": []
  }
 ],
 "metadata": {
  "kernelspec": {
   "display_name": "Python 3",
   "language": "python",
   "name": "python3"
  },
  "language_info": {
   "codemirror_mode": {
    "name": "ipython",
    "version": 3
   },
   "file_extension": ".py",
   "mimetype": "text/x-python",
   "name": "python",
   "nbconvert_exporter": "python",
   "pygments_lexer": "ipython3",
   "version": "3.8.3"
  }
 },
 "nbformat": 4,
 "nbformat_minor": 4
}
