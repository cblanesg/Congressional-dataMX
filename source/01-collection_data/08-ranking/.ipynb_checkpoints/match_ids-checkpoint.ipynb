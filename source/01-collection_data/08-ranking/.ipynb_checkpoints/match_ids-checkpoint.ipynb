{
 "cells": [
  {
   "cell_type": "code",
   "execution_count": 27,
   "metadata": {},
   "outputs": [],
   "source": [
    "import pandas as pd\n",
    "import difflib "
   ]
  },
  {
   "cell_type": "code",
   "execution_count": 4,
   "metadata": {},
   "outputs": [],
   "source": [
    "import os\n",
    "cwd = os.getcwd()"
   ]
  },
  {
   "cell_type": "code",
   "execution_count": 5,
   "metadata": {},
   "outputs": [
    {
     "data": {
      "text/plain": [
       "'/Users/cblanesg/cam.blanes Dropbox/Camila Blanes/Congressional-dataMX/source/01-collection_data/08-ranking'"
      ]
     },
     "execution_count": 5,
     "metadata": {},
     "output_type": "execute_result"
    }
   ],
   "source": [
    "cwd"
   ]
  },
  {
   "cell_type": "code",
   "execution_count": 8,
   "metadata": {},
   "outputs": [],
   "source": [
    "all_rankings = pd.concat([pd.read_excel('../../../data/01-collection_data/08-ranking_party-list/2-clean/ranking60.xlsx'), \n",
    "                         pd.read_excel('../../../data/01-collection_data/08-ranking_party-list/2-clean/ranking61.xlsx'), \n",
    "                          pd.read_excel('../../../data/01-collection_data/08-ranking_party-list/2-clean/ranking62.xlsx'),\n",
    "                          pd.read_excel('../../../data/01-collection_data/08-ranking_party-list/2-clean/ranking63.xlsx'),                          \n",
    "                          pd.read_excel('../../../data/01-collection_data/08-ranking_party-list/2-clean/ranking64.xlsx')]\n",
    "                        )"
   ]
  },
  {
   "cell_type": "code",
   "execution_count": 12,
   "metadata": {},
   "outputs": [],
   "source": [
    "all_rankings = all_rankings[['legislatura', 'circunscripcion', 'first_column', 'party', 'ranking']]"
   ]
  },
  {
   "cell_type": "code",
   "execution_count": 14,
   "metadata": {},
   "outputs": [
    {
     "data": {
      "text/html": [
       "<div>\n",
       "<style scoped>\n",
       "    .dataframe tbody tr th:only-of-type {\n",
       "        vertical-align: middle;\n",
       "    }\n",
       "\n",
       "    .dataframe tbody tr th {\n",
       "        vertical-align: top;\n",
       "    }\n",
       "\n",
       "    .dataframe thead th {\n",
       "        text-align: right;\n",
       "    }\n",
       "</style>\n",
       "<table border=\"1\" class=\"dataframe\">\n",
       "  <thead>\n",
       "    <tr style=\"text-align: right;\">\n",
       "      <th></th>\n",
       "      <th>legislatura</th>\n",
       "      <th>circunscripcion</th>\n",
       "      <th>first_column</th>\n",
       "      <th>party</th>\n",
       "      <th>ranking</th>\n",
       "    </tr>\n",
       "  </thead>\n",
       "  <tbody>\n",
       "    <tr>\n",
       "      <th>0</th>\n",
       "      <td>60</td>\n",
       "      <td>primera</td>\n",
       "      <td>Raúl Alejandro Padilla Orozco</td>\n",
       "      <td>pan</td>\n",
       "      <td>1</td>\n",
       "    </tr>\n",
       "    <tr>\n",
       "      <th>1</th>\n",
       "      <td>60</td>\n",
       "      <td>primera</td>\n",
       "      <td>Héctor Larios Córdova</td>\n",
       "      <td>pan</td>\n",
       "      <td>2</td>\n",
       "    </tr>\n",
       "    <tr>\n",
       "      <th>2</th>\n",
       "      <td>60</td>\n",
       "      <td>primera</td>\n",
       "      <td>Rocío Morgan Franco</td>\n",
       "      <td>pan</td>\n",
       "      <td>3</td>\n",
       "    </tr>\n",
       "    <tr>\n",
       "      <th>3</th>\n",
       "      <td>60</td>\n",
       "      <td>primera</td>\n",
       "      <td>David Maldonado González</td>\n",
       "      <td>pan</td>\n",
       "      <td>4</td>\n",
       "    </tr>\n",
       "    <tr>\n",
       "      <th>4</th>\n",
       "      <td>60</td>\n",
       "      <td>primera</td>\n",
       "      <td>Soledad Limas Frescas</td>\n",
       "      <td>pan</td>\n",
       "      <td>5</td>\n",
       "    </tr>\n",
       "    <tr>\n",
       "      <th>...</th>\n",
       "      <td>...</td>\n",
       "      <td>...</td>\n",
       "      <td>...</td>\n",
       "      <td>...</td>\n",
       "      <td>...</td>\n",
       "    </tr>\n",
       "    <tr>\n",
       "      <th>195</th>\n",
       "      <td>64</td>\n",
       "      <td>Quinta</td>\n",
       "      <td>Francisco Javier Ramírez Navarrete</td>\n",
       "      <td>morena</td>\n",
       "      <td>15</td>\n",
       "    </tr>\n",
       "    <tr>\n",
       "      <th>196</th>\n",
       "      <td>64</td>\n",
       "      <td>Quinta</td>\n",
       "      <td>María Chávez Pérez</td>\n",
       "      <td>morena</td>\n",
       "      <td>16</td>\n",
       "    </tr>\n",
       "    <tr>\n",
       "      <th>197</th>\n",
       "      <td>64</td>\n",
       "      <td>Quinta</td>\n",
       "      <td>Agustín García Rubio</td>\n",
       "      <td>morena</td>\n",
       "      <td>17</td>\n",
       "    </tr>\n",
       "    <tr>\n",
       "      <th>198</th>\n",
       "      <td>64</td>\n",
       "      <td>Quinta</td>\n",
       "      <td>Edith Marisol Mercado Torres</td>\n",
       "      <td>morena</td>\n",
       "      <td>18</td>\n",
       "    </tr>\n",
       "    <tr>\n",
       "      <th>199</th>\n",
       "      <td>64</td>\n",
       "      <td>Quinta</td>\n",
       "      <td>Alejandro Viedma Velázquez</td>\n",
       "      <td>morena</td>\n",
       "      <td>19</td>\n",
       "    </tr>\n",
       "  </tbody>\n",
       "</table>\n",
       "<p>996 rows × 5 columns</p>\n",
       "</div>"
      ],
      "text/plain": [
       "     legislatura circunscripcion                        first_column   party  \\\n",
       "0             60         primera       Raúl Alejandro Padilla Orozco     pan   \n",
       "1             60         primera               Héctor Larios Córdova     pan   \n",
       "2             60         primera                 Rocío Morgan Franco     pan   \n",
       "3             60         primera            David Maldonado González     pan   \n",
       "4             60         primera               Soledad Limas Frescas     pan   \n",
       "..           ...             ...                                 ...     ...   \n",
       "195           64          Quinta  Francisco Javier Ramírez Navarrete  morena   \n",
       "196           64          Quinta                  María Chávez Pérez  morena   \n",
       "197           64          Quinta                Agustín García Rubio  morena   \n",
       "198           64          Quinta        Edith Marisol Mercado Torres  morena   \n",
       "199           64          Quinta          Alejandro Viedma Velázquez  morena   \n",
       "\n",
       "     ranking  \n",
       "0          1  \n",
       "1          2  \n",
       "2          3  \n",
       "3          4  \n",
       "4          5  \n",
       "..       ...  \n",
       "195       15  \n",
       "196       16  \n",
       "197       17  \n",
       "198       18  \n",
       "199       19  \n",
       "\n",
       "[996 rows x 5 columns]"
      ]
     },
     "execution_count": 14,
     "metadata": {},
     "output_type": "execute_result"
    }
   ],
   "source": [
    "all_rankings"
   ]
  },
  {
   "cell_type": "code",
   "execution_count": 15,
   "metadata": {},
   "outputs": [],
   "source": [
    "ids_data = pd.read_excel('/Users/cblanesg/cam.blanes Dropbox/Camila Blanes/Congressional-dataMX/data/01-collection_data/00-id_data/00-id/id_data_aggregate.xlsx')"
   ]
  },
  {
   "cell_type": "code",
   "execution_count": 51,
   "metadata": {},
   "outputs": [],
   "source": [
    "propietario_legis = ids_data[ids_data['suplente_propietario'] == 'P'][['legislatura','id_legislador' ,'nombre_completo', 'tipo_legislador', 'partido']]"
   ]
  },
  {
   "cell_type": "code",
   "execution_count": 52,
   "metadata": {},
   "outputs": [],
   "source": [
    "matched_output = []\n",
    "for i in list(propietario_legis.legislatura.unique()):\n",
    "    data_legis = propietario_legis[propietario_legis['legislatura'] == i]\n",
    "    data_legis = data_legis[data_legis['tipo_legislador'] == 'Representacion proporcional']\n",
    "    ranking_data = all_rankings[all_rankings['legislatura'] == i]\n",
    "    \n",
    "    dict_out = ranking_data.set_index('first_column')['ranking'].to_dict()\n",
    "    \n",
    "    out = list(data_legis.nombre_completo.map(lambda x: difflib.get_close_matches(x, ranking_data.first_column)))\n",
    "    clean_out = []\n",
    "    ranking_out = []\n",
    "    for j in out:\n",
    "        if len(j) == 0:\n",
    "            clean_out.append('')\n",
    "            ranking_out.append('')\n",
    "        else:\n",
    "            clean_out.append(j[0])\n",
    "            ranking_out.append(dict_out[j[0]])\n",
    "    data_legis['match'] = clean_out\n",
    "    data_legis['ranking'] = ranking_out\n",
    "    matched_output.append(data_legis)\n",
    "\n",
    "matched_output = pd.concat(matched_output)"
   ]
  },
  {
   "cell_type": "code",
   "execution_count": 54,
   "metadata": {},
   "outputs": [],
   "source": [
    "matched_output.to_excel('/Users/cblanesg/cam.blanes Dropbox/Camila Blanes/Congressional-dataMX/data/01-collection_data/08-ranking_party-list/3-data_ids/ranking_list.xlsx')"
   ]
  }
 ],
 "metadata": {
  "kernelspec": {
   "display_name": "Python 3",
   "language": "python",
   "name": "python3"
  },
  "language_info": {
   "codemirror_mode": {
    "name": "ipython",
    "version": 3
   },
   "file_extension": ".py",
   "mimetype": "text/x-python",
   "name": "python",
   "nbconvert_exporter": "python",
   "pygments_lexer": "ipython3",
   "version": "3.8.3"
  }
 },
 "nbformat": 4,
 "nbformat_minor": 4
}
