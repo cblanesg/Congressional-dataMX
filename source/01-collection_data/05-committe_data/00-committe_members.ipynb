{
 "cells": [
  {
   "cell_type": "code",
   "execution_count": 278,
   "metadata": {},
   "outputs": [],
   "source": [
    "def members_committes(link):\n",
    "    r = requests.get(link)\n",
    "    soup = BeautifulSoup(r.content, 'html.parser')\n",
    "    \n",
    "    rows = soup.findAll('tr')\n",
    "    num = []\n",
    "    for i in range(0,len(rows)):\n",
    "        if any(re.findall('PRESIDENCIA|SECRETARÍA|INTEGRANTES', rows[i].text)):\n",
    "            num.append(i)\n",
    "            \n",
    "    rows = soup.findAll('tr')[num[0] + 1:]\n",
    "    temp = {}\n",
    "    for i in rows:\n",
    "        if len(i.findAll('td')) == 1:\n",
    "            posicion = i.findAll('td')[0].text\n",
    "            temp[posicion] = []\n",
    "        else:\n",
    "            integrante = re.sub('\\n+', '', i.findAll('td')[0].text)\n",
    "            clean_integrante = re.sub('[ ]+', ' ', integrante)\n",
    "            clean_integrante = re.sub('^[ ]+', '', clean_integrante)\n",
    "            clean_integrante = re.sub('[ ]+$', '', clean_integrante)\n",
    "            temp[posicion].append(clean_integrante)\n",
    "    \n",
    "    data_members = {}\n",
    "    try:\n",
    "        for x in temp['PRESIDENCIA']:\n",
    "            data_members[x] = 'PRESIDENCIA'\n",
    "    except:\n",
    "        print(link)\n",
    "    try:\n",
    "        for x in temp['SECRETARÍA']:\n",
    "            data_members[x] = 'SECRETARIA'\n",
    "    except:\n",
    "        print(link)\n",
    "\n",
    "    for x in temp['INTEGRANTES']:\n",
    "        data_members[x] = 'INTEGRANTES'\n",
    "    return(data_members)"
   ]
  },
  {
   "cell_type": "code",
   "execution_count": 217,
   "metadata": {},
   "outputs": [],
   "source": [
    "import requests\n",
    "import re\n",
    "import json\n",
    "from tqdm import tqdm\n",
    "import pandas as pd\n",
    "from bs4 import BeautifulSoup"
   ]
  },
  {
   "cell_type": "code",
   "execution_count": 305,
   "metadata": {},
   "outputs": [],
   "source": [
    "links = ['http://sitl.diputados.gob.mx/LXIV_leg/listado_de_comisioneslxiv.php?tct=1',\n",
    "         #'http://sitl.diputados.gob.mx/LXIV_leg/listado_de_comisioneslxiv.php?tct=2',\n",
    "        'http://sitllxiii.diputados.gob.mx/listado_de_comisioneslxiii.php?tct=1', \n",
    "         'http://sitllxiii.diputados.gob.mx/listado_de_comisioneslxiii.php?tct=2', \n",
    "        'http://sitllxii.diputados.gob.mx/listado_de_comisioneslxii.php?tct=1', \n",
    "         'http://sitllxii.diputados.gob.mx/listado_de_comisioneslxii.php?tct=2', \n",
    "        'http://sitllxi.diputados.gob.mx/listado_de_comisioneslxi.php?tct=1', \n",
    "         'http://sitllxi.diputados.gob.mx/listado_de_comisioneslxi.php?tct=2', \n",
    "        'http://sitllx.diputados.gob.mx/listado_de_comisiones.php?tct=1', \n",
    "        'http://sitllx.diputados.gob.mx/listado_de_comisiones.php?tct=2']"
   ]
  },
  {
   "cell_type": "code",
   "execution_count": 306,
   "metadata": {},
   "outputs": [],
   "source": [
    "r = requests.get(links[5])\n",
    "soup = BeautifulSoup(r.content, 'html.parser')"
   ]
  },
  {
   "cell_type": "code",
   "execution_count": 307,
   "metadata": {},
   "outputs": [],
   "source": [
    "link_integrantes = []\n",
    "name_comisiones = []\n",
    "for i in soup.findAll('a'):\n",
    "    link = i.get('href')\n",
    "    if any(re.findall('integrantes', link)):\n",
    "        #link = re.sub('^[.]', '', link) #63 legislatura\n",
    "        link_integrantes.append('http://sitllxi.diputados.gob.mx/' +link)\n",
    "        name_comisiones.append(re.sub('\\n', '', i.text))\n",
    "    else:\n",
    "        continue"
   ]
  },
  {
   "cell_type": "code",
   "execution_count": 308,
   "metadata": {
    "scrolled": true
   },
   "outputs": [
    {
     "name": "stderr",
     "output_type": "stream",
     "text": [
      "100%|██████████| 44/44 [00:10<00:00,  4.10it/s]\n"
     ]
    }
   ],
   "source": [
    "list_members = []\n",
    "list_committes = []\n",
    "name_comisiones2 = []\n",
    "for i, e in tqdm(zip(link_integrantes, name_comisiones), total = len(link_integrantes)):\n",
    "    try:\n",
    "        dict_ = members_committes(i)\n",
    "        for x, y in dict_.items():\n",
    "            list_members.append(x)\n",
    "            list_committes.append(y)\n",
    "            name_comisiones2.append(e)\n",
    "    except:\n",
    "        print(i, 'error')"
   ]
  },
  {
   "cell_type": "code",
   "execution_count": 309,
   "metadata": {},
   "outputs": [],
   "source": [
    "final_dict = []\n",
    "for x, y, z in zip(list_members, list_committes, name_comisiones2):\n",
    "    temp = {}\n",
    "    temp['legislatura'] = 61\n",
    "    temp['name_inc'] = x\n",
    "    temp['position_committe'] = y\n",
    "    temp['name_comision'] = z\n",
    "    temp['type_committe'] = 'especial'\n",
    "    final_dict.append(temp)"
   ]
  },
  {
   "cell_type": "code",
   "execution_count": 310,
   "metadata": {},
   "outputs": [
    {
     "data": {
      "text/html": [
       "<div>\n",
       "<style scoped>\n",
       "    .dataframe tbody tr th:only-of-type {\n",
       "        vertical-align: middle;\n",
       "    }\n",
       "\n",
       "    .dataframe tbody tr th {\n",
       "        vertical-align: top;\n",
       "    }\n",
       "\n",
       "    .dataframe thead th {\n",
       "        text-align: right;\n",
       "    }\n",
       "</style>\n",
       "<table border=\"1\" class=\"dataframe\">\n",
       "  <thead>\n",
       "    <tr style=\"text-align: right;\">\n",
       "      <th></th>\n",
       "      <th>legislatura</th>\n",
       "      <th>name_inc</th>\n",
       "      <th>position_committe</th>\n",
       "      <th>name_comision</th>\n",
       "      <th>type_committe</th>\n",
       "    </tr>\n",
       "  </thead>\n",
       "  <tbody>\n",
       "    <tr>\n",
       "      <th>0</th>\n",
       "      <td>61</td>\n",
       "      <td>López Aguilar Cruz</td>\n",
       "      <td>PRESIDENCIA</td>\n",
       "      <td>Agricultura y Ganadería</td>\n",
       "      <td>especial</td>\n",
       "    </tr>\n",
       "    <tr>\n",
       "      <th>1</th>\n",
       "      <td>61</td>\n",
       "      <td>Lugo Oñate Alfredo Francisco</td>\n",
       "      <td>SECRETARIA</td>\n",
       "      <td>Agricultura y Ganadería</td>\n",
       "      <td>especial</td>\n",
       "    </tr>\n",
       "    <tr>\n",
       "      <th>2</th>\n",
       "      <td>61</td>\n",
       "      <td>Montes Cavazos Fermín</td>\n",
       "      <td>SECRETARIA</td>\n",
       "      <td>Agricultura y Ganadería</td>\n",
       "      <td>especial</td>\n",
       "    </tr>\n",
       "    <tr>\n",
       "      <th>3</th>\n",
       "      <td>61</td>\n",
       "      <td>Zubia Rivera Rolando</td>\n",
       "      <td>SECRETARIA</td>\n",
       "      <td>Agricultura y Ganadería</td>\n",
       "      <td>especial</td>\n",
       "    </tr>\n",
       "    <tr>\n",
       "      <th>4</th>\n",
       "      <td>61</td>\n",
       "      <td>Torres Santos Sergio Arturo</td>\n",
       "      <td>SECRETARIA</td>\n",
       "      <td>Agricultura y Ganadería</td>\n",
       "      <td>especial</td>\n",
       "    </tr>\n",
       "    <tr>\n",
       "      <th>...</th>\n",
       "      <td>...</td>\n",
       "      <td>...</td>\n",
       "      <td>...</td>\n",
       "      <td>...</td>\n",
       "      <td>...</td>\n",
       "    </tr>\n",
       "    <tr>\n",
       "      <th>1139</th>\n",
       "      <td>61</td>\n",
       "      <td>Ovando Patrón José Luis</td>\n",
       "      <td>INTEGRANTES</td>\n",
       "      <td>Vivienda</td>\n",
       "      <td>especial</td>\n",
       "    </tr>\n",
       "    <tr>\n",
       "      <th>1140</th>\n",
       "      <td>61</td>\n",
       "      <td>Peralta Rivas Pedro</td>\n",
       "      <td>INTEGRANTES</td>\n",
       "      <td>Vivienda</td>\n",
       "      <td>especial</td>\n",
       "    </tr>\n",
       "    <tr>\n",
       "      <th>1141</th>\n",
       "      <td>61</td>\n",
       "      <td>Puppo Gastélum Silvia</td>\n",
       "      <td>INTEGRANTES</td>\n",
       "      <td>Vivienda</td>\n",
       "      <td>especial</td>\n",
       "    </tr>\n",
       "    <tr>\n",
       "      <th>1142</th>\n",
       "      <td>61</td>\n",
       "      <td>Serrano Hernández Maricela (LICENCIA)</td>\n",
       "      <td>INTEGRANTES</td>\n",
       "      <td>Vivienda</td>\n",
       "      <td>especial</td>\n",
       "    </tr>\n",
       "    <tr>\n",
       "      <th>1143</th>\n",
       "      <td>61</td>\n",
       "      <td>Tolento Hernández Sergio</td>\n",
       "      <td>INTEGRANTES</td>\n",
       "      <td>Vivienda</td>\n",
       "      <td>especial</td>\n",
       "    </tr>\n",
       "  </tbody>\n",
       "</table>\n",
       "<p>1144 rows × 5 columns</p>\n",
       "</div>"
      ],
      "text/plain": [
       "      legislatura                               name_inc position_committe  \\\n",
       "0              61                     López Aguilar Cruz       PRESIDENCIA   \n",
       "1              61           Lugo Oñate Alfredo Francisco        SECRETARIA   \n",
       "2              61                  Montes Cavazos Fermín        SECRETARIA   \n",
       "3              61                   Zubia Rivera Rolando        SECRETARIA   \n",
       "4              61            Torres Santos Sergio Arturo        SECRETARIA   \n",
       "...           ...                                    ...               ...   \n",
       "1139           61                Ovando Patrón José Luis       INTEGRANTES   \n",
       "1140           61                    Peralta Rivas Pedro       INTEGRANTES   \n",
       "1141           61                  Puppo Gastélum Silvia       INTEGRANTES   \n",
       "1142           61  Serrano Hernández Maricela (LICENCIA)       INTEGRANTES   \n",
       "1143           61               Tolento Hernández Sergio       INTEGRANTES   \n",
       "\n",
       "                name_comision type_committe  \n",
       "0     Agricultura y Ganadería      especial  \n",
       "1     Agricultura y Ganadería      especial  \n",
       "2     Agricultura y Ganadería      especial  \n",
       "3     Agricultura y Ganadería      especial  \n",
       "4     Agricultura y Ganadería      especial  \n",
       "...                       ...           ...  \n",
       "1139                 Vivienda      especial  \n",
       "1140                 Vivienda      especial  \n",
       "1141                 Vivienda      especial  \n",
       "1142                 Vivienda      especial  \n",
       "1143                 Vivienda      especial  \n",
       "\n",
       "[1144 rows x 5 columns]"
      ]
     },
     "execution_count": 310,
     "metadata": {},
     "output_type": "execute_result"
    }
   ],
   "source": [
    "pd.DataFrame(final_dict)"
   ]
  },
  {
   "cell_type": "code",
   "execution_count": 311,
   "metadata": {},
   "outputs": [],
   "source": [
    "with open('/Users/cblanesg/cam.blanes Dropbox/Camila Blanes/Congressional-dataMX/data/01-collection_data/05-committe_activity/members_committe61_especial.json', 'w') as d:\n",
    "    json.dump(final_dict, d)"
   ]
  },
  {
   "cell_type": "code",
   "execution_count": null,
   "metadata": {},
   "outputs": [],
   "source": []
  },
  {
   "cell_type": "code",
   "execution_count": null,
   "metadata": {},
   "outputs": [],
   "source": []
  },
  {
   "cell_type": "code",
   "execution_count": null,
   "metadata": {},
   "outputs": [],
   "source": []
  },
  {
   "cell_type": "code",
   "execution_count": null,
   "metadata": {},
   "outputs": [],
   "source": []
  },
  {
   "cell_type": "code",
   "execution_count": null,
   "metadata": {},
   "outputs": [],
   "source": []
  },
  {
   "cell_type": "code",
   "execution_count": null,
   "metadata": {},
   "outputs": [],
   "source": []
  },
  {
   "cell_type": "code",
   "execution_count": null,
   "metadata": {},
   "outputs": [],
   "source": []
  },
  {
   "cell_type": "code",
   "execution_count": null,
   "metadata": {},
   "outputs": [],
   "source": []
  },
  {
   "cell_type": "code",
   "execution_count": null,
   "metadata": {},
   "outputs": [],
   "source": []
  },
  {
   "cell_type": "code",
   "execution_count": null,
   "metadata": {},
   "outputs": [],
   "source": []
  },
  {
   "cell_type": "code",
   "execution_count": null,
   "metadata": {},
   "outputs": [],
   "source": []
  },
  {
   "cell_type": "code",
   "execution_count": null,
   "metadata": {},
   "outputs": [],
   "source": []
  },
  {
   "cell_type": "code",
   "execution_count": null,
   "metadata": {},
   "outputs": [],
   "source": []
  },
  {
   "cell_type": "code",
   "execution_count": null,
   "metadata": {},
   "outputs": [],
   "source": []
  },
  {
   "cell_type": "code",
   "execution_count": null,
   "metadata": {},
   "outputs": [],
   "source": []
  },
  {
   "cell_type": "code",
   "execution_count": null,
   "metadata": {},
   "outputs": [],
   "source": []
  }
 ],
 "metadata": {
  "kernelspec": {
   "display_name": "Python 3",
   "language": "python",
   "name": "python3"
  },
  "language_info": {
   "codemirror_mode": {
    "name": "ipython",
    "version": 3
   },
   "file_extension": ".py",
   "mimetype": "text/x-python",
   "name": "python",
   "nbconvert_exporter": "python",
   "pygments_lexer": "ipython3",
   "version": "3.8.3"
  }
 },
 "nbformat": 4,
 "nbformat_minor": 4
}
