{
 "cells": [
  {
   "cell_type": "code",
   "execution_count": 1,
   "metadata": {},
   "outputs": [
    {
     "name": "stderr",
     "output_type": "stream",
     "text": [
      "/Library/Frameworks/Python.framework/Versions/3.8/lib/python3.8/site-packages/fuzzywuzzy/fuzz.py:11: UserWarning: Using slow pure-python SequenceMatcher. Install python-Levenshtein to remove this warning\n",
      "  warnings.warn('Using slow pure-python SequenceMatcher. Install python-Levenshtein to remove this warning')\n"
     ]
    }
   ],
   "source": [
    "import json\n",
    "import unidecode\n",
    "import re\n",
    "import pandas as pd\n",
    "from fuzzywuzzy import process\n",
    "from tqdm import tqdm"
   ]
  },
  {
   "cell_type": "markdown",
   "metadata": {},
   "source": [
    "## Legislatura 60"
   ]
  },
  {
   "cell_type": "code",
   "execution_count": 2,
   "metadata": {},
   "outputs": [],
   "source": [
    "## Load ID data\n",
    "with open('/Users/cblanesg/cam.blanes Dropbox/Camila Blanes/Congressional-dataMX/data/00-id_data/00-id/id_legislatura60.json') as f:\n",
    "    data = json.load(f)"
   ]
  },
  {
   "cell_type": "code",
   "execution_count": 3,
   "metadata": {},
   "outputs": [
    {
     "data": {
      "text/plain": [
       "1000"
      ]
     },
     "execution_count": 3,
     "metadata": {},
     "output_type": "execute_result"
    }
   ],
   "source": [
    "mapping = {}\n",
    "for i in data:\n",
    "    if i['nombre_completo'] not in mapping.keys():\n",
    "        mapping[re.sub(' [(]licencia[)]', '', re.sub('^[ ]+', '', unidecode.unidecode(i['nombre_completo'].lower())))] = i['id_legislador']\n",
    "    else:\n",
    "        continue\n",
    "\n",
    "len(mapping)"
   ]
  },
  {
   "cell_type": "code",
   "execution_count": 4,
   "metadata": {},
   "outputs": [],
   "source": [
    "## Load roll call\n",
    "votes = pd.read_csv('/Users/cblanesg/cam.blanes Dropbox/Camila Blanes/Congressional-dataMX/data/02-roll_call_votes/01-retreival/roll_call60.csv').drop(['Unnamed: 0'], axis= 1)"
   ]
  },
  {
   "cell_type": "code",
   "execution_count": 5,
   "metadata": {},
   "outputs": [
    {
     "data": {
      "text/plain": [
       "Index(['legislatura', 'year_session', 'month_session', 'day_session', 'member',\n",
       "       'party', 'voto', 'titulo_votacion'],\n",
       "      dtype='object')"
      ]
     },
     "execution_count": 5,
     "metadata": {},
     "output_type": "execute_result"
    }
   ],
   "source": [
    "votes.columns"
   ]
  },
  {
   "cell_type": "code",
   "execution_count": 6,
   "metadata": {},
   "outputs": [],
   "source": [
    "dict_votes = []\n",
    "for a, b, c, d, e, f, g, h in zip(votes.legislatura , votes.year_session, \n",
    "                                 votes.month_session , votes.day_session, \n",
    "                                 votes.member , votes.party, \n",
    "                                 votes.titulo_votacion , votes.voto):\n",
    "    temp = {}\n",
    "    temp['legislatura'] = a\n",
    "    temp['year_session'] = b\n",
    "    temp['month_session'] = c\n",
    "    temp['day_session'] = d\n",
    "    temp['member'] = e\n",
    "    temp['party'] = f\n",
    "    temp['titulo_votacion'] = g\n",
    "    temp['voto'] = h\n",
    "    dict_votes.append(temp)"
   ]
  },
  {
   "cell_type": "code",
   "execution_count": 12,
   "metadata": {},
   "outputs": [],
   "source": [
    "members60 = pd.DataFrame(dict_votes).member.unique()"
   ]
  },
  {
   "cell_type": "code",
   "execution_count": 17,
   "metadata": {},
   "outputs": [
    {
     "data": {
      "text/plain": [
       "598"
      ]
     },
     "execution_count": 17,
     "metadata": {},
     "output_type": "execute_result"
    }
   ],
   "source": [
    "len(members60)"
   ]
  },
  {
   "cell_type": "code",
   "execution_count": 20,
   "metadata": {
    "scrolled": true
   },
   "outputs": [
    {
     "name": "stdout",
     "output_type": "stream",
     "text": [
      "juan de dios castro munoz ,  castro munoz juan de dios\n",
      "alejandro landero gutierrez ,  landero gutierrez alejandro\n",
      "edgar martin ramirez pech ,  ramirez pech edgar martin\n",
      "jose alejandro aguilar lopez ,  aguilar lopez jose alejandro\n",
      "moises alcalde virgen ,  alcalde virgen moises\n",
      "efrain arizmendi uribe ,  arizmendi uribe efrain\n",
      "andres bermudez viramontes ,  bermudez viramontes andres\n",
      "omar antonio borboa becerra ,  borboa becerra omar antonio\n",
      "felipe borrego estrada ,  borrego estrada felipe\n",
      "rogelio carbajal tejada ,  carbajal tejada rogelio\n",
      "gustavo adolfo cardenas gutierrez ,  cardenas gutierrez gustavo adolfo\n",
      "daniel chavez garcia ,  chavez garcia daniel\n",
      "abel ignacio cuevas melo ,  cuevas melo abel ignacio\n",
      "davila garcia francisco ,  davila  garcia francisco\n",
      "angel rafael deschamps falcon ,  deschamps falcon angel rafael\n",
      "francisco dominguez servien ,  dominguez servien francisco\n",
      "luis rodolfo enriquez martinez ,  enriquez martinez luis rodolfo\n",
      "adolfo escobar jardinez ,  escobar jardinez adolfo\n",
      "david figueroa ortega ,  figueroa ortega david\n",
      "violeta del pilar lagunes viveros ,  lagunes viveros violeta del pilar\n",
      "rene lezama aradillas ,  lezama aradillas rene\n",
      "rubi laura lopez silva ,  lopez silva rubi laura\n",
      "jose manuel minjares jimenez ,  minjares jimenez jose manuel\n",
      "luis gustavo parra noriega ,  parra noriega luis gustavo\n",
      "valenzuela garcia maria gloria guadalupe ,  valenzuela  garcia maria gloria guadalupe\n",
      "alberto vazquez martinez ,  vazquez martinez alberto\n",
      "jorge zermeno infante ,  zermeno infante jorge\n",
      "faustino soto ramos ,  soto ramos faustino\n",
      "emilio ulloa perez ,  ulloa perez emilio\n",
      "lopez barriga erick ,  lopez barriga  erick\n",
      "alberto lopez rojas ,  lopez rojas alberto\n",
      "silvia oliva fragoso ,  oliva fragoso silvia\n",
      "v. luis sanchez jimenez ,  sanchez jimenez v. luis\n",
      "jesus evodio velazquez aguirre ,  velazquez aguirre jesus evodio\n",
      "gerardo villanueva albarran ,  villanueva albarran gerardo\n",
      "aguilar diego ,  aguilar  diego\n",
      "raul cervantes andrade ,  cervantes andrade raul\n",
      "aracely escalante jasso ,  escalante jasso aracely\n",
      "sergio gonzalez garcia ,  gonzalez garcia sergio\n",
      "rodrigo medina de la cruz ,  medina de la cruz rodrigo\n",
      "mario mendoza cortes ,  mendoza cortes mario\n",
      "fernando moctezuma pereda ,  moctezuma pereda fernando\n",
      "pedro montalvo gomez ,  montalvo gomez pedro\n",
      "murat jose ,  murat  jose\n",
      "jose amado orihuela trejo ,  orihuela trejo jose amado\n",
      "mayra gisela penuelas acuna ,  penuelas acuna mayra gisela\n",
      "jorge toledo luis ,  toledo luis jorge\n",
      "victor leopoldo valencia de los santos ,  valencia de los santos victor leopoldo\n",
      "maria oralia vega ortiz ,  vega ortiz maria oralia\n",
      "patricia villanueva abrajan ,  villanueva abrajan patricia\n",
      "layda elena sansores san roman ,  sansores san roman layda elena\n",
      "jorge emilio gonzalez martinez ,  gonzalez martinez jorge emilio\n",
      "sara isabel castellanos cortes ,  castellanos cortes sara isabel\n",
      "olga patricia chozas y chozas ,  chozas y chozas olga patricia\n",
      "ma. guadalupe josefina garcia noriega ,  garcia noriega ma. guadalupe josefina\n",
      "pilar guerrero rubio ,  guerrero rubio pilar\n",
      "erika larregui nagel ,  larregui nagel erika\n",
      "sergio augusto lopez ramirez ,  lopez ramirez sergio augusto\n",
      "ana teresa velazquez beeck ,  velazquez beeck ana teresa\n",
      "joaquin humberto vela gonzalez ,  vela gonzalez joaquin humberto\n",
      "davila esquivel humberto ,  davila  esquivel humberto\n",
      "miguel angel jimenez godinez ,  jimenez godinez miguel angel\n",
      "arriola monica ,  arriola  monica\n",
      "maria de jesus guerra sanchez ,  guerra sanchez maria de jesus\n",
      "erick marte rivera villanueva ,  rivera villanueva erick marte\n",
      "claudia gabriela caballero chavez ,  caballero chavez claudia gabriela\n",
      "maria de jesus martinez diaz ,  martinez diaz maria de jesus\n",
      "jesus gonzalez macias ,  gonzalez macias jesus\n",
      "teresa de jesus alcocer y gazca ,  alcocer y gazca teresa de jesus\n",
      "gloria maria perroni merino ,  perroni merino gloria maria\n",
      "jose luis cerrillo garnica ,  cerrillo garnica jose luis\n",
      "lopez balbuena guillermina ,  lopez  balbuena guillermina\n",
      "partida guzman martha rocio ,  partida  guzman martha rocio\n",
      "fernanda elvira villafranca aguirre ,  villafranca  aguirre fernanda elvira\n",
      "julian ezequiel reynoso esparza ,  reynoso esparza julian ezequiel\n",
      "secundino catarino crispin ,  catarino crispin secundino\n",
      "octavio adolfo klimek alcaraz ,  klimek alcaraz octavio adolfo\n",
      "efrain pena damacio ,  pena damacio efrain\n",
      "fidel antuna batista (sale de funciones) ,  antuna batista (sale de funciones) fidel\n",
      "sonia leslie del villar sosa ,  del villar sosa sonia leslie\n",
      "rodriguez luis alejandro ,  rodriguez  luis alejandro\n",
      "fortino carrillo sandoval ,  carrillo sandoval fortino\n",
      "salvador sanchez penuelas ,  sanchez penuelas salvador\n",
      "facundo gonzalez miranda ,  gonzalez miranda facundo\n",
      "rivero acosta miguel ,  rivero acosta miguel \n",
      "lucia beristain enriquez ,  beristain  enriquez lucia\n",
      "armando perez luna ,  perez luna armando\n",
      "martha angelica rubin davila ,  rubin davila martha angelica\n",
      "esveida bravo martinez ,  bravo martinez esveida\n",
      "maria eugenia patino sanchez ,  patino sanchez maria eugenia\n",
      "olivia veronica utrilla nieto ,  utrilla nieto olivia veronica\n",
      "alejandro velazquez lara ,  velazquez lara alejandro\n",
      "peraza valdez ismael ,  peraza  valdez ismael\n",
      "ma. magdalena rodriguez preciado ,  rodriguez preciado ma. magdalena\n",
      "erika galvan rivas ,  galvan rivas erika\n",
      "gabriela ortiz martinez de kores ,  ortiz martinez de kores gabriela\n",
      "raymundo escamilla gonzalez ,  escamilla gonzalez raymundo\n",
      "miriam gabriela cardenas de la torre ,  cardenas de la torre miriam gabriela\n",
      "mario franco valencia ,  franco valencia mario\n",
      "lopez espinosa patricia josefina ,  lopez  espinosa patricia josefina\n",
      "maria magdalena macedo dominguez ,  macedo dominguez maria magdalena\n",
      "maria del refugio martinez vazquez ,  martinez vazquez maria del refugio\n",
      "petra flores castaneda ,  flores castaneda petra\n",
      "maria del carmen carvajal adame ,  carvajal adame maria del carmen\n",
      "gloria garcia gonzalez ,  garcia gonzalez gloria\n",
      "hector arenas sanchez ,  arenas sanchez hector\n",
      "juan carlos barragan velez ,  barragan velez juan carlos\n",
      "antonio flores martinez ,  flores martinez antonio\n",
      "bulmaro guerrero cardenas ,  guerrero cardenas bulmaro\n",
      "alain ferrat mancera ,  ferrat  mancera alain\n"
     ]
    }
   ],
   "source": [
    "## Check Names\n",
    "for i in members60:\n",
    "    name = unidecode.unidecode(i.lower())\n",
    "    if name in mapping.keys():\n",
    "        continue\n",
    "    elif name == 'morelos borja maria esperanza':\n",
    "        continue\n",
    "    elif name == 'esteva salinas alberto':\n",
    "        continue\n",
    "    \n",
    "    else:\n",
    "        name_matched = process.extractOne(name, list(mapping.keys()))[0]\n",
    "        print(name_matched, ', ', name)"
   ]
  },
  {
   "cell_type": "code",
   "execution_count": null,
   "metadata": {},
   "outputs": [],
   "source": []
  },
  {
   "cell_type": "code",
   "execution_count": null,
   "metadata": {},
   "outputs": [],
   "source": [
    "missing_names = []\n",
    "\n",
    "for i in dict_votes:\n",
    "    name = unidecode.unidecode(i['member'].lower())\n",
    "    try:\n",
    "        if name == 'morelos borja maria esperanza':\n",
    "            i['id'] = ''\n",
    "        elif name == 'esteva salinas alberto':\n",
    "            i['id'] = ''\n",
    "        else:\n",
    "            i['id'] = mapping[name]\n",
    "    except:\n",
    "        try:\n",
    "            name_matched = process.extractOne(name, list(mapping.keys()))[0]\n",
    "            print(name_matched, ', ', name)\n",
    "            i['id'] = mapping[name_matched]\n",
    "        except:\n",
    "            if name not in missing_names:\n",
    "                missing_names.append(name)\n",
    "                i['id'] = ''\n",
    "            else:\n",
    "                continue"
   ]
  },
  {
   "cell_type": "code",
   "execution_count": null,
   "metadata": {},
   "outputs": [],
   "source": [
    "with open('/Users/cblanesg/cam.blanes Dropbox/Camila Blanes/Congressional-dataMX/data/02-roll_call_votes/02-roll_call_id/roll_call_dip60') as d:\n",
    "    json.dump(dict_votes, d)"
   ]
  },
  {
   "cell_type": "code",
   "execution_count": null,
   "metadata": {},
   "outputs": [],
   "source": []
  },
  {
   "cell_type": "code",
   "execution_count": null,
   "metadata": {},
   "outputs": [],
   "source": []
  },
  {
   "cell_type": "markdown",
   "metadata": {},
   "source": [
    "## Legislatura 64"
   ]
  },
  {
   "cell_type": "code",
   "execution_count": 41,
   "metadata": {},
   "outputs": [],
   "source": [
    "## Load ID data\n",
    "with open('/Users/cblanesg/cam.blanes Dropbox/Camila Blanes/Congressional-dataMX/data/00-id_data/00-id/id_legislatura64.json') as f:\n",
    "    data64 = json.load(f)"
   ]
  },
  {
   "cell_type": "code",
   "execution_count": 42,
   "metadata": {},
   "outputs": [
    {
     "data": {
      "text/plain": [
       "995"
      ]
     },
     "execution_count": 42,
     "metadata": {},
     "output_type": "execute_result"
    }
   ],
   "source": [
    "mapping64 = {}\n",
    "for i in data64:\n",
    "    if i['nombre_completo'] not in mapping64.keys():\n",
    "        mapping64[re.sub(' [(]licencia[)]', '', re.sub('^[ ]+', '', unidecode.unidecode(i['nombre_completo'].lower())))] = i['id_legislador']\n",
    "    else:\n",
    "        continue\n",
    "\n",
    "len(mapping64)"
   ]
  },
  {
   "cell_type": "code",
   "execution_count": 35,
   "metadata": {},
   "outputs": [],
   "source": [
    "## Load roll call\n",
    "votes64 = pd.read_csv('/Users/cblanesg/cam.blanes Dropbox/Camila Blanes/Congressional-dataMX/data/02-roll_call_votes/01-retreival/roll_call64.csv').drop(['Unnamed: 0'], axis= 1)"
   ]
  },
  {
   "cell_type": "code",
   "execution_count": 37,
   "metadata": {},
   "outputs": [],
   "source": [
    "dict_votes64 = []\n",
    "for a, b, c, d, e, f, g, h in zip(votes64.legislatura , votes64.year_session, \n",
    "                                 votes64.month_session , votes64.day_session, \n",
    "                                 votes64.member , votes64.party, \n",
    "                                 votes64.titulo_votacion , votes64.voto):\n",
    "    temp = {}\n",
    "    temp['legislatura'] = a\n",
    "    temp['year_session'] = b\n",
    "    temp['month_session'] = c\n",
    "    temp['day_session'] = d\n",
    "    temp['member'] = e\n",
    "    temp['party'] = f\n",
    "    temp['titulo_votacion'] = g\n",
    "    temp['voto'] = h\n",
    "    dict_votes64.append(temp)"
   ]
  },
  {
   "cell_type": "code",
   "execution_count": 43,
   "metadata": {},
   "outputs": [],
   "source": [
    "members64 = pd.DataFrame(dict_votes64).member.unique()"
   ]
  },
  {
   "cell_type": "code",
   "execution_count": 44,
   "metadata": {},
   "outputs": [
    {
     "data": {
      "text/plain": [
       "535"
      ]
     },
     "execution_count": 44,
     "metadata": {},
     "output_type": "execute_result"
    }
   ],
   "source": [
    "len(members64)"
   ]
  },
  {
   "cell_type": "code",
   "execution_count": 45,
   "metadata": {
    "scrolled": true
   },
   "outputs": [
    {
     "name": "stderr",
     "output_type": "stream",
     "text": [
      "  1%|▏         | 8/535 [00:01<01:29,  5.88it/s]"
     ]
    },
    {
     "name": "stdout",
     "output_type": "stream",
     "text": [
      "horacio duarte olivares ,  duarte olivares horacio\n"
     ]
    },
    {
     "name": "stderr",
     "output_type": "stream",
     "text": [
      "\r",
      "  4%|▍         | 23/535 [00:02<01:13,  6.99it/s]"
     ]
    },
    {
     "name": "stdout",
     "output_type": "stream",
     "text": [
      "adriana aguilar vazquez ,  aguilar vazquez adriana\n"
     ]
    },
    {
     "name": "stderr",
     "output_type": "stream",
     "text": [
      "\r",
      "  7%|▋         | 35/535 [00:05<01:24,  5.89it/s]"
     ]
    },
    {
     "name": "stdout",
     "output_type": "stream",
     "text": [
      "jose guillermo arechiga santamaria ,  arechiga santamaria jose guillermo\n"
     ]
    },
    {
     "name": "stderr",
     "output_type": "stream",
     "text": [
      "\r",
      "  7%|▋         | 40/535 [00:06<01:42,  4.83it/s]"
     ]
    },
    {
     "name": "stdout",
     "output_type": "stream",
     "text": [
      "marina del pilar avila olmeda ,  avila olmeda marina del pilar\n"
     ]
    },
    {
     "name": "stderr",
     "output_type": "stream",
     "text": [
      "\r",
      " 11%|█         | 59/535 [00:08<01:20,  5.89it/s]"
     ]
    },
    {
     "name": "stdout",
     "output_type": "stream",
     "text": [
      "miroslava carrillo martinez ,  carrillo martinez miroslava\n"
     ]
    },
    {
     "name": "stderr",
     "output_type": "stream",
     "text": [
      "\r",
      " 12%|█▏        | 62/535 [00:10<02:27,  3.22it/s]"
     ]
    },
    {
     "name": "stdout",
     "output_type": "stream",
     "text": [
      "javier julian castaneda pomposo ,  castaneda pomposo javier julian\n"
     ]
    },
    {
     "name": "stderr",
     "output_type": "stream",
     "text": [
      "\r",
      " 12%|█▏        | 65/535 [00:11<02:39,  2.95it/s]"
     ]
    },
    {
     "name": "stdout",
     "output_type": "stream",
     "text": [
      "cipriano charrez pedraza ,  charrez pedraza cipriano\n"
     ]
    },
    {
     "name": "stderr",
     "output_type": "stream",
     "text": [
      "\r",
      " 14%|█▎        | 73/535 [00:13<02:23,  3.21it/s]"
     ]
    },
    {
     "name": "stdout",
     "output_type": "stream",
     "text": [
      "lorena cuellar cisneros ,  cuellar cisneros lorena\n"
     ]
    },
    {
     "name": "stderr",
     "output_type": "stream",
     "text": [
      "\r",
      " 25%|██▍       | 132/535 [00:15<01:31,  4.43it/s]"
     ]
    },
    {
     "name": "stdout",
     "output_type": "stream",
     "text": [
      "juan carlos loera de la rosa ,  loera de la rosa juan carlos\n"
     ]
    },
    {
     "name": "stderr",
     "output_type": "stream",
     "text": [
      "\r",
      " 30%|██▉       | 160/535 [00:16<01:05,  5.69it/s]"
     ]
    },
    {
     "name": "stdout",
     "output_type": "stream",
     "text": [
      "jose jaime montes salas ,  montes salas jose jaime\n"
     ]
    },
    {
     "name": "stderr",
     "output_type": "stream",
     "text": [
      "\r",
      " 31%|███       | 164/535 [00:18<01:32,  3.99it/s]"
     ]
    },
    {
     "name": "stdout",
     "output_type": "stream",
     "text": [
      "flor ivone morales miranda ,  morales miranda flor ivone\n"
     ]
    },
    {
     "name": "stderr",
     "output_type": "stream",
     "text": [
      "\r",
      " 34%|███▎      | 180/535 [00:20<01:13,  4.85it/s]"
     ]
    },
    {
     "name": "stdout",
     "output_type": "stream",
     "text": [
      "humberto pedrero moreno ,  pedrero moreno humberto\n"
     ]
    },
    {
     "name": "stderr",
     "output_type": "stream",
     "text": [
      "\r",
      " 36%|███▌      | 190/535 [00:21<01:07,  5.09it/s]"
     ]
    },
    {
     "name": "stdout",
     "output_type": "stream",
     "text": [
      "alfonso ramirez cuellar ,  ramirez cuellar alfonso\n"
     ]
    },
    {
     "name": "stderr",
     "output_type": "stream",
     "text": [
      "\r",
      " 38%|███▊      | 203/535 [00:23<00:59,  5.60it/s]"
     ]
    },
    {
     "name": "stdout",
     "output_type": "stream",
     "text": [
      "zoe alejandro robledo aburto ,  robledo aburto zoe alejandro\n"
     ]
    },
    {
     "name": "stderr",
     "output_type": "stream",
     "text": [
      "\r",
      " 40%|███▉      | 213/535 [00:26<01:05,  4.91it/s]"
     ]
    },
    {
     "name": "stdout",
     "output_type": "stream",
     "text": [
      "maximiliano (deceso) ruiz arias ,  ruiz arias maximiliano (deceso)\n"
     ]
    },
    {
     "name": "stderr",
     "output_type": "stream",
     "text": [
      "\r",
      " 40%|████      | 215/535 [00:30<04:27,  1.19it/s]"
     ]
    },
    {
     "name": "stdout",
     "output_type": "stream",
     "text": [
      "ciro sales ruiz ,  sales ruiz ciro\n"
     ]
    },
    {
     "name": "stderr",
     "output_type": "stream",
     "text": [
      "\r",
      " 46%|████▌     | 247/535 [00:32<02:52,  1.67it/s]"
     ]
    },
    {
     "name": "stdout",
     "output_type": "stream",
     "text": [
      "alma marina vitela rodriguez ,  vitela rodriguez alma marina\n"
     ]
    },
    {
     "name": "stderr",
     "output_type": "stream",
     "text": [
      "\r",
      " 47%|████▋     | 249/535 [00:34<03:27,  1.38it/s]"
     ]
    },
    {
     "name": "stdout",
     "output_type": "stream",
     "text": [
      "indira vizcaino silva ,  vizcaino silva indira\n"
     ]
    },
    {
     "name": "stderr",
     "output_type": "stream",
     "text": [
      "\r",
      " 47%|████▋     | 250/535 [00:35<04:54,  1.03s/it]"
     ]
    },
    {
     "name": "stdout",
     "output_type": "stream",
     "text": [
      "xochitl nashielly zagal ramirez ,  zagal ramirez xochitl nashielly\n"
     ]
    },
    {
     "name": "stderr",
     "output_type": "stream",
     "text": [
      "\r",
      " 47%|████▋     | 253/535 [00:37<04:06,  1.14it/s]"
     ]
    },
    {
     "name": "stdout",
     "output_type": "stream",
     "text": [
      "pedro mario zenteno santaella ,  zenteno santaella pedro mario\n"
     ]
    },
    {
     "name": "stderr",
     "output_type": "stream",
     "text": [
      "\r",
      " 57%|█████▋    | 305/535 [00:39<02:23,  1.61it/s]"
     ]
    },
    {
     "name": "stdout",
     "output_type": "stream",
     "text": [
      "juan carlos munoz marquez ,  munoz marquez juan carlos\n"
     ]
    },
    {
     "name": "stderr",
     "output_type": "stream",
     "text": [
      "\r",
      " 72%|███████▏  | 385/535 [00:41<01:06,  2.24it/s]"
     ]
    },
    {
     "name": "stdout",
     "output_type": "stream",
     "text": [
      "lizeth sanchez garcia ,  sanchez garcia lizeth\n"
     ]
    },
    {
     "name": "stderr",
     "output_type": "stream",
     "text": [
      "\r",
      " 75%|███████▌  | 403/535 [00:44<00:47,  2.79it/s]"
     ]
    },
    {
     "name": "stdout",
     "output_type": "stream",
     "text": [
      "ana gabriela guevara espinoza ,  guevara espinoza ana gabriela\n"
     ]
    },
    {
     "name": "stderr",
     "output_type": "stream",
     "text": [
      "\r",
      " 80%|████████  | 429/535 [00:46<00:28,  3.71it/s]"
     ]
    },
    {
     "name": "stdout",
     "output_type": "stream",
     "text": [
      "alberto esquer gutierrez ,  esquer gutierrez alberto\n"
     ]
    },
    {
     "name": "stderr",
     "output_type": "stream",
     "text": [
      "\r",
      " 91%|█████████ | 488/535 [00:48<00:09,  4.99it/s]"
     ]
    },
    {
     "name": "stdout",
     "output_type": "stream",
     "text": [
      "jorge emilio gonzalez martinez ,  gonzalez martinez jorge emilio\n"
     ]
    },
    {
     "name": "stderr",
     "output_type": "stream",
     "text": [
      "\r",
      " 92%|█████████▏| 494/535 [00:49<00:08,  4.87it/s]"
     ]
    },
    {
     "name": "stdout",
     "output_type": "stream",
     "text": [
      "beatriz manrique guevara ,  manrique guevara beatriz\n"
     ]
    },
    {
     "name": "stderr",
     "output_type": "stream",
     "text": [
      "\r",
      " 94%|█████████▎| 501/535 [00:51<00:07,  4.66it/s]"
     ]
    },
    {
     "name": "stdout",
     "output_type": "stream",
     "text": [
      "laura leticia mendez reyes ,  mendez reyes laura leticia\n"
     ]
    },
    {
     "name": "stderr",
     "output_type": "stream",
     "text": [
      "\r",
      " 94%|█████████▍| 503/535 [00:53<00:12,  2.57it/s]"
     ]
    },
    {
     "name": "stdout",
     "output_type": "stream",
     "text": [
      "rogelio rayo martinez ,  rayo martinez rogelio\n"
     ]
    },
    {
     "name": "stderr",
     "output_type": "stream",
     "text": [
      "\r",
      " 96%|█████████▌| 513/535 [00:55<00:07,  2.94it/s]"
     ]
    },
    {
     "name": "stdout",
     "output_type": "stream",
     "text": [
      "mario enmanuel aragon castillo ,  aragon castillo mario enmanuel\n"
     ]
    },
    {
     "name": "stderr",
     "output_type": "stream",
     "text": [
      "\r",
      " 96%|█████████▌| 514/535 [00:57<00:17,  1.22it/s]"
     ]
    },
    {
     "name": "stdout",
     "output_type": "stream",
     "text": [
      "cecilia sofia robledo suarez ,  robledo suarez cecilia sofia\n"
     ]
    },
    {
     "name": "stderr",
     "output_type": "stream",
     "text": [
      "\r",
      " 96%|█████████▋| 515/535 [00:58<00:22,  1.11s/it]"
     ]
    },
    {
     "name": "stdout",
     "output_type": "stream",
     "text": [
      "adrian sanchez ramiro ,  sanchez ramiro adrian\n"
     ]
    },
    {
     "name": "stderr",
     "output_type": "stream",
     "text": [
      "\r",
      " 96%|█████████▋| 516/535 [01:00<00:23,  1.23s/it]"
     ]
    },
    {
     "name": "stdout",
     "output_type": "stream",
     "text": [
      "eudoxio morales flores ,  morales flores eudoxio\n"
     ]
    },
    {
     "name": "stderr",
     "output_type": "stream",
     "text": [
      "\r",
      " 97%|█████████▋| 517/535 [01:02<00:23,  1.32s/it]"
     ]
    },
    {
     "name": "stdout",
     "output_type": "stream",
     "text": [
      "edmundo martinez zaleta ,  martinez zaleta edmundo\n"
     ]
    },
    {
     "name": "stderr",
     "output_type": "stream",
     "text": [
      "\r",
      " 97%|█████████▋| 520/535 [01:02<00:14,  1.00it/s]"
     ]
    },
    {
     "name": "stdout",
     "output_type": "stream",
     "text": [
      "irasema aquino gonzalez ,  aquino gonzalez irasema\n"
     ]
    },
    {
     "name": "stderr",
     "output_type": "stream",
     "text": [
      "100%|██████████| 535/535 [01:04<00:00,  8.34it/s]"
     ]
    },
    {
     "name": "stdout",
     "output_type": "stream",
     "text": [
      "armando aviles garcia ,  aviles garcia armando\n"
     ]
    },
    {
     "name": "stderr",
     "output_type": "stream",
     "text": [
      "\n"
     ]
    }
   ],
   "source": [
    "## Check Names\n",
    "for i in tqdm(members64):\n",
    "    name = unidecode.unidecode(i.lower())\n",
    "    if name in mapping64.keys():\n",
    "        continue\n",
    "    else:\n",
    "        name_matched = process.extractOne(name, list(mapping64.keys()))[0]\n",
    "        print(name_matched, ', ', name)"
   ]
  },
  {
   "cell_type": "code",
   "execution_count": null,
   "metadata": {},
   "outputs": [],
   "source": [
    "missing_names = []\n",
    "\n",
    "for i in tqdm(dict_votes64):\n",
    "    name = unidecode.unidecode(i['member'].lower())\n",
    "    try:\n",
    "        i['id'] = mapping64[name]\n",
    "    except:\n",
    "        try:\n",
    "            name_matched = process.extractOne(name, list(mapping64.keys()))[0]\n",
    "            #print(name_matched, ', ', name)\n",
    "            i['id'] = mapping64[name_matched]\n",
    "        except:\n",
    "            if name not in missing_names:\n",
    "                missing_names.append(name)\n",
    "                i['id'] = ''\n",
    "            else:\n",
    "                continue"
   ]
  },
  {
   "cell_type": "code",
   "execution_count": null,
   "metadata": {},
   "outputs": [],
   "source": [
    "with open('/Users/cblanesg/cam.blanes Dropbox/Camila Blanes/Congressional-dataMX/data/02-roll_call_votes/02-roll_call_id/roll_call_dip64') as d:\n",
    "    json.dump(dict_votes64, d)"
   ]
  },
  {
   "cell_type": "code",
   "execution_count": null,
   "metadata": {},
   "outputs": [],
   "source": []
  },
  {
   "cell_type": "code",
   "execution_count": null,
   "metadata": {},
   "outputs": [],
   "source": []
  },
  {
   "cell_type": "markdown",
   "metadata": {},
   "source": [
    "## Legislatura 63"
   ]
  },
  {
   "cell_type": "code",
   "execution_count": 47,
   "metadata": {},
   "outputs": [],
   "source": [
    "## Load ID data\n",
    "with open('/Users/cblanesg/cam.blanes Dropbox/Camila Blanes/Congressional-dataMX/data/00-id_data/00-id/id_legislatura63.json') as f:\n",
    "    data63 = json.load(f)"
   ]
  },
  {
   "cell_type": "code",
   "execution_count": 48,
   "metadata": {},
   "outputs": [
    {
     "data": {
      "text/plain": [
       "1000"
      ]
     },
     "execution_count": 48,
     "metadata": {},
     "output_type": "execute_result"
    }
   ],
   "source": [
    "mapping63 = {}\n",
    "for i in data63:\n",
    "    if i['nombre_completo'] not in mapping63.keys():\n",
    "        mapping63[re.sub(' [(]licencia[)]', '', re.sub('^[ ]+', '', unidecode.unidecode(i['nombre_completo'].lower())))] = i['id_legislador']\n",
    "    else:\n",
    "        continue\n",
    "\n",
    "len(mapping63)"
   ]
  },
  {
   "cell_type": "code",
   "execution_count": 49,
   "metadata": {},
   "outputs": [],
   "source": [
    "## Load roll call\n",
    "votes63 = pd.read_csv('/Users/cblanesg/cam.blanes Dropbox/Camila Blanes/Congressional-dataMX/data/02-roll_call_votes/01-retreival/roll_call63.csv').drop(['Unnamed: 0'], axis= 1)"
   ]
  },
  {
   "cell_type": "code",
   "execution_count": 50,
   "metadata": {},
   "outputs": [],
   "source": [
    "dict_votes63 = []\n",
    "for a, b, c, d, e, f, g, h in zip(votes63.legislatura , votes63.year_session, \n",
    "                                 votes63.month_session , votes63.day_session, \n",
    "                                 votes63.member , votes63.party, \n",
    "                                 votes63.titulo_votacion , votes63.voto):\n",
    "    temp = {}\n",
    "    temp['legislatura'] = a\n",
    "    temp['year_session'] = b\n",
    "    temp['month_session'] = c\n",
    "    temp['day_session'] = d\n",
    "    temp['member'] = e\n",
    "    temp['party'] = f\n",
    "    temp['titulo_votacion'] = g\n",
    "    temp['voto'] = h\n",
    "    dict_votes63.append(temp)"
   ]
  },
  {
   "cell_type": "code",
   "execution_count": 51,
   "metadata": {},
   "outputs": [],
   "source": [
    "members63 = pd.DataFrame(dict_votes63).member.unique()"
   ]
  },
  {
   "cell_type": "code",
   "execution_count": 52,
   "metadata": {},
   "outputs": [
    {
     "data": {
      "text/plain": [
       "667"
      ]
     },
     "execution_count": 52,
     "metadata": {},
     "output_type": "execute_result"
    }
   ],
   "source": [
    "len(members63)"
   ]
  },
  {
   "cell_type": "code",
   "execution_count": null,
   "metadata": {},
   "outputs": [
    {
     "name": "stderr",
     "output_type": "stream",
     "text": [
      "  1%|          | 2001/349833 [08:54<217:21:30,  2.25s/it]"
     ]
    }
   ],
   "source": [
    "missing_names = []\n",
    "\n",
    "for i in tqdm(dict_votes63):\n",
    "    name = unidecode.unidecode(i['member'].lower())\n",
    "    try:\n",
    "        if name == 'yunes linares miguel angel':\n",
    "            i['id'] = ''\n",
    "        elif name == 'zenteno nunez eduardo francisco':\n",
    "            i['id'] = ''\n",
    "        elif name == 'gonzalez murillo alejandro':\n",
    "            i['id'] = ''\n",
    "        elif name == 'campa almaral carmen victoria':\n",
    "            i['id'] = ''\n",
    "        else:\n",
    "            i['id'] = mapping63[name]\n",
    "    except:\n",
    "        try:\n",
    "            name_matched = process.extractOne(name, list(mapping63.keys()))[0]\n",
    "            #print(name_matched, ', ', name)\n",
    "            i['id'] = mapping63[name_matched]\n",
    "        except:\n",
    "            if name not in missing_names:\n",
    "                missing_names.append(name)\n",
    "                i['id'] = ''\n",
    "            else:\n",
    "                continue"
   ]
  },
  {
   "cell_type": "code",
   "execution_count": null,
   "metadata": {},
   "outputs": [],
   "source": [
    "with open('/Users/cblanesg/cam.blanes Dropbox/Camila Blanes/Congressional-dataMX/data/02-roll_call_votes/02-roll_call_id/roll_call_dip63') as d:\n",
    "    json.dump(dict_votes63, d)"
   ]
  },
  {
   "cell_type": "code",
   "execution_count": null,
   "metadata": {},
   "outputs": [],
   "source": []
  }
 ],
 "metadata": {
  "kernelspec": {
   "display_name": "Python 3",
   "language": "python",
   "name": "python3"
  },
  "language_info": {
   "codemirror_mode": {
    "name": "ipython",
    "version": 3
   },
   "file_extension": ".py",
   "mimetype": "text/x-python",
   "name": "python",
   "nbconvert_exporter": "python",
   "pygments_lexer": "ipython3",
   "version": "3.8.3"
  }
 },
 "nbformat": 4,
 "nbformat_minor": 4
}
