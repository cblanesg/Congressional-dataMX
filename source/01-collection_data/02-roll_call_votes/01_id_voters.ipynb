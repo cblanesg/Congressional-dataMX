{
 "cells": [
  {
   "cell_type": "code",
   "execution_count": 6,
   "metadata": {},
   "outputs": [],
   "source": [
    "import json\n",
    "import unidecode\n",
    "import re\n",
    "import pandas as pd\n",
    "from fuzzywuzzy import process\n",
    "from tqdm import tqdm"
   ]
  },
  {
   "cell_type": "markdown",
   "metadata": {},
   "source": [
    "## Legislatura 64"
   ]
  },
  {
   "cell_type": "code",
   "execution_count": 35,
   "metadata": {},
   "outputs": [],
   "source": [
    "## Load ID data\n",
    "with open('/Users/cblanesg/cam.blanes Dropbox/Camila Blanes/Congressional-dataMX/data/00-id_data/00-id/id_legislatura60.json') as f:\n",
    "    data64 = json.load(f)"
   ]
  },
  {
   "cell_type": "code",
   "execution_count": 36,
   "metadata": {},
   "outputs": [
    {
     "data": {
      "text/plain": [
       "1000"
      ]
     },
     "execution_count": 36,
     "metadata": {},
     "output_type": "execute_result"
    }
   ],
   "source": [
    "mapping64 = {}\n",
    "for i in data64:\n",
    "    if i['nombre_completo'] not in mapping64.keys():\n",
    "        mapping64[re.sub(' [(]licencia[)]', '', re.sub('^[ ]+', '', unidecode.unidecode(i['nombre_completo'].lower())))] = i['id_legislador']\n",
    "    else:\n",
    "        continue\n",
    "\n",
    "len(mapping64)"
   ]
  },
  {
   "cell_type": "code",
   "execution_count": 37,
   "metadata": {},
   "outputs": [],
   "source": [
    "## Load roll call\n",
    "votes64 = pd.read_csv('/Users/cblanesg/cam.blanes Dropbox/Camila Blanes/Congressional-dataMX/data/02-roll_call_votes/01-raw/roll_call60.csv').drop(['Unnamed: 0'], axis= 1)"
   ]
  },
  {
   "cell_type": "code",
   "execution_count": 38,
   "metadata": {},
   "outputs": [],
   "source": [
    "dict_votes64 = []\n",
    "for a, b, c, d, e, f, g, h in zip(votes64.legislatura , votes64.year_session, \n",
    "                                 votes64.month_session , votes64.day_session, \n",
    "                                 votes64.member , votes64.party, \n",
    "                                 votes64.titulo_votacion , votes64.voto):\n",
    "    temp = {}\n",
    "    temp['legislatura'] = a\n",
    "    temp['year_session'] = b\n",
    "    temp['month_session'] = c\n",
    "    temp['day_session'] = d\n",
    "    temp['member'] = e\n",
    "    temp['party'] = f\n",
    "    temp['titulo_votacion'] = g\n",
    "    temp['voto'] = h\n",
    "    dict_votes64.append(temp)"
   ]
  },
  {
   "cell_type": "code",
   "execution_count": 39,
   "metadata": {},
   "outputs": [],
   "source": [
    "members64 = pd.DataFrame(dict_votes64).member.unique()"
   ]
  },
  {
   "cell_type": "code",
   "execution_count": 40,
   "metadata": {},
   "outputs": [
    {
     "data": {
      "text/plain": [
       "598"
      ]
     },
     "execution_count": 40,
     "metadata": {},
     "output_type": "execute_result"
    }
   ],
   "source": [
    "len(members64)"
   ]
  },
  {
   "cell_type": "code",
   "execution_count": 41,
   "metadata": {},
   "outputs": [
    {
     "name": "stderr",
     "output_type": "stream",
     "text": [
      " 23%|██▎       | 138/598 [01:11<05:51,  1.31it/s]"
     ]
    },
    {
     "name": "stdout",
     "output_type": "stream",
     "text": [
      "almonte borja ramon ,  morelos borja maria esperanza   :  86\n"
     ]
    },
    {
     "name": "stderr",
     "output_type": "stream",
     "text": [
      " 74%|███████▍  | 442/598 [03:26<03:20,  1.29s/it]"
     ]
    },
    {
     "name": "stdout",
     "output_type": "stream",
     "text": [
      "rubio chavez jose ignacio alberto ,  esteva salinas alberto   :  86\n"
     ]
    },
    {
     "name": "stderr",
     "output_type": "stream",
     "text": [
      "100%|██████████| 598/598 [07:22<00:00,  1.35it/s]\n"
     ]
    }
   ],
   "source": [
    "mapping_names = {}\n",
    "for i in tqdm(members64):\n",
    "    name = unidecode.unidecode(i.lower())\n",
    "    if name in mapping64.keys():\n",
    "        continue\n",
    "    else:\n",
    "        name_matched, ratio = process.extractOne(name, list(mapping64.keys()))\n",
    "        if ratio < 90:\n",
    "            print(name_matched, ', ', name, '  : ', ratio)\n",
    "        else:\n",
    "            mapping_names[name] = name_matched"
   ]
  },
  {
   "cell_type": "code",
   "execution_count": 42,
   "metadata": {},
   "outputs": [],
   "source": [
    "missing_names = []\n",
    "\n",
    "for i in dict_votes64:\n",
    "    name = unidecode.unidecode(i['member'].lower())\n",
    "    try:\n",
    "        i['id'] = mapping64[name]\n",
    "    except:\n",
    "        try:\n",
    "            matched_name = mapping_names[name]\n",
    "            i['id'] = mapping64[matched_name]\n",
    "        except:\n",
    "            i['id'] = ''\n",
    "            if name not in missing_names:\n",
    "                missing_names.append(name)\n",
    "            else:\n",
    "                continue"
   ]
  },
  {
   "cell_type": "code",
   "execution_count": 43,
   "metadata": {},
   "outputs": [],
   "source": [
    "with open('/Users/cblanesg/cam.blanes Dropbox/Camila Blanes/Congressional-dataMX/data/02-roll_call_votes/02-id_votes/roll_call_dip60.json', 'w') as d:\n",
    "    json.dump(dict_votes64, d)"
   ]
  },
  {
   "cell_type": "code",
   "execution_count": null,
   "metadata": {},
   "outputs": [],
   "source": []
  },
  {
   "cell_type": "code",
   "execution_count": 15,
   "metadata": {},
   "outputs": [
    {
     "name": "stderr",
     "output_type": "stream",
     "text": [
      "100%|██████████| 173455/173455 [3:00:26<00:00, 16.02it/s]   \n"
     ]
    }
   ],
   "source": [
    "missing_names = []\n",
    "\n",
    "for i in tqdm(dict_votes64):\n",
    "    name = unidecode.unidecode(i['member'].lower())\n",
    "    try:\n",
    "        i['id'] = mapping64[name]\n",
    "    except:\n",
    "        try:\n",
    "            name_matched, ratio = process.extractOne(name, list(mapping64.keys()))\n",
    "            if ratio < 90:\n",
    "                print(name_matched, ', ', name, ' :  ', ratio)\n",
    "                i['id'] = ''\n",
    "            else:\n",
    "                i['id'] = mapping64[name_matched]\n",
    "        except:\n",
    "            if name not in missing_names:\n",
    "                missing_names.append(name)\n",
    "                i['id'] = ''\n",
    "            else:\n",
    "                continue"
   ]
  },
  {
   "cell_type": "code",
   "execution_count": 16,
   "metadata": {},
   "outputs": [
    {
     "ename": "FileNotFoundError",
     "evalue": "[Errno 2] No such file or directory: '/Users/cblanesg/cam.blanes Dropbox/Camila Blanes/Congressional-dataMX/data/02-id_votes/roll_call_dip64.json'",
     "output_type": "error",
     "traceback": [
      "\u001b[0;31m---------------------------------------------------------------------------\u001b[0m",
      "\u001b[0;31mFileNotFoundError\u001b[0m                         Traceback (most recent call last)",
      "\u001b[0;32m<ipython-input-16-77dfb795155f>\u001b[0m in \u001b[0;36m<module>\u001b[0;34m\u001b[0m\n\u001b[0;32m----> 1\u001b[0;31m \u001b[0;32mwith\u001b[0m \u001b[0mopen\u001b[0m\u001b[0;34m(\u001b[0m\u001b[0;34m'/Users/cblanesg/cam.blanes Dropbox/Camila Blanes/Congressional-dataMX/data/02-id_votes/roll_call_dip64.json'\u001b[0m\u001b[0;34m)\u001b[0m \u001b[0;32mas\u001b[0m \u001b[0md\u001b[0m\u001b[0;34m:\u001b[0m\u001b[0;34m\u001b[0m\u001b[0;34m\u001b[0m\u001b[0m\n\u001b[0m\u001b[1;32m      2\u001b[0m     \u001b[0mjson\u001b[0m\u001b[0;34m.\u001b[0m\u001b[0mdump\u001b[0m\u001b[0;34m(\u001b[0m\u001b[0mdict_votes64\u001b[0m\u001b[0;34m,\u001b[0m \u001b[0md\u001b[0m\u001b[0;34m)\u001b[0m\u001b[0;34m\u001b[0m\u001b[0;34m\u001b[0m\u001b[0m\n",
      "\u001b[0;31mFileNotFoundError\u001b[0m: [Errno 2] No such file or directory: '/Users/cblanesg/cam.blanes Dropbox/Camila Blanes/Congressional-dataMX/data/02-id_votes/roll_call_dip64.json'"
     ]
    }
   ],
   "source": [
    "with open('/Users/cblanesg/cam.blanes Dropbox/Camila Blanes/Congressional-dataMX/data/02-id_votes/roll_call_dip64.json') as d:\n",
    "    json.dump(dict_votes64, d)"
   ]
  },
  {
   "cell_type": "markdown",
   "metadata": {},
   "source": [
    "## Legislatura 62"
   ]
  },
  {
   "cell_type": "code",
   "execution_count": null,
   "metadata": {},
   "outputs": [],
   "source": [
    "## Load ID data\n",
    "with open('/Users/cblanesg/cam.blanes Dropbox/Camila Blanes/Congressional-dataMX/data/00-id_data/00-id/id_legislatura62.json') as f:\n",
    "    data63 = json.load(f)"
   ]
  },
  {
   "cell_type": "code",
   "execution_count": null,
   "metadata": {},
   "outputs": [],
   "source": [
    "mapping63 = {}\n",
    "for i in data63:\n",
    "    if i['nombre_completo'] not in mapping63.keys():\n",
    "        mapping63[re.sub(' [(]licencia[)]', '', re.sub('^[ ]+', '', unidecode.unidecode(i['nombre_completo'].lower())))] = i['id_legislador']\n",
    "    else:\n",
    "        continue\n",
    "\n",
    "len(mapping63)"
   ]
  },
  {
   "cell_type": "code",
   "execution_count": null,
   "metadata": {},
   "outputs": [],
   "source": [
    "## Load roll call\n",
    "votes63 = pd.read_csv('/Users/cblanesg/cam.blanes Dropbox/Camila Blanes/Congressional-dataMX/data/02-roll_call_votes/01-retreival/roll_call62.csv').drop(['Unnamed: 0'], axis= 1)"
   ]
  },
  {
   "cell_type": "code",
   "execution_count": null,
   "metadata": {},
   "outputs": [],
   "source": [
    "dict_votes63 = []\n",
    "for a, b, c, d, e, f, g, h in zip(votes63.legislatura , votes63.year_session, \n",
    "                                 votes63.month_session , votes63.day_session, \n",
    "                                 votes63.member , votes63.party, \n",
    "                                 votes63.titulo_votacion , votes63.voto):\n",
    "    temp = {}\n",
    "    temp['legislatura'] = a\n",
    "    temp['year_session'] = b\n",
    "    temp['month_session'] = c\n",
    "    temp['day_session'] = d\n",
    "    temp['member'] = e\n",
    "    temp['party'] = f\n",
    "    temp['titulo_votacion'] = g\n",
    "    temp['voto'] = h\n",
    "    dict_votes63.append(temp)"
   ]
  },
  {
   "cell_type": "code",
   "execution_count": null,
   "metadata": {},
   "outputs": [],
   "source": [
    "members63 = pd.DataFrame(dict_votes63).member.unique()"
   ]
  },
  {
   "cell_type": "code",
   "execution_count": null,
   "metadata": {},
   "outputs": [],
   "source": [
    "len(members63)"
   ]
  },
  {
   "cell_type": "code",
   "execution_count": null,
   "metadata": {},
   "outputs": [],
   "source": [
    "for i in members63:\n",
    "    name = unidecode.unidecode(i.lower())\n",
    "    if name in mapping63.keys():\n",
    "        continue\n",
    "    else:\n",
    "        name_matched, ratio = process.extractOne(name, list(mapping63.keys()))\n",
    "        if ratio < 90:\n",
    "            print(name_matched, ', ', name, '  : ', ratio)\n",
    "        else:\n",
    "            continue"
   ]
  },
  {
   "cell_type": "code",
   "execution_count": null,
   "metadata": {},
   "outputs": [],
   "source": [
    "missing_names = []\n",
    "\n",
    "for i in tqdm(dict_votes63):\n",
    "    name = unidecode.unidecode(i['member'].lower())\n",
    "    try:\n",
    "        if name == 'yunes linares miguel angel':\n",
    "            i['id'] = ''\n",
    "        elif name == 'zenteno nunez eduardo francisco':\n",
    "            i['id'] = ''\n",
    "        elif name == 'gonzalez murillo alejandro':\n",
    "            i['id'] = ''\n",
    "        elif name == 'campa almaral carmen victoria':\n",
    "            i['id'] = ''\n",
    "        else:\n",
    "            i['id'] = mapping63[name]\n",
    "    except:\n",
    "        try:\n",
    "            name_matched, ratio = process.extractOne(name, list(mapping63.keys()))\n",
    "            if ratio < 90:\n",
    "                \n",
    "                print(name_matched, ', ', name, '  : ', ratio)\n",
    "            else:\n",
    "                i['id'] = mapping63[name_matched]\n",
    "        except:\n",
    "            if name not in missing_names:\n",
    "                missing_names.append(name)\n",
    "                i['id'] = ''\n",
    "            else:\n",
    "                continue"
   ]
  },
  {
   "cell_type": "code",
   "execution_count": null,
   "metadata": {},
   "outputs": [],
   "source": [
    "with open('/Users/cblanesg/cam.blanes Dropbox/Camila Blanes/Congressional-dataMX/data/02-roll_call_votes/02-roll_call_id/roll_call_dip63', 'w') as d:\n",
    "    json.dump(dict_votes63, d)"
   ]
  },
  {
   "cell_type": "code",
   "execution_count": null,
   "metadata": {},
   "outputs": [],
   "source": []
  }
 ],
 "metadata": {
  "kernelspec": {
   "display_name": "Python 3",
   "language": "python",
   "name": "python3"
  },
  "language_info": {
   "codemirror_mode": {
    "name": "ipython",
    "version": 3
   },
   "file_extension": ".py",
   "mimetype": "text/x-python",
   "name": "python",
   "nbconvert_exporter": "python",
   "pygments_lexer": "ipython3",
   "version": "3.8.3"
  }
 },
 "nbformat": 4,
 "nbformat_minor": 4
}
