{
 "cells": [
  {
   "cell_type": "code",
   "execution_count": 2,
   "metadata": {},
   "outputs": [],
   "source": [
    "import requests\n",
    "from bs4 import BeautifulSoup\n",
    "import re\n",
    "from tqdm import tqdm\n",
    "import json\n",
    "import unidecode\n",
    "import pandas as pd\n",
    "import unidecode"
   ]
  },
  {
   "cell_type": "code",
   "execution_count": null,
   "metadata": {},
   "outputs": [],
   "source": [
    "links = ['http://sitl.diputados.gob.mx/LXIV_leg/cuadro_genero.php', ]\n"
   ]
  },
  {
   "cell_type": "code",
   "execution_count": null,
   "metadata": {},
   "outputs": [],
   "source": [
    "r = requests.get(links[0])\n",
    "soup = BeautifulSoup(r.content, 'html.parser')"
   ]
  },
  {
   "cell_type": "code",
   "execution_count": null,
   "metadata": {
    "scrolled": true
   },
   "outputs": [],
   "source": [
    "links_gender = []\n",
    "for i in soup.findAll('a'):\n",
    "    if any(re.findall('listado_diputados_genero', i.get('href'))):\n",
    "        if any(re.findall('tipoelect', i.get('href'))):\n",
    "            link = 'http://sitl.diputados.gob.mx/LXIV_leg/' + i.get('href')\n",
    "            if link not in links_gender:\n",
    "                links_gender.append(link)\n",
    "    \n",
    "        else:\n",
    "            continue\n",
    "    "
   ]
  },
  {
   "cell_type": "code",
   "execution_count": null,
   "metadata": {},
   "outputs": [],
   "source": [
    "len(links_gender)"
   ]
  },
  {
   "cell_type": "code",
   "execution_count": null,
   "metadata": {},
   "outputs": [],
   "source": [
    "links_gender[0].split('generot=')[1].split('&')[0]"
   ]
  },
  {
   "cell_type": "code",
   "execution_count": null,
   "metadata": {},
   "outputs": [],
   "source": [
    "def get_list_gender(link):\n",
    "    r = requests.get(link)\n",
    "    soup = BeautifulSoup(r.content, 'html.parser')\n",
    "\n",
    "    list_gender = []\n",
    "    gender = link.split('generot=')[1].split('&')[0]\n",
    "    \n",
    "    names = []\n",
    "    for i in soup.findAll('a'):\n",
    "        if any(re.findall('curricula', i.get('href'))):\n",
    "            names.append(i.text)\n",
    "            \n",
    "    if gender == '0':\n",
    "        for i in names:\n",
    "            list_gender.append('M')\n",
    "    elif gender == '-1':\n",
    "        for i in names:\n",
    "            list_gender.append('H')\n",
    "    return(names, list_gender)"
   ]
  },
  {
   "cell_type": "code",
   "execution_count": null,
   "metadata": {
    "scrolled": true
   },
   "outputs": [],
   "source": [
    "mapping_gender = {}\n",
    "for i in tqdm(links_gender):\n",
    "    names, gen = get_list_gender(i)\n",
    "    for x, y in zip(names, gen):\n",
    "        mapping_gender[unidecode.unidecode(x)] = y"
   ]
  },
  {
   "cell_type": "code",
   "execution_count": null,
   "metadata": {},
   "outputs": [],
   "source": [
    "len(mapping_gender.keys())"
   ]
  },
  {
   "cell_type": "code",
   "execution_count": null,
   "metadata": {},
   "outputs": [],
   "source": [
    "with open('/Users/cblanesg/cam.blanes Dropbox/Camila Blanes/Congressional-dataMX/data/01-collection_data/00-id_data/03-gender/mapping_gender64.json', 'w') as file:\n",
    "    json.dump(mapping_gender, file)"
   ]
  },
  {
   "cell_type": "markdown",
   "metadata": {},
   "source": [
    "## Gender for other Legislaturas"
   ]
  },
  {
   "cell_type": "code",
   "execution_count": 33,
   "metadata": {},
   "outputs": [],
   "source": [
    "r = requests.get('https://api.genderize.io?name=camila')\n",
    "dict_ = r.content"
   ]
  },
  {
   "cell_type": "code",
   "execution_count": 3,
   "metadata": {},
   "outputs": [],
   "source": [
    "from genderize import Genderize"
   ]
  },
  {
   "cell_type": "code",
   "execution_count": 55,
   "metadata": {},
   "outputs": [],
   "source": [
    "response = Genderize().get(['Constantino'])"
   ]
  },
  {
   "cell_type": "code",
   "execution_count": 56,
   "metadata": {},
   "outputs": [
    {
     "data": {
      "text/plain": [
       "[{'name': 'Constantino', 'gender': 'male', 'probability': 0.98, 'count': 917}]"
      ]
     },
     "execution_count": 56,
     "metadata": {},
     "output_type": "execute_result"
    }
   ],
   "source": [
    "response"
   ]
  },
  {
   "cell_type": "code",
   "execution_count": 26,
   "metadata": {},
   "outputs": [],
   "source": [
    "import os \n",
    "from os import listdir"
   ]
  },
  {
   "cell_type": "code",
   "execution_count": null,
   "metadata": {},
   "outputs": [],
   "source": [
    "path = '/Users/cblanesg/cam.blanes Dropbox/Camila Blanes/Congressional-dataMX/data/01-collection_data/00-id_data/00-id/'\n",
    "\n",
    "all_data = []\n",
    "for i in listdir(path):\n",
    "    if i == 'id_legislatura64.json':\n",
    "        continue\n",
    "    else:\n",
    "        with open(path + i) as file:\n",
    "            all_data.append()"
   ]
  },
  {
   "cell_type": "code",
   "execution_count": 44,
   "metadata": {},
   "outputs": [],
   "source": [
    "all_data = []\n",
    "with open('/Users/cblanesg/cam.blanes Dropbox/Camila Blanes/Congressional-dataMX/data/01-collection_data/00-id_data/00-id/id_legislatura60.json') as file:\n",
    "    data = json.load(file)"
   ]
  },
  {
   "cell_type": "code",
   "execution_count": 46,
   "metadata": {},
   "outputs": [],
   "source": [
    "data60_p = []\n",
    "for i in data:\n",
    "    if i['suplente_propietario'] == 'P':\n",
    "        data60_p.append(i)"
   ]
  },
  {
   "cell_type": "code",
   "execution_count": 57,
   "metadata": {},
   "outputs": [
    {
     "data": {
      "text/plain": [
       "500"
      ]
     },
     "execution_count": 57,
     "metadata": {},
     "output_type": "execute_result"
    }
   ],
   "source": [
    "len(data60_p)"
   ]
  },
  {
   "cell_type": "code",
   "execution_count": 100,
   "metadata": {},
   "outputs": [],
   "source": [
    "id_s = []\n",
    "for i in data60_p:\n",
    "    id_s.append(i['id_legislador'])"
   ]
  },
  {
   "cell_type": "code",
   "execution_count": 79,
   "metadata": {},
   "outputs": [
    {
     "name": "stderr",
     "output_type": "stream",
     "text": [
      "100%|██████████| 500/500 [03:22<00:00,  2.46it/s]\n"
     ]
    }
   ],
   "source": [
    "mapping_names_gender = {}\n",
    "for i in tqdm(data60_p):\n",
    "    name = i['nombre_completo']\n",
    "    name = re.sub(' [(]LICENCIA[)]', '', name)\n",
    "    if name == ' V. Luis Sánchez Jiménez':\n",
    "        pila = 'Luis'\n",
    "        mapping_names_gender[i['nombre_completo']] = Genderize().get([pila])\n",
    "    elif name == ' Ma. Guadalupe Josefina García Noriega':\n",
    "        pila = 'Maria'\n",
    "        mapping_names_gender[i['nombre_completo']] = Genderize().get([pila])\n",
    "    elif any(re.findall('^[ ]', name)):\n",
    "        pila = name.split(' ')[1]\n",
    "        mapping_names_gender[i['nombre_completo']] = Genderize().get([pila])\n",
    "    elif name == 'Magallón Arceo Leonardo Melesio de J.':\n",
    "        pila = 'Leonardo'\n",
    "        mapping_names_gender[i['nombre_completo']] = Genderize().get([pila])\n",
    "    elif name == 'Noriega Blanco Vigil Ma. Elena de las N.':\n",
    "        pila = 'Elena'\n",
    "        mapping_names_gender[i['nombre_completo']] = Genderize().get([pila])\n",
    "    elif name == 'Castillo Romero Patricia Obdulia de Jesús':\n",
    "        pila = 'Patricia'\n",
    "        mapping_names_gender[i['nombre_completo']] = Genderize().get([pila])\n",
    "\n",
    "    else:\n",
    "        pila = name.split(' ')[-1:][0]\n",
    "        mapping_names_gender[i['nombre_completo']] = Genderize().get([pila])"
   ]
  },
  {
   "cell_type": "code",
   "execution_count": 87,
   "metadata": {},
   "outputs": [
    {
     "data": {
      "text/plain": [
       "'male'"
      ]
     },
     "execution_count": 87,
     "metadata": {},
     "output_type": "execute_result"
    }
   ],
   "source": [
    "mapping_names_gender['Castaño Contreras Cristián'][0]['gender']"
   ]
  },
  {
   "cell_type": "code",
   "execution_count": 90,
   "metadata": {},
   "outputs": [
    {
     "name": "stdout",
     "output_type": "stream",
     "text": [
      " Efraín Arizmendi Uribe [{'name': 'Efraín', 'gender': None, 'probability': 0.0, 'count': 0}]\n",
      "Alcaraz Hernández Alma Edwviges (LICENCIA) [{'name': 'Edwviges', 'gender': None, 'probability': 0.0, 'count': 0}]\n",
      "Arredondo Velázquez Jesús [{'name': 'Jesús', 'gender': None, 'probability': 0.0, 'count': 0}]\n",
      "Bello Pérez Alfonso Othón [{'name': 'Othón', 'gender': None, 'probability': 0.0, 'count': 0}]\n",
      " Andrés Bermúdez Viramontes [{'name': 'Andrés', 'gender': None, 'probability': 0.0, 'count': 0}]\n",
      "De León Tello Jesús (LICENCIA) [{'name': 'Jesús', 'gender': None, 'probability': 0.0, 'count': 0}]\n",
      "Del Toro del Villar Tomás [{'name': 'Tomás', 'gender': None, 'probability': 0.0, 'count': 0}]\n",
      "Díaz Mena Joaquín Jesús (LICENCIA) [{'name': 'Jesús', 'gender': None, 'probability': 0.0, 'count': 0}]\n",
      "Félix Holguín Armando Jesús [{'name': 'Jesús', 'gender': None, 'probability': 0.0, 'count': 0}]\n",
      "Fernández Cabrera Adrián [{'name': 'Adrián', 'gender': None, 'probability': 0.0, 'count': 0}]\n",
      "Hurtado Pérez Nelly Asunción [{'name': 'Asunción', 'gender': None, 'probability': 0.0, 'count': 0}]\n",
      "Jiménez del Castillo Ma. de los Ángeles [{'name': 'Ángeles', 'gender': None, 'probability': 0.0, 'count': 0}]\n",
      "Leura González Agustín [{'name': 'Agustín', 'gender': None, 'probability': 0.0, 'count': 0}]\n",
      "López Reyna Omeheira [{'name': 'Omeheira', 'gender': None, 'probability': 0.0, 'count': 0}]\n",
      "Mollinedo Hernández Agustín [{'name': 'Agustín', 'gender': None, 'probability': 0.0, 'count': 0}]\n",
      "Monraz Ibarra Miguel Ángel [{'name': 'Ángel', 'gender': None, 'probability': 0.0, 'count': 0}]\n",
      "Morales Ramos José Nicolás [{'name': 'Nicolás', 'gender': None, 'probability': 0.0, 'count': 0}]\n",
      " Ángel Rafael Deschamps Falcón [{'name': 'Ángel', 'gender': None, 'probability': 0.0, 'count': 0}]\n",
      "Nordhausen González Jorge Rubén [{'name': 'Rubén', 'gender': None, 'probability': 0.0, 'count': 0}]\n",
      " Rubí Laura López Silva [{'name': 'Rubí', 'gender': None, 'probability': 0.0, 'count': 0}]\n",
      "Rojas Hernández Laura Angélica [{'name': 'Angélica', 'gender': None, 'probability': 0.0, 'count': 0}]\n",
      "Romo Jiménez Martha Angélica [{'name': 'Angélica', 'gender': None, 'probability': 0.0, 'count': 0}]\n",
      "Sánchez Trujillo José Víctor [{'name': 'Víctor', 'gender': None, 'probability': 0.0, 'count': 0}]\n",
      "Solano Muñoz José de Jesús [{'name': 'Jesús', 'gender': None, 'probability': 0.0, 'count': 0}]\n",
      "Arellano Pulido Miguel Ángel [{'name': 'Ángel', 'gender': None, 'probability': 0.0, 'count': 0}]\n",
      "Cuevas Córdova Othón [{'name': 'Othón', 'gender': None, 'probability': 0.0, 'count': 0}]\n",
      "Dagdug Lützow Moisés Félix [{'name': 'Félix', 'gender': None, 'probability': 0.0, 'count': 0}]\n",
      "Flores Maldonado César [{'name': 'César', 'gender': None, 'probability': 0.0, 'count': 0}]\n",
      "Garzón Contreras Neftalí [{'name': 'Neftalí', 'gender': None, 'probability': 0.0, 'count': 0}]\n",
      "Lemarroy Martínez Juan Darío [{'name': 'Darío', 'gender': None, 'probability': 0.0, 'count': 0}]\n",
      "Leyva Piñón Ana Yurixi [{'name': 'Yurixi', 'gender': None, 'probability': 0.0, 'count': 0}]\n",
      "Lozano Lozano Andrés [{'name': 'Andrés', 'gender': None, 'probability': 0.0, 'count': 0}]\n",
      "Montalvo Rojas Victorio Rubén [{'name': 'Rubén', 'gender': None, 'probability': 0.0, 'count': 0}]\n",
      " Jesús Evodio Velázquez Aguirre [{'name': 'Jesús', 'gender': None, 'probability': 0.0, 'count': 0}]\n",
      "Morales Sánchez Efraín [{'name': 'Efraín', 'gender': None, 'probability': 0.0, 'count': 0}]\n",
      "Morales Vázquez Carlos Orsoe [{'name': 'Orsoe', 'gender': None, 'probability': 0.0, 'count': 0}]\n",
      "Navarro Quintero Miguel Ángel [{'name': 'Ángel', 'gender': None, 'probability': 0.0, 'count': 0}]\n",
      "Pacheco LLanes Ramón Félix [{'name': 'Félix', 'gender': None, 'probability': 0.0, 'count': 0}]\n",
      "Pedrozo Castillo Adrián [{'name': 'Adrián', 'gender': None, 'probability': 0.0, 'count': 0}]\n",
      "Peña Sánchez Miguel Ángel [{'name': 'Ángel', 'gender': None, 'probability': 0.0, 'count': 0}]\n",
      "Romero Gutiérrez Odilón [{'name': 'Odilón', 'gender': None, 'probability': 0.0, 'count': 0}]\n",
      "Sandoval Ramírez Cuauhtémoc [{'name': 'Cuauhtémoc', 'gender': None, 'probability': 0.0, 'count': 0}]\n",
      "Solares Chávez Miguel Ángel [{'name': 'Ángel', 'gender': None, 'probability': 0.0, 'count': 0}]\n",
      "Carballo Bustamante Andrés [{'name': 'Andrés', 'gender': None, 'probability': 0.0, 'count': 0}]\n",
      "Díaz Athié Antonio de Jesús (LICENCIA) [{'name': 'Jesús', 'gender': None, 'probability': 0.0, 'count': 0}]\n",
      "Duarte Jáquez César [{'name': 'César', 'gender': None, 'probability': 0.0, 'count': 0}]\n",
      "Escajeda Jiménez José Rubén (LICENCIA) [{'name': 'Rubén', 'gender': None, 'probability': 0.0, 'count': 0}]\n",
      " Víctor Leopoldo Valencia De los Santos [{'name': 'Víctor', 'gender': None, 'probability': 0.0, 'count': 0}]\n",
      "Gloria Requena Tomás [{'name': 'Tomás', 'gender': None, 'probability': 0.0, 'count': 0}]\n",
      "González Salum Miguel Ángel [{'name': 'Ángel', 'gender': None, 'probability': 0.0, 'count': 0}]\n",
      "Orihuela Bárcenas José Ascención [{'name': 'Ascención', 'gender': None, 'probability': 0.0, 'count': 0}]\n",
      "Ortiz Del Carpio Víctor [{'name': 'Víctor', 'gender': None, 'probability': 0.0, 'count': 0}]\n",
      "Ramírez Stabros Jesús [{'name': 'Jesús', 'gender': None, 'probability': 0.0, 'count': 0}]\n",
      "Reyna García José Jesús [{'name': 'Jesús', 'gender': None, 'probability': 0.0, 'count': 0}]\n",
      "Castellanos Hernández Félix [{'name': 'Félix', 'gender': None, 'probability': 0.0, 'count': 0}]\n",
      " Carmén Patricia Palma Olvera [{'name': 'Carmén', 'gender': None, 'probability': 0.0, 'count': 0}]\n",
      "Tagle Martínez Martha Angélica [{'name': 'Angélica', 'gender': None, 'probability': 0.0, 'count': 0}]\n",
      "Velasco Oliva Cuauhtémoc [{'name': 'Cuauhtémoc', 'gender': None, 'probability': 0.0, 'count': 0}]\n",
      "Aguilar Jiménez Rubén [{'name': 'Rubén', 'gender': None, 'probability': 0.0, 'count': 0}]\n"
     ]
    }
   ],
   "source": [
    "for x, y in mapping_names_gender.items():\n",
    "    gender = y[0]['gender']\n",
    "    prob = y[0]['probability']\n",
    "    if prob < 0.5:\n",
    "        print(x, y)"
   ]
  },
  {
   "cell_type": "code",
   "execution_count": 133,
   "metadata": {},
   "outputs": [],
   "source": [
    "clean_mapping = {}\n",
    "for x, y in mapping_names_gender.items():\n",
    "    gender = y[0]['gender']\n",
    "    prob = y[0]['probability']\n",
    "    name = y[0]['name']\n",
    "    if name == 'Efraín':\n",
    "        clean_mapping[x] = 'male'\n",
    "        \n",
    "    elif name == 'Orsoe':\n",
    "        clean_mapping[x] = 'male'\n",
    "       \n",
    "    elif name == 'Ángel':\n",
    "        clean_mapping[x] = 'male'\n",
    "        \n",
    "    elif name == 'Odilón':\n",
    "        clean_mapping[x] = 'male'\n",
    "        \n",
    "    elif name == 'Cuauhtémoc':\n",
    "        clean_mapping[x] = 'male'\n",
    "        \n",
    "    elif name == 'Ascención':\n",
    "        clean_mapping[x] = 'male'\n",
    "        \n",
    "    elif name == 'Carmén':\n",
    "        clean_mapping[x] = 'female'\n",
    "        \n",
    "    elif name == 'Neftalí':\n",
    "        clean_mapping[x] = 'female'\n",
    "        \n",
    "    elif name == 'Darío':\n",
    "        clean_mapping[x] = 'male'\n",
    "        \n",
    "    elif name == 'Yurixi':\n",
    "        clean_mapping[x] = 'female'\n",
    "        \n",
    "    elif name == 'Efraín':\n",
    "        clean_mapping[x] = 'male'\n",
    "        \n",
    "    elif name == 'Angélica':\n",
    "        clean_mapping[x] = 'female'\n",
    "        \n",
    "    elif name == 'Víctor':\n",
    "        clean_mapping[x] = 'male'\n",
    "        \n",
    "    elif name == 'Félix':\n",
    "        clean_mapping[x] = 'male'\n",
    "        \n",
    "    elif name == 'César':\n",
    "        clean_mapping[x] = 'male'\n",
    "        \n",
    "    elif name == 'Edwviges':\n",
    "        clean_mapping[x] = 'female'\n",
    "        \n",
    "    elif name == 'Rubí':\n",
    "        clean_mapping[x] = 'female'\n",
    "        \n",
    "    elif name == 'Rubén':\n",
    "        clean_mapping[x] = 'male'\n",
    "        \n",
    "    elif name == 'Nicolás':\n",
    "        clean_mapping[x] = 'male'\n",
    "        \n",
    "    elif name == 'Jesús':\n",
    "        clean_mapping[x] = 'male'\n",
    "        \n",
    "    elif name == 'Othón':\n",
    "        clean_mapping[x] = 'male'\n",
    "        \n",
    "    elif name == 'Andrés':\n",
    "        clean_mapping[x] = 'male'\n",
    "        \n",
    "    elif name == 'Tomás':\n",
    "        clean_mapping[x] = 'male'\n",
    "        \n",
    "    elif name == 'Adrián':\n",
    "        clean_mapping[x] = 'male'\n",
    "        \n",
    "    elif name == 'Asunción':\n",
    "        clean_mapping[x] = 'female'\n",
    "        \n",
    "    elif name == 'Ángeles':\n",
    "        clean_mapping[x] = 'female'\n",
    "        \n",
    "    elif name == 'Agustín':\n",
    "        clean_mapping[x] = 'male'\n",
    "        \n",
    "    elif name == 'Omeheira':\n",
    "        clean_mapping[x] = 'female'\n",
    "        \n",
    "    elif name == 'Ángel':\n",
    "        clean_mapping[x] = 'male'\n",
    "    elif x == 'Rivera Rivera José Guadalupe':\n",
    "        clean_mapping[x] = 'male'\n",
    "    elif x == 'Ojeda Hernández Concepción':\n",
    "        clean_mapping[x] = 'female'\n",
    "    elif x == 'Aispuro Torres José Rosas':\n",
    "        clean_mapping[x] = 'male'\n",
    "    else:\n",
    "        clean_mapping[x] = y[0]['gender']\n",
    "        "
   ]
  },
  {
   "cell_type": "code",
   "execution_count": 134,
   "metadata": {},
   "outputs": [
    {
     "data": {
      "text/plain": [
       "500"
      ]
     },
     "execution_count": 134,
     "metadata": {},
     "output_type": "execute_result"
    }
   ],
   "source": [
    "len(clean_mapping.keys())"
   ]
  },
  {
   "cell_type": "code",
   "execution_count": 135,
   "metadata": {},
   "outputs": [],
   "source": [
    "gender_data60 = []\n",
    "for x, y in zip(id_s, clean_mapping.keys()):\n",
    "    temp = {}\n",
    "    temp['id_legislador'] = x\n",
    "    temp['name_legislador'] = y\n",
    "    temp['gender'] = clean_mapping[y]\n",
    "    gender_data60.append(temp)"
   ]
  },
  {
   "cell_type": "code",
   "execution_count": 136,
   "metadata": {},
   "outputs": [
    {
     "data": {
      "text/html": [
       "<div>\n",
       "<style scoped>\n",
       "    .dataframe tbody tr th:only-of-type {\n",
       "        vertical-align: middle;\n",
       "    }\n",
       "\n",
       "    .dataframe tbody tr th {\n",
       "        vertical-align: top;\n",
       "    }\n",
       "\n",
       "    .dataframe thead th {\n",
       "        text-align: right;\n",
       "    }\n",
       "</style>\n",
       "<table border=\"1\" class=\"dataframe\">\n",
       "  <thead>\n",
       "    <tr style=\"text-align: right;\">\n",
       "      <th></th>\n",
       "      <th>id_legislador</th>\n",
       "      <th>name_legislador</th>\n",
       "      <th>gender</th>\n",
       "    </tr>\n",
       "  </thead>\n",
       "  <tbody>\n",
       "    <tr>\n",
       "      <th>0</th>\n",
       "      <td>e7f3daa8-fe1f-11ea-95ca-acde48001122</td>\n",
       "      <td>Acosta Dávila Constantino</td>\n",
       "      <td>male</td>\n",
       "    </tr>\n",
       "    <tr>\n",
       "      <th>1</th>\n",
       "      <td>e82a705e-fe1f-11ea-95ca-acde48001122</td>\n",
       "      <td>Efraín Arizmendi Uribe</td>\n",
       "      <td>male</td>\n",
       "    </tr>\n",
       "    <tr>\n",
       "      <th>2</th>\n",
       "      <td>e85d8a34-fe1f-11ea-95ca-acde48001122</td>\n",
       "      <td>Alcaraz Hernández Alma Edwviges (LICENCIA)</td>\n",
       "      <td>female</td>\n",
       "    </tr>\n",
       "    <tr>\n",
       "      <th>3</th>\n",
       "      <td>e88f3462-fe1f-11ea-95ca-acde48001122</td>\n",
       "      <td>Álvarez Bernal María Elena</td>\n",
       "      <td>female</td>\n",
       "    </tr>\n",
       "    <tr>\n",
       "      <th>4</th>\n",
       "      <td>e8c1e6c8-fe1f-11ea-95ca-acde48001122</td>\n",
       "      <td>Amezola Fonceca Gerardo</td>\n",
       "      <td>male</td>\n",
       "    </tr>\n",
       "    <tr>\n",
       "      <th>...</th>\n",
       "      <td>...</td>\n",
       "      <td>...</td>\n",
       "      <td>...</td>\n",
       "    </tr>\n",
       "    <tr>\n",
       "      <th>495</th>\n",
       "      <td>569d49bc-fe20-11ea-95ca-acde48001122</td>\n",
       "      <td>Hernández Valadés Delio</td>\n",
       "      <td>male</td>\n",
       "    </tr>\n",
       "    <tr>\n",
       "      <th>496</th>\n",
       "      <td>56d7358c-fe20-11ea-95ca-acde48001122</td>\n",
       "      <td>Pedro Cortés Santiago Gustavo</td>\n",
       "      <td>male</td>\n",
       "    </tr>\n",
       "    <tr>\n",
       "      <th>497</th>\n",
       "      <td>5711f96a-fe20-11ea-95ca-acde48001122</td>\n",
       "      <td>Jiménez Valenzuela María Eugenia</td>\n",
       "      <td>female</td>\n",
       "    </tr>\n",
       "    <tr>\n",
       "      <th>498</th>\n",
       "      <td>574bd612-fe20-11ea-95ca-acde48001122</td>\n",
       "      <td>López Lena Cruz Humberto</td>\n",
       "      <td>male</td>\n",
       "    </tr>\n",
       "    <tr>\n",
       "      <th>499</th>\n",
       "      <td>57862bf0-fe20-11ea-95ca-acde48001122</td>\n",
       "      <td>Ochoa López Nabor</td>\n",
       "      <td>male</td>\n",
       "    </tr>\n",
       "  </tbody>\n",
       "</table>\n",
       "<p>500 rows × 3 columns</p>\n",
       "</div>"
      ],
      "text/plain": [
       "                            id_legislador  \\\n",
       "0    e7f3daa8-fe1f-11ea-95ca-acde48001122   \n",
       "1    e82a705e-fe1f-11ea-95ca-acde48001122   \n",
       "2    e85d8a34-fe1f-11ea-95ca-acde48001122   \n",
       "3    e88f3462-fe1f-11ea-95ca-acde48001122   \n",
       "4    e8c1e6c8-fe1f-11ea-95ca-acde48001122   \n",
       "..                                    ...   \n",
       "495  569d49bc-fe20-11ea-95ca-acde48001122   \n",
       "496  56d7358c-fe20-11ea-95ca-acde48001122   \n",
       "497  5711f96a-fe20-11ea-95ca-acde48001122   \n",
       "498  574bd612-fe20-11ea-95ca-acde48001122   \n",
       "499  57862bf0-fe20-11ea-95ca-acde48001122   \n",
       "\n",
       "                                name_legislador  gender  \n",
       "0                     Acosta Dávila Constantino    male  \n",
       "1                        Efraín Arizmendi Uribe    male  \n",
       "2    Alcaraz Hernández Alma Edwviges (LICENCIA)  female  \n",
       "3                    Álvarez Bernal María Elena  female  \n",
       "4                       Amezola Fonceca Gerardo    male  \n",
       "..                                          ...     ...  \n",
       "495                     Hernández Valadés Delio    male  \n",
       "496               Pedro Cortés Santiago Gustavo    male  \n",
       "497            Jiménez Valenzuela María Eugenia  female  \n",
       "498                    López Lena Cruz Humberto    male  \n",
       "499                           Ochoa López Nabor    male  \n",
       "\n",
       "[500 rows x 3 columns]"
      ]
     },
     "execution_count": 136,
     "metadata": {},
     "output_type": "execute_result"
    }
   ],
   "source": [
    "pd.DataFrame(gender_data60)"
   ]
  },
  {
   "cell_type": "code",
   "execution_count": 137,
   "metadata": {},
   "outputs": [
    {
     "data": {
      "text/html": [
       "<div>\n",
       "<style scoped>\n",
       "    .dataframe tbody tr th:only-of-type {\n",
       "        vertical-align: middle;\n",
       "    }\n",
       "\n",
       "    .dataframe tbody tr th {\n",
       "        vertical-align: top;\n",
       "    }\n",
       "\n",
       "    .dataframe thead th {\n",
       "        text-align: right;\n",
       "    }\n",
       "</style>\n",
       "<table border=\"1\" class=\"dataframe\">\n",
       "  <thead>\n",
       "    <tr style=\"text-align: right;\">\n",
       "      <th></th>\n",
       "      <th>id_legislador</th>\n",
       "    </tr>\n",
       "    <tr>\n",
       "      <th>gender</th>\n",
       "      <th></th>\n",
       "    </tr>\n",
       "  </thead>\n",
       "  <tbody>\n",
       "    <tr>\n",
       "      <th>female</th>\n",
       "      <td>113</td>\n",
       "    </tr>\n",
       "    <tr>\n",
       "      <th>male</th>\n",
       "      <td>387</td>\n",
       "    </tr>\n",
       "  </tbody>\n",
       "</table>\n",
       "</div>"
      ],
      "text/plain": [
       "        id_legislador\n",
       "gender               \n",
       "female            113\n",
       "male              387"
      ]
     },
     "execution_count": 137,
     "metadata": {},
     "output_type": "execute_result"
    }
   ],
   "source": [
    "pd.DataFrame(gender_data60)[['id_legislador', 'gender']].groupby(['gender']).count()"
   ]
  },
  {
   "cell_type": "markdown",
   "metadata": {},
   "source": [
    "### Legislatura 61"
   ]
  },
  {
   "cell_type": "code",
   "execution_count": 138,
   "metadata": {},
   "outputs": [],
   "source": [
    "all_data = []\n",
    "with open('/Users/cblanesg/cam.blanes Dropbox/Camila Blanes/Congressional-dataMX/data/01-collection_data/00-id_data/00-id/id_legislatura61.json') as file:\n",
    "    data = json.load(file)"
   ]
  },
  {
   "cell_type": "code",
   "execution_count": 139,
   "metadata": {},
   "outputs": [],
   "source": [
    "data61_p = []\n",
    "for i in data:\n",
    "    if i['suplente_propietario'] == 'P':\n",
    "        data61_p.append(i)"
   ]
  },
  {
   "cell_type": "code",
   "execution_count": 140,
   "metadata": {},
   "outputs": [
    {
     "data": {
      "text/plain": [
       "500"
      ]
     },
     "execution_count": 140,
     "metadata": {},
     "output_type": "execute_result"
    }
   ],
   "source": [
    "len(data61_p)"
   ]
  },
  {
   "cell_type": "code",
   "execution_count": 141,
   "metadata": {},
   "outputs": [],
   "source": [
    "id_s = []\n",
    "for i in data61_p:\n",
    "    id_s.append(i['id_legislador'])"
   ]
  },
  {
   "cell_type": "code",
   "execution_count": 143,
   "metadata": {},
   "outputs": [
    {
     "name": "stdout",
     "output_type": "stream",
     "text": [
      "Aguero Tovar José Manuel\n",
      "Aguilar González José Óscar\n",
      " Angélica del Rosario Araujo Lara\n",
      " Beatríz Elena Paredes Rangel\n",
      "Aguirre Maldonado Ma. de Jesús (LICENCIA)\n",
      "Aguirre Romero Andrés (LICENCIA)\n",
      "Ahued Bardahuil Ricardo\n",
      "Albarrán Mendoza Esteban\n",
      " Felipe Cervera Hernández\n",
      "Alvarado Arroyo Fermín Gerardo\n",
      " José Tomás Carrillo Sánchez\n",
      "Álvarez Santamaría Miguel\n",
      "Ambrosio Cipriano Heriberto\n",
      "Arana Arana Jorge\n",
      " Jorge Herrera Caldera\n",
      "Aysa Bernat José Antonio\n",
      "Báez Pinal Armando Jesús\n",
      "Bailey Elizondo Eduardo Alonso\n",
      "Bautista Concepción Sabino\n",
      "Bellizia Aboaf Nicolás Carlos\n",
      "Benítez Lucho Antonio\n",
      " Mario Moreno Arcos\n",
      "Benítez Treviño Víctor Humberto\n",
      "Bojórquez Gutiérrez Rolando\n",
      "Borja Texocotitla Felipe\n",
      "Cadena Morales Manuel\n",
      "Callejas Arroyo Juan Nicolás\n",
      " José Luis Marcos León Perea\n",
      "Campos Villegas Luis Carlos\n",
      "Cano Ricaud Alejandro\n",
      "Cano Vélez Jesús Alberto\n",
      " Rodolfo Torre Cantú\n",
      " Rogelio Manuel Díaz Brown Ramsburgh\n",
      "Casique Vences Guillermina (LICENCIA)\n",
      "Castillo Ruz Martín Enrique\n",
      "Castro Ríos Sofía\n",
      "Ceballos Llerenas Hilda\n",
      "Cerda Pérez Rogelio\n",
      "Chirinos del Ángel Patricio\n",
      "Chuayffet Chemor Emilio\n",
      "Clariond Reyes Retana Benjamín\n",
      "Concha Arellano Elpidio Desiderio\n",
      "Contreras García Germán\n",
      "Córdova Hernández José del Pilar\n",
      "Corona Rivera Armando\n",
      "Cota Jiménez Manuel Humberto\n",
      "Cruz Mendoza Carlos\n",
      " Óscar Román Rosas González\n",
      "David David Sami\n",
      "De Esesarte Pesqueira Manuel Esteban\n",
      "De Lucas Hopkins Ernesto\n",
      "De la Fuente Dagdug María Estela\n",
      " Héctor Franco López\n",
      "De la Torre Valdez Yolanda\n",
      "Díaz Escárraga Heliodoro Carlos\n",
      "Díaz Salazar María Cristina\n",
      " Genaro Mejía de la Merced\n",
      "Domínguez Arvizu María Hilaria\n",
      "Domínguez Rex Raúl\n",
      " Sergio Mancilla Zayas\n",
      "Durán Rico Ana Estela\n",
      "Enríquez Fuentes Jesús Ricardo (LICENCIA)\n",
      "Enríquez Hernández Felipe\n",
      " Jeny De los Reyes Aguilar\n",
      "Fayad Meneses Omar\n",
      "Fernández Aguirre Héctor\n",
      " Luis Videgaray Caso\n",
      "Ferreyra Olivares Fernando\n",
      "Flores Castañeda Jaime\n",
      "Flores Morales Víctor Félix\n",
      "Flores Rico Carlos\n",
      " Manuel Ignacio Acosta Gutiérrez\n",
      "Franco Vargas Jorge Fernando\n",
      " Esthela de Jesús Ponce Beltrán\n",
      "Gallegos Soto Margarita\n",
      "García Ayala Marco Antonio\n",
      "García Barrón Óscar\n",
      "García Corpus Teófilo Manuel\n",
      "García Granados Miguel Ángel\n",
      " Jesús Everardo Villarreal Salinas\n",
      " Rosario Ortiz Yeladaqui\n",
      "Gastélum Bajo Diva Hadamira\n",
      "Gil Ortiz Javier\n",
      "Gómez Caro Clara\n",
      " Rafael Yerena Zambrano\n",
      "González Díaz Joel\n",
      "González Hernández Yolanda Eugenia\n",
      "González Ilescas Jorge Venustiano\n",
      "González Morales José Alberto\n",
      " Rubén Ignacio Moreira Valdez\n",
      "González Tostado Janet Graciela\n",
      " Rolando Rodrigo Zapata Bello\n",
      "Guajardo Villarreal Ildefonso\n",
      "Guerra Castillo Marcela\n",
      "Guerrero Coronado Delia (LICENCIA)\n",
      "Guevara Cobos Luis Alejandro\n",
      "Guevara Ramírez Héctor\n",
      "Guillén Padilla Olivia\n",
      "Guillén Vicente Mercedes del Carmen\n",
      " Melchor Sánchez de la Fuente\n",
      " Fuensanta Patricia Jiménez Case\n",
      "Hernández García Elvia\n",
      "Hernández Hernández Jorge\n",
      "Hernández Olmos Paula Angélica\n",
      "Hernández Pérez David\n",
      "Hernández Silva Héctor\n",
      "Hernández Vallin David\n",
      "Herrera Jiménez Francisco\n",
      "Herrera Soto Ma. Dina\n",
      "Hinojosa Ochoa Baltazar Manuel\n",
      " Roberto Borge Angulo\n",
      "Ibarra Piña Inocencio\n",
      "Izaguirre Francos María del Carmen\n",
      "Jiménez Concha Juan Pablo\n",
      "Jiménez Hernández Blanca Estela\n",
      "Jiménez Merino Francisco Alberto\n",
      "Joaquín González Carlos Manuel\n",
      "Juraidini Rumilla Jorge Alberto\n",
      "Kidnie De La Cruz Víctor Manuel\n",
      "Kuri Grajales Fidel\n",
      "Lagos Galindo Silvio\n",
      "Lara Aréchiga Óscar Javier\n",
      "Lara Salazar Óscar\n",
      "Lastiri Quirós Juan Carlos\n",
      "Ledesma Magaña Israel Reyes\n",
      "Lepe Lepe Humberto\n",
      "Lerdo de Tejada Covarrubias Sebastián\n",
      "Levin Coppel Óscar Guillermo\n",
      "Liborio Arrazola Margarita\n",
      "Lobato García Sergio\n",
      "Lobato Ramírez Ana Luz\n",
      "López Aguilar Cruz\n",
      "López Loyo María Elena Perla\n",
      "López Pescador José Ricardo\n",
      "López-Portillo Basave Jorge Humberto\n",
      "Lugo Oñate Alfredo Francisco\n",
      "Luna Munguía Miguel Ángel\n",
      "Marín Torres Julieta Octavia\n",
      "Mariscales Delgadillo Onésimo\n",
      "Márquez Lizalde Manuel Guillermo\n",
      "Martel López José Ramón\n",
      "Martínez Armengol Luis Antonio\n",
      "Martínez González Hugo Héctor\n",
      "Massieu Fernández Andrés\n",
      "Mazari Espín Rosalina\n",
      "Medina Ramírez Tereso\n",
      "Melhem Salinas Edgardo\n",
      "Méndez Hernández Sandra (LICENCIA)\n",
      "Mendoza Kaplan Emilio Andrés\n",
      "Merlo Talavera María Isabel\n",
      " Luz Carolina Gudiño Corro\n",
      "Monroy Estrada Amador (LICENCIA)\n",
      "Montes Cavazos Fermín\n",
      "Morales Martínez Fernando\n",
      "Moreno Merino Francisco Alejandro\n",
      " Javier Duarte de Ochoa\n",
      " Roberto Armando Albores Gleason\n",
      "Navarrete Prida Jesús Alfonso\n",
      "Neyra Chávez Armando\n",
      "Norberto Sánchez Nazario\n",
      "Ochoa Millán Maurilio\n",
      " David Ricardo Sánchez Guevara\n",
      "Orantes López Hernán de Jesús\n",
      "Ortiz González Graciela\n",
      "Pacheco Castro Carlos Oznerol\n",
      "Padilla López José Trinidad\n",
      "Pedraza Olguín Héctor\n",
      "Pedroza Jiménez Héctor\n",
      " José Francisco Yunes Zorrilla\n",
      "Pérez Domínguez Guadalupe\n",
      "Pérez Magaña Eviel\n",
      "Pérez Santos María Isabel\n",
      "Pichardo Lechuga José Ignacio\n",
      "Pompa Corella Miguel Ernesto\n",
      " Isaías González Cuevas\n",
      "Quiroz Cruz Sergio Lorenzo\n",
      "Quiñones Cornejo María de la Paz\n",
      "Rábago Castillo José Francisco\n",
      "Ramírez Marín Jorge Carlos\n",
      "Ramírez Pineda Narcedalia\n",
      "Ramírez Puga Leyva Héctor Pablo\n",
      "Ramos Montaño Francisco\n",
      "Rebollo Mendoza Ricardo Armando\n",
      "Rebollo Vivero Roberto\n",
      "Reina Liceaga Rodrigo\n",
      "Rivera de la Torre Reginaldo\n",
      "Robles Colín Leticia\n",
      " Salvador Manzur Díaz\n",
      " Miguel Ángel Riquelme Solís\n",
      "Rodríguez Cisneros Omar\n",
      " Judith Fabiola Vázquez Saut\n",
      "Rodríguez Hernández Jesús María\n",
      "Rodríguez Sosa Luis Félix\n",
      "Rojas Gutiérrez Francisco José\n",
      "Rojas Ruíz Ana María\n",
      "Rojas San Román Francisco Lauro\n",
      "Rojo García de Alba Jorge\n",
      "Romero Romero Jorge\n",
      " Felipe Amadeo Flores Espinosa\n",
      " Sara Gabriela Montiel Solis\n",
      "Rubí Salazar José Adán Ignacio\n",
      "Rubio Barthell Eric Luis\n",
      " Yulma Rocha Aguilar\n",
      "Ruíz Massieu Salinas Claudia\n",
      "Saldaña del Moral Fausto Sergio\n",
      "Salgado Romero Cuauhtémoc\n",
      "Sánchez García Gerardo\n",
      "Sánchez Gálvez Ricardo\n",
      "Sánchez Vélez Jaime\n",
      "Santiago Ramírez César Augusto\n",
      "Saracho Navarro Francisco (LICENCIA)\n",
      "Scherman Leaño María Esther de Jesús\n",
      "Serrano Hernández Maricela (LICENCIA)\n",
      "Solís Acero Felipe\n",
      " Germán Osvaldo Cortez Sandoval\n",
      "Soto Martínez Leobardo\n",
      "Soto Oseguera José Luis\n",
      " David Penchyna Grub\n",
      "Terán Velázquez María Esther\n",
      "Terrazas Porras Adriana\n",
      "Terrón Mendoza Miguel Ángel (LICENCIA)\n",
      " Aarón Irízar López\n",
      "Torres Huitrón José Alfredo\n",
      "Trujillo Zentella Georgina\n",
      " Ardelio Vargas Fosado\n",
      "Valdés Huezo Josué Cirino\n",
      "Vázquez Góngora Canek\n",
      "Vázquez Pérez Noé Martín\n",
      "Velasco Lino José Luis\n",
      "Velasco Monroy Héctor Eduardo\n",
      "Verver y Vargas Ramírez Heladio Gerardo\n",
      " Ramón Ramírez Valtierra\n",
      "Viggiano Austria Alma Carolina\n",
      "Villegas Arreola Alfredo\n",
      "Yáñez Montaño J. Eduardo\n",
      "Yglesias Arreola José Antonio\n",
      "Zamora Cabrera Cristabell\n",
      "Zamora Jiménez Arturo\n",
      "Zamora Villalva Alicia Elizabeth (LICENCIA)\n",
      " Héctor Agustín Murguía Lardizábal\n",
      "Zarzosa Sánchez Eduardo\n",
      "Zubia Rivera Rolando\n",
      "Aguilar Armendáriz Velia Idalia\n",
      " Juan de Jesús Pascualli Gómez\n",
      "Arámbula López José Antonio\n",
      "Arce Paniagua Óscar Martín\n",
      "Arellano Rodríguez Rubén\n",
      "Arévalo Sosa Cecilia Soledad\n",
      "Arriaga Rojas Justino Eugenio\n",
      "Ávila Ruíz Daniel Gabriel\n",
      "Bahena Flores Alejandro\n",
      "Balderas Vaquera Víctor Alejandro\n",
      "Becerra Pocoroba Mario Alberto\n",
      "Bello Otero Carlos\n",
      "Bermúdez Méndez José Erandi\n",
      "Camacho Pedrero Mirna Lucrecia\n",
      " Javier Corral Jurado\n",
      "Cantú Rodríguez Felipe de Jesús\n",
      "Castellanos Flores Gumercindo\n",
      "Castellanos Ramírez Julio\n",
      "Castilla Marroquín Agustín Carlos\n",
      "Castillo Andrade Óscar Saúl\n",
      " Alejandra Noemí Reynoso Sánchez\n",
      "Cortazar Ramos Ovidio\n",
      "Cortés León Yulenny Guylaine\n",
      "Cortez Mendoza Jesús Gerardo\n",
      "Cuadra García Raúl Gerardo\n",
      "Cuevas Barron Gabriela\n",
      "Cuevas García Juan José\n",
      "De los Cobos Silva José Gerardo\n",
      "Del Río Sánchez María Dolores\n",
      "Díaz Lizama Rosa Adriana\n",
      "Díaz de Rivera Hernández Augusta Valentina\n",
      "Escobar Martínez Juan Pablo\n",
      "Esquer Gutiérrez Alberto\n",
      "Estrada Rodríguez Laura Elena\n",
      "Fuentes Cortés Adriana\n",
      "Gallegos Camarena Lucila del Carmen\n",
      "Gama Dufour Sergio\n",
      "García Bringas Leandro Rafael\n",
      "García Gómez Martha Elena\n",
      "García Portillo Arturo\n",
      "Germán Olivares Sergio Octavio\n",
      "González Hernández Gustavo\n",
      "González Hernández Sergio\n",
      "González Madruga César Daniel\n",
      " Manuel Jesús Clouthier Carrillo\n",
      "González Ulloa Nancy\n",
      "Guillén Medina Leonardo Arturo\n",
      "Gutiérrez Cortina Paz\n",
      "Gutiérrez Fragoso Valdemar\n",
      "Gutiérrez Ramírez Tomás\n",
      " Pablo Rodríguez Regordosa\n",
      "Herrera Rivera Bonifacio\n",
      "Hinojosa Pérez José Manuel\n",
      "Hurtado Leija Gregorio\n",
      "Iñiguez Gámez José Luis\n",
      "Landero Gutiérrez José Francisco Javier\n",
      "López Hernández Oralia\n",
      "López Rabadán Kenia\n",
      "Lugo Martínez Ruth Esperanza\n",
      "Luken Garza Gastón\n",
      "Luna Ruíz Gloria Trinidad\n",
      "Madrigal Díaz César Octavio\n",
      "Mancillas Amador César\n",
      "Márquez Zapata Nelly Del Carmen\n",
      "Marroquín Toledo José Manuel\n",
      "Martín López Miguel\n",
      "Martínez Martínez Carlos\n",
      "Martínez Montemayor Baltazar\n",
      "Martínez Peñaloza Miguel\n",
      "Meillón Johnston Carlos Luis\n",
      "Méndez Herrera Alba Leonila\n",
      "Mendoza Díaz Sonia\n",
      " Guillermo José Zavaleta Rojas\n",
      "Mercado Sánchez Luis Enrique\n",
      "Merino Loo Ramón\n",
      "Monge Villalobos Silvia Isabel\n",
      "Montalvo López Yolanda del Carmen\n",
      "Morán Sánchez Leoncio Alfonso\n",
      " Adriana de Lourdes Hinojosa Céspedes\n",
      "Nava Vázquez José César\n",
      "Novoa Mossberger María Joann\n",
      "Oliva Ramírez Jaime\n",
      "Orduño Valdez Francisco Javier\n",
      "Orozco Rosi\n",
      "Ortega Joaquín Gustavo Antonio Miguel\n",
      "Osuna Millán Miguel Antonio\n",
      "Ovando Patrón José Luis\n",
      "Paredes Arciga Ana Elia\n",
      "Parra Becerra María Felicitas\n",
      "Pedroza Gaitán César Octavio\n",
      "Peralta Rivas Pedro\n",
      "Pérez Ceballos Silvia Esther\n",
      "Pérez Cuevas Carlos Alberto\n",
      "Pérez Esquer Marcos\n",
      "Pérez Reyes María Antonieta\n",
      "Pérez de Tejada Romero Ma. Elena\n",
      "Quezada Naranjo Benigno\n",
      " Juan Huerta Montero\n",
      "Ramírez Bucio Arturo\n",
      "Ramírez Puente Camilo\n",
      "Ramírez Rangel Jesús\n",
      "Ramos Cárdenas Liev Vladimir\n",
      "Rangel Vargas Felipe de Jesús\n",
      "Rétiz Gutiérrez Ezequiel\n",
      "Reyes Hernández Ivideliza\n",
      "Reynoso Femat Ma. de Lourdes\n",
      "Rico Jiménez Martín\n",
      "Robles Medina Guadalupe Eduardo\n",
      "Rodríguez Dávila Alfredo Javier\n",
      "Rodríguez Galarza Wendy Guadalupe\n",
      "Rojo Montoya Adolfo\n",
      "Romero León Gloria\n",
      " Jesús Giles Sánchez\n",
      " Alfonso Jesús Martínez Alcázar\n",
      "Salazar Sáenz Francisco Javier\n",
      "Salazar Vázquez Norma Leticia\n",
      "Saldaña Morán Julio\n",
      " Ema Margarita Alemán Olvera\n",
      "Sánchez Romero Norma\n",
      "Santamaría Prieto Fernando\n",
      "Seara Sierra José Ignacio\n",
      "Suárez González Laura Margarita\n",
      "Téllez González Ignacio\n",
      "Téllez Juárez Bernardo Margarito\n",
      "Tolento Hernández Sergio\n",
      "Torres Delgado Enrique\n",
      "Torres Ibarrola Agustín\n",
      "Torres Peimbert María Marcela\n",
      "Torres Santos Sergio Arturo\n",
      "Trejo Azuara Enrique Octavio\n",
      "Trigueras Durón Dora Evelyn\n",
      "Ugalde Basaldúa María Sandra\n",
      "Usabiaga Arroyo Javier Bernardo\n",
      "Valencia Vales María Yolanda\n",
      "Valenzuela Cabrales Guadalupe\n",
      " Roberto Gil Zuarth\n",
      "Vega De Lamadrid Francisco Arturo\n",
      "Velázquez y Llorente Julián Francisco\n",
      "Vera Hernández J. Guadalupe\n",
      " Francisco Javier Ramírez Acuña\n",
      "Vives Preciado Tomasa\n",
      "Zetina Soto Sixto Alfonso\n",
      "Acosta Naranjo Guadalupe\n",
      "Anaya Mota Claudia Edith\n",
      " José de Jesús Zambrano Grijalva\n",
      "Bernardino Rojas Martha Angélica\n",
      "Burelo Burelo César Francisco\n",
      "Carmona Cabrera Bélgica Nabil\n",
      "Castro Cosío Víctor Manuel\n",
      " Filemón Navarro Aguilar\n",
      "Cruz Cruz Juanita Arcelia\n",
      " María Guadalupe Silerio Núñez\n",
      "Damián Peralta Esthela\n",
      " Adán Augusto López Hernández\n",
      " Carlos Torres Piña\n",
      "Eguía Pérez Luis Felipe\n",
      "Encinas Rodríguez Alejandro de Jesús\n",
      "Espinosa Morales Olga Luz\n",
      "García Avilés Martín\n",
      " Uriel López Paredes\n",
      "García Coronado Lizbeth\n",
      " Ángel Aguirre Herrera\n",
      "Gómez León Ariel\n",
      " Víctor Manuel Báez Ceja\n",
      " Mauricio Alonso Toledo Gutiérrez\n",
      "Guajardo Villarreal Mary Telma\n",
      "Guerrero Castillo Agustín\n",
      "Gutiérrez Villanueva Sergio Ernesto\n",
      "Hernández Cruz Luis\n",
      "Hernández Juárez Francisco\n",
      "Hernández Rodríguez Héctor Hugo\n",
      "Herrera Chávez Samuel\n",
      "Incháustegui Romero Teresa del Carmen\n",
      "Jaime Correa José Luis\n",
      "Jiménez Fuentes Ramón\n",
      "Jiménez López Ramón\n",
      "Lara Lagunas Rodolfo\n",
      "Leyva Hernández Gerardo\n",
      "Llerenas Morales Vidal\n",
      "López Fernández Juan Carlos\n",
      " Julio César Godoy Toscano\n",
      "Marín Díaz Feliciano Rosendo\n",
      "Méndez Rangel Avelino\n",
      "Mendoza Arellano Eduardo\n",
      " Ilich Augusto Lozano Herrera\n",
      "Meza Castro Francisco Armando\n",
      "Nazares Jerónimo Dolores de los Ángeles\n",
      "Ovalle Vaquera Federico\n",
      " Marcos Alberto Covarrubias Villaseñor\n",
      "Quezada Contreras Leticia\n",
      "Ramírez Hernández Socorro Sofío\n",
      " José Narro Céspedes\n",
      "Ríos Piter Armando\n",
      "Rodríguez Martell Domingo\n",
      "Rosario Morales Florentina\n",
      "Salgado Vázquez Rigoberto\n",
      " Juventino Víctor Castro y Castro\n",
      "Santana Alfaro Arturo\n",
      "Torres Robledo José M.\n",
      "Uranga Muñoz Enoé Margarita\n",
      "Valencia Barajas José María\n",
      "Vargas Cortez Balfre\n",
      "Vázquez Camacho María Araceli\n",
      "Velázquez Esquivel Emiliano\n",
      "Vizcaíno Silva Indira\n",
      "Brindis Álvarez Rosario\n",
      "Carabias Icaza Alejandro (LICENCIA)\n",
      "Cinta Martínez Alberto Emiliano\n",
      "Cirigo Vasquez Víctor Hugo\n",
      "Corona Valdés Lorena\n",
      " Kattia Garza Romo\n",
      " Carolina García Cañón\n",
      "Escudero Morales Pablo\n",
      " Mariana Ivette Ezeta Salcedo\n",
      "Flores Ramírez Juan Gerardo\n",
      "Guerra Abud Juan José\n",
      " Diego Guerrero Rubio\n",
      "Ledesma Romo Eduardo\n",
      "Natale López Juan Carlos\n",
      "Pacchiano Alamán Rafael\n",
      "Pérez-Alonso González Rodrigo\n",
      "Piña Olmedo Laura\n",
      " Carlos Samuel Moreno Terán\n",
      " Álvaro Raymundo Vargas Sáenz\n",
      "Salinas Sada Ninfa Clara\n",
      "Sarur Torre Adriana\n",
      "Vidal Aguilar Liborio\n",
      "Cárdenas Gracia Jaime Fernando\n",
      "Caro Cabrera Salvador\n",
      "Castillo Juárez Laura Itzel\n",
      "Di Costanzo Armenta Mario Alberto\n",
      "Escobar García Herón Agustín\n",
      "Espinosa Ramos Francisco Amadeo\n",
      "Fernández Noroña José Gerardo Rodolfo\n",
      "González Yáñez Óscar\n",
      "Ibarra Pedroza Juan Enrique\n",
      "Martínez y Hernández Ifigenia Martha\n",
      "Muñoz Ledo Porfirio\n",
      "Reyes Sahagún Teresa Guadalupe\n",
      " Anel Patricia Nava Pérez\n",
      "Vázquez González Pedro\n",
      "Kahwagi Macari Jorge Antonio\n",
      "Martínez Peña Elsa María\n",
      " Reyes S. Tamez Guerra\n",
      "Orozco Torres Norma Leticia\n",
      "Pérez de Alva Blanco Roberto\n",
      "Pinedo Alonso Cora\n",
      "Torre Canales María del Pilar\n",
      "Villarreal Benassini Karla Daniella\n",
      "Álvarez Cisneros Jaime\n",
      "Arizmendi Campos Laura (LICENCIA)\n",
      "García Almanza María Guadalupe\n",
      "Gertz Manero Alejandro\n",
      "Jiménez León Pedro\n",
      "Ochoa Mejía Ma. Teresa Rosaura\n",
      "Serrano Jiménez Emilio\n",
      "Torres Abarca O. Magdalena\n",
      "Vázquez Aguilar Jaime Arturo\n"
     ]
    }
   ],
   "source": [
    "for i in data61_p:\n",
    "    print(i['nombre_completo'])"
   ]
  },
  {
   "cell_type": "code",
   "execution_count": 149,
   "metadata": {
    "scrolled": true
   },
   "outputs": [
    {
     "name": "stderr",
     "output_type": "stream",
     "text": [
      " 95%|█████████▌| 475/500 [03:00<00:09,  2.63it/s]\n"
     ]
    },
    {
     "ename": "GenderizeException",
     "evalue": "('Request limit reached', 429, {'Server': 'nginx/1.16.1', 'Date': 'Sun, 04 Oct 2020 22:44:42 GMT', 'Content-Type': 'application/json; charset=utf-8', 'Content-Length': '33', 'Connection': 'keep-alive', 'Access-Control-Allow-Origin': '*', 'Access-Control-Allow-Methods': 'GET', 'Access-Control-Allow-Headers': 'Content-Type, X-Genderize-Source', 'X-Rate-Limit-Limit': '1000', 'X-Rate-Reset': '4517', 'X-Rate-Limit-Remaining': '0', 'ETag': 'W/\"21-tYoIBroDGdB+35cIAOMCdpXfqjI\"'})",
     "output_type": "error",
     "traceback": [
      "\u001b[0;31m---------------------------------------------------------------------------\u001b[0m",
      "\u001b[0;31mGenderizeException\u001b[0m                        Traceback (most recent call last)",
      "\u001b[0;32m<ipython-input-149-0fa0963df147>\u001b[0m in \u001b[0;36m<module>\u001b[0;34m\u001b[0m\n\u001b[1;32m     15\u001b[0m     \u001b[0;32melse\u001b[0m\u001b[0;34m:\u001b[0m\u001b[0;34m\u001b[0m\u001b[0;34m\u001b[0m\u001b[0m\n\u001b[1;32m     16\u001b[0m         \u001b[0mpila\u001b[0m \u001b[0;34m=\u001b[0m \u001b[0mname\u001b[0m\u001b[0;34m.\u001b[0m\u001b[0msplit\u001b[0m\u001b[0;34m(\u001b[0m\u001b[0;34m' '\u001b[0m\u001b[0;34m)\u001b[0m\u001b[0;34m[\u001b[0m\u001b[0;34m-\u001b[0m\u001b[0;36m1\u001b[0m\u001b[0;34m:\u001b[0m\u001b[0;34m]\u001b[0m\u001b[0;34m[\u001b[0m\u001b[0;36m0\u001b[0m\u001b[0;34m]\u001b[0m\u001b[0;34m\u001b[0m\u001b[0;34m\u001b[0m\u001b[0m\n\u001b[0;32m---> 17\u001b[0;31m         \u001b[0mmapping_names_gender61\u001b[0m\u001b[0;34m[\u001b[0m\u001b[0mi\u001b[0m\u001b[0;34m[\u001b[0m\u001b[0;34m'nombre_completo'\u001b[0m\u001b[0;34m]\u001b[0m\u001b[0;34m]\u001b[0m \u001b[0;34m=\u001b[0m \u001b[0mGenderize\u001b[0m\u001b[0;34m(\u001b[0m\u001b[0;34m)\u001b[0m\u001b[0;34m.\u001b[0m\u001b[0mget\u001b[0m\u001b[0;34m(\u001b[0m\u001b[0;34m[\u001b[0m\u001b[0mpila\u001b[0m\u001b[0;34m]\u001b[0m\u001b[0;34m)\u001b[0m\u001b[0;34m\u001b[0m\u001b[0;34m\u001b[0m\u001b[0m\n\u001b[0m",
      "\u001b[0;32m/Library/Frameworks/Python.framework/Versions/3.8/lib/python3.8/site-packages/genderize/__init__.py\u001b[0m in \u001b[0;36mget\u001b[0;34m(self, names, country_id, language_id, retheader)\u001b[0m\n\u001b[1;32m     94\u001b[0m         \u001b[0;34m:\u001b[0m\u001b[0mraises\u001b[0m \u001b[0mGenderizeException\u001b[0m\u001b[0;34m:\u001b[0m \u001b[0;32mif\u001b[0m \u001b[0mAPI\u001b[0m \u001b[0mserver\u001b[0m \u001b[0mreturns\u001b[0m \u001b[0mHTTP\u001b[0m \u001b[0merror\u001b[0m \u001b[0mcode\u001b[0m\u001b[0;34m.\u001b[0m\u001b[0;34m\u001b[0m\u001b[0;34m\u001b[0m\u001b[0m\n\u001b[1;32m     95\u001b[0m         \"\"\"\n\u001b[0;32m---> 96\u001b[0;31m         responses = [\n\u001b[0m\u001b[1;32m     97\u001b[0m             \u001b[0mself\u001b[0m\u001b[0;34m.\u001b[0m\u001b[0m_get_chunk\u001b[0m\u001b[0;34m(\u001b[0m\u001b[0mname_chunk\u001b[0m\u001b[0;34m,\u001b[0m \u001b[0mcountry_id\u001b[0m\u001b[0;34m,\u001b[0m \u001b[0mlanguage_id\u001b[0m\u001b[0;34m)\u001b[0m\u001b[0;34m\u001b[0m\u001b[0;34m\u001b[0m\u001b[0m\n\u001b[1;32m     98\u001b[0m             \u001b[0;32mfor\u001b[0m \u001b[0mname_chunk\u001b[0m\u001b[0;34m\u001b[0m\u001b[0;34m\u001b[0m\u001b[0m\n",
      "\u001b[0;32m/Library/Frameworks/Python.framework/Versions/3.8/lib/python3.8/site-packages/genderize/__init__.py\u001b[0m in \u001b[0;36m<listcomp>\u001b[0;34m(.0)\u001b[0m\n\u001b[1;32m     95\u001b[0m         \"\"\"\n\u001b[1;32m     96\u001b[0m         responses = [\n\u001b[0;32m---> 97\u001b[0;31m             \u001b[0mself\u001b[0m\u001b[0;34m.\u001b[0m\u001b[0m_get_chunk\u001b[0m\u001b[0;34m(\u001b[0m\u001b[0mname_chunk\u001b[0m\u001b[0;34m,\u001b[0m \u001b[0mcountry_id\u001b[0m\u001b[0;34m,\u001b[0m \u001b[0mlanguage_id\u001b[0m\u001b[0;34m)\u001b[0m\u001b[0;34m\u001b[0m\u001b[0;34m\u001b[0m\u001b[0m\n\u001b[0m\u001b[1;32m     98\u001b[0m             \u001b[0;32mfor\u001b[0m \u001b[0mname_chunk\u001b[0m\u001b[0;34m\u001b[0m\u001b[0;34m\u001b[0m\u001b[0m\n\u001b[1;32m     99\u001b[0m             \u001b[0;32min\u001b[0m \u001b[0m_chunked\u001b[0m\u001b[0;34m(\u001b[0m\u001b[0mnames\u001b[0m\u001b[0;34m,\u001b[0m \u001b[0mGenderize\u001b[0m\u001b[0;34m.\u001b[0m\u001b[0mBATCH_SIZE\u001b[0m\u001b[0;34m)\u001b[0m\u001b[0;34m\u001b[0m\u001b[0;34m\u001b[0m\u001b[0m\n",
      "\u001b[0;32m/Library/Frameworks/Python.framework/Versions/3.8/lib/python3.8/site-packages/genderize/__init__.py\u001b[0m in \u001b[0;36m_get_chunk\u001b[0;34m(self, name_chunk, country_id, language_id)\u001b[0m\n\u001b[1;32m    147\u001b[0m             \u001b[0;32mreturn\u001b[0m \u001b[0m_GenderizeResponse\u001b[0m\u001b[0;34m(\u001b[0m\u001b[0mdata\u001b[0m\u001b[0;34m=\u001b[0m\u001b[0mdecoded\u001b[0m\u001b[0;34m,\u001b[0m \u001b[0mheaders\u001b[0m\u001b[0;34m=\u001b[0m\u001b[0mresponse\u001b[0m\u001b[0;34m.\u001b[0m\u001b[0mheaders\u001b[0m\u001b[0;34m)\u001b[0m\u001b[0;34m\u001b[0m\u001b[0;34m\u001b[0m\u001b[0m\n\u001b[1;32m    148\u001b[0m         \u001b[0;32melse\u001b[0m\u001b[0;34m:\u001b[0m\u001b[0;34m\u001b[0m\u001b[0;34m\u001b[0m\u001b[0m\n\u001b[0;32m--> 149\u001b[0;31m             raise GenderizeException(\n\u001b[0m\u001b[1;32m    150\u001b[0m                 \u001b[0mdecoded\u001b[0m\u001b[0;34m[\u001b[0m\u001b[0;34m'error'\u001b[0m\u001b[0;34m]\u001b[0m\u001b[0;34m,\u001b[0m\u001b[0;34m\u001b[0m\u001b[0;34m\u001b[0m\u001b[0m\n\u001b[1;32m    151\u001b[0m                 \u001b[0mresponse\u001b[0m\u001b[0;34m.\u001b[0m\u001b[0mstatus_code\u001b[0m\u001b[0;34m,\u001b[0m\u001b[0;34m\u001b[0m\u001b[0;34m\u001b[0m\u001b[0m\n",
      "\u001b[0;31mGenderizeException\u001b[0m: ('Request limit reached', 429, {'Server': 'nginx/1.16.1', 'Date': 'Sun, 04 Oct 2020 22:44:42 GMT', 'Content-Type': 'application/json; charset=utf-8', 'Content-Length': '33', 'Connection': 'keep-alive', 'Access-Control-Allow-Origin': '*', 'Access-Control-Allow-Methods': 'GET', 'Access-Control-Allow-Headers': 'Content-Type, X-Genderize-Source', 'X-Rate-Limit-Limit': '1000', 'X-Rate-Reset': '4517', 'X-Rate-Limit-Remaining': '0', 'ETag': 'W/\"21-tYoIBroDGdB+35cIAOMCdpXfqjI\"'})"
     ]
    }
   ],
   "source": [
    "mapping_names_gender61 = {}\n",
    "for i in tqdm(data61_p):\n",
    "    name = i['nombre_completo']\n",
    "    name = re.sub(' [(]LICENCIA[)]', '', name)\n",
    "    name = unidecode.unidecode(name)\n",
    "    if any(re.findall('^[ ]', name)):\n",
    "        pila = name.split(' ')[1]\n",
    "        mapping_names_gender61[i['nombre_completo']] = Genderize().get([pila])\n",
    "    elif name == 'Aguirre Maldonado Ma. de Jesús ':\n",
    "        pila = 'Maria'\n",
    "        mapping_names_gender61[i['nombre_completo']] = Genderize().get([pila])\n",
    "    elif name == 'Torres Robledo José M.':\n",
    "        pila = 'Jose'\n",
    "        mapping_names_gender61[i['nombre_completo']] = Genderize().get([pila])\n",
    "    else:\n",
    "        pila = name.split(' ')[-1:][0]\n",
    "        mapping_names_gender61[i['nombre_completo']] = Genderize().get([pila])"
   ]
  },
  {
   "cell_type": "code",
   "execution_count": 157,
   "metadata": {},
   "outputs": [
    {
     "data": {
      "text/plain": [
       "475"
      ]
     },
     "execution_count": 157,
     "metadata": {},
     "output_type": "execute_result"
    }
   ],
   "source": [
    "len(mapping_names_gender61.keys())"
   ]
  },
  {
   "cell_type": "code",
   "execution_count": 184,
   "metadata": {},
   "outputs": [
    {
     "data": {
      "text/plain": [
       "dict_items([('Aguero Tovar José Manuel', [{'name': 'Manuel', 'gender': 'male', 'probability': 0.99, 'count': 166605}]), ('Aguilar González José Óscar', [{'name': 'Oscar', 'gender': 'male', 'probability': 0.99, 'count': 69174}]), (' Angélica del Rosario Araujo Lara', [{'name': '', 'gender': None, 'probability': 0.0, 'count': 0}]), (' Beatríz Elena Paredes Rangel', [{'name': '', 'gender': None, 'probability': 0.0, 'count': 0}]), ('Aguirre Maldonado Ma. de Jesús (LICENCIA)', [{'name': 'Jesus', 'gender': 'male', 'probability': 0.98, 'count': 75065}]), ('Aguirre Romero Andrés (LICENCIA)', [{'name': 'Andres', 'gender': 'male', 'probability': 0.98, 'count': 46013}]), ('Ahued Bardahuil Ricardo', [{'name': 'Ricardo', 'gender': 'male', 'probability': 0.99, 'count': 75750}]), ('Albarrán Mendoza Esteban', [{'name': 'Esteban', 'gender': 'male', 'probability': 0.99, 'count': 13148}]), (' Felipe Cervera Hernández', [{'name': '', 'gender': None, 'probability': 0.0, 'count': 0}]), ('Alvarado Arroyo Fermín Gerardo', [{'name': 'Gerardo', 'gender': 'male', 'probability': 0.99, 'count': 12635}]), (' José Tomás Carrillo Sánchez', [{'name': '', 'gender': None, 'probability': 0.0, 'count': 0}]), ('Álvarez Santamaría Miguel', [{'name': 'Miguel', 'gender': 'male', 'probability': 0.99, 'count': 158479}]), ('Ambrosio Cipriano Heriberto', [{'name': 'Heriberto', 'gender': 'male', 'probability': 0.99, 'count': 520}]), ('Arana Arana Jorge', [{'name': 'Jorge', 'gender': 'male', 'probability': 0.99, 'count': 118451}]), (' Jorge Herrera Caldera', [{'name': '', 'gender': None, 'probability': 0.0, 'count': 0}]), ('Aysa Bernat José Antonio', [{'name': 'Antonio', 'gender': 'male', 'probability': 0.99, 'count': 328654}]), ('Báez Pinal Armando Jesús', [{'name': 'Jesus', 'gender': 'male', 'probability': 0.98, 'count': 75065}]), ('Bailey Elizondo Eduardo Alonso', [{'name': 'Alonso', 'gender': 'male', 'probability': 0.97, 'count': 4114}]), ('Bautista Concepción Sabino', [{'name': 'Sabino', 'gender': 'male', 'probability': 0.99, 'count': 1840}]), ('Bellizia Aboaf Nicolás Carlos', [{'name': 'Carlos', 'gender': 'male', 'probability': 0.99, 'count': 236888}]), ('Benítez Lucho Antonio', [{'name': 'Antonio', 'gender': 'male', 'probability': 0.99, 'count': 328654}]), (' Mario Moreno Arcos', [{'name': '', 'gender': None, 'probability': 0.0, 'count': 0}]), ('Benítez Treviño Víctor Humberto', [{'name': 'Humberto', 'gender': 'male', 'probability': 0.99, 'count': 3858}]), ('Bojórquez Gutiérrez Rolando', [{'name': 'Rolando', 'gender': 'male', 'probability': 0.99, 'count': 4714}]), ('Borja Texocotitla Felipe', [{'name': 'Felipe', 'gender': 'male', 'probability': 0.98, 'count': 18670}]), ('Cadena Morales Manuel', [{'name': 'Manuel', 'gender': 'male', 'probability': 0.99, 'count': 166605}]), ('Callejas Arroyo Juan Nicolás', [{'name': 'Nicolas', 'gender': 'male', 'probability': 0.99, 'count': 116713}]), (' José Luis Marcos León Perea', [{'name': '', 'gender': None, 'probability': 0.0, 'count': 0}]), ('Campos Villegas Luis Carlos', [{'name': 'Carlos', 'gender': 'male', 'probability': 0.99, 'count': 236888}]), ('Cano Ricaud Alejandro', [{'name': 'Alejandro', 'gender': 'male', 'probability': 0.99, 'count': 56977}]), ('Cano Vélez Jesús Alberto', [{'name': 'Alberto', 'gender': 'male', 'probability': 0.99, 'count': 124347}]), (' Rodolfo Torre Cantú', [{'name': '', 'gender': None, 'probability': 0.0, 'count': 0}]), (' Rogelio Manuel Díaz Brown Ramsburgh', [{'name': '', 'gender': None, 'probability': 0.0, 'count': 0}]), ('Casique Vences Guillermina (LICENCIA)', [{'name': 'Guillermina', 'gender': 'female', 'probability': 0.98, 'count': 326}]), ('Castillo Ruz Martín Enrique', [{'name': 'Enrique', 'gender': 'male', 'probability': 0.99, 'count': 25630}]), ('Castro Ríos Sofía', [{'name': 'Sofia', 'gender': 'female', 'probability': 0.98, 'count': 59571}]), ('Ceballos Llerenas Hilda', [{'name': 'Hilda', 'gender': 'female', 'probability': 0.98, 'count': 3862}]), ('Cerda Pérez Rogelio', [{'name': 'Rogelio', 'gender': 'male', 'probability': 0.99, 'count': 2159}]), ('Chirinos del Ángel Patricio', [{'name': 'Patricio', 'gender': 'male', 'probability': 0.98, 'count': 4821}]), ('Chuayffet Chemor Emilio', [{'name': 'Emilio', 'gender': 'male', 'probability': 0.99, 'count': 25883}]), ('Clariond Reyes Retana Benjamín', [{'name': 'Benjamin', 'gender': 'male', 'probability': 0.99, 'count': 62465}]), ('Concha Arellano Elpidio Desiderio', [{'name': 'Desiderio', 'gender': 'male', 'probability': 0.83, 'count': 558}]), ('Contreras García Germán', [{'name': 'German', 'gender': 'male', 'probability': 0.98, 'count': 9488}]), ('Córdova Hernández José del Pilar', [{'name': 'Pilar', 'gender': 'female', 'probability': 0.98, 'count': 27619}]), ('Corona Rivera Armando', [{'name': 'Armando', 'gender': 'male', 'probability': 0.99, 'count': 21130}]), ('Cota Jiménez Manuel Humberto', [{'name': 'Humberto', 'gender': 'male', 'probability': 0.99, 'count': 3858}]), ('Cruz Mendoza Carlos', [{'name': 'Carlos', 'gender': 'male', 'probability': 0.99, 'count': 236888}]), (' Óscar Román Rosas González', [{'name': '', 'gender': None, 'probability': 0.0, 'count': 0}]), ('David David Sami', [{'name': 'Sami', 'gender': 'male', 'probability': 0.95, 'count': 55834}]), ('De Esesarte Pesqueira Manuel Esteban', [{'name': 'Esteban', 'gender': 'male', 'probability': 0.99, 'count': 13148}]), ('De Lucas Hopkins Ernesto', [{'name': 'Ernesto', 'gender': 'male', 'probability': 0.99, 'count': 15976}]), ('De la Fuente Dagdug María Estela', [{'name': 'Estela', 'gender': 'female', 'probability': 0.99, 'count': 6780}]), (' Héctor Franco López', [{'name': '', 'gender': None, 'probability': 0.0, 'count': 0}]), ('De la Torre Valdez Yolanda', [{'name': 'Yolanda', 'gender': 'female', 'probability': 0.99, 'count': 26005}]), ('Díaz Escárraga Heliodoro Carlos', [{'name': 'Carlos', 'gender': 'male', 'probability': 0.99, 'count': 236888}]), ('Díaz Salazar María Cristina', [{'name': 'Cristina', 'gender': 'female', 'probability': 0.99, 'count': 140931}]), (' Genaro Mejía de la Merced', [{'name': '', 'gender': None, 'probability': 0.0, 'count': 0}]), ('Domínguez Arvizu María Hilaria', [{'name': 'Hilaria', 'gender': 'female', 'probability': 0.95, 'count': 112}]), ('Domínguez Rex Raúl', [{'name': 'Raul', 'gender': 'male', 'probability': 0.99, 'count': 64281}]), (' Sergio Mancilla Zayas', [{'name': '', 'gender': None, 'probability': 0.0, 'count': 0}]), ('Durán Rico Ana Estela', [{'name': 'Estela', 'gender': 'female', 'probability': 0.99, 'count': 6780}]), ('Enríquez Fuentes Jesús Ricardo (LICENCIA)', [{'name': 'Ricardo', 'gender': 'male', 'probability': 0.99, 'count': 75750}]), ('Enríquez Hernández Felipe', [{'name': 'Felipe', 'gender': 'male', 'probability': 0.98, 'count': 18670}]), (' Jeny De los Reyes Aguilar', [{'name': '', 'gender': None, 'probability': 0.0, 'count': 0}]), ('Fayad Meneses Omar', [{'name': 'Omar', 'gender': 'male', 'probability': 0.98, 'count': 68333}]), ('Fernández Aguirre Héctor', [{'name': 'Hector', 'gender': 'male', 'probability': 0.99, 'count': 20708}]), (' Luis Videgaray Caso', [{'name': '', 'gender': None, 'probability': 0.0, 'count': 0}]), ('Ferreyra Olivares Fernando', [{'name': 'Fernando', 'gender': 'male', 'probability': 0.99, 'count': 88476}]), ('Flores Castañeda Jaime', [{'name': 'Jaime', 'gender': 'male', 'probability': 0.97, 'count': 31195}]), ('Flores Morales Víctor Félix', [{'name': 'Felix', 'gender': 'male', 'probability': 0.98, 'count': 35608}]), ('Flores Rico Carlos', [{'name': 'Carlos', 'gender': 'male', 'probability': 0.99, 'count': 236888}]), (' Manuel Ignacio Acosta Gutiérrez', [{'name': '', 'gender': None, 'probability': 0.0, 'count': 0}]), ('Franco Vargas Jorge Fernando', [{'name': 'Fernando', 'gender': 'male', 'probability': 0.99, 'count': 88476}]), (' Esthela de Jesús Ponce Beltrán', [{'name': '', 'gender': None, 'probability': 0.0, 'count': 0}]), ('Gallegos Soto Margarita', [{'name': 'Margarita', 'gender': 'female', 'probability': 0.98, 'count': 12994}]), ('García Ayala Marco Antonio', [{'name': 'Antonio', 'gender': 'male', 'probability': 0.99, 'count': 328654}]), ('García Barrón Óscar', [{'name': 'Oscar', 'gender': 'male', 'probability': 0.99, 'count': 69174}]), ('García Corpus Teófilo Manuel', [{'name': 'Manuel', 'gender': 'male', 'probability': 0.99, 'count': 166605}]), ('García Granados Miguel Ángel', [{'name': 'Angel', 'gender': 'male', 'probability': 0.68, 'count': 105060}]), (' Jesús Everardo Villarreal Salinas', [{'name': '', 'gender': None, 'probability': 0.0, 'count': 0}]), (' Rosario Ortiz Yeladaqui', [{'name': '', 'gender': None, 'probability': 0.0, 'count': 0}]), ('Gastélum Bajo Diva Hadamira', [{'name': 'Hadamira', 'gender': None, 'probability': 0.0, 'count': 0}]), ('Gil Ortiz Javier', [{'name': 'Javier', 'gender': 'male', 'probability': 0.99, 'count': 106497}]), ('Gómez Caro Clara', [{'name': 'Clara', 'gender': 'female', 'probability': 0.98, 'count': 42811}]), (' Rafael Yerena Zambrano', [{'name': '', 'gender': None, 'probability': 0.0, 'count': 0}]), ('González Díaz Joel', [{'name': 'Joel', 'gender': 'male', 'probability': 0.98, 'count': 42048}]), ('González Hernández Yolanda Eugenia', [{'name': 'Eugenia', 'gender': 'female', 'probability': 0.98, 'count': 6715}]), ('González Ilescas Jorge Venustiano', [{'name': 'Venustiano', 'gender': 'male', 'probability': 1.0, 'count': 3}]), ('González Morales José Alberto', [{'name': 'Alberto', 'gender': 'male', 'probability': 0.99, 'count': 124347}]), (' Rubén Ignacio Moreira Valdez', [{'name': '', 'gender': None, 'probability': 0.0, 'count': 0}]), ('González Tostado Janet Graciela', [{'name': 'Graciela', 'gender': 'female', 'probability': 0.98, 'count': 3285}]), (' Rolando Rodrigo Zapata Bello', [{'name': '', 'gender': None, 'probability': 0.0, 'count': 0}]), ('Guajardo Villarreal Ildefonso', [{'name': 'Ildefonso', 'gender': 'male', 'probability': 0.98, 'count': 594}]), ('Guerra Castillo Marcela', [{'name': 'Marcela', 'gender': 'female', 'probability': 0.99, 'count': 23039}]), ('Guerrero Coronado Delia (LICENCIA)', [{'name': 'Delia', 'gender': 'female', 'probability': 0.98, 'count': 7012}]), ('Guevara Cobos Luis Alejandro', [{'name': 'Alejandro', 'gender': 'male', 'probability': 0.99, 'count': 56977}]), ('Guevara Ramírez Héctor', [{'name': 'Hector', 'gender': 'male', 'probability': 0.99, 'count': 20708}]), ('Guillén Padilla Olivia', [{'name': 'Olivia', 'gender': 'female', 'probability': 0.97, 'count': 22095}]), ('Guillén Vicente Mercedes del Carmen', [{'name': 'Carmen', 'gender': 'female', 'probability': 0.98, 'count': 103801}]), (' Melchor Sánchez de la Fuente', [{'name': '', 'gender': None, 'probability': 0.0, 'count': 0}]), (' Fuensanta Patricia Jiménez Case', [{'name': '', 'gender': None, 'probability': 0.0, 'count': 0}]), ('Hernández García Elvia', [{'name': 'Elvia', 'gender': 'female', 'probability': 0.98, 'count': 523}]), ('Hernández Hernández Jorge', [{'name': 'Jorge', 'gender': 'male', 'probability': 0.99, 'count': 118451}]), ('Hernández Olmos Paula Angélica', [{'name': 'Angelica', 'gender': 'female', 'probability': 0.99, 'count': 17941}]), ('Hernández Pérez David', [{'name': 'David', 'gender': 'male', 'probability': 0.99, 'count': 501011}]), ('Hernández Silva Héctor', [{'name': 'Hector', 'gender': 'male', 'probability': 0.99, 'count': 20708}]), ('Hernández Vallin David', [{'name': 'David', 'gender': 'male', 'probability': 0.99, 'count': 501011}]), ('Herrera Jiménez Francisco', [{'name': 'Francisco', 'gender': 'male', 'probability': 0.99, 'count': 98797}]), ('Herrera Soto Ma. Dina', [{'name': 'Dina', 'gender': 'female', 'probability': 0.97, 'count': 20572}]), ('Hinojosa Ochoa Baltazar Manuel', [{'name': 'Manuel', 'gender': 'male', 'probability': 0.99, 'count': 166605}]), (' Roberto Borge Angulo', [{'name': '', 'gender': None, 'probability': 0.0, 'count': 0}]), ('Ibarra Piña Inocencio', [{'name': 'Inocencio', 'gender': 'male', 'probability': 0.98, 'count': 317}]), ('Izaguirre Francos María del Carmen', [{'name': 'Carmen', 'gender': 'female', 'probability': 0.98, 'count': 103801}]), ('Jiménez Concha Juan Pablo', [{'name': 'Pablo', 'gender': 'male', 'probability': 0.99, 'count': 76709}]), ('Jiménez Hernández Blanca Estela', [{'name': 'Estela', 'gender': 'female', 'probability': 0.99, 'count': 6780}]), ('Jiménez Merino Francisco Alberto', [{'name': 'Alberto', 'gender': 'male', 'probability': 0.99, 'count': 124347}]), ('Joaquín González Carlos Manuel', [{'name': 'Manuel', 'gender': 'male', 'probability': 0.99, 'count': 166605}]), ('Juraidini Rumilla Jorge Alberto', [{'name': 'Alberto', 'gender': 'male', 'probability': 0.99, 'count': 124347}]), ('Kidnie De La Cruz Víctor Manuel', [{'name': 'Manuel', 'gender': 'male', 'probability': 0.99, 'count': 166605}]), ('Kuri Grajales Fidel', [{'name': 'Fidel', 'gender': 'male', 'probability': 0.93, 'count': 3581}]), ('Lagos Galindo Silvio', [{'name': 'Silvio', 'gender': 'male', 'probability': 0.99, 'count': 14558}]), ('Lara Aréchiga Óscar Javier', [{'name': 'Javier', 'gender': 'male', 'probability': 0.99, 'count': 106497}]), ('Lara Salazar Óscar', [{'name': 'Oscar', 'gender': 'male', 'probability': 0.99, 'count': 69174}]), ('Lastiri Quirós Juan Carlos', [{'name': 'Carlos', 'gender': 'male', 'probability': 0.99, 'count': 236888}]), ('Ledesma Magaña Israel Reyes', [{'name': 'Reyes', 'gender': 'female', 'probability': 0.77, 'count': 2858}]), ('Lepe Lepe Humberto', [{'name': 'Humberto', 'gender': 'male', 'probability': 0.99, 'count': 3858}]), ('Lerdo de Tejada Covarrubias Sebastián', [{'name': 'Sebastian', 'gender': 'male', 'probability': 0.99, 'count': 81792}]), ('Levin Coppel Óscar Guillermo', [{'name': 'Guillermo', 'gender': 'male', 'probability': 0.99, 'count': 15173}]), ('Liborio Arrazola Margarita', [{'name': 'Margarita', 'gender': 'female', 'probability': 0.98, 'count': 12994}]), ('Lobato García Sergio', [{'name': 'Sergio', 'gender': 'male', 'probability': 0.99, 'count': 131922}]), ('Lobato Ramírez Ana Luz', [{'name': 'Luz', 'gender': 'female', 'probability': 0.97, 'count': 11797}]), ('López Aguilar Cruz', [{'name': 'Cruz', 'gender': 'male', 'probability': 0.58, 'count': 1976}]), ('López Loyo María Elena Perla', [{'name': 'Perla', 'gender': 'female', 'probability': 0.96, 'count': 5437}]), ('López Pescador José Ricardo', [{'name': 'Ricardo', 'gender': 'male', 'probability': 0.99, 'count': 75750}]), ('López-Portillo Basave Jorge Humberto', [{'name': 'Humberto', 'gender': 'male', 'probability': 0.99, 'count': 3858}]), ('Lugo Oñate Alfredo Francisco', [{'name': 'Francisco', 'gender': 'male', 'probability': 0.99, 'count': 98797}]), ('Luna Munguía Miguel Ángel', [{'name': 'Angel', 'gender': 'male', 'probability': 0.68, 'count': 105060}]), ('Marín Torres Julieta Octavia', [{'name': 'Octavia', 'gender': 'female', 'probability': 0.95, 'count': 492}]), ('Mariscales Delgadillo Onésimo', [{'name': 'Onesimo', 'gender': 'male', 'probability': 0.93, 'count': 112}]), ('Márquez Lizalde Manuel Guillermo', [{'name': 'Guillermo', 'gender': 'male', 'probability': 0.99, 'count': 15173}]), ('Martel López José Ramón', [{'name': 'Ramon', 'gender': 'male', 'probability': 0.98, 'count': 27550}]), ('Martínez Armengol Luis Antonio', [{'name': 'Antonio', 'gender': 'male', 'probability': 0.99, 'count': 328654}]), ('Martínez González Hugo Héctor', [{'name': 'Hector', 'gender': 'male', 'probability': 0.99, 'count': 20708}]), ('Massieu Fernández Andrés', [{'name': 'Andres', 'gender': 'male', 'probability': 0.98, 'count': 46013}]), ('Mazari Espín Rosalina', [{'name': 'Rosalina', 'gender': 'female', 'probability': 0.98, 'count': 992}]), ('Medina Ramírez Tereso', [{'name': 'Tereso', 'gender': 'male', 'probability': 0.92, 'count': 24}]), ('Melhem Salinas Edgardo', [{'name': 'Edgardo', 'gender': 'male', 'probability': 0.99, 'count': 1733}]), ('Méndez Hernández Sandra (LICENCIA)', [{'name': 'Sandra', 'gender': 'female', 'probability': 0.98, 'count': 266121}]), ('Mendoza Kaplan Emilio Andrés', [{'name': 'Andres', 'gender': 'male', 'probability': 0.98, 'count': 46013}]), ('Merlo Talavera María Isabel', [{'name': 'Isabel', 'gender': 'female', 'probability': 0.98, 'count': 60396}]), (' Luz Carolina Gudiño Corro', [{'name': '', 'gender': None, 'probability': 0.0, 'count': 0}]), ('Monroy Estrada Amador (LICENCIA)', [{'name': 'Amador', 'gender': 'male', 'probability': 0.98, 'count': 1722}]), ('Montes Cavazos Fermín', [{'name': 'Fermin', 'gender': 'male', 'probability': 0.98, 'count': 2435}]), ('Morales Martínez Fernando', [{'name': 'Fernando', 'gender': 'male', 'probability': 0.99, 'count': 88476}]), ('Moreno Merino Francisco Alejandro', [{'name': 'Alejandro', 'gender': 'male', 'probability': 0.99, 'count': 56977}]), (' Javier Duarte de Ochoa', [{'name': '', 'gender': None, 'probability': 0.0, 'count': 0}]), (' Roberto Armando Albores Gleason', [{'name': '', 'gender': None, 'probability': 0.0, 'count': 0}]), ('Navarrete Prida Jesús Alfonso', [{'name': 'Alfonso', 'gender': 'male', 'probability': 0.99, 'count': 30170}]), ('Neyra Chávez Armando', [{'name': 'Armando', 'gender': 'male', 'probability': 0.99, 'count': 21130}]), ('Norberto Sánchez Nazario', [{'name': 'Nazario', 'gender': 'male', 'probability': 0.99, 'count': 608}]), ('Ochoa Millán Maurilio', [{'name': 'Maurilio', 'gender': 'male', 'probability': 0.99, 'count': 384}]), (' David Ricardo Sánchez Guevara', [{'name': '', 'gender': None, 'probability': 0.0, 'count': 0}]), ('Orantes López Hernán de Jesús', [{'name': 'Jesus', 'gender': 'male', 'probability': 0.98, 'count': 75065}]), ('Ortiz González Graciela', [{'name': 'Graciela', 'gender': 'female', 'probability': 0.98, 'count': 3285}]), ('Pacheco Castro Carlos Oznerol', [{'name': 'Oznerol', 'gender': 'male', 'probability': 1.0, 'count': 14}]), ('Padilla López José Trinidad', [{'name': 'Trinidad', 'gender': 'female', 'probability': 0.92, 'count': 1047}]), ('Pedraza Olguín Héctor', [{'name': 'Hector', 'gender': 'male', 'probability': 0.99, 'count': 20708}]), ('Pedroza Jiménez Héctor', [{'name': 'Hector', 'gender': 'male', 'probability': 0.99, 'count': 20708}]), (' José Francisco Yunes Zorrilla', [{'name': '', 'gender': None, 'probability': 0.0, 'count': 0}]), ('Pérez Domínguez Guadalupe', [{'name': 'Guadalupe', 'gender': 'female', 'probability': 0.95, 'count': 2680}]), ('Pérez Magaña Eviel', [{'name': 'Eviel', 'gender': 'female', 'probability': 0.5, 'count': 4}]), ('Pérez Santos María Isabel', [{'name': 'Isabel', 'gender': 'female', 'probability': 0.98, 'count': 60396}]), ('Pichardo Lechuga José Ignacio', [{'name': 'Ignacio', 'gender': 'male', 'probability': 0.99, 'count': 9789}]), ('Pompa Corella Miguel Ernesto', [{'name': 'Ernesto', 'gender': 'male', 'probability': 0.99, 'count': 15976}]), (' Isaías González Cuevas', [{'name': '', 'gender': None, 'probability': 0.0, 'count': 0}]), ('Quiroz Cruz Sergio Lorenzo', [{'name': 'Lorenzo', 'gender': 'male', 'probability': 0.99, 'count': 55168}]), ('Quiñones Cornejo María de la Paz', [{'name': 'Paz', 'gender': 'female', 'probability': 0.86, 'count': 2218}]), ('Rábago Castillo José Francisco', [{'name': 'Francisco', 'gender': 'male', 'probability': 0.99, 'count': 98797}]), ('Ramírez Marín Jorge Carlos', [{'name': 'Carlos', 'gender': 'male', 'probability': 0.99, 'count': 236888}]), ('Ramírez Pineda Narcedalia', [{'name': 'Narcedalia', 'gender': 'female', 'probability': 1.0, 'count': 2}]), ('Ramírez Puga Leyva Héctor Pablo', [{'name': 'Pablo', 'gender': 'male', 'probability': 0.99, 'count': 76709}]), ('Ramos Montaño Francisco', [{'name': 'Francisco', 'gender': 'male', 'probability': 0.99, 'count': 98797}]), ('Rebollo Mendoza Ricardo Armando', [{'name': 'Armando', 'gender': 'male', 'probability': 0.99, 'count': 21130}]), ('Rebollo Vivero Roberto', [{'name': 'Roberto', 'gender': 'male', 'probability': 0.99, 'count': 151858}]), ('Reina Liceaga Rodrigo', [{'name': 'Rodrigo', 'gender': 'male', 'probability': 0.99, 'count': 22355}]), ('Rivera de la Torre Reginaldo', [{'name': 'Reginaldo', 'gender': 'male', 'probability': 0.99, 'count': 710}]), ('Robles Colín Leticia', [{'name': 'Leticia', 'gender': 'female', 'probability': 0.98, 'count': 10868}]), (' Salvador Manzur Díaz', [{'name': '', 'gender': None, 'probability': 0.0, 'count': 0}]), (' Miguel Ángel Riquelme Solís', [{'name': '', 'gender': None, 'probability': 0.0, 'count': 0}]), ('Rodríguez Cisneros Omar', [{'name': 'Omar', 'gender': 'male', 'probability': 0.98, 'count': 68333}]), (' Judith Fabiola Vázquez Saut', [{'name': '', 'gender': None, 'probability': 0.0, 'count': 0}]), ('Rodríguez Hernández Jesús María', [{'name': 'Maria', 'gender': 'female', 'probability': 0.98, 'count': 334287}]), ('Rodríguez Sosa Luis Félix', [{'name': 'Felix', 'gender': 'male', 'probability': 0.98, 'count': 35608}]), ('Rojas Gutiérrez Francisco José', [{'name': 'Jose', 'gender': 'male', 'probability': 0.98, 'count': 451671}]), ('Rojas Ruíz Ana María', [{'name': 'Maria', 'gender': 'female', 'probability': 0.98, 'count': 334287}]), ('Rojas San Román Francisco Lauro', [{'name': 'Lauro', 'gender': 'male', 'probability': 0.96, 'count': 832}]), ('Rojo García de Alba Jorge', [{'name': 'Jorge', 'gender': 'male', 'probability': 0.99, 'count': 118451}]), ('Romero Romero Jorge', [{'name': 'Jorge', 'gender': 'male', 'probability': 0.99, 'count': 118451}]), (' Felipe Amadeo Flores Espinosa', [{'name': '', 'gender': None, 'probability': 0.0, 'count': 0}]), (' Sara Gabriela Montiel Solis', [{'name': '', 'gender': None, 'probability': 0.0, 'count': 0}]), ('Rubí Salazar José Adán Ignacio', [{'name': 'Ignacio', 'gender': 'male', 'probability': 0.99, 'count': 9789}]), ('Rubio Barthell Eric Luis', [{'name': 'Luis', 'gender': 'male', 'probability': 0.99, 'count': 176693}]), (' Yulma Rocha Aguilar', [{'name': '', 'gender': None, 'probability': 0.0, 'count': 0}]), ('Ruíz Massieu Salinas Claudia', [{'name': 'Claudia', 'gender': 'female', 'probability': 0.98, 'count': 118604}]), ('Saldaña del Moral Fausto Sergio', [{'name': 'Sergio', 'gender': 'male', 'probability': 0.99, 'count': 131922}]), ('Salgado Romero Cuauhtémoc', [{'name': 'Cuauhtemoc', 'gender': 'male', 'probability': 1.0, 'count': 37}]), ('Sánchez García Gerardo', [{'name': 'Gerardo', 'gender': 'male', 'probability': 0.99, 'count': 12635}]), ('Sánchez Gálvez Ricardo', [{'name': 'Ricardo', 'gender': 'male', 'probability': 0.99, 'count': 75750}]), ('Sánchez Vélez Jaime', [{'name': 'Jaime', 'gender': 'male', 'probability': 0.97, 'count': 31195}]), ('Santiago Ramírez César Augusto', [{'name': 'Augusto', 'gender': 'male', 'probability': 0.99, 'count': 7715}]), ('Saracho Navarro Francisco (LICENCIA)', [{'name': 'Francisco', 'gender': 'male', 'probability': 0.99, 'count': 98797}]), ('Scherman Leaño María Esther de Jesús', [{'name': 'Jesus', 'gender': 'male', 'probability': 0.98, 'count': 75065}]), ('Serrano Hernández Maricela (LICENCIA)', [{'name': 'Maricela', 'gender': 'female', 'probability': 0.98, 'count': 721}]), ('Solís Acero Felipe', [{'name': 'Felipe', 'gender': 'male', 'probability': 0.98, 'count': 18670}]), (' Germán Osvaldo Cortez Sandoval', [{'name': '', 'gender': None, 'probability': 0.0, 'count': 0}]), ('Soto Martínez Leobardo', [{'name': 'Leobardo', 'gender': 'male', 'probability': 0.98, 'count': 54}]), ('Soto Oseguera José Luis', [{'name': 'Luis', 'gender': 'male', 'probability': 0.99, 'count': 176693}]), (' David Penchyna Grub', [{'name': '', 'gender': None, 'probability': 0.0, 'count': 0}]), ('Terán Velázquez María Esther', [{'name': 'Esther', 'gender': 'female', 'probability': 0.99, 'count': 43885}]), ('Terrazas Porras Adriana', [{'name': 'Adriana', 'gender': 'female', 'probability': 0.99, 'count': 49650}]), ('Terrón Mendoza Miguel Ángel (LICENCIA)', [{'name': 'Angel', 'gender': 'male', 'probability': 0.68, 'count': 105060}]), (' Aarón Irízar López', [{'name': '', 'gender': None, 'probability': 0.0, 'count': 0}]), ('Torres Huitrón José Alfredo', [{'name': 'Alfredo', 'gender': 'male', 'probability': 0.99, 'count': 28805}]), ('Trujillo Zentella Georgina', [{'name': 'Georgina', 'gender': 'female', 'probability': 0.99, 'count': 12530}]), (' Ardelio Vargas Fosado', [{'name': '', 'gender': None, 'probability': 0.0, 'count': 0}]), ('Valdés Huezo Josué Cirino', [{'name': 'Cirino', 'gender': 'male', 'probability': 0.98, 'count': 111}]), ('Vázquez Góngora Canek', [{'name': 'Canek', 'gender': 'male', 'probability': 1.0, 'count': 9}]), ('Vázquez Pérez Noé Martín', [{'name': 'Martin', 'gender': 'male', 'probability': 0.98, 'count': 180687}]), ('Velasco Lino José Luis', [{'name': 'Luis', 'gender': 'male', 'probability': 0.99, 'count': 176693}]), ('Velasco Monroy Héctor Eduardo', [{'name': 'Eduardo', 'gender': 'male', 'probability': 0.99, 'count': 43964}]), ('Verver y Vargas Ramírez Heladio Gerardo', [{'name': 'Gerardo', 'gender': 'male', 'probability': 0.99, 'count': 12635}]), (' Ramón Ramírez Valtierra', [{'name': '', 'gender': None, 'probability': 0.0, 'count': 0}]), ('Viggiano Austria Alma Carolina', [{'name': 'Carolina', 'gender': 'female', 'probability': 0.98, 'count': 40287}]), ('Villegas Arreola Alfredo', [{'name': 'Alfredo', 'gender': 'male', 'probability': 0.99, 'count': 28805}]), ('Yáñez Montaño J. Eduardo', [{'name': 'Eduardo', 'gender': 'male', 'probability': 0.99, 'count': 43964}]), ('Yglesias Arreola José Antonio', [{'name': 'Antonio', 'gender': 'male', 'probability': 0.99, 'count': 328654}]), ('Zamora Cabrera Cristabell', [{'name': 'Cristabell', 'gender': 'female', 'probability': 1.0, 'count': 8}]), ('Zamora Jiménez Arturo', [{'name': 'Arturo', 'gender': 'male', 'probability': 0.99, 'count': 15987}]), ('Zamora Villalva Alicia Elizabeth (LICENCIA)', [{'name': 'Elizabeth', 'gender': 'female', 'probability': 0.99, 'count': 31288}]), (' Héctor Agustín Murguía Lardizábal', [{'name': '', 'gender': None, 'probability': 0.0, 'count': 0}]), ('Zarzosa Sánchez Eduardo', [{'name': 'Eduardo', 'gender': 'male', 'probability': 0.99, 'count': 43964}]), ('Zubia Rivera Rolando', [{'name': 'Rolando', 'gender': 'male', 'probability': 0.99, 'count': 4714}]), ('Aguilar Armendáriz Velia Idalia', [{'name': 'Idalia', 'gender': 'female', 'probability': 0.98, 'count': 331}]), (' Juan de Jesús Pascualli Gómez', [{'name': '', 'gender': None, 'probability': 0.0, 'count': 0}]), ('Arámbula López José Antonio', [{'name': 'Antonio', 'gender': 'male', 'probability': 0.99, 'count': 328654}]), ('Arce Paniagua Óscar Martín', [{'name': 'Martin', 'gender': 'male', 'probability': 0.98, 'count': 180687}]), ('Arellano Rodríguez Rubén', [{'name': 'Ruben', 'gender': 'male', 'probability': 0.99, 'count': 60998}]), ('Arévalo Sosa Cecilia Soledad', [{'name': 'Soledad', 'gender': 'female', 'probability': 0.98, 'count': 5470}]), ('Arriaga Rojas Justino Eugenio', [{'name': 'Eugenio', 'gender': 'male', 'probability': 0.99, 'count': 10416}]), ('Ávila Ruíz Daniel Gabriel', [{'name': 'Gabriel', 'gender': 'male', 'probability': 0.98, 'count': 52559}]), ('Bahena Flores Alejandro', [{'name': 'Alejandro', 'gender': 'male', 'probability': 0.99, 'count': 56977}]), ('Balderas Vaquera Víctor Alejandro', [{'name': 'Alejandro', 'gender': 'male', 'probability': 0.99, 'count': 56977}]), ('Becerra Pocoroba Mario Alberto', [{'name': 'Alberto', 'gender': 'male', 'probability': 0.99, 'count': 124347}]), ('Bello Otero Carlos', [{'name': 'Carlos', 'gender': 'male', 'probability': 0.99, 'count': 236888}]), ('Bermúdez Méndez José Erandi', [{'name': 'Erandi', 'gender': 'female', 'probability': 0.68, 'count': 34}]), ('Camacho Pedrero Mirna Lucrecia', [{'name': 'Lucrecia', 'gender': 'female', 'probability': 0.99, 'count': 706}]), (' Javier Corral Jurado', [{'name': '', 'gender': None, 'probability': 0.0, 'count': 0}]), ('Cantú Rodríguez Felipe de Jesús', [{'name': 'Jesus', 'gender': 'male', 'probability': 0.98, 'count': 75065}]), ('Castellanos Flores Gumercindo', [{'name': 'Gumercindo', 'gender': 'male', 'probability': 0.92, 'count': 26}]), ('Castellanos Ramírez Julio', [{'name': 'Julio', 'gender': 'male', 'probability': 0.98, 'count': 37832}]), ('Castilla Marroquín Agustín Carlos', [{'name': 'Carlos', 'gender': 'male', 'probability': 0.99, 'count': 236888}]), ('Castillo Andrade Óscar Saúl', [{'name': 'Saul', 'gender': 'male', 'probability': 0.98, 'count': 5201}]), (' Alejandra Noemí Reynoso Sánchez', [{'name': '', 'gender': None, 'probability': 0.0, 'count': 0}]), ('Cortazar Ramos Ovidio', [{'name': 'Ovidio', 'gender': 'male', 'probability': 0.99, 'count': 537}]), ('Cortés León Yulenny Guylaine', [{'name': 'Guylaine', 'gender': 'female', 'probability': 0.98, 'count': 1310}]), ('Cortez Mendoza Jesús Gerardo', [{'name': 'Gerardo', 'gender': 'male', 'probability': 0.99, 'count': 12635}]), ('Cuadra García Raúl Gerardo', [{'name': 'Gerardo', 'gender': 'male', 'probability': 0.99, 'count': 12635}]), ('Cuevas Barron Gabriela', [{'name': 'Gabriela', 'gender': 'female', 'probability': 0.98, 'count': 36660}]), ('Cuevas García Juan José', [{'name': 'Jose', 'gender': 'male', 'probability': 0.98, 'count': 451671}]), ('De los Cobos Silva José Gerardo', [{'name': 'Gerardo', 'gender': 'male', 'probability': 0.99, 'count': 12635}]), ('Del Río Sánchez María Dolores', [{'name': 'Dolores', 'gender': 'female', 'probability': 0.98, 'count': 8341}]), ('Díaz Lizama Rosa Adriana', [{'name': 'Adriana', 'gender': 'female', 'probability': 0.99, 'count': 49650}]), ('Díaz de Rivera Hernández Augusta Valentina', [{'name': 'Valentina', 'gender': 'female', 'probability': 0.99, 'count': 75303}]), ('Escobar Martínez Juan Pablo', [{'name': 'Pablo', 'gender': 'male', 'probability': 0.99, 'count': 76709}]), ('Esquer Gutiérrez Alberto', [{'name': 'Alberto', 'gender': 'male', 'probability': 0.99, 'count': 124347}]), ('Estrada Rodríguez Laura Elena', [{'name': 'Elena', 'gender': 'female', 'probability': 0.99, 'count': 149871}]), ('Fuentes Cortés Adriana', [{'name': 'Adriana', 'gender': 'female', 'probability': 0.99, 'count': 49650}]), ('Gallegos Camarena Lucila del Carmen', [{'name': 'Carmen', 'gender': 'female', 'probability': 0.98, 'count': 103801}]), ('Gama Dufour Sergio', [{'name': 'Sergio', 'gender': 'male', 'probability': 0.99, 'count': 131922}]), ('García Bringas Leandro Rafael', [{'name': 'Rafael', 'gender': 'male', 'probability': 0.99, 'count': 45829}]), ('García Gómez Martha Elena', [{'name': 'Elena', 'gender': 'female', 'probability': 0.99, 'count': 149871}]), ('García Portillo Arturo', [{'name': 'Arturo', 'gender': 'male', 'probability': 0.99, 'count': 15987}]), ('Germán Olivares Sergio Octavio', [{'name': 'Octavio', 'gender': 'male', 'probability': 0.99, 'count': 2450}]), ('González Hernández Gustavo', [{'name': 'Gustavo', 'gender': 'male', 'probability': 0.98, 'count': 18273}]), ('González Hernández Sergio', [{'name': 'Sergio', 'gender': 'male', 'probability': 0.99, 'count': 131922}]), ('González Madruga César Daniel', [{'name': 'Daniel', 'gender': 'male', 'probability': 0.99, 'count': 317409}]), (' Manuel Jesús Clouthier Carrillo', [{'name': '', 'gender': None, 'probability': 0.0, 'count': 0}]), ('González Ulloa Nancy', [{'name': 'Nancy', 'gender': 'female', 'probability': 0.98, 'count': 42623}]), ('Guillén Medina Leonardo Arturo', [{'name': 'Arturo', 'gender': 'male', 'probability': 0.99, 'count': 15987}]), ('Gutiérrez Cortina Paz', [{'name': 'Paz', 'gender': 'female', 'probability': 0.86, 'count': 2218}]), ('Gutiérrez Fragoso Valdemar', [{'name': 'Valdemar', 'gender': 'male', 'probability': 0.98, 'count': 1095}]), ('Gutiérrez Ramírez Tomás', [{'name': 'Tomas', 'gender': 'male', 'probability': 0.99, 'count': 35318}]), (' Pablo Rodríguez Regordosa', [{'name': '', 'gender': None, 'probability': 0.0, 'count': 0}]), ('Herrera Rivera Bonifacio', [{'name': 'Bonifacio', 'gender': 'male', 'probability': 0.98, 'count': 534}]), ('Hinojosa Pérez José Manuel', [{'name': 'Manuel', 'gender': 'male', 'probability': 0.99, 'count': 166605}]), ('Hurtado Leija Gregorio', [{'name': 'Gregorio', 'gender': 'male', 'probability': 0.99, 'count': 5179}]), ('Iñiguez Gámez José Luis', [{'name': 'Luis', 'gender': 'male', 'probability': 0.99, 'count': 176693}]), ('Landero Gutiérrez José Francisco Javier', [{'name': 'Javier', 'gender': 'male', 'probability': 0.99, 'count': 106497}]), ('López Hernández Oralia', [{'name': 'Oralia', 'gender': 'female', 'probability': 0.96, 'count': 26}]), ('López Rabadán Kenia', [{'name': 'Kenia', 'gender': 'female', 'probability': 0.97, 'count': 1214}]), ('Lugo Martínez Ruth Esperanza', [{'name': 'Esperanza', 'gender': 'female', 'probability': 0.97, 'count': 5431}]), ('Luken Garza Gastón', [{'name': 'Gaston', 'gender': 'male', 'probability': 0.97, 'count': 5144}]), ('Luna Ruíz Gloria Trinidad', [{'name': 'Trinidad', 'gender': 'female', 'probability': 0.92, 'count': 1047}]), ('Madrigal Díaz César Octavio', [{'name': 'Octavio', 'gender': 'male', 'probability': 0.99, 'count': 2450}]), ('Mancillas Amador César', [{'name': 'Cesar', 'gender': 'male', 'probability': 0.98, 'count': 27863}]), ('Márquez Zapata Nelly Del Carmen', [{'name': 'Carmen', 'gender': 'female', 'probability': 0.98, 'count': 103801}]), ('Marroquín Toledo José Manuel', [{'name': 'Manuel', 'gender': 'male', 'probability': 0.99, 'count': 166605}]), ('Martín López Miguel', [{'name': 'Miguel', 'gender': 'male', 'probability': 0.99, 'count': 158479}]), ('Martínez Martínez Carlos', [{'name': 'Carlos', 'gender': 'male', 'probability': 0.99, 'count': 236888}]), ('Martínez Montemayor Baltazar', [{'name': 'Baltazar', 'gender': 'male', 'probability': 0.96, 'count': 596}]), ('Martínez Peñaloza Miguel', [{'name': 'Miguel', 'gender': 'male', 'probability': 0.99, 'count': 158479}]), ('Meillón Johnston Carlos Luis', [{'name': 'Luis', 'gender': 'male', 'probability': 0.99, 'count': 176693}]), ('Méndez Herrera Alba Leonila', [{'name': 'Leonila', 'gender': 'female', 'probability': 1.0, 'count': 140}]), ('Mendoza Díaz Sonia', [{'name': 'Sonia', 'gender': 'female', 'probability': 0.98, 'count': 114177}]), (' Guillermo José Zavaleta Rojas', [{'name': '', 'gender': None, 'probability': 0.0, 'count': 0}]), ('Mercado Sánchez Luis Enrique', [{'name': 'Enrique', 'gender': 'male', 'probability': 0.99, 'count': 25630}]), ('Merino Loo Ramón', [{'name': 'Ramon', 'gender': 'male', 'probability': 0.98, 'count': 27550}]), ('Monge Villalobos Silvia Isabel', [{'name': 'Isabel', 'gender': 'female', 'probability': 0.98, 'count': 60396}]), ('Montalvo López Yolanda del Carmen', [{'name': 'Carmen', 'gender': 'female', 'probability': 0.98, 'count': 103801}]), ('Morán Sánchez Leoncio Alfonso', [{'name': 'Alfonso', 'gender': 'male', 'probability': 0.99, 'count': 30170}]), (' Adriana de Lourdes Hinojosa Céspedes', [{'name': '', 'gender': None, 'probability': 0.0, 'count': 0}]), ('Nava Vázquez José César', [{'name': 'Cesar', 'gender': 'male', 'probability': 0.98, 'count': 27863}]), ('Novoa Mossberger María Joann', [{'name': 'Joann', 'gender': 'female', 'probability': 0.83, 'count': 1206}]), ('Oliva Ramírez Jaime', [{'name': 'Jaime', 'gender': 'male', 'probability': 0.97, 'count': 31195}]), ('Orduño Valdez Francisco Javier', [{'name': 'Javier', 'gender': 'male', 'probability': 0.99, 'count': 106497}]), ('Orozco Rosi', [{'name': 'Rosi', 'gender': 'female', 'probability': 0.96, 'count': 8028}]), ('Ortega Joaquín Gustavo Antonio Miguel', [{'name': 'Miguel', 'gender': 'male', 'probability': 0.99, 'count': 158479}]), ('Osuna Millán Miguel Antonio', [{'name': 'Antonio', 'gender': 'male', 'probability': 0.99, 'count': 328654}]), ('Ovando Patrón José Luis', [{'name': 'Luis', 'gender': 'male', 'probability': 0.99, 'count': 176693}]), ('Paredes Arciga Ana Elia', [{'name': 'Elia', 'gender': 'male', 'probability': 0.59, 'count': 6138}]), ('Parra Becerra María Felicitas', [{'name': 'Felicitas', 'gender': 'female', 'probability': 0.96, 'count': 628}]), ('Pedroza Gaitán César Octavio', [{'name': 'Octavio', 'gender': 'male', 'probability': 0.99, 'count': 2450}]), ('Peralta Rivas Pedro', [{'name': 'Pedro', 'gender': 'male', 'probability': 0.99, 'count': 165413}]), ('Pérez Ceballos Silvia Esther', [{'name': 'Esther', 'gender': 'female', 'probability': 0.99, 'count': 43885}]), ('Pérez Cuevas Carlos Alberto', [{'name': 'Alberto', 'gender': 'male', 'probability': 0.99, 'count': 124347}]), ('Pérez Esquer Marcos', [{'name': 'Marcos', 'gender': 'male', 'probability': 0.99, 'count': 42611}]), ('Pérez Reyes María Antonieta', [{'name': 'Antonieta', 'gender': 'female', 'probability': 0.99, 'count': 596}]), ('Pérez de Tejada Romero Ma. Elena', [{'name': 'Elena', 'gender': 'female', 'probability': 0.99, 'count': 149871}]), ('Quezada Naranjo Benigno', [{'name': 'Benigno', 'gender': 'male', 'probability': 0.99, 'count': 431}]), (' Juan Huerta Montero', [{'name': '', 'gender': None, 'probability': 0.0, 'count': 0}]), ('Ramírez Bucio Arturo', [{'name': 'Arturo', 'gender': 'male', 'probability': 0.99, 'count': 15987}]), ('Ramírez Puente Camilo', [{'name': 'Camilo', 'gender': 'male', 'probability': 0.98, 'count': 4565}]), ('Ramírez Rangel Jesús', [{'name': 'Jesus', 'gender': 'male', 'probability': 0.98, 'count': 75065}]), ('Ramos Cárdenas Liev Vladimir', [{'name': 'Vladimir', 'gender': 'male', 'probability': 0.99, 'count': 24429}]), ('Rangel Vargas Felipe de Jesús', [{'name': 'Jesus', 'gender': 'male', 'probability': 0.98, 'count': 75065}]), ('Rétiz Gutiérrez Ezequiel', [{'name': 'Ezequiel', 'gender': 'male', 'probability': 0.99, 'count': 4330}]), ('Reyes Hernández Ivideliza', [{'name': 'Ivideliza', 'gender': None, 'probability': 0.0, 'count': 0}]), ('Reynoso Femat Ma. de Lourdes', [{'name': 'Lourdes', 'gender': 'female', 'probability': 0.99, 'count': 12657}]), ('Rico Jiménez Martín', [{'name': 'Martin', 'gender': 'male', 'probability': 0.98, 'count': 180687}]), ('Robles Medina Guadalupe Eduardo', [{'name': 'Eduardo', 'gender': 'male', 'probability': 0.99, 'count': 43964}]), ('Rodríguez Dávila Alfredo Javier', [{'name': 'Javier', 'gender': 'male', 'probability': 0.99, 'count': 106497}]), ('Rodríguez Galarza Wendy Guadalupe', [{'name': 'Guadalupe', 'gender': 'female', 'probability': 0.95, 'count': 2680}]), ('Rojo Montoya Adolfo', [{'name': 'Adolfo', 'gender': 'male', 'probability': 0.99, 'count': 6858}]), ('Romero León Gloria', [{'name': 'Gloria', 'gender': 'female', 'probability': 0.99, 'count': 35269}]), (' Jesús Giles Sánchez', [{'name': '', 'gender': None, 'probability': 0.0, 'count': 0}]), (' Alfonso Jesús Martínez Alcázar', [{'name': '', 'gender': None, 'probability': 0.0, 'count': 0}]), ('Salazar Sáenz Francisco Javier', [{'name': 'Javier', 'gender': 'male', 'probability': 0.99, 'count': 106497}]), ('Salazar Vázquez Norma Leticia', [{'name': 'Leticia', 'gender': 'female', 'probability': 0.98, 'count': 10868}]), ('Saldaña Morán Julio', [{'name': 'Julio', 'gender': 'male', 'probability': 0.98, 'count': 37832}]), (' Ema Margarita Alemán Olvera', [{'name': '', 'gender': None, 'probability': 0.0, 'count': 0}]), ('Sánchez Romero Norma', [{'name': 'Norma', 'gender': 'female', 'probability': 0.97, 'count': 5406}]), ('Santamaría Prieto Fernando', [{'name': 'Fernando', 'gender': 'male', 'probability': 0.99, 'count': 88476}]), ('Seara Sierra José Ignacio', [{'name': 'Ignacio', 'gender': 'male', 'probability': 0.99, 'count': 9789}]), ('Suárez González Laura Margarita', [{'name': 'Margarita', 'gender': 'female', 'probability': 0.98, 'count': 12994}]), ('Téllez González Ignacio', [{'name': 'Ignacio', 'gender': 'male', 'probability': 0.99, 'count': 9789}]), ('Téllez Juárez Bernardo Margarito', [{'name': 'Margarito', 'gender': 'male', 'probability': 0.93, 'count': 85}]), ('Tolento Hernández Sergio', [{'name': 'Sergio', 'gender': 'male', 'probability': 0.99, 'count': 131922}]), ('Torres Delgado Enrique', [{'name': 'Enrique', 'gender': 'male', 'probability': 0.99, 'count': 25630}]), ('Torres Ibarrola Agustín', [{'name': 'Agustin', 'gender': 'male', 'probability': 0.97, 'count': 8919}]), ('Torres Peimbert María Marcela', [{'name': 'Marcela', 'gender': 'female', 'probability': 0.99, 'count': 23039}]), ('Torres Santos Sergio Arturo', [{'name': 'Arturo', 'gender': 'male', 'probability': 0.99, 'count': 15987}]), ('Trejo Azuara Enrique Octavio', [{'name': 'Octavio', 'gender': 'male', 'probability': 0.99, 'count': 2450}]), ('Trigueras Durón Dora Evelyn', [{'name': 'Evelyn', 'gender': 'female', 'probability': 0.98, 'count': 12188}]), ('Ugalde Basaldúa María Sandra', [{'name': 'Sandra', 'gender': 'female', 'probability': 0.98, 'count': 266121}]), ('Usabiaga Arroyo Javier Bernardo', [{'name': 'Bernardo', 'gender': 'male', 'probability': 0.99, 'count': 7259}]), ('Valencia Vales María Yolanda', [{'name': 'Yolanda', 'gender': 'female', 'probability': 0.99, 'count': 26005}]), ('Valenzuela Cabrales Guadalupe', [{'name': 'Guadalupe', 'gender': 'female', 'probability': 0.95, 'count': 2680}]), (' Roberto Gil Zuarth', [{'name': '', 'gender': None, 'probability': 0.0, 'count': 0}]), ('Vega De Lamadrid Francisco Arturo', [{'name': 'Arturo', 'gender': 'male', 'probability': 0.99, 'count': 15987}]), ('Velázquez y Llorente Julián Francisco', [{'name': 'Francisco', 'gender': 'male', 'probability': 0.99, 'count': 98797}]), ('Vera Hernández J. Guadalupe', [{'name': 'Guadalupe', 'gender': 'female', 'probability': 0.95, 'count': 2680}]), (' Francisco Javier Ramírez Acuña', [{'name': '', 'gender': None, 'probability': 0.0, 'count': 0}]), ('Vives Preciado Tomasa', [{'name': 'Tomasa', 'gender': 'female', 'probability': 0.96, 'count': 164}]), ('Zetina Soto Sixto Alfonso', [{'name': 'Alfonso', 'gender': 'male', 'probability': 0.99, 'count': 30170}]), ('Acosta Naranjo Guadalupe', [{'name': 'Guadalupe', 'gender': 'female', 'probability': 0.95, 'count': 2680}]), ('Anaya Mota Claudia Edith', [{'name': 'Edith', 'gender': 'female', 'probability': 0.98, 'count': 12157}]), (' José de Jesús Zambrano Grijalva', [{'name': '', 'gender': None, 'probability': 0.0, 'count': 0}]), ('Bernardino Rojas Martha Angélica', [{'name': 'Angelica', 'gender': 'female', 'probability': 0.99, 'count': 17941}]), ('Burelo Burelo César Francisco', [{'name': 'Francisco', 'gender': 'male', 'probability': 0.99, 'count': 98797}]), ('Carmona Cabrera Bélgica Nabil', [{'name': 'Nabil', 'gender': 'male', 'probability': 0.98, 'count': 31603}]), ('Castro Cosío Víctor Manuel', [{'name': 'Manuel', 'gender': 'male', 'probability': 0.99, 'count': 166605}]), (' Filemón Navarro Aguilar', [{'name': '', 'gender': None, 'probability': 0.0, 'count': 0}]), ('Cruz Cruz Juanita Arcelia', [{'name': 'Arcelia', 'gender': 'female', 'probability': 0.96, 'count': 47}]), (' María Guadalupe Silerio Núñez', [{'name': '', 'gender': None, 'probability': 0.0, 'count': 0}]), ('Damián Peralta Esthela', [{'name': 'Esthela', 'gender': 'female', 'probability': 0.98, 'count': 157}]), (' Adán Augusto López Hernández', [{'name': '', 'gender': None, 'probability': 0.0, 'count': 0}]), (' Carlos Torres Piña', [{'name': '', 'gender': None, 'probability': 0.0, 'count': 0}]), ('Eguía Pérez Luis Felipe', [{'name': 'Felipe', 'gender': 'male', 'probability': 0.98, 'count': 18670}]), ('Encinas Rodríguez Alejandro de Jesús', [{'name': 'Jesus', 'gender': 'male', 'probability': 0.98, 'count': 75065}]), ('Espinosa Morales Olga Luz', [{'name': 'Luz', 'gender': 'female', 'probability': 0.97, 'count': 11797}]), ('García Avilés Martín', [{'name': 'Martin', 'gender': 'male', 'probability': 0.98, 'count': 180687}]), (' Uriel López Paredes', [{'name': '', 'gender': None, 'probability': 0.0, 'count': 0}]), ('García Coronado Lizbeth', [{'name': 'Lizbeth', 'gender': 'female', 'probability': 0.99, 'count': 751}]), (' Ángel Aguirre Herrera', [{'name': '', 'gender': None, 'probability': 0.0, 'count': 0}]), ('Gómez León Ariel', [{'name': 'Ariel', 'gender': 'male', 'probability': 0.81, 'count': 11501}]), (' Víctor Manuel Báez Ceja', [{'name': '', 'gender': None, 'probability': 0.0, 'count': 0}]), (' Mauricio Alonso Toledo Gutiérrez', [{'name': '', 'gender': None, 'probability': 0.0, 'count': 0}]), ('Guajardo Villarreal Mary Telma', [{'name': 'Telma', 'gender': 'female', 'probability': 0.98, 'count': 3225}]), ('Guerrero Castillo Agustín', [{'name': 'Agustin', 'gender': 'male', 'probability': 0.97, 'count': 8919}]), ('Gutiérrez Villanueva Sergio Ernesto', [{'name': 'Ernesto', 'gender': 'male', 'probability': 0.99, 'count': 15976}]), ('Hernández Cruz Luis', [{'name': 'Luis', 'gender': 'male', 'probability': 0.99, 'count': 176693}]), ('Hernández Juárez Francisco', [{'name': 'Francisco', 'gender': 'male', 'probability': 0.99, 'count': 98797}]), ('Hernández Rodríguez Héctor Hugo', [{'name': 'Hugo', 'gender': 'male', 'probability': 0.99, 'count': 46650}]), ('Herrera Chávez Samuel', [{'name': 'Samuel', 'gender': 'male', 'probability': 0.99, 'count': 59464}]), ('Incháustegui Romero Teresa del Carmen', [{'name': 'Carmen', 'gender': 'female', 'probability': 0.98, 'count': 103801}]), ('Jaime Correa José Luis', [{'name': 'Luis', 'gender': 'male', 'probability': 0.99, 'count': 176693}]), ('Jiménez Fuentes Ramón', [{'name': 'Ramon', 'gender': 'male', 'probability': 0.98, 'count': 27550}]), ('Jiménez López Ramón', [{'name': 'Ramon', 'gender': 'male', 'probability': 0.98, 'count': 27550}]), ('Lara Lagunas Rodolfo', [{'name': 'Rodolfo', 'gender': 'male', 'probability': 0.98, 'count': 7271}]), ('Leyva Hernández Gerardo', [{'name': 'Gerardo', 'gender': 'male', 'probability': 0.99, 'count': 12635}]), ('Llerenas Morales Vidal', [{'name': 'Vidal', 'gender': 'male', 'probability': 0.86, 'count': 1165}]), ('López Fernández Juan Carlos', [{'name': 'Carlos', 'gender': 'male', 'probability': 0.99, 'count': 236888}]), (' Julio César Godoy Toscano', [{'name': '', 'gender': None, 'probability': 0.0, 'count': 0}]), ('Marín Díaz Feliciano Rosendo', [{'name': 'Rosendo', 'gender': 'male', 'probability': 0.97, 'count': 575}]), ('Méndez Rangel Avelino', [{'name': 'Avelino', 'gender': 'male', 'probability': 0.98, 'count': 1517}]), ('Mendoza Arellano Eduardo', [{'name': 'Eduardo', 'gender': 'male', 'probability': 0.99, 'count': 43964}]), (' Ilich Augusto Lozano Herrera', [{'name': '', 'gender': None, 'probability': 0.0, 'count': 0}]), ('Meza Castro Francisco Armando', [{'name': 'Armando', 'gender': 'male', 'probability': 0.99, 'count': 21130}]), ('Nazares Jerónimo Dolores de los Ángeles', [{'name': 'Angeles', 'gender': 'female', 'probability': 0.98, 'count': 8437}]), ('Ovalle Vaquera Federico', [{'name': 'Federico', 'gender': 'male', 'probability': 0.99, 'count': 43663}]), (' Marcos Alberto Covarrubias Villaseñor', [{'name': '', 'gender': None, 'probability': 0.0, 'count': 0}]), ('Quezada Contreras Leticia', [{'name': 'Leticia', 'gender': 'female', 'probability': 0.98, 'count': 10868}]), ('Ramírez Hernández Socorro Sofío', [{'name': 'Sofio', 'gender': 'female', 'probability': 0.53, 'count': 60}]), (' José Narro Céspedes', [{'name': '', 'gender': None, 'probability': 0.0, 'count': 0}]), ('Ríos Piter Armando', [{'name': 'Armando', 'gender': 'male', 'probability': 0.99, 'count': 21130}]), ('Rodríguez Martell Domingo', [{'name': 'Domingo', 'gender': 'male', 'probability': 0.98, 'count': 5937}]), ('Rosario Morales Florentina', [{'name': 'Florentina', 'gender': 'female', 'probability': 0.98, 'count': 3554}]), ('Salgado Vázquez Rigoberto', [{'name': 'Rigoberto', 'gender': 'male', 'probability': 0.97, 'count': 604}]), (' Juventino Víctor Castro y Castro', [{'name': '', 'gender': None, 'probability': 0.0, 'count': 0}]), ('Santana Alfaro Arturo', [{'name': 'Arturo', 'gender': 'male', 'probability': 0.99, 'count': 15987}]), ('Torres Robledo José M.', [{'name': 'M.', 'gender': None, 'probability': 0.0, 'count': 0}]), ('Uranga Muñoz Enoé Margarita', [{'name': 'Margarita', 'gender': 'female', 'probability': 0.98, 'count': 12994}]), ('Valencia Barajas José María', [{'name': 'Maria', 'gender': 'female', 'probability': 0.98, 'count': 334287}]), ('Vargas Cortez Balfre', [{'name': 'Balfre', 'gender': None, 'probability': 0.0, 'count': 0}]), ('Vázquez Camacho María Araceli', [{'name': 'Araceli', 'gender': 'female', 'probability': 0.99, 'count': 4055}]), ('Velázquez Esquivel Emiliano', [{'name': 'Emiliano', 'gender': 'male', 'probability': 0.99, 'count': 8829}]), ('Vizcaíno Silva Indira', [{'name': 'Indira', 'gender': 'female', 'probability': 0.98, 'count': 2642}]), ('Brindis Álvarez Rosario', [{'name': 'Rosario', 'gender': 'male', 'probability': 0.69, 'count': 23533}]), ('Carabias Icaza Alejandro (LICENCIA)', [{'name': 'Alejandro', 'gender': 'male', 'probability': 0.99, 'count': 56977}]), ('Cinta Martínez Alberto Emiliano', [{'name': 'Emiliano', 'gender': 'male', 'probability': 0.99, 'count': 8829}]), ('Cirigo Vasquez Víctor Hugo', [{'name': 'Hugo', 'gender': 'male', 'probability': 0.99, 'count': 46650}]), ('Corona Valdés Lorena', [{'name': 'Lorena', 'gender': 'female', 'probability': 0.99, 'count': 48688}]), (' Kattia Garza Romo', [{'name': '', 'gender': None, 'probability': 0.0, 'count': 0}]), (' Carolina García Cañón', [{'name': '', 'gender': None, 'probability': 0.0, 'count': 0}]), ('Escudero Morales Pablo', [{'name': 'Pablo', 'gender': 'male', 'probability': 0.99, 'count': 76709}]), (' Mariana Ivette Ezeta Salcedo', [{'name': '', 'gender': None, 'probability': 0.0, 'count': 0}]), ('Flores Ramírez Juan Gerardo', [{'name': 'Gerardo', 'gender': 'male', 'probability': 0.99, 'count': 12635}]), ('Guerra Abud Juan José', [{'name': 'Jose', 'gender': 'male', 'probability': 0.98, 'count': 451671}]), (' Diego Guerrero Rubio', [{'name': '', 'gender': None, 'probability': 0.0, 'count': 0}]), ('Ledesma Romo Eduardo', [{'name': 'Eduardo', 'gender': 'male', 'probability': 0.99, 'count': 43964}]), ('Natale López Juan Carlos', [{'name': 'Carlos', 'gender': 'male', 'probability': 0.99, 'count': 236888}]), ('Pacchiano Alamán Rafael', [{'name': 'Rafael', 'gender': 'male', 'probability': 0.99, 'count': 45829}]), ('Pérez-Alonso González Rodrigo', [{'name': 'Rodrigo', 'gender': 'male', 'probability': 0.99, 'count': 22355}]), ('Piña Olmedo Laura', [{'name': 'Laura', 'gender': 'female', 'probability': 0.98, 'count': 288403}]), (' Carlos Samuel Moreno Terán', [{'name': '', 'gender': None, 'probability': 0.0, 'count': 0}]), (' Álvaro Raymundo Vargas Sáenz', [{'name': '', 'gender': None, 'probability': 0.0, 'count': 0}]), ('Salinas Sada Ninfa Clara', [{'name': 'Clara', 'gender': 'female', 'probability': 0.98, 'count': 42811}]), ('Sarur Torre Adriana', [{'name': 'Adriana', 'gender': 'female', 'probability': 0.99, 'count': 49650}]), ('Vidal Aguilar Liborio', [{'name': 'Liborio', 'gender': 'male', 'probability': 0.99, 'count': 576}]), ('Cárdenas Gracia Jaime Fernando', [{'name': 'Fernando', 'gender': 'male', 'probability': 0.99, 'count': 88476}]), ('Caro Cabrera Salvador', [{'name': 'Salvador', 'gender': 'male', 'probability': 0.98, 'count': 10346}]), ('Castillo Juárez Laura Itzel', [{'name': 'Itzel', 'gender': 'female', 'probability': 0.94, 'count': 220}]), ('Di Costanzo Armenta Mario Alberto', [{'name': 'Alberto', 'gender': 'male', 'probability': 0.99, 'count': 124347}]), ('Escobar García Herón Agustín', [{'name': 'Agustin', 'gender': 'male', 'probability': 0.97, 'count': 8919}]), ('Espinosa Ramos Francisco Amadeo', [{'name': 'Amadeo', 'gender': 'male', 'probability': 0.99, 'count': 803}])])"
      ]
     },
     "execution_count": 184,
     "metadata": {},
     "output_type": "execute_result"
    }
   ],
   "source": [
    "mapping_names_gender61.items()"
   ]
  },
  {
   "cell_type": "code",
   "execution_count": 185,
   "metadata": {
    "scrolled": true
   },
   "outputs": [],
   "source": [
    "clean_gender = {}\n",
    "for x, y in mapping_names_gender61.items():\n",
    "    if x == ' Angélica del Rosario Araujo Lara':\n",
    "        clean_gender[x] = 'female'\n",
    "    elif x == 'Aguirre Maldonado Ma. de Jesús (LICENCIA)':\n",
    "        clean_gender[x] = 'female'\n",
    "    elif x == ' Beatríz Elena Paredes Rangel':\n",
    "        clean_gender[x] = 'female'\n",
    "    elif x == ' Yulma Rocha Aguilar':\n",
    "        clean_gender[x] = 'female'\n",
    "    elif x == ' Sara Gabriela Montiel Solis':\n",
    "        clean_gender[x] = 'female'\n",
    "    elif x == ' Judith Fabiola Vázquez Saut':\n",
    "        clean_gender[x] = 'female'\n",
    "    elif x == ' Luz Carolina Gudiño Corro':\n",
    "        clean_gender[x] = 'female'\n",
    "    elif x == ' Fuensanta Patricia Jiménez Case':\n",
    "        clean_gender[x] = 'female'\n",
    "    elif x == 'Gastélum Bajo Diva Hadamira':\n",
    "        clean_gender[x] = 'female'\n",
    "    elif x == ' Rosario Ortiz Yeladaqui':\n",
    "        clean_gender[x] = 'female'\n",
    "    elif x == ' Esthela de Jesús Ponce Beltrán':\n",
    "        clean_gender[x] = 'female'\n",
    "    elif x == ' Alejandra Noemí Reynoso Sánchez':\n",
    "        clean_gender[x] = 'female'\n",
    "    elif x == ' Adriana de Lourdes Hinojosa Céspedes':\n",
    "        clean_gender[x] = 'female'\n",
    "    elif x == ' Ema Margarita Alemán Olvera':\n",
    "        clean_gender[x] = 'female'\n",
    "    elif x == ' María Guadalupe Silerio Núñez':\n",
    "        clean_gender[x] = 'female'\n",
    "    elif x == ' Kattia Garza Romo':\n",
    "        clean_gender[x] = 'female'\n",
    "    elif x == ' Carolina García Cañón':\n",
    "        clean_gender[x] = 'female'\n",
    "    elif x == ' Mariana Ivette Ezeta Salcedo':\n",
    "        clean_gender[x] = 'female'\n",
    "    elif x == ' Jeny De los Reyes Aguilar':\n",
    "        clean_gender[x] = 'female'\n",
    "    elif y[0]['gender'] == None:\n",
    "        clean_gender[x] = 'male'\n",
    "    else:\n",
    "        clean_gender[x] = y[0]['gender']\n",
    "#    print(x,'--->' ,y[0]['gender'])"
   ]
  },
  {
   "cell_type": "code",
   "execution_count": 154,
   "metadata": {},
   "outputs": [],
   "source": [
    "missing_gender = [\n",
    "    'male',\n",
    "    'male', \n",
    "    'male', \n",
    "    'female', \n",
    "    'male', \n",
    "    'female', \n",
    "    'female', \n",
    "    'male', \n",
    "    'male',\n",
    "    'female', \n",
    "    'male',\n",
    "    'female',\n",
    "    'male',\n",
    "    'male',\n",
    "    'female',\n",
    "    'female', \n",
    "    'male',\n",
    "    'female',\n",
    "    'female',\n",
    "    'male',\n",
    "    'male',\n",
    "    'female',\n",
    "    'male',\n",
    "    'female',\n",
    "    'male'\n",
    "]"
   ]
  },
  {
   "cell_type": "code",
   "execution_count": 169,
   "metadata": {
    "scrolled": true
   },
   "outputs": [],
   "source": [
    "\n",
    "for i, x in zip(data61_p[475:], missing_gender):\n",
    "    clean_gender[i['nombre_completo']] = x\n",
    "    #print(i['nombre_completo'] , '-->', x)"
   ]
  },
  {
   "cell_type": "code",
   "execution_count": 170,
   "metadata": {},
   "outputs": [
    {
     "data": {
      "text/plain": [
       "500"
      ]
     },
     "execution_count": 170,
     "metadata": {},
     "output_type": "execute_result"
    }
   ],
   "source": [
    "len(clean_gender)"
   ]
  },
  {
   "cell_type": "code",
   "execution_count": null,
   "metadata": {},
   "outputs": [],
   "source": [
    "clean_gender"
   ]
  },
  {
   "cell_type": "code",
   "execution_count": null,
   "metadata": {},
   "outputs": [],
   "source": [
    "data_gender61 = []\n",
    "for x, y in zip(clean_gender, id_s):\n",
    "    temp = {}\n",
    "    temp['name']\n",
    "    data_gender61"
   ]
  },
  {
   "cell_type": "code",
   "execution_count": 186,
   "metadata": {},
   "outputs": [],
   "source": [
    "gender_data61 = []\n",
    "for x, y in zip(id_s, clean_gender.keys()):\n",
    "    temp = {}\n",
    "    temp['id_legislador'] = x\n",
    "    temp['name_legislador'] = y\n",
    "    temp['gender'] = clean_gender[y]\n",
    "    gender_data61.append(temp)"
   ]
  },
  {
   "cell_type": "code",
   "execution_count": 176,
   "metadata": {},
   "outputs": [
    {
     "data": {
      "text/plain": [
       "'male'"
      ]
     },
     "execution_count": 176,
     "metadata": {},
     "output_type": "execute_result"
    }
   ],
   "source": [
    "clean_gender['Aguero Tovar José Manuel']"
   ]
  },
  {
   "cell_type": "code",
   "execution_count": 188,
   "metadata": {},
   "outputs": [
    {
     "data": {
      "text/html": [
       "<div>\n",
       "<style scoped>\n",
       "    .dataframe tbody tr th:only-of-type {\n",
       "        vertical-align: middle;\n",
       "    }\n",
       "\n",
       "    .dataframe tbody tr th {\n",
       "        vertical-align: top;\n",
       "    }\n",
       "\n",
       "    .dataframe thead th {\n",
       "        text-align: right;\n",
       "    }\n",
       "</style>\n",
       "<table border=\"1\" class=\"dataframe\">\n",
       "  <thead>\n",
       "    <tr style=\"text-align: right;\">\n",
       "      <th></th>\n",
       "      <th>id_legislador</th>\n",
       "      <th>name_legislador</th>\n",
       "      <th>gender</th>\n",
       "    </tr>\n",
       "  </thead>\n",
       "  <tbody>\n",
       "    <tr>\n",
       "      <th>0</th>\n",
       "      <td>e9957eae-fe1d-11ea-95ca-acde48001122</td>\n",
       "      <td>Aguero Tovar José Manuel</td>\n",
       "      <td>male</td>\n",
       "    </tr>\n",
       "    <tr>\n",
       "      <th>1</th>\n",
       "      <td>e9d6a474-fe1d-11ea-95ca-acde48001122</td>\n",
       "      <td>Aguilar González José Óscar</td>\n",
       "      <td>male</td>\n",
       "    </tr>\n",
       "    <tr>\n",
       "      <th>2</th>\n",
       "      <td>ea148140-fe1d-11ea-95ca-acde48001122</td>\n",
       "      <td>Angélica del Rosario Araujo Lara</td>\n",
       "      <td>female</td>\n",
       "    </tr>\n",
       "    <tr>\n",
       "      <th>3</th>\n",
       "      <td>ea4e3390-fe1d-11ea-95ca-acde48001122</td>\n",
       "      <td>Beatríz Elena Paredes Rangel</td>\n",
       "      <td>female</td>\n",
       "    </tr>\n",
       "    <tr>\n",
       "      <th>4</th>\n",
       "      <td>ea7fef70-fe1d-11ea-95ca-acde48001122</td>\n",
       "      <td>Aguirre Maldonado Ma. de Jesús (LICENCIA)</td>\n",
       "      <td>female</td>\n",
       "    </tr>\n",
       "    <tr>\n",
       "      <th>...</th>\n",
       "      <td>...</td>\n",
       "      <td>...</td>\n",
       "      <td>...</td>\n",
       "    </tr>\n",
       "    <tr>\n",
       "      <th>470</th>\n",
       "      <td>4900b232-fe1e-11ea-95ca-acde48001122</td>\n",
       "      <td>Caro Cabrera Salvador</td>\n",
       "      <td>male</td>\n",
       "    </tr>\n",
       "    <tr>\n",
       "      <th>471</th>\n",
       "      <td>493ad44e-fe1e-11ea-95ca-acde48001122</td>\n",
       "      <td>Castillo Juárez Laura Itzel</td>\n",
       "      <td>female</td>\n",
       "    </tr>\n",
       "    <tr>\n",
       "      <th>472</th>\n",
       "      <td>49780e68-fe1e-11ea-95ca-acde48001122</td>\n",
       "      <td>Di Costanzo Armenta Mario Alberto</td>\n",
       "      <td>male</td>\n",
       "    </tr>\n",
       "    <tr>\n",
       "      <th>473</th>\n",
       "      <td>49b80c5c-fe1e-11ea-95ca-acde48001122</td>\n",
       "      <td>Escobar García Herón Agustín</td>\n",
       "      <td>male</td>\n",
       "    </tr>\n",
       "    <tr>\n",
       "      <th>474</th>\n",
       "      <td>49f36464-fe1e-11ea-95ca-acde48001122</td>\n",
       "      <td>Espinosa Ramos Francisco Amadeo</td>\n",
       "      <td>male</td>\n",
       "    </tr>\n",
       "  </tbody>\n",
       "</table>\n",
       "<p>475 rows × 3 columns</p>\n",
       "</div>"
      ],
      "text/plain": [
       "                            id_legislador  \\\n",
       "0    e9957eae-fe1d-11ea-95ca-acde48001122   \n",
       "1    e9d6a474-fe1d-11ea-95ca-acde48001122   \n",
       "2    ea148140-fe1d-11ea-95ca-acde48001122   \n",
       "3    ea4e3390-fe1d-11ea-95ca-acde48001122   \n",
       "4    ea7fef70-fe1d-11ea-95ca-acde48001122   \n",
       "..                                    ...   \n",
       "470  4900b232-fe1e-11ea-95ca-acde48001122   \n",
       "471  493ad44e-fe1e-11ea-95ca-acde48001122   \n",
       "472  49780e68-fe1e-11ea-95ca-acde48001122   \n",
       "473  49b80c5c-fe1e-11ea-95ca-acde48001122   \n",
       "474  49f36464-fe1e-11ea-95ca-acde48001122   \n",
       "\n",
       "                               name_legislador  gender  \n",
       "0                     Aguero Tovar José Manuel    male  \n",
       "1                  Aguilar González José Óscar    male  \n",
       "2             Angélica del Rosario Araujo Lara  female  \n",
       "3                 Beatríz Elena Paredes Rangel  female  \n",
       "4    Aguirre Maldonado Ma. de Jesús (LICENCIA)  female  \n",
       "..                                         ...     ...  \n",
       "470                      Caro Cabrera Salvador    male  \n",
       "471                Castillo Juárez Laura Itzel  female  \n",
       "472          Di Costanzo Armenta Mario Alberto    male  \n",
       "473               Escobar García Herón Agustín    male  \n",
       "474            Espinosa Ramos Francisco Amadeo    male  \n",
       "\n",
       "[475 rows x 3 columns]"
      ]
     },
     "execution_count": 188,
     "metadata": {},
     "output_type": "execute_result"
    }
   ],
   "source": [
    "pd.DataFrame(gender_data61)"
   ]
  },
  {
   "cell_type": "code",
   "execution_count": 189,
   "metadata": {},
   "outputs": [
    {
     "data": {
      "text/plain": [
       "[{'id_legislador': 'e9957eae-fe1d-11ea-95ca-acde48001122',\n",
       "  'name_legislador': 'Aguero Tovar José Manuel',\n",
       "  'gender': 'male'},\n",
       " {'id_legislador': 'e9d6a474-fe1d-11ea-95ca-acde48001122',\n",
       "  'name_legislador': 'Aguilar González José Óscar',\n",
       "  'gender': 'male'},\n",
       " {'id_legislador': 'ea148140-fe1d-11ea-95ca-acde48001122',\n",
       "  'name_legislador': ' Angélica del Rosario Araujo Lara',\n",
       "  'gender': 'female'},\n",
       " {'id_legislador': 'ea4e3390-fe1d-11ea-95ca-acde48001122',\n",
       "  'name_legislador': ' Beatríz Elena Paredes Rangel',\n",
       "  'gender': 'female'},\n",
       " {'id_legislador': 'ea7fef70-fe1d-11ea-95ca-acde48001122',\n",
       "  'name_legislador': 'Aguirre Maldonado Ma. de Jesús (LICENCIA)',\n",
       "  'gender': 'female'},\n",
       " {'id_legislador': 'eaac6280-fe1d-11ea-95ca-acde48001122',\n",
       "  'name_legislador': 'Aguirre Romero Andrés (LICENCIA)',\n",
       "  'gender': 'male'},\n",
       " {'id_legislador': 'ead7a7ec-fe1d-11ea-95ca-acde48001122',\n",
       "  'name_legislador': 'Ahued Bardahuil Ricardo',\n",
       "  'gender': 'male'},\n",
       " {'id_legislador': 'eb07c08a-fe1d-11ea-95ca-acde48001122',\n",
       "  'name_legislador': 'Albarrán Mendoza Esteban',\n",
       "  'gender': 'male'},\n",
       " {'id_legislador': 'eb3b4e50-fe1d-11ea-95ca-acde48001122',\n",
       "  'name_legislador': ' Felipe Cervera Hernández',\n",
       "  'gender': 'male'},\n",
       " {'id_legislador': 'eb715ec8-fe1d-11ea-95ca-acde48001122',\n",
       "  'name_legislador': 'Alvarado Arroyo Fermín Gerardo',\n",
       "  'gender': 'male'},\n",
       " {'id_legislador': 'eba5d662-fe1d-11ea-95ca-acde48001122',\n",
       "  'name_legislador': ' José Tomás Carrillo Sánchez',\n",
       "  'gender': 'male'},\n",
       " {'id_legislador': 'ebdb49dc-fe1d-11ea-95ca-acde48001122',\n",
       "  'name_legislador': 'Álvarez Santamaría Miguel',\n",
       "  'gender': 'male'},\n",
       " {'id_legislador': 'ec0e9012-fe1d-11ea-95ca-acde48001122',\n",
       "  'name_legislador': 'Ambrosio Cipriano Heriberto',\n",
       "  'gender': 'male'},\n",
       " {'id_legislador': 'ec462400-fe1d-11ea-95ca-acde48001122',\n",
       "  'name_legislador': 'Arana Arana Jorge',\n",
       "  'gender': 'male'},\n",
       " {'id_legislador': 'ec7ec51c-fe1d-11ea-95ca-acde48001122',\n",
       "  'name_legislador': ' Jorge Herrera Caldera',\n",
       "  'gender': 'male'},\n",
       " {'id_legislador': 'ecb9772a-fe1d-11ea-95ca-acde48001122',\n",
       "  'name_legislador': 'Aysa Bernat José Antonio',\n",
       "  'gender': 'male'},\n",
       " {'id_legislador': 'ecee2ba0-fe1d-11ea-95ca-acde48001122',\n",
       "  'name_legislador': 'Báez Pinal Armando Jesús',\n",
       "  'gender': 'male'},\n",
       " {'id_legislador': 'ed1f1166-fe1d-11ea-95ca-acde48001122',\n",
       "  'name_legislador': 'Bailey Elizondo Eduardo Alonso',\n",
       "  'gender': 'male'},\n",
       " {'id_legislador': 'ed512430-fe1d-11ea-95ca-acde48001122',\n",
       "  'name_legislador': 'Bautista Concepción Sabino',\n",
       "  'gender': 'male'},\n",
       " {'id_legislador': 'ed81c112-fe1d-11ea-95ca-acde48001122',\n",
       "  'name_legislador': 'Bellizia Aboaf Nicolás Carlos',\n",
       "  'gender': 'male'},\n",
       " {'id_legislador': 'edb4407e-fe1d-11ea-95ca-acde48001122',\n",
       "  'name_legislador': 'Benítez Lucho Antonio',\n",
       "  'gender': 'male'},\n",
       " {'id_legislador': 'edeb8c00-fe1d-11ea-95ca-acde48001122',\n",
       "  'name_legislador': ' Mario Moreno Arcos',\n",
       "  'gender': 'male'},\n",
       " {'id_legislador': 'ee1df91a-fe1d-11ea-95ca-acde48001122',\n",
       "  'name_legislador': 'Benítez Treviño Víctor Humberto',\n",
       "  'gender': 'male'},\n",
       " {'id_legislador': 'ee4f55e6-fe1d-11ea-95ca-acde48001122',\n",
       "  'name_legislador': 'Bojórquez Gutiérrez Rolando',\n",
       "  'gender': 'male'},\n",
       " {'id_legislador': 'ee8194ca-fe1d-11ea-95ca-acde48001122',\n",
       "  'name_legislador': 'Borja Texocotitla Felipe',\n",
       "  'gender': 'male'},\n",
       " {'id_legislador': 'eeaf7c96-fe1d-11ea-95ca-acde48001122',\n",
       "  'name_legislador': 'Cadena Morales Manuel',\n",
       "  'gender': 'male'},\n",
       " {'id_legislador': 'eee2b408-fe1d-11ea-95ca-acde48001122',\n",
       "  'name_legislador': 'Callejas Arroyo Juan Nicolás',\n",
       "  'gender': 'male'},\n",
       " {'id_legislador': 'ef18a234-fe1d-11ea-95ca-acde48001122',\n",
       "  'name_legislador': ' José Luis Marcos León Perea',\n",
       "  'gender': 'male'},\n",
       " {'id_legislador': 'ef4b1714-fe1d-11ea-95ca-acde48001122',\n",
       "  'name_legislador': 'Campos Villegas Luis Carlos',\n",
       "  'gender': 'male'},\n",
       " {'id_legislador': 'ef80065e-fe1d-11ea-95ca-acde48001122',\n",
       "  'name_legislador': 'Cano Ricaud Alejandro',\n",
       "  'gender': 'male'},\n",
       " {'id_legislador': 'efb8cafc-fe1d-11ea-95ca-acde48001122',\n",
       "  'name_legislador': 'Cano Vélez Jesús Alberto',\n",
       "  'gender': 'male'},\n",
       " {'id_legislador': 'efede714-fe1d-11ea-95ca-acde48001122',\n",
       "  'name_legislador': ' Rodolfo Torre Cantú',\n",
       "  'gender': 'male'},\n",
       " {'id_legislador': 'f0253b6a-fe1d-11ea-95ca-acde48001122',\n",
       "  'name_legislador': ' Rogelio Manuel Díaz Brown Ramsburgh',\n",
       "  'gender': 'male'},\n",
       " {'id_legislador': 'f0540832-fe1d-11ea-95ca-acde48001122',\n",
       "  'name_legislador': 'Casique Vences Guillermina (LICENCIA)',\n",
       "  'gender': 'female'},\n",
       " {'id_legislador': 'f0849c40-fe1d-11ea-95ca-acde48001122',\n",
       "  'name_legislador': 'Castillo Ruz Martín Enrique',\n",
       "  'gender': 'male'},\n",
       " {'id_legislador': 'f0b2450a-fe1d-11ea-95ca-acde48001122',\n",
       "  'name_legislador': 'Castro Ríos Sofía',\n",
       "  'gender': 'female'},\n",
       " {'id_legislador': 'f0e2b3ca-fe1d-11ea-95ca-acde48001122',\n",
       "  'name_legislador': 'Ceballos Llerenas Hilda',\n",
       "  'gender': 'female'},\n",
       " {'id_legislador': 'f10db3a4-fe1d-11ea-95ca-acde48001122',\n",
       "  'name_legislador': 'Cerda Pérez Rogelio',\n",
       "  'gender': 'male'},\n",
       " {'id_legislador': 'f13ec372-fe1d-11ea-95ca-acde48001122',\n",
       "  'name_legislador': 'Chirinos del Ángel Patricio',\n",
       "  'gender': 'male'},\n",
       " {'id_legislador': 'f171477a-fe1d-11ea-95ca-acde48001122',\n",
       "  'name_legislador': 'Chuayffet Chemor Emilio',\n",
       "  'gender': 'male'},\n",
       " {'id_legislador': 'f1a08f6c-fe1d-11ea-95ca-acde48001122',\n",
       "  'name_legislador': 'Clariond Reyes Retana Benjamín',\n",
       "  'gender': 'male'},\n",
       " {'id_legislador': 'f1d12384-fe1d-11ea-95ca-acde48001122',\n",
       "  'name_legislador': 'Concha Arellano Elpidio Desiderio',\n",
       "  'gender': 'male'},\n",
       " {'id_legislador': 'f20339fa-fe1d-11ea-95ca-acde48001122',\n",
       "  'name_legislador': 'Contreras García Germán',\n",
       "  'gender': 'male'},\n",
       " {'id_legislador': 'f230319e-fe1d-11ea-95ca-acde48001122',\n",
       "  'name_legislador': 'Córdova Hernández José del Pilar',\n",
       "  'gender': 'female'},\n",
       " {'id_legislador': 'f264fb0e-fe1d-11ea-95ca-acde48001122',\n",
       "  'name_legislador': 'Corona Rivera Armando',\n",
       "  'gender': 'male'},\n",
       " {'id_legislador': 'f2977520-fe1d-11ea-95ca-acde48001122',\n",
       "  'name_legislador': 'Cota Jiménez Manuel Humberto',\n",
       "  'gender': 'male'},\n",
       " {'id_legislador': 'f2c7e23c-fe1d-11ea-95ca-acde48001122',\n",
       "  'name_legislador': 'Cruz Mendoza Carlos',\n",
       "  'gender': 'male'},\n",
       " {'id_legislador': 'f2fa4db2-fe1d-11ea-95ca-acde48001122',\n",
       "  'name_legislador': ' Óscar Román Rosas González',\n",
       "  'gender': 'male'},\n",
       " {'id_legislador': 'f3287c14-fe1d-11ea-95ca-acde48001122',\n",
       "  'name_legislador': 'David David Sami',\n",
       "  'gender': 'male'},\n",
       " {'id_legislador': 'f353ed04-fe1d-11ea-95ca-acde48001122',\n",
       "  'name_legislador': 'De Esesarte Pesqueira Manuel Esteban',\n",
       "  'gender': 'male'},\n",
       " {'id_legislador': 'f3804886-fe1d-11ea-95ca-acde48001122',\n",
       "  'name_legislador': 'De Lucas Hopkins Ernesto',\n",
       "  'gender': 'male'},\n",
       " {'id_legislador': 'f3abac4c-fe1d-11ea-95ca-acde48001122',\n",
       "  'name_legislador': 'De la Fuente Dagdug María Estela',\n",
       "  'gender': 'female'},\n",
       " {'id_legislador': 'f3dc99ba-fe1d-11ea-95ca-acde48001122',\n",
       "  'name_legislador': ' Héctor Franco López',\n",
       "  'gender': 'male'},\n",
       " {'id_legislador': 'f4121310-fe1d-11ea-95ca-acde48001122',\n",
       "  'name_legislador': 'De la Torre Valdez Yolanda',\n",
       "  'gender': 'female'},\n",
       " {'id_legislador': 'f4447c88-fe1d-11ea-95ca-acde48001122',\n",
       "  'name_legislador': 'Díaz Escárraga Heliodoro Carlos',\n",
       "  'gender': 'male'},\n",
       " {'id_legislador': 'f473eebe-fe1d-11ea-95ca-acde48001122',\n",
       "  'name_legislador': 'Díaz Salazar María Cristina',\n",
       "  'gender': 'female'},\n",
       " {'id_legislador': 'f4a88ef8-fe1d-11ea-95ca-acde48001122',\n",
       "  'name_legislador': ' Genaro Mejía de la Merced',\n",
       "  'gender': 'male'},\n",
       " {'id_legislador': 'f4e0f392-fe1d-11ea-95ca-acde48001122',\n",
       "  'name_legislador': 'Domínguez Arvizu María Hilaria',\n",
       "  'gender': 'female'},\n",
       " {'id_legislador': 'f513261e-fe1d-11ea-95ca-acde48001122',\n",
       "  'name_legislador': 'Domínguez Rex Raúl',\n",
       "  'gender': 'male'},\n",
       " {'id_legislador': 'f545c362-fe1d-11ea-95ca-acde48001122',\n",
       "  'name_legislador': ' Sergio Mancilla Zayas',\n",
       "  'gender': 'male'},\n",
       " {'id_legislador': 'f57fdb24-fe1d-11ea-95ca-acde48001122',\n",
       "  'name_legislador': 'Durán Rico Ana Estela',\n",
       "  'gender': 'female'},\n",
       " {'id_legislador': 'f5af8aea-fe1d-11ea-95ca-acde48001122',\n",
       "  'name_legislador': 'Enríquez Fuentes Jesús Ricardo (LICENCIA)',\n",
       "  'gender': 'male'},\n",
       " {'id_legislador': 'f5db40f4-fe1d-11ea-95ca-acde48001122',\n",
       "  'name_legislador': 'Enríquez Hernández Felipe',\n",
       "  'gender': 'male'},\n",
       " {'id_legislador': 'f616419a-fe1d-11ea-95ca-acde48001122',\n",
       "  'name_legislador': ' Jeny De los Reyes Aguilar',\n",
       "  'gender': 'female'},\n",
       " {'id_legislador': 'f648fc7a-fe1d-11ea-95ca-acde48001122',\n",
       "  'name_legislador': 'Fayad Meneses Omar',\n",
       "  'gender': 'male'},\n",
       " {'id_legislador': 'f67cfd54-fe1d-11ea-95ca-acde48001122',\n",
       "  'name_legislador': 'Fernández Aguirre Héctor',\n",
       "  'gender': 'male'},\n",
       " {'id_legislador': 'f6ada9d6-fe1d-11ea-95ca-acde48001122',\n",
       "  'name_legislador': ' Luis Videgaray Caso',\n",
       "  'gender': 'male'},\n",
       " {'id_legislador': 'f6dd7828-fe1d-11ea-95ca-acde48001122',\n",
       "  'name_legislador': 'Ferreyra Olivares Fernando',\n",
       "  'gender': 'male'},\n",
       " {'id_legislador': 'f709e99e-fe1d-11ea-95ca-acde48001122',\n",
       "  'name_legislador': 'Flores Castañeda Jaime',\n",
       "  'gender': 'male'},\n",
       " {'id_legislador': 'f73a2280-fe1d-11ea-95ca-acde48001122',\n",
       "  'name_legislador': 'Flores Morales Víctor Félix',\n",
       "  'gender': 'male'},\n",
       " {'id_legislador': 'f770c8c6-fe1d-11ea-95ca-acde48001122',\n",
       "  'name_legislador': 'Flores Rico Carlos',\n",
       "  'gender': 'male'},\n",
       " {'id_legislador': 'f7a3a5ac-fe1d-11ea-95ca-acde48001122',\n",
       "  'name_legislador': ' Manuel Ignacio Acosta Gutiérrez',\n",
       "  'gender': 'male'},\n",
       " {'id_legislador': 'f7d61280-fe1d-11ea-95ca-acde48001122',\n",
       "  'name_legislador': 'Franco Vargas Jorge Fernando',\n",
       "  'gender': 'male'},\n",
       " {'id_legislador': 'f80fb56c-fe1d-11ea-95ca-acde48001122',\n",
       "  'name_legislador': ' Esthela de Jesús Ponce Beltrán',\n",
       "  'gender': 'female'},\n",
       " {'id_legislador': 'f845012c-fe1d-11ea-95ca-acde48001122',\n",
       "  'name_legislador': 'Gallegos Soto Margarita',\n",
       "  'gender': 'female'},\n",
       " {'id_legislador': 'f87ca262-fe1d-11ea-95ca-acde48001122',\n",
       "  'name_legislador': 'García Ayala Marco Antonio',\n",
       "  'gender': 'male'},\n",
       " {'id_legislador': 'f8ab8e42-fe1d-11ea-95ca-acde48001122',\n",
       "  'name_legislador': 'García Barrón Óscar',\n",
       "  'gender': 'male'},\n",
       " {'id_legislador': 'f8dcda9c-fe1d-11ea-95ca-acde48001122',\n",
       "  'name_legislador': 'García Corpus Teófilo Manuel',\n",
       "  'gender': 'male'},\n",
       " {'id_legislador': 'f9110a92-fe1d-11ea-95ca-acde48001122',\n",
       "  'name_legislador': 'García Granados Miguel Ángel',\n",
       "  'gender': 'male'},\n",
       " {'id_legislador': 'f949f1a4-fe1d-11ea-95ca-acde48001122',\n",
       "  'name_legislador': ' Jesús Everardo Villarreal Salinas',\n",
       "  'gender': 'male'},\n",
       " {'id_legislador': 'f97e5b38-fe1d-11ea-95ca-acde48001122',\n",
       "  'name_legislador': ' Rosario Ortiz Yeladaqui',\n",
       "  'gender': 'female'},\n",
       " {'id_legislador': 'f9b0e21a-fe1d-11ea-95ca-acde48001122',\n",
       "  'name_legislador': 'Gastélum Bajo Diva Hadamira',\n",
       "  'gender': 'female'},\n",
       " {'id_legislador': 'f9df712a-fe1d-11ea-95ca-acde48001122',\n",
       "  'name_legislador': 'Gil Ortiz Javier',\n",
       "  'gender': 'male'},\n",
       " {'id_legislador': 'fa0c2936-fe1d-11ea-95ca-acde48001122',\n",
       "  'name_legislador': 'Gómez Caro Clara',\n",
       "  'gender': 'female'},\n",
       " {'id_legislador': 'fa3b7d30-fe1d-11ea-95ca-acde48001122',\n",
       "  'name_legislador': ' Rafael Yerena Zambrano',\n",
       "  'gender': 'male'},\n",
       " {'id_legislador': 'fa68a292-fe1d-11ea-95ca-acde48001122',\n",
       "  'name_legislador': 'González Díaz Joel',\n",
       "  'gender': 'male'},\n",
       " {'id_legislador': 'fa9af58a-fe1d-11ea-95ca-acde48001122',\n",
       "  'name_legislador': 'González Hernández Yolanda Eugenia',\n",
       "  'gender': 'female'},\n",
       " {'id_legislador': 'faca5ea6-fe1d-11ea-95ca-acde48001122',\n",
       "  'name_legislador': 'González Ilescas Jorge Venustiano',\n",
       "  'gender': 'male'},\n",
       " {'id_legislador': 'fafc623e-fe1d-11ea-95ca-acde48001122',\n",
       "  'name_legislador': 'González Morales José Alberto',\n",
       "  'gender': 'male'},\n",
       " {'id_legislador': 'fb2dbd48-fe1d-11ea-95ca-acde48001122',\n",
       "  'name_legislador': ' Rubén Ignacio Moreira Valdez',\n",
       "  'gender': 'male'},\n",
       " {'id_legislador': 'fb5f5df8-fe1d-11ea-95ca-acde48001122',\n",
       "  'name_legislador': 'González Tostado Janet Graciela',\n",
       "  'gender': 'female'},\n",
       " {'id_legislador': 'fb9bc90a-fe1d-11ea-95ca-acde48001122',\n",
       "  'name_legislador': ' Rolando Rodrigo Zapata Bello',\n",
       "  'gender': 'male'},\n",
       " {'id_legislador': 'fbce53a2-fe1d-11ea-95ca-acde48001122',\n",
       "  'name_legislador': 'Guajardo Villarreal Ildefonso',\n",
       "  'gender': 'male'},\n",
       " {'id_legislador': 'fbfbfd66-fe1d-11ea-95ca-acde48001122',\n",
       "  'name_legislador': 'Guerra Castillo Marcela',\n",
       "  'gender': 'female'},\n",
       " {'id_legislador': 'fc2d4f10-fe1d-11ea-95ca-acde48001122',\n",
       "  'name_legislador': 'Guerrero Coronado Delia (LICENCIA)',\n",
       "  'gender': 'female'},\n",
       " {'id_legislador': 'fc5a0532-fe1d-11ea-95ca-acde48001122',\n",
       "  'name_legislador': 'Guevara Cobos Luis Alejandro',\n",
       "  'gender': 'male'},\n",
       " {'id_legislador': 'fc8aa3f4-fe1d-11ea-95ca-acde48001122',\n",
       "  'name_legislador': 'Guevara Ramírez Héctor',\n",
       "  'gender': 'male'},\n",
       " {'id_legislador': 'fcb701f6-fe1d-11ea-95ca-acde48001122',\n",
       "  'name_legislador': 'Guillén Padilla Olivia',\n",
       "  'gender': 'female'},\n",
       " {'id_legislador': 'fced90a4-fe1d-11ea-95ca-acde48001122',\n",
       "  'name_legislador': 'Guillén Vicente Mercedes del Carmen',\n",
       "  'gender': 'female'},\n",
       " {'id_legislador': 'fd22afaa-fe1d-11ea-95ca-acde48001122',\n",
       "  'name_legislador': ' Melchor Sánchez de la Fuente',\n",
       "  'gender': 'male'},\n",
       " {'id_legislador': 'fd5aabb2-fe1d-11ea-95ca-acde48001122',\n",
       "  'name_legislador': ' Fuensanta Patricia Jiménez Case',\n",
       "  'gender': 'female'},\n",
       " {'id_legislador': 'fd8b4768-fe1d-11ea-95ca-acde48001122',\n",
       "  'name_legislador': 'Hernández García Elvia',\n",
       "  'gender': 'female'},\n",
       " {'id_legislador': 'fdb6d9f0-fe1d-11ea-95ca-acde48001122',\n",
       "  'name_legislador': 'Hernández Hernández Jorge',\n",
       "  'gender': 'male'},\n",
       " {'id_legislador': 'fde3d0e0-fe1d-11ea-95ca-acde48001122',\n",
       "  'name_legislador': 'Hernández Olmos Paula Angélica',\n",
       "  'gender': 'female'},\n",
       " {'id_legislador': 'fe11ab96-fe1d-11ea-95ca-acde48001122',\n",
       "  'name_legislador': 'Hernández Pérez David',\n",
       "  'gender': 'male'},\n",
       " {'id_legislador': 'fe4bfd64-fe1d-11ea-95ca-acde48001122',\n",
       "  'name_legislador': 'Hernández Silva Héctor',\n",
       "  'gender': 'male'},\n",
       " {'id_legislador': 'fe84c0e0-fe1d-11ea-95ca-acde48001122',\n",
       "  'name_legislador': 'Hernández Vallin David',\n",
       "  'gender': 'male'},\n",
       " {'id_legislador': 'febd34c0-fe1d-11ea-95ca-acde48001122',\n",
       "  'name_legislador': 'Herrera Jiménez Francisco',\n",
       "  'gender': 'male'},\n",
       " {'id_legislador': 'feefbd82-fe1d-11ea-95ca-acde48001122',\n",
       "  'name_legislador': 'Herrera Soto Ma. Dina',\n",
       "  'gender': 'female'},\n",
       " {'id_legislador': 'ff215964-fe1d-11ea-95ca-acde48001122',\n",
       "  'name_legislador': 'Hinojosa Ochoa Baltazar Manuel',\n",
       "  'gender': 'male'},\n",
       " {'id_legislador': 'ff544ca2-fe1d-11ea-95ca-acde48001122',\n",
       "  'name_legislador': ' Roberto Borge Angulo',\n",
       "  'gender': 'male'},\n",
       " {'id_legislador': 'ff8935fc-fe1d-11ea-95ca-acde48001122',\n",
       "  'name_legislador': 'Ibarra Piña Inocencio',\n",
       "  'gender': 'male'},\n",
       " {'id_legislador': 'ffba2e50-fe1d-11ea-95ca-acde48001122',\n",
       "  'name_legislador': 'Izaguirre Francos María del Carmen',\n",
       "  'gender': 'female'},\n",
       " {'id_legislador': 'ffe873b4-fe1d-11ea-95ca-acde48001122',\n",
       "  'name_legislador': 'Jiménez Concha Juan Pablo',\n",
       "  'gender': 'male'},\n",
       " {'id_legislador': '00158110-fe1e-11ea-95ca-acde48001122',\n",
       "  'name_legislador': 'Jiménez Hernández Blanca Estela',\n",
       "  'gender': 'female'},\n",
       " {'id_legislador': '00409f3a-fe1e-11ea-95ca-acde48001122',\n",
       "  'name_legislador': 'Jiménez Merino Francisco Alberto',\n",
       "  'gender': 'male'},\n",
       " {'id_legislador': '0070b4cc-fe1e-11ea-95ca-acde48001122',\n",
       "  'name_legislador': 'Joaquín González Carlos Manuel',\n",
       "  'gender': 'male'},\n",
       " {'id_legislador': '00a111da-fe1e-11ea-95ca-acde48001122',\n",
       "  'name_legislador': 'Juraidini Rumilla Jorge Alberto',\n",
       "  'gender': 'male'},\n",
       " {'id_legislador': '00cf9686-fe1e-11ea-95ca-acde48001122',\n",
       "  'name_legislador': 'Kidnie De La Cruz Víctor Manuel',\n",
       "  'gender': 'male'},\n",
       " {'id_legislador': '0101082e-fe1e-11ea-95ca-acde48001122',\n",
       "  'name_legislador': 'Kuri Grajales Fidel',\n",
       "  'gender': 'male'},\n",
       " {'id_legislador': '012f21f0-fe1e-11ea-95ca-acde48001122',\n",
       "  'name_legislador': 'Lagos Galindo Silvio',\n",
       "  'gender': 'male'},\n",
       " {'id_legislador': '01607822-fe1e-11ea-95ca-acde48001122',\n",
       "  'name_legislador': 'Lara Aréchiga Óscar Javier',\n",
       "  'gender': 'male'},\n",
       " {'id_legislador': '0192ab12-fe1e-11ea-95ca-acde48001122',\n",
       "  'name_legislador': 'Lara Salazar Óscar',\n",
       "  'gender': 'male'},\n",
       " {'id_legislador': '01c84826-fe1e-11ea-95ca-acde48001122',\n",
       "  'name_legislador': 'Lastiri Quirós Juan Carlos',\n",
       "  'gender': 'male'},\n",
       " {'id_legislador': '02049cae-fe1e-11ea-95ca-acde48001122',\n",
       "  'name_legislador': 'Ledesma Magaña Israel Reyes',\n",
       "  'gender': 'female'},\n",
       " {'id_legislador': '023be8bc-fe1e-11ea-95ca-acde48001122',\n",
       "  'name_legislador': 'Lepe Lepe Humberto',\n",
       "  'gender': 'male'},\n",
       " {'id_legislador': '02713562-fe1e-11ea-95ca-acde48001122',\n",
       "  'name_legislador': 'Lerdo de Tejada Covarrubias Sebastián',\n",
       "  'gender': 'male'},\n",
       " {'id_legislador': '02a38c60-fe1e-11ea-95ca-acde48001122',\n",
       "  'name_legislador': 'Levin Coppel Óscar Guillermo',\n",
       "  'gender': 'male'},\n",
       " {'id_legislador': '02feb6da-fe1e-11ea-95ca-acde48001122',\n",
       "  'name_legislador': 'Liborio Arrazola Margarita',\n",
       "  'gender': 'female'},\n",
       " {'id_legislador': '0334f2cc-fe1e-11ea-95ca-acde48001122',\n",
       "  'name_legislador': 'Lobato García Sergio',\n",
       "  'gender': 'male'},\n",
       " {'id_legislador': '037116c6-fe1e-11ea-95ca-acde48001122',\n",
       "  'name_legislador': 'Lobato Ramírez Ana Luz',\n",
       "  'gender': 'female'},\n",
       " {'id_legislador': '03a8407e-fe1e-11ea-95ca-acde48001122',\n",
       "  'name_legislador': 'López Aguilar Cruz',\n",
       "  'gender': 'male'},\n",
       " {'id_legislador': '03dd3c7a-fe1e-11ea-95ca-acde48001122',\n",
       "  'name_legislador': 'López Loyo María Elena Perla',\n",
       "  'gender': 'female'},\n",
       " {'id_legislador': '04128b5a-fe1e-11ea-95ca-acde48001122',\n",
       "  'name_legislador': 'López Pescador José Ricardo',\n",
       "  'gender': 'male'},\n",
       " {'id_legislador': '04529628-fe1e-11ea-95ca-acde48001122',\n",
       "  'name_legislador': 'López-Portillo Basave Jorge Humberto',\n",
       "  'gender': 'male'},\n",
       " {'id_legislador': '048a8920-fe1e-11ea-95ca-acde48001122',\n",
       "  'name_legislador': 'Lugo Oñate Alfredo Francisco',\n",
       "  'gender': 'male'},\n",
       " {'id_legislador': '04bd846a-fe1e-11ea-95ca-acde48001122',\n",
       "  'name_legislador': 'Luna Munguía Miguel Ángel',\n",
       "  'gender': 'male'},\n",
       " {'id_legislador': '04e96daa-fe1e-11ea-95ca-acde48001122',\n",
       "  'name_legislador': 'Marín Torres Julieta Octavia',\n",
       "  'gender': 'female'},\n",
       " {'id_legislador': '051c7358-fe1e-11ea-95ca-acde48001122',\n",
       "  'name_legislador': 'Mariscales Delgadillo Onésimo',\n",
       "  'gender': 'male'},\n",
       " {'id_legislador': '054b39e0-fe1e-11ea-95ca-acde48001122',\n",
       "  'name_legislador': 'Márquez Lizalde Manuel Guillermo',\n",
       "  'gender': 'male'},\n",
       " {'id_legislador': '057ac2f0-fe1e-11ea-95ca-acde48001122',\n",
       "  'name_legislador': 'Martel López José Ramón',\n",
       "  'gender': 'male'},\n",
       " {'id_legislador': '05a5b65e-fe1e-11ea-95ca-acde48001122',\n",
       "  'name_legislador': 'Martínez Armengol Luis Antonio',\n",
       "  'gender': 'male'},\n",
       " {'id_legislador': '05d0c4ac-fe1e-11ea-95ca-acde48001122',\n",
       "  'name_legislador': 'Martínez González Hugo Héctor',\n",
       "  'gender': 'male'},\n",
       " {'id_legislador': '06027114-fe1e-11ea-95ca-acde48001122',\n",
       "  'name_legislador': 'Massieu Fernández Andrés',\n",
       "  'gender': 'male'},\n",
       " {'id_legislador': '062dfc76-fe1e-11ea-95ca-acde48001122',\n",
       "  'name_legislador': 'Mazari Espín Rosalina',\n",
       "  'gender': 'female'},\n",
       " {'id_legislador': '065a2ef4-fe1e-11ea-95ca-acde48001122',\n",
       "  'name_legislador': 'Medina Ramírez Tereso',\n",
       "  'gender': 'male'},\n",
       " {'id_legislador': '06843f14-fe1e-11ea-95ca-acde48001122',\n",
       "  'name_legislador': 'Melhem Salinas Edgardo',\n",
       "  'gender': 'male'},\n",
       " {'id_legislador': '06b10008-fe1e-11ea-95ca-acde48001122',\n",
       "  'name_legislador': 'Méndez Hernández Sandra (LICENCIA)',\n",
       "  'gender': 'female'},\n",
       " {'id_legislador': '06e07a86-fe1e-11ea-95ca-acde48001122',\n",
       "  'name_legislador': 'Mendoza Kaplan Emilio Andrés',\n",
       "  'gender': 'male'},\n",
       " {'id_legislador': '07134f42-fe1e-11ea-95ca-acde48001122',\n",
       "  'name_legislador': 'Merlo Talavera María Isabel',\n",
       "  'gender': 'female'},\n",
       " {'id_legislador': '076c879c-fe1e-11ea-95ca-acde48001122',\n",
       "  'name_legislador': ' Luz Carolina Gudiño Corro',\n",
       "  'gender': 'female'},\n",
       " {'id_legislador': '07c7bdba-fe1e-11ea-95ca-acde48001122',\n",
       "  'name_legislador': 'Monroy Estrada Amador (LICENCIA)',\n",
       "  'gender': 'male'},\n",
       " {'id_legislador': '080e5bda-fe1e-11ea-95ca-acde48001122',\n",
       "  'name_legislador': 'Montes Cavazos Fermín',\n",
       "  'gender': 'male'},\n",
       " {'id_legislador': '08764ede-fe1e-11ea-95ca-acde48001122',\n",
       "  'name_legislador': 'Morales Martínez Fernando',\n",
       "  'gender': 'male'},\n",
       " {'id_legislador': '08bbfc36-fe1e-11ea-95ca-acde48001122',\n",
       "  'name_legislador': 'Moreno Merino Francisco Alejandro',\n",
       "  'gender': 'male'},\n",
       " {'id_legislador': '090766ee-fe1e-11ea-95ca-acde48001122',\n",
       "  'name_legislador': ' Javier Duarte de Ochoa',\n",
       "  'gender': 'male'},\n",
       " {'id_legislador': '093a9140-fe1e-11ea-95ca-acde48001122',\n",
       "  'name_legislador': ' Roberto Armando Albores Gleason',\n",
       "  'gender': 'male'},\n",
       " {'id_legislador': '0967158a-fe1e-11ea-95ca-acde48001122',\n",
       "  'name_legislador': 'Navarrete Prida Jesús Alfonso',\n",
       "  'gender': 'male'},\n",
       " {'id_legislador': '099306ea-fe1e-11ea-95ca-acde48001122',\n",
       "  'name_legislador': 'Neyra Chávez Armando',\n",
       "  'gender': 'male'},\n",
       " {'id_legislador': '09c35106-fe1e-11ea-95ca-acde48001122',\n",
       "  'name_legislador': 'Norberto Sánchez Nazario',\n",
       "  'gender': 'male'},\n",
       " {'id_legislador': '09f553c2-fe1e-11ea-95ca-acde48001122',\n",
       "  'name_legislador': 'Ochoa Millán Maurilio',\n",
       "  'gender': 'male'},\n",
       " {'id_legislador': '0a28638e-fe1e-11ea-95ca-acde48001122',\n",
       "  'name_legislador': ' David Ricardo Sánchez Guevara',\n",
       "  'gender': 'male'},\n",
       " {'id_legislador': '0a59bd08-fe1e-11ea-95ca-acde48001122',\n",
       "  'name_legislador': 'Orantes López Hernán de Jesús',\n",
       "  'gender': 'male'},\n",
       " {'id_legislador': '0a8d80f2-fe1e-11ea-95ca-acde48001122',\n",
       "  'name_legislador': 'Ortiz González Graciela',\n",
       "  'gender': 'female'},\n",
       " {'id_legislador': '0ac0fc98-fe1e-11ea-95ca-acde48001122',\n",
       "  'name_legislador': 'Pacheco Castro Carlos Oznerol',\n",
       "  'gender': 'male'},\n",
       " {'id_legislador': '0af49580-fe1e-11ea-95ca-acde48001122',\n",
       "  'name_legislador': 'Padilla López José Trinidad',\n",
       "  'gender': 'female'},\n",
       " {'id_legislador': '0b238e6c-fe1e-11ea-95ca-acde48001122',\n",
       "  'name_legislador': 'Pedraza Olguín Héctor',\n",
       "  'gender': 'male'},\n",
       " {'id_legislador': '0b54a3d0-fe1e-11ea-95ca-acde48001122',\n",
       "  'name_legislador': 'Pedroza Jiménez Héctor',\n",
       "  'gender': 'male'},\n",
       " {'id_legislador': '0b897808-fe1e-11ea-95ca-acde48001122',\n",
       "  'name_legislador': ' José Francisco Yunes Zorrilla',\n",
       "  'gender': 'male'},\n",
       " {'id_legislador': '0bb6105c-fe1e-11ea-95ca-acde48001122',\n",
       "  'name_legislador': 'Pérez Domínguez Guadalupe',\n",
       "  'gender': 'female'},\n",
       " {'id_legislador': '0be4e490-fe1e-11ea-95ca-acde48001122',\n",
       "  'name_legislador': 'Pérez Magaña Eviel',\n",
       "  'gender': 'female'},\n",
       " {'id_legislador': '0c1738c8-fe1e-11ea-95ca-acde48001122',\n",
       "  'name_legislador': 'Pérez Santos María Isabel',\n",
       "  'gender': 'female'},\n",
       " {'id_legislador': '0c4654fa-fe1e-11ea-95ca-acde48001122',\n",
       "  'name_legislador': 'Pichardo Lechuga José Ignacio',\n",
       "  'gender': 'male'},\n",
       " {'id_legislador': '0c81fb5e-fe1e-11ea-95ca-acde48001122',\n",
       "  'name_legislador': 'Pompa Corella Miguel Ernesto',\n",
       "  'gender': 'male'},\n",
       " {'id_legislador': '0cb42eb2-fe1e-11ea-95ca-acde48001122',\n",
       "  'name_legislador': ' Isaías González Cuevas',\n",
       "  'gender': 'male'},\n",
       " {'id_legislador': '0ce39242-fe1e-11ea-95ca-acde48001122',\n",
       "  'name_legislador': 'Quiroz Cruz Sergio Lorenzo',\n",
       "  'gender': 'male'},\n",
       " {'id_legislador': '0d174ef2-fe1e-11ea-95ca-acde48001122',\n",
       "  'name_legislador': 'Quiñones Cornejo María de la Paz',\n",
       "  'gender': 'female'},\n",
       " {'id_legislador': '0d4e33f4-fe1e-11ea-95ca-acde48001122',\n",
       "  'name_legislador': 'Rábago Castillo José Francisco',\n",
       "  'gender': 'male'},\n",
       " {'id_legislador': '0d81a324-fe1e-11ea-95ca-acde48001122',\n",
       "  'name_legislador': 'Ramírez Marín Jorge Carlos',\n",
       "  'gender': 'male'},\n",
       " {'id_legislador': '0db43adc-fe1e-11ea-95ca-acde48001122',\n",
       "  'name_legislador': 'Ramírez Pineda Narcedalia',\n",
       "  'gender': 'female'},\n",
       " {'id_legislador': '0de5d5ba-fe1e-11ea-95ca-acde48001122',\n",
       "  'name_legislador': 'Ramírez Puga Leyva Héctor Pablo',\n",
       "  'gender': 'male'},\n",
       " {'id_legislador': '0e1496f2-fe1e-11ea-95ca-acde48001122',\n",
       "  'name_legislador': 'Ramos Montaño Francisco',\n",
       "  'gender': 'male'},\n",
       " {'id_legislador': '0e453460-fe1e-11ea-95ca-acde48001122',\n",
       "  'name_legislador': 'Rebollo Mendoza Ricardo Armando',\n",
       "  'gender': 'male'},\n",
       " {'id_legislador': '0e74e5f2-fe1e-11ea-95ca-acde48001122',\n",
       "  'name_legislador': 'Rebollo Vivero Roberto',\n",
       "  'gender': 'male'},\n",
       " {'id_legislador': '0ea39ee2-fe1e-11ea-95ca-acde48001122',\n",
       "  'name_legislador': 'Reina Liceaga Rodrigo',\n",
       "  'gender': 'male'},\n",
       " {'id_legislador': '0ecf4d12-fe1e-11ea-95ca-acde48001122',\n",
       "  'name_legislador': 'Rivera de la Torre Reginaldo',\n",
       "  'gender': 'male'},\n",
       " {'id_legislador': '0f001852-fe1e-11ea-95ca-acde48001122',\n",
       "  'name_legislador': 'Robles Colín Leticia',\n",
       "  'gender': 'female'},\n",
       " {'id_legislador': '0f3554e0-fe1e-11ea-95ca-acde48001122',\n",
       "  'name_legislador': ' Salvador Manzur Díaz',\n",
       "  'gender': 'male'},\n",
       " {'id_legislador': '0f64d0ee-fe1e-11ea-95ca-acde48001122',\n",
       "  'name_legislador': ' Miguel Ángel Riquelme Solís',\n",
       "  'gender': 'male'},\n",
       " {'id_legislador': '0f943f14-fe1e-11ea-95ca-acde48001122',\n",
       "  'name_legislador': 'Rodríguez Cisneros Omar',\n",
       "  'gender': 'male'},\n",
       " {'id_legislador': '0fca2282-fe1e-11ea-95ca-acde48001122',\n",
       "  'name_legislador': ' Judith Fabiola Vázquez Saut',\n",
       "  'gender': 'female'},\n",
       " {'id_legislador': '0ffe878e-fe1e-11ea-95ca-acde48001122',\n",
       "  'name_legislador': 'Rodríguez Hernández Jesús María',\n",
       "  'gender': 'female'},\n",
       " {'id_legislador': '102e49c4-fe1e-11ea-95ca-acde48001122',\n",
       "  'name_legislador': 'Rodríguez Sosa Luis Félix',\n",
       "  'gender': 'male'},\n",
       " {'id_legislador': '106476d4-fe1e-11ea-95ca-acde48001122',\n",
       "  'name_legislador': 'Rojas Gutiérrez Francisco José',\n",
       "  'gender': 'male'},\n",
       " {'id_legislador': '109543ea-fe1e-11ea-95ca-acde48001122',\n",
       "  'name_legislador': 'Rojas Ruíz Ana María',\n",
       "  'gender': 'female'},\n",
       " {'id_legislador': '10c95c84-fe1e-11ea-95ca-acde48001122',\n",
       "  'name_legislador': 'Rojas San Román Francisco Lauro',\n",
       "  'gender': 'male'},\n",
       " {'id_legislador': '10fc60a2-fe1e-11ea-95ca-acde48001122',\n",
       "  'name_legislador': 'Rojo García de Alba Jorge',\n",
       "  'gender': 'male'},\n",
       " {'id_legislador': '112b6424-fe1e-11ea-95ca-acde48001122',\n",
       "  'name_legislador': 'Romero Romero Jorge',\n",
       "  'gender': 'male'},\n",
       " {'id_legislador': '115ff982-fe1e-11ea-95ca-acde48001122',\n",
       "  'name_legislador': ' Felipe Amadeo Flores Espinosa',\n",
       "  'gender': 'male'},\n",
       " {'id_legislador': '11909812-fe1e-11ea-95ca-acde48001122',\n",
       "  'name_legislador': ' Sara Gabriela Montiel Solis',\n",
       "  'gender': 'female'},\n",
       " {'id_legislador': '11bc0fce-fe1e-11ea-95ca-acde48001122',\n",
       "  'name_legislador': 'Rubí Salazar José Adán Ignacio',\n",
       "  'gender': 'male'},\n",
       " {'id_legislador': '11ebeba4-fe1e-11ea-95ca-acde48001122',\n",
       "  'name_legislador': 'Rubio Barthell Eric Luis',\n",
       "  'gender': 'male'},\n",
       " {'id_legislador': '121e1976-fe1e-11ea-95ca-acde48001122',\n",
       "  'name_legislador': ' Yulma Rocha Aguilar',\n",
       "  'gender': 'female'},\n",
       " {'id_legislador': '124ccf3c-fe1e-11ea-95ca-acde48001122',\n",
       "  'name_legislador': 'Ruíz Massieu Salinas Claudia',\n",
       "  'gender': 'female'},\n",
       " {'id_legislador': '12776580-fe1e-11ea-95ca-acde48001122',\n",
       "  'name_legislador': 'Saldaña del Moral Fausto Sergio',\n",
       "  'gender': 'male'},\n",
       " {'id_legislador': '12a587e4-fe1e-11ea-95ca-acde48001122',\n",
       "  'name_legislador': 'Salgado Romero Cuauhtémoc',\n",
       "  'gender': 'male'},\n",
       " {'id_legislador': '12d72cc2-fe1e-11ea-95ca-acde48001122',\n",
       "  'name_legislador': 'Sánchez García Gerardo',\n",
       "  'gender': 'male'},\n",
       " {'id_legislador': '130acd70-fe1e-11ea-95ca-acde48001122',\n",
       "  'name_legislador': 'Sánchez Gálvez Ricardo',\n",
       "  'gender': 'male'},\n",
       " {'id_legislador': '1338f088-fe1e-11ea-95ca-acde48001122',\n",
       "  'name_legislador': 'Sánchez Vélez Jaime',\n",
       "  'gender': 'male'},\n",
       " {'id_legislador': '1367559a-fe1e-11ea-95ca-acde48001122',\n",
       "  'name_legislador': 'Santiago Ramírez César Augusto',\n",
       "  'gender': 'male'},\n",
       " {'id_legislador': '139aaad0-fe1e-11ea-95ca-acde48001122',\n",
       "  'name_legislador': 'Saracho Navarro Francisco (LICENCIA)',\n",
       "  'gender': 'male'},\n",
       " {'id_legislador': '13cc6c32-fe1e-11ea-95ca-acde48001122',\n",
       "  'name_legislador': 'Scherman Leaño María Esther de Jesús',\n",
       "  'gender': 'male'},\n",
       " {'id_legislador': '13fa5552-fe1e-11ea-95ca-acde48001122',\n",
       "  'name_legislador': 'Serrano Hernández Maricela (LICENCIA)',\n",
       "  'gender': 'female'},\n",
       " {'id_legislador': '1429de3a-fe1e-11ea-95ca-acde48001122',\n",
       "  'name_legislador': 'Solís Acero Felipe',\n",
       "  'gender': 'male'},\n",
       " {'id_legislador': '145b1144-fe1e-11ea-95ca-acde48001122',\n",
       "  'name_legislador': ' Germán Osvaldo Cortez Sandoval',\n",
       "  'gender': 'male'},\n",
       " {'id_legislador': '14885370-fe1e-11ea-95ca-acde48001122',\n",
       "  'name_legislador': 'Soto Martínez Leobardo',\n",
       "  'gender': 'male'},\n",
       " {'id_legislador': '14b97126-fe1e-11ea-95ca-acde48001122',\n",
       "  'name_legislador': 'Soto Oseguera José Luis',\n",
       "  'gender': 'male'},\n",
       " {'id_legislador': '14eaae94-fe1e-11ea-95ca-acde48001122',\n",
       "  'name_legislador': ' David Penchyna Grub',\n",
       "  'gender': 'male'},\n",
       " {'id_legislador': '151cc17c-fe1e-11ea-95ca-acde48001122',\n",
       "  'name_legislador': 'Terán Velázquez María Esther',\n",
       "  'gender': 'female'},\n",
       " {'id_legislador': '154a340e-fe1e-11ea-95ca-acde48001122',\n",
       "  'name_legislador': 'Terrazas Porras Adriana',\n",
       "  'gender': 'female'},\n",
       " {'id_legislador': '157b735c-fe1e-11ea-95ca-acde48001122',\n",
       "  'name_legislador': 'Terrón Mendoza Miguel Ángel (LICENCIA)',\n",
       "  'gender': 'male'},\n",
       " {'id_legislador': '15aed8be-fe1e-11ea-95ca-acde48001122',\n",
       "  'name_legislador': ' Aarón Irízar López',\n",
       "  'gender': 'male'},\n",
       " {'id_legislador': '15de90c2-fe1e-11ea-95ca-acde48001122',\n",
       "  'name_legislador': 'Torres Huitrón José Alfredo',\n",
       "  'gender': 'male'},\n",
       " {'id_legislador': '160e99ca-fe1e-11ea-95ca-acde48001122',\n",
       "  'name_legislador': 'Trujillo Zentella Georgina',\n",
       "  'gender': 'female'},\n",
       " {'id_legislador': '1642ea86-fe1e-11ea-95ca-acde48001122',\n",
       "  'name_legislador': ' Ardelio Vargas Fosado',\n",
       "  'gender': 'male'},\n",
       " {'id_legislador': '16733254-fe1e-11ea-95ca-acde48001122',\n",
       "  'name_legislador': 'Valdés Huezo Josué Cirino',\n",
       "  'gender': 'male'},\n",
       " {'id_legislador': '16a16908-fe1e-11ea-95ca-acde48001122',\n",
       "  'name_legislador': 'Vázquez Góngora Canek',\n",
       "  'gender': 'male'},\n",
       " {'id_legislador': '16cf40b2-fe1e-11ea-95ca-acde48001122',\n",
       "  'name_legislador': 'Vázquez Pérez Noé Martín',\n",
       "  'gender': 'male'},\n",
       " {'id_legislador': '16fc5ffc-fe1e-11ea-95ca-acde48001122',\n",
       "  'name_legislador': 'Velasco Lino José Luis',\n",
       "  'gender': 'male'},\n",
       " {'id_legislador': '172a3738-fe1e-11ea-95ca-acde48001122',\n",
       "  'name_legislador': 'Velasco Monroy Héctor Eduardo',\n",
       "  'gender': 'male'},\n",
       " {'id_legislador': '175778ba-fe1e-11ea-95ca-acde48001122',\n",
       "  'name_legislador': 'Verver y Vargas Ramírez Heladio Gerardo',\n",
       "  'gender': 'male'},\n",
       " {'id_legislador': '178d5476-fe1e-11ea-95ca-acde48001122',\n",
       "  'name_legislador': ' Ramón Ramírez Valtierra',\n",
       "  'gender': 'male'},\n",
       " {'id_legislador': '17ba386a-fe1e-11ea-95ca-acde48001122',\n",
       "  'name_legislador': 'Viggiano Austria Alma Carolina',\n",
       "  'gender': 'female'},\n",
       " {'id_legislador': '17e52cb4-fe1e-11ea-95ca-acde48001122',\n",
       "  'name_legislador': 'Villegas Arreola Alfredo',\n",
       "  'gender': 'male'},\n",
       " {'id_legislador': '1810b780-fe1e-11ea-95ca-acde48001122',\n",
       "  'name_legislador': 'Yáñez Montaño J. Eduardo',\n",
       "  'gender': 'male'},\n",
       " {'id_legislador': '183e0c4e-fe1e-11ea-95ca-acde48001122',\n",
       "  'name_legislador': 'Yglesias Arreola José Antonio',\n",
       "  'gender': 'male'},\n",
       " {'id_legislador': '186f0bb4-fe1e-11ea-95ca-acde48001122',\n",
       "  'name_legislador': 'Zamora Cabrera Cristabell',\n",
       "  'gender': 'female'},\n",
       " {'id_legislador': '189c5966-fe1e-11ea-95ca-acde48001122',\n",
       "  'name_legislador': 'Zamora Jiménez Arturo',\n",
       "  'gender': 'male'},\n",
       " {'id_legislador': '18cc3fbe-fe1e-11ea-95ca-acde48001122',\n",
       "  'name_legislador': 'Zamora Villalva Alicia Elizabeth (LICENCIA)',\n",
       "  'gender': 'female'},\n",
       " {'id_legislador': '19020658-fe1e-11ea-95ca-acde48001122',\n",
       "  'name_legislador': ' Héctor Agustín Murguía Lardizábal',\n",
       "  'gender': 'male'},\n",
       " {'id_legislador': '19361240-fe1e-11ea-95ca-acde48001122',\n",
       "  'name_legislador': 'Zarzosa Sánchez Eduardo',\n",
       "  'gender': 'male'},\n",
       " {'id_legislador': '19675468-fe1e-11ea-95ca-acde48001122',\n",
       "  'name_legislador': 'Zubia Rivera Rolando',\n",
       "  'gender': 'male'},\n",
       " {'id_legislador': '199c4bdc-fe1e-11ea-95ca-acde48001122',\n",
       "  'name_legislador': 'Aguilar Armendáriz Velia Idalia',\n",
       "  'gender': 'female'},\n",
       " {'id_legislador': '19d6a21e-fe1e-11ea-95ca-acde48001122',\n",
       "  'name_legislador': ' Juan de Jesús Pascualli Gómez',\n",
       "  'gender': 'male'},\n",
       " {'id_legislador': '1a0c5ee0-fe1e-11ea-95ca-acde48001122',\n",
       "  'name_legislador': 'Arámbula López José Antonio',\n",
       "  'gender': 'male'},\n",
       " {'id_legislador': '1a410e42-fe1e-11ea-95ca-acde48001122',\n",
       "  'name_legislador': 'Arce Paniagua Óscar Martín',\n",
       "  'gender': 'male'},\n",
       " {'id_legislador': '1a6c640c-fe1e-11ea-95ca-acde48001122',\n",
       "  'name_legislador': 'Arellano Rodríguez Rubén',\n",
       "  'gender': 'male'},\n",
       " {'id_legislador': '1a9dc2d6-fe1e-11ea-95ca-acde48001122',\n",
       "  'name_legislador': 'Arévalo Sosa Cecilia Soledad',\n",
       "  'gender': 'female'},\n",
       " {'id_legislador': '1aca7a56-fe1e-11ea-95ca-acde48001122',\n",
       "  'name_legislador': 'Arriaga Rojas Justino Eugenio',\n",
       "  'gender': 'male'},\n",
       " {'id_legislador': '1af61864-fe1e-11ea-95ca-acde48001122',\n",
       "  'name_legislador': 'Ávila Ruíz Daniel Gabriel',\n",
       "  'gender': 'male'},\n",
       " {'id_legislador': '1b27ba2c-fe1e-11ea-95ca-acde48001122',\n",
       "  'name_legislador': 'Bahena Flores Alejandro',\n",
       "  'gender': 'male'},\n",
       " {'id_legislador': '1b5315be-fe1e-11ea-95ca-acde48001122',\n",
       "  'name_legislador': 'Balderas Vaquera Víctor Alejandro',\n",
       "  'gender': 'male'},\n",
       " {'id_legislador': '1b7f2b90-fe1e-11ea-95ca-acde48001122',\n",
       "  'name_legislador': 'Becerra Pocoroba Mario Alberto',\n",
       "  'gender': 'male'},\n",
       " {'id_legislador': '1bb00e0e-fe1e-11ea-95ca-acde48001122',\n",
       "  'name_legislador': 'Bello Otero Carlos',\n",
       "  'gender': 'male'},\n",
       " {'id_legislador': '1bdd3e56-fe1e-11ea-95ca-acde48001122',\n",
       "  'name_legislador': 'Bermúdez Méndez José Erandi',\n",
       "  'gender': 'female'},\n",
       " {'id_legislador': '1c07e188-fe1e-11ea-95ca-acde48001122',\n",
       "  'name_legislador': 'Camacho Pedrero Mirna Lucrecia',\n",
       "  'gender': 'female'},\n",
       " {'id_legislador': '1c3d87f2-fe1e-11ea-95ca-acde48001122',\n",
       "  'name_legislador': ' Javier Corral Jurado',\n",
       "  'gender': 'male'},\n",
       " {'id_legislador': '1c718e9e-fe1e-11ea-95ca-acde48001122',\n",
       "  'name_legislador': 'Cantú Rodríguez Felipe de Jesús',\n",
       "  'gender': 'male'},\n",
       " {'id_legislador': '1ca46e2c-fe1e-11ea-95ca-acde48001122',\n",
       "  'name_legislador': 'Castellanos Flores Gumercindo',\n",
       "  'gender': 'male'},\n",
       " {'id_legislador': '1ccfe0fc-fe1e-11ea-95ca-acde48001122',\n",
       "  'name_legislador': 'Castellanos Ramírez Julio',\n",
       "  'gender': 'male'},\n",
       " {'id_legislador': '1d01629e-fe1e-11ea-95ca-acde48001122',\n",
       "  'name_legislador': 'Castilla Marroquín Agustín Carlos',\n",
       "  'gender': 'male'},\n",
       " {'id_legislador': '1d335cae-fe1e-11ea-95ca-acde48001122',\n",
       "  'name_legislador': 'Castillo Andrade Óscar Saúl',\n",
       "  'gender': 'male'},\n",
       " {'id_legislador': '1d6a37d8-fe1e-11ea-95ca-acde48001122',\n",
       "  'name_legislador': ' Alejandra Noemí Reynoso Sánchez',\n",
       "  'gender': 'female'},\n",
       " {'id_legislador': '1d980cf8-fe1e-11ea-95ca-acde48001122',\n",
       "  'name_legislador': 'Cortazar Ramos Ovidio',\n",
       "  'gender': 'male'},\n",
       " {'id_legislador': '1dc2d7ee-fe1e-11ea-95ca-acde48001122',\n",
       "  'name_legislador': 'Cortés León Yulenny Guylaine',\n",
       "  'gender': 'female'},\n",
       " {'id_legislador': '1df3428a-fe1e-11ea-95ca-acde48001122',\n",
       "  'name_legislador': 'Cortez Mendoza Jesús Gerardo',\n",
       "  'gender': 'male'},\n",
       " {'id_legislador': '1e245c12-fe1e-11ea-95ca-acde48001122',\n",
       "  'name_legislador': 'Cuadra García Raúl Gerardo',\n",
       "  'gender': 'male'},\n",
       " {'id_legislador': '1e51d71e-fe1e-11ea-95ca-acde48001122',\n",
       "  'name_legislador': 'Cuevas Barron Gabriela',\n",
       "  'gender': 'female'},\n",
       " {'id_legislador': '1e874ab6-fe1e-11ea-95ca-acde48001122',\n",
       "  'name_legislador': 'Cuevas García Juan José',\n",
       "  'gender': 'male'},\n",
       " {'id_legislador': '1eb5add4-fe1e-11ea-95ca-acde48001122',\n",
       "  'name_legislador': 'De los Cobos Silva José Gerardo',\n",
       "  'gender': 'male'},\n",
       " {'id_legislador': '1ee0bf06-fe1e-11ea-95ca-acde48001122',\n",
       "  'name_legislador': 'Del Río Sánchez María Dolores',\n",
       "  'gender': 'female'},\n",
       " {'id_legislador': '1f0e2acc-fe1e-11ea-95ca-acde48001122',\n",
       "  'name_legislador': 'Díaz Lizama Rosa Adriana',\n",
       "  'gender': 'female'},\n",
       " {'id_legislador': '1f3abd76-fe1e-11ea-95ca-acde48001122',\n",
       "  'name_legislador': 'Díaz de Rivera Hernández Augusta Valentina',\n",
       "  'gender': 'female'},\n",
       " {'id_legislador': '1f6be0d6-fe1e-11ea-95ca-acde48001122',\n",
       "  'name_legislador': 'Escobar Martínez Juan Pablo',\n",
       "  'gender': 'male'},\n",
       " {'id_legislador': '1f9a536c-fe1e-11ea-95ca-acde48001122',\n",
       "  'name_legislador': 'Esquer Gutiérrez Alberto',\n",
       "  'gender': 'male'},\n",
       " {'id_legislador': '1fca00e4-fe1e-11ea-95ca-acde48001122',\n",
       "  'name_legislador': 'Estrada Rodríguez Laura Elena',\n",
       "  'gender': 'female'},\n",
       " {'id_legislador': '1ff8440e-fe1e-11ea-95ca-acde48001122',\n",
       "  'name_legislador': 'Fuentes Cortés Adriana',\n",
       "  'gender': 'female'},\n",
       " {'id_legislador': '202620c2-fe1e-11ea-95ca-acde48001122',\n",
       "  'name_legislador': 'Gallegos Camarena Lucila del Carmen',\n",
       "  'gender': 'female'},\n",
       " {'id_legislador': '20530880-fe1e-11ea-95ca-acde48001122',\n",
       "  'name_legislador': 'Gama Dufour Sergio',\n",
       "  'gender': 'male'},\n",
       " {'id_legislador': '20849986-fe1e-11ea-95ca-acde48001122',\n",
       "  'name_legislador': 'García Bringas Leandro Rafael',\n",
       "  'gender': 'male'},\n",
       " {'id_legislador': '20b9ccfa-fe1e-11ea-95ca-acde48001122',\n",
       "  'name_legislador': 'García Gómez Martha Elena',\n",
       "  'gender': 'female'},\n",
       " {'id_legislador': '20e79fc2-fe1e-11ea-95ca-acde48001122',\n",
       "  'name_legislador': 'García Portillo Arturo',\n",
       "  'gender': 'male'},\n",
       " {'id_legislador': '2117f500-fe1e-11ea-95ca-acde48001122',\n",
       "  'name_legislador': 'Germán Olivares Sergio Octavio',\n",
       "  'gender': 'male'},\n",
       " {'id_legislador': '2147c852-fe1e-11ea-95ca-acde48001122',\n",
       "  'name_legislador': 'González Hernández Gustavo',\n",
       "  'gender': 'male'},\n",
       " {'id_legislador': '2175fd62-fe1e-11ea-95ca-acde48001122',\n",
       "  'name_legislador': 'González Hernández Sergio',\n",
       "  'gender': 'male'},\n",
       " {'id_legislador': '21a6bc04-fe1e-11ea-95ca-acde48001122',\n",
       "  'name_legislador': 'González Madruga César Daniel',\n",
       "  'gender': 'male'},\n",
       " {'id_legislador': '21d8cfb4-fe1e-11ea-95ca-acde48001122',\n",
       "  'name_legislador': ' Manuel Jesús Clouthier Carrillo',\n",
       "  'gender': 'male'},\n",
       " {'id_legislador': '220b612c-fe1e-11ea-95ca-acde48001122',\n",
       "  'name_legislador': 'González Ulloa Nancy',\n",
       "  'gender': 'female'},\n",
       " {'id_legislador': '22403172-fe1e-11ea-95ca-acde48001122',\n",
       "  'name_legislador': 'Guillén Medina Leonardo Arturo',\n",
       "  'gender': 'male'},\n",
       " {'id_legislador': '2273127c-fe1e-11ea-95ca-acde48001122',\n",
       "  'name_legislador': 'Gutiérrez Cortina Paz',\n",
       "  'gender': 'female'},\n",
       " {'id_legislador': '22a0ed32-fe1e-11ea-95ca-acde48001122',\n",
       "  'name_legislador': 'Gutiérrez Fragoso Valdemar',\n",
       "  'gender': 'male'},\n",
       " {'id_legislador': '22cf1ab8-fe1e-11ea-95ca-acde48001122',\n",
       "  'name_legislador': 'Gutiérrez Ramírez Tomás',\n",
       "  'gender': 'male'},\n",
       " {'id_legislador': '230036de-fe1e-11ea-95ca-acde48001122',\n",
       "  'name_legislador': ' Pablo Rodríguez Regordosa',\n",
       "  'gender': 'male'},\n",
       " {'id_legislador': '2330fd78-fe1e-11ea-95ca-acde48001122',\n",
       "  'name_legislador': 'Herrera Rivera Bonifacio',\n",
       "  'gender': 'male'},\n",
       " {'id_legislador': '235f43f4-fe1e-11ea-95ca-acde48001122',\n",
       "  'name_legislador': 'Hinojosa Pérez José Manuel',\n",
       "  'gender': 'male'},\n",
       " {'id_legislador': '238ecc8c-fe1e-11ea-95ca-acde48001122',\n",
       "  'name_legislador': 'Hurtado Leija Gregorio',\n",
       "  'gender': 'male'},\n",
       " {'id_legislador': '23bb6666-fe1e-11ea-95ca-acde48001122',\n",
       "  'name_legislador': 'Iñiguez Gámez José Luis',\n",
       "  'gender': 'male'},\n",
       " {'id_legislador': '23f10316-fe1e-11ea-95ca-acde48001122',\n",
       "  'name_legislador': 'Landero Gutiérrez José Francisco Javier',\n",
       "  'gender': 'male'},\n",
       " {'id_legislador': '241ee5d8-fe1e-11ea-95ca-acde48001122',\n",
       "  'name_legislador': 'López Hernández Oralia',\n",
       "  'gender': 'female'},\n",
       " {'id_legislador': '244cdde4-fe1e-11ea-95ca-acde48001122',\n",
       "  'name_legislador': 'López Rabadán Kenia',\n",
       "  'gender': 'female'},\n",
       " {'id_legislador': '24793efc-fe1e-11ea-95ca-acde48001122',\n",
       "  'name_legislador': 'Lugo Martínez Ruth Esperanza',\n",
       "  'gender': 'female'},\n",
       " {'id_legislador': '24a9b5e6-fe1e-11ea-95ca-acde48001122',\n",
       "  'name_legislador': 'Luken Garza Gastón',\n",
       "  'gender': 'male'},\n",
       " {'id_legislador': '24d66a0a-fe1e-11ea-95ca-acde48001122',\n",
       "  'name_legislador': 'Luna Ruíz Gloria Trinidad',\n",
       "  'gender': 'female'},\n",
       " {'id_legislador': '2509aeec-fe1e-11ea-95ca-acde48001122',\n",
       "  'name_legislador': 'Madrigal Díaz César Octavio',\n",
       "  'gender': 'male'},\n",
       " {'id_legislador': '25371a6c-fe1e-11ea-95ca-acde48001122',\n",
       "  'name_legislador': 'Mancillas Amador César',\n",
       "  'gender': 'male'},\n",
       " {'id_legislador': '2566a71e-fe1e-11ea-95ca-acde48001122',\n",
       "  'name_legislador': 'Márquez Zapata Nelly Del Carmen',\n",
       "  'gender': 'female'},\n",
       " {'id_legislador': '25947608-fe1e-11ea-95ca-acde48001122',\n",
       "  'name_legislador': 'Marroquín Toledo José Manuel',\n",
       "  'gender': 'male'},\n",
       " {'id_legislador': '25c45f12-fe1e-11ea-95ca-acde48001122',\n",
       "  'name_legislador': 'Martín López Miguel',\n",
       "  'gender': 'male'},\n",
       " {'id_legislador': '25f37568-fe1e-11ea-95ca-acde48001122',\n",
       "  'name_legislador': 'Martínez Martínez Carlos',\n",
       "  'gender': 'male'},\n",
       " {'id_legislador': '26208f8a-fe1e-11ea-95ca-acde48001122',\n",
       "  'name_legislador': 'Martínez Montemayor Baltazar',\n",
       "  'gender': 'male'},\n",
       " {'id_legislador': '2650792a-fe1e-11ea-95ca-acde48001122',\n",
       "  'name_legislador': 'Martínez Peñaloza Miguel',\n",
       "  'gender': 'male'},\n",
       " {'id_legislador': '267e714a-fe1e-11ea-95ca-acde48001122',\n",
       "  'name_legislador': 'Meillón Johnston Carlos Luis',\n",
       "  'gender': 'male'},\n",
       " {'id_legislador': '26a8f370-fe1e-11ea-95ca-acde48001122',\n",
       "  'name_legislador': 'Méndez Herrera Alba Leonila',\n",
       "  'gender': 'female'},\n",
       " {'id_legislador': '26db1346-fe1e-11ea-95ca-acde48001122',\n",
       "  'name_legislador': 'Mendoza Díaz Sonia',\n",
       "  'gender': 'female'},\n",
       " {'id_legislador': '2711e074-fe1e-11ea-95ca-acde48001122',\n",
       "  'name_legislador': ' Guillermo José Zavaleta Rojas',\n",
       "  'gender': 'male'},\n",
       " {'id_legislador': '27427748-fe1e-11ea-95ca-acde48001122',\n",
       "  'name_legislador': 'Mercado Sánchez Luis Enrique',\n",
       "  'gender': 'male'},\n",
       " {'id_legislador': '27713484-fe1e-11ea-95ca-acde48001122',\n",
       "  'name_legislador': 'Merino Loo Ramón',\n",
       "  'gender': 'male'},\n",
       " {'id_legislador': '279f040e-fe1e-11ea-95ca-acde48001122',\n",
       "  'name_legislador': 'Monge Villalobos Silvia Isabel',\n",
       "  'gender': 'female'},\n",
       " {'id_legislador': '27d03452-fe1e-11ea-95ca-acde48001122',\n",
       "  'name_legislador': 'Montalvo López Yolanda del Carmen',\n",
       "  'gender': 'female'},\n",
       " {'id_legislador': '2800daee-fe1e-11ea-95ca-acde48001122',\n",
       "  'name_legislador': 'Morán Sánchez Leoncio Alfonso',\n",
       "  'gender': 'male'},\n",
       " {'id_legislador': '28360228-fe1e-11ea-95ca-acde48001122',\n",
       "  'name_legislador': ' Adriana de Lourdes Hinojosa Céspedes',\n",
       "  'gender': 'female'},\n",
       " {'id_legislador': '286491f6-fe1e-11ea-95ca-acde48001122',\n",
       "  'name_legislador': 'Nava Vázquez José César',\n",
       "  'gender': 'male'},\n",
       " {'id_legislador': '2899dc9e-fe1e-11ea-95ca-acde48001122',\n",
       "  'name_legislador': 'Novoa Mossberger María Joann',\n",
       "  'gender': 'female'},\n",
       " {'id_legislador': '28c9a668-fe1e-11ea-95ca-acde48001122',\n",
       "  'name_legislador': 'Oliva Ramírez Jaime',\n",
       "  'gender': 'male'},\n",
       " {'id_legislador': '2900260c-fe1e-11ea-95ca-acde48001122',\n",
       "  'name_legislador': 'Orduño Valdez Francisco Javier',\n",
       "  'gender': 'male'},\n",
       " {'id_legislador': '2931af2e-fe1e-11ea-95ca-acde48001122',\n",
       "  'name_legislador': 'Orozco Rosi',\n",
       "  'gender': 'female'},\n",
       " {'id_legislador': '29607584-fe1e-11ea-95ca-acde48001122',\n",
       "  'name_legislador': 'Ortega Joaquín Gustavo Antonio Miguel',\n",
       "  'gender': 'male'},\n",
       " {'id_legislador': '2990f34e-fe1e-11ea-95ca-acde48001122',\n",
       "  'name_legislador': 'Osuna Millán Miguel Antonio',\n",
       "  'gender': 'male'},\n",
       " {'id_legislador': '29be1892-fe1e-11ea-95ca-acde48001122',\n",
       "  'name_legislador': 'Ovando Patrón José Luis',\n",
       "  'gender': 'male'},\n",
       " {'id_legislador': '29eac766-fe1e-11ea-95ca-acde48001122',\n",
       "  'name_legislador': 'Paredes Arciga Ana Elia',\n",
       "  'gender': 'male'},\n",
       " {'id_legislador': '2a1a1d9a-fe1e-11ea-95ca-acde48001122',\n",
       "  'name_legislador': 'Parra Becerra María Felicitas',\n",
       "  'gender': 'female'},\n",
       " {'id_legislador': '2a46fec8-fe1e-11ea-95ca-acde48001122',\n",
       "  'name_legislador': 'Pedroza Gaitán César Octavio',\n",
       "  'gender': 'male'},\n",
       " {'id_legislador': '2a77a708-fe1e-11ea-95ca-acde48001122',\n",
       "  'name_legislador': 'Peralta Rivas Pedro',\n",
       "  'gender': 'male'},\n",
       " {'id_legislador': '2aaa8a24-fe1e-11ea-95ca-acde48001122',\n",
       "  'name_legislador': 'Pérez Ceballos Silvia Esther',\n",
       "  'gender': 'female'},\n",
       " {'id_legislador': '2adc7b56-fe1e-11ea-95ca-acde48001122',\n",
       "  'name_legislador': 'Pérez Cuevas Carlos Alberto',\n",
       "  'gender': 'male'},\n",
       " {'id_legislador': '2b12c936-fe1e-11ea-95ca-acde48001122',\n",
       "  'name_legislador': 'Pérez Esquer Marcos',\n",
       "  'gender': 'male'},\n",
       " {'id_legislador': '2b5d924a-fe1e-11ea-95ca-acde48001122',\n",
       "  'name_legislador': 'Pérez Reyes María Antonieta',\n",
       "  'gender': 'female'},\n",
       " {'id_legislador': '2ba6c866-fe1e-11ea-95ca-acde48001122',\n",
       "  'name_legislador': 'Pérez de Tejada Romero Ma. Elena',\n",
       "  'gender': 'female'},\n",
       " {'id_legislador': '2c0f80b8-fe1e-11ea-95ca-acde48001122',\n",
       "  'name_legislador': 'Quezada Naranjo Benigno',\n",
       "  'gender': 'male'},\n",
       " {'id_legislador': '2c671b84-fe1e-11ea-95ca-acde48001122',\n",
       "  'name_legislador': ' Juan Huerta Montero',\n",
       "  'gender': 'male'},\n",
       " {'id_legislador': '2cb265f8-fe1e-11ea-95ca-acde48001122',\n",
       "  'name_legislador': 'Ramírez Bucio Arturo',\n",
       "  'gender': 'male'},\n",
       " {'id_legislador': '2d05086c-fe1e-11ea-95ca-acde48001122',\n",
       "  'name_legislador': 'Ramírez Puente Camilo',\n",
       "  'gender': 'male'},\n",
       " {'id_legislador': '2d391440-fe1e-11ea-95ca-acde48001122',\n",
       "  'name_legislador': 'Ramírez Rangel Jesús',\n",
       "  'gender': 'male'},\n",
       " {'id_legislador': '2d701d96-fe1e-11ea-95ca-acde48001122',\n",
       "  'name_legislador': 'Ramos Cárdenas Liev Vladimir',\n",
       "  'gender': 'male'},\n",
       " {'id_legislador': '2da87024-fe1e-11ea-95ca-acde48001122',\n",
       "  'name_legislador': 'Rangel Vargas Felipe de Jesús',\n",
       "  'gender': 'male'},\n",
       " {'id_legislador': '2ddc5498-fe1e-11ea-95ca-acde48001122',\n",
       "  'name_legislador': 'Rétiz Gutiérrez Ezequiel',\n",
       "  'gender': 'male'},\n",
       " {'id_legislador': '2e19fb36-fe1e-11ea-95ca-acde48001122',\n",
       "  'name_legislador': 'Reyes Hernández Ivideliza',\n",
       "  'gender': 'male'},\n",
       " {'id_legislador': '2e532adc-fe1e-11ea-95ca-acde48001122',\n",
       "  'name_legislador': 'Reynoso Femat Ma. de Lourdes',\n",
       "  'gender': 'female'},\n",
       " {'id_legislador': '2e9026f8-fe1e-11ea-95ca-acde48001122',\n",
       "  'name_legislador': 'Rico Jiménez Martín',\n",
       "  'gender': 'male'},\n",
       " {'id_legislador': '2ec78d96-fe1e-11ea-95ca-acde48001122',\n",
       "  'name_legislador': 'Robles Medina Guadalupe Eduardo',\n",
       "  'gender': 'male'},\n",
       " {'id_legislador': '2f0026a6-fe1e-11ea-95ca-acde48001122',\n",
       "  'name_legislador': 'Rodríguez Dávila Alfredo Javier',\n",
       "  'gender': 'male'},\n",
       " {'id_legislador': '2f34a606-fe1e-11ea-95ca-acde48001122',\n",
       "  'name_legislador': 'Rodríguez Galarza Wendy Guadalupe',\n",
       "  'gender': 'female'},\n",
       " {'id_legislador': '2f6fbb7e-fe1e-11ea-95ca-acde48001122',\n",
       "  'name_legislador': 'Rojo Montoya Adolfo',\n",
       "  'gender': 'male'},\n",
       " {'id_legislador': '2faaea32-fe1e-11ea-95ca-acde48001122',\n",
       "  'name_legislador': 'Romero León Gloria',\n",
       "  'gender': 'female'},\n",
       " {'id_legislador': '2febcdfe-fe1e-11ea-95ca-acde48001122',\n",
       "  'name_legislador': ' Jesús Giles Sánchez',\n",
       "  'gender': 'male'},\n",
       " {'id_legislador': '30268296-fe1e-11ea-95ca-acde48001122',\n",
       "  'name_legislador': ' Alfonso Jesús Martínez Alcázar',\n",
       "  'gender': 'male'},\n",
       " {'id_legislador': '30617144-fe1e-11ea-95ca-acde48001122',\n",
       "  'name_legislador': 'Salazar Sáenz Francisco Javier',\n",
       "  'gender': 'male'},\n",
       " {'id_legislador': '309eafdc-fe1e-11ea-95ca-acde48001122',\n",
       "  'name_legislador': 'Salazar Vázquez Norma Leticia',\n",
       "  'gender': 'female'},\n",
       " {'id_legislador': '30d9e16a-fe1e-11ea-95ca-acde48001122',\n",
       "  'name_legislador': 'Saldaña Morán Julio',\n",
       "  'gender': 'male'},\n",
       " {'id_legislador': '311be54c-fe1e-11ea-95ca-acde48001122',\n",
       "  'name_legislador': ' Ema Margarita Alemán Olvera',\n",
       "  'gender': 'female'},\n",
       " {'id_legislador': '315fc776-fe1e-11ea-95ca-acde48001122',\n",
       "  'name_legislador': 'Sánchez Romero Norma',\n",
       "  'gender': 'female'},\n",
       " {'id_legislador': '319f5d46-fe1e-11ea-95ca-acde48001122',\n",
       "  'name_legislador': 'Santamaría Prieto Fernando',\n",
       "  'gender': 'male'},\n",
       " {'id_legislador': '31eb115a-fe1e-11ea-95ca-acde48001122',\n",
       "  'name_legislador': 'Seara Sierra José Ignacio',\n",
       "  'gender': 'male'},\n",
       " {'id_legislador': '322544ce-fe1e-11ea-95ca-acde48001122',\n",
       "  'name_legislador': 'Suárez González Laura Margarita',\n",
       "  'gender': 'female'},\n",
       " {'id_legislador': '325b7436-fe1e-11ea-95ca-acde48001122',\n",
       "  'name_legislador': 'Téllez González Ignacio',\n",
       "  'gender': 'male'},\n",
       " {'id_legislador': '3293ea96-fe1e-11ea-95ca-acde48001122',\n",
       "  'name_legislador': 'Téllez Juárez Bernardo Margarito',\n",
       "  'gender': 'male'},\n",
       " {'id_legislador': '32d085c8-fe1e-11ea-95ca-acde48001122',\n",
       "  'name_legislador': 'Tolento Hernández Sergio',\n",
       "  'gender': 'male'},\n",
       " {'id_legislador': '331441f0-fe1e-11ea-95ca-acde48001122',\n",
       "  'name_legislador': 'Torres Delgado Enrique',\n",
       "  'gender': 'male'},\n",
       " {'id_legislador': '334fbc6c-fe1e-11ea-95ca-acde48001122',\n",
       "  'name_legislador': 'Torres Ibarrola Agustín',\n",
       "  'gender': 'male'},\n",
       " {'id_legislador': '3387b590-fe1e-11ea-95ca-acde48001122',\n",
       "  'name_legislador': 'Torres Peimbert María Marcela',\n",
       "  'gender': 'female'},\n",
       " {'id_legislador': '33c3f1b8-fe1e-11ea-95ca-acde48001122',\n",
       "  'name_legislador': 'Torres Santos Sergio Arturo',\n",
       "  'gender': 'male'},\n",
       " {'id_legislador': '3401795c-fe1e-11ea-95ca-acde48001122',\n",
       "  'name_legislador': 'Trejo Azuara Enrique Octavio',\n",
       "  'gender': 'male'},\n",
       " {'id_legislador': '3443eca6-fe1e-11ea-95ca-acde48001122',\n",
       "  'name_legislador': 'Trigueras Durón Dora Evelyn',\n",
       "  'gender': 'female'},\n",
       " {'id_legislador': '3480b28a-fe1e-11ea-95ca-acde48001122',\n",
       "  'name_legislador': 'Ugalde Basaldúa María Sandra',\n",
       "  'gender': 'female'},\n",
       " {'id_legislador': '34bac916-fe1e-11ea-95ca-acde48001122',\n",
       "  'name_legislador': 'Usabiaga Arroyo Javier Bernardo',\n",
       "  'gender': 'male'},\n",
       " {'id_legislador': '34f30696-fe1e-11ea-95ca-acde48001122',\n",
       "  'name_legislador': 'Valencia Vales María Yolanda',\n",
       "  'gender': 'female'},\n",
       " {'id_legislador': '35292564-fe1e-11ea-95ca-acde48001122',\n",
       "  'name_legislador': 'Valenzuela Cabrales Guadalupe',\n",
       "  'gender': 'female'},\n",
       " {'id_legislador': '35648c08-fe1e-11ea-95ca-acde48001122',\n",
       "  'name_legislador': ' Roberto Gil Zuarth',\n",
       "  'gender': 'male'},\n",
       " {'id_legislador': '359cd91e-fe1e-11ea-95ca-acde48001122',\n",
       "  'name_legislador': 'Vega De Lamadrid Francisco Arturo',\n",
       "  'gender': 'male'},\n",
       " {'id_legislador': '35d55de8-fe1e-11ea-95ca-acde48001122',\n",
       "  'name_legislador': 'Velázquez y Llorente Julián Francisco',\n",
       "  'gender': 'male'},\n",
       " {'id_legislador': '360d5b94-fe1e-11ea-95ca-acde48001122',\n",
       "  'name_legislador': 'Vera Hernández J. Guadalupe',\n",
       "  'gender': 'female'},\n",
       " {'id_legislador': '3645f09e-fe1e-11ea-95ca-acde48001122',\n",
       "  'name_legislador': ' Francisco Javier Ramírez Acuña',\n",
       "  'gender': 'male'},\n",
       " {'id_legislador': '368be8b0-fe1e-11ea-95ca-acde48001122',\n",
       "  'name_legislador': 'Vives Preciado Tomasa',\n",
       "  'gender': 'female'},\n",
       " {'id_legislador': '36c0891c-fe1e-11ea-95ca-acde48001122',\n",
       "  'name_legislador': 'Zetina Soto Sixto Alfonso',\n",
       "  'gender': 'male'},\n",
       " {'id_legislador': '36f9eb30-fe1e-11ea-95ca-acde48001122',\n",
       "  'name_legislador': 'Acosta Naranjo Guadalupe',\n",
       "  'gender': 'female'},\n",
       " {'id_legislador': '3731f3a4-fe1e-11ea-95ca-acde48001122',\n",
       "  'name_legislador': 'Anaya Mota Claudia Edith',\n",
       "  'gender': 'female'},\n",
       " {'id_legislador': '376f8c3c-fe1e-11ea-95ca-acde48001122',\n",
       "  'name_legislador': ' José de Jesús Zambrano Grijalva',\n",
       "  'gender': 'male'},\n",
       " {'id_legislador': '37a47e10-fe1e-11ea-95ca-acde48001122',\n",
       "  'name_legislador': 'Bernardino Rojas Martha Angélica',\n",
       "  'gender': 'female'},\n",
       " {'id_legislador': '37d841e6-fe1e-11ea-95ca-acde48001122',\n",
       "  'name_legislador': 'Burelo Burelo César Francisco',\n",
       "  'gender': 'male'},\n",
       " {'id_legislador': '3813ad1c-fe1e-11ea-95ca-acde48001122',\n",
       "  'name_legislador': 'Carmona Cabrera Bélgica Nabil',\n",
       "  'gender': 'male'},\n",
       " {'id_legislador': '3849a3b8-fe1e-11ea-95ca-acde48001122',\n",
       "  'name_legislador': 'Castro Cosío Víctor Manuel',\n",
       "  'gender': 'male'},\n",
       " {'id_legislador': '38844f36-fe1e-11ea-95ca-acde48001122',\n",
       "  'name_legislador': ' Filemón Navarro Aguilar',\n",
       "  'gender': 'male'},\n",
       " {'id_legislador': '38b4d124-fe1e-11ea-95ca-acde48001122',\n",
       "  'name_legislador': 'Cruz Cruz Juanita Arcelia',\n",
       "  'gender': 'female'},\n",
       " {'id_legislador': '38eea64c-fe1e-11ea-95ca-acde48001122',\n",
       "  'name_legislador': ' María Guadalupe Silerio Núñez',\n",
       "  'gender': 'female'},\n",
       " {'id_legislador': '39236ac6-fe1e-11ea-95ca-acde48001122',\n",
       "  'name_legislador': 'Damián Peralta Esthela',\n",
       "  'gender': 'female'},\n",
       " {'id_legislador': '395d7af4-fe1e-11ea-95ca-acde48001122',\n",
       "  'name_legislador': ' Adán Augusto López Hernández',\n",
       "  'gender': 'male'},\n",
       " {'id_legislador': '399620b6-fe1e-11ea-95ca-acde48001122',\n",
       "  'name_legislador': ' Carlos Torres Piña',\n",
       "  'gender': 'male'},\n",
       " {'id_legislador': '39cc637e-fe1e-11ea-95ca-acde48001122',\n",
       "  'name_legislador': 'Eguía Pérez Luis Felipe',\n",
       "  'gender': 'male'},\n",
       " {'id_legislador': '3a0074e8-fe1e-11ea-95ca-acde48001122',\n",
       "  'name_legislador': 'Encinas Rodríguez Alejandro de Jesús',\n",
       "  'gender': 'male'},\n",
       " {'id_legislador': '3a326caa-fe1e-11ea-95ca-acde48001122',\n",
       "  'name_legislador': 'Espinosa Morales Olga Luz',\n",
       "  'gender': 'female'},\n",
       " {'id_legislador': '3a6b637a-fe1e-11ea-95ca-acde48001122',\n",
       "  'name_legislador': 'García Avilés Martín',\n",
       "  'gender': 'male'},\n",
       " {'id_legislador': '3aa2e9bc-fe1e-11ea-95ca-acde48001122',\n",
       "  'name_legislador': ' Uriel López Paredes',\n",
       "  'gender': 'male'},\n",
       " {'id_legislador': '3ad757f6-fe1e-11ea-95ca-acde48001122',\n",
       "  'name_legislador': 'García Coronado Lizbeth',\n",
       "  'gender': 'female'},\n",
       " {'id_legislador': '3b0c6aa4-fe1e-11ea-95ca-acde48001122',\n",
       "  'name_legislador': ' Ángel Aguirre Herrera',\n",
       "  'gender': 'male'},\n",
       " {'id_legislador': '3b3d3328-fe1e-11ea-95ca-acde48001122',\n",
       "  'name_legislador': 'Gómez León Ariel',\n",
       "  'gender': 'male'},\n",
       " {'id_legislador': '3b7353cc-fe1e-11ea-95ca-acde48001122',\n",
       "  'name_legislador': ' Víctor Manuel Báez Ceja',\n",
       "  'gender': 'male'},\n",
       " {'id_legislador': '3baea5f8-fe1e-11ea-95ca-acde48001122',\n",
       "  'name_legislador': ' Mauricio Alonso Toledo Gutiérrez',\n",
       "  'gender': 'male'},\n",
       " {'id_legislador': '3bdf7052-fe1e-11ea-95ca-acde48001122',\n",
       "  'name_legislador': 'Guajardo Villarreal Mary Telma',\n",
       "  'gender': 'female'},\n",
       " {'id_legislador': '3c0ec9c4-fe1e-11ea-95ca-acde48001122',\n",
       "  'name_legislador': 'Guerrero Castillo Agustín',\n",
       "  'gender': 'male'},\n",
       " {'id_legislador': '3c3b57b4-fe1e-11ea-95ca-acde48001122',\n",
       "  'name_legislador': 'Gutiérrez Villanueva Sergio Ernesto',\n",
       "  'gender': 'male'},\n",
       " {'id_legislador': '3c6bfc02-fe1e-11ea-95ca-acde48001122',\n",
       "  'name_legislador': 'Hernández Cruz Luis',\n",
       "  'gender': 'male'},\n",
       " {'id_legislador': '3ca10f32-fe1e-11ea-95ca-acde48001122',\n",
       "  'name_legislador': 'Hernández Juárez Francisco',\n",
       "  'gender': 'male'},\n",
       " {'id_legislador': '3cd2c1a8-fe1e-11ea-95ca-acde48001122',\n",
       "  'name_legislador': 'Hernández Rodríguez Héctor Hugo',\n",
       "  'gender': 'male'},\n",
       " {'id_legislador': '3d053020-fe1e-11ea-95ca-acde48001122',\n",
       "  'name_legislador': 'Herrera Chávez Samuel',\n",
       "  'gender': 'male'},\n",
       " {'id_legislador': '3d39fdbe-fe1e-11ea-95ca-acde48001122',\n",
       "  'name_legislador': 'Incháustegui Romero Teresa del Carmen',\n",
       "  'gender': 'female'},\n",
       " {'id_legislador': '3d6e3b6a-fe1e-11ea-95ca-acde48001122',\n",
       "  'name_legislador': 'Jaime Correa José Luis',\n",
       "  'gender': 'male'},\n",
       " {'id_legislador': '3d9bf7c6-fe1e-11ea-95ca-acde48001122',\n",
       "  'name_legislador': 'Jiménez Fuentes Ramón',\n",
       "  'gender': 'male'},\n",
       " {'id_legislador': '3dceacca-fe1e-11ea-95ca-acde48001122',\n",
       "  'name_legislador': 'Jiménez López Ramón',\n",
       "  'gender': 'male'},\n",
       " {'id_legislador': '3e023a22-fe1e-11ea-95ca-acde48001122',\n",
       "  'name_legislador': 'Lara Lagunas Rodolfo',\n",
       "  'gender': 'male'},\n",
       " {'id_legislador': '3e3083dc-fe1e-11ea-95ca-acde48001122',\n",
       "  'name_legislador': 'Leyva Hernández Gerardo',\n",
       "  'gender': 'male'},\n",
       " {'id_legislador': '3e637b8e-fe1e-11ea-95ca-acde48001122',\n",
       "  'name_legislador': 'Llerenas Morales Vidal',\n",
       "  'gender': 'male'},\n",
       " {'id_legislador': '3e9683bc-fe1e-11ea-95ca-acde48001122',\n",
       "  'name_legislador': 'López Fernández Juan Carlos',\n",
       "  'gender': 'male'},\n",
       " {'id_legislador': '3ecb33aa-fe1e-11ea-95ca-acde48001122',\n",
       "  'name_legislador': ' Julio César Godoy Toscano',\n",
       "  'gender': 'male'},\n",
       " {'id_legislador': '3efff54a-fe1e-11ea-95ca-acde48001122',\n",
       "  'name_legislador': 'Marín Díaz Feliciano Rosendo',\n",
       "  'gender': 'male'},\n",
       " {'id_legislador': '3f2f8fda-fe1e-11ea-95ca-acde48001122',\n",
       "  'name_legislador': 'Méndez Rangel Avelino',\n",
       "  'gender': 'male'},\n",
       " {'id_legislador': '3f6312d8-fe1e-11ea-95ca-acde48001122',\n",
       "  'name_legislador': 'Mendoza Arellano Eduardo',\n",
       "  'gender': 'male'},\n",
       " {'id_legislador': '3f98a844-fe1e-11ea-95ca-acde48001122',\n",
       "  'name_legislador': ' Ilich Augusto Lozano Herrera',\n",
       "  'gender': 'male'},\n",
       " {'id_legislador': '3fc9b9e8-fe1e-11ea-95ca-acde48001122',\n",
       "  'name_legislador': 'Meza Castro Francisco Armando',\n",
       "  'gender': 'male'},\n",
       " {'id_legislador': '40001560-fe1e-11ea-95ca-acde48001122',\n",
       "  'name_legislador': 'Nazares Jerónimo Dolores de los Ángeles',\n",
       "  'gender': 'female'},\n",
       " {'id_legislador': '4031d5d2-fe1e-11ea-95ca-acde48001122',\n",
       "  'name_legislador': 'Ovalle Vaquera Federico',\n",
       "  'gender': 'male'},\n",
       " {'id_legislador': '406be1d2-fe1e-11ea-95ca-acde48001122',\n",
       "  'name_legislador': ' Marcos Alberto Covarrubias Villaseñor',\n",
       "  'gender': 'male'},\n",
       " {'id_legislador': '409f4ec8-fe1e-11ea-95ca-acde48001122',\n",
       "  'name_legislador': 'Quezada Contreras Leticia',\n",
       "  'gender': 'female'},\n",
       " {'id_legislador': '40d27bcc-fe1e-11ea-95ca-acde48001122',\n",
       "  'name_legislador': 'Ramírez Hernández Socorro Sofío',\n",
       "  'gender': 'female'},\n",
       " {'id_legislador': '41085a80-fe1e-11ea-95ca-acde48001122',\n",
       "  'name_legislador': ' José Narro Céspedes',\n",
       "  'gender': 'male'},\n",
       " {'id_legislador': '413c3bde-fe1e-11ea-95ca-acde48001122',\n",
       "  'name_legislador': 'Ríos Piter Armando',\n",
       "  'gender': 'male'},\n",
       " {'id_legislador': '416f524e-fe1e-11ea-95ca-acde48001122',\n",
       "  'name_legislador': 'Rodríguez Martell Domingo',\n",
       "  'gender': 'male'},\n",
       " {'id_legislador': '41a090de-fe1e-11ea-95ca-acde48001122',\n",
       "  'name_legislador': 'Rosario Morales Florentina',\n",
       "  'gender': 'female'},\n",
       " {'id_legislador': '41d1da68-fe1e-11ea-95ca-acde48001122',\n",
       "  'name_legislador': 'Salgado Vázquez Rigoberto',\n",
       "  'gender': 'male'},\n",
       " {'id_legislador': '4208ae1c-fe1e-11ea-95ca-acde48001122',\n",
       "  'name_legislador': ' Juventino Víctor Castro y Castro',\n",
       "  'gender': 'male'},\n",
       " {'id_legislador': '423ca2f8-fe1e-11ea-95ca-acde48001122',\n",
       "  'name_legislador': 'Santana Alfaro Arturo',\n",
       "  'gender': 'male'},\n",
       " {'id_legislador': '42760868-fe1e-11ea-95ca-acde48001122',\n",
       "  'name_legislador': 'Torres Robledo José M.',\n",
       "  'gender': 'male'},\n",
       " {'id_legislador': '42aa36c4-fe1e-11ea-95ca-acde48001122',\n",
       "  'name_legislador': 'Uranga Muñoz Enoé Margarita',\n",
       "  'gender': 'female'},\n",
       " {'id_legislador': '42da16b4-fe1e-11ea-95ca-acde48001122',\n",
       "  'name_legislador': 'Valencia Barajas José María',\n",
       "  'gender': 'female'},\n",
       " {'id_legislador': '43129462-fe1e-11ea-95ca-acde48001122',\n",
       "  'name_legislador': 'Vargas Cortez Balfre',\n",
       "  'gender': 'male'},\n",
       " {'id_legislador': '4348c654-fe1e-11ea-95ca-acde48001122',\n",
       "  'name_legislador': 'Vázquez Camacho María Araceli',\n",
       "  'gender': 'female'},\n",
       " {'id_legislador': '437e2344-fe1e-11ea-95ca-acde48001122',\n",
       "  'name_legislador': 'Velázquez Esquivel Emiliano',\n",
       "  'gender': 'male'},\n",
       " {'id_legislador': '43b13b4e-fe1e-11ea-95ca-acde48001122',\n",
       "  'name_legislador': 'Vizcaíno Silva Indira',\n",
       "  'gender': 'female'},\n",
       " {'id_legislador': '43ea4bdc-fe1e-11ea-95ca-acde48001122',\n",
       "  'name_legislador': 'Brindis Álvarez Rosario',\n",
       "  'gender': 'male'},\n",
       " {'id_legislador': '442390b8-fe1e-11ea-95ca-acde48001122',\n",
       "  'name_legislador': 'Carabias Icaza Alejandro (LICENCIA)',\n",
       "  'gender': 'male'},\n",
       " {'id_legislador': '4454cfe8-fe1e-11ea-95ca-acde48001122',\n",
       "  'name_legislador': 'Cinta Martínez Alberto Emiliano',\n",
       "  'gender': 'male'},\n",
       " {'id_legislador': '44875a4e-fe1e-11ea-95ca-acde48001122',\n",
       "  'name_legislador': 'Cirigo Vasquez Víctor Hugo',\n",
       "  'gender': 'male'},\n",
       " {'id_legislador': '44c094da-fe1e-11ea-95ca-acde48001122',\n",
       "  'name_legislador': 'Corona Valdés Lorena',\n",
       "  'gender': 'female'},\n",
       " {'id_legislador': '44f9755c-fe1e-11ea-95ca-acde48001122',\n",
       "  'name_legislador': ' Kattia Garza Romo',\n",
       "  'gender': 'female'},\n",
       " {'id_legislador': '45326808-fe1e-11ea-95ca-acde48001122',\n",
       "  'name_legislador': ' Carolina García Cañón',\n",
       "  'gender': 'female'},\n",
       " {'id_legislador': '456ad2b0-fe1e-11ea-95ca-acde48001122',\n",
       "  'name_legislador': 'Escudero Morales Pablo',\n",
       "  'gender': 'male'},\n",
       " {'id_legislador': '45a5276c-fe1e-11ea-95ca-acde48001122',\n",
       "  'name_legislador': ' Mariana Ivette Ezeta Salcedo',\n",
       "  'gender': 'female'},\n",
       " {'id_legislador': '45e32ba2-fe1e-11ea-95ca-acde48001122',\n",
       "  'name_legislador': 'Flores Ramírez Juan Gerardo',\n",
       "  'gender': 'male'},\n",
       " {'id_legislador': '4623fa2e-fe1e-11ea-95ca-acde48001122',\n",
       "  'name_legislador': 'Guerra Abud Juan José',\n",
       "  'gender': 'male'},\n",
       " {'id_legislador': '465bc1ac-fe1e-11ea-95ca-acde48001122',\n",
       "  'name_legislador': ' Diego Guerrero Rubio',\n",
       "  'gender': 'male'},\n",
       " {'id_legislador': '4691cfcc-fe1e-11ea-95ca-acde48001122',\n",
       "  'name_legislador': 'Ledesma Romo Eduardo',\n",
       "  'gender': 'male'},\n",
       " {'id_legislador': '46c667be-fe1e-11ea-95ca-acde48001122',\n",
       "  'name_legislador': 'Natale López Juan Carlos',\n",
       "  'gender': 'male'},\n",
       " {'id_legislador': '470016f8-fe1e-11ea-95ca-acde48001122',\n",
       "  'name_legislador': 'Pacchiano Alamán Rafael',\n",
       "  'gender': 'male'},\n",
       " {'id_legislador': '473881b4-fe1e-11ea-95ca-acde48001122',\n",
       "  'name_legislador': 'Pérez-Alonso González Rodrigo',\n",
       "  'gender': 'male'},\n",
       " {'id_legislador': '4777ef0c-fe1e-11ea-95ca-acde48001122',\n",
       "  'name_legislador': 'Piña Olmedo Laura',\n",
       "  'gender': 'female'},\n",
       " {'id_legislador': '47aebe9c-fe1e-11ea-95ca-acde48001122',\n",
       "  'name_legislador': ' Carlos Samuel Moreno Terán',\n",
       "  'gender': 'male'},\n",
       " {'id_legislador': '47e757a2-fe1e-11ea-95ca-acde48001122',\n",
       "  'name_legislador': ' Álvaro Raymundo Vargas Sáenz',\n",
       "  'gender': 'male'},\n",
       " {'id_legislador': '481c8f76-fe1e-11ea-95ca-acde48001122',\n",
       "  'name_legislador': 'Salinas Sada Ninfa Clara',\n",
       "  'gender': 'female'},\n",
       " {'id_legislador': '48567c0e-fe1e-11ea-95ca-acde48001122',\n",
       "  'name_legislador': 'Sarur Torre Adriana',\n",
       "  'gender': 'female'},\n",
       " {'id_legislador': '4891d0ba-fe1e-11ea-95ca-acde48001122',\n",
       "  'name_legislador': 'Vidal Aguilar Liborio',\n",
       "  'gender': 'male'},\n",
       " {'id_legislador': '48c74c72-fe1e-11ea-95ca-acde48001122',\n",
       "  'name_legislador': 'Cárdenas Gracia Jaime Fernando',\n",
       "  'gender': 'male'},\n",
       " {'id_legislador': '4900b232-fe1e-11ea-95ca-acde48001122',\n",
       "  'name_legislador': 'Caro Cabrera Salvador',\n",
       "  'gender': 'male'},\n",
       " {'id_legislador': '493ad44e-fe1e-11ea-95ca-acde48001122',\n",
       "  'name_legislador': 'Castillo Juárez Laura Itzel',\n",
       "  'gender': 'female'},\n",
       " {'id_legislador': '49780e68-fe1e-11ea-95ca-acde48001122',\n",
       "  'name_legislador': 'Di Costanzo Armenta Mario Alberto',\n",
       "  'gender': 'male'},\n",
       " {'id_legislador': '49b80c5c-fe1e-11ea-95ca-acde48001122',\n",
       "  'name_legislador': 'Escobar García Herón Agustín',\n",
       "  'gender': 'male'},\n",
       " {'id_legislador': '49f36464-fe1e-11ea-95ca-acde48001122',\n",
       "  'name_legislador': 'Espinosa Ramos Francisco Amadeo',\n",
       "  'gender': 'male'}]"
      ]
     },
     "execution_count": 189,
     "metadata": {},
     "output_type": "execute_result"
    }
   ],
   "source": [
    "gender_data61"
   ]
  },
  {
   "cell_type": "code",
   "execution_count": 190,
   "metadata": {},
   "outputs": [
    {
     "data": {
      "text/html": [
       "<div>\n",
       "<style scoped>\n",
       "    .dataframe tbody tr th:only-of-type {\n",
       "        vertical-align: middle;\n",
       "    }\n",
       "\n",
       "    .dataframe tbody tr th {\n",
       "        vertical-align: top;\n",
       "    }\n",
       "\n",
       "    .dataframe thead th {\n",
       "        text-align: right;\n",
       "    }\n",
       "</style>\n",
       "<table border=\"1\" class=\"dataframe\">\n",
       "  <thead>\n",
       "    <tr style=\"text-align: right;\">\n",
       "      <th></th>\n",
       "      <th>id_legislador</th>\n",
       "    </tr>\n",
       "    <tr>\n",
       "      <th>gender</th>\n",
       "      <th></th>\n",
       "    </tr>\n",
       "  </thead>\n",
       "  <tbody>\n",
       "    <tr>\n",
       "      <th>female</th>\n",
       "      <td>132</td>\n",
       "    </tr>\n",
       "    <tr>\n",
       "      <th>male</th>\n",
       "      <td>343</td>\n",
       "    </tr>\n",
       "  </tbody>\n",
       "</table>\n",
       "</div>"
      ],
      "text/plain": [
       "        id_legislador\n",
       "gender               \n",
       "female            132\n",
       "male              343"
      ]
     },
     "execution_count": 190,
     "metadata": {},
     "output_type": "execute_result"
    }
   ],
   "source": [
    "pd.DataFrame(gender_data61)[['id_legislador', 'gender']].groupby(['gender']).count()"
   ]
  },
  {
   "cell_type": "code",
   "execution_count": 194,
   "metadata": {},
   "outputs": [],
   "source": [
    "with open('/Users/cblanesg/cam.blanes Dropbox/Camila Blanes/Congressional-dataMX/data/01-collection_data/00-id_data/00-id/mapping_gender60.json', 'w') as file:\n",
    "    json.dump(gender_data60, file)"
   ]
  },
  {
   "cell_type": "markdown",
   "metadata": {},
   "source": [
    "### Legislatura 62"
   ]
  },
  {
   "cell_type": "code",
   "execution_count": 7,
   "metadata": {},
   "outputs": [],
   "source": [
    "all_data = []\n",
    "with open('/Users/cblanesg/cam.blanes Dropbox/Camila Blanes/Congressional-dataMX/data/01-collection_data/00-id_data/00-id/id_legislatura62.json') as file:\n",
    "    data = json.load(file)\n",
    "\n",
    "data62_p = []\n",
    "for i in data:\n",
    "    if i['suplente_propietario'] == 'P':\n",
    "        data62_p.append(i)\n",
    "\n",
    "len(data62_p)\n",
    "\n",
    "id_s = []\n",
    "for i in data62_p:\n",
    "    id_s.append(i['id_legislador'])"
   ]
  },
  {
   "cell_type": "code",
   "execution_count": 8,
   "metadata": {},
   "outputs": [
    {
     "name": "stderr",
     "output_type": "stream",
     "text": [
      "\r",
      "  0%|          | 0/500 [00:00<?, ?it/s]"
     ]
    },
    {
     "name": "stdout",
     "output_type": "stream",
     "text": [
      "Humberto\n"
     ]
    },
    {
     "name": "stderr",
     "output_type": "stream",
     "text": [
      "\r",
      "  0%|          | 1/500 [00:00<05:10,  1.61it/s]"
     ]
    },
    {
     "name": "stdout",
     "output_type": "stream",
     "text": [
      "Angel\n"
     ]
    },
    {
     "name": "stderr",
     "output_type": "stream",
     "text": [
      "\r",
      "  0%|          | 2/500 [00:00<04:27,  1.86it/s]"
     ]
    },
    {
     "name": "stdout",
     "output_type": "stream",
     "text": [
      "Leobardo\n"
     ]
    },
    {
     "name": "stderr",
     "output_type": "stream",
     "text": [
      "\r",
      "  1%|          | 3/500 [00:01<03:55,  2.11it/s]"
     ]
    },
    {
     "name": "stdout",
     "output_type": "stream",
     "text": [
      "Ricardo\n"
     ]
    },
    {
     "name": "stderr",
     "output_type": "stream",
     "text": [
      "\r",
      "  1%|          | 4/500 [00:01<03:40,  2.25it/s]"
     ]
    },
    {
     "name": "stdout",
     "output_type": "stream",
     "text": [
      "Isabel\n"
     ]
    },
    {
     "name": "stderr",
     "output_type": "stream",
     "text": [
      "\r",
      "  1%|          | 5/500 [00:01<03:23,  2.44it/s]"
     ]
    },
    {
     "name": "stdout",
     "output_type": "stream",
     "text": [
      "Rafael\n"
     ]
    },
    {
     "name": "stderr",
     "output_type": "stream",
     "text": [
      "\r",
      "  1%|          | 6/500 [00:02<03:14,  2.54it/s]"
     ]
    },
    {
     "name": "stdout",
     "output_type": "stream",
     "text": [
      "Izontli\n"
     ]
    },
    {
     "name": "stderr",
     "output_type": "stream",
     "text": [
      "\r",
      "  1%|▏         | 7/500 [00:02<03:03,  2.68it/s]"
     ]
    },
    {
     "name": "stdout",
     "output_type": "stream",
     "text": [
      "Alfredo\n"
     ]
    },
    {
     "name": "stderr",
     "output_type": "stream",
     "text": [
      "\r",
      "  2%|▏         | 8/500 [00:02<02:54,  2.81it/s]"
     ]
    },
    {
     "name": "stdout",
     "output_type": "stream",
     "text": [
      "Patricia\n"
     ]
    },
    {
     "name": "stderr",
     "output_type": "stream",
     "text": [
      "\r",
      "  2%|▏         | 9/500 [00:03<02:51,  2.87it/s]"
     ]
    },
    {
     "name": "stdout",
     "output_type": "stream",
     "text": [
      "Salvador\n"
     ]
    },
    {
     "name": "stderr",
     "output_type": "stream",
     "text": [
      "\r",
      "  2%|▏         | 10/500 [00:03<02:46,  2.95it/s]"
     ]
    },
    {
     "name": "stdout",
     "output_type": "stream",
     "text": [
      "Jeanny\n"
     ]
    },
    {
     "name": "stderr",
     "output_type": "stream",
     "text": [
      "\r",
      "  2%|▏         | 11/500 [00:03<02:42,  3.00it/s]"
     ]
    },
    {
     "name": "stdout",
     "output_type": "stream",
     "text": [
      "Francisco\n"
     ]
    },
    {
     "name": "stderr",
     "output_type": "stream",
     "text": [
      "\r",
      "  2%|▏         | 12/500 [00:04<02:39,  3.05it/s]"
     ]
    },
    {
     "name": "stdout",
     "output_type": "stream",
     "text": [
      "Francisco\n"
     ]
    },
    {
     "name": "stderr",
     "output_type": "stream",
     "text": [
      "\r",
      "  3%|▎         | 13/500 [00:04<02:40,  3.04it/s]"
     ]
    },
    {
     "name": "stdout",
     "output_type": "stream",
     "text": [
      "Kamel\n"
     ]
    },
    {
     "name": "stderr",
     "output_type": "stream",
     "text": [
      "\r",
      "  3%|▎         | 14/500 [00:04<02:38,  3.06it/s]"
     ]
    },
    {
     "name": "stdout",
     "output_type": "stream",
     "text": [
      "Victor\n"
     ]
    },
    {
     "name": "stderr",
     "output_type": "stream",
     "text": [
      "\r",
      "  3%|▎         | 15/500 [00:05<02:39,  3.04it/s]"
     ]
    },
    {
     "name": "stdout",
     "output_type": "stream",
     "text": [
      "Cesar\n"
     ]
    },
    {
     "name": "stderr",
     "output_type": "stream",
     "text": [
      "\r",
      "  3%|▎         | 16/500 [00:05<02:37,  3.08it/s]"
     ]
    },
    {
     "name": "stdout",
     "output_type": "stream",
     "text": [
      "Flor\n"
     ]
    },
    {
     "name": "stderr",
     "output_type": "stream",
     "text": [
      "\r",
      "  3%|▎         | 17/500 [00:05<02:38,  3.05it/s]"
     ]
    },
    {
     "name": "stdout",
     "output_type": "stream",
     "text": [
      "Manuel\n"
     ]
    },
    {
     "name": "stderr",
     "output_type": "stream",
     "text": [
      "\r",
      "  4%|▎         | 18/500 [00:06<02:39,  3.03it/s]"
     ]
    },
    {
     "name": "stdout",
     "output_type": "stream",
     "text": [
      "Dario\n"
     ]
    },
    {
     "name": "stderr",
     "output_type": "stream",
     "text": [
      "\r",
      "  4%|▍         | 19/500 [00:06<02:37,  3.05it/s]"
     ]
    },
    {
     "name": "stdout",
     "output_type": "stream",
     "text": [
      "Salvador\n"
     ]
    },
    {
     "name": "stderr",
     "output_type": "stream",
     "text": [
      "\r",
      "  4%|▍         | 20/500 [00:06<02:38,  3.03it/s]"
     ]
    },
    {
     "name": "stdout",
     "output_type": "stream",
     "text": [
      "Antonio\n"
     ]
    },
    {
     "name": "stderr",
     "output_type": "stream",
     "text": [
      "\r",
      "  4%|▍         | 21/500 [00:07<02:36,  3.06it/s]"
     ]
    },
    {
     "name": "stdout",
     "output_type": "stream",
     "text": [
      "Fabiola\n"
     ]
    },
    {
     "name": "stderr",
     "output_type": "stream",
     "text": [
      "\r",
      "  4%|▍         | 22/500 [00:07<02:35,  3.07it/s]"
     ]
    },
    {
     "name": "stdout",
     "output_type": "stream",
     "text": [
      "Sue\n"
     ]
    },
    {
     "name": "stderr",
     "output_type": "stream",
     "text": [
      "\r",
      "  5%|▍         | 23/500 [00:07<02:37,  3.03it/s]"
     ]
    },
    {
     "name": "stdout",
     "output_type": "stream",
     "text": [
      "Petra\n"
     ]
    },
    {
     "name": "stderr",
     "output_type": "stream",
     "text": [
      "\r",
      "  5%|▍         | 24/500 [00:08<02:36,  3.04it/s]"
     ]
    },
    {
     "name": "stdout",
     "output_type": "stream",
     "text": [
      "Rodimiro\n"
     ]
    },
    {
     "name": "stderr",
     "output_type": "stream",
     "text": [
      "\r",
      "  5%|▌         | 25/500 [00:08<02:36,  3.04it/s]"
     ]
    },
    {
     "name": "stdout",
     "output_type": "stream",
     "text": [
      "Laura\n"
     ]
    },
    {
     "name": "stderr",
     "output_type": "stream",
     "text": [
      "\r",
      "  5%|▌         | 26/500 [00:08<02:35,  3.04it/s]"
     ]
    },
    {
     "name": "stdout",
     "output_type": "stream",
     "text": [
      "Oscar\n"
     ]
    },
    {
     "name": "stderr",
     "output_type": "stream",
     "text": [
      "\r",
      "  5%|▌         | 27/500 [00:09<02:33,  3.09it/s]"
     ]
    },
    {
     "name": "stdout",
     "output_type": "stream",
     "text": [
      "Fabio\n"
     ]
    },
    {
     "name": "stderr",
     "output_type": "stream",
     "text": [
      "\r",
      "  6%|▌         | 28/500 [00:09<02:32,  3.10it/s]"
     ]
    },
    {
     "name": "stdout",
     "output_type": "stream",
     "text": [
      "Antonio\n"
     ]
    },
    {
     "name": "stderr",
     "output_type": "stream",
     "text": [
      "\r",
      "  6%|▌         | 29/500 [00:09<02:32,  3.09it/s]"
     ]
    },
    {
     "name": "stdout",
     "output_type": "stream",
     "text": [
      "Margarita\n"
     ]
    },
    {
     "name": "stderr",
     "output_type": "stream",
     "text": [
      "\r",
      "  6%|▌         | 30/500 [00:10<02:32,  3.08it/s]"
     ]
    },
    {
     "name": "stdout",
     "output_type": "stream",
     "text": [
      "Benito\n"
     ]
    },
    {
     "name": "stderr",
     "output_type": "stream",
     "text": [
      "\r",
      "  6%|▌         | 31/500 [00:10<02:32,  3.08it/s]"
     ]
    },
    {
     "name": "stdout",
     "output_type": "stream",
     "text": [
      "Elia\n"
     ]
    },
    {
     "name": "stderr",
     "output_type": "stream",
     "text": [
      "\r",
      "  6%|▋         | 32/500 [00:10<02:33,  3.05it/s]"
     ]
    },
    {
     "name": "stdout",
     "output_type": "stream",
     "text": [
      "Antonio\n"
     ]
    },
    {
     "name": "stderr",
     "output_type": "stream",
     "text": [
      "\r",
      "  7%|▋         | 33/500 [00:11<02:33,  3.05it/s]"
     ]
    },
    {
     "name": "stdout",
     "output_type": "stream",
     "text": [
      "Aristides\n"
     ]
    },
    {
     "name": "stderr",
     "output_type": "stream",
     "text": [
      "\r",
      "  7%|▋         | 34/500 [00:11<02:31,  3.07it/s]"
     ]
    },
    {
     "name": "stdout",
     "output_type": "stream",
     "text": [
      "Elena\n"
     ]
    },
    {
     "name": "stderr",
     "output_type": "stream",
     "text": [
      "\r",
      "  7%|▋         | 35/500 [00:11<02:32,  3.04it/s]"
     ]
    },
    {
     "name": "stdout",
     "output_type": "stream",
     "text": [
      "Eloy\n"
     ]
    },
    {
     "name": "stderr",
     "output_type": "stream",
     "text": [
      "\r",
      "  7%|▋         | 36/500 [00:12<02:30,  3.09it/s]"
     ]
    },
    {
     "name": "stdout",
     "output_type": "stream",
     "text": [
      "Enrique\n"
     ]
    },
    {
     "name": "stderr",
     "output_type": "stream",
     "text": [
      "\r",
      "  7%|▋         | 37/500 [00:12<02:30,  3.08it/s]"
     ]
    },
    {
     "name": "stdout",
     "output_type": "stream",
     "text": [
      "Veronica\n"
     ]
    },
    {
     "name": "stderr",
     "output_type": "stream",
     "text": [
      "\r",
      "  8%|▊         | 38/500 [00:12<02:38,  2.91it/s]"
     ]
    },
    {
     "name": "stdout",
     "output_type": "stream",
     "text": [
      "Minerva\n"
     ]
    },
    {
     "name": "stderr",
     "output_type": "stream",
     "text": [
      "\r",
      "  8%|▊         | 39/500 [00:13<02:36,  2.95it/s]"
     ]
    },
    {
     "name": "stdout",
     "output_type": "stream",
     "text": [
      "Benjamin\n"
     ]
    },
    {
     "name": "stderr",
     "output_type": "stream",
     "text": [
      "\r",
      "  8%|▊         | 40/500 [00:13<02:35,  2.96it/s]"
     ]
    },
    {
     "name": "stdout",
     "output_type": "stream",
     "text": [
      "Fernando\n"
     ]
    },
    {
     "name": "stderr",
     "output_type": "stream",
     "text": [
      "\r",
      "  8%|▊         | 41/500 [00:13<02:32,  3.02it/s]"
     ]
    },
    {
     "name": "stdout",
     "output_type": "stream",
     "text": [
      "Maria\n"
     ]
    },
    {
     "name": "stderr",
     "output_type": "stream",
     "text": [
      "\r",
      "  8%|▊         | 42/500 [00:14<02:30,  3.04it/s]"
     ]
    },
    {
     "name": "stdout",
     "output_type": "stream",
     "text": [
      "Armando\n"
     ]
    },
    {
     "name": "stderr",
     "output_type": "stream",
     "text": [
      "\r",
      "  9%|▊         | 43/500 [00:14<02:31,  3.02it/s]"
     ]
    },
    {
     "name": "stdout",
     "output_type": "stream",
     "text": [
      "Soraya\n"
     ]
    },
    {
     "name": "stderr",
     "output_type": "stream",
     "text": [
      "\r",
      "  9%|▉         | 44/500 [00:14<02:31,  3.00it/s]"
     ]
    },
    {
     "name": "stdout",
     "output_type": "stream",
     "text": [
      "Rocio\n"
     ]
    },
    {
     "name": "stderr",
     "output_type": "stream",
     "text": [
      "\r",
      "  9%|▉         | 45/500 [00:15<02:31,  3.00it/s]"
     ]
    },
    {
     "name": "stdout",
     "output_type": "stream",
     "text": [
      "Elena\n"
     ]
    },
    {
     "name": "stderr",
     "output_type": "stream",
     "text": [
      "\r",
      "  9%|▉         | 46/500 [00:15<02:30,  3.02it/s]"
     ]
    },
    {
     "name": "stdout",
     "output_type": "stream",
     "text": [
      "Aurora\n"
     ]
    },
    {
     "name": "stderr",
     "output_type": "stream",
     "text": [
      "\r",
      "  9%|▉         | 47/500 [00:15<02:30,  3.02it/s]"
     ]
    },
    {
     "name": "stdout",
     "output_type": "stream",
     "text": [
      "Rosalba\n"
     ]
    },
    {
     "name": "stderr",
     "output_type": "stream",
     "text": [
      "\r",
      " 10%|▉         | 48/500 [00:16<02:28,  3.05it/s]"
     ]
    },
    {
     "name": "stdout",
     "output_type": "stream",
     "text": [
      "Donato\n"
     ]
    },
    {
     "name": "stderr",
     "output_type": "stream",
     "text": [
      "\r",
      " 10%|▉         | 49/500 [00:16<02:26,  3.07it/s]"
     ]
    },
    {
     "name": "stdout",
     "output_type": "stream",
     "text": [
      "Jorge\n"
     ]
    },
    {
     "name": "stderr",
     "output_type": "stream",
     "text": [
      "\r",
      " 10%|█         | 50/500 [00:16<02:27,  3.05it/s]"
     ]
    },
    {
     "name": "stdout",
     "output_type": "stream",
     "text": [
      "Juan\n"
     ]
    },
    {
     "name": "stderr",
     "output_type": "stream",
     "text": [
      "\r",
      " 10%|█         | 51/500 [00:17<02:31,  2.96it/s]"
     ]
    },
    {
     "name": "stdout",
     "output_type": "stream",
     "text": [
      "Claudia\n"
     ]
    },
    {
     "name": "stderr",
     "output_type": "stream",
     "text": [
      "\r",
      " 10%|█         | 52/500 [00:17<02:32,  2.95it/s]"
     ]
    },
    {
     "name": "stdout",
     "output_type": "stream",
     "text": [
      "Jesus\n"
     ]
    },
    {
     "name": "stderr",
     "output_type": "stream",
     "text": [
      "\r",
      " 11%|█         | 53/500 [00:17<02:29,  2.98it/s]"
     ]
    },
    {
     "name": "stdout",
     "output_type": "stream",
     "text": [
      "Emanuel\n"
     ]
    },
    {
     "name": "stderr",
     "output_type": "stream",
     "text": [
      "\r",
      " 11%|█         | 54/500 [00:18<02:28,  3.00it/s]"
     ]
    },
    {
     "name": "stdout",
     "output_type": "stream",
     "text": [
      "Enrique\n"
     ]
    },
    {
     "name": "stderr",
     "output_type": "stream",
     "text": [
      "\r",
      " 11%|█         | 55/500 [00:18<02:27,  3.03it/s]"
     ]
    },
    {
     "name": "stdout",
     "output_type": "stream",
     "text": [
      "Hector\n"
     ]
    },
    {
     "name": "stderr",
     "output_type": "stream",
     "text": [
      "\r",
      " 11%|█         | 56/500 [00:18<02:25,  3.06it/s]"
     ]
    },
    {
     "name": "stdout",
     "output_type": "stream",
     "text": [
      "Ignacio\n"
     ]
    },
    {
     "name": "stderr",
     "output_type": "stream",
     "text": [
      "\r",
      " 11%|█▏        | 57/500 [00:19<02:24,  3.06it/s]"
     ]
    },
    {
     "name": "stdout",
     "output_type": "stream",
     "text": [
      "Ignacio\n"
     ]
    },
    {
     "name": "stderr",
     "output_type": "stream",
     "text": [
      "\r",
      " 12%|█▏        | 58/500 [00:19<02:26,  3.02it/s]"
     ]
    },
    {
     "name": "stdout",
     "output_type": "stream",
     "text": [
      "Ruben\n"
     ]
    },
    {
     "name": "stderr",
     "output_type": "stream",
     "text": [
      "\r",
      " 12%|█▏        | 59/500 [00:19<02:24,  3.05it/s]"
     ]
    },
    {
     "name": "stdout",
     "output_type": "stream",
     "text": [
      "Marco\n"
     ]
    },
    {
     "name": "stderr",
     "output_type": "stream",
     "text": [
      "\r",
      " 12%|█▏        | 60/500 [00:20<02:22,  3.10it/s]"
     ]
    },
    {
     "name": "stdout",
     "output_type": "stream",
     "text": [
      "Jorge\n"
     ]
    },
    {
     "name": "stderr",
     "output_type": "stream",
     "text": [
      "\r",
      " 12%|█▏        | 61/500 [00:20<02:21,  3.11it/s]"
     ]
    },
    {
     "name": "stdout",
     "output_type": "stream",
     "text": [
      "Cesar\n"
     ]
    },
    {
     "name": "stderr",
     "output_type": "stream",
     "text": [
      "\r",
      " 12%|█▏        | 62/500 [00:20<02:20,  3.12it/s]"
     ]
    },
    {
     "name": "stdout",
     "output_type": "stream",
     "text": [
      "Cruz\n"
     ]
    },
    {
     "name": "stderr",
     "output_type": "stream",
     "text": [
      "\r",
      " 13%|█▎        | 63/500 [00:21<02:21,  3.09it/s]"
     ]
    },
    {
     "name": "stdout",
     "output_type": "stream",
     "text": [
      "Luis\n"
     ]
    },
    {
     "name": "stderr",
     "output_type": "stream",
     "text": [
      "\r",
      " 13%|█▎        | 64/500 [00:21<02:23,  3.05it/s]"
     ]
    },
    {
     "name": "stdout",
     "output_type": "stream",
     "text": [
      "Patricio\n"
     ]
    },
    {
     "name": "stderr",
     "output_type": "stream",
     "text": [
      "\r",
      " 13%|█▎        | 65/500 [00:21<02:28,  2.93it/s]"
     ]
    },
    {
     "name": "stdout",
     "output_type": "stream",
     "text": [
      "Irma\n"
     ]
    },
    {
     "name": "stderr",
     "output_type": "stream",
     "text": [
      "\r",
      " 13%|█▎        | 66/500 [00:22<02:26,  2.97it/s]"
     ]
    },
    {
     "name": "stdout",
     "output_type": "stream",
     "text": [
      "Angelina\n"
     ]
    },
    {
     "name": "stderr",
     "output_type": "stream",
     "text": [
      "\r",
      " 13%|█▎        | 67/500 [00:22<02:24,  2.99it/s]"
     ]
    },
    {
     "name": "stdout",
     "output_type": "stream",
     "text": [
      "Maria\n"
     ]
    },
    {
     "name": "stderr",
     "output_type": "stream",
     "text": [
      "\r",
      " 14%|█▎        | 68/500 [00:22<02:23,  3.00it/s]"
     ]
    },
    {
     "name": "stdout",
     "output_type": "stream",
     "text": [
      "Adriana\n"
     ]
    },
    {
     "name": "stderr",
     "output_type": "stream",
     "text": [
      "\r",
      " 14%|█▍        | 69/500 [00:23<02:23,  3.00it/s]"
     ]
    },
    {
     "name": "stdout",
     "output_type": "stream",
     "text": [
      "Manuel\n"
     ]
    },
    {
     "name": "stderr",
     "output_type": "stream",
     "text": [
      "\r",
      " 14%|█▍        | 70/500 [00:23<02:21,  3.03it/s]"
     ]
    },
    {
     "name": "stdout",
     "output_type": "stream",
     "text": [
      "Santos\n"
     ]
    },
    {
     "name": "stderr",
     "output_type": "stream",
     "text": [
      "\r",
      " 14%|█▍        | 71/500 [00:23<02:21,  3.03it/s]"
     ]
    },
    {
     "name": "stdout",
     "output_type": "stream",
     "text": [
      "Loy\n"
     ]
    },
    {
     "name": "stderr",
     "output_type": "stream",
     "text": [
      "\r",
      " 14%|█▍        | 72/500 [00:24<02:19,  3.08it/s]"
     ]
    },
    {
     "name": "stdout",
     "output_type": "stream",
     "text": [
      "Marina\n"
     ]
    },
    {
     "name": "stderr",
     "output_type": "stream",
     "text": [
      "\r",
      " 15%|█▍        | 73/500 [00:24<02:19,  3.07it/s]"
     ]
    },
    {
     "name": "stdout",
     "output_type": "stream",
     "text": [
      "Josefina\n"
     ]
    },
    {
     "name": "stderr",
     "output_type": "stream",
     "text": [
      "\r",
      " 15%|█▍        | 74/500 [00:24<02:17,  3.09it/s]"
     ]
    },
    {
     "name": "stdout",
     "output_type": "stream",
     "text": [
      "Rocio\n"
     ]
    },
    {
     "name": "stderr",
     "output_type": "stream",
     "text": [
      "\r",
      " 15%|█▌        | 75/500 [00:24<02:16,  3.11it/s]"
     ]
    },
    {
     "name": "stdout",
     "output_type": "stream",
     "text": [
      "Carmen\n"
     ]
    },
    {
     "name": "stderr",
     "output_type": "stream",
     "text": [
      "\r",
      " 15%|█▌        | 76/500 [00:25<02:17,  3.07it/s]"
     ]
    },
    {
     "name": "stdout",
     "output_type": "stream",
     "text": [
      "Esther\n"
     ]
    },
    {
     "name": "stderr",
     "output_type": "stream",
     "text": [
      "\r",
      " 15%|█▌        | 77/500 [00:25<02:17,  3.08it/s]"
     ]
    },
    {
     "name": "stdout",
     "output_type": "stream",
     "text": [
      "Isabel\n"
     ]
    },
    {
     "name": "stderr",
     "output_type": "stream",
     "text": [
      "\r",
      " 16%|█▌        | 78/500 [00:25<02:16,  3.09it/s]"
     ]
    },
    {
     "name": "stdout",
     "output_type": "stream",
     "text": [
      "David\n"
     ]
    },
    {
     "name": "stderr",
     "output_type": "stream",
     "text": [
      "\r",
      " 16%|█▌        | 79/500 [00:26<02:16,  3.09it/s]"
     ]
    },
    {
     "name": "stdout",
     "output_type": "stream",
     "text": [
      "Estela\n"
     ]
    },
    {
     "name": "stderr",
     "output_type": "stream",
     "text": [
      "\r",
      " 16%|█▌        | 80/500 [00:26<02:16,  3.08it/s]"
     ]
    },
    {
     "name": "stdout",
     "output_type": "stream",
     "text": [
      "Luis\n"
     ]
    },
    {
     "name": "stderr",
     "output_type": "stream",
     "text": [
      "\r",
      " 16%|█▌        | 81/500 [00:26<02:15,  3.09it/s]"
     ]
    },
    {
     "name": "stdout",
     "output_type": "stream",
     "text": [
      "Pedro\n"
     ]
    },
    {
     "name": "stderr",
     "output_type": "stream",
     "text": [
      "\r",
      " 16%|█▋        | 82/500 [00:27<02:15,  3.09it/s]"
     ]
    },
    {
     "name": "stdout",
     "output_type": "stream",
     "text": [
      "Argel\n"
     ]
    },
    {
     "name": "stderr",
     "output_type": "stream",
     "text": [
      "\r",
      " 17%|█▋        | 83/500 [00:27<02:13,  3.11it/s]"
     ]
    },
    {
     "name": "stdout",
     "output_type": "stream",
     "text": [
      "Gricelda\n"
     ]
    },
    {
     "name": "stderr",
     "output_type": "stream",
     "text": [
      "\r",
      " 17%|█▋        | 84/500 [00:27<02:12,  3.15it/s]"
     ]
    },
    {
     "name": "stdout",
     "output_type": "stream",
     "text": [
      "Cristina\n"
     ]
    },
    {
     "name": "stderr",
     "output_type": "stream",
     "text": [
      "\r",
      " 17%|█▋        | 85/500 [00:28<02:14,  3.08it/s]"
     ]
    },
    {
     "name": "stdout",
     "output_type": "stream",
     "text": [
      "Ponciano\n"
     ]
    },
    {
     "name": "stderr",
     "output_type": "stream",
     "text": [
      "\r",
      " 17%|█▋        | 86/500 [00:28<02:13,  3.10it/s]"
     ]
    },
    {
     "name": "stdout",
     "output_type": "stream",
     "text": [
      "Cuitlahuac\n"
     ]
    },
    {
     "name": "stderr",
     "output_type": "stream",
     "text": [
      "\r",
      " 17%|█▋        | 87/500 [00:28<02:13,  3.09it/s]"
     ]
    },
    {
     "name": "stdout",
     "output_type": "stream",
     "text": [
      "Cecilia\n"
     ]
    },
    {
     "name": "stderr",
     "output_type": "stream",
     "text": [
      "\r",
      " 18%|█▊        | 88/500 [00:29<02:13,  3.09it/s]"
     ]
    },
    {
     "name": "stdout",
     "output_type": "stream",
     "text": [
      "Rafael\n"
     ]
    },
    {
     "name": "stderr",
     "output_type": "stream",
     "text": [
      "\r",
      " 18%|█▊        | 89/500 [00:29<02:13,  3.07it/s]"
     ]
    },
    {
     "name": "stdout",
     "output_type": "stream",
     "text": [
      "Antonio\n"
     ]
    },
    {
     "name": "stderr",
     "output_type": "stream",
     "text": [
      "\r",
      " 18%|█▊        | 90/500 [00:29<02:21,  2.91it/s]"
     ]
    },
    {
     "name": "stdout",
     "output_type": "stream",
     "text": [
      "Francisco\n"
     ]
    },
    {
     "name": "stderr",
     "output_type": "stream",
     "text": [
      "\r",
      " 18%|█▊        | 91/500 [00:30<02:17,  2.97it/s]"
     ]
    },
    {
     "name": "stdout",
     "output_type": "stream",
     "text": [
      "Alberto\n"
     ]
    },
    {
     "name": "stderr",
     "output_type": "stream",
     "text": [
      "\r",
      " 18%|█▊        | 92/500 [00:30<02:15,  3.02it/s]"
     ]
    },
    {
     "name": "stdout",
     "output_type": "stream",
     "text": [
      "Francisco\n"
     ]
    },
    {
     "name": "stderr",
     "output_type": "stream",
     "text": [
      "\r",
      " 19%|█▊        | 93/500 [00:30<02:14,  3.02it/s]"
     ]
    },
    {
     "name": "stdout",
     "output_type": "stream",
     "text": [
      "Rosalba\n"
     ]
    },
    {
     "name": "stderr",
     "output_type": "stream",
     "text": [
      "\r",
      " 19%|█▉        | 94/500 [00:31<02:12,  3.07it/s]"
     ]
    },
    {
     "name": "stdout",
     "output_type": "stream",
     "text": [
      "Abel\n"
     ]
    },
    {
     "name": "stderr",
     "output_type": "stream",
     "text": [
      "\r",
      " 19%|█▉        | 95/500 [00:31<02:12,  3.07it/s]"
     ]
    },
    {
     "name": "stdout",
     "output_type": "stream",
     "text": [
      "Magdalena\n"
     ]
    },
    {
     "name": "stderr",
     "output_type": "stream",
     "text": [
      "\r",
      " 19%|█▉        | 96/500 [00:31<02:17,  2.93it/s]"
     ]
    },
    {
     "name": "stdout",
     "output_type": "stream",
     "text": [
      "Filiberto\n"
     ]
    },
    {
     "name": "stderr",
     "output_type": "stream",
     "text": [
      "\r",
      " 19%|█▉        | 97/500 [00:32<02:18,  2.91it/s]"
     ]
    },
    {
     "name": "stdout",
     "output_type": "stream",
     "text": [
      "Samuel\n"
     ]
    },
    {
     "name": "stderr",
     "output_type": "stream",
     "text": [
      "\r",
      " 20%|█▉        | 98/500 [00:32<02:15,  2.97it/s]"
     ]
    },
    {
     "name": "stdout",
     "output_type": "stream",
     "text": [
      "Nuvia\n"
     ]
    },
    {
     "name": "stderr",
     "output_type": "stream",
     "text": [
      "\r",
      " 20%|█▉        | 99/500 [00:32<02:16,  2.95it/s]"
     ]
    },
    {
     "name": "stdout",
     "output_type": "stream",
     "text": [
      "Sergio\n"
     ]
    },
    {
     "name": "stderr",
     "output_type": "stream",
     "text": [
      "\r",
      " 20%|██        | 100/500 [00:33<02:14,  2.97it/s]"
     ]
    },
    {
     "name": "stdout",
     "output_type": "stream",
     "text": [
      "Harvey\n"
     ]
    },
    {
     "name": "stderr",
     "output_type": "stream",
     "text": [
      "\r",
      " 20%|██        | 101/500 [00:33<02:13,  2.98it/s]"
     ]
    },
    {
     "name": "stdout",
     "output_type": "stream",
     "text": [
      "Gaudencio\n"
     ]
    },
    {
     "name": "stderr",
     "output_type": "stream",
     "text": [
      "\r",
      " 20%|██        | 102/500 [00:33<02:12,  3.01it/s]"
     ]
    },
    {
     "name": "stdout",
     "output_type": "stream",
     "text": [
      "Noe\n"
     ]
    },
    {
     "name": "stderr",
     "output_type": "stream",
     "text": [
      "\r",
      " 21%|██        | 103/500 [00:34<02:13,  2.97it/s]"
     ]
    },
    {
     "name": "stdout",
     "output_type": "stream",
     "text": [
      "Tanya\n"
     ]
    },
    {
     "name": "stderr",
     "output_type": "stream",
     "text": [
      "\r",
      " 21%|██        | 104/500 [00:34<02:12,  2.99it/s]"
     ]
    },
    {
     "name": "stdout",
     "output_type": "stream",
     "text": [
      "Esmeralda\n"
     ]
    },
    {
     "name": "stderr",
     "output_type": "stream",
     "text": [
      "\r",
      " 21%|██        | 105/500 [00:34<02:11,  3.00it/s]"
     ]
    },
    {
     "name": "stdout",
     "output_type": "stream",
     "text": [
      "Adriana\n"
     ]
    },
    {
     "name": "stderr",
     "output_type": "stream",
     "text": [
      "\r",
      " 21%|██        | 106/500 [00:35<02:11,  2.99it/s]"
     ]
    },
    {
     "name": "stdout",
     "output_type": "stream",
     "text": [
      "Xavier\n"
     ]
    },
    {
     "name": "stderr",
     "output_type": "stream",
     "text": [
      "\r",
      " 21%|██▏       | 107/500 [00:35<02:10,  3.00it/s]"
     ]
    },
    {
     "name": "stdout",
     "output_type": "stream",
     "text": [
      "Jesus\n"
     ]
    },
    {
     "name": "stderr",
     "output_type": "stream",
     "text": [
      "\r",
      " 22%|██▏       | 108/500 [00:35<02:09,  3.02it/s]"
     ]
    },
    {
     "name": "stdout",
     "output_type": "stream",
     "text": [
      "Alfonso\n"
     ]
    },
    {
     "name": "stderr",
     "output_type": "stream",
     "text": [
      "\r",
      " 22%|██▏       | 109/500 [00:36<02:09,  3.02it/s]"
     ]
    },
    {
     "name": "stdout",
     "output_type": "stream",
     "text": [
      "Noe\n"
     ]
    },
    {
     "name": "stderr",
     "output_type": "stream",
     "text": [
      "\r",
      " 22%|██▏       | 110/500 [00:36<02:09,  3.01it/s]"
     ]
    },
    {
     "name": "stdout",
     "output_type": "stream",
     "text": [
      "Salomon\n"
     ]
    },
    {
     "name": "stderr",
     "output_type": "stream",
     "text": [
      "\r",
      " 22%|██▏       | 111/500 [00:36<02:09,  3.01it/s]"
     ]
    },
    {
     "name": "stdout",
     "output_type": "stream",
     "text": [
      "Raymundo\n"
     ]
    },
    {
     "name": "stderr",
     "output_type": "stream",
     "text": [
      "\r",
      " 22%|██▏       | 112/500 [00:37<02:07,  3.03it/s]"
     ]
    },
    {
     "name": "stdout",
     "output_type": "stream",
     "text": [
      "Francisco\n"
     ]
    },
    {
     "name": "stderr",
     "output_type": "stream",
     "text": [
      "\r",
      " 23%|██▎       | 113/500 [00:37<02:06,  3.06it/s]"
     ]
    },
    {
     "name": "stdout",
     "output_type": "stream",
     "text": [
      "Miriam\n"
     ]
    },
    {
     "name": "stderr",
     "output_type": "stream",
     "text": [
      "\r",
      " 23%|██▎       | 114/500 [00:37<02:09,  2.99it/s]"
     ]
    },
    {
     "name": "stdout",
     "output_type": "stream",
     "text": [
      "Chris\n"
     ]
    },
    {
     "name": "stderr",
     "output_type": "stream",
     "text": [
      "\r",
      " 23%|██▎       | 115/500 [00:38<02:08,  3.00it/s]"
     ]
    },
    {
     "name": "stdout",
     "output_type": "stream",
     "text": [
      "Tomas\n"
     ]
    },
    {
     "name": "stderr",
     "output_type": "stream",
     "text": [
      "\r",
      " 23%|██▎       | 116/500 [00:38<02:06,  3.03it/s]"
     ]
    },
    {
     "name": "stdout",
     "output_type": "stream",
     "text": [
      "Maria\n"
     ]
    },
    {
     "name": "stderr",
     "output_type": "stream",
     "text": [
      "\r",
      " 23%|██▎       | 117/500 [00:38<02:05,  3.04it/s]"
     ]
    },
    {
     "name": "stdout",
     "output_type": "stream",
     "text": [
      "Javier\n"
     ]
    },
    {
     "name": "stderr",
     "output_type": "stream",
     "text": [
      "\r",
      " 24%|██▎       | 118/500 [00:39<02:04,  3.07it/s]"
     ]
    },
    {
     "name": "stdout",
     "output_type": "stream",
     "text": [
      "Raul\n"
     ]
    },
    {
     "name": "stderr",
     "output_type": "stream",
     "text": [
      "\r",
      " 24%|██▍       | 119/500 [00:39<02:03,  3.09it/s]"
     ]
    },
    {
     "name": "stdout",
     "output_type": "stream",
     "text": [
      "Areli\n"
     ]
    },
    {
     "name": "stderr",
     "output_type": "stream",
     "text": [
      "\r",
      " 24%|██▍       | 120/500 [00:39<02:03,  3.07it/s]"
     ]
    },
    {
     "name": "stdout",
     "output_type": "stream",
     "text": [
      "Angelica\n"
     ]
    },
    {
     "name": "stderr",
     "output_type": "stream",
     "text": [
      "\r",
      " 24%|██▍       | 121/500 [00:40<02:02,  3.09it/s]"
     ]
    },
    {
     "name": "stdout",
     "output_type": "stream",
     "text": [
      "Luis\n"
     ]
    },
    {
     "name": "stderr",
     "output_type": "stream",
     "text": [
      "\r",
      " 24%|██▍       | 122/500 [00:40<02:01,  3.12it/s]"
     ]
    },
    {
     "name": "stdout",
     "output_type": "stream",
     "text": [
      "Silvia\n"
     ]
    },
    {
     "name": "stderr",
     "output_type": "stream",
     "text": [
      "\r",
      " 25%|██▍       | 123/500 [00:40<02:02,  3.07it/s]"
     ]
    },
    {
     "name": "stdout",
     "output_type": "stream",
     "text": [
      "Angelica\n"
     ]
    },
    {
     "name": "stderr",
     "output_type": "stream",
     "text": [
      "\r",
      " 25%|██▍       | 124/500 [00:41<02:01,  3.10it/s]"
     ]
    },
    {
     "name": "stdout",
     "output_type": "stream",
     "text": [
      "Gilberto\n"
     ]
    },
    {
     "name": "stderr",
     "output_type": "stream",
     "text": [
      "\r",
      " 25%|██▌       | 125/500 [00:41<02:00,  3.11it/s]"
     ]
    },
    {
     "name": "stdout",
     "output_type": "stream",
     "text": [
      "Jose\n"
     ]
    },
    {
     "name": "stderr",
     "output_type": "stream",
     "text": [
      "\r",
      " 25%|██▌       | 126/500 [00:41<02:04,  3.00it/s]"
     ]
    },
    {
     "name": "stdout",
     "output_type": "stream",
     "text": [
      "Leticia\n"
     ]
    },
    {
     "name": "stderr",
     "output_type": "stream",
     "text": [
      "\r",
      " 25%|██▌       | 127/500 [00:42<02:05,  2.97it/s]"
     ]
    },
    {
     "name": "stdout",
     "output_type": "stream",
     "text": [
      "Jorge\n"
     ]
    },
    {
     "name": "stderr",
     "output_type": "stream",
     "text": [
      "\r",
      " 26%|██▌       | 128/500 [00:42<02:05,  2.95it/s]"
     ]
    },
    {
     "name": "stdout",
     "output_type": "stream",
     "text": [
      "Catalina\n"
     ]
    },
    {
     "name": "stderr",
     "output_type": "stream",
     "text": [
      "\r",
      " 26%|██▌       | 129/500 [00:42<02:02,  3.02it/s]"
     ]
    },
    {
     "name": "stdout",
     "output_type": "stream",
     "text": [
      "Gabriel\n"
     ]
    },
    {
     "name": "stderr",
     "output_type": "stream",
     "text": [
      "\r",
      " 26%|██▌       | 130/500 [00:43<02:02,  3.03it/s]"
     ]
    },
    {
     "name": "stdout",
     "output_type": "stream",
     "text": [
      "Emilse\n"
     ]
    },
    {
     "name": "stderr",
     "output_type": "stream",
     "text": [
      "\r",
      " 26%|██▌       | 131/500 [00:43<02:03,  2.99it/s]"
     ]
    },
    {
     "name": "stdout",
     "output_type": "stream",
     "text": [
      "Alejandro\n"
     ]
    },
    {
     "name": "stderr",
     "output_type": "stream",
     "text": [
      "\r",
      " 26%|██▋       | 132/500 [00:43<02:02,  3.01it/s]"
     ]
    },
    {
     "name": "stdout",
     "output_type": "stream",
     "text": [
      "Abraham\n"
     ]
    },
    {
     "name": "stderr",
     "output_type": "stream",
     "text": [
      "\r",
      " 27%|██▋       | 133/500 [00:44<02:01,  3.01it/s]"
     ]
    },
    {
     "name": "stdout",
     "output_type": "stream",
     "text": [
      "Dario\n"
     ]
    },
    {
     "name": "stderr",
     "output_type": "stream",
     "text": [
      "\r",
      " 27%|██▋       | 134/500 [00:44<02:00,  3.04it/s]"
     ]
    },
    {
     "name": "stdout",
     "output_type": "stream",
     "text": [
      "Jesus\n"
     ]
    },
    {
     "name": "stderr",
     "output_type": "stream",
     "text": [
      "\r",
      " 27%|██▋       | 135/500 [00:44<01:59,  3.06it/s]"
     ]
    },
    {
     "name": "stdout",
     "output_type": "stream",
     "text": [
      "Pilar\n"
     ]
    },
    {
     "name": "stderr",
     "output_type": "stream",
     "text": [
      "\r",
      " 27%|██▋       | 136/500 [00:45<02:00,  3.02it/s]"
     ]
    },
    {
     "name": "stdout",
     "output_type": "stream",
     "text": [
      "Alfredo\n"
     ]
    },
    {
     "name": "stderr",
     "output_type": "stream",
     "text": [
      "\r",
      " 27%|██▋       | 137/500 [00:45<01:59,  3.03it/s]"
     ]
    },
    {
     "name": "stdout",
     "output_type": "stream",
     "text": [
      "Maria\n"
     ]
    },
    {
     "name": "stderr",
     "output_type": "stream",
     "text": [
      "\r",
      " 28%|██▊       | 138/500 [00:45<01:58,  3.04it/s]"
     ]
    },
    {
     "name": "stdout",
     "output_type": "stream",
     "text": [
      "Jesus\n"
     ]
    },
    {
     "name": "stderr",
     "output_type": "stream",
     "text": [
      "\r",
      " 28%|██▊       | 139/500 [00:46<01:57,  3.07it/s]"
     ]
    },
    {
     "name": "stdout",
     "output_type": "stream",
     "text": [
      "Everardo\n"
     ]
    },
    {
     "name": "stderr",
     "output_type": "stream",
     "text": [
      "\r",
      " 28%|██▊       | 140/500 [00:46<01:55,  3.10it/s]"
     ]
    },
    {
     "name": "stdout",
     "output_type": "stream",
     "text": [
      "Concepcion\n"
     ]
    },
    {
     "name": "stderr",
     "output_type": "stream",
     "text": [
      "\r",
      " 28%|██▊       | 141/500 [00:46<01:55,  3.12it/s]"
     ]
    },
    {
     "name": "stdout",
     "output_type": "stream",
     "text": [
      "Omar\n"
     ]
    },
    {
     "name": "stderr",
     "output_type": "stream",
     "text": [
      "\r",
      " 28%|██▊       | 142/500 [00:47<01:57,  3.05it/s]"
     ]
    },
    {
     "name": "stdout",
     "output_type": "stream",
     "text": [
      "Elizabeth\n"
     ]
    },
    {
     "name": "stderr",
     "output_type": "stream",
     "text": [
      "\r",
      " 29%|██▊       | 143/500 [00:47<01:57,  3.03it/s]"
     ]
    },
    {
     "name": "stdout",
     "output_type": "stream",
     "text": [
      "Oswaldo\n"
     ]
    },
    {
     "name": "stderr",
     "output_type": "stream",
     "text": [
      "\r",
      " 29%|██▉       | 144/500 [00:47<01:58,  3.02it/s]"
     ]
    },
    {
     "name": "stdout",
     "output_type": "stream",
     "text": [
      "Arnoldo\n"
     ]
    },
    {
     "name": "stderr",
     "output_type": "stream",
     "text": [
      "\r",
      " 29%|██▉       | 145/500 [00:48<01:56,  3.04it/s]"
     ]
    },
    {
     "name": "stdout",
     "output_type": "stream",
     "text": [
      "Luis\n"
     ]
    },
    {
     "name": "stderr",
     "output_type": "stream",
     "text": [
      "\r",
      " 29%|██▉       | 146/500 [00:48<01:56,  3.04it/s]"
     ]
    },
    {
     "name": "stdout",
     "output_type": "stream",
     "text": [
      "Carmen\n"
     ]
    },
    {
     "name": "stderr",
     "output_type": "stream",
     "text": [
      "\r",
      " 29%|██▉       | 147/500 [00:48<01:55,  3.07it/s]"
     ]
    },
    {
     "name": "stdout",
     "output_type": "stream",
     "text": [
      "Socorro\n"
     ]
    },
    {
     "name": "stderr",
     "output_type": "stream",
     "text": [
      "\r",
      " 30%|██▉       | 148/500 [00:49<01:53,  3.09it/s]"
     ]
    },
    {
     "name": "stdout",
     "output_type": "stream",
     "text": [
      "Salvador\n"
     ]
    },
    {
     "name": "stderr",
     "output_type": "stream",
     "text": [
      "\r",
      " 30%|██▉       | 149/500 [00:49<01:54,  3.07it/s]"
     ]
    },
    {
     "name": "stdout",
     "output_type": "stream",
     "text": [
      "Fernando\n"
     ]
    },
    {
     "name": "stderr",
     "output_type": "stream",
     "text": [
      "\r",
      " 30%|███       | 150/500 [00:49<01:54,  3.05it/s]"
     ]
    },
    {
     "name": "stdout",
     "output_type": "stream",
     "text": [
      "Fidel\n"
     ]
    },
    {
     "name": "stderr",
     "output_type": "stream",
     "text": [
      "\r",
      " 30%|███       | 151/500 [00:50<01:53,  3.09it/s]"
     ]
    },
    {
     "name": "stdout",
     "output_type": "stream",
     "text": [
      "Alfredo\n"
     ]
    },
    {
     "name": "stderr",
     "output_type": "stream",
     "text": [
      "\r",
      " 30%|███       | 152/500 [00:50<01:54,  3.05it/s]"
     ]
    },
    {
     "name": "stdout",
     "output_type": "stream",
     "text": [
      "Cesario\n"
     ]
    },
    {
     "name": "stderr",
     "output_type": "stream",
     "text": [
      "\r",
      " 31%|███       | 153/500 [00:50<01:53,  3.05it/s]"
     ]
    },
    {
     "name": "stdout",
     "output_type": "stream",
     "text": [
      "Beatriz\n"
     ]
    },
    {
     "name": "stderr",
     "output_type": "stream",
     "text": [
      "\r",
      " 31%|███       | 154/500 [00:51<01:52,  3.07it/s]"
     ]
    },
    {
     "name": "stdout",
     "output_type": "stream",
     "text": [
      "Mauricio\n"
     ]
    },
    {
     "name": "stderr",
     "output_type": "stream",
     "text": [
      "\r",
      " 31%|███       | 155/500 [00:51<01:52,  3.06it/s]"
     ]
    },
    {
     "name": "stdout",
     "output_type": "stream",
     "text": [
      "Maria\n"
     ]
    },
    {
     "name": "stderr",
     "output_type": "stream",
     "text": [
      "\r",
      " 31%|███       | 156/500 [00:51<01:52,  3.06it/s]"
     ]
    },
    {
     "name": "stdout",
     "output_type": "stream",
     "text": [
      "Noel\n"
     ]
    },
    {
     "name": "stderr",
     "output_type": "stream",
     "text": [
      "\r",
      " 31%|███▏      | 157/500 [00:51<01:53,  3.03it/s]"
     ]
    },
    {
     "name": "stdout",
     "output_type": "stream",
     "text": [
      "Joaquin\n"
     ]
    },
    {
     "name": "stderr",
     "output_type": "stream",
     "text": [
      "\r",
      " 32%|███▏      | 158/500 [00:52<01:51,  3.06it/s]"
     ]
    },
    {
     "name": "stdout",
     "output_type": "stream",
     "text": [
      "Norma\n"
     ]
    },
    {
     "name": "stderr",
     "output_type": "stream",
     "text": [
      "\r",
      " 32%|███▏      | 159/500 [00:52<01:50,  3.09it/s]"
     ]
    },
    {
     "name": "stdout",
     "output_type": "stream",
     "text": [
      "Roman\n"
     ]
    },
    {
     "name": "stderr",
     "output_type": "stream",
     "text": [
      "\r",
      " 32%|███▏      | 160/500 [00:52<01:50,  3.08it/s]"
     ]
    },
    {
     "name": "stdout",
     "output_type": "stream",
     "text": [
      "Luz\n"
     ]
    },
    {
     "name": "stderr",
     "output_type": "stream",
     "text": [
      "\r",
      " 32%|███▏      | 161/500 [00:53<01:50,  3.08it/s]"
     ]
    },
    {
     "name": "stdout",
     "output_type": "stream",
     "text": [
      "Jose\n"
     ]
    },
    {
     "name": "stderr",
     "output_type": "stream",
     "text": [
      "\r",
      " 32%|███▏      | 162/500 [00:53<01:55,  2.92it/s]"
     ]
    },
    {
     "name": "stdout",
     "output_type": "stream",
     "text": [
      "Eulalia\n"
     ]
    },
    {
     "name": "stderr",
     "output_type": "stream",
     "text": [
      "\r",
      " 33%|███▎      | 163/500 [00:54<02:05,  2.69it/s]"
     ]
    },
    {
     "name": "stdout",
     "output_type": "stream",
     "text": [
      "Rocio\n"
     ]
    },
    {
     "name": "stderr",
     "output_type": "stream",
     "text": [
      "\r",
      " 33%|███▎      | 164/500 [00:54<02:24,  2.33it/s]"
     ]
    },
    {
     "name": "stdout",
     "output_type": "stream",
     "text": [
      "Francisco\n"
     ]
    },
    {
     "name": "stderr",
     "output_type": "stream",
     "text": [
      "\r",
      " 33%|███▎      | 165/500 [00:55<02:48,  1.99it/s]"
     ]
    },
    {
     "name": "stdout",
     "output_type": "stream",
     "text": [
      "Jose\n"
     ]
    },
    {
     "name": "stderr",
     "output_type": "stream",
     "text": [
      "\r",
      " 33%|███▎      | 166/500 [00:56<03:05,  1.80it/s]"
     ]
    },
    {
     "name": "stdout",
     "output_type": "stream",
     "text": [
      "Alejandro\n"
     ]
    },
    {
     "name": "stderr",
     "output_type": "stream",
     "text": [
      "\r",
      " 33%|███▎      | 167/500 [00:56<03:19,  1.67it/s]"
     ]
    },
    {
     "name": "stdout",
     "output_type": "stream",
     "text": [
      "Elena\n"
     ]
    },
    {
     "name": "stderr",
     "output_type": "stream",
     "text": [
      "\r",
      " 34%|███▎      | 168/500 [00:57<03:08,  1.76it/s]"
     ]
    },
    {
     "name": "stdout",
     "output_type": "stream",
     "text": [
      "Juan\n"
     ]
    },
    {
     "name": "stderr",
     "output_type": "stream",
     "text": [
      "\r",
      " 34%|███▍      | 169/500 [00:57<02:43,  2.02it/s]"
     ]
    },
    {
     "name": "stdout",
     "output_type": "stream",
     "text": [
      "Hector\n"
     ]
    },
    {
     "name": "stderr",
     "output_type": "stream",
     "text": [
      "\r",
      " 34%|███▍      | 170/500 [00:57<02:27,  2.23it/s]"
     ]
    },
    {
     "name": "stdout",
     "output_type": "stream",
     "text": [
      "Karina\n"
     ]
    },
    {
     "name": "stderr",
     "output_type": "stream",
     "text": [
      "\r",
      " 34%|███▍      | 171/500 [00:58<02:14,  2.44it/s]"
     ]
    },
    {
     "name": "stdout",
     "output_type": "stream",
     "text": [
      "Manuel\n"
     ]
    },
    {
     "name": "stderr",
     "output_type": "stream",
     "text": [
      "\r",
      " 34%|███▍      | 172/500 [00:58<02:06,  2.58it/s]"
     ]
    },
    {
     "name": "stdout",
     "output_type": "stream",
     "text": [
      "Faustino\n"
     ]
    },
    {
     "name": "stderr",
     "output_type": "stream",
     "text": [
      "\r",
      " 35%|███▍      | 173/500 [00:58<01:59,  2.73it/s]"
     ]
    },
    {
     "name": "stdout",
     "output_type": "stream",
     "text": [
      "Antonio\n"
     ]
    },
    {
     "name": "stderr",
     "output_type": "stream",
     "text": [
      "\r",
      " 35%|███▍      | 174/500 [00:59<01:56,  2.81it/s]"
     ]
    },
    {
     "name": "stdout",
     "output_type": "stream",
     "text": [
      "Tolentino\n"
     ]
    },
    {
     "name": "stderr",
     "output_type": "stream",
     "text": [
      "\r",
      " 35%|███▌      | 175/500 [00:59<01:54,  2.84it/s]"
     ]
    },
    {
     "name": "stdout",
     "output_type": "stream",
     "text": [
      "Salvador\n"
     ]
    },
    {
     "name": "stderr",
     "output_type": "stream",
     "text": [
      "\r",
      " 35%|███▌      | 176/500 [00:59<01:52,  2.87it/s]"
     ]
    },
    {
     "name": "stdout",
     "output_type": "stream",
     "text": [
      "Ramon\n"
     ]
    },
    {
     "name": "stderr",
     "output_type": "stream",
     "text": [
      "\r",
      " 35%|███▌      | 177/500 [01:00<01:50,  2.92it/s]"
     ]
    },
    {
     "name": "stdout",
     "output_type": "stream",
     "text": [
      "Genaro\n"
     ]
    },
    {
     "name": "stderr",
     "output_type": "stream",
     "text": [
      "\r",
      " 36%|███▌      | 178/500 [01:00<01:49,  2.94it/s]"
     ]
    },
    {
     "name": "stdout",
     "output_type": "stream",
     "text": [
      "Maria\n"
     ]
    },
    {
     "name": "stderr",
     "output_type": "stream",
     "text": [
      "\r",
      " 36%|███▌      | 179/500 [01:00<01:52,  2.86it/s]"
     ]
    },
    {
     "name": "stdout",
     "output_type": "stream",
     "text": [
      "Fernando\n"
     ]
    },
    {
     "name": "stderr",
     "output_type": "stream",
     "text": [
      "\r",
      " 36%|███▌      | 180/500 [01:01<01:48,  2.95it/s]"
     ]
    },
    {
     "name": "stdout",
     "output_type": "stream",
     "text": [
      "Roberto\n"
     ]
    },
    {
     "name": "stderr",
     "output_type": "stream",
     "text": [
      "\r",
      " 36%|███▌      | 181/500 [01:01<01:45,  3.02it/s]"
     ]
    },
    {
     "name": "stdout",
     "output_type": "stream",
     "text": [
      "Cristina\n"
     ]
    },
    {
     "name": "stderr",
     "output_type": "stream",
     "text": [
      "\r",
      " 36%|███▋      | 182/500 [01:01<01:49,  2.89it/s]"
     ]
    },
    {
     "name": "stdout",
     "output_type": "stream",
     "text": [
      "Mauricio\n"
     ]
    },
    {
     "name": "stderr",
     "output_type": "stream",
     "text": [
      "\r",
      " 37%|███▋      | 183/500 [01:02<01:49,  2.90it/s]"
     ]
    },
    {
     "name": "stdout",
     "output_type": "stream",
     "text": [
      "Fernando\n"
     ]
    },
    {
     "name": "stderr",
     "output_type": "stream",
     "text": [
      "\r",
      " 37%|███▋      | 184/500 [01:02<01:46,  2.97it/s]"
     ]
    },
    {
     "name": "stdout",
     "output_type": "stream",
     "text": [
      "Octavio\n"
     ]
    },
    {
     "name": "stderr",
     "output_type": "stream",
     "text": [
      "\r",
      " 37%|███▋      | 185/500 [01:02<01:46,  2.97it/s]"
     ]
    },
    {
     "name": "stdout",
     "output_type": "stream",
     "text": [
      "Miguel\n"
     ]
    },
    {
     "name": "stderr",
     "output_type": "stream",
     "text": [
      "\r",
      " 37%|███▋      | 186/500 [01:03<01:44,  3.00it/s]"
     ]
    },
    {
     "name": "stdout",
     "output_type": "stream",
     "text": [
      "Leopoldo\n"
     ]
    },
    {
     "name": "stderr",
     "output_type": "stream",
     "text": [
      "\r",
      " 37%|███▋      | 187/500 [01:03<01:42,  3.05it/s]"
     ]
    },
    {
     "name": "stdout",
     "output_type": "stream",
     "text": [
      "Irazema\n"
     ]
    },
    {
     "name": "stderr",
     "output_type": "stream",
     "text": [
      "\r",
      " 38%|███▊      | 188/500 [01:03<01:42,  3.06it/s]"
     ]
    },
    {
     "name": "stdout",
     "output_type": "stream",
     "text": [
      "Carlos\n"
     ]
    },
    {
     "name": "stderr",
     "output_type": "stream",
     "text": [
      "\r",
      " 38%|███▊      | 189/500 [01:04<01:41,  3.05it/s]"
     ]
    },
    {
     "name": "stdout",
     "output_type": "stream",
     "text": [
      "Guadalupe\n"
     ]
    },
    {
     "name": "stderr",
     "output_type": "stream",
     "text": [
      "\r",
      " 38%|███▊      | 190/500 [01:04<01:40,  3.08it/s]"
     ]
    },
    {
     "name": "stdout",
     "output_type": "stream",
     "text": [
      "Leticia\n"
     ]
    },
    {
     "name": "stderr",
     "output_type": "stream",
     "text": [
      "\r",
      " 38%|███▊      | 191/500 [01:04<01:39,  3.10it/s]"
     ]
    },
    {
     "name": "stdout",
     "output_type": "stream",
     "text": [
      "Fernanda\n"
     ]
    },
    {
     "name": "stderr",
     "output_type": "stream",
     "text": [
      "\r",
      " 38%|███▊      | 192/500 [01:05<01:40,  3.06it/s]"
     ]
    },
    {
     "name": "stdout",
     "output_type": "stream",
     "text": [
      "Javier\n"
     ]
    },
    {
     "name": "stderr",
     "output_type": "stream",
     "text": [
      "\r",
      " 39%|███▊      | 193/500 [01:05<01:39,  3.08it/s]"
     ]
    },
    {
     "name": "stdout",
     "output_type": "stream",
     "text": [
      "Jorge\n"
     ]
    },
    {
     "name": "stderr",
     "output_type": "stream",
     "text": [
      "\r",
      " 39%|███▉      | 194/500 [01:05<01:39,  3.07it/s]"
     ]
    },
    {
     "name": "stdout",
     "output_type": "stream",
     "text": [
      "Renan\n"
     ]
    },
    {
     "name": "stderr",
     "output_type": "stream",
     "text": [
      "\r",
      " 39%|███▉      | 195/500 [01:06<01:40,  3.03it/s]"
     ]
    },
    {
     "name": "stdout",
     "output_type": "stream",
     "text": [
      "Rebeca\n"
     ]
    },
    {
     "name": "stderr",
     "output_type": "stream",
     "text": [
      "\r",
      " 39%|███▉      | 196/500 [01:06<01:40,  3.04it/s]"
     ]
    },
    {
     "name": "stdout",
     "output_type": "stream",
     "text": [
      "Pablo\n"
     ]
    },
    {
     "name": "stderr",
     "output_type": "stream",
     "text": [
      "\r",
      " 39%|███▉      | 197/500 [01:06<01:38,  3.07it/s]"
     ]
    },
    {
     "name": "stdout",
     "output_type": "stream",
     "text": [
      "Simon\n"
     ]
    },
    {
     "name": "stderr",
     "output_type": "stream",
     "text": [
      "\r",
      " 40%|███▉      | 198/500 [01:07<01:38,  3.07it/s]"
     ]
    },
    {
     "name": "stdout",
     "output_type": "stream",
     "text": [
      "Antonio\n"
     ]
    },
    {
     "name": "stderr",
     "output_type": "stream",
     "text": [
      "\r",
      " 40%|███▉      | 199/500 [01:07<01:38,  3.07it/s]"
     ]
    },
    {
     "name": "stdout",
     "output_type": "stream",
     "text": [
      "Paulina\n"
     ]
    },
    {
     "name": "stderr",
     "output_type": "stream",
     "text": [
      "\r",
      " 40%|████      | 200/500 [01:07<01:37,  3.06it/s]"
     ]
    },
    {
     "name": "stdout",
     "output_type": "stream",
     "text": [
      "Guadalupe\n"
     ]
    },
    {
     "name": "stderr",
     "output_type": "stream",
     "text": [
      "\r",
      " 40%|████      | 201/500 [01:08<01:36,  3.10it/s]"
     ]
    },
    {
     "name": "stdout",
     "output_type": "stream",
     "text": [
      "Jesus\n"
     ]
    },
    {
     "name": "stderr",
     "output_type": "stream",
     "text": [
      "\r",
      " 40%|████      | 202/500 [01:08<01:35,  3.11it/s]"
     ]
    },
    {
     "name": "stdout",
     "output_type": "stream",
     "text": [
      "Regina\n"
     ]
    },
    {
     "name": "stderr",
     "output_type": "stream",
     "text": [
      "\r",
      " 41%|████      | 203/500 [01:08<01:37,  3.05it/s]"
     ]
    },
    {
     "name": "stdout",
     "output_type": "stream",
     "text": [
      "Carlos\n"
     ]
    },
    {
     "name": "stderr",
     "output_type": "stream",
     "text": [
      "\r",
      " 41%|████      | 204/500 [01:09<01:36,  3.06it/s]"
     ]
    },
    {
     "name": "stdout",
     "output_type": "stream",
     "text": [
      "Guadalupe\n"
     ]
    },
    {
     "name": "stderr",
     "output_type": "stream",
     "text": [
      "\r",
      " 41%|████      | 205/500 [01:09<01:35,  3.08it/s]"
     ]
    },
    {
     "name": "stdout",
     "output_type": "stream",
     "text": [
      "Sergio\n"
     ]
    },
    {
     "name": "stderr",
     "output_type": "stream",
     "text": [
      "\r",
      " 41%|████      | 206/500 [01:09<01:35,  3.08it/s]"
     ]
    },
    {
     "name": "stdout",
     "output_type": "stream",
     "text": [
      "Karina\n"
     ]
    },
    {
     "name": "stderr",
     "output_type": "stream",
     "text": [
      "\r",
      " 41%|████▏     | 207/500 [01:10<01:35,  3.07it/s]"
     ]
    },
    {
     "name": "stdout",
     "output_type": "stream",
     "text": [
      "Maricela\n"
     ]
    },
    {
     "name": "stderr",
     "output_type": "stream",
     "text": [
      "\r",
      " 42%|████▏     | 208/500 [01:10<01:34,  3.09it/s]"
     ]
    },
    {
     "name": "stdout",
     "output_type": "stream",
     "text": [
      "Adolfo\n"
     ]
    },
    {
     "name": "stderr",
     "output_type": "stream",
     "text": [
      "\r",
      " 42%|████▏     | 209/500 [01:10<01:33,  3.10it/s]"
     ]
    },
    {
     "name": "stdout",
     "output_type": "stream",
     "text": [
      "Ma.\n"
     ]
    },
    {
     "name": "stderr",
     "output_type": "stream",
     "text": [
      "\r",
      " 42%|████▏     | 210/500 [01:11<01:33,  3.10it/s]"
     ]
    },
    {
     "name": "stdout",
     "output_type": "stream",
     "text": [
      "Paloma\n"
     ]
    },
    {
     "name": "stderr",
     "output_type": "stream",
     "text": [
      "\r",
      " 42%|████▏     | 211/500 [01:11<01:34,  3.07it/s]"
     ]
    },
    {
     "name": "stdout",
     "output_type": "stream",
     "text": [
      "Marina\n"
     ]
    },
    {
     "name": "stderr",
     "output_type": "stream",
     "text": [
      "\r",
      " 42%|████▏     | 212/500 [01:11<01:39,  2.89it/s]"
     ]
    },
    {
     "name": "stdout",
     "output_type": "stream",
     "text": [
      "Fernando\n"
     ]
    },
    {
     "name": "stderr",
     "output_type": "stream",
     "text": [
      "\r",
      " 43%|████▎     | 213/500 [01:12<01:37,  2.93it/s]"
     ]
    },
    {
     "name": "stdout",
     "output_type": "stream",
     "text": [
      "Alberto\n"
     ]
    },
    {
     "name": "stderr",
     "output_type": "stream",
     "text": [
      "\r",
      " 43%|████▎     | 214/500 [01:12<01:36,  2.97it/s]"
     ]
    },
    {
     "name": "stdout",
     "output_type": "stream",
     "text": [
      "Rafael\n"
     ]
    },
    {
     "name": "stderr",
     "output_type": "stream",
     "text": [
      "\r",
      " 43%|████▎     | 215/500 [01:12<01:35,  2.97it/s]"
     ]
    },
    {
     "name": "stdout",
     "output_type": "stream",
     "text": [
      "Pablo\n"
     ]
    },
    {
     "name": "stderr",
     "output_type": "stream",
     "text": [
      "\r",
      " 43%|████▎     | 216/500 [01:13<01:35,  2.98it/s]"
     ]
    },
    {
     "name": "stdout",
     "output_type": "stream",
     "text": [
      "Luz\n"
     ]
    },
    {
     "name": "stderr",
     "output_type": "stream",
     "text": [
      "\r",
      " 43%|████▎     | 217/500 [01:13<01:35,  2.96it/s]"
     ]
    },
    {
     "name": "stdout",
     "output_type": "stream",
     "text": [
      "Marcos\n"
     ]
    },
    {
     "name": "stderr",
     "output_type": "stream",
     "text": [
      "\r",
      " 44%|████▎     | 218/500 [01:13<01:36,  2.91it/s]"
     ]
    },
    {
     "name": "stdout",
     "output_type": "stream",
     "text": [
      "Jesus\n"
     ]
    },
    {
     "name": "stderr",
     "output_type": "stream",
     "text": [
      "\r",
      " 44%|████▍     | 219/500 [01:14<01:36,  2.91it/s]"
     ]
    },
    {
     "name": "stdout",
     "output_type": "stream",
     "text": [
      "Humberto\n"
     ]
    },
    {
     "name": "stderr",
     "output_type": "stream",
     "text": [
      "\r",
      " 44%|████▍     | 220/500 [01:14<01:35,  2.94it/s]"
     ]
    },
    {
     "name": "stdout",
     "output_type": "stream",
     "text": [
      "Berenice\n"
     ]
    },
    {
     "name": "stderr",
     "output_type": "stream",
     "text": [
      "\r",
      " 44%|████▍     | 221/500 [01:14<01:32,  3.00it/s]"
     ]
    },
    {
     "name": "stdout",
     "output_type": "stream",
     "text": [
      "Ricardo\n"
     ]
    },
    {
     "name": "stderr",
     "output_type": "stream",
     "text": [
      "\r",
      " 44%|████▍     | 222/500 [01:15<01:32,  3.00it/s]"
     ]
    },
    {
     "name": "stdout",
     "output_type": "stream",
     "text": [
      "Guillermo\n"
     ]
    },
    {
     "name": "stderr",
     "output_type": "stream",
     "text": [
      "\r",
      " 45%|████▍     | 223/500 [01:15<01:32,  3.00it/s]"
     ]
    },
    {
     "name": "stdout",
     "output_type": "stream",
     "text": [
      "Fernando\n"
     ]
    },
    {
     "name": "stderr",
     "output_type": "stream",
     "text": [
      "\r",
      " 45%|████▍     | 224/500 [01:15<01:30,  3.03it/s]"
     ]
    },
    {
     "name": "stdout",
     "output_type": "stream",
     "text": [
      "Jesus\n"
     ]
    },
    {
     "name": "stderr",
     "output_type": "stream",
     "text": [
      "\r",
      " 45%|████▌     | 225/500 [01:16<01:29,  3.06it/s]"
     ]
    },
    {
     "name": "stdout",
     "output_type": "stream",
     "text": [
      "Consuelo\n"
     ]
    },
    {
     "name": "stderr",
     "output_type": "stream",
     "text": [
      "\r",
      " 45%|████▌     | 226/500 [01:16<01:28,  3.08it/s]"
     ]
    },
    {
     "name": "stdout",
     "output_type": "stream",
     "text": [
      "Xavier\n"
     ]
    },
    {
     "name": "stderr",
     "output_type": "stream",
     "text": [
      "\r",
      " 45%|████▌     | 227/500 [01:16<01:29,  3.06it/s]"
     ]
    },
    {
     "name": "stdout",
     "output_type": "stream",
     "text": [
      "Alfredo\n"
     ]
    },
    {
     "name": "stderr",
     "output_type": "stream",
     "text": [
      "\r",
      " 46%|████▌     | 228/500 [01:17<01:29,  3.03it/s]"
     ]
    },
    {
     "name": "stdout",
     "output_type": "stream",
     "text": [
      "Juan\n"
     ]
    },
    {
     "name": "stderr",
     "output_type": "stream",
     "text": [
      "\r",
      " 46%|████▌     | 229/500 [01:17<01:31,  2.96it/s]"
     ]
    },
    {
     "name": "stdout",
     "output_type": "stream",
     "text": [
      "Francisco\n"
     ]
    },
    {
     "name": "stderr",
     "output_type": "stream",
     "text": [
      "\r",
      " 46%|████▌     | 230/500 [01:17<01:29,  3.02it/s]"
     ]
    },
    {
     "name": "stdout",
     "output_type": "stream",
     "text": [
      "Ruben\n"
     ]
    },
    {
     "name": "stderr",
     "output_type": "stream",
     "text": [
      "\r",
      " 46%|████▌     | 231/500 [01:18<01:28,  3.02it/s]"
     ]
    },
    {
     "name": "stdout",
     "output_type": "stream",
     "text": [
      "Jesus\n"
     ]
    },
    {
     "name": "stderr",
     "output_type": "stream",
     "text": [
      "\r",
      " 46%|████▋     | 232/500 [01:18<01:28,  3.02it/s]"
     ]
    },
    {
     "name": "stdout",
     "output_type": "stream",
     "text": [
      "Genaro\n"
     ]
    },
    {
     "name": "stderr",
     "output_type": "stream",
     "text": [
      "\r",
      " 47%|████▋     | 233/500 [01:18<01:27,  3.05it/s]"
     ]
    },
    {
     "name": "stdout",
     "output_type": "stream",
     "text": [
      "Humberto\n"
     ]
    },
    {
     "name": "stderr",
     "output_type": "stream",
     "text": [
      "\r",
      " 47%|████▋     | 234/500 [01:19<01:28,  3.02it/s]"
     ]
    },
    {
     "name": "stdout",
     "output_type": "stream",
     "text": [
      "Augusto\n"
     ]
    },
    {
     "name": "stderr",
     "output_type": "stream",
     "text": [
      "\r",
      " 47%|████▋     | 235/500 [01:19<01:27,  3.04it/s]"
     ]
    },
    {
     "name": "stdout",
     "output_type": "stream",
     "text": [
      "Alberto\n"
     ]
    },
    {
     "name": "stderr",
     "output_type": "stream",
     "text": [
      "\r",
      " 47%|████▋     | 236/500 [01:19<01:26,  3.07it/s]"
     ]
    },
    {
     "name": "stdout",
     "output_type": "stream",
     "text": [
      "Isaias\n"
     ]
    },
    {
     "name": "stderr",
     "output_type": "stream",
     "text": [
      "\r",
      " 47%|████▋     | 237/500 [01:20<01:26,  3.05it/s]"
     ]
    },
    {
     "name": "stdout",
     "output_type": "stream",
     "text": [
      "Eufrosina\n"
     ]
    },
    {
     "name": "stderr",
     "output_type": "stream",
     "text": [
      "\r",
      " 48%|████▊     | 238/500 [01:20<01:25,  3.07it/s]"
     ]
    },
    {
     "name": "stdout",
     "output_type": "stream",
     "text": [
      "Alberto\n"
     ]
    },
    {
     "name": "stderr",
     "output_type": "stream",
     "text": [
      "\r",
      " 48%|████▊     | 239/500 [01:20<01:24,  3.10it/s]"
     ]
    },
    {
     "name": "stdout",
     "output_type": "stream",
     "text": [
      "Andres\n"
     ]
    },
    {
     "name": "stderr",
     "output_type": "stream",
     "text": [
      "\r",
      " 48%|████▊     | 240/500 [01:21<01:25,  3.03it/s]"
     ]
    },
    {
     "name": "stdout",
     "output_type": "stream",
     "text": [
      "Lazara\n"
     ]
    },
    {
     "name": "stderr",
     "output_type": "stream",
     "text": [
      "\r",
      " 48%|████▊     | 241/500 [01:21<01:25,  3.01it/s]"
     ]
    },
    {
     "name": "stdout",
     "output_type": "stream",
     "text": [
      "Alberto\n"
     ]
    },
    {
     "name": "stderr",
     "output_type": "stream",
     "text": [
      "\r",
      " 48%|████▊     | 242/500 [01:21<01:26,  2.99it/s]"
     ]
    },
    {
     "name": "stdout",
     "output_type": "stream",
     "text": [
      "Rodolfo\n"
     ]
    },
    {
     "name": "stderr",
     "output_type": "stream",
     "text": [
      "\r",
      " 49%|████▊     | 243/500 [01:22<01:25,  3.02it/s]"
     ]
    },
    {
     "name": "stdout",
     "output_type": "stream",
     "text": [
      "Diego\n"
     ]
    },
    {
     "name": "stderr",
     "output_type": "stream",
     "text": [
      "\r",
      " 49%|████▉     | 244/500 [01:22<01:24,  3.02it/s]"
     ]
    },
    {
     "name": "stdout",
     "output_type": "stream",
     "text": [
      "Arturo\n"
     ]
    },
    {
     "name": "stderr",
     "output_type": "stream",
     "text": [
      "\r",
      " 49%|████▉     | 245/500 [01:22<01:24,  3.00it/s]"
     ]
    },
    {
     "name": "stdout",
     "output_type": "stream",
     "text": [
      "Alejandro\n"
     ]
    },
    {
     "name": "stderr",
     "output_type": "stream",
     "text": [
      "\r",
      " 49%|████▉     | 246/500 [01:23<01:24,  3.00it/s]"
     ]
    },
    {
     "name": "stdout",
     "output_type": "stream",
     "text": [
      "Victor\n"
     ]
    },
    {
     "name": "stderr",
     "output_type": "stream",
     "text": [
      "\r",
      " 49%|████▉     | 247/500 [01:23<01:23,  3.03it/s]"
     ]
    },
    {
     "name": "stdout",
     "output_type": "stream",
     "text": [
      "Cuauhtemoc\n"
     ]
    },
    {
     "name": "stderr",
     "output_type": "stream",
     "text": [
      "\r",
      " 50%|████▉     | 248/500 [01:23<01:24,  3.00it/s]"
     ]
    },
    {
     "name": "stdout",
     "output_type": "stream",
     "text": [
      "Alberto\n"
     ]
    },
    {
     "name": "stderr",
     "output_type": "stream",
     "text": [
      "\r",
      " 50%|████▉     | 249/500 [01:24<01:22,  3.03it/s]"
     ]
    },
    {
     "name": "stdout",
     "output_type": "stream",
     "text": [
      "Guadalupe\n"
     ]
    },
    {
     "name": "stderr",
     "output_type": "stream",
     "text": [
      "\r",
      " 50%|█████     | 250/500 [01:24<01:21,  3.08it/s]"
     ]
    },
    {
     "name": "stdout",
     "output_type": "stream",
     "text": [
      "Dunyaska\n"
     ]
    },
    {
     "name": "stderr",
     "output_type": "stream",
     "text": [
      "\r",
      " 50%|█████     | 251/500 [01:24<01:21,  3.06it/s]"
     ]
    },
    {
     "name": "stdout",
     "output_type": "stream",
     "text": [
      "Manuel\n"
     ]
    },
    {
     "name": "stderr",
     "output_type": "stream",
     "text": [
      "\r",
      " 50%|█████     | 252/500 [01:24<01:21,  3.05it/s]"
     ]
    },
    {
     "name": "stdout",
     "output_type": "stream",
     "text": [
      "Adriana\n"
     ]
    },
    {
     "name": "stderr",
     "output_type": "stream",
     "text": [
      "\r",
      " 51%|█████     | 253/500 [01:25<01:22,  3.00it/s]"
     ]
    },
    {
     "name": "stdout",
     "output_type": "stream",
     "text": [
      "Rafael\n"
     ]
    },
    {
     "name": "stderr",
     "output_type": "stream",
     "text": [
      "\r",
      " 51%|█████     | 254/500 [01:25<01:22,  2.99it/s]"
     ]
    },
    {
     "name": "stdout",
     "output_type": "stream",
     "text": [
      "Jose\n"
     ]
    },
    {
     "name": "stderr",
     "output_type": "stream",
     "text": [
      "\r",
      " 51%|█████     | 255/500 [01:25<01:22,  2.98it/s]"
     ]
    },
    {
     "name": "stdout",
     "output_type": "stream",
     "text": [
      "Angel\n"
     ]
    },
    {
     "name": "stderr",
     "output_type": "stream",
     "text": [
      "\r",
      " 51%|█████     | 256/500 [01:26<01:20,  3.03it/s]"
     ]
    },
    {
     "name": "stdout",
     "output_type": "stream",
     "text": [
      "Octavio\n"
     ]
    },
    {
     "name": "stderr",
     "output_type": "stream",
     "text": [
      "\r",
      " 51%|█████▏    | 257/500 [01:26<01:20,  3.02it/s]"
     ]
    },
    {
     "name": "stdout",
     "output_type": "stream",
     "text": [
      "Omar\n"
     ]
    },
    {
     "name": "stderr",
     "output_type": "stream",
     "text": [
      "\r",
      " 52%|█████▏    | 258/500 [01:26<01:20,  3.02it/s]"
     ]
    },
    {
     "name": "stdout",
     "output_type": "stream",
     "text": [
      "Alonso\n"
     ]
    },
    {
     "name": "stderr",
     "output_type": "stream",
     "text": [
      "\r",
      " 52%|█████▏    | 259/500 [01:27<01:19,  3.04it/s]"
     ]
    },
    {
     "name": "stdout",
     "output_type": "stream",
     "text": [
      "Blanca\n"
     ]
    },
    {
     "name": "stderr",
     "output_type": "stream",
     "text": [
      "\r",
      " 52%|█████▏    | 260/500 [01:27<01:21,  2.94it/s]"
     ]
    },
    {
     "name": "stdout",
     "output_type": "stream",
     "text": [
      "Raquel\n"
     ]
    },
    {
     "name": "stderr",
     "output_type": "stream",
     "text": [
      "\r",
      " 52%|█████▏    | 261/500 [01:28<01:20,  2.95it/s]"
     ]
    },
    {
     "name": "stdout",
     "output_type": "stream",
     "text": [
      "Teresa\n"
     ]
    },
    {
     "name": "stderr",
     "output_type": "stream",
     "text": [
      "\r",
      " 52%|█████▏    | 262/500 [01:28<01:20,  2.97it/s]"
     ]
    },
    {
     "name": "stdout",
     "output_type": "stream",
     "text": [
      "Karina\n"
     ]
    },
    {
     "name": "stderr",
     "output_type": "stream",
     "text": [
      "\r",
      " 53%|█████▎    | 263/500 [01:28<01:22,  2.89it/s]"
     ]
    },
    {
     "name": "stdout",
     "output_type": "stream",
     "text": [
      "Alejandro\n"
     ]
    },
    {
     "name": "stderr",
     "output_type": "stream",
     "text": [
      "\r",
      " 53%|█████▎    | 264/500 [01:29<01:20,  2.92it/s]"
     ]
    },
    {
     "name": "stdout",
     "output_type": "stream",
     "text": [
      "Margarita\n"
     ]
    },
    {
     "name": "stderr",
     "output_type": "stream",
     "text": [
      "\r",
      " 53%|█████▎    | 265/500 [01:29<01:19,  2.95it/s]"
     ]
    },
    {
     "name": "stdout",
     "output_type": "stream",
     "text": [
      "Alejandro\n"
     ]
    },
    {
     "name": "stderr",
     "output_type": "stream",
     "text": [
      "\r",
      " 53%|█████▎    | 266/500 [01:29<01:19,  2.96it/s]"
     ]
    },
    {
     "name": "stdout",
     "output_type": "stream",
     "text": [
      "Ernesto\n"
     ]
    },
    {
     "name": "stderr",
     "output_type": "stream",
     "text": [
      "\r",
      " 53%|█████▎    | 267/500 [01:30<01:18,  2.98it/s]"
     ]
    },
    {
     "name": "stdout",
     "output_type": "stream",
     "text": [
      "Martin\n"
     ]
    },
    {
     "name": "stderr",
     "output_type": "stream",
     "text": [
      "\r",
      " 54%|█████▎    | 268/500 [01:30<01:16,  3.02it/s]"
     ]
    },
    {
     "name": "stdout",
     "output_type": "stream",
     "text": [
      "Leticia\n"
     ]
    },
    {
     "name": "stderr",
     "output_type": "stream",
     "text": [
      "\r",
      " 54%|█████▍    | 269/500 [01:30<01:15,  3.05it/s]"
     ]
    },
    {
     "name": "stdout",
     "output_type": "stream",
     "text": [
      "Raudel\n"
     ]
    },
    {
     "name": "stderr",
     "output_type": "stream",
     "text": [
      "\r",
      " 54%|█████▍    | 270/500 [01:30<01:15,  3.06it/s]"
     ]
    },
    {
     "name": "stdout",
     "output_type": "stream",
     "text": [
      "Alejandra\n"
     ]
    },
    {
     "name": "stderr",
     "output_type": "stream",
     "text": [
      "\r",
      " 54%|█████▍    | 271/500 [01:31<01:14,  3.09it/s]"
     ]
    },
    {
     "name": "stdout",
     "output_type": "stream",
     "text": [
      "Cesar\n"
     ]
    },
    {
     "name": "stderr",
     "output_type": "stream",
     "text": [
      "\r",
      " 54%|█████▍    | 272/500 [01:31<01:15,  3.03it/s]"
     ]
    },
    {
     "name": "stdout",
     "output_type": "stream",
     "text": [
      "Patricia\n"
     ]
    },
    {
     "name": "stderr",
     "output_type": "stream",
     "text": [
      "\r",
      " 55%|█████▍    | 273/500 [01:32<01:15,  3.00it/s]"
     ]
    },
    {
     "name": "stdout",
     "output_type": "stream",
     "text": [
      "Gerardo\n"
     ]
    },
    {
     "name": "stderr",
     "output_type": "stream",
     "text": [
      "\r",
      " 55%|█████▍    | 274/500 [01:32<01:16,  2.97it/s]"
     ]
    },
    {
     "name": "stdout",
     "output_type": "stream",
     "text": [
      "Raul\n"
     ]
    },
    {
     "name": "stderr",
     "output_type": "stream",
     "text": [
      "\r",
      " 55%|█████▌    | 275/500 [01:32<01:16,  2.93it/s]"
     ]
    },
    {
     "name": "stdout",
     "output_type": "stream",
     "text": [
      "Alejandro\n"
     ]
    },
    {
     "name": "stderr",
     "output_type": "stream",
     "text": [
      "\r",
      " 55%|█████▌    | 276/500 [01:33<01:14,  3.00it/s]"
     ]
    },
    {
     "name": "stdout",
     "output_type": "stream",
     "text": [
      "Guadalupe\n"
     ]
    },
    {
     "name": "stderr",
     "output_type": "stream",
     "text": [
      "\r",
      " 55%|█████▌    | 277/500 [01:33<01:13,  3.03it/s]"
     ]
    },
    {
     "name": "stdout",
     "output_type": "stream",
     "text": [
      "Margarita\n"
     ]
    },
    {
     "name": "stderr",
     "output_type": "stream",
     "text": [
      "\r",
      " 56%|█████▌    | 278/500 [01:33<01:13,  3.00it/s]"
     ]
    },
    {
     "name": "stdout",
     "output_type": "stream",
     "text": [
      "Carlos\n"
     ]
    },
    {
     "name": "stderr",
     "output_type": "stream",
     "text": [
      "\r",
      " 56%|█████▌    | 279/500 [01:34<01:13,  2.99it/s]"
     ]
    },
    {
     "name": "stdout",
     "output_type": "stream",
     "text": [
      "Heberto\n"
     ]
    },
    {
     "name": "stderr",
     "output_type": "stream",
     "text": [
      "\r",
      " 56%|█████▌    | 280/500 [01:34<01:13,  2.98it/s]"
     ]
    },
    {
     "name": "stdout",
     "output_type": "stream",
     "text": [
      "Ricardo\n"
     ]
    },
    {
     "name": "stderr",
     "output_type": "stream",
     "text": [
      "\r",
      " 56%|█████▌    | 281/500 [01:34<01:12,  3.00it/s]"
     ]
    },
    {
     "name": "stdout",
     "output_type": "stream",
     "text": [
      "Luis\n"
     ]
    },
    {
     "name": "stderr",
     "output_type": "stream",
     "text": [
      "\r",
      " 56%|█████▋    | 282/500 [01:35<01:12,  2.99it/s]"
     ]
    },
    {
     "name": "stdout",
     "output_type": "stream",
     "text": [
      "Marcelina\n"
     ]
    },
    {
     "name": "stderr",
     "output_type": "stream",
     "text": [
      "\r",
      " 57%|█████▋    | 283/500 [01:35<01:12,  3.00it/s]"
     ]
    },
    {
     "name": "stdout",
     "output_type": "stream",
     "text": [
      "Isabel\n"
     ]
    },
    {
     "name": "stderr",
     "output_type": "stream",
     "text": [
      "\r",
      " 57%|█████▋    | 284/500 [01:35<01:11,  3.03it/s]"
     ]
    },
    {
     "name": "stdout",
     "output_type": "stream",
     "text": [
      "Maximo\n"
     ]
    },
    {
     "name": "stderr",
     "output_type": "stream",
     "text": [
      "\r",
      " 57%|█████▋    | 285/500 [01:36<01:11,  3.01it/s]"
     ]
    },
    {
     "name": "stdout",
     "output_type": "stream",
     "text": [
      "Jesus\n"
     ]
    },
    {
     "name": "stderr",
     "output_type": "stream",
     "text": [
      "\r",
      " 57%|█████▋    | 286/500 [01:36<01:10,  3.02it/s]"
     ]
    },
    {
     "name": "stdout",
     "output_type": "stream",
     "text": [
      "German\n"
     ]
    },
    {
     "name": "stderr",
     "output_type": "stream",
     "text": [
      "\r",
      " 57%|█████▋    | 287/500 [01:36<01:10,  3.01it/s]"
     ]
    },
    {
     "name": "stdout",
     "output_type": "stream",
     "text": [
      "Leslie\n"
     ]
    },
    {
     "name": "stderr",
     "output_type": "stream",
     "text": [
      "\r",
      " 58%|█████▊    | 288/500 [01:36<01:09,  3.05it/s]"
     ]
    },
    {
     "name": "stdout",
     "output_type": "stream",
     "text": [
      "Raul\n"
     ]
    },
    {
     "name": "stderr",
     "output_type": "stream",
     "text": [
      "\r",
      " 58%|█████▊    | 289/500 [01:37<01:09,  3.06it/s]"
     ]
    },
    {
     "name": "stdout",
     "output_type": "stream",
     "text": [
      "Maria\n"
     ]
    },
    {
     "name": "stderr",
     "output_type": "stream",
     "text": [
      "\r",
      " 58%|█████▊    | 290/500 [01:37<01:08,  3.08it/s]"
     ]
    },
    {
     "name": "stdout",
     "output_type": "stream",
     "text": [
      "Lucia\n"
     ]
    },
    {
     "name": "stderr",
     "output_type": "stream",
     "text": [
      "\r",
      " 58%|█████▊    | 291/500 [01:37<01:07,  3.12it/s]"
     ]
    },
    {
     "name": "stdout",
     "output_type": "stream",
     "text": [
      "Gerardo\n"
     ]
    },
    {
     "name": "stderr",
     "output_type": "stream",
     "text": [
      "\r",
      " 58%|█████▊    | 292/500 [01:38<01:06,  3.12it/s]"
     ]
    },
    {
     "name": "stdout",
     "output_type": "stream",
     "text": [
      "Armando\n"
     ]
    },
    {
     "name": "stderr",
     "output_type": "stream",
     "text": [
      "\r",
      " 59%|█████▊    | 293/500 [01:38<01:07,  3.08it/s]"
     ]
    },
    {
     "name": "stdout",
     "output_type": "stream",
     "text": [
      "Esther\n"
     ]
    },
    {
     "name": "stderr",
     "output_type": "stream",
     "text": [
      "\r",
      " 59%|█████▉    | 294/500 [01:38<01:09,  2.95it/s]"
     ]
    },
    {
     "name": "stdout",
     "output_type": "stream",
     "text": [
      "Concepcion\n"
     ]
    },
    {
     "name": "stderr",
     "output_type": "stream",
     "text": [
      "\r",
      " 59%|█████▉    | 295/500 [01:39<01:07,  3.02it/s]"
     ]
    },
    {
     "name": "stdout",
     "output_type": "stream",
     "text": [
      "Miguel\n"
     ]
    },
    {
     "name": "stderr",
     "output_type": "stream",
     "text": [
      "\r",
      " 59%|█████▉    | 296/500 [01:39<01:06,  3.07it/s]"
     ]
    },
    {
     "name": "stdout",
     "output_type": "stream",
     "text": [
      "Enrique\n"
     ]
    },
    {
     "name": "stderr",
     "output_type": "stream",
     "text": [
      "\r",
      " 59%|█████▉    | 297/500 [01:39<01:06,  3.05it/s]"
     ]
    },
    {
     "name": "stdout",
     "output_type": "stream",
     "text": [
      "Esmeralda\n"
     ]
    },
    {
     "name": "stderr",
     "output_type": "stream",
     "text": [
      "\r",
      " 60%|█████▉    | 298/500 [01:40<01:05,  3.07it/s]"
     ]
    },
    {
     "name": "stdout",
     "output_type": "stream",
     "text": [
      "Concepcion\n"
     ]
    },
    {
     "name": "stderr",
     "output_type": "stream",
     "text": [
      "\r",
      " 60%|█████▉    | 299/500 [01:40<01:06,  3.04it/s]"
     ]
    },
    {
     "name": "stdout",
     "output_type": "stream",
     "text": [
      "Alfredo\n"
     ]
    },
    {
     "name": "stderr",
     "output_type": "stream",
     "text": [
      "\r",
      " 60%|██████    | 300/500 [01:40<01:05,  3.04it/s]"
     ]
    },
    {
     "name": "stdout",
     "output_type": "stream",
     "text": [
      "Marte\n"
     ]
    },
    {
     "name": "stderr",
     "output_type": "stream",
     "text": [
      "\r",
      " 60%|██████    | 301/500 [01:41<01:05,  3.03it/s]"
     ]
    },
    {
     "name": "stdout",
     "output_type": "stream",
     "text": [
      "Fernando\n"
     ]
    },
    {
     "name": "stderr",
     "output_type": "stream",
     "text": [
      "\r",
      " 60%|██████    | 302/500 [01:41<01:05,  3.01it/s]"
     ]
    },
    {
     "name": "stdout",
     "output_type": "stream",
     "text": [
      "Leonor\n"
     ]
    },
    {
     "name": "stderr",
     "output_type": "stream",
     "text": [
      "\r",
      " 61%|██████    | 303/500 [01:41<01:04,  3.05it/s]"
     ]
    },
    {
     "name": "stdout",
     "output_type": "stream",
     "text": [
      "Jorge\n"
     ]
    },
    {
     "name": "stderr",
     "output_type": "stream",
     "text": [
      "\r",
      " 61%|██████    | 304/500 [01:42<01:03,  3.08it/s]"
     ]
    },
    {
     "name": "stdout",
     "output_type": "stream",
     "text": [
      "Veronica\n"
     ]
    },
    {
     "name": "stderr",
     "output_type": "stream",
     "text": [
      "\r",
      " 61%|██████    | 305/500 [01:42<01:03,  3.05it/s]"
     ]
    },
    {
     "name": "stdout",
     "output_type": "stream",
     "text": [
      "Margarita\n"
     ]
    },
    {
     "name": "stderr",
     "output_type": "stream",
     "text": [
      "\r",
      " 61%|██████    | 306/500 [01:42<01:05,  2.96it/s]"
     ]
    },
    {
     "name": "stdout",
     "output_type": "stream",
     "text": [
      "Arturo\n"
     ]
    },
    {
     "name": "stderr",
     "output_type": "stream",
     "text": [
      "\r",
      " 61%|██████▏   | 307/500 [01:43<01:04,  2.98it/s]"
     ]
    },
    {
     "name": "stdout",
     "output_type": "stream",
     "text": [
      "Glafiro\n"
     ]
    },
    {
     "name": "stderr",
     "output_type": "stream",
     "text": [
      "\r",
      " 62%|██████▏   | 308/500 [01:43<01:03,  3.02it/s]"
     ]
    },
    {
     "name": "stdout",
     "output_type": "stream",
     "text": [
      "Antonio\n"
     ]
    },
    {
     "name": "stderr",
     "output_type": "stream",
     "text": [
      "\r",
      " 62%|██████▏   | 309/500 [01:43<01:04,  2.95it/s]"
     ]
    },
    {
     "name": "stdout",
     "output_type": "stream",
     "text": [
      "Mario\n"
     ]
    },
    {
     "name": "stderr",
     "output_type": "stream",
     "text": [
      "\r",
      " 62%|██████▏   | 310/500 [01:44<01:03,  2.97it/s]"
     ]
    },
    {
     "name": "stdout",
     "output_type": "stream",
     "text": [
      "Victor\n"
     ]
    },
    {
     "name": "stderr",
     "output_type": "stream",
     "text": [
      "\r",
      " 62%|██████▏   | 311/500 [01:44<01:03,  2.98it/s]"
     ]
    },
    {
     "name": "stdout",
     "output_type": "stream",
     "text": [
      "Leticia\n"
     ]
    },
    {
     "name": "stderr",
     "output_type": "stream",
     "text": [
      "\r",
      " 62%|██████▏   | 312/500 [01:44<01:03,  2.98it/s]"
     ]
    },
    {
     "name": "stdout",
     "output_type": "stream",
     "text": [
      "Jesus\n"
     ]
    },
    {
     "name": "stderr",
     "output_type": "stream",
     "text": [
      "\r",
      " 63%|██████▎   | 313/500 [01:45<01:02,  3.01it/s]"
     ]
    },
    {
     "name": "stdout",
     "output_type": "stream",
     "text": [
      "Isabel\n"
     ]
    },
    {
     "name": "stderr",
     "output_type": "stream",
     "text": [
      "\r",
      " 63%|██████▎   | 314/500 [01:45<01:02,  2.99it/s]"
     ]
    },
    {
     "name": "stdout",
     "output_type": "stream",
     "text": [
      "Celia\n"
     ]
    },
    {
     "name": "stderr",
     "output_type": "stream",
     "text": [
      "\r",
      " 63%|██████▎   | 315/500 [01:45<01:01,  2.99it/s]"
     ]
    },
    {
     "name": "stdout",
     "output_type": "stream",
     "text": [
      "Carlos\n"
     ]
    },
    {
     "name": "stderr",
     "output_type": "stream",
     "text": [
      "\r",
      " 63%|██████▎   | 316/500 [01:46<01:02,  2.97it/s]"
     ]
    },
    {
     "name": "stdout",
     "output_type": "stream",
     "text": [
      "Noemi\n"
     ]
    },
    {
     "name": "stderr",
     "output_type": "stream",
     "text": [
      "\r",
      " 63%|██████▎   | 317/500 [01:46<01:00,  3.01it/s]"
     ]
    },
    {
     "name": "stdout",
     "output_type": "stream",
     "text": [
      "Elizabeth\n"
     ]
    },
    {
     "name": "stderr",
     "output_type": "stream",
     "text": [
      "\r",
      " 64%|██████▎   | 318/500 [01:46<01:00,  3.01it/s]"
     ]
    },
    {
     "name": "stdout",
     "output_type": "stream",
     "text": [
      "Ivan\n"
     ]
    },
    {
     "name": "stderr",
     "output_type": "stream",
     "text": [
      "\r",
      " 64%|██████▍   | 319/500 [01:47<01:01,  2.94it/s]"
     ]
    },
    {
     "name": "stdout",
     "output_type": "stream",
     "text": [
      "Alberto\n"
     ]
    },
    {
     "name": "stderr",
     "output_type": "stream",
     "text": [
      "\r",
      " 64%|██████▍   | 320/500 [01:47<01:00,  2.98it/s]"
     ]
    },
    {
     "name": "stdout",
     "output_type": "stream",
     "text": [
      "Ricardo\n"
     ]
    },
    {
     "name": "stderr",
     "output_type": "stream",
     "text": [
      "\r",
      " 64%|██████▍   | 321/500 [01:47<00:59,  2.99it/s]"
     ]
    },
    {
     "name": "stdout",
     "output_type": "stream",
     "text": [
      "Francisco\n"
     ]
    },
    {
     "name": "stderr",
     "output_type": "stream",
     "text": [
      "\r",
      " 64%|██████▍   | 322/500 [01:48<00:59,  3.01it/s]"
     ]
    },
    {
     "name": "stdout",
     "output_type": "stream",
     "text": [
      "Eugenia\n"
     ]
    },
    {
     "name": "stderr",
     "output_type": "stream",
     "text": [
      "\r",
      " 65%|██████▍   | 323/500 [01:48<00:58,  3.04it/s]"
     ]
    },
    {
     "name": "stdout",
     "output_type": "stream",
     "text": [
      "Oswelia\n"
     ]
    },
    {
     "name": "stderr",
     "output_type": "stream",
     "text": [
      "\r",
      " 65%|██████▍   | 324/500 [01:48<00:58,  3.02it/s]"
     ]
    },
    {
     "name": "stdout",
     "output_type": "stream",
     "text": [
      "Alfredo\n"
     ]
    },
    {
     "name": "stderr",
     "output_type": "stream",
     "text": [
      "\r",
      " 65%|██████▌   | 325/500 [01:49<00:57,  3.06it/s]"
     ]
    },
    {
     "name": "stdout",
     "output_type": "stream",
     "text": [
      "Beatriz\n"
     ]
    },
    {
     "name": "stderr",
     "output_type": "stream",
     "text": [
      "\r",
      " 65%|██████▌   | 326/500 [01:49<00:56,  3.06it/s]"
     ]
    },
    {
     "name": "stdout",
     "output_type": "stream",
     "text": [
      "Damian\n"
     ]
    },
    {
     "name": "stderr",
     "output_type": "stream",
     "text": [
      "\r",
      " 65%|██████▌   | 327/500 [01:49<00:56,  3.04it/s]"
     ]
    },
    {
     "name": "stdout",
     "output_type": "stream",
     "text": [
      "Elena\n"
     ]
    },
    {
     "name": "stderr",
     "output_type": "stream",
     "text": [
      "\r",
      " 66%|██████▌   | 328/500 [01:50<00:56,  3.02it/s]"
     ]
    },
    {
     "name": "stdout",
     "output_type": "stream",
     "text": [
      "Aleida\n"
     ]
    },
    {
     "name": "stderr",
     "output_type": "stream",
     "text": [
      "\r",
      " 66%|██████▌   | 329/500 [01:50<00:55,  3.07it/s]"
     ]
    },
    {
     "name": "stdout",
     "output_type": "stream",
     "text": [
      "Edilberto\n"
     ]
    },
    {
     "name": "stderr",
     "output_type": "stream",
     "text": [
      "\r",
      " 66%|██████▌   | 330/500 [01:50<00:57,  2.96it/s]"
     ]
    },
    {
     "name": "stdout",
     "output_type": "stream",
     "text": [
      "Miguel\n"
     ]
    },
    {
     "name": "stderr",
     "output_type": "stream",
     "text": [
      "\r",
      " 66%|██████▌   | 331/500 [01:51<00:56,  3.01it/s]"
     ]
    },
    {
     "name": "stdout",
     "output_type": "stream",
     "text": [
      "Lourdes\n"
     ]
    },
    {
     "name": "stderr",
     "output_type": "stream",
     "text": [
      "\r",
      " 66%|██████▋   | 332/500 [01:51<00:55,  3.05it/s]"
     ]
    },
    {
     "name": "stdout",
     "output_type": "stream",
     "text": [
      "Carol\n"
     ]
    },
    {
     "name": "stderr",
     "output_type": "stream",
     "text": [
      "\r",
      " 67%|██████▋   | 333/500 [01:51<00:54,  3.07it/s]"
     ]
    },
    {
     "name": "stdout",
     "output_type": "stream",
     "text": [
      "Manuel\n"
     ]
    },
    {
     "name": "stderr",
     "output_type": "stream",
     "text": [
      "\r",
      " 67%|██████▋   | 334/500 [01:52<00:54,  3.04it/s]"
     ]
    },
    {
     "name": "stdout",
     "output_type": "stream",
     "text": [
      "Angel\n"
     ]
    },
    {
     "name": "stderr",
     "output_type": "stream",
     "text": [
      "\r",
      " 67%|██████▋   | 335/500 [01:52<00:53,  3.06it/s]"
     ]
    },
    {
     "name": "stdout",
     "output_type": "stream",
     "text": [
      "Agustin\n"
     ]
    },
    {
     "name": "stderr",
     "output_type": "stream",
     "text": [
      "\r",
      " 67%|██████▋   | 336/500 [01:52<00:55,  2.95it/s]"
     ]
    },
    {
     "name": "stdout",
     "output_type": "stream",
     "text": [
      "Mariana\n"
     ]
    },
    {
     "name": "stderr",
     "output_type": "stream",
     "text": [
      "\r",
      " 67%|██████▋   | 337/500 [01:53<00:54,  2.99it/s]"
     ]
    },
    {
     "name": "stdout",
     "output_type": "stream",
     "text": [
      "Gloria\n"
     ]
    },
    {
     "name": "stderr",
     "output_type": "stream",
     "text": [
      "\r",
      " 68%|██████▊   | 338/500 [01:53<00:54,  2.99it/s]"
     ]
    },
    {
     "name": "stdout",
     "output_type": "stream",
     "text": [
      "Manuel\n"
     ]
    },
    {
     "name": "stderr",
     "output_type": "stream",
     "text": [
      "\r",
      " 68%|██████▊   | 339/500 [01:53<00:55,  2.92it/s]"
     ]
    },
    {
     "name": "stdout",
     "output_type": "stream",
     "text": [
      "Jose\n"
     ]
    },
    {
     "name": "stderr",
     "output_type": "stream",
     "text": [
      "\r",
      " 68%|██████▊   | 340/500 [01:54<00:54,  2.94it/s]"
     ]
    },
    {
     "name": "stdout",
     "output_type": "stream",
     "text": [
      "Fernando\n"
     ]
    },
    {
     "name": "stderr",
     "output_type": "stream",
     "text": [
      "\r",
      " 68%|██████▊   | 341/500 [01:54<01:05,  2.44it/s]"
     ]
    },
    {
     "name": "stdout",
     "output_type": "stream",
     "text": [
      "Elizabeth\n"
     ]
    },
    {
     "name": "stderr",
     "output_type": "stream",
     "text": [
      "\r",
      " 68%|██████▊   | 342/500 [01:55<01:14,  2.11it/s]"
     ]
    },
    {
     "name": "stdout",
     "output_type": "stream",
     "text": [
      "Juana\n"
     ]
    },
    {
     "name": "stderr",
     "output_type": "stream",
     "text": [
      "\r",
      " 69%|██████▊   | 343/500 [01:56<01:25,  1.84it/s]"
     ]
    },
    {
     "name": "stdout",
     "output_type": "stream",
     "text": [
      "Jesus\n"
     ]
    },
    {
     "name": "stderr",
     "output_type": "stream",
     "text": [
      "\r",
      " 69%|██████▉   | 344/500 [01:56<01:28,  1.75it/s]"
     ]
    },
    {
     "name": "stdout",
     "output_type": "stream",
     "text": [
      "Tomas\n"
     ]
    },
    {
     "name": "stderr",
     "output_type": "stream",
     "text": [
      "\r",
      " 69%|██████▉   | 345/500 [01:57<01:35,  1.63it/s]"
     ]
    },
    {
     "name": "stdout",
     "output_type": "stream",
     "text": [
      "Purificacion\n"
     ]
    },
    {
     "name": "stderr",
     "output_type": "stream",
     "text": [
      "\r",
      " 69%|██████▉   | 346/500 [01:57<01:22,  1.87it/s]"
     ]
    },
    {
     "name": "stdout",
     "output_type": "stream",
     "text": [
      "Miguel\n"
     ]
    },
    {
     "name": "stderr",
     "output_type": "stream",
     "text": [
      "\r",
      " 69%|██████▉   | 347/500 [01:58<01:12,  2.11it/s]"
     ]
    },
    {
     "name": "stdout",
     "output_type": "stream",
     "text": [
      "Angel\n"
     ]
    },
    {
     "name": "stderr",
     "output_type": "stream",
     "text": [
      "\r",
      " 70%|██████▉   | 348/500 [01:58<01:05,  2.32it/s]"
     ]
    },
    {
     "name": "stdout",
     "output_type": "stream",
     "text": [
      "Socorro\n"
     ]
    },
    {
     "name": "stderr",
     "output_type": "stream",
     "text": [
      "\r",
      " 70%|██████▉   | 349/500 [01:58<01:00,  2.49it/s]"
     ]
    },
    {
     "name": "stdout",
     "output_type": "stream",
     "text": [
      "Armando\n"
     ]
    },
    {
     "name": "stderr",
     "output_type": "stream",
     "text": [
      "\r",
      " 70%|███████   | 350/500 [01:59<00:57,  2.59it/s]"
     ]
    },
    {
     "name": "stdout",
     "output_type": "stream",
     "text": [
      "Angeles\n"
     ]
    },
    {
     "name": "stderr",
     "output_type": "stream",
     "text": [
      "\r",
      " 70%|███████   | 351/500 [01:59<00:55,  2.70it/s]"
     ]
    },
    {
     "name": "stdout",
     "output_type": "stream",
     "text": [
      "Rodrigo\n"
     ]
    },
    {
     "name": "stderr",
     "output_type": "stream",
     "text": [
      "\r",
      " 70%|███████   | 352/500 [01:59<00:52,  2.80it/s]"
     ]
    },
    {
     "name": "stdout",
     "output_type": "stream",
     "text": [
      "Arturo\n"
     ]
    },
    {
     "name": "stderr",
     "output_type": "stream",
     "text": [
      "\r",
      " 71%|███████   | 353/500 [02:00<00:51,  2.83it/s]"
     ]
    },
    {
     "name": "stdout",
     "output_type": "stream",
     "text": [
      "Fernando\n"
     ]
    },
    {
     "name": "stderr",
     "output_type": "stream",
     "text": [
      "\r",
      " 71%|███████   | 354/500 [02:00<00:49,  2.93it/s]"
     ]
    },
    {
     "name": "stdout",
     "output_type": "stream",
     "text": [
      "Alejandro\n"
     ]
    },
    {
     "name": "stderr",
     "output_type": "stream",
     "text": [
      "\r",
      " 71%|███████   | 355/500 [02:00<00:48,  2.98it/s]"
     ]
    },
    {
     "name": "stdout",
     "output_type": "stream",
     "text": [
      "Carlos\n"
     ]
    },
    {
     "name": "stderr",
     "output_type": "stream",
     "text": [
      "\r",
      " 71%|███████   | 356/500 [02:01<00:47,  3.03it/s]"
     ]
    },
    {
     "name": "stdout",
     "output_type": "stream",
     "text": [
      "Federico\n"
     ]
    },
    {
     "name": "stderr",
     "output_type": "stream",
     "text": [
      "\r",
      " 71%|███████▏  | 357/500 [02:01<00:47,  3.03it/s]"
     ]
    },
    {
     "name": "stdout",
     "output_type": "stream",
     "text": [
      "Amalia\n"
     ]
    },
    {
     "name": "stderr",
     "output_type": "stream",
     "text": [
      "\r",
      " 72%|███████▏  | 358/500 [02:01<00:47,  2.99it/s]"
     ]
    },
    {
     "name": "stdout",
     "output_type": "stream",
     "text": [
      "Eva\n"
     ]
    },
    {
     "name": "stderr",
     "output_type": "stream",
     "text": [
      "\r",
      " 72%|███████▏  | 359/500 [02:02<00:48,  2.90it/s]"
     ]
    },
    {
     "name": "stdout",
     "output_type": "stream",
     "text": [
      "Silvano\n"
     ]
    },
    {
     "name": "stderr",
     "output_type": "stream",
     "text": [
      "\r",
      " 72%|███████▏  | 360/500 [02:02<00:47,  2.92it/s]"
     ]
    },
    {
     "name": "stdout",
     "output_type": "stream",
     "text": [
      "Catalino\n"
     ]
    },
    {
     "name": "stderr",
     "output_type": "stream",
     "text": [
      "\r",
      " 72%|███████▏  | 361/500 [02:02<00:49,  2.82it/s]"
     ]
    },
    {
     "name": "stdout",
     "output_type": "stream",
     "text": [
      "Xariel\n"
     ]
    },
    {
     "name": "stderr",
     "output_type": "stream",
     "text": [
      "\r",
      " 72%|███████▏  | 362/500 [02:03<00:48,  2.87it/s]"
     ]
    },
    {
     "name": "stdout",
     "output_type": "stream",
     "text": [
      "Luis\n"
     ]
    },
    {
     "name": "stderr",
     "output_type": "stream",
     "text": [
      "\r",
      " 73%|███████▎  | 363/500 [02:03<00:46,  2.92it/s]"
     ]
    },
    {
     "name": "stdout",
     "output_type": "stream",
     "text": [
      "Uriel\n"
     ]
    },
    {
     "name": "stderr",
     "output_type": "stream",
     "text": [
      "\r",
      " 73%|███████▎  | 364/500 [02:03<00:45,  2.99it/s]"
     ]
    },
    {
     "name": "stdout",
     "output_type": "stream",
     "text": [
      "Socorro\n"
     ]
    },
    {
     "name": "stderr",
     "output_type": "stream",
     "text": [
      "\r",
      " 73%|███████▎  | 365/500 [02:04<00:44,  3.03it/s]"
     ]
    },
    {
     "name": "stdout",
     "output_type": "stream",
     "text": [
      "Manuel\n"
     ]
    },
    {
     "name": "stderr",
     "output_type": "stream",
     "text": [
      "\r",
      " 73%|███████▎  | 366/500 [02:04<00:43,  3.07it/s]"
     ]
    },
    {
     "name": "stdout",
     "output_type": "stream",
     "text": [
      "Antonio\n"
     ]
    },
    {
     "name": "stderr",
     "output_type": "stream",
     "text": [
      "\r",
      " 73%|███████▎  | 367/500 [02:04<00:45,  2.92it/s]"
     ]
    },
    {
     "name": "stdout",
     "output_type": "stream",
     "text": [
      "Veronica\n"
     ]
    },
    {
     "name": "stderr",
     "output_type": "stream",
     "text": [
      "\r",
      " 74%|███████▎  | 368/500 [02:05<00:44,  2.94it/s]"
     ]
    },
    {
     "name": "stdout",
     "output_type": "stream",
     "text": [
      "Marcelo\n"
     ]
    },
    {
     "name": "stderr",
     "output_type": "stream",
     "text": [
      "\r",
      " 74%|███████▍  | 369/500 [02:05<00:44,  2.97it/s]"
     ]
    },
    {
     "name": "stdout",
     "output_type": "stream",
     "text": [
      "Valentin\n"
     ]
    },
    {
     "name": "stderr",
     "output_type": "stream",
     "text": [
      "\r",
      " 74%|███████▍  | 370/500 [02:05<00:44,  2.94it/s]"
     ]
    },
    {
     "name": "stdout",
     "output_type": "stream",
     "text": [
      "Eliana\n"
     ]
    },
    {
     "name": "stderr",
     "output_type": "stream",
     "text": [
      "\r",
      " 74%|███████▍  | 371/500 [02:06<00:43,  2.99it/s]"
     ]
    },
    {
     "name": "stdout",
     "output_type": "stream",
     "text": [
      "Elizabeth\n"
     ]
    },
    {
     "name": "stderr",
     "output_type": "stream",
     "text": [
      "\r",
      " 74%|███████▍  | 372/500 [02:06<00:42,  3.03it/s]"
     ]
    },
    {
     "name": "stdout",
     "output_type": "stream",
     "text": [
      "Jhonatan\n"
     ]
    },
    {
     "name": "stderr",
     "output_type": "stream",
     "text": [
      "\r",
      " 75%|███████▍  | 373/500 [02:06<00:41,  3.06it/s]"
     ]
    },
    {
     "name": "stdout",
     "output_type": "stream",
     "text": [
      "Hugo\n"
     ]
    },
    {
     "name": "stderr",
     "output_type": "stream",
     "text": [
      "\r",
      " 75%|███████▍  | 374/500 [02:07<00:41,  3.05it/s]"
     ]
    },
    {
     "name": "stdout",
     "output_type": "stream",
     "text": [
      "Beatriz\n"
     ]
    },
    {
     "name": "stderr",
     "output_type": "stream",
     "text": [
      "\r",
      " 75%|███████▌  | 375/500 [02:07<00:41,  3.04it/s]"
     ]
    },
    {
     "name": "stdout",
     "output_type": "stream",
     "text": [
      "Antonio\n"
     ]
    },
    {
     "name": "stderr",
     "output_type": "stream",
     "text": [
      "\r",
      " 75%|███████▌  | 376/500 [02:07<00:41,  3.02it/s]"
     ]
    },
    {
     "name": "stdout",
     "output_type": "stream",
     "text": [
      "Roberto\n"
     ]
    },
    {
     "name": "stderr",
     "output_type": "stream",
     "text": [
      "\r",
      " 75%|███████▌  | 377/500 [02:08<00:40,  3.06it/s]"
     ]
    },
    {
     "name": "stdout",
     "output_type": "stream",
     "text": [
      "Gabriel\n"
     ]
    },
    {
     "name": "stderr",
     "output_type": "stream",
     "text": [
      "\r",
      " 76%|███████▌  | 378/500 [02:08<00:40,  3.05it/s]"
     ]
    },
    {
     "name": "stdout",
     "output_type": "stream",
     "text": [
      "Roberto\n"
     ]
    },
    {
     "name": "stderr",
     "output_type": "stream",
     "text": [
      "\r",
      " 76%|███████▌  | 379/500 [02:08<00:39,  3.08it/s]"
     ]
    },
    {
     "name": "stdout",
     "output_type": "stream",
     "text": [
      "Roxana\n"
     ]
    },
    {
     "name": "stderr",
     "output_type": "stream",
     "text": [
      "\r",
      " 76%|███████▌  | 380/500 [02:09<00:38,  3.08it/s]"
     ]
    },
    {
     "name": "stdout",
     "output_type": "stream",
     "text": [
      "Rosendo\n"
     ]
    },
    {
     "name": "stderr",
     "output_type": "stream",
     "text": [
      "\r",
      " 76%|███████▌  | 381/500 [02:09<00:38,  3.06it/s]"
     ]
    },
    {
     "name": "stdout",
     "output_type": "stream",
     "text": [
      "Julisa\n"
     ]
    },
    {
     "name": "stderr",
     "output_type": "stream",
     "text": [
      "\r",
      " 76%|███████▋  | 382/500 [02:09<00:39,  3.02it/s]"
     ]
    },
    {
     "name": "stdout",
     "output_type": "stream",
     "text": [
      "Rocio\n"
     ]
    },
    {
     "name": "stderr",
     "output_type": "stream",
     "text": [
      "\r",
      " 77%|███████▋  | 383/500 [02:10<00:38,  3.04it/s]"
     ]
    },
    {
     "name": "stdout",
     "output_type": "stream",
     "text": [
      "Rafael\n"
     ]
    },
    {
     "name": "stderr",
     "output_type": "stream",
     "text": [
      "\r",
      " 77%|███████▋  | 384/500 [02:10<00:38,  3.02it/s]"
     ]
    },
    {
     "name": "stdout",
     "output_type": "stream",
     "text": [
      "Rosario\n"
     ]
    },
    {
     "name": "stderr",
     "output_type": "stream",
     "text": [
      "\r",
      " 77%|███████▋  | 385/500 [02:10<00:37,  3.03it/s]"
     ]
    },
    {
     "name": "stdout",
     "output_type": "stream",
     "text": [
      "Lucia\n"
     ]
    },
    {
     "name": "stderr",
     "output_type": "stream",
     "text": [
      "\r",
      " 77%|███████▋  | 386/500 [02:11<00:37,  3.07it/s]"
     ]
    },
    {
     "name": "stdout",
     "output_type": "stream",
     "text": [
      "Marino\n"
     ]
    },
    {
     "name": "stderr",
     "output_type": "stream",
     "text": [
      "\r",
      " 77%|███████▋  | 387/500 [02:11<00:37,  3.05it/s]"
     ]
    },
    {
     "name": "stdout",
     "output_type": "stream",
     "text": [
      "Guadalupe\n"
     ]
    },
    {
     "name": "stderr",
     "output_type": "stream",
     "text": [
      "\r",
      " 78%|███████▊  | 388/500 [02:11<00:36,  3.06it/s]"
     ]
    },
    {
     "name": "stdout",
     "output_type": "stream",
     "text": [
      "Jesus\n"
     ]
    },
    {
     "name": "stderr",
     "output_type": "stream",
     "text": [
      "\r",
      " 78%|███████▊  | 389/500 [02:12<00:36,  3.04it/s]"
     ]
    },
    {
     "name": "stdout",
     "output_type": "stream",
     "text": [
      "Ramon\n"
     ]
    },
    {
     "name": "stderr",
     "output_type": "stream",
     "text": [
      "\r",
      " 78%|███████▊  | 390/500 [02:12<00:35,  3.07it/s]"
     ]
    },
    {
     "name": "stdout",
     "output_type": "stream",
     "text": [
      "Silvano\n"
     ]
    },
    {
     "name": "stderr",
     "output_type": "stream",
     "text": [
      "\r",
      " 78%|███████▊  | 391/500 [02:12<00:35,  3.08it/s]"
     ]
    },
    {
     "name": "stdout",
     "output_type": "stream",
     "text": [
      "Augusto\n"
     ]
    },
    {
     "name": "stderr",
     "output_type": "stream",
     "text": [
      "\r",
      " 78%|███████▊  | 392/500 [02:13<00:35,  3.04it/s]"
     ]
    },
    {
     "name": "stdout",
     "output_type": "stream",
     "text": [
      "Secundino\n"
     ]
    },
    {
     "name": "stderr",
     "output_type": "stream",
     "text": [
      "\r",
      " 79%|███████▊  | 393/500 [02:13<00:34,  3.10it/s]"
     ]
    },
    {
     "name": "stdout",
     "output_type": "stream",
     "text": [
      "Cesar\n"
     ]
    },
    {
     "name": "stderr",
     "output_type": "stream",
     "text": [
      "\r",
      " 79%|███████▉  | 394/500 [02:13<00:34,  3.07it/s]"
     ]
    },
    {
     "name": "stdout",
     "output_type": "stream",
     "text": [
      "Luis\n"
     ]
    },
    {
     "name": "stderr",
     "output_type": "stream",
     "text": [
      "\r",
      " 79%|███████▉  | 395/500 [02:14<00:34,  3.07it/s]"
     ]
    },
    {
     "name": "stdout",
     "output_type": "stream",
     "text": [
      "Reymundo\n"
     ]
    },
    {
     "name": "stderr",
     "output_type": "stream",
     "text": [
      "\r",
      " 79%|███████▉  | 396/500 [02:14<00:33,  3.06it/s]"
     ]
    },
    {
     "name": "stdout",
     "output_type": "stream",
     "text": [
      "Gerardo\n"
     ]
    },
    {
     "name": "stderr",
     "output_type": "stream",
     "text": [
      "\r",
      " 79%|███████▉  | 397/500 [02:14<00:33,  3.03it/s]"
     ]
    },
    {
     "name": "stdout",
     "output_type": "stream",
     "text": [
      "Joaquina\n"
     ]
    },
    {
     "name": "stderr",
     "output_type": "stream",
     "text": [
      "\r",
      " 80%|███████▉  | 398/500 [02:15<00:33,  3.06it/s]"
     ]
    },
    {
     "name": "stdout",
     "output_type": "stream",
     "text": [
      "Yesenia\n"
     ]
    },
    {
     "name": "stderr",
     "output_type": "stream",
     "text": [
      "\r",
      " 80%|███████▉  | 399/500 [02:15<00:32,  3.10it/s]"
     ]
    },
    {
     "name": "stdout",
     "output_type": "stream",
     "text": [
      "Javier\n"
     ]
    },
    {
     "name": "stderr",
     "output_type": "stream",
     "text": [
      "\r",
      " 80%|████████  | 400/500 [02:15<00:32,  3.09it/s]"
     ]
    },
    {
     "name": "stdout",
     "output_type": "stream",
     "text": [
      "Javier\n"
     ]
    },
    {
     "name": "stderr",
     "output_type": "stream",
     "text": [
      "\r",
      " 80%|████████  | 401/500 [02:16<00:32,  3.09it/s]"
     ]
    },
    {
     "name": "stdout",
     "output_type": "stream",
     "text": [
      "Alejandro\n"
     ]
    },
    {
     "name": "stderr",
     "output_type": "stream",
     "text": [
      "\r",
      " 80%|████████  | 402/500 [02:16<00:31,  3.07it/s]"
     ]
    },
    {
     "name": "stdout",
     "output_type": "stream",
     "text": [
      "Pedro\n"
     ]
    },
    {
     "name": "stderr",
     "output_type": "stream",
     "text": [
      "\r",
      " 81%|████████  | 403/500 [02:16<00:31,  3.06it/s]"
     ]
    },
    {
     "name": "stdout",
     "output_type": "stream",
     "text": [
      "Vicario\n"
     ]
    },
    {
     "name": "stderr",
     "output_type": "stream",
     "text": [
      "\r",
      " 81%|████████  | 404/500 [02:17<00:31,  3.08it/s]"
     ]
    },
    {
     "name": "stdout",
     "output_type": "stream",
     "text": [
      "Domitilo\n"
     ]
    },
    {
     "name": "stderr",
     "output_type": "stream",
     "text": [
      "\r",
      " 81%|████████  | 405/500 [02:17<00:31,  3.04it/s]"
     ]
    },
    {
     "name": "stdout",
     "output_type": "stream",
     "text": [
      "Karen\n"
     ]
    },
    {
     "name": "stderr",
     "output_type": "stream",
     "text": [
      "\r",
      " 81%|████████  | 406/500 [02:17<00:30,  3.08it/s]"
     ]
    },
    {
     "name": "stdout",
     "output_type": "stream",
     "text": [
      "Carlos\n"
     ]
    },
    {
     "name": "stderr",
     "output_type": "stream",
     "text": [
      "\r",
      " 81%|████████▏ | 407/500 [02:17<00:30,  3.07it/s]"
     ]
    },
    {
     "name": "stdout",
     "output_type": "stream",
     "text": [
      "Guadalupe\n"
     ]
    },
    {
     "name": "stderr",
     "output_type": "stream",
     "text": [
      "\r",
      " 82%|████████▏ | 408/500 [02:18<00:29,  3.09it/s]"
     ]
    },
    {
     "name": "stdout",
     "output_type": "stream",
     "text": [
      "Tomas\n"
     ]
    },
    {
     "name": "stderr",
     "output_type": "stream",
     "text": [
      "\r",
      " 82%|████████▏ | 409/500 [02:18<00:30,  2.99it/s]"
     ]
    },
    {
     "name": "stdout",
     "output_type": "stream",
     "text": [
      "Gisela\n"
     ]
    },
    {
     "name": "stderr",
     "output_type": "stream",
     "text": [
      "\r",
      " 82%|████████▏ | 410/500 [02:18<00:29,  3.01it/s]"
     ]
    },
    {
     "name": "stdout",
     "output_type": "stream",
     "text": [
      "Eugenia\n"
     ]
    },
    {
     "name": "stderr",
     "output_type": "stream",
     "text": [
      "\r",
      " 82%|████████▏ | 411/500 [02:19<00:29,  3.04it/s]"
     ]
    },
    {
     "name": "stdout",
     "output_type": "stream",
     "text": [
      "Jessica\n"
     ]
    },
    {
     "name": "stderr",
     "output_type": "stream",
     "text": [
      "\r",
      " 82%|████████▏ | 412/500 [02:19<00:29,  2.98it/s]"
     ]
    },
    {
     "name": "stdout",
     "output_type": "stream",
     "text": [
      "Graciela\n"
     ]
    },
    {
     "name": "stderr",
     "output_type": "stream",
     "text": [
      "\r",
      " 83%|████████▎ | 413/500 [02:20<00:29,  2.97it/s]"
     ]
    },
    {
     "name": "stdout",
     "output_type": "stream",
     "text": [
      "Jorge\n"
     ]
    },
    {
     "name": "stderr",
     "output_type": "stream",
     "text": [
      "\r",
      " 83%|████████▎ | 414/500 [02:20<00:28,  3.01it/s]"
     ]
    },
    {
     "name": "stdout",
     "output_type": "stream",
     "text": [
      "Josefina\n"
     ]
    },
    {
     "name": "stderr",
     "output_type": "stream",
     "text": [
      "\r",
      " 83%|████████▎ | 415/500 [02:20<00:28,  2.96it/s]"
     ]
    },
    {
     "name": "stdout",
     "output_type": "stream",
     "text": [
      "Alejandro\n"
     ]
    },
    {
     "name": "stderr",
     "output_type": "stream",
     "text": [
      "\r",
      " 83%|████████▎ | 416/500 [02:21<00:28,  2.97it/s]"
     ]
    },
    {
     "name": "stdout",
     "output_type": "stream",
     "text": [
      "Israel\n"
     ]
    },
    {
     "name": "stderr",
     "output_type": "stream",
     "text": [
      "\r",
      " 83%|████████▎ | 417/500 [02:21<00:27,  2.99it/s]"
     ]
    },
    {
     "name": "stdout",
     "output_type": "stream",
     "text": [
      "Guillermo\n"
     ]
    },
    {
     "name": "stderr",
     "output_type": "stream",
     "text": [
      "\r",
      " 84%|████████▎ | 418/500 [02:21<00:27,  2.98it/s]"
     ]
    },
    {
     "name": "stdout",
     "output_type": "stream",
     "text": [
      "Antonio\n"
     ]
    },
    {
     "name": "stderr",
     "output_type": "stream",
     "text": [
      "\r",
      " 84%|████████▍ | 419/500 [02:22<00:27,  2.96it/s]"
     ]
    },
    {
     "name": "stdout",
     "output_type": "stream",
     "text": [
      "Rosendo\n"
     ]
    },
    {
     "name": "stderr",
     "output_type": "stream",
     "text": [
      "\r",
      " 84%|████████▍ | 420/500 [02:22<00:26,  2.97it/s]"
     ]
    },
    {
     "name": "stdout",
     "output_type": "stream",
     "text": [
      "Sebastian\n"
     ]
    },
    {
     "name": "stderr",
     "output_type": "stream",
     "text": [
      "\r",
      " 84%|████████▍ | 421/500 [02:22<00:26,  3.01it/s]"
     ]
    },
    {
     "name": "stdout",
     "output_type": "stream",
     "text": [
      "Elena\n"
     ]
    },
    {
     "name": "stderr",
     "output_type": "stream",
     "text": [
      "\r",
      " 84%|████████▍ | 422/500 [02:23<00:26,  2.98it/s]"
     ]
    },
    {
     "name": "stdout",
     "output_type": "stream",
     "text": [
      "Crystal\n"
     ]
    },
    {
     "name": "stderr",
     "output_type": "stream",
     "text": [
      "\r",
      " 85%|████████▍ | 423/500 [02:23<00:25,  3.05it/s]"
     ]
    },
    {
     "name": "stdout",
     "output_type": "stream",
     "text": [
      "Victor\n"
     ]
    },
    {
     "name": "stderr",
     "output_type": "stream",
     "text": [
      "\r",
      " 85%|████████▍ | 424/500 [02:23<00:24,  3.04it/s]"
     ]
    },
    {
     "name": "stdout",
     "output_type": "stream",
     "text": [
      "Iveth\n"
     ]
    },
    {
     "name": "stderr",
     "output_type": "stream",
     "text": [
      "\r",
      " 85%|████████▌ | 425/500 [02:24<00:24,  3.03it/s]"
     ]
    },
    {
     "name": "stdout",
     "output_type": "stream",
     "text": [
      "Humberto\n"
     ]
    },
    {
     "name": "stderr",
     "output_type": "stream",
     "text": [
      "\r",
      " 85%|████████▌ | 426/500 [02:24<00:24,  3.04it/s]"
     ]
    },
    {
     "name": "stdout",
     "output_type": "stream",
     "text": [
      "Ruben\n"
     ]
    },
    {
     "name": "stderr",
     "output_type": "stream",
     "text": [
      "\r",
      " 85%|████████▌ | 427/500 [02:24<00:23,  3.07it/s]"
     ]
    },
    {
     "name": "stdout",
     "output_type": "stream",
     "text": [
      "Ricardo\n"
     ]
    },
    {
     "name": "stderr",
     "output_type": "stream",
     "text": [
      "\r",
      " 86%|████████▌ | 428/500 [02:24<00:23,  3.09it/s]"
     ]
    },
    {
     "name": "stdout",
     "output_type": "stream",
     "text": [
      "Enrique\n"
     ]
    },
    {
     "name": "stderr",
     "output_type": "stream",
     "text": [
      "\r",
      " 86%|████████▌ | 429/500 [02:25<00:23,  3.05it/s]"
     ]
    },
    {
     "name": "stdout",
     "output_type": "stream",
     "text": [
      "Arturo\n"
     ]
    },
    {
     "name": "stderr",
     "output_type": "stream",
     "text": [
      "\r",
      " 86%|████████▌ | 430/500 [02:25<00:22,  3.06it/s]"
     ]
    },
    {
     "name": "stdout",
     "output_type": "stream",
     "text": [
      "Raciel\n"
     ]
    },
    {
     "name": "stderr",
     "output_type": "stream",
     "text": [
      "\r",
      " 86%|████████▌ | 431/500 [02:25<00:22,  3.08it/s]"
     ]
    },
    {
     "name": "stdout",
     "output_type": "stream",
     "text": [
      "Antonio\n"
     ]
    },
    {
     "name": "stderr",
     "output_type": "stream",
     "text": [
      "\r",
      " 86%|████████▋ | 432/500 [02:26<00:22,  3.07it/s]"
     ]
    },
    {
     "name": "stdout",
     "output_type": "stream",
     "text": [
      "Arturo\n"
     ]
    },
    {
     "name": "stderr",
     "output_type": "stream",
     "text": [
      "\r",
      " 87%|████████▋ | 433/500 [02:26<00:21,  3.07it/s]"
     ]
    },
    {
     "name": "stdout",
     "output_type": "stream",
     "text": [
      "Monica\n"
     ]
    },
    {
     "name": "stderr",
     "output_type": "stream",
     "text": [
      "\r",
      " 87%|████████▋ | 434/500 [02:26<00:22,  2.92it/s]"
     ]
    },
    {
     "name": "stdout",
     "output_type": "stream",
     "text": [
      "Lilia\n"
     ]
    },
    {
     "name": "stderr",
     "output_type": "stream",
     "text": [
      "\r",
      " 87%|████████▋ | 435/500 [02:27<00:22,  2.95it/s]"
     ]
    },
    {
     "name": "stdout",
     "output_type": "stream",
     "text": [
      "Jose\n"
     ]
    },
    {
     "name": "stderr",
     "output_type": "stream",
     "text": [
      "\r",
      " 87%|████████▋ | 436/500 [02:27<00:21,  2.95it/s]"
     ]
    },
    {
     "name": "stdout",
     "output_type": "stream",
     "text": [
      "Adriana\n"
     ]
    },
    {
     "name": "stderr",
     "output_type": "stream",
     "text": [
      "\r",
      " 87%|████████▋ | 437/500 [02:27<00:21,  2.96it/s]"
     ]
    },
    {
     "name": "stdout",
     "output_type": "stream",
     "text": [
      "Ximena\n"
     ]
    },
    {
     "name": "stderr",
     "output_type": "stream",
     "text": [
      "\r",
      " 88%|████████▊ | 438/500 [02:28<00:20,  2.98it/s]"
     ]
    },
    {
     "name": "stdout",
     "output_type": "stream",
     "text": [
      "Gabriela\n"
     ]
    },
    {
     "name": "stderr",
     "output_type": "stream",
     "text": [
      "\r",
      " 88%|████████▊ | 439/500 [02:28<00:20,  3.02it/s]"
     ]
    },
    {
     "name": "stdout",
     "output_type": "stream",
     "text": [
      "Hector\n"
     ]
    },
    {
     "name": "stderr",
     "output_type": "stream",
     "text": [
      "\r",
      " 88%|████████▊ | 440/500 [02:28<00:19,  3.02it/s]"
     ]
    },
    {
     "name": "stdout",
     "output_type": "stream",
     "text": [
      "Ernesto\n"
     ]
    },
    {
     "name": "stderr",
     "output_type": "stream",
     "text": [
      "\r",
      " 88%|████████▊ | 441/500 [02:29<00:19,  2.99it/s]"
     ]
    },
    {
     "name": "stdout",
     "output_type": "stream",
     "text": [
      "Nabor\n"
     ]
    },
    {
     "name": "stderr",
     "output_type": "stream",
     "text": [
      "\r",
      " 88%|████████▊ | 442/500 [02:29<00:19,  2.94it/s]"
     ]
    },
    {
     "name": "stdout",
     "output_type": "stream",
     "text": [
      "Javier\n"
     ]
    },
    {
     "name": "stderr",
     "output_type": "stream",
     "text": [
      "\r",
      " 89%|████████▊ | 443/500 [02:29<00:19,  3.00it/s]"
     ]
    },
    {
     "name": "stdout",
     "output_type": "stream",
     "text": [
      "Alicia\n"
     ]
    },
    {
     "name": "stderr",
     "output_type": "stream",
     "text": [
      "\r",
      " 89%|████████▉ | 444/500 [02:30<00:18,  2.99it/s]"
     ]
    },
    {
     "name": "stdout",
     "output_type": "stream",
     "text": [
      "Fatima\n"
     ]
    },
    {
     "name": "stderr",
     "output_type": "stream",
     "text": [
      "\r",
      " 89%|████████▉ | 445/500 [02:30<00:17,  3.06it/s]"
     ]
    },
    {
     "name": "stdout",
     "output_type": "stream",
     "text": [
      "Elba\n"
     ]
    },
    {
     "name": "stderr",
     "output_type": "stream",
     "text": [
      "\r",
      " 89%|████████▉ | 446/500 [02:30<00:17,  3.03it/s]"
     ]
    },
    {
     "name": "stdout",
     "output_type": "stream",
     "text": [
      "David\n"
     ]
    },
    {
     "name": "stderr",
     "output_type": "stream",
     "text": [
      "\r",
      " 89%|████████▉ | 447/500 [02:31<00:17,  3.06it/s]"
     ]
    },
    {
     "name": "stdout",
     "output_type": "stream",
     "text": [
      "Eduardo\n"
     ]
    },
    {
     "name": "stderr",
     "output_type": "stream",
     "text": [
      "\r",
      " 90%|████████▉ | 448/500 [02:31<00:16,  3.10it/s]"
     ]
    },
    {
     "name": "stdout",
     "output_type": "stream",
     "text": [
      "Gabriela\n"
     ]
    },
    {
     "name": "stderr",
     "output_type": "stream",
     "text": [
      "\r",
      " 90%|████████▉ | 449/500 [02:31<00:16,  3.10it/s]"
     ]
    },
    {
     "name": "stdout",
     "output_type": "stream",
     "text": [
      "Tomas\n"
     ]
    },
    {
     "name": "stderr",
     "output_type": "stream",
     "text": [
      "\r",
      " 90%|█████████ | 450/500 [02:32<00:16,  3.02it/s]"
     ]
    },
    {
     "name": "stdout",
     "output_type": "stream",
     "text": [
      "Augusto\n"
     ]
    },
    {
     "name": "stderr",
     "output_type": "stream",
     "text": [
      "\r",
      " 90%|█████████ | 451/500 [02:32<00:16,  3.01it/s]"
     ]
    },
    {
     "name": "stdout",
     "output_type": "stream",
     "text": [
      "Edith\n"
     ]
    },
    {
     "name": "stderr",
     "output_type": "stream",
     "text": [
      "\r",
      " 90%|█████████ | 452/500 [02:32<00:16,  3.00it/s]"
     ]
    },
    {
     "name": "stdout",
     "output_type": "stream",
     "text": [
      "Ruth\n"
     ]
    },
    {
     "name": "stderr",
     "output_type": "stream",
     "text": [
      "\r",
      " 91%|█████████ | 453/500 [02:33<00:15,  3.01it/s]"
     ]
    },
    {
     "name": "stdout",
     "output_type": "stream",
     "text": [
      "Beatriz\n"
     ]
    },
    {
     "name": "stderr",
     "output_type": "stream",
     "text": [
      "\r",
      " 91%|█████████ | 454/500 [02:33<00:15,  3.04it/s]"
     ]
    },
    {
     "name": "stdout",
     "output_type": "stream",
     "text": [
      "Francisco\n"
     ]
    },
    {
     "name": "stderr",
     "output_type": "stream",
     "text": [
      "\r",
      " 91%|█████████ | 455/500 [02:33<00:14,  3.07it/s]"
     ]
    },
    {
     "name": "stdout",
     "output_type": "stream",
     "text": [
      "Merilyn\n"
     ]
    },
    {
     "name": "stderr",
     "output_type": "stream",
     "text": [
      "\r",
      " 91%|█████████ | 456/500 [02:34<00:14,  3.01it/s]"
     ]
    },
    {
     "name": "stdout",
     "output_type": "stream",
     "text": [
      "Ricardo\n"
     ]
    },
    {
     "name": "stderr",
     "output_type": "stream",
     "text": [
      "\r",
      " 91%|█████████▏| 457/500 [02:34<00:14,  3.01it/s]"
     ]
    },
    {
     "name": "stdout",
     "output_type": "stream",
     "text": [
      "Zuleyma\n"
     ]
    },
    {
     "name": "stderr",
     "output_type": "stream",
     "text": [
      "\r",
      " 92%|█████████▏| 458/500 [02:34<00:13,  3.05it/s]"
     ]
    },
    {
     "name": "stdout",
     "output_type": "stream",
     "text": [
      "Antonio\n"
     ]
    },
    {
     "name": "stderr",
     "output_type": "stream",
     "text": [
      "\r",
      " 92%|█████████▏| 459/500 [02:35<00:13,  3.03it/s]"
     ]
    },
    {
     "name": "stdout",
     "output_type": "stream",
     "text": [
      "Manuel\n"
     ]
    },
    {
     "name": "stderr",
     "output_type": "stream",
     "text": [
      "\r",
      " 92%|█████████▏| 460/500 [02:35<00:13,  3.06it/s]"
     ]
    },
    {
     "name": "stdout",
     "output_type": "stream",
     "text": [
      "Ignacio\n"
     ]
    },
    {
     "name": "stderr",
     "output_type": "stream",
     "text": [
      "\r",
      " 92%|█████████▏| 461/500 [02:35<00:12,  3.10it/s]"
     ]
    },
    {
     "name": "stdout",
     "output_type": "stream",
     "text": [
      "Jose\n"
     ]
    },
    {
     "name": "stderr",
     "output_type": "stream",
     "text": [
      "\r",
      " 92%|█████████▏| 462/500 [02:36<00:12,  3.10it/s]"
     ]
    },
    {
     "name": "stdout",
     "output_type": "stream",
     "text": [
      "Fabiola\n"
     ]
    },
    {
     "name": "stderr",
     "output_type": "stream",
     "text": [
      "\r",
      " 93%|█████████▎| 463/500 [02:36<00:11,  3.12it/s]"
     ]
    },
    {
     "name": "stdout",
     "output_type": "stream",
     "text": [
      "Luis\n"
     ]
    },
    {
     "name": "stderr",
     "output_type": "stream",
     "text": [
      "\r",
      " 93%|█████████▎| 464/500 [02:36<00:11,  3.13it/s]"
     ]
    },
    {
     "name": "stdout",
     "output_type": "stream",
     "text": [
      "Carmen\n"
     ]
    },
    {
     "name": "stderr",
     "output_type": "stream",
     "text": [
      "\r",
      " 93%|█████████▎| 465/500 [02:37<00:11,  3.05it/s]"
     ]
    },
    {
     "name": "stdout",
     "output_type": "stream",
     "text": [
      "Lilia\n"
     ]
    },
    {
     "name": "stderr",
     "output_type": "stream",
     "text": [
      "\r",
      " 93%|█████████▎| 466/500 [02:37<00:11,  3.03it/s]"
     ]
    },
    {
     "name": "stdout",
     "output_type": "stream",
     "text": [
      "Alberto\n"
     ]
    },
    {
     "name": "stderr",
     "output_type": "stream",
     "text": [
      "\r",
      " 93%|█████████▎| 467/500 [02:37<00:10,  3.07it/s]"
     ]
    },
    {
     "name": "stdout",
     "output_type": "stream",
     "text": [
      "Alberto\n"
     ]
    },
    {
     "name": "stderr",
     "output_type": "stream",
     "text": [
      "\r",
      " 94%|█████████▎| 468/500 [02:38<00:10,  3.04it/s]"
     ]
    },
    {
     "name": "stdout",
     "output_type": "stream",
     "text": [
      "Ricardo\n"
     ]
    },
    {
     "name": "stderr",
     "output_type": "stream",
     "text": [
      "\r",
      " 94%|█████████▍| 469/500 [02:38<00:10,  3.06it/s]"
     ]
    },
    {
     "name": "stdout",
     "output_type": "stream",
     "text": [
      "Ricardo\n"
     ]
    },
    {
     "name": "stderr",
     "output_type": "stream",
     "text": [
      "\r",
      " 94%|█████████▍| 470/500 [02:38<00:09,  3.05it/s]"
     ]
    },
    {
     "name": "stdout",
     "output_type": "stream",
     "text": [
      "Carmen\n"
     ]
    },
    {
     "name": "stderr",
     "output_type": "stream",
     "text": [
      "\r",
      " 94%|█████████▍| 471/500 [02:39<00:09,  3.08it/s]"
     ]
    },
    {
     "name": "stdout",
     "output_type": "stream",
     "text": [
      "Socorro\n"
     ]
    },
    {
     "name": "stderr",
     "output_type": "stream",
     "text": [
      "\r",
      " 94%|█████████▍| 472/500 [02:39<00:09,  3.04it/s]"
     ]
    },
    {
     "name": "stdout",
     "output_type": "stream",
     "text": [
      "Adolfo\n"
     ]
    },
    {
     "name": "stderr",
     "output_type": "stream",
     "text": [
      "\r",
      " 95%|█████████▍| 473/500 [02:39<00:09,  2.98it/s]"
     ]
    },
    {
     "name": "stdout",
     "output_type": "stream",
     "text": [
      "Hugo\n"
     ]
    },
    {
     "name": "stderr",
     "output_type": "stream",
     "text": [
      "\r",
      " 95%|█████████▍| 474/500 [02:40<00:08,  3.01it/s]"
     ]
    },
    {
     "name": "stdout",
     "output_type": "stream",
     "text": [
      "Elia\n"
     ]
    },
    {
     "name": "stderr",
     "output_type": "stream",
     "text": [
      "\r",
      " 95%|█████████▌| 475/500 [02:40<00:08,  3.02it/s]"
     ]
    },
    {
     "name": "stdout",
     "output_type": "stream",
     "text": [
      "Araceli\n"
     ]
    },
    {
     "name": "stderr",
     "output_type": "stream",
     "text": [
      "\r",
      " 95%|█████████▌| 476/500 [02:40<00:07,  3.04it/s]"
     ]
    },
    {
     "name": "stdout",
     "output_type": "stream",
     "text": [
      "Fernando\n"
     ]
    },
    {
     "name": "stderr",
     "output_type": "stream",
     "text": [
      "\r",
      " 95%|█████████▌| 477/500 [02:41<00:07,  3.03it/s]"
     ]
    },
    {
     "name": "stdout",
     "output_type": "stream",
     "text": [
      "Angelino\n"
     ]
    },
    {
     "name": "stderr",
     "output_type": "stream",
     "text": [
      "\r",
      " 96%|█████████▌| 478/500 [02:41<00:07,  3.05it/s]"
     ]
    },
    {
     "name": "stdout",
     "output_type": "stream",
     "text": [
      "Sanjuana\n"
     ]
    },
    {
     "name": "stderr",
     "output_type": "stream",
     "text": [
      "\r",
      " 96%|█████████▌| 479/500 [02:41<00:06,  3.03it/s]"
     ]
    },
    {
     "name": "stdout",
     "output_type": "stream",
     "text": [
      "Benjamin\n"
     ]
    },
    {
     "name": "stderr",
     "output_type": "stream",
     "text": [
      "\r",
      " 96%|█████████▌| 480/500 [02:42<00:06,  3.05it/s]"
     ]
    },
    {
     "name": "stdout",
     "output_type": "stream",
     "text": [
      "Ricardo\n"
     ]
    },
    {
     "name": "stderr",
     "output_type": "stream",
     "text": [
      "\r",
      " 96%|█████████▌| 481/500 [02:42<00:06,  3.03it/s]"
     ]
    },
    {
     "name": "stdout",
     "output_type": "stream",
     "text": [
      "Lucila\n"
     ]
    },
    {
     "name": "stderr",
     "output_type": "stream",
     "text": [
      "\r",
      " 96%|█████████▋| 482/500 [02:42<00:05,  3.00it/s]"
     ]
    },
    {
     "name": "stdout",
     "output_type": "stream",
     "text": [
      "Antonio\n"
     ]
    },
    {
     "name": "stderr",
     "output_type": "stream",
     "text": [
      "\r",
      " 97%|█████████▋| 483/500 [02:43<00:05,  3.03it/s]"
     ]
    },
    {
     "name": "stdout",
     "output_type": "stream",
     "text": [
      "Cristina\n"
     ]
    },
    {
     "name": "stderr",
     "output_type": "stream",
     "text": [
      "\r",
      " 97%|█████████▋| 484/500 [02:43<00:05,  3.01it/s]"
     ]
    },
    {
     "name": "stdout",
     "output_type": "stream",
     "text": [
      "Sonia\n"
     ]
    },
    {
     "name": "stderr",
     "output_type": "stream",
     "text": [
      "\r",
      " 97%|█████████▋| 485/500 [02:43<00:04,  3.06it/s]"
     ]
    },
    {
     "name": "stdout",
     "output_type": "stream",
     "text": [
      "Guadalupe\n"
     ]
    },
    {
     "name": "stderr",
     "output_type": "stream",
     "text": [
      "\r",
      " 97%|█████████▋| 486/500 [02:44<00:04,  3.05it/s]"
     ]
    },
    {
     "name": "stdout",
     "output_type": "stream",
     "text": [
      "Maria\n"
     ]
    },
    {
     "name": "stderr",
     "output_type": "stream",
     "text": [
      "\r",
      " 97%|█████████▋| 487/500 [02:44<00:04,  3.06it/s]"
     ]
    },
    {
     "name": "stdout",
     "output_type": "stream",
     "text": [
      "Marti\n"
     ]
    },
    {
     "name": "stderr",
     "output_type": "stream",
     "text": [
      "\r",
      " 98%|█████████▊| 488/500 [02:44<00:03,  3.02it/s]"
     ]
    },
    {
     "name": "stdout",
     "output_type": "stream",
     "text": [
      "Alfonso\n"
     ]
    },
    {
     "name": "stderr",
     "output_type": "stream",
     "text": [
      "\r",
      " 98%|█████████▊| 489/500 [02:45<00:03,  3.02it/s]"
     ]
    },
    {
     "name": "stdout",
     "output_type": "stream",
     "text": [
      "Rafael\n"
     ]
    },
    {
     "name": "stderr",
     "output_type": "stream",
     "text": [
      "\r",
      " 98%|█████████▊| 490/500 [02:45<00:03,  3.08it/s]"
     ]
    },
    {
     "name": "stdout",
     "output_type": "stream",
     "text": [
      "Arturo\n"
     ]
    },
    {
     "name": "stderr",
     "output_type": "stream",
     "text": [
      "\r",
      " 98%|█████████▊| 491/500 [02:45<00:02,  3.01it/s]"
     ]
    },
    {
     "name": "stdout",
     "output_type": "stream",
     "text": [
      "Jaime\n"
     ]
    },
    {
     "name": "stderr",
     "output_type": "stream",
     "text": [
      "\r",
      " 98%|█████████▊| 492/500 [02:46<00:02,  2.98it/s]"
     ]
    },
    {
     "name": "stdout",
     "output_type": "stream",
     "text": [
      "Luis\n"
     ]
    },
    {
     "name": "stderr",
     "output_type": "stream",
     "text": [
      "\r",
      " 99%|█████████▊| 493/500 [02:46<00:02,  2.92it/s]"
     ]
    },
    {
     "name": "stdout",
     "output_type": "stream",
     "text": [
      "Eloy\n"
     ]
    },
    {
     "name": "stderr",
     "output_type": "stream",
     "text": [
      "\r",
      " 99%|█████████▉| 494/500 [02:46<00:02,  2.83it/s]"
     ]
    },
    {
     "name": "stdout",
     "output_type": "stream",
     "text": [
      "Lorena\n"
     ]
    },
    {
     "name": "stderr",
     "output_type": "stream",
     "text": [
      "\r",
      " 99%|█████████▉| 495/500 [02:47<00:01,  2.87it/s]"
     ]
    },
    {
     "name": "stdout",
     "output_type": "stream",
     "text": [
      "Loretta\n"
     ]
    },
    {
     "name": "stderr",
     "output_type": "stream",
     "text": [
      "\r",
      " 99%|█████████▉| 496/500 [02:47<00:01,  2.90it/s]"
     ]
    },
    {
     "name": "stdout",
     "output_type": "stream",
     "text": [
      "Fernanda\n"
     ]
    },
    {
     "name": "stderr",
     "output_type": "stream",
     "text": [
      "\r",
      " 99%|█████████▉| 497/500 [02:47<00:01,  2.95it/s]"
     ]
    },
    {
     "name": "stdout",
     "output_type": "stream",
     "text": [
      "Gerardo\n"
     ]
    },
    {
     "name": "stderr",
     "output_type": "stream",
     "text": [
      "\r",
      "100%|█████████▉| 498/500 [02:48<00:00,  3.01it/s]"
     ]
    },
    {
     "name": "stdout",
     "output_type": "stream",
     "text": [
      "Francisco\n"
     ]
    },
    {
     "name": "stderr",
     "output_type": "stream",
     "text": [
      "\r",
      "100%|█████████▉| 499/500 [02:48<00:00,  3.06it/s]"
     ]
    },
    {
     "name": "stdout",
     "output_type": "stream",
     "text": [
      "Fernando\n"
     ]
    },
    {
     "name": "stderr",
     "output_type": "stream",
     "text": [
      "100%|██████████| 500/500 [02:48<00:00,  2.96it/s]\n"
     ]
    }
   ],
   "source": [
    "mapping_names_gender62 = {}\n",
    "for i in tqdm(data62_p):\n",
    "    name = i['nombre_completo']\n",
    "    name = re.sub(' [(]LICENCIA[)]', '', name)\n",
    "    name = unidecode.unidecode(name)\n",
    "    if any(re.findall('^[ ]', name)):\n",
    "        pila = name.split(' ')[1]\n",
    "        mapping_names_gender62[i['nombre_completo']] = Genderize().get([pila])\n",
    "    else:\n",
    "        pila = name.split(' ')[-1:][0]\n",
    "\n",
    "        mapping_names_gender62[i['nombre_completo']] = Genderize().get([pila])"
   ]
  },
  {
   "cell_type": "code",
   "execution_count": 13,
   "metadata": {},
   "outputs": [
    {
     "data": {
      "text/plain": [
       "500"
      ]
     },
     "execution_count": 13,
     "metadata": {},
     "output_type": "execute_result"
    }
   ],
   "source": [
    "len(mapping_names_gender62)"
   ]
  },
  {
   "cell_type": "code",
   "execution_count": 21,
   "metadata": {},
   "outputs": [],
   "source": [
    "clean_gender = {}\n",
    "for x, y in mapping_names_gender62.items():\n",
    "    if x == 'Alvarado Sánchez Brenda María Izontli':\n",
    "        clean_gender[x] = 'female'\n",
    "    elif x == 'Barrera Estrada Rodimiro':\n",
    "        clean_gender[x] ='male'\n",
    "    elif x == 'Villaseñor Gudiño Blanca Ma.':\n",
    "        clean_gender[x] ='female'\n",
    "    elif x == 'García Rojas Mariana Dunyaska':\n",
    "        clean_gender[x] ='female'\n",
    "    elif x == 'Salinas Mendiola Glafiro':\n",
    "        clean_gender[x] ='male'\n",
    "    elif x == 'Yáñez Robles Elizabeth Oswelia':\n",
    "        clean_gender[x] ='female'\n",
    "    else:\n",
    "        clean_gender[x] = y[0]['gender']"
   ]
  },
  {
   "cell_type": "code",
   "execution_count": 22,
   "metadata": {},
   "outputs": [],
   "source": [
    "for x, y in clean_gender.items():\n",
    "    if y == None:\n",
    "        print(x)"
   ]
  },
  {
   "cell_type": "code",
   "execution_count": 23,
   "metadata": {},
   "outputs": [],
   "source": [
    "gender_data62 = []\n",
    "for x, y in zip(id_s, clean_gender.keys()):\n",
    "    temp = {}\n",
    "    temp['id_legislador'] = x\n",
    "    temp['name_legislador'] = y\n",
    "    temp['gender'] = clean_gender[y]\n",
    "    gender_data62.append(temp)"
   ]
  },
  {
   "cell_type": "code",
   "execution_count": 26,
   "metadata": {},
   "outputs": [
    {
     "data": {
      "text/html": [
       "<div>\n",
       "<style scoped>\n",
       "    .dataframe tbody tr th:only-of-type {\n",
       "        vertical-align: middle;\n",
       "    }\n",
       "\n",
       "    .dataframe tbody tr th {\n",
       "        vertical-align: top;\n",
       "    }\n",
       "\n",
       "    .dataframe thead th {\n",
       "        text-align: right;\n",
       "    }\n",
       "</style>\n",
       "<table border=\"1\" class=\"dataframe\">\n",
       "  <thead>\n",
       "    <tr style=\"text-align: right;\">\n",
       "      <th></th>\n",
       "      <th>id_legislador</th>\n",
       "      <th>name_legislador</th>\n",
       "      <th>gender</th>\n",
       "    </tr>\n",
       "  </thead>\n",
       "  <tbody>\n",
       "    <tr>\n",
       "      <th>0</th>\n",
       "      <td>111264d0-fe1c-11ea-95ca-acde48001122</td>\n",
       "      <td>Aceves y del Olmo Carlos Humberto</td>\n",
       "      <td>male</td>\n",
       "    </tr>\n",
       "    <tr>\n",
       "      <th>1</th>\n",
       "      <td>113af256-fe1c-11ea-95ca-acde48001122</td>\n",
       "      <td>Aguayo López Miguel Ángel</td>\n",
       "      <td>male</td>\n",
       "    </tr>\n",
       "    <tr>\n",
       "      <th>2</th>\n",
       "      <td>1164a1e6-fe1c-11ea-95ca-acde48001122</td>\n",
       "      <td>Alcalá Padilla Leobardo</td>\n",
       "      <td>male</td>\n",
       "    </tr>\n",
       "    <tr>\n",
       "      <th>3</th>\n",
       "      <td>118bacdc-fe1c-11ea-95ca-acde48001122</td>\n",
       "      <td>Aldana Prieto Luis Ricardo</td>\n",
       "      <td>male</td>\n",
       "    </tr>\n",
       "    <tr>\n",
       "      <th>4</th>\n",
       "      <td>11b3c26c-fe1c-11ea-95ca-acde48001122</td>\n",
       "      <td>Allende Cano Ana Isabel</td>\n",
       "      <td>female</td>\n",
       "    </tr>\n",
       "    <tr>\n",
       "      <th>...</th>\n",
       "      <td>...</td>\n",
       "      <td>...</td>\n",
       "      <td>...</td>\n",
       "    </tr>\n",
       "    <tr>\n",
       "      <th>495</th>\n",
       "      <td>6c8a4896-fe1c-11ea-95ca-acde48001122</td>\n",
       "      <td>Ortíz Ahlf Loretta</td>\n",
       "      <td>female</td>\n",
       "    </tr>\n",
       "    <tr>\n",
       "      <th>496</th>\n",
       "      <td>6cdb99a8-fe1c-11ea-95ca-acde48001122</td>\n",
       "      <td>Romero Lozano María Fernanda</td>\n",
       "      <td>female</td>\n",
       "    </tr>\n",
       "    <tr>\n",
       "      <th>497</th>\n",
       "      <td>6d186996-fe1c-11ea-95ca-acde48001122</td>\n",
       "      <td>Villanueva Albarrán Gerardo</td>\n",
       "      <td>male</td>\n",
       "    </tr>\n",
       "    <tr>\n",
       "      <th>498</th>\n",
       "      <td>6d4f0be0-fe1c-11ea-95ca-acde48001122</td>\n",
       "      <td>Sotomayor Chávez Jorge Francisco</td>\n",
       "      <td>male</td>\n",
       "    </tr>\n",
       "    <tr>\n",
       "      <th>499</th>\n",
       "      <td>6d894e2c-fe1c-11ea-95ca-acde48001122</td>\n",
       "      <td>Zárate Salgado Fernando</td>\n",
       "      <td>male</td>\n",
       "    </tr>\n",
       "  </tbody>\n",
       "</table>\n",
       "<p>500 rows × 3 columns</p>\n",
       "</div>"
      ],
      "text/plain": [
       "                            id_legislador                    name_legislador  \\\n",
       "0    111264d0-fe1c-11ea-95ca-acde48001122  Aceves y del Olmo Carlos Humberto   \n",
       "1    113af256-fe1c-11ea-95ca-acde48001122          Aguayo López Miguel Ángel   \n",
       "2    1164a1e6-fe1c-11ea-95ca-acde48001122            Alcalá Padilla Leobardo   \n",
       "3    118bacdc-fe1c-11ea-95ca-acde48001122         Aldana Prieto Luis Ricardo   \n",
       "4    11b3c26c-fe1c-11ea-95ca-acde48001122            Allende Cano Ana Isabel   \n",
       "..                                    ...                                ...   \n",
       "495  6c8a4896-fe1c-11ea-95ca-acde48001122                 Ortíz Ahlf Loretta   \n",
       "496  6cdb99a8-fe1c-11ea-95ca-acde48001122       Romero Lozano María Fernanda   \n",
       "497  6d186996-fe1c-11ea-95ca-acde48001122        Villanueva Albarrán Gerardo   \n",
       "498  6d4f0be0-fe1c-11ea-95ca-acde48001122   Sotomayor Chávez Jorge Francisco   \n",
       "499  6d894e2c-fe1c-11ea-95ca-acde48001122            Zárate Salgado Fernando   \n",
       "\n",
       "     gender  \n",
       "0      male  \n",
       "1      male  \n",
       "2      male  \n",
       "3      male  \n",
       "4    female  \n",
       "..      ...  \n",
       "495  female  \n",
       "496  female  \n",
       "497    male  \n",
       "498    male  \n",
       "499    male  \n",
       "\n",
       "[500 rows x 3 columns]"
      ]
     },
     "execution_count": 26,
     "metadata": {},
     "output_type": "execute_result"
    }
   ],
   "source": [
    "pd.DataFrame(gender_data62)"
   ]
  },
  {
   "cell_type": "code",
   "execution_count": 27,
   "metadata": {},
   "outputs": [],
   "source": [
    "with open('/Users/cblanesg/cam.blanes Dropbox/Camila Blanes/Congressional-dataMX/data/01-collection_data/00-id_data/00-id/mapping_gender62.json', 'w') as file:\n",
    "    json.dump(gender_data62, file)"
   ]
  },
  {
   "cell_type": "markdown",
   "metadata": {},
   "source": [
    "## Legislatura 63"
   ]
  },
  {
   "cell_type": "code",
   "execution_count": 10,
   "metadata": {},
   "outputs": [],
   "source": [
    "all_data = []\n",
    "with open('/Users/cblanesg/cam.blanes Dropbox/Camila Blanes/Congressional-dataMX/data/01-collection_data/00-id_data/00-id/id_legislatura63.json') as file:\n",
    "    data = json.load(file)\n",
    "\n",
    "data63_p = []\n",
    "for i in data:\n",
    "    if i['suplente_propietario'] == 'P':\n",
    "        data63_p.append(i)\n",
    "\n",
    "len(data63_p)\n",
    "\n",
    "id_s63 = []\n",
    "for i in data63_p:\n",
    "    id_s63.append(i['id_legislador'])"
   ]
  },
  {
   "cell_type": "code",
   "execution_count": 11,
   "metadata": {},
   "outputs": [
    {
     "name": "stderr",
     "output_type": "stream",
     "text": [
      "100%|██████████| 500/500 [02:50<00:00,  2.93it/s]\n"
     ]
    }
   ],
   "source": [
    "mapping_names_gender63 = {}\n",
    "for i in tqdm(data63_p):\n",
    "    name = i['nombre_completo']\n",
    "    name = re.sub(' [(]LICENCIA[)]', '', name)\n",
    "    name = unidecode.unidecode(name)\n",
    "    if any(re.findall('^[ ]', name)):\n",
    "        pila = name.split(' ')[1]\n",
    "        mapping_names_gender63[i['nombre_completo']] = Genderize().get([pila])\n",
    "    else:\n",
    "        pila = name.split(' ')[-1:][0]\n",
    "        mapping_names_gender63[i['nombre_completo']] = Genderize().get([pila])"
   ]
  },
  {
   "cell_type": "code",
   "execution_count": 12,
   "metadata": {},
   "outputs": [
    {
     "data": {
      "text/plain": [
       "{'Abdala Carmona Yahleel': [{'name': 'Yahleel',\n",
       "   'gender': None,\n",
       "   'probability': 0.0,\n",
       "   'count': 0}],\n",
       " 'Abdala Saad Antonio Tarek': [{'name': 'Tarek',\n",
       "   'gender': 'male',\n",
       "   'probability': 0.98,\n",
       "   'count': 17364}],\n",
       " 'Aguilar Yunes Marco Antonio': [{'name': 'Antonio',\n",
       "   'gender': 'male',\n",
       "   'probability': 0.99,\n",
       "   'count': 328654}],\n",
       " 'Aguirre Romero Andres': [{'name': 'Andres',\n",
       "   'gender': 'male',\n",
       "   'probability': 0.98,\n",
       "   'count': 46013}],\n",
       " 'Alcantara Rojas Maria Guadalupe': [{'name': 'Guadalupe',\n",
       "   'gender': 'female',\n",
       "   'probability': 0.95,\n",
       "   'count': 2680}],\n",
       " 'Almanza Monroy Fidel': [{'name': 'Fidel',\n",
       "   'gender': 'male',\n",
       "   'probability': 0.93,\n",
       "   'count': 3581}],\n",
       " 'Jorge Carlos Ramirez Marin': [{'name': 'Marin',\n",
       "   'gender': 'male',\n",
       "   'probability': 0.76,\n",
       "   'count': 6930}],\n",
       " 'Alpizar Carrillo Lucely Del Perpetuo Socorro': [{'name': 'Socorro',\n",
       "   'gender': 'female',\n",
       "   'probability': 0.95,\n",
       "   'count': 416}],\n",
       " 'Alvarado Varela Edith Anabel': [{'name': 'Anabel',\n",
       "   'gender': 'female',\n",
       "   'probability': 0.99,\n",
       "   'count': 8071}],\n",
       " 'Alvarez Ortiz Hector Javier': [{'name': 'Javier',\n",
       "   'gender': 'male',\n",
       "   'probability': 0.99,\n",
       "   'count': 106497}],\n",
       " 'Anaya Mota Claudia Edith': [{'name': 'Edith',\n",
       "   'gender': 'female',\n",
       "   'probability': 0.98,\n",
       "   'count': 12157}],\n",
       " 'Anaya Orozco Alfredo': [{'name': 'Alfredo',\n",
       "   'gender': 'male',\n",
       "   'probability': 0.99,\n",
       "   'count': 28805}],\n",
       " 'Arcos Velazquez Montserrat Alicia': [{'name': 'Alicia',\n",
       "   'gender': 'female',\n",
       "   'probability': 0.98,\n",
       "   'count': 41386}],\n",
       " 'Arellano Nunez Efrain': [{'name': 'Efrain',\n",
       "   'gender': 'male',\n",
       "   'probability': 0.98,\n",
       "   'count': 1064}],\n",
       " 'Arroyo Bello Erika Lorena': [{'name': 'Lorena',\n",
       "   'gender': 'female',\n",
       "   'probability': 0.99,\n",
       "   'count': 48688}],\n",
       " 'Pablo Basanez Garcia': [{'name': 'Garcia',\n",
       "   'gender': 'male',\n",
       "   'probability': 0.7,\n",
       "   'count': 2035}],\n",
       " 'Barragan Amador Carlos': [{'name': 'Carlos',\n",
       "   'gender': 'male',\n",
       "   'probability': 0.99,\n",
       "   'count': 236888}],\n",
       " 'Barrientos Cano Laura Mitzi': [{'name': 'Mitzi',\n",
       "   'gender': 'female',\n",
       "   'probability': 0.93,\n",
       "   'count': 308}],\n",
       " 'Banales Arambula Ramon': [{'name': 'Ramon',\n",
       "   'gender': 'male',\n",
       "   'probability': 0.98,\n",
       "   'count': 27550}],\n",
       " 'Bedolla Lopez Pablo': [{'name': 'Pablo',\n",
       "   'gender': 'male',\n",
       "   'probability': 0.99,\n",
       "   'count': 76709}],\n",
       " 'Bejos Nicolas Alfredo': [{'name': 'Alfredo',\n",
       "   'gender': 'male',\n",
       "   'probability': 0.99,\n",
       "   'count': 28805}],\n",
       " 'Benitez Tiburcio Mariana': [{'name': 'Mariana',\n",
       "   'gender': 'female',\n",
       "   'probability': 0.98,\n",
       "   'count': 28214}],\n",
       " 'Bernal Casique Iveth': [{'name': 'Iveth',\n",
       "   'gender': 'female',\n",
       "   'probability': 0.99,\n",
       "   'count': 181}],\n",
       " 'Sylvana Beltrones Sanchez': [{'name': 'Sanchez',\n",
       "   'gender': 'male',\n",
       "   'probability': 0.77,\n",
       "   'count': 1780}],\n",
       " 'Boone Godoy Ana Maria': [{'name': 'Maria',\n",
       "   'gender': 'female',\n",
       "   'probability': 0.98,\n",
       "   'count': 334287}],\n",
       " 'Yolanda De la Torre Valdez': [{'name': 'Valdez',\n",
       "   'gender': 'male',\n",
       "   'probability': 0.85,\n",
       "   'count': 135}],\n",
       " 'Botello Santibanez Maria Barbara': [{'name': 'Barbara',\n",
       "   'gender': 'female',\n",
       "   'probability': 0.98,\n",
       "   'count': 94709}],\n",
       " 'David Aguilar Robles': [{'name': 'Robles',\n",
       "   'gender': 'male',\n",
       "   'probability': 0.81,\n",
       "   'count': 90}],\n",
       " 'Bugarin Rodriguez Jasmine Maria': [{'name': 'Maria',\n",
       "   'gender': 'female',\n",
       "   'probability': 0.98,\n",
       "   'count': 334287}],\n",
       " 'Cabrera Ruiz Jose Hugo': [{'name': 'Hugo',\n",
       "   'gender': 'male',\n",
       "   'probability': 0.99,\n",
       "   'count': 46650}],\n",
       " 'Camargo Felix Maria Esther Guadalupe': [{'name': 'Guadalupe',\n",
       "   'gender': 'female',\n",
       "   'probability': 0.95,\n",
       "   'count': 2680}],\n",
       " 'Canales Najjar Tristan Manuel': [{'name': 'Manuel',\n",
       "   'gender': 'male',\n",
       "   'probability': 0.99,\n",
       "   'count': 166605}],\n",
       " 'Gabriel Casillas Zanatta': [{'name': 'Zanatta',\n",
       "   'gender': 'male',\n",
       "   'probability': 0.8,\n",
       "   'count': 10}],\n",
       " 'Carvallo Delfin Jorge Alejandro': [{'name': 'Alejandro',\n",
       "   'gender': 'male',\n",
       "   'probability': 0.99,\n",
       "   'count': 56977}],\n",
       " 'Marco Polo Aguirre Chavez': [{'name': 'Chavez',\n",
       "   'gender': 'male',\n",
       "   'probability': 0.83,\n",
       "   'count': 157}],\n",
       " 'Cavazos Balderas Juan Manuel': [{'name': 'Manuel',\n",
       "   'gender': 'male',\n",
       "   'probability': 0.99,\n",
       "   'count': 166605}],\n",
       " 'Cavazos Cavazos Juana Aurora': [{'name': 'Aurora',\n",
       "   'gender': 'female',\n",
       "   'probability': 0.98,\n",
       "   'count': 16234}],\n",
       " 'Ceja Garcia Xitlalic': [{'name': 'Xitlalic',\n",
       "   'gender': 'female',\n",
       "   'probability': 1.0,\n",
       "   'count': 2}],\n",
       " 'Chacon Morales Samuel Alexis': [{'name': 'Alexis',\n",
       "   'gender': 'male',\n",
       "   'probability': 0.91,\n",
       "   'count': 36192}],\n",
       " 'Felipe Cervera Hernandez': [{'name': 'Hernandez',\n",
       "   'gender': 'male',\n",
       "   'probability': 0.72,\n",
       "   'count': 530}],\n",
       " 'Chavez Acosta Rosa Guadalupe': [{'name': 'Guadalupe',\n",
       "   'gender': 'female',\n",
       "   'probability': 0.95,\n",
       "   'count': 2680}],\n",
       " 'Chazaro Montalvo Oswaldo Guillermo': [{'name': 'Guillermo',\n",
       "   'gender': 'male',\n",
       "   'probability': 0.99,\n",
       "   'count': 15173}],\n",
       " 'Coheto Martinez Vitalico Candido': [{'name': 'Candido',\n",
       "   'gender': 'male',\n",
       "   'probability': 0.98,\n",
       "   'count': 1553}],\n",
       " 'Cordova Hernandez Jose Del Pilar': [{'name': 'Pilar',\n",
       "   'gender': 'female',\n",
       "   'probability': 0.98,\n",
       "   'count': 27619}],\n",
       " 'Cordova Moran Hersilia Onfalia Adamina': [{'name': 'Adamina',\n",
       "   'gender': 'female',\n",
       "   'probability': 0.97,\n",
       "   'count': 35}],\n",
       " 'Corella Platt Susana': [{'name': 'Susana',\n",
       "   'gender': 'female',\n",
       "   'probability': 0.98,\n",
       "   'count': 46978}],\n",
       " 'Jesus Juan De La Garza Diaz Del Guante': [{'name': 'Guante',\n",
       "   'gender': 'male',\n",
       "   'probability': 1.0,\n",
       "   'count': 8}],\n",
       " 'Pablo Gamboa Miner': [{'name': 'Miner',\n",
       "   'gender': 'female',\n",
       "   'probability': 0.69,\n",
       "   'count': 129}],\n",
       " 'Covarrubias Anaya Martha Lorena': [{'name': 'Lorena',\n",
       "   'gender': 'female',\n",
       "   'probability': 0.99,\n",
       "   'count': 48688}],\n",
       " 'Cristopulos Rios Hector Ulises': [{'name': 'Ulises',\n",
       "   'gender': 'male',\n",
       "   'probability': 0.98,\n",
       "   'count': 1998}],\n",
       " 'Cirilo Vazquez Parissi': [{'name': 'Parissi',\n",
       "   'gender': 'male',\n",
       "   'probability': 0.67,\n",
       "   'count': 3}],\n",
       " 'Davila Flores Jorge Enrique': [{'name': 'Enrique',\n",
       "   'gender': 'male',\n",
       "   'probability': 0.99,\n",
       "   'count': 25630}],\n",
       " 'De Leon Maza Sofia Del Sagrario': [{'name': 'Sagrario',\n",
       "   'gender': 'female',\n",
       "   'probability': 0.98,\n",
       "   'count': 594}],\n",
       " 'Diaz Montoya Rocio': [{'name': 'Rocio',\n",
       "   'gender': 'female',\n",
       "   'probability': 0.99,\n",
       "   'count': 38361}],\n",
       " 'Dominguez Dominguez Cesar Alejandro': [{'name': 'Alejandro',\n",
       "   'gender': 'male',\n",
       "   'probability': 0.99,\n",
       "   'count': 56977}],\n",
       " 'Escobar Manjarrez German': [{'name': 'German',\n",
       "   'gender': 'male',\n",
       "   'probability': 0.98,\n",
       "   'count': 9488}],\n",
       " 'Escobedo Villegas Francisco': [{'name': 'Francisco',\n",
       "   'gender': 'male',\n",
       "   'probability': 0.99,\n",
       "   'count': 98797}],\n",
       " 'Maria Del Rocio Rebollo Mendoza': [{'name': 'Mendoza',\n",
       "   'gender': 'male',\n",
       "   'probability': 0.84,\n",
       "   'count': 205}],\n",
       " 'Esquivel Hernandez Olga Maria': [{'name': 'Maria',\n",
       "   'gender': 'female',\n",
       "   'probability': 0.98,\n",
       "   'count': 334287}],\n",
       " 'Estefan Chidiac Charbel Jorge': [{'name': 'Jorge',\n",
       "   'gender': 'male',\n",
       "   'probability': 0.99,\n",
       "   'count': 118451}],\n",
       " 'Etcheverry Aranda Azul': [{'name': 'Azul',\n",
       "   'gender': 'female',\n",
       "   'probability': 0.53,\n",
       "   'count': 1402}],\n",
       " 'Felix Niebla Gloria Himelda': [{'name': 'Himelda',\n",
       "   'gender': 'female',\n",
       "   'probability': 1.0,\n",
       "   'count': 4}],\n",
       " 'Fernandez Marquez Julieta': [{'name': 'Julieta',\n",
       "   'gender': 'female',\n",
       "   'probability': 0.98,\n",
       "   'count': 2762}],\n",
       " 'Gaeta Esparza Hugo Daniel': [{'name': 'Daniel',\n",
       "   'gender': 'male',\n",
       "   'probability': 0.99,\n",
       "   'count': 317409}],\n",
       " 'Gamboa Martinez Alicia Guadalupe': [{'name': 'Guadalupe',\n",
       "   'gender': 'female',\n",
       "   'probability': 0.95,\n",
       "   'count': 2680}],\n",
       " 'Rosa Elena Millan Bueno': [{'name': 'Bueno',\n",
       "   'gender': 'male',\n",
       "   'probability': 0.81,\n",
       "   'count': 253}],\n",
       " 'Garcia Ayala Marco Antonio': [{'name': 'Antonio',\n",
       "   'gender': 'male',\n",
       "   'probability': 0.99,\n",
       "   'count': 328654}],\n",
       " 'Garcia Barron Oscar': [{'name': 'Oscar',\n",
       "   'gender': 'male',\n",
       "   'probability': 0.99,\n",
       "   'count': 69174}],\n",
       " 'Garcia Portilla Ricardo David': [{'name': 'David',\n",
       "   'gender': 'male',\n",
       "   'probability': 0.99,\n",
       "   'count': 501011}],\n",
       " 'Giorgana Jimenez Victor Manuel': [{'name': 'Manuel',\n",
       "   'gender': 'male',\n",
       "   'probability': 0.99,\n",
       "   'count': 166605}],\n",
       " 'Gonzalez Calderon Martha Hilda': [{'name': 'Hilda',\n",
       "   'gender': 'female',\n",
       "   'probability': 0.98,\n",
       "   'count': 3862}],\n",
       " 'Raul Dominguez Rex': [{'name': 'Rex',\n",
       "   'gender': 'male',\n",
       "   'probability': 0.97,\n",
       "   'count': 3295}],\n",
       " 'Gonzalez Salum Miguel Angel': [{'name': 'Angel',\n",
       "   'gender': 'male',\n",
       "   'probability': 0.68,\n",
       "   'count': 105060}],\n",
       " 'Guerra Urbiola Braulio Mario': [{'name': 'Mario',\n",
       "   'gender': 'male',\n",
       "   'probability': 0.99,\n",
       "   'count': 168958}],\n",
       " 'Guerrero Aguilar Fabiola': [{'name': 'Fabiola',\n",
       "   'gender': 'female',\n",
       "   'probability': 0.99,\n",
       "   'count': 9944}],\n",
       " 'Guerrero Coronado Delia': [{'name': 'Delia',\n",
       "   'gender': 'female',\n",
       "   'probability': 0.98,\n",
       "   'count': 7012}],\n",
       " 'Guerrero Esquivel Araceli': [{'name': 'Araceli',\n",
       "   'gender': 'female',\n",
       "   'probability': 0.99,\n",
       "   'count': 4055}],\n",
       " 'Guevara Cobos Luis Alejandro': [{'name': 'Alejandro',\n",
       "   'gender': 'male',\n",
       "   'probability': 0.99,\n",
       "   'count': 56977}],\n",
       " 'Guillen Vicente Mercedes Del Carmen': [{'name': 'Carmen',\n",
       "   'gender': 'female',\n",
       "   'probability': 0.98,\n",
       "   'count': 103801}],\n",
       " 'Gutierrez Ramirez Virginia Nallely': [{'name': 'Nallely',\n",
       "   'gender': 'female',\n",
       "   'probability': 0.98,\n",
       "   'count': 110}],\n",
       " 'Guzman Lagunes Noemi Zoila': [{'name': 'Zoila',\n",
       "   'gender': 'female',\n",
       "   'probability': 0.99,\n",
       "   'count': 601}],\n",
       " 'Guzman Vazquez Laura Valeria': [{'name': 'Valeria',\n",
       "   'gender': 'female',\n",
       "   'probability': 0.99,\n",
       "   'count': 38589}],\n",
       " 'Hermosillo Arteaga Carlos Gerardo (DECESO)': [{'name': '(DECESO)',\n",
       "   'gender': None,\n",
       "   'probability': 0.0,\n",
       "   'count': 0}],\n",
       " 'Hernandez Madrid Maria Gloria': [{'name': 'Gloria',\n",
       "   'gender': 'female',\n",
       "   'probability': 0.99,\n",
       "   'count': 35269}],\n",
       " 'Cesar Camacho': [{'name': 'Camacho',\n",
       "   'gender': 'male',\n",
       "   'probability': 0.9,\n",
       "   'count': 213}],\n",
       " 'Ibarra Hinojosa Alvaro': [{'name': 'Alvaro',\n",
       "   'gender': 'male',\n",
       "   'probability': 0.99,\n",
       "   'count': 37584}],\n",
       " 'Ibarra Otero Prospero Manuel': [{'name': 'Manuel',\n",
       "   'gender': 'male',\n",
       "   'probability': 0.99,\n",
       "   'count': 166605}],\n",
       " 'Ibarra Rangel Miriam Dennis': [{'name': 'Dennis',\n",
       "   'gender': 'male',\n",
       "   'probability': 0.99,\n",
       "   'count': 61118}],\n",
       " 'Iriarte Mercado Carlos': [{'name': 'Carlos',\n",
       "   'gender': 'male',\n",
       "   'probability': 0.99,\n",
       "   'count': 236888}],\n",
       " 'Ixtlahuac Orihuela Juan Antonio': [{'name': 'Antonio',\n",
       "   'gender': 'male',\n",
       "   'probability': 0.99,\n",
       "   'count': 328654}],\n",
       " 'Jackson Ramirez Jesus Enrique': [{'name': 'Enrique',\n",
       "   'gender': 'male',\n",
       "   'probability': 0.99,\n",
       "   'count': 25630}],\n",
       " 'Jimenez Jimenez Flor Angel': [{'name': 'Angel',\n",
       "   'gender': 'male',\n",
       "   'probability': 0.68,\n",
       "   'count': 105060}],\n",
       " 'David Ricardo Sanchez Guevara': [{'name': 'Guevara',\n",
       "   'gender': 'male',\n",
       "   'probability': 0.91,\n",
       "   'count': 370}],\n",
       " 'Kuri Grajales Fidel': [{'name': 'Fidel',\n",
       "   'gender': 'male',\n",
       "   'probability': 0.93,\n",
       "   'count': 3581}],\n",
       " 'Lagos Hernandez Erick Alejandro': [{'name': 'Alejandro',\n",
       "   'gender': 'male',\n",
       "   'probability': 0.99,\n",
       "   'count': 56977}],\n",
       " 'Le Baron Gonzalez Alex': [{'name': 'Alex',\n",
       "   'gender': 'male',\n",
       "   'probability': 0.9,\n",
       "   'count': 411319}],\n",
       " 'Leyva Garcia Leydi Fabiola': [{'name': 'Fabiola',\n",
       "   'gender': 'female',\n",
       "   'probability': 0.99,\n",
       "   'count': 9944}],\n",
       " 'Maria Veronica Munoz Parra': [{'name': 'Parra',\n",
       "   'gender': 'male',\n",
       "   'probability': 0.77,\n",
       "   'count': 185}],\n",
       " 'Lopez Gutierrez David Epifanio': [{'name': 'Epifanio',\n",
       "   'gender': 'male',\n",
       "   'probability': 0.98,\n",
       "   'count': 245}],\n",
       " 'Lopez Velasco Edith Yolanda': [{'name': 'Yolanda',\n",
       "   'gender': 'female',\n",
       "   'probability': 0.99,\n",
       "   'count': 26005}],\n",
       " 'Luna Canales Armando': [{'name': 'Armando',\n",
       "   'gender': 'male',\n",
       "   'probability': 0.99,\n",
       "   'count': 21130}],\n",
       " 'Luna Munguia Alma Lilia': [{'name': 'Lilia',\n",
       "   'gender': 'female',\n",
       "   'probability': 0.98,\n",
       "   'count': 8080}],\n",
       " 'Madrigal Mendez Liliana Ivette': [{'name': 'Ivette',\n",
       "   'gender': 'female',\n",
       "   'probability': 0.99,\n",
       "   'count': 826}],\n",
       " 'Majul Gonzalez Salomon': [{'name': 'Salomon',\n",
       "   'gender': 'male',\n",
       "   'probability': 0.97,\n",
       "   'count': 1588}],\n",
       " 'Yerico Abramo Masso': [{'name': 'Masso',\n",
       "   'gender': 'male',\n",
       "   'probability': 0.7,\n",
       "   'count': 121}],\n",
       " 'Maya Pineda Maria Isabel': [{'name': 'Isabel',\n",
       "   'gender': 'female',\n",
       "   'probability': 0.98,\n",
       "   'count': 60396}],\n",
       " 'Mazari Espin Rosalina': [{'name': 'Rosalina',\n",
       "   'gender': 'female',\n",
       "   'probability': 0.98,\n",
       "   'count': 992}],\n",
       " 'Medrano Quezada Benjamin': [{'name': 'Benjamin',\n",
       "   'gender': 'male',\n",
       "   'probability': 0.99,\n",
       "   'count': 62465}],\n",
       " 'Melendez Ortega Juan Antonio': [{'name': 'Antonio',\n",
       "   'gender': 'male',\n",
       "   'probability': 0.99,\n",
       "   'count': 328654}],\n",
       " 'Melhem Salinas Edgardo': [{'name': 'Edgardo',\n",
       "   'gender': 'male',\n",
       "   'probability': 0.99,\n",
       "   'count': 1733}],\n",
       " 'Mendez Bazan Virgilio Daniel': [{'name': 'Daniel',\n",
       "   'gender': 'male',\n",
       "   'probability': 0.99,\n",
       "   'count': 317409}],\n",
       " 'Mercado Ruiz David': [{'name': 'David',\n",
       "   'gender': 'male',\n",
       "   'probability': 0.99,\n",
       "   'count': 501011}],\n",
       " 'Moctezuma Pereda Fernando Quetzalcoatl': [{'name': 'Quetzalcoatl',\n",
       "   'gender': 'male',\n",
       "   'probability': 0.91,\n",
       "   'count': 23}],\n",
       " 'Ivonne Aracelly Ortega Pacheco': [{'name': 'Pacheco',\n",
       "   'gender': 'male',\n",
       "   'probability': 0.91,\n",
       "   'count': 330}],\n",
       " 'Molgora Glover Arlet': [{'name': 'Arlet',\n",
       "   'gender': 'female',\n",
       "   'probability': 0.88,\n",
       "   'count': 147}],\n",
       " 'Mondragon Orozco Maria Angelica': [{'name': 'Angelica',\n",
       "   'gender': 'female',\n",
       "   'probability': 0.99,\n",
       "   'count': 17941}],\n",
       " 'Ma. Marcela Gonzalez Salas y Petricioli': [{'name': 'Petricioli',\n",
       "   'gender': None,\n",
       "   'probability': 0.0,\n",
       "   'count': 0}],\n",
       " 'Montoya Diaz Tomas Roberto': [{'name': 'Roberto',\n",
       "   'gender': 'male',\n",
       "   'probability': 0.99,\n",
       "   'count': 151858}],\n",
       " 'Mota Hernandez Adolfo': [{'name': 'Adolfo',\n",
       "   'gender': 'male',\n",
       "   'probability': 0.99,\n",
       "   'count': 6858}],\n",
       " 'Murrieta Gutierrez Abel': [{'name': 'Abel',\n",
       "   'gender': 'male',\n",
       "   'probability': 0.98,\n",
       "   'count': 15409}],\n",
       " 'Telesforo Garcia Carreon': [{'name': 'Carreon',\n",
       "   'gender': 'female',\n",
       "   'probability': 1.0,\n",
       "   'count': 2}],\n",
       " 'Munoz Sanchez Rosalinda': [{'name': 'Rosalinda',\n",
       "   'gender': 'female',\n",
       "   'probability': 0.98,\n",
       "   'count': 1881}],\n",
       " 'Navarrete Perez Fernando': [{'name': 'Fernando',\n",
       "   'gender': 'male',\n",
       "   'probability': 0.99,\n",
       "   'count': 88476}],\n",
       " 'Nazar Morales Julian': [{'name': 'Julian',\n",
       "   'gender': 'male',\n",
       "   'probability': 0.98,\n",
       "   'count': 33459}],\n",
       " 'Nazario Morales Matias': [{'name': 'Matias',\n",
       "   'gender': 'male',\n",
       "   'probability': 0.98,\n",
       "   'count': 9247}],\n",
       " 'Noble Monterrubio Pedro Luis': [{'name': 'Luis',\n",
       "   'gender': 'male',\n",
       "   'probability': 0.99,\n",
       "   'count': 176693}],\n",
       " 'Edgar Castillo Martinez': [{'name': 'Martinez',\n",
       "   'gender': 'male',\n",
       "   'probability': 0.71,\n",
       "   'count': 1525}],\n",
       " 'Orantes Lopez Hernan De Jesus': [{'name': 'Jesus',\n",
       "   'gender': 'male',\n",
       "   'probability': 0.98,\n",
       "   'count': 75065}],\n",
       " 'Oropeza Olguin Nora Liliana': [{'name': 'Liliana',\n",
       "   'gender': 'female',\n",
       "   'probability': 0.98,\n",
       "   'count': 26224}],\n",
       " 'Orozco Sanchez Aldana Jose Luis': [{'name': 'Luis',\n",
       "   'gender': 'male',\n",
       "   'probability': 0.99,\n",
       "   'count': 176693}],\n",
       " 'Ortiz Lanz Adriana del Pilar': [{'name': 'Pilar',\n",
       "   'gender': 'female',\n",
       "   'probability': 0.98,\n",
       "   'count': 27619}],\n",
       " 'Osorno Belmont Susana': [{'name': 'Susana',\n",
       "   'gender': 'female',\n",
       "   'probability': 0.98,\n",
       "   'count': 46978}],\n",
       " 'Oyervides Valdez Maria Guadalupe': [{'name': 'Guadalupe',\n",
       "   'gender': 'female',\n",
       "   'probability': 0.95,\n",
       "   'count': 2680}],\n",
       " 'Carolina Monroy Del Mazo': [{'name': 'Mazo',\n",
       "   'gender': 'male',\n",
       "   'probability': 0.72,\n",
       "   'count': 129}],\n",
       " 'Pichardo Lechuga Jose Ignacio': [{'name': 'Ignacio',\n",
       "   'gender': 'male',\n",
       "   'probability': 0.99,\n",
       "   'count': 9789}],\n",
       " 'Bernardino Antelo Esper': [{'name': 'Esper',\n",
       "   'gender': 'male',\n",
       "   'probability': 0.57,\n",
       "   'count': 54}],\n",
       " 'Pinete Vargas Maria del Carmen': [{'name': 'Carmen',\n",
       "   'gender': 'female',\n",
       "   'probability': 0.98,\n",
       "   'count': 103801}],\n",
       " 'Plata Inzunza Evelio': [{'name': 'Evelio',\n",
       "   'gender': 'male',\n",
       "   'probability': 0.98,\n",
       "   'count': 210}],\n",
       " 'Ponce Beltran Esthela de Jesus': [{'name': 'Jesus',\n",
       "   'gender': 'male',\n",
       "   'probability': 0.98,\n",
       "   'count': 75065}],\n",
       " 'Quinto Guillen Carlos Federico': [{'name': 'Federico',\n",
       "   'gender': 'male',\n",
       "   'probability': 0.99,\n",
       "   'count': 43663}],\n",
       " 'Quinones Cornejo Maria De La Paz': [{'name': 'Paz',\n",
       "   'gender': 'female',\n",
       "   'probability': 0.86,\n",
       "   'count': 2218}],\n",
       " 'Rafael Rubio Alvaro': [{'name': 'Alvaro',\n",
       "   'gender': 'male',\n",
       "   'probability': 0.99,\n",
       "   'count': 37584}],\n",
       " 'Ramirez Nieto Ricardo': [{'name': 'Ricardo',\n",
       "   'gender': 'male',\n",
       "   'probability': 0.99,\n",
       "   'count': 75750}],\n",
       " 'Ramirez Ocampo Gianni Raul': [{'name': 'Raul',\n",
       "   'gender': 'male',\n",
       "   'probability': 0.99,\n",
       "   'count': 64281}],\n",
       " 'Alfredo Del Mazo Maza': [{'name': 'Maza',\n",
       "   'gender': 'male',\n",
       "   'probability': 0.63,\n",
       "   'count': 278}],\n",
       " 'Real Salinas Dora Elena': [{'name': 'Elena',\n",
       "   'gender': 'female',\n",
       "   'probability': 0.99,\n",
       "   'count': 149871}],\n",
       " 'Renteria Medina Flor Estela': [{'name': 'Estela',\n",
       "   'gender': 'female',\n",
       "   'probability': 0.99,\n",
       "   'count': 6780}],\n",
       " 'Antonio Amaro Cancino': [{'name': 'Cancino',\n",
       "   'gender': 'male',\n",
       "   'probability': 0.71,\n",
       "   'count': 7}],\n",
       " 'Rivera Carbajal Silvia': [{'name': 'Silvia',\n",
       "   'gender': 'female',\n",
       "   'probability': 0.99,\n",
       "   'count': 120107}],\n",
       " 'Rocha Aguilar Yulma': [{'name': 'Yulma',\n",
       "   'gender': 'female',\n",
       "   'probability': 1.0,\n",
       "   'count': 7}],\n",
       " 'Maricela Serrano Hernandez': [{'name': 'Hernandez',\n",
       "   'gender': 'male',\n",
       "   'probability': 0.72,\n",
       "   'count': 530}],\n",
       " 'Rodriguez Hernandez Erika Araceli': [{'name': 'Araceli',\n",
       "   'gender': 'female',\n",
       "   'probability': 0.99,\n",
       "   'count': 4055}],\n",
       " 'Daniel Torres Cantu': [{'name': 'Cantu',\n",
       "   'gender': 'male',\n",
       "   'probability': 0.94,\n",
       "   'count': 49}],\n",
       " 'Rojas Orozco Enrique': [{'name': 'Enrique',\n",
       "   'gender': 'male',\n",
       "   'probability': 0.99,\n",
       "   'count': 25630}],\n",
       " 'Rojas San Roman Francisco Lauro (DECESO)': [{'name': '(DECESO)',\n",
       "   'gender': None,\n",
       "   'probability': 0.0,\n",
       "   'count': 0}],\n",
       " 'Baltazar Manuel Hinojosa Ochoa': [{'name': 'Ochoa',\n",
       "   'gender': 'male',\n",
       "   'probability': 0.85,\n",
       "   'count': 34}],\n",
       " 'Romero Vega Esdras': [{'name': 'Esdras',\n",
       "   'gender': 'male',\n",
       "   'probability': 0.9,\n",
       "   'count': 161}],\n",
       " 'Romo Garcia Edgar': [{'name': 'Edgar',\n",
       "   'gender': 'male',\n",
       "   'probability': 0.99,\n",
       "   'count': 16632}],\n",
       " 'Rosales Reyes Salomon Fernando': [{'name': 'Fernando',\n",
       "   'gender': 'male',\n",
       "   'probability': 0.99,\n",
       "   'count': 88476}],\n",
       " 'Ruiz Chavez Sara Latife': [{'name': 'Latife',\n",
       "   'gender': 'female',\n",
       "   'probability': 0.94,\n",
       "   'count': 489}],\n",
       " 'Sandra Mendez Hernandez': [{'name': 'Hernandez',\n",
       "   'gender': 'male',\n",
       "   'probability': 0.72,\n",
       "   'count': 530}],\n",
       " 'Saenz Soto Jose Luis': [{'name': 'Luis',\n",
       "   'gender': 'male',\n",
       "   'probability': 0.99,\n",
       "   'count': 176693}],\n",
       " 'Salazar Espinosa Heidi': [{'name': 'Heidi',\n",
       "   'gender': 'female',\n",
       "   'probability': 0.97,\n",
       "   'count': 15937}],\n",
       " 'Salazar Mucino Pedro Alberto': [{'name': 'Alberto',\n",
       "   'gender': 'male',\n",
       "   'probability': 0.99,\n",
       "   'count': 124347}],\n",
       " 'Salinas Lozano Carmen': [{'name': 'Carmen',\n",
       "   'gender': 'female',\n",
       "   'probability': 0.98,\n",
       "   'count': 103801}],\n",
       " 'Sanchez Arredondo Nancy Guadalupe': [{'name': 'Guadalupe',\n",
       "   'gender': 'female',\n",
       "   'probability': 0.95,\n",
       "   'count': 2680}],\n",
       " 'Sanchez Coronel Cristina': [{'name': 'Cristina',\n",
       "   'gender': 'female',\n",
       "   'probability': 0.99,\n",
       "   'count': 140931}],\n",
       " 'Sanchez Isidoro David': [{'name': 'David',\n",
       "   'gender': 'male',\n",
       "   'probability': 0.99,\n",
       "   'count': 501011}],\n",
       " 'Sanchez Sanchez Christian Joaquin': [{'name': 'Joaquin',\n",
       "   'gender': 'male',\n",
       "   'probability': 0.99,\n",
       "   'count': 14675}],\n",
       " 'Sandoval Martinez Maria Soledad': [{'name': 'Soledad',\n",
       "   'gender': 'female',\n",
       "   'probability': 0.98,\n",
       "   'count': 5470}],\n",
       " 'Santillan Oceguera Francisco Javier': [{'name': 'Javier',\n",
       "   'gender': 'male',\n",
       "   'probability': 0.99,\n",
       "   'count': 106497}],\n",
       " 'Sarabia Camacho Carlos': [{'name': 'Carlos',\n",
       "   'gender': 'male',\n",
       "   'probability': 0.99,\n",
       "   'count': 236888}],\n",
       " 'Saracho Navarro Francisco': [{'name': 'Francisco',\n",
       "   'gender': 'male',\n",
       "   'probability': 0.99,\n",
       "   'count': 98797}],\n",
       " 'Scherman Leano Maria Esther de Jesus': [{'name': 'Jesus',\n",
       "   'gender': 'male',\n",
       "   'probability': 0.98,\n",
       "   'count': 75065}],\n",
       " 'Pablo Elizondo Garcia': [{'name': 'Garcia',\n",
       "   'gender': 'male',\n",
       "   'probability': 0.7,\n",
       "   'count': 2035}],\n",
       " 'Silva Ramos Alberto': [{'name': 'Alberto',\n",
       "   'gender': 'male',\n",
       "   'probability': 0.99,\n",
       "   'count': 124347}],\n",
       " 'Silva Tejeda Victor Manuel': [{'name': 'Manuel',\n",
       "   'gender': 'male',\n",
       "   'probability': 0.99,\n",
       "   'count': 166605}],\n",
       " 'Sobreyra Santos Maria Monserrath': [{'name': 'Monserrath',\n",
       "   'gender': 'female',\n",
       "   'probability': 0.88,\n",
       "   'count': 25}],\n",
       " 'Jose Lorenzo Rivera Sosa': [{'name': 'Sosa',\n",
       "   'gender': 'female',\n",
       "   'probability': 0.52,\n",
       "   'count': 703}],\n",
       " 'Sulub Caamal Miguel Angel': [{'name': 'Angel',\n",
       "   'gender': 'male',\n",
       "   'probability': 0.68,\n",
       "   'count': 105060}],\n",
       " 'Taja Ramirez Ricardo': [{'name': 'Ricardo',\n",
       "   'gender': 'male',\n",
       "   'probability': 0.99,\n",
       "   'count': 75750}],\n",
       " 'Tamayo Morales Martha Sofia (LICENCIA)': [{'name': 'Sofia',\n",
       "   'gender': 'female',\n",
       "   'probability': 0.98,\n",
       "   'count': 59571}],\n",
       " 'Tannos Cruz Yarith': [{'name': 'Yarith',\n",
       "   'gender': 'female',\n",
       "   'probability': 0.67,\n",
       "   'count': 9}],\n",
       " 'Terrazas Porras Adriana': [{'name': 'Adriana',\n",
       "   'gender': 'female',\n",
       "   'probability': 0.99,\n",
       "   'count': 49650}],\n",
       " 'Tiscareno Agoitia Ruth Noemi': [{'name': 'Noemi',\n",
       "   'gender': 'female',\n",
       "   'probability': 0.99,\n",
       "   'count': 21284}],\n",
       " 'Torres Huitron Jose Alfredo': [{'name': 'Alfredo',\n",
       "   'gender': 'male',\n",
       "   'probability': 0.99,\n",
       "   'count': 28805}],\n",
       " 'Uriarte Zazueta Fernando': [{'name': 'Fernando',\n",
       "   'gender': 'male',\n",
       "   'probability': 0.99,\n",
       "   'count': 88476}],\n",
       " 'Valencia Garcia Oscar': [{'name': 'Oscar',\n",
       "   'gender': 'male',\n",
       "   'probability': 0.99,\n",
       "   'count': 69174}],\n",
       " 'Vallejo Barragan Manuel': [{'name': 'Manuel',\n",
       "   'gender': 'male',\n",
       "   'probability': 0.99,\n",
       "   'count': 166605}],\n",
       " 'Vargas Rodriguez Federico Eugenio': [{'name': 'Eugenio',\n",
       "   'gender': 'male',\n",
       "   'probability': 0.99,\n",
       "   'count': 10416}],\n",
       " 'Vazquez Guerrero Luis Felipe': [{'name': 'Felipe',\n",
       "   'gender': 'male',\n",
       "   'probability': 0.98,\n",
       "   'count': 18670}],\n",
       " 'Velez Nunez Beatriz': [{'name': 'Beatriz',\n",
       "   'gender': 'female',\n",
       "   'probability': 0.99,\n",
       "   'count': 27836}],\n",
       " 'Vidal Aguilar Liborio': [{'name': 'Liborio',\n",
       "   'gender': 'male',\n",
       "   'probability': 0.99,\n",
       "   'count': 576}],\n",
       " 'Viggiano Austria Alma Carolina': [{'name': 'Carolina',\n",
       "   'gender': 'female',\n",
       "   'probability': 0.98,\n",
       "   'count': 40287}],\n",
       " 'Villa Ramirez Timoteo': [{'name': 'Timoteo',\n",
       "   'gender': 'male',\n",
       "   'probability': 0.98,\n",
       "   'count': 389}],\n",
       " 'Villa Trujillo Edith': [{'name': 'Edith',\n",
       "   'gender': 'female',\n",
       "   'probability': 0.98,\n",
       "   'count': 12157}],\n",
       " 'Villagomez Guerrero Ramon': [{'name': 'Ramon',\n",
       "   'gender': 'male',\n",
       "   'probability': 0.98,\n",
       "   'count': 27550}],\n",
       " 'Georgina Trujillo Zentella': [{'name': 'Zentella',\n",
       "   'gender': 'male',\n",
       "   'probability': 1.0,\n",
       "   'count': 1}],\n",
       " 'Yerena Zambrano Rafael': [{'name': 'Rafael',\n",
       "   'gender': 'male',\n",
       "   'probability': 0.99,\n",
       "   'count': 45829}],\n",
       " 'Zapata Lucero Ana Georgina': [{'name': 'Georgina',\n",
       "   'gender': 'female',\n",
       "   'probability': 0.99,\n",
       "   'count': 12530}],\n",
       " 'Zepahua Garcia Lillian': [{'name': 'Lillian',\n",
       "   'gender': 'female',\n",
       "   'probability': 0.97,\n",
       "   'count': 1806}],\n",
       " 'Zuniga Mendoza J. Jesus': [{'name': 'Jesus',\n",
       "   'gender': 'male',\n",
       "   'probability': 0.98,\n",
       "   'count': 75065}],\n",
       " 'Monica Rodriguez Della Vecchia': [{'name': 'Vecchia',\n",
       "   'gender': 'female',\n",
       "   'probability': 0.51,\n",
       "   'count': 35}],\n",
       " 'Agundis Estrada Maria Veronica': [{'name': 'Veronica',\n",
       "   'gender': 'female',\n",
       "   'probability': 0.99,\n",
       "   'count': 69016}],\n",
       " 'Alejo Dominguez Hugo': [{'name': 'Hugo',\n",
       "   'gender': 'male',\n",
       "   'probability': 0.99,\n",
       "   'count': 46650}],\n",
       " 'Aleman Olvera Emma Margarita': [{'name': 'Margarita',\n",
       "   'gender': 'female',\n",
       "   'probability': 0.98,\n",
       "   'count': 12994}],\n",
       " 'Alfaro Garcia Lorena del Carmen': [{'name': 'Carmen',\n",
       "   'gender': 'female',\n",
       "   'probability': 0.98,\n",
       "   'count': 103801}],\n",
       " 'Amparano Gamez Leticia': [{'name': 'Leticia',\n",
       "   'gender': 'female',\n",
       "   'probability': 0.98,\n",
       "   'count': 10868}],\n",
       " 'Antero Valle Luis Fernando': [{'name': 'Fernando',\n",
       "   'gender': 'male',\n",
       "   'probability': 0.99,\n",
       "   'count': 88476}],\n",
       " 'Arambula Melendez Mariana': [{'name': 'Mariana',\n",
       "   'gender': 'female',\n",
       "   'probability': 0.98,\n",
       "   'count': 28214}],\n",
       " 'Barraza Lopez Jose Teodoro': [{'name': 'Teodoro',\n",
       "   'gender': 'male',\n",
       "   'probability': 0.98,\n",
       "   'count': 1397}],\n",
       " 'Barrera Marmolejo Hector': [{'name': 'Hector',\n",
       "   'gender': 'male',\n",
       "   'probability': 0.99,\n",
       "   'count': 20708}],\n",
       " 'Bello Otero Carlos': [{'name': 'Carlos',\n",
       "   'gender': 'male',\n",
       "   'probability': 0.99,\n",
       "   'count': 236888}],\n",
       " 'Bermudez Mendez Jose Erandi': [{'name': 'Erandi',\n",
       "   'gender': 'female',\n",
       "   'probability': 0.68,\n",
       "   'count': 34}],\n",
       " 'Blanco Zaldivar Juan Alberto': [{'name': 'Alberto',\n",
       "   'gender': 'male',\n",
       "   'probability': 0.99,\n",
       "   'count': 124347}],\n",
       " 'Bolanos Aguilar Edmundo Javier': [{'name': 'Javier',\n",
       "   'gender': 'male',\n",
       "   'probability': 0.99,\n",
       "   'count': 106497}],\n",
       " 'Bolio Pinelo Kathia Maria': [{'name': 'Maria',\n",
       "   'gender': 'female',\n",
       "   'probability': 0.98,\n",
       "   'count': 334287}],\n",
       " 'Cambranis Torres Enrique': [{'name': 'Enrique',\n",
       "   'gender': 'male',\n",
       "   'probability': 0.99,\n",
       "   'count': 25630}],\n",
       " 'Joaquin Jesus Diaz Mena': [{'name': 'Mena',\n",
       "   'gender': 'female',\n",
       "   'probability': 0.84,\n",
       "   'count': 3795}],\n",
       " 'Jorge Ramos Hernandez': [{'name': 'Hernandez',\n",
       "   'gender': 'male',\n",
       "   'probability': 0.72,\n",
       "   'count': 530}],\n",
       " 'Casillas Gutierrez J. Apolinar': [{'name': 'Apolinar',\n",
       "   'gender': 'male',\n",
       "   'probability': 0.98,\n",
       "   'count': 94}],\n",
       " 'Castanon Herrera Eukid': [{'name': 'Eukid',\n",
       "   'gender': None,\n",
       "   'probability': 0.0,\n",
       "   'count': 0}],\n",
       " 'Jisela Paes Martinez': [{'name': 'Martinez',\n",
       "   'gender': 'male',\n",
       "   'probability': 0.71,\n",
       "   'count': 1525}],\n",
       " 'Cordero Lerma Leonel Gerardo': [{'name': 'Gerardo',\n",
       "   'gender': 'male',\n",
       "   'probability': 0.99,\n",
       "   'count': 12635}],\n",
       " 'Corona Rodriguez Ariel Enrique': [{'name': 'Enrique',\n",
       "   'gender': 'male',\n",
       "   'probability': 0.99,\n",
       "   'count': 25630}],\n",
       " 'Corral Estrada Herminio': [{'name': 'Herminio',\n",
       "   'gender': 'male',\n",
       "   'probability': 0.99,\n",
       "   'count': 682}],\n",
       " 'Corral Mier Juan': [{'name': 'Juan',\n",
       "   'gender': 'male',\n",
       "   'probability': 0.98,\n",
       "   'count': 274814}],\n",
       " 'Cortes Berumen Jose Hernan': [{'name': 'Hernan',\n",
       "   'gender': 'male',\n",
       "   'probability': 0.98,\n",
       "   'count': 4320}],\n",
       " 'Cortes Lugo Roman Francisco': [{'name': 'Francisco',\n",
       "   'gender': 'male',\n",
       "   'probability': 0.99,\n",
       "   'count': 98797}],\n",
       " 'Cortes Mendoza Marko Antonio': [{'name': 'Antonio',\n",
       "   'gender': 'male',\n",
       "   'probability': 0.99,\n",
       "   'count': 328654}],\n",
       " 'Cuanalo Santos Gerardo Gabriel': [{'name': 'Gabriel',\n",
       "   'gender': 'male',\n",
       "   'probability': 0.98,\n",
       "   'count': 52559}],\n",
       " 'Culin Jaime Gretel': [{'name': 'Gretel',\n",
       "   'gender': 'female',\n",
       "   'probability': 0.94,\n",
       "   'count': 308}],\n",
       " 'De La Fuente Flores Carlos Alberto': [{'name': 'Alberto',\n",
       "   'gender': 'male',\n",
       "   'probability': 0.99,\n",
       "   'count': 124347}],\n",
       " 'Doring Casar Federico': [{'name': 'Federico',\n",
       "   'gender': 'male',\n",
       "   'probability': 0.99,\n",
       "   'count': 43663}],\n",
       " 'Elizarraraz Sandoval Adriana': [{'name': 'Adriana',\n",
       "   'gender': 'female',\n",
       "   'probability': 0.99,\n",
       "   'count': 49650}],\n",
       " 'Patricia Garcia Garcia': [{'name': 'Garcia',\n",
       "   'gender': 'male',\n",
       "   'probability': 0.7,\n",
       "   'count': 2035}],\n",
       " 'Gama Basarte Marco Antonio': [{'name': 'Antonio',\n",
       "   'gender': 'male',\n",
       "   'probability': 0.99,\n",
       "   'count': 328654}],\n",
       " 'Garcia Escobar Lilia Arminda': [{'name': 'Arminda',\n",
       "   'gender': 'female',\n",
       "   'probability': 0.98,\n",
       "   'count': 884}],\n",
       " 'Garcia Lopez Jose Maximo': [{'name': 'Maximo',\n",
       "   'gender': 'male',\n",
       "   'probability': 0.99,\n",
       "   'count': 2648}],\n",
       " 'Garcia Perez Maria': [{'name': 'Maria',\n",
       "   'gender': 'female',\n",
       "   'probability': 0.98,\n",
       "   'count': 334287}],\n",
       " 'Garrido Munoz Ruben Alejandro': [{'name': 'Alejandro',\n",
       "   'gender': 'male',\n",
       "   'probability': 0.99,\n",
       "   'count': 56977}],\n",
       " 'Gomez Olivier Sergio Emilio': [{'name': 'Emilio',\n",
       "   'gender': 'male',\n",
       "   'probability': 0.99,\n",
       "   'count': 25883}],\n",
       " 'Gonzalez Cecena Exaltacion': [{'name': 'Exaltacion',\n",
       "   'gender': 'female',\n",
       "   'probability': 1.0,\n",
       "   'count': 4}],\n",
       " 'Gonzalez Navarro Jose Adrian': [{'name': 'Adrian',\n",
       "   'gender': 'male',\n",
       "   'probability': 0.99,\n",
       "   'count': 90344}],\n",
       " 'Gonzalez Suastegui Guadalupe': [{'name': 'Guadalupe',\n",
       "   'gender': 'female',\n",
       "   'probability': 0.95,\n",
       "   'count': 2680}],\n",
       " 'Gutierrez Campos Alejandra': [{'name': 'Alejandra',\n",
       "   'gender': 'female',\n",
       "   'probability': 0.98,\n",
       "   'count': 16369}],\n",
       " 'Gutierrez De Velasco Urtaza Francisco Jose': [{'name': 'Jose',\n",
       "   'gender': 'male',\n",
       "   'probability': 0.98,\n",
       "   'count': 451671}],\n",
       " 'Hernandez Ramos Minerva': [{'name': 'Minerva',\n",
       "   'gender': 'female',\n",
       "   'probability': 0.97,\n",
       "   'count': 2268}],\n",
       " 'Herrera Deras Alfredo Miguel': [{'name': 'Miguel',\n",
       "   'gender': 'male',\n",
       "   'probability': 0.99,\n",
       "   'count': 158479}],\n",
       " 'Huepa Perez Miguel Angel': [{'name': 'Angel',\n",
       "   'gender': 'male',\n",
       "   'probability': 0.68,\n",
       "   'count': 105060}],\n",
       " 'Huerta Villegas Genoveva': [{'name': 'Genoveva',\n",
       "   'gender': 'female',\n",
       "   'probability': 0.97,\n",
       "   'count': 604}],\n",
       " 'Maria Guadalupe Murguia Gutierrez': [{'name': 'Gutierrez',\n",
       "   'gender': 'male',\n",
       "   'probability': 0.72,\n",
       "   'count': 156}],\n",
       " 'Iniguez Mejia Elias Octavio': [{'name': 'Octavio',\n",
       "   'gender': 'male',\n",
       "   'probability': 0.99,\n",
       "   'count': 2450}],\n",
       " 'Pedro Garza Trevino': [{'name': 'Trevino',\n",
       "   'gender': 'male',\n",
       "   'probability': 0.92,\n",
       "   'count': 12}],\n",
       " 'Jimenez Marquez Martha Cristina': [{'name': 'Cristina',\n",
       "   'gender': 'female',\n",
       "   'probability': 0.99,\n",
       "   'count': 140931}],\n",
       " 'Francisco Ricardo Sheffield Padilla': [{'name': 'Padilla',\n",
       "   'gender': 'male',\n",
       "   'probability': 0.82,\n",
       "   'count': 78}],\n",
       " 'Lizarraga Figueroa Teresa de Jesus': [{'name': 'Jesus',\n",
       "   'gender': 'male',\n",
       "   'probability': 0.98,\n",
       "   'count': 75065}],\n",
       " 'Lopez Cordova Jose Everardo': [{'name': 'Everardo',\n",
       "   'gender': 'male',\n",
       "   'probability': 1.0,\n",
       "   'count': 82}],\n",
       " 'Lopez Martin Jorge': [{'name': 'Jorge',\n",
       "   'gender': 'male',\n",
       "   'probability': 0.99,\n",
       "   'count': 118451}],\n",
       " 'Lopez Rodriguez Jesus Antonio': [{'name': 'Antonio',\n",
       "   'gender': 'male',\n",
       "   'probability': 0.99,\n",
       "   'count': 328654}],\n",
       " 'Mandujano Tinajero Rene': [{'name': 'Rene',\n",
       "   'gender': 'male',\n",
       "   'probability': 0.91,\n",
       "   'count': 35497}],\n",
       " 'Marquez Zapata Nelly del Carmen': [{'name': 'Carmen',\n",
       "   'gender': 'female',\n",
       "   'probability': 0.98,\n",
       "   'count': 103801}],\n",
       " 'Marron Agustin Luis Gilberto': [{'name': 'Gilberto',\n",
       "   'gender': 'male',\n",
       "   'probability': 0.99,\n",
       "   'count': 4461}],\n",
       " 'Martinez Montemayor Baltazar': [{'name': 'Baltazar',\n",
       "   'gender': 'male',\n",
       "   'probability': 0.96,\n",
       "   'count': 596}],\n",
       " 'Martinez Santos Wenceslao': [{'name': 'Wenceslao',\n",
       "   'gender': 'male',\n",
       "   'probability': 0.99,\n",
       "   'count': 219}],\n",
       " 'Martinez Sanchez Luis de Leon': [{'name': 'Leon',\n",
       "   'gender': 'male',\n",
       "   'probability': 0.98,\n",
       "   'count': 22539}],\n",
       " 'Matesanz Santamaria Rocio': [{'name': 'Rocio',\n",
       "   'gender': 'female',\n",
       "   'probability': 0.99,\n",
       "   'count': 38361}],\n",
       " 'Jose Antonio Salas Valencia': [{'name': 'Valencia',\n",
       "   'gender': 'female',\n",
       "   'probability': 0.71,\n",
       "   'count': 630}],\n",
       " 'Gustavo Enrique Madero Munoz': [{'name': 'Munoz',\n",
       "   'gender': 'male',\n",
       "   'probability': 0.52,\n",
       "   'count': 130}],\n",
       " 'Moya Marin Angelica (LICENCIA)': [{'name': 'Angelica',\n",
       "   'gender': 'female',\n",
       "   'probability': 0.99,\n",
       "   'count': 17941}],\n",
       " 'Munoz Cervantes Arlette Ivette': [{'name': 'Ivette',\n",
       "   'gender': 'female',\n",
       "   'probability': 0.99,\n",
       "   'count': 826}],\n",
       " 'Nava Mouett Jacqueline': [{'name': 'Jacqueline',\n",
       "   'gender': 'female',\n",
       "   'probability': 0.98,\n",
       "   'count': 29511}],\n",
       " 'Neblina Vega Javier Antonio': [{'name': 'Antonio',\n",
       "   'gender': 'male',\n",
       "   'probability': 0.99,\n",
       "   'count': 328654}],\n",
       " 'Osuna Carranco Karla Karina': [{'name': 'Karina',\n",
       "   'gender': 'female',\n",
       "   'probability': 0.98,\n",
       "   'count': 29586}],\n",
       " 'Ovando Reazola Janette (LICENCIA)': [{'name': 'Janette',\n",
       "   'gender': 'female',\n",
       "   'probability': 0.98,\n",
       "   'count': 2817}],\n",
       " 'Padilla Avila Karina': [{'name': 'Karina',\n",
       "   'gender': 'female',\n",
       "   'probability': 0.98,\n",
       "   'count': 29586}],\n",
       " 'Palomeque Archila Carlos Alberto': [{'name': 'Alberto',\n",
       "   'gender': 'male',\n",
       "   'probability': 0.99,\n",
       "   'count': 124347}],\n",
       " 'Paniagua Figueroa Luz Argelia': [{'name': 'Argelia',\n",
       "   'gender': 'female',\n",
       "   'probability': 0.96,\n",
       "   'count': 105}],\n",
       " 'Gina Andrea Cruz Blackledge': [{'name': 'Blackledge',\n",
       "   'gender': 'male',\n",
       "   'probability': 1.0,\n",
       "   'count': 1}],\n",
       " 'Pina Kurczyn Juan Pablo': [{'name': 'Pablo',\n",
       "   'gender': 'male',\n",
       "   'probability': 0.99,\n",
       "   'count': 76709}],\n",
       " 'Ramirez Nunez Ulises': [{'name': 'Ulises',\n",
       "   'gender': 'male',\n",
       "   'probability': 0.98,\n",
       "   'count': 1998}],\n",
       " 'Ramirez Ramos Gabriela': [{'name': 'Gabriela',\n",
       "   'gender': 'female',\n",
       "   'probability': 0.98,\n",
       "   'count': 36660}],\n",
       " 'Rendon Garcia Cesar Augusto': [{'name': 'Augusto',\n",
       "   'gender': 'male',\n",
       "   'probability': 0.99,\n",
       "   'count': 7715}],\n",
       " 'Reynoso Sanchez Alejandra Noemi': [{'name': 'Noemi',\n",
       "   'gender': 'female',\n",
       "   'probability': 0.99,\n",
       "   'count': 21284}],\n",
       " 'Rivera Castillejos Armando Alejandro': [{'name': 'Alejandro',\n",
       "   'gender': 'male',\n",
       "   'probability': 0.99,\n",
       "   'count': 56977}],\n",
       " 'Rodriguez Aguirre Maria de los Angeles': [{'name': 'Angeles',\n",
       "   'gender': 'female',\n",
       "   'probability': 0.98,\n",
       "   'count': 8437}],\n",
       " 'Rodriguez Davila Alfredo Javier': [{'name': 'Javier',\n",
       "   'gender': 'male',\n",
       "   'probability': 0.99,\n",
       "   'count': 106497}],\n",
       " 'Rodriguez Rubio Maria del Rosario': [{'name': 'Rosario',\n",
       "   'gender': 'male',\n",
       "   'probability': 0.69,\n",
       "   'count': 23533}],\n",
       " 'Rodriguez Torres Luis Agustin': [{'name': 'Agustin',\n",
       "   'gender': 'male',\n",
       "   'probability': 0.97,\n",
       "   'count': 8919}],\n",
       " 'Romero Castillo Maria Guadalupe Cecilia': [{'name': 'Cecilia',\n",
       "   'gender': 'female',\n",
       "   'probability': 0.99,\n",
       "   'count': 21692}],\n",
       " 'Ruiz Garcia Juan Carlos': [{'name': 'Carlos',\n",
       "   'gender': 'male',\n",
       "   'probability': 0.99,\n",
       "   'count': 236888}],\n",
       " 'Salas Diaz Gerardo Federico': [{'name': 'Federico',\n",
       "   'gender': 'male',\n",
       "   'probability': 0.99,\n",
       "   'count': 43663}],\n",
       " 'Salim Alle Miguel Angel': [{'name': 'Angel',\n",
       "   'gender': 'male',\n",
       "   'probability': 0.68,\n",
       "   'count': 105060}],\n",
       " 'Sanchez Carrillo Patricia': [{'name': 'Patricia',\n",
       "   'gender': 'female',\n",
       "   'probability': 0.98,\n",
       "   'count': 132232}],\n",
       " 'Sanchez Juarez Claudia': [{'name': 'Claudia',\n",
       "   'gender': 'female',\n",
       "   'probability': 0.98,\n",
       "   'count': 118604}],\n",
       " 'Sanchez Meza Maria Luisa': [{'name': 'Luisa',\n",
       "   'gender': 'female',\n",
       "   'probability': 0.98,\n",
       "   'count': 37914}],\n",
       " 'Schemelensky Castro Ingrid Krasopani (LICENCIA)': [{'name': 'Krasopani',\n",
       "   'gender': None,\n",
       "   'probability': 0.0,\n",
       "   'count': 0}],\n",
       " 'Taboada Cortina Santiago': [{'name': 'Santiago',\n",
       "   'gender': 'male',\n",
       "   'probability': 0.98,\n",
       "   'count': 16342}],\n",
       " 'Talavera Hernandez Maria Eloisa': [{'name': 'Eloisa',\n",
       "   'gender': 'female',\n",
       "   'probability': 0.98,\n",
       "   'count': 1840}],\n",
       " 'Tamariz Garcia Ximena': [{'name': 'Ximena',\n",
       "   'gender': 'female',\n",
       "   'probability': 0.99,\n",
       "   'count': 2018}],\n",
       " 'Victor Ernesto Ibarra Montoya': [{'name': 'Montoya',\n",
       "   'gender': 'male',\n",
       "   'probability': 0.74,\n",
       "   'count': 127}],\n",
       " 'Torreblanca Engell Santiago': [{'name': 'Santiago',\n",
       "   'gender': 'male',\n",
       "   'probability': 0.98,\n",
       "   'count': 16342}],\n",
       " 'Triana Tena Jorge': [{'name': 'Jorge',\n",
       "   'gender': 'male',\n",
       "   'probability': 0.99,\n",
       "   'count': 118451}],\n",
       " 'Valenzuela Armas Rafael': [{'name': 'Rafael',\n",
       "   'gender': 'male',\n",
       "   'probability': 0.99,\n",
       "   'count': 45829}],\n",
       " 'Valles Olvera Elva Lidia': [{'name': 'Lidia',\n",
       "   'gender': 'female',\n",
       "   'probability': 0.99,\n",
       "   'count': 32229}],\n",
       " 'Vargas Barcena Marisol': [{'name': 'Marisol',\n",
       "   'gender': 'female',\n",
       "   'probability': 0.99,\n",
       "   'count': 8639}],\n",
       " 'Vega Olivas Nadia Haydee': [{'name': 'Haydee',\n",
       "   'gender': 'female',\n",
       "   'probability': 0.98,\n",
       "   'count': 454}],\n",
       " 'Velazquez Valdez Brenda': [{'name': 'Brenda',\n",
       "   'gender': 'female',\n",
       "   'probability': 0.99,\n",
       "   'count': 23113}],\n",
       " 'Mayra Angelica Enriquez Vanderkam': [{'name': 'Vanderkam',\n",
       "   'gender': None,\n",
       "   'probability': 0.0,\n",
       "   'count': 0}],\n",
       " 'Acosta Naranjo Guadalupe': [{'name': 'Guadalupe',\n",
       "   'gender': 'female',\n",
       "   'probability': 0.95,\n",
       "   'count': 2680}],\n",
       " 'Alanis Pedraza Angel II': [{'name': 'II',\n",
       "   'gender': 'male',\n",
       "   'probability': 0.61,\n",
       "   'count': 577}],\n",
       " 'Amador Rodriguez Leonardo': [{'name': 'Leonardo',\n",
       "   'gender': 'male',\n",
       "   'probability': 0.99,\n",
       "   'count': 31322}],\n",
       " 'Aragon Castillo Hortensia': [{'name': 'Hortensia',\n",
       "   'gender': 'female',\n",
       "   'probability': 0.97,\n",
       "   'count': 464}],\n",
       " 'Arguijo Herrera Tania Victoria': [{'name': 'Victoria',\n",
       "   'gender': 'female',\n",
       "   'probability': 0.98,\n",
       "   'count': 35658}],\n",
       " 'Barrientos Rios Ricardo Angel': [{'name': 'Angel',\n",
       "   'gender': 'male',\n",
       "   'probability': 0.68,\n",
       "   'count': 105060}],\n",
       " 'Basave Benitez Agustin Francisco de Asis': [{'name': 'Asis',\n",
       "   'gender': 'male',\n",
       "   'probability': 0.92,\n",
       "   'count': 379}],\n",
       " 'Beltran Reyes Maria Luisa': [{'name': 'Luisa',\n",
       "   'gender': 'female',\n",
       "   'probability': 0.98,\n",
       "   'count': 37914}],\n",
       " 'Bocanegra Ruiz Elio': [{'name': 'Elio',\n",
       "   'gender': 'male',\n",
       "   'probability': 0.99,\n",
       "   'count': 6379}],\n",
       " 'Waldo Fernandez Gonzalez': [{'name': 'Gonzalez',\n",
       "   'gender': 'male',\n",
       "   'probability': 0.67,\n",
       "   'count': 723}],\n",
       " 'Briones Perez Erika Irazema': [{'name': 'Irazema',\n",
       "   'gender': 'female',\n",
       "   'probability': 1.0,\n",
       "   'count': 4}],\n",
       " 'Castelan Mondragon Maria Elida': [{'name': 'Elida',\n",
       "   'gender': 'female',\n",
       "   'probability': 0.97,\n",
       "   'count': 661}],\n",
       " 'Catalan Padilla Olga': [{'name': 'Olga',\n",
       "   'gender': 'female',\n",
       "   'probability': 0.98,\n",
       "   'count': 80307}],\n",
       " 'Cruz Molina Eva Florinda': [{'name': 'Florinda',\n",
       "   'gender': 'female',\n",
       "   'probability': 0.99,\n",
       "   'count': 1137}],\n",
       " 'Estefan Garfias Jose Antonio': [{'name': 'Antonio',\n",
       "   'gender': 'male',\n",
       "   'probability': 0.99,\n",
       "   'count': 328654}],\n",
       " 'Ferrer Abalos Oscar': [{'name': 'Oscar',\n",
       "   'gender': 'male',\n",
       "   'probability': 0.99,\n",
       "   'count': 69174}],\n",
       " 'Flores Sonduk Lluvia': [{'name': 'Lluvia',\n",
       "   'gender': 'female',\n",
       "   'probability': 0.96,\n",
       "   'count': 453}],\n",
       " 'Garcia Bravo Maria Cristina Teresa': [{'name': 'Teresa',\n",
       "   'gender': 'female',\n",
       "   'probability': 0.98,\n",
       "   'count': 51700}],\n",
       " 'Garcia Calderon David Gerson': [{'name': 'Gerson',\n",
       "   'gender': 'male',\n",
       "   'probability': 0.99,\n",
       "   'count': 2137}],\n",
       " 'Gaytan Hernandez Cristina Ismene': [{'name': 'Ismene',\n",
       "   'gender': 'female',\n",
       "   'probability': 0.97,\n",
       "   'count': 61}],\n",
       " 'Hernandez Alcala J. Guadalupe': [{'name': 'Guadalupe',\n",
       "   'gender': 'female',\n",
       "   'probability': 0.95,\n",
       "   'count': 2680}],\n",
       " 'Hernandez Soriano Rafael': [{'name': 'Rafael',\n",
       "   'gender': 'male',\n",
       "   'probability': 0.99,\n",
       "   'count': 45829}],\n",
       " 'Jimenez Rumbo David': [{'name': 'David',\n",
       "   'gender': 'male',\n",
       "   'probability': 0.99,\n",
       "   'count': 501011}],\n",
       " 'Juarez Blanquet Erik': [{'name': 'Erik',\n",
       "   'gender': 'male',\n",
       "   'probability': 0.99,\n",
       "   'count': 36091}],\n",
       " 'Lopez Lopez Irma Rebeca': [{'name': 'Rebeca',\n",
       "   'gender': 'female',\n",
       "   'probability': 0.99,\n",
       "   'count': 12830}],\n",
       " 'Lopez Sanchez Sergio': [{'name': 'Sergio',\n",
       "   'gender': 'male',\n",
       "   'probability': 0.99,\n",
       "   'count': 131922}],\n",
       " 'Madrigal Sanchez Araceli': [{'name': 'Araceli',\n",
       "   'gender': 'female',\n",
       "   'probability': 0.99,\n",
       "   'count': 4055}],\n",
       " 'Maldonado Venegas Luis': [{'name': 'Luis',\n",
       "   'gender': 'male',\n",
       "   'probability': 0.99,\n",
       "   'count': 176693}],\n",
       " 'Martinez Soto Norberto Antonio': [{'name': 'Antonio',\n",
       "   'gender': 'male',\n",
       "   'probability': 0.99,\n",
       "   'count': 328654}],\n",
       " 'Nava Palacios Francisco Xavier': [{'name': 'Xavier',\n",
       "   'gender': 'male',\n",
       "   'probability': 0.99,\n",
       "   'count': 36056}],\n",
       " 'Octaviano Felix Tomas': [{'name': 'Tomas',\n",
       "   'gender': 'male',\n",
       "   'probability': 0.99,\n",
       "   'count': 35318}],\n",
       " 'Ordonez Hernandez Daniel': [{'name': 'Daniel',\n",
       "   'gender': 'male',\n",
       "   'probability': 0.99,\n",
       "   'count': 317409}],\n",
       " 'Ortega Alvarez Omar': [{'name': 'Omar',\n",
       "   'gender': 'male',\n",
       "   'probability': 0.98,\n",
       "   'count': 68333}],\n",
       " 'Parra Alvarez Evelyn': [{'name': 'Evelyn',\n",
       "   'gender': 'female',\n",
       "   'probability': 0.98,\n",
       "   'count': 12188}],\n",
       " 'Peralta Grappin Hector': [{'name': 'Hector',\n",
       "   'gender': 'male',\n",
       "   'probability': 0.99,\n",
       "   'count': 20708}],\n",
       " 'Perez Alvarado Candelario': [{'name': 'Candelario',\n",
       "   'gender': 'male',\n",
       "   'probability': 0.94,\n",
       "   'count': 51}],\n",
       " 'Pool Pech Isaura Ivanova': [{'name': 'Ivanova',\n",
       "   'gender': 'female',\n",
       "   'probability': 0.96,\n",
       "   'count': 136}],\n",
       " 'Ramirez Peralta Karen Orney': [{'name': 'Orney',\n",
       "   'gender': 'female',\n",
       "   'probability': 0.56,\n",
       "   'count': 9}],\n",
       " 'Reyes Alvarez Felipe': [{'name': 'Felipe',\n",
       "   'gender': 'male',\n",
       "   'probability': 0.98,\n",
       "   'count': 18670}],\n",
       " 'Rubio Quiroz Juan Fernando': [{'name': 'Fernando',\n",
       "   'gender': 'male',\n",
       "   'probability': 0.99,\n",
       "   'count': 88476}],\n",
       " 'Saldana Moran Julio': [{'name': 'Julio',\n",
       "   'gender': 'male',\n",
       "   'probability': 0.98,\n",
       "   'count': 37832}],\n",
       " 'Santana Alfaro Arturo': [{'name': 'Arturo',\n",
       "   'gender': 'male',\n",
       "   'probability': 0.99,\n",
       "   'count': 15987}],\n",
       " 'Santiago Lopez Jose': [{'name': 'Jose',\n",
       "   'gender': 'male',\n",
       "   'probability': 0.98,\n",
       "   'count': 451671}],\n",
       " 'Saucedo Reyes Araceli': [{'name': 'Araceli',\n",
       "   'gender': 'female',\n",
       "   'probability': 0.99,\n",
       "   'count': 4055}],\n",
       " 'Soto Espino Armando': [{'name': 'Armando',\n",
       "   'gender': 'male',\n",
       "   'probability': 0.99,\n",
       "   'count': 21130}],\n",
       " 'Soto Gonzalez Cecilia Guadalupe': [{'name': 'Guadalupe',\n",
       "   'gender': 'female',\n",
       "   'probability': 0.95,\n",
       "   'count': 2680}],\n",
       " 'Tello Lopez Jorge': [{'name': 'Jorge',\n",
       "   'gender': 'male',\n",
       "   'probability': 0.99,\n",
       "   'count': 118451}],\n",
       " 'Miriam Tinoco Soto': [{'name': 'Soto',\n",
       "   'gender': 'male',\n",
       "   'probability': 0.88,\n",
       "   'count': 274}],\n",
       " 'Valera Fuentes Diego Valente': [{'name': 'Valente',\n",
       "   'gender': 'male',\n",
       "   'probability': 0.82,\n",
       "   'count': 385}],\n",
       " 'Wences Real Victoriano': [{'name': 'Victoriano',\n",
       "   'gender': 'male',\n",
       "   'probability': 0.98,\n",
       "   'count': 402}],\n",
       " 'Zambrano Grijalva Jose de Jesus': [{'name': 'Jesus',\n",
       "   'gender': 'male',\n",
       "   'probability': 0.98,\n",
       "   'count': 75065}],\n",
       " 'Abdala Dartigues Rodrigo': [{'name': 'Rodrigo',\n",
       "   'gender': 'male',\n",
       "   'probability': 0.99,\n",
       "   'count': 22355}],\n",
       " 'Aceves Pastrana Patricia Elena': [{'name': 'Elena',\n",
       "   'gender': 'female',\n",
       "   'probability': 0.99,\n",
       "   'count': 149871}],\n",
       " 'Alva y Alva Miguel': [{'name': 'Miguel',\n",
       "   'gender': 'male',\n",
       "   'probability': 0.99,\n",
       "   'count': 158479}],\n",
       " 'Alvarez Lopez Jesus Emiliano': [{'name': 'Emiliano',\n",
       "   'gender': 'male',\n",
       "   'probability': 0.99,\n",
       "   'count': 8829}],\n",
       " 'Armenta Mier Alejandro': [{'name': 'Alejandro',\n",
       "   'gender': 'male',\n",
       "   'probability': 0.99,\n",
       "   'count': 56977}],\n",
       " 'Baron Ortiz Natalia Karina': [{'name': 'Karina',\n",
       "   'gender': 'female',\n",
       "   'probability': 0.98,\n",
       "   'count': 29586}],\n",
       " 'Barrientos Pantoja Alicia': [{'name': 'Alicia',\n",
       "   'gender': 'female',\n",
       "   'probability': 0.98,\n",
       "   'count': 41386}],\n",
       " 'Basurto Roman Alfredo': [{'name': 'Alfredo',\n",
       "   'gender': 'male',\n",
       "   'probability': 0.99,\n",
       "   'count': 28805}],\n",
       " 'Caballero Pedraza Virgilio Dante': [{'name': 'Dante',\n",
       "   'gender': 'male',\n",
       "   'probability': 0.98,\n",
       "   'count': 5943}],\n",
       " 'Calderon Torreblanca Fidel': [{'name': 'Fidel',\n",
       "   'gender': 'male',\n",
       "   'probability': 0.93,\n",
       "   'count': 3581}],\n",
       " 'Cardenas Mariscal Maria Antonia': [{'name': 'Antonia',\n",
       "   'gender': 'female',\n",
       "   'probability': 0.98,\n",
       "   'count': 18904}],\n",
       " 'Carrera Hernandez Ana Leticia': [{'name': 'Leticia',\n",
       "   'gender': 'female',\n",
       "   'probability': 0.98,\n",
       "   'count': 10868}],\n",
       " 'Castro Vazquez Rogerio': [{'name': 'Rogerio',\n",
       "   'gender': 'male',\n",
       "   'probability': 0.99,\n",
       "   'count': 3229}],\n",
       " 'Canedo Jimenez Roberto Alejandro': [{'name': 'Alejandro',\n",
       "   'gender': 'male',\n",
       "   'probability': 0.99,\n",
       "   'count': 56977}],\n",
       " 'Cervera Garcia Rene': [{'name': 'Rene',\n",
       "   'gender': 'male',\n",
       "   'probability': 0.91,\n",
       "   'count': 35497}],\n",
       " 'Chavez Garcia Maria': [{'name': 'Maria',\n",
       "   'gender': 'female',\n",
       "   'probability': 0.98,\n",
       "   'count': 334287}],\n",
       " 'Contreras Julian Maricela': [{'name': 'Maricela',\n",
       "   'gender': 'female',\n",
       "   'probability': 0.98,\n",
       "   'count': 721}],\n",
       " 'Cuata Dominguez Blanca Margarita': [{'name': 'Margarita',\n",
       "   'gender': 'female',\n",
       "   'probability': 0.98,\n",
       "   'count': 12994}],\n",
       " 'Damian Gonzalez Araceli': [{'name': 'Araceli',\n",
       "   'gender': 'female',\n",
       "   'probability': 0.99,\n",
       "   'count': 4055}],\n",
       " 'Esquivel Valdes Laura Beatriz': [{'name': 'Beatriz',\n",
       "   'gender': 'female',\n",
       "   'probability': 0.99,\n",
       "   'count': 27836}],\n",
       " 'Fuentes Alonso Modesta': [{'name': 'Modesta',\n",
       "   'gender': 'female',\n",
       "   'probability': 0.98,\n",
       "   'count': 298}],\n",
       " 'Galico Felix Diaz Sara Paola': [{'name': 'Paola',\n",
       "   'gender': 'female',\n",
       "   'probability': 0.99,\n",
       "   'count': 56601}],\n",
       " 'Garcia Chavez Hector Javier': [{'name': 'Javier',\n",
       "   'gender': 'male',\n",
       "   'probability': 0.99,\n",
       "   'count': 106497}],\n",
       " 'Garcia Jimenez Cuitlahuac': [{'name': 'Cuitlahuac',\n",
       "   'gender': 'male',\n",
       "   'probability': 1.0,\n",
       "   'count': 1}],\n",
       " 'Garcia Navarro Otniel': [{'name': 'Otniel',\n",
       "   'gender': 'male',\n",
       "   'probability': 0.99,\n",
       "   'count': 82}],\n",
       " 'Godoy Ramos Ernestina': [{'name': 'Ernestina',\n",
       "   'gender': 'female',\n",
       "   'probability': 0.99,\n",
       "   'count': 562}],\n",
       " 'Gomez Alvarez Delfina': [{'name': 'Delfina',\n",
       "   'gender': 'female',\n",
       "   'probability': 0.98,\n",
       "   'count': 1352}],\n",
       " 'Guzman Jacobo Roberto': [{'name': 'Roberto',\n",
       "   'gender': 'male',\n",
       "   'probability': 0.99,\n",
       "   'count': 151858}],\n",
       " 'Hernandez Colin Norma Xochitl': [{'name': 'Xochitl',\n",
       "   'gender': 'female',\n",
       "   'probability': 1.0,\n",
       "   'count': 70}],\n",
       " 'Hernandez Correa Guadalupe': [{'name': 'Guadalupe',\n",
       "   'gender': 'female',\n",
       "   'probability': 0.95,\n",
       "   'count': 2680}],\n",
       " 'Hernandez Miron Carlos': [{'name': 'Carlos',\n",
       "   'gender': 'male',\n",
       "   'probability': 0.99,\n",
       "   'count': 236888}],\n",
       " 'Hernandez de la Piedra Angel Antonio': [{'name': 'Antonio',\n",
       "   'gender': 'male',\n",
       "   'probability': 0.99,\n",
       "   'count': 328654}],\n",
       " 'Hurtado Arana Karen': [{'name': 'Karen',\n",
       "   'gender': 'female',\n",
       "   'probability': 0.95,\n",
       "   'count': 48557}],\n",
       " 'Juarez Rodriguez Mario Ariel': [{'name': 'Ariel',\n",
       "   'gender': 'male',\n",
       "   'probability': 0.81,\n",
       "   'count': 11501}],\n",
       " 'Lomeli Bolanos Carlos (LICENCIA)': [{'name': 'Carlos',\n",
       "   'gender': 'male',\n",
       "   'probability': 0.99,\n",
       "   'count': 236888}],\n",
       " 'Martinez Urincho Alberto': [{'name': 'Alberto',\n",
       "   'gender': 'male',\n",
       "   'probability': 0.99,\n",
       "   'count': 124347}],\n",
       " 'Meza Guzman Lucia Virginia': [{'name': 'Virginia',\n",
       "   'gender': 'female',\n",
       "   'probability': 0.99,\n",
       "   'count': 36136}],\n",
       " 'Molina Arias Renato Josafat': [{'name': 'Josafat',\n",
       "   'gender': 'male',\n",
       "   'probability': 0.95,\n",
       "   'count': 59}],\n",
       " 'Montiel Reyes Ariadna': [{'name': 'Ariadna',\n",
       "   'gender': 'female',\n",
       "   'probability': 0.99,\n",
       "   'count': 3850}],\n",
       " 'Nahle Garcia Norma Rocio': [{'name': 'Rocio',\n",
       "   'gender': 'female',\n",
       "   'probability': 0.99,\n",
       "   'count': 38361}],\n",
       " 'Ojeda Anguiano Jeronimo Alejandro': [{'name': 'Alejandro',\n",
       "   'gender': 'male',\n",
       "   'probability': 0.99,\n",
       "   'count': 56977}],\n",
       " 'Vidal Llerenas Morales': [{'name': 'Morales',\n",
       "   'gender': 'male',\n",
       "   'probability': 0.8,\n",
       "   'count': 381}],\n",
       " 'Ramos Ramirez Blandina': [{'name': 'Blandina',\n",
       "   'gender': 'female',\n",
       "   'probability': 0.96,\n",
       "   'count': 77}],\n",
       " 'Sandra Luz Falcon Venegas': [{'name': 'Venegas',\n",
       "   'gender': 'female',\n",
       "   'probability': 0.5,\n",
       "   'count': 10}],\n",
       " 'Romero Tenorio Juan': [{'name': 'Juan',\n",
       "   'gender': 'male',\n",
       "   'probability': 0.98,\n",
       "   'count': 274814}],\n",
       " 'Santiago Rodriguez Guillermo Rafael': [{'name': 'Rafael',\n",
       "   'gender': 'male',\n",
       "   'probability': 0.99,\n",
       "   'count': 45829}],\n",
       " 'Serrano Lora Jesus': [{'name': 'Jesus',\n",
       "   'gender': 'male',\n",
       "   'probability': 0.98,\n",
       "   'count': 75065}],\n",
       " 'Trejo Flores Mariana': [{'name': 'Mariana',\n",
       "   'gender': 'female',\n",
       "   'probability': 0.98,\n",
       "   'count': 28214}],\n",
       " 'Valencia Guzman Jesus Salvador': [{'name': 'Salvador',\n",
       "   'gender': 'male',\n",
       "   'probability': 0.98,\n",
       "   'count': 10346}],\n",
       " 'Villa Gonzalez Concepcion': [{'name': 'Concepcion',\n",
       "   'gender': 'female',\n",
       "   'probability': 0.97,\n",
       "   'count': 1033}],\n",
       " 'Alvarez Angli Arturo': [{'name': 'Arturo',\n",
       "   'gender': 'male',\n",
       "   'probability': 0.99,\n",
       "   'count': 15987}],\n",
       " 'Alvarez Pinones Rosa Alicia': [{'name': 'Alicia',\n",
       "   'gender': 'female',\n",
       "   'probability': 0.98,\n",
       "   'count': 41386}],\n",
       " 'Arevalo Gonzalez Jose Antonio': [{'name': 'Antonio',\n",
       "   'gender': 'male',\n",
       "   'probability': 0.99,\n",
       "   'count': 328654}],\n",
       " 'Arzaluz Alonso Alma Lucia': [{'name': 'Lucia',\n",
       "   'gender': 'female',\n",
       "   'probability': 0.99,\n",
       "   'count': 80584}],\n",
       " 'Avila Serna Maria': [{'name': 'Maria',\n",
       "   'gender': 'female',\n",
       "   'probability': 0.98,\n",
       "   'count': 334287}],\n",
       " 'Bernardino Vargas Omar Noe': [{'name': 'Noe',\n",
       "   'gender': 'female',\n",
       "   'probability': 0.8,\n",
       "   'count': 8887}],\n",
       " 'Canales Suarez Paloma': [{'name': 'Paloma',\n",
       "   'gender': 'female',\n",
       "   'probability': 0.98,\n",
       "   'count': 10947}],\n",
       " 'Canavati Tafich Jesus Ricardo': [{'name': 'Ricardo',\n",
       "   'gender': 'male',\n",
       "   'probability': 0.99,\n",
       "   'count': 75750}],\n",
       " 'Celis Aguirre Juan Manuel': [{'name': 'Manuel',\n",
       "   'gender': 'male',\n",
       "   'probability': 0.99,\n",
       "   'count': 166605}],\n",
       " 'Chavarrias Barajas Eloisa': [{'name': 'Eloisa',\n",
       "   'gender': 'female',\n",
       "   'probability': 0.98,\n",
       "   'count': 1840}],\n",
       " 'Corona Valdes Lorena': [{'name': 'Lorena',\n",
       "   'gender': 'female',\n",
       "   'probability': 0.99,\n",
       "   'count': 48688}],\n",
       " 'Couttolenc Buentello Jose Alberto': [{'name': 'Alberto',\n",
       "   'gender': 'male',\n",
       "   'probability': 0.99,\n",
       "   'count': 124347}],\n",
       " 'Cuenca Ayala Sharon Maria Teresa': [{'name': 'Teresa',\n",
       "   'gender': 'female',\n",
       "   'probability': 0.98,\n",
       "   'count': 51700}],\n",
       " 'Fernandez del Valle Laisequilla Andres': [{'name': 'Andres',\n",
       "   'gender': 'male',\n",
       "   'probability': 0.98,\n",
       "   'count': 46013}],\n",
       " 'Flores Carranza Evelyng Soraya': [{'name': 'Soraya',\n",
       "   'gender': 'female',\n",
       "   'probability': 0.98,\n",
       "   'count': 15050}],\n",
       " 'Quirino Ordaz Coppel': [{'name': 'Coppel',\n",
       "   'gender': 'male',\n",
       "   'probability': 0.8,\n",
       "   'count': 5}],\n",
       " 'Wendolin Toledo Aceves': [{'name': 'Aceves',\n",
       "   'gender': 'male',\n",
       "   'probability': 0.75,\n",
       "   'count': 4}],\n",
       " 'Jorgina Gaxiola Lezama': [{'name': 'Lezama',\n",
       "   'gender': 'male',\n",
       "   'probability': 1.0,\n",
       "   'count': 3}],\n",
       " 'Gonzalez Torres Sofia': [{'name': 'Sofia',\n",
       "   'gender': 'female',\n",
       "   'probability': 0.98,\n",
       "   'count': 59571}],\n",
       " 'Jorge Alvarez Lopez': [{'name': 'Lopez',\n",
       "   'gender': 'male',\n",
       "   'probability': 0.67,\n",
       "   'count': 2500}],\n",
       " 'Guevara Jimenez Yaret Adriana': [{'name': 'Adriana',\n",
       "   'gender': 'female',\n",
       "   'probability': 0.99,\n",
       "   'count': 49650}],\n",
       " 'Guirao Aguilar Leonardo Rafael': [{'name': 'Rafael',\n",
       "   'gender': 'male',\n",
       "   'probability': 0.99,\n",
       "   'count': 45829}],\n",
       " 'Herrera Borunda Javier Octavio': [{'name': 'Octavio',\n",
       "   'gender': 'male',\n",
       "   'probability': 0.99,\n",
       "   'count': 2450}],\n",
       " 'Limon Garcia Lia': [{'name': 'Lia',\n",
       "   'gender': 'female',\n",
       "   'probability': 0.97,\n",
       "   'count': 12635}],\n",
       " 'Luis Ignacio Avendano Bermudez': [{'name': 'Bermudez',\n",
       "   'gender': 'male',\n",
       "   'probability': 0.86,\n",
       "   'count': 21}],\n",
       " 'Remberto Estrada Barba': [{'name': 'Barba',\n",
       "   'gender': 'male',\n",
       "   'probability': 0.77,\n",
       "   'count': 319}],\n",
       " 'Marquez Alvarado Cesareo Jorge': [{'name': 'Jorge',\n",
       "   'gender': 'male',\n",
       "   'probability': 0.99,\n",
       "   'count': 118451}],\n",
       " 'Mendoza Amezcua Virgilio': [{'name': 'Virgilio',\n",
       "   'gender': 'male',\n",
       "   'probability': 0.99,\n",
       "   'count': 2494}],\n",
       " 'Ochoa Rojas Candido': [{'name': 'Candido',\n",
       "   'gender': 'male',\n",
       "   'probability': 0.98,\n",
       "   'count': 1553}],\n",
       " 'Jesus Gerardo Izquierdo Rojas': [{'name': 'Rojas',\n",
       "   'gender': 'male',\n",
       "   'probability': 0.78,\n",
       "   'count': 124}],\n",
       " 'Salazar Farias Emilio Enrique': [{'name': 'Enrique',\n",
       "   'gender': 'male',\n",
       "   'probability': 0.99,\n",
       "   'count': 25630}],\n",
       " 'Sandoval Rodriguez Jose Refugio': [{'name': 'Refugio',\n",
       "   'gender': 'male',\n",
       "   'probability': 0.86,\n",
       "   'count': 36}],\n",
       " 'Sedas Castro Miguel Angel': [{'name': 'Angel',\n",
       "   'gender': 'male',\n",
       "   'probability': 0.68,\n",
       "   'count': 105060}],\n",
       " 'Sesma Suarez Jesus': [{'name': 'Jesus',\n",
       "   'gender': 'male',\n",
       "   'probability': 0.98,\n",
       "   'count': 75065}],\n",
       " 'Torres Rivas Francisco Alberto': [{'name': 'Alberto',\n",
       "   'gender': 'male',\n",
       "   'probability': 0.99,\n",
       "   'count': 124347}],\n",
       " 'Daniela De Los Santos Torres': [{'name': 'Torres',\n",
       "   'gender': 'male',\n",
       "   'probability': 0.89,\n",
       "   'count': 1420}],\n",
       " 'Villanueva Huerta Claudia': [{'name': 'Claudia',\n",
       "   'gender': 'female',\n",
       "   'probability': 0.98,\n",
       "   'count': 118604}],\n",
       " 'Zamora Morlet Enrique': [{'name': 'Enrique',\n",
       "   'gender': 'male',\n",
       "   'probability': 0.99,\n",
       "   'count': 25630}],\n",
       " 'Alvarez Maynez Jorge': [{'name': 'Jorge',\n",
       "   'gender': 'male',\n",
       "   'probability': 0.99,\n",
       "   'count': 118451}],\n",
       " 'Veronica Delgadillo Garcia': [{'name': 'Garcia',\n",
       "   'gender': 'male',\n",
       "   'probability': 0.7,\n",
       "   'count': 2035}],\n",
       " 'Cardenas Gutierrez Gustavo Adolfo': [{'name': 'Adolfo',\n",
       "   'gender': 'male',\n",
       "   'probability': 0.99,\n",
       "   'count': 6858}],\n",
       " 'Salvador Zamora Zamora': [{'name': 'Zamora',\n",
       "   'gender': 'male',\n",
       "   'probability': 0.76,\n",
       "   'count': 134}],\n",
       " 'Corichi Garcia Claudia Sofia': [{'name': 'Sofia',\n",
       "   'gender': 'female',\n",
       "   'probability': 0.98,\n",
       "   'count': 59571}],\n",
       " 'Flores Gomez Mirza (LICENCIA)': [{'name': 'Mirza',\n",
       "   'gender': 'male',\n",
       "   'probability': 0.93,\n",
       "   'count': 3429}],\n",
       " 'Luis Ernesto Munguia Gonzalez': [{'name': 'Gonzalez',\n",
       "   'gender': 'male',\n",
       "   'probability': 0.67,\n",
       "   'count': 723}],\n",
       " 'Jose Clemente Castaneda Hoeflich': [{'name': 'Hoeflich',\n",
       "   'gender': None,\n",
       "   'probability': 0.0,\n",
       "   'count': 0}],\n",
       " 'Guerra Mota Moises': [{'name': 'Moises',\n",
       "   'gender': 'male',\n",
       "   'probability': 0.99,\n",
       "   'count': 7863}],\n",
       " 'Hauffen Torres Angie Dennisse': [{'name': 'Dennisse',\n",
       "   'gender': 'female',\n",
       "   'probability': 0.94,\n",
       "   'count': 64}],\n",
       " 'Mercado Sanchez Ma. Victoria': [{'name': 'Victoria',\n",
       "   'gender': 'female',\n",
       "   'probability': 0.98,\n",
       "   'count': 35658}],\n",
       " 'Jonadab Martinez Garcia': [{'name': 'Garcia',\n",
       "   'gender': 'male',\n",
       "   'probability': 0.7,\n",
       "   'count': 2035}],\n",
       " 'Ochoa Avalos Maria Candelaria': [{'name': 'Candelaria',\n",
       "   'gender': 'female',\n",
       "   'probability': 0.99,\n",
       "   'count': 434}],\n",
       " 'Perez Utrera Adan': [{'name': 'Adan',\n",
       "   'gender': 'male',\n",
       "   'probability': 0.95,\n",
       "   'count': 3144}],\n",
       " 'Plascencia Pacheco Laura Nereida': [{'name': 'Nereida',\n",
       "   'gender': 'female',\n",
       "   'probability': 0.99,\n",
       "   'count': 924}],\n",
       " 'Ralis Cumplido German Ernesto': [{'name': 'Ernesto',\n",
       "   'gender': 'male',\n",
       "   'probability': 0.99,\n",
       "   'count': 15976}],\n",
       " 'Ramirez Nachis Rosa Alba': [{'name': 'Alba',\n",
       "   'gender': 'female',\n",
       "   'probability': 0.97,\n",
       "   'count': 30366}],\n",
       " 'Maria Elena Orantes Lopez': [{'name': 'Lopez',\n",
       "   'gender': 'male',\n",
       "   'probability': 0.67,\n",
       "   'count': 2500}],\n",
       " 'Sanchez Orozco Victor Manuel': [{'name': 'Manuel',\n",
       "   'gender': 'male',\n",
       "   'probability': 0.99,\n",
       "   'count': 166605}],\n",
       " 'Tamez Guajardo Macedonio Salomon': [{'name': 'Salomon',\n",
       "   'gender': 'male',\n",
       "   'probability': 0.97,\n",
       "   'count': 1588}],\n",
       " 'Toledo Ibarra Marbella': [{'name': 'Marbella',\n",
       "   'gender': 'female',\n",
       "   'probability': 0.75,\n",
       "   'count': 183}],\n",
       " 'Garcia Yanez Angel': [{'name': 'Angel',\n",
       "   'gender': 'male',\n",
       "   'probability': 0.68,\n",
       "   'count': 105060}],\n",
       " 'Gonzalez Luna Josefina': [{'name': 'Josefina',\n",
       "   'gender': 'female',\n",
       "   'probability': 0.98,\n",
       "   'count': 3440}],\n",
       " 'Manuel Alexander Zetina Aguiluz': [{'name': 'Aguiluz',\n",
       "   'gender': None,\n",
       "   'probability': 0.0,\n",
       "   'count': 0}],\n",
       " 'Jose Bernardo Quezada Salas': [{'name': 'Salas',\n",
       "   'gender': 'male',\n",
       "   'probability': 0.95,\n",
       "   'count': 908}],\n",
       " 'Mendez Salas Jesus Rafael': [{'name': 'Rafael',\n",
       "   'gender': 'male',\n",
       "   'probability': 0.99,\n",
       "   'count': 45829}],\n",
       " 'Ocampo Bedolla Maria Eugenia': [{'name': 'Eugenia',\n",
       "   'gender': 'female',\n",
       "   'probability': 0.98,\n",
       "   'count': 6715}],\n",
       " 'Palomares Ramirez Elvia Graciela': [{'name': 'Graciela',\n",
       "   'gender': 'female',\n",
       "   'probability': 0.98,\n",
       "   'count': 3285}],\n",
       " 'Jorge Gavino Ambriz': [{'name': 'Ambriz',\n",
       "   'gender': 'male',\n",
       "   'probability': 1.0,\n",
       "   'count': 8}],\n",
       " 'Reyes Avila Angelica': [{'name': 'Angelica',\n",
       "   'gender': 'female',\n",
       "   'probability': 0.99,\n",
       "   'count': 17941}],\n",
       " 'Soralla Banuelos de la Torre': [{'name': 'Torre',\n",
       "   'gender': 'male',\n",
       "   'probability': 0.86,\n",
       "   'count': 261}],\n",
       " 'Sanchez Ruiz Karina': [{'name': 'Karina',\n",
       "   'gender': 'female',\n",
       "   'probability': 0.98,\n",
       "   'count': 29586}],\n",
       " 'Torres Sandoval Melissa': [{'name': 'Melissa',\n",
       "   'gender': 'female',\n",
       "   'probability': 0.99,\n",
       "   'count': 63975}],\n",
       " 'Valles Mendoza Luis Alfredo': [{'name': 'Alfredo',\n",
       "   'gender': 'male',\n",
       "   'probability': 0.99,\n",
       "   'count': 28805}],\n",
       " 'Cruz Hernandez Abel': [{'name': 'Abel',\n",
       "   'gender': 'male',\n",
       "   'probability': 0.98,\n",
       "   'count': 15409}],\n",
       " 'Hugo Eric Flores Cervantes': [{'name': 'Cervantes',\n",
       "   'gender': 'male',\n",
       "   'probability': 0.87,\n",
       "   'count': 109}],\n",
       " 'Ferreiro Velazco Jose Alfredo': [{'name': 'Alfredo',\n",
       "   'gender': 'male',\n",
       "   'probability': 0.99,\n",
       "   'count': 28805}],\n",
       " 'Garcia Soberanes Cynthia Gissel': [{'name': 'Gissel',\n",
       "   'gender': 'female',\n",
       "   'probability': 0.97,\n",
       "   'count': 189}],\n",
       " 'Garzon Canchola Refugio Trinidad': [{'name': 'Trinidad',\n",
       "   'gender': 'female',\n",
       "   'probability': 0.92,\n",
       "   'count': 1047}],\n",
       " 'Guizar Valladares Gonzalo': [{'name': 'Gonzalo',\n",
       "   'gender': 'male',\n",
       "   'probability': 0.99,\n",
       "   'count': 14183}],\n",
       " 'Sasil Dora Luz De Leon Villard': [{'name': 'Villard',\n",
       "   'gender': 'male',\n",
       "   'probability': 0.72,\n",
       "   'count': 81}],\n",
       " 'Martinez Guzman Norma Edith': [{'name': 'Edith',\n",
       "   'gender': 'female',\n",
       "   'probability': 0.98,\n",
       "   'count': 12157}],\n",
       " 'Perea Santos Ana Guadalupe': [{'name': 'Guadalupe',\n",
       "   'gender': 'female',\n",
       "   'probability': 0.95,\n",
       "   'count': 2680}],\n",
       " 'Pineda Morin Abdies': [{'name': 'Abdies',\n",
       "   'gender': 'male',\n",
       "   'probability': 1.0,\n",
       "   'count': 1}],\n",
       " 'Sarur Torre Adriana': [{'name': 'Adriana',\n",
       "   'gender': 'female',\n",
       "   'probability': 0.99,\n",
       "   'count': 49650}],\n",
       " 'Manuel Jesus Clouthier Carrillo': [{'name': 'Carrillo',\n",
       "   'gender': 'male',\n",
       "   'probability': 0.82,\n",
       "   'count': 67}],\n",
       " 'Espino Manuel de Jesus': [{'name': 'Jesus',\n",
       "   'gender': 'male',\n",
       "   'probability': 0.98,\n",
       "   'count': 75065}],\n",
       " 'Flores Sosa Cesar': [{'name': 'Cesar',\n",
       "   'gender': 'male',\n",
       "   'probability': 0.98,\n",
       "   'count': 27863}],\n",
       " 'Guerrero Garcia Javier': [{'name': 'Javier',\n",
       "   'gender': 'male',\n",
       "   'probability': 0.99,\n",
       "   'count': 106497}],\n",
       " 'Martinez Neri Francisco': [{'name': 'Francisco',\n",
       "   'gender': 'male',\n",
       "   'probability': 0.99,\n",
       "   'count': 98797}],\n",
       " 'Spinoso Carrera Edgar': [{'name': 'Edgar',\n",
       "   'gender': 'male',\n",
       "   'probability': 0.99,\n",
       "   'count': 16632}],\n",
       " 'Toledo Medina Jose Luis': [{'name': 'Luis',\n",
       "   'gender': 'male',\n",
       "   'probability': 0.99,\n",
       "   'count': 176693}]}"
      ]
     },
     "execution_count": 12,
     "metadata": {},
     "output_type": "execute_result"
    }
   ],
   "source": [
    "mapping_names_gender63"
   ]
  },
  {
   "cell_type": "code",
   "execution_count": 30,
   "metadata": {},
   "outputs": [],
   "source": [
    "clean_gender63 = {}\n",
    "for x, y in mapping_names_gender63.items():\n",
    "    if x == 'Abdala Carmona Yahleel':\n",
    "        clean_gender63[x] = 'male'\n",
    "    elif x == 'Hermosillo Arteaga Carlos Gerardo (DECESO)':\n",
    "        clean_gender63[x] = 'male'\n",
    "    elif x == 'Ma. Marcela Gonzalez Salas y Petricioli':\n",
    "        clean_gender63[x] = 'female'\n",
    "    elif x == 'Rojas San Roman Francisco Lauro (DECESO)':\n",
    "        clean_gender63[x] = 'male'\n",
    "    elif x == 'Castanon Herrera Eukid':\n",
    "        clean_gender63[x] = 'male'\n",
    "    elif x == 'Schemelensky Castro Ingrid Krasopani (LICENCIA)':\n",
    "        clean_gender63[x] = 'female'\n",
    "    elif x == 'Mayra Angelica Enriquez Vanderkam':\n",
    "        clean_gender63[x] = 'female'\n",
    "    elif x == 'Jose Clemente Castaneda Hoeflich':\n",
    "        clean_gender63[x] = 'male'\n",
    "    elif x == 'Manuel Alexander Zetina Aguiluz':\n",
    "        clean_gender63[x] = 'male'\n",
    "    else:\n",
    "        clean_gender63[x] = y[0]['gender']"
   ]
  },
  {
   "cell_type": "code",
   "execution_count": 31,
   "metadata": {},
   "outputs": [],
   "source": [
    "for x, y in clean_gender63.items():\n",
    "    if y == None:\n",
    "        print(x)"
   ]
  },
  {
   "cell_type": "code",
   "execution_count": 34,
   "metadata": {},
   "outputs": [],
   "source": [
    "gender_data63 = []\n",
    "for x, y in zip(id_s, clean_gender63.keys()):\n",
    "    temp = {}\n",
    "    temp['id_legislador'] = x\n",
    "    temp['name_legislador'] = y\n",
    "    temp['gender'] = clean_gender63[y]\n",
    "    gender_data63.append(temp)"
   ]
  },
  {
   "cell_type": "code",
   "execution_count": null,
   "metadata": {},
   "outputs": [],
   "source": [
    "pd.DataFrame(gender_data63)"
   ]
  },
  {
   "cell_type": "code",
   "execution_count": 27,
   "metadata": {},
   "outputs": [],
   "source": [
    "with open('/Users/cblanesg/cam.blanes Dropbox/Camila Blanes/Congressional-dataMX/data/01-collection_data/00-id_data/00-id/mapping_gender62.json', 'w') as file:\n",
    "    json.dump(gender_data62, file)"
   ]
  },
  {
   "cell_type": "code",
   "execution_count": null,
   "metadata": {},
   "outputs": [],
   "source": [
    "clean_gender = {}\n",
    "for x, y in mapping_names_gender62.items():\n",
    "    if x == 'Alvarado Sánchez Brenda María Izontli':\n",
    "        clean_gender[x] = 'female'\n",
    "    elif x == 'Barrera Estrada Rodimiro':\n",
    "        clean_gender[x] ='male'\n",
    "    elif x == 'Villaseñor Gudiño Blanca Ma.':\n",
    "        clean_gender[x] ='female'\n",
    "    elif x == 'García Rojas Mariana Dunyaska':\n",
    "        clean_gender[x] ='female'\n",
    "    elif x == 'Salinas Mendiola Glafiro':\n",
    "        clean_gender[x] ='male'\n",
    "    elif x == 'Yáñez Robles Elizabeth Oswelia':\n",
    "        clean_gender[x] ='female'\n",
    "    else:\n",
    "        clean_gender[x] = y[0]['gender']\n",
    "\n",
    "for x, y in clean_gender.items():\n",
    "    if y == None:\n",
    "        print(x)\n",
    "\n",
    "gender_data62 = []\n",
    "for x, y in zip(id_s, clean_gender.keys()):\n",
    "    temp = {}\n",
    "    temp['id_legislador'] = x\n",
    "    temp['name_legislador'] = y\n",
    "    temp['gender'] = clean_gender[y]\n",
    "    gender_data62.append(temp)\n",
    "\n",
    "pd.DataFrame(gender_data62)\n",
    "\n",
    "with open('/Users/cblanesg/cam.blanes Dropbox/Camila Blanes/Congressional-dataMX/data/01-collection_data/00-id_data/00-id/mapping_gender62.json', 'w') as file:\n",
    "    json.dump(gender_data62, file)"
   ]
  }
 ],
 "metadata": {
  "kernelspec": {
   "display_name": "Python 3",
   "language": "python",
   "name": "python3"
  },
  "language_info": {
   "codemirror_mode": {
    "name": "ipython",
    "version": 3
   },
   "file_extension": ".py",
   "mimetype": "text/x-python",
   "name": "python",
   "nbconvert_exporter": "python",
   "pygments_lexer": "ipython3",
   "version": "3.8.3"
  }
 },
 "nbformat": 4,
 "nbformat_minor": 4
}
