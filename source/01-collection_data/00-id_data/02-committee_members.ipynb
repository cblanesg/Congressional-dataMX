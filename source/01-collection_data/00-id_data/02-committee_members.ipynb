{
 "cells": [
  {
   "cell_type": "markdown",
   "metadata": {},
   "source": [
    "## Comisiones"
   ]
  },
  {
   "cell_type": "code",
   "execution_count": 1,
   "metadata": {},
   "outputs": [],
   "source": [
    "from webdriver_manager.chrome import ChromeDriverManager\n",
    "from selenium.webdriver import Chrome\n",
    "from selenium import webdriver\n",
    "import re\n",
    "import time\n",
    "import json\n",
    "import pandas as pd\n",
    "import datetime\n",
    "from tqdm import tqdm\n",
    "from datetime import date\n",
    "from selenium.webdriver.chrome.options import Options"
   ]
  },
  {
   "cell_type": "code",
   "execution_count": 2,
   "metadata": {},
   "outputs": [
    {
     "name": "stderr",
     "output_type": "stream",
     "text": [
      "[WDM] - Current google-chrome version is 85.0.4183\n",
      "[WDM] - Get LATEST driver version for 85.0.4183\n",
      "[WDM] - Driver [/Users/cblanesg/.wdm/drivers/chromedriver/mac64/85.0.4183.87/chromedriver] found in cache\n"
     ]
    },
    {
     "name": "stdout",
     "output_type": "stream",
     "text": [
      " \n"
     ]
    }
   ],
   "source": [
    "options = Options()\n",
    "options.add_argument('--headless')\n",
    "driver = webdriver.Chrome(ChromeDriverManager().install())"
   ]
  },
  {
   "cell_type": "code",
   "execution_count": 35,
   "metadata": {},
   "outputs": [
    {
     "data": {
      "text/plain": [
       "500"
      ]
     },
     "execution_count": 35,
     "metadata": {},
     "output_type": "execute_result"
    }
   ],
   "source": [
    "with open('/Users/cblanesg/cam.blanes Dropbox/Camila Blanes/Congressional-dataMX/data/00-id_data/00-id/id_legislatura64.json') as d:\n",
    "    data = json.load(d)\n",
    "\n",
    "data_inc = []\n",
    "for i in data:\n",
    "    if i['suplente_propietario'] == 'P':\n",
    "        data_inc.append(i)\n",
    "len(data_inc)"
   ]
  },
  {
   "cell_type": "code",
   "execution_count": 36,
   "metadata": {},
   "outputs": [],
   "source": [
    "driver.get(data_inc[0]['link_curricula'])"
   ]
  },
  {
   "cell_type": "code",
   "execution_count": 122,
   "metadata": {},
   "outputs": [],
   "source": []
  },
  {
   "cell_type": "code",
   "execution_count": 37,
   "metadata": {
    "scrolled": true
   },
   "outputs": [
    {
     "name": "stderr",
     "output_type": "stream",
     "text": [
      "100%|██████████| 500/500 [08:32<00:00,  1.03s/it]\n"
     ]
    }
   ],
   "source": [
    "all_comisiones = []\n",
    "for h in tqdm(data_inc):\n",
    "    driver.get(h['link_curricula'])\n",
    "    try:\n",
    "        comisiones = re.sub('\\n', '', re.sub('COMITÉ.*|BICAMARAL.*|COMITé.*|INVESTIGACIóN.*|INVESTIGACIÓN.*|GRUPO DE AMISTAD.*', '', driver.find_element_by_css_selector('body > div > table:nth-child(7) > tbody > tr > td > table:nth-child(1) > tbody > tr:nth-child(2) > td').text))\n",
    "        for i in re.sub('ORDINARIA|ESPECIAL', '', comisiones.split('\\n')[0]).split('|'):\n",
    "            if any(i):\n",
    "                temp = {}\n",
    "                temp['legislatura'] = h['legislatura']\n",
    "                temp['nombre_completo'] = h['nombre_completo']\n",
    "                temp['id_legislador'] = h['id_legislador']\n",
    "                temp['comision'] = re.sub('[ ]+$', '', re.sub('^[ ]+', '', i))\n",
    "                all_comisiones.append(temp)\n",
    "            else:\n",
    "                continue\n",
    "    except:\n",
    "        print(h['link_curricula'])"
   ]
  },
  {
   "cell_type": "code",
   "execution_count": 38,
   "metadata": {},
   "outputs": [
    {
     "data": {
      "text/plain": [
       "array(['Economía, Comercio y Competitividad (Secretaría)',\n",
       "       'Infraestructura', 'Marina',\n",
       "       'Desarrollo y Conservación Rural, Agrícola y Autosuficiencia Alimentaria',\n",
       "       'Pueblos Indígenas (Secretaría)', 'Vivienda',\n",
       "       'Desarrollo Metropolitano, Urbano, Ordenamiento Territorial y Movilidad',\n",
       "       'Desarrollo Social', 'Radio y Televisión (Secretaría)',\n",
       "       'Deporte (Secretaría)', 'Juventud y Diversidad Sexual',\n",
       "       'Asuntos Migratorios',\n",
       "       'Desarrollo y Conservación Rural, Agrícola y Autosuficiencia Alimentaria (Secretaría)',\n",
       "       'Economía, Comercio y Competitividad',\n",
       "       'Jurisdiccional (Secretaría)', 'Hacienda y Crédito Público',\n",
       "       'Puntos Constitucionales (Presidente)',\n",
       "       'Comunicaciones y Transportes', 'Radio y Televisión',\n",
       "       'Turismo (Presidente)', 'Asuntos Frontera Norte',\n",
       "       'Asuntos Frontera Sur', 'Asuntos Migratorios (Secretaría)',\n",
       "       'Atención a Grupos Vulnerables',\n",
       "       'Cultura y Cinematografía (Secretaría)', 'Deporte',\n",
       "       'Defensa Nacional (Secretaría)',\n",
       "       'Protección Civil y Prevención de Desastres', 'Seguridad Pública',\n",
       "       'Medio Ambiente, Sustentabilidad, Cambio Climático y Recursos Naturales (Secretaría)',\n",
       "       'Presupuesto y Cuenta Pública',\n",
       "       'Régimen, Reglamentos y Prácticas Parlamentarias',\n",
       "       'Asuntos Frontera Norte (Secretaría)',\n",
       "       'Federalismo y Desarrollo Municipal',\n",
       "       'Vigilancia de la Auditoría Superior de la Federación (Secretaría)',\n",
       "       'Energía (Secretaría)', 'Energía',\n",
       "       'Hacienda y Crédito Público (Secretaría)',\n",
       "       'Vigilancia de la Auditoría Superior de la Federación',\n",
       "       'Pueblos Indígenas',\n",
       "       'Régimen, Reglamentos y Prácticas Parlamentarias (Secretaría)',\n",
       "       'Trabajo y Previsión Social', 'Salud',\n",
       "       'Seguridad Social (Secretaría)', 'Defensa Nacional',\n",
       "       'Economía Social y Fomento del Cooperativismo (Secretaría)',\n",
       "       'Ciencia, Tecnología e Innovación',\n",
       "       'Juventud y Diversidad Sexual (Presidente)',\n",
       "       'Puntos Constitucionales', 'Igualdad de Género',\n",
       "       'Desarrollo Social (Secretaría)', 'Educación', 'Ganadería',\n",
       "       'Pesca (Secretaría)', 'Juventud y Diversidad Sexual (Secretaría)',\n",
       "       'Derechos Humanos', 'Igualdad de Género (Secretaría)',\n",
       "       'Medio Ambiente, Sustentabilidad, Cambio Climático y Recursos Naturales',\n",
       "       'Puntos Constitucionales (Secretaría)', 'Turismo',\n",
       "       'Gobernación y Población (Presidente)',\n",
       "       'Relaciones Exteriores (Secretaría)',\n",
       "       'Comunicaciones y Transportes (Secretaría)',\n",
       "       'Transparencia y Anticorrupción (Secretaría)',\n",
       "       'Asuntos Frontera Sur (Presidente)', 'Gobernación y Población',\n",
       "       'Desarrollo Metropolitano, Urbano, Ordenamiento Territorial y Movilidad (Secretaría)',\n",
       "       'Recursos Hidráulicos, Agua Potable y Saneamiento',\n",
       "       'Igualdad de Género (Presidente)',\n",
       "       'Transparencia y Anticorrupción',\n",
       "       'Federalismo y Desarrollo Municipal (Secretaría)', 'Justicia',\n",
       "       'Presupuesto y Cuenta Pública (Secretaría)',\n",
       "       'Derechos de la Niñez y Adolescencia',\n",
       "       'Economía Social y Fomento del Cooperativismo',\n",
       "       'Marina (Secretaría)', 'Derechos Humanos (Secretaría)',\n",
       "       'Seguridad Social', 'Pesca', 'Jurisdiccional',\n",
       "       'Vivienda (Secretaría)', 'Justicia (Secretaría)',\n",
       "       'Educación (Secretaría)', 'Cultura y Cinematografía',\n",
       "       'Ganadería (Secretaría)',\n",
       "       'Recursos Hidráulicos, Agua Potable y Saneamiento (Secretaría)',\n",
       "       'Infraestructura (Secretaría)',\n",
       "       'Gobernación y Población (Secretaría)', 'Relaciones Exteriores',\n",
       "       'Infraestructura (Presidente)',\n",
       "       'Recursos Hidráulicos, Agua Potable y Saneamiento (Presidente)',\n",
       "       'Atención a Grupos Vulnerables (Secretaría)',\n",
       "       'Trabajo y Previsión Social (Secretaría)',\n",
       "       'Derechos de la Niñez y Adolescencia (Secretaría)',\n",
       "       'Presupuesto y Cuenta Pública (Presidente)',\n",
       "       'Seguridad Pública (Presidente)', 'Turismo (Secretaría)',\n",
       "       'Ciencia, Tecnología e Innovación (Secretaría)',\n",
       "       'Salud (Secretaría)', 'Pueblos Indígenas (Presidente)',\n",
       "       'Cultura y Cinematografía (Presidente)',\n",
       "       'Seguridad Pública (Secretaría)', 'Educación (Presidente)',\n",
       "       'Desarrollo Social (Presidente)', 'Jurisdiccional (Presidente)',\n",
       "       'Pesca (Presidente)', 'Energía (Presidente)',\n",
       "       'Derechos Humanos (Presidente)', 'Salud (Presidente)',\n",
       "       'Ciencia, Tecnología e Innovación (Presidente)',\n",
       "       'Vivienda (Presidente)',\n",
       "       'Derechos de la Niñez y Adolescencia (Presidente)',\n",
       "       'Asuntos Migratorios (Presidente)',\n",
       "       'Asuntos Frontera Sur (Secretaría)',\n",
       "       'Radio y Televisión (Presidente)',\n",
       "       'Economía Social y Fomento del Cooperativismo (Presidente)',\n",
       "       'Justicia (Presidente)',\n",
       "       'Comunicaciones y Transportes (Presidente)',\n",
       "       'Régimen, Reglamentos y Prácticas Parlamentarias (Presidente)',\n",
       "       'Protección Civil y Prevención de Desastres (Secretaría)',\n",
       "       'Hacienda y Crédito Público (Presidente)',\n",
       "       'Federalismo y Desarrollo Municipal (Presidente)',\n",
       "       'Economía, Comercio y Competitividad (Presidente)',\n",
       "       'Atención a Grupos Vulnerables (Presidente)',\n",
       "       'Defensa Nacional (Presidente)',\n",
       "       'Asuntos Frontera Norte (Presidente)',\n",
       "       'Seguridad Social (Presidente)',\n",
       "       'Relaciones Exteriores (Presidente)',\n",
       "       'Transparencia y Anticorrupción (Presidente)',\n",
       "       'Desarrollo y Conservación Rural, Agrícola y Autosuficiencia Alimentaria (Presidente)',\n",
       "       'Desarrollo Metropolitano, Urbano, Ordenamiento Territorial y Movilidad (Presidente)',\n",
       "       'Vigilancia de la Auditoría Superior de la Federación (Presidente)',\n",
       "       'Ganadería (Presidente)',\n",
       "       'Trabajo y Previsión Social (Presidente)',\n",
       "       'Protección Civil y Prevención de Desastres (Presidente)',\n",
       "       'Deporte (Presidente)', 'Marina (Presidente)',\n",
       "       'Medio Ambiente, Sustentabilidad, Cambio Climático y Recursos Naturales (Presidente)'],\n",
       "      dtype=object)"
      ]
     },
     "execution_count": 38,
     "metadata": {},
     "output_type": "execute_result"
    }
   ],
   "source": [
    "pd.DataFrame(all_comisiones).comision.unique()"
   ]
  },
  {
   "cell_type": "code",
   "execution_count": 40,
   "metadata": {},
   "outputs": [],
   "source": [
    "with open('/Users/cblanesg/cam.blanes Dropbox/Camila Blanes/Congressional-dataMX/data/00-id_data/02-committe_members/committee_members64.json', 'w') as d:\n",
    "    json.dump(all_comisiones, d)"
   ]
  },
  {
   "cell_type": "code",
   "execution_count": null,
   "metadata": {},
   "outputs": [],
   "source": []
  }
 ],
 "metadata": {
  "kernelspec": {
   "display_name": "Python 3",
   "language": "python",
   "name": "python3"
  },
  "language_info": {
   "codemirror_mode": {
    "name": "ipython",
    "version": 3
   },
   "file_extension": ".py",
   "mimetype": "text/x-python",
   "name": "python",
   "nbconvert_exporter": "python",
   "pygments_lexer": "ipython3",
   "version": "3.8.3"
  }
 },
 "nbformat": 4,
 "nbformat_minor": 4
}
