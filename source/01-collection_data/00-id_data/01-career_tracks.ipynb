{
 "cells": [
  {
   "cell_type": "code",
   "execution_count": 13,
   "metadata": {},
   "outputs": [],
   "source": [
    "from webdriver_manager.chrome import ChromeDriverManager\n",
    "from selenium.webdriver import Chrome\n",
    "from selenium import webdriver\n",
    "import re\n",
    "import time\n",
    "import pandas as pd\n",
    "import datetime\n",
    "import uuid\n",
    "from tqdm import tqdm\n",
    "from datetime import date\n",
    "from selenium.webdriver.chrome.options import Options\n",
    "import json"
   ]
  },
  {
   "cell_type": "code",
   "execution_count": 32,
   "metadata": {},
   "outputs": [
    {
     "name": "stderr",
     "output_type": "stream",
     "text": [
      "[WDM] - Current google-chrome version is 85.0.4183\n",
      "[WDM] - Get LATEST driver version for 85.0.4183\n",
      "[WDM] - Driver [/Users/cblanesg/.wdm/drivers/chromedriver/mac64/85.0.4183.87/chromedriver] found in cache\n"
     ]
    },
    {
     "name": "stdout",
     "output_type": "stream",
     "text": [
      " \n"
     ]
    }
   ],
   "source": [
    "options = Options()\n",
    "options.add_argument('--headless')\n",
    "driver = webdriver.Chrome(ChromeDriverManager().install())"
   ]
  },
  {
   "cell_type": "markdown",
   "metadata": {},
   "source": [
    "## Legislatura 61"
   ]
  },
  {
   "cell_type": "code",
   "execution_count": 15,
   "metadata": {},
   "outputs": [],
   "source": [
    "with open('/Users/cblanesg/cam.blanes Dropbox/Camila Blanes/Congressional-dataMX/data/00-id_data/00-id/id_legislatura61.json') as d:\n",
    "    data = json.load(d)"
   ]
  },
  {
   "cell_type": "code",
   "execution_count": 16,
   "metadata": {},
   "outputs": [],
   "source": [
    "data_inc = []\n",
    "for i in data:\n",
    "    if i['suplente_propietario'] == 'P':\n",
    "        data_inc.append(i)\n",
    "    "
   ]
  },
  {
   "cell_type": "code",
   "execution_count": 18,
   "metadata": {},
   "outputs": [
    {
     "data": {
      "text/plain": [
       "500"
      ]
     },
     "execution_count": 18,
     "metadata": {},
     "output_type": "execute_result"
    }
   ],
   "source": [
    "len(data_inc)"
   ]
  },
  {
   "cell_type": "code",
   "execution_count": 26,
   "metadata": {},
   "outputs": [],
   "source": [
    "driver.get(data_inc[0]['link_curricula'])"
   ]
  },
  {
   "cell_type": "code",
   "execution_count": 28,
   "metadata": {},
   "outputs": [],
   "source": [
    "def get_experience61(driver, legis, id_inc):\n",
    "    temp = {}\n",
    "    for i in driver.find_element_by_css_selector('body > table > tbody > tr:nth-child(4) > td > table').find_elements_by_css_selector('tr'): ## loop in rows\n",
    "        if len(i.find_elements_by_css_selector('td')) == 1:\n",
    "            titulo = i.find_elements_by_css_selector('td')[0].text\n",
    "            temp[titulo] = []\n",
    "        else:\n",
    "            data_exp = re.sub('#', '', i.find_elements_by_css_selector('td')[0].text) + '%' + i.find_elements_by_css_selector('td')[1].text + '%' + i.find_elements_by_css_selector('td')[2].text \n",
    "            temp[titulo].append(data_exp)\n",
    "\n",
    "\n",
    "    df = []\n",
    "    for x, y in temp.items():\n",
    "        for i in y:\n",
    "            puesto, area, fecha = i.split('%')\n",
    "            temp2 = {}\n",
    "            temp2['legislatura'] = legis\n",
    "            temp2['id_legislador'] = id_inc\n",
    "            temp2['name_inc'] = re.sub('Dip. ', '', driver.find_element_by_css_selector('body > table > tbody > tr:nth-child(3) > td > table:nth-child(2) > tbody > tr:nth-child(1) > td.textoNegro > span').text)\n",
    "            temp2['area_experiencia'] = x\n",
    "            temp2['grado'] = puesto\n",
    "            temp2['institucion'] = area\n",
    "            temp2['tiempo'] = fecha\n",
    "            df.append(temp2)\n",
    "    return(df)"
   ]
  },
  {
   "cell_type": "code",
   "execution_count": null,
   "metadata": {
    "scrolled": true
   },
   "outputs": [],
   "source": []
  },
  {
   "cell_type": "code",
   "execution_count": 30,
   "metadata": {},
   "outputs": [],
   "source": [
    "carreer_data61 = []"
   ]
  },
  {
   "cell_type": "code",
   "execution_count": 33,
   "metadata": {
    "scrolled": true
   },
   "outputs": [
    {
     "name": "stderr",
     "output_type": "stream",
     "text": [
      " 95%|█████████▌| 148/155 [06:10<00:13,  1.96s/it]"
     ]
    },
    {
     "name": "stdout",
     "output_type": "stream",
     "text": [
      "http://sitllxi.diputados.gob.mx/curricula.php?dipt=458\n"
     ]
    },
    {
     "name": "stderr",
     "output_type": "stream",
     "text": [
      "100%|██████████| 155/155 [06:36<00:00,  2.56s/it]\n"
     ]
    }
   ],
   "source": [
    "for i in tqdm(data_inc[345:]):\n",
    "    driver.get(i['link_curricula'])\n",
    "    try:\n",
    "        all_e = get_experience61(driver, 61, i['id_legislador'])\n",
    "        for e in all_e:\n",
    "            carreer_data61.append(e)\n",
    "    except:\n",
    "        print(i['link_curricula'])"
   ]
  },
  {
   "cell_type": "code",
   "execution_count": 36,
   "metadata": {},
   "outputs": [
    {
     "data": {
      "text/plain": [
       "7235"
      ]
     },
     "execution_count": 36,
     "metadata": {},
     "output_type": "execute_result"
    }
   ],
   "source": [
    "len(carreer_data61)"
   ]
  },
  {
   "cell_type": "code",
   "execution_count": 37,
   "metadata": {},
   "outputs": [
    {
     "data": {
      "text/plain": [
       "{'legislatura': 61,\n",
       " 'id_legislador': 'e9957eae-fe1d-11ea-95ca-acde48001122',\n",
       " 'name_inc': 'José Manuel Aguero Tovar',\n",
       " 'area_experiencia': 'ESCOLARIDAD',\n",
       " 'grado': 'Licenciatura',\n",
       " 'institucion': 'Ciencias de la Comunicación',\n",
       " 'tiempo': '1991-1995'}"
      ]
     },
     "execution_count": 37,
     "metadata": {},
     "output_type": "execute_result"
    }
   ],
   "source": [
    "carreer_data61[0]"
   ]
  },
  {
   "cell_type": "code",
   "execution_count": 38,
   "metadata": {},
   "outputs": [],
   "source": [
    "with open('/Users/cblanesg/cam.blanes Dropbox/Camila Blanes/Congressional-dataMX/data/00-id_data/01-career_track/career_track61.json', 'w') as d:\n",
    "    json.dump(carreer_data61, d)"
   ]
  },
  {
   "cell_type": "markdown",
   "metadata": {},
   "source": [
    "## Legislatura 62"
   ]
  },
  {
   "cell_type": "code",
   "execution_count": 96,
   "metadata": {},
   "outputs": [],
   "source": [
    "with open('/Users/cblanesg/cam.blanes Dropbox/Camila Blanes/Congressional-dataMX/data/00-id_data/00-id/id_legislatura62.json') as d:\n",
    "    data = json.load(d)"
   ]
  },
  {
   "cell_type": "code",
   "execution_count": 97,
   "metadata": {},
   "outputs": [],
   "source": [
    "data_inc = []\n",
    "for i in data:\n",
    "    if i['suplente_propietario'] == 'P':\n",
    "        data_inc.append(i)\n",
    "    "
   ]
  },
  {
   "cell_type": "code",
   "execution_count": 98,
   "metadata": {},
   "outputs": [
    {
     "data": {
      "text/plain": [
       "500"
      ]
     },
     "execution_count": 98,
     "metadata": {},
     "output_type": "execute_result"
    }
   ],
   "source": [
    "len(data_inc)"
   ]
  },
  {
   "cell_type": "code",
   "execution_count": 49,
   "metadata": {},
   "outputs": [],
   "source": [
    "    temp = {}\n",
    "    for i in driver.find_element_by_css_selector('body > div > table:nth-child(7) > tbody > tr > td > table:nth-child(2) > tbody > tr > td > div.curricula > table').find_elements_by_css_selector('tr'): ## loop in rows\n",
    "        if len(i.find_elements_by_css_selector('td')) == 1:\n",
    "            titulo = i.find_elements_by_css_selector('td')[0].text\n",
    "            temp[titulo] = []\n",
    "        else:\n",
    "            data_exp = re.sub('#', '', i.find_elements_by_css_selector('td')[0].text) + '|' + i.find_elements_by_css_selector('td')[1].text + '|' + i.find_elements_by_css_selector('td')[2].text \n",
    "            temp[titulo].append(data_exp)"
   ]
  },
  {
   "cell_type": "code",
   "execution_count": 20,
   "metadata": {},
   "outputs": [],
   "source": [
    "def get_experience62(driver, legis, id_inc):\n",
    "    temp = {}\n",
    "    for i in driver.find_element_by_css_selector('body > table > tbody > tr:nth-child(4) > td > table').find_elements_by_css_selector('tr'): ## loop in rows\n",
    "        if len(i.find_elements_by_css_selector('td')) == 1:\n",
    "            titulo = i.find_elements_by_css_selector('td')[0].text\n",
    "            temp[titulo] = []\n",
    "        else:\n",
    "            data_exp = re.sub('#', '', i.find_elements_by_css_selector('td')[0].text) + '%' + i.find_elements_by_css_selector('td')[1].text + '%' + i.find_elements_by_css_selector('td')[2].text \n",
    "            temp[titulo].append(data_exp)\n",
    "\n",
    "\n",
    "    df = []\n",
    "    for x, y in temp.items():\n",
    "        for i in y:\n",
    "            puesto, area, fecha = i.split('%')\n",
    "            temp2 = {}\n",
    "            temp2['legislatura'] = legis\n",
    "            temp2['id_legislador'] = id_inc\n",
    "            temp2['name_inc'] = re.sub('Dip. ', '', driver.find_element_by_css_selector('body > table > tbody > tr:nth-child(3) > td > table:nth-child(2) > tbody > tr:nth-child(1) > td.textoNegro > span').text)\n",
    "            temp2['area_experiencia'] = x\n",
    "            temp2['grado'] = puesto\n",
    "            temp2['institucion'] = area\n",
    "            temp2['tiempo'] = fecha\n",
    "            df.append(temp2)\n",
    "    return(df)"
   ]
  },
  {
   "cell_type": "code",
   "execution_count": 107,
   "metadata": {},
   "outputs": [],
   "source": [
    "carreer_data62 = []"
   ]
  },
  {
   "cell_type": "code",
   "execution_count": 108,
   "metadata": {
    "scrolled": true
   },
   "outputs": [
    {
     "name": "stderr",
     "output_type": "stream",
     "text": [
      "  1%|          | 6/500 [00:07<09:10,  1.11s/it]"
     ]
    },
    {
     "name": "stdout",
     "output_type": "stream",
     "text": [
      "http://sitllxii.diputados.gob.mx/curricula.php?dipt=892\n"
     ]
    },
    {
     "name": "stderr",
     "output_type": "stream",
     "text": [
      "  3%|▎         | 15/500 [00:20<10:19,  1.28s/it]"
     ]
    },
    {
     "name": "stdout",
     "output_type": "stream",
     "text": [
      "http://sitllxii.diputados.gob.mx/curricula.php?dipt=602\n"
     ]
    },
    {
     "name": "stderr",
     "output_type": "stream",
     "text": [
      "  8%|▊         | 42/500 [00:59<09:32,  1.25s/it]"
     ]
    },
    {
     "name": "stdout",
     "output_type": "stream",
     "text": [
      "http://sitllxii.diputados.gob.mx/curricula.php?dipt=897\n"
     ]
    },
    {
     "name": "stderr",
     "output_type": "stream",
     "text": [
      " 11%|█         | 56/500 [01:20<11:44,  1.59s/it]"
     ]
    },
    {
     "name": "stdout",
     "output_type": "stream",
     "text": [
      "http://sitllxii.diputados.gob.mx/curricula.php?dipt=690\n"
     ]
    },
    {
     "name": "stderr",
     "output_type": "stream",
     "text": [
      " 12%|█▏        | 60/500 [01:25<08:45,  1.19s/it]"
     ]
    },
    {
     "name": "stdout",
     "output_type": "stream",
     "text": [
      "http://sitllxii.diputados.gob.mx/curricula.php?dipt=796\n"
     ]
    },
    {
     "name": "stderr",
     "output_type": "stream",
     "text": [
      " 13%|█▎        | 66/500 [01:32<07:27,  1.03s/it]"
     ]
    },
    {
     "name": "stdout",
     "output_type": "stream",
     "text": [
      "http://sitllxii.diputados.gob.mx/curricula.php?dipt=516\n"
     ]
    },
    {
     "name": "stderr",
     "output_type": "stream",
     "text": [
      " 14%|█▎        | 68/500 [01:34<06:18,  1.14it/s]"
     ]
    },
    {
     "name": "stdout",
     "output_type": "stream",
     "text": [
      "http://sitllxii.diputados.gob.mx/curricula.php?dipt=1002\n"
     ]
    },
    {
     "name": "stderr",
     "output_type": "stream",
     "text": [
      " 16%|█▌        | 79/500 [01:50<09:12,  1.31s/it]"
     ]
    },
    {
     "name": "stdout",
     "output_type": "stream",
     "text": [
      "http://sitllxii.diputados.gob.mx/curricula.php?dipt=1008\n"
     ]
    },
    {
     "name": "stderr",
     "output_type": "stream",
     "text": [
      " 18%|█▊        | 92/500 [02:09<08:36,  1.26s/it]"
     ]
    },
    {
     "name": "stdout",
     "output_type": "stream",
     "text": [
      "http://sitllxii.diputados.gob.mx/curricula.php?dipt=659\n"
     ]
    },
    {
     "name": "stderr",
     "output_type": "stream",
     "text": [
      " 20%|██        | 100/500 [02:17<06:10,  1.08it/s]"
     ]
    },
    {
     "name": "stdout",
     "output_type": "stream",
     "text": [
      "http://sitllxii.diputados.gob.mx/curricula.php?dipt=613\n"
     ]
    },
    {
     "name": "stderr",
     "output_type": "stream",
     "text": [
      " 26%|██▌       | 130/500 [03:04<08:37,  1.40s/it]"
     ]
    },
    {
     "name": "stdout",
     "output_type": "stream",
     "text": [
      "http://sitllxii.diputados.gob.mx/curricula.php?dipt=624\n"
     ]
    },
    {
     "name": "stderr",
     "output_type": "stream",
     "text": [
      " 34%|███▍      | 170/500 [03:59<06:24,  1.17s/it]"
     ]
    },
    {
     "name": "stdout",
     "output_type": "stream",
     "text": [
      "http://sitllxii.diputados.gob.mx/curricula.php?dipt=696\n"
     ]
    },
    {
     "name": "stderr",
     "output_type": "stream",
     "text": [
      " 35%|███▍      | 173/500 [04:01<04:16,  1.27it/s]"
     ]
    },
    {
     "name": "stdout",
     "output_type": "stream",
     "text": [
      "http://sitllxii.diputados.gob.mx/curricula.php?dipt=752\n"
     ]
    },
    {
     "name": "stderr",
     "output_type": "stream",
     "text": [
      " 36%|███▌      | 179/500 [04:07<05:00,  1.07it/s]"
     ]
    },
    {
     "name": "stdout",
     "output_type": "stream",
     "text": [
      "http://sitllxii.diputados.gob.mx/curricula.php?dipt=1005\n"
     ]
    },
    {
     "name": "stderr",
     "output_type": "stream",
     "text": [
      " 39%|███▊      | 193/500 [04:27<05:08,  1.00s/it]"
     ]
    },
    {
     "name": "stdout",
     "output_type": "stream",
     "text": [
      "http://sitllxii.diputados.gob.mx/curricula.php?dipt=862\n"
     ]
    },
    {
     "name": "stderr",
     "output_type": "stream",
     "text": [
      "\r",
      " 39%|███▉      | 194/500 [04:28<03:57,  1.29it/s]"
     ]
    },
    {
     "name": "stdout",
     "output_type": "stream",
     "text": [
      "http://sitllxii.diputados.gob.mx/curricula.php?dipt=576\n"
     ]
    },
    {
     "name": "stderr",
     "output_type": "stream",
     "text": [
      " 41%|████      | 204/500 [04:45<05:45,  1.17s/it]"
     ]
    },
    {
     "name": "stdout",
     "output_type": "stream",
     "text": [
      "http://sitllxii.diputados.gob.mx/curricula.php?dipt=1003\n"
     ]
    },
    {
     "name": "stderr",
     "output_type": "stream",
     "text": [
      " 42%|████▏     | 209/500 [04:53<06:24,  1.32s/it]"
     ]
    },
    {
     "name": "stdout",
     "output_type": "stream",
     "text": [
      "http://sitllxii.diputados.gob.mx/curricula.php?dipt=797\n"
     ]
    },
    {
     "name": "stderr",
     "output_type": "stream",
     "text": [
      " 48%|████▊     | 241/500 [05:54<05:58,  1.38s/it]"
     ]
    },
    {
     "name": "stdout",
     "output_type": "stream",
     "text": [
      "http://sitllxii.diputados.gob.mx/curricula.php?dipt=857\n"
     ]
    },
    {
     "name": "stderr",
     "output_type": "stream",
     "text": [
      " 49%|████▉     | 244/500 [05:56<04:17,  1.01s/it]"
     ]
    },
    {
     "name": "stdout",
     "output_type": "stream",
     "text": [
      "http://sitllxii.diputados.gob.mx/curricula.php?dipt=581\n"
     ]
    },
    {
     "name": "stderr",
     "output_type": "stream",
     "text": [
      "\r",
      " 49%|████▉     | 245/500 [05:57<03:19,  1.28it/s]"
     ]
    },
    {
     "name": "stdout",
     "output_type": "stream",
     "text": [
      "http://sitllxii.diputados.gob.mx/curricula.php?dipt=513\n"
     ]
    },
    {
     "name": "stderr",
     "output_type": "stream",
     "text": [
      " 49%|████▉     | 247/500 [05:59<03:33,  1.19it/s]"
     ]
    },
    {
     "name": "stdout",
     "output_type": "stream",
     "text": [
      "http://sitllxii.diputados.gob.mx/curricula.php?dipt=689\n"
     ]
    },
    {
     "name": "stderr",
     "output_type": "stream",
     "text": [
      " 52%|█████▏    | 258/500 [06:15<05:01,  1.24s/it]"
     ]
    },
    {
     "name": "stdout",
     "output_type": "stream",
     "text": [
      "http://sitllxii.diputados.gob.mx/curricula.php?dipt=616\n"
     ]
    },
    {
     "name": "stderr",
     "output_type": "stream",
     "text": [
      " 53%|█████▎    | 267/500 [06:29<04:16,  1.10s/it]"
     ]
    },
    {
     "name": "stdout",
     "output_type": "stream",
     "text": [
      "http://sitllxii.diputados.gob.mx/curricula.php?dipt=693\n"
     ]
    },
    {
     "name": "stderr",
     "output_type": "stream",
     "text": [
      " 55%|█████▌    | 275/500 [06:41<04:56,  1.32s/it]"
     ]
    },
    {
     "name": "stdout",
     "output_type": "stream",
     "text": [
      "http://sitllxii.diputados.gob.mx/curricula.php?dipt=586\n"
     ]
    },
    {
     "name": "stderr",
     "output_type": "stream",
     "text": [
      " 62%|██████▏   | 311/500 [07:45<04:27,  1.41s/it]"
     ]
    },
    {
     "name": "stdout",
     "output_type": "stream",
     "text": [
      "http://sitllxii.diputados.gob.mx/curricula.php?dipt=283\n"
     ]
    },
    {
     "name": "stderr",
     "output_type": "stream",
     "text": [
      " 64%|██████▍   | 322/500 [07:59<02:40,  1.11it/s]"
     ]
    },
    {
     "name": "stdout",
     "output_type": "stream",
     "text": [
      "http://sitllxii.diputados.gob.mx/curricula.php?dipt=512\n"
     ]
    },
    {
     "name": "stderr",
     "output_type": "stream",
     "text": [
      " 72%|███████▏  | 358/500 [08:55<02:28,  1.05s/it]"
     ]
    },
    {
     "name": "stdout",
     "output_type": "stream",
     "text": [
      "http://sitllxii.diputados.gob.mx/curricula.php?dipt=163\n",
      "http://sitllxii.diputados.gob.mx/curricula.php?dipt=942\n"
     ]
    },
    {
     "name": "stderr",
     "output_type": "stream",
     "text": [
      " 72%|███████▏  | 360/500 [08:57<02:02,  1.14it/s]"
     ]
    },
    {
     "name": "stdout",
     "output_type": "stream",
     "text": [
      "http://sitllxii.diputados.gob.mx/curricula.php?dipt=593\n"
     ]
    },
    {
     "name": "stderr",
     "output_type": "stream",
     "text": [
      " 76%|███████▌  | 378/500 [09:17<02:08,  1.05s/it]"
     ]
    },
    {
     "name": "stdout",
     "output_type": "stream",
     "text": [
      "http://sitllxii.diputados.gob.mx/curricula.php?dipt=911\n"
     ]
    },
    {
     "name": "stderr",
     "output_type": "stream",
     "text": [
      " 78%|███████▊  | 391/500 [09:34<02:04,  1.14s/it]"
     ]
    },
    {
     "name": "stdout",
     "output_type": "stream",
     "text": [
      "http://sitllxii.diputados.gob.mx/curricula.php?dipt=668\n"
     ]
    },
    {
     "name": "stderr",
     "output_type": "stream",
     "text": [
      " 80%|████████  | 400/500 [09:43<01:17,  1.28it/s]"
     ]
    },
    {
     "name": "stdout",
     "output_type": "stream",
     "text": [
      "http://sitllxii.diputados.gob.mx/curricula.php?dipt=179\n"
     ]
    },
    {
     "name": "stderr",
     "output_type": "stream",
     "text": [
      " 80%|████████  | 402/500 [09:44<01:00,  1.61it/s]"
     ]
    },
    {
     "name": "stdout",
     "output_type": "stream",
     "text": [
      "http://sitllxii.diputados.gob.mx/curricula.php?dipt=553\n"
     ]
    },
    {
     "name": "stderr",
     "output_type": "stream",
     "text": [
      " 84%|████████▍ | 419/500 [10:06<01:52,  1.39s/it]"
     ]
    },
    {
     "name": "stdout",
     "output_type": "stream",
     "text": [
      "http://sitllxii.diputados.gob.mx/curricula.php?dipt=259\n"
     ]
    },
    {
     "name": "stderr",
     "output_type": "stream",
     "text": [
      " 85%|████████▍ | 424/500 [10:12<01:24,  1.12s/it]"
     ]
    },
    {
     "name": "stdout",
     "output_type": "stream",
     "text": [
      "http://sitllxii.diputados.gob.mx/curricula.php?dipt=986\n"
     ]
    },
    {
     "name": "stderr",
     "output_type": "stream",
     "text": [
      " 86%|████████▌ | 429/500 [10:19<01:25,  1.21s/it]"
     ]
    },
    {
     "name": "stdout",
     "output_type": "stream",
     "text": [
      "http://sitllxii.diputados.gob.mx/curricula.php?dipt=120\n"
     ]
    },
    {
     "name": "stderr",
     "output_type": "stream",
     "text": [
      " 94%|█████████▍| 470/500 [11:42<03:08,  6.28s/it]"
     ]
    },
    {
     "name": "stdout",
     "output_type": "stream",
     "text": [
      "http://sitllxii.diputados.gob.mx/curricula.php?dipt=950\n"
     ]
    },
    {
     "name": "stderr",
     "output_type": "stream",
     "text": [
      " 98%|█████████▊| 492/500 [12:12<00:10,  1.35s/it]"
     ]
    },
    {
     "name": "stdout",
     "output_type": "stream",
     "text": [
      "http://sitllxii.diputados.gob.mx/curricula.php?dipt=832\n"
     ]
    },
    {
     "name": "stderr",
     "output_type": "stream",
     "text": [
      "100%|██████████| 500/500 [12:22<00:00,  1.49s/it]\n"
     ]
    }
   ],
   "source": [
    "for i in tqdm(data_inc):\n",
    "    driver.get(i['link_curricula'])\n",
    "    try:\n",
    "        all_e = get_experience62(driver, 62, i['id_legislador'])\n",
    "        for e in all_e:\n",
    "            carreer_data62.append(e)\n",
    "    except:\n",
    "        print(i['link_curricula'])"
   ]
  },
  {
   "cell_type": "code",
   "execution_count": 110,
   "metadata": {},
   "outputs": [
    {
     "data": {
      "text/plain": [
       "6674"
      ]
     },
     "execution_count": 110,
     "metadata": {},
     "output_type": "execute_result"
    }
   ],
   "source": [
    "len(carreer_data62)"
   ]
  },
  {
   "cell_type": "code",
   "execution_count": 111,
   "metadata": {},
   "outputs": [],
   "source": [
    "with open('/Users/cblanesg/cam.blanes Dropbox/Camila Blanes/Congressional-dataMX/data/00-id_data/01-career_track/career_track62.json', 'w') as d:\n",
    "    json.dump(carreer_data62, d)"
   ]
  },
  {
   "cell_type": "markdown",
   "metadata": {},
   "source": [
    "## Legislatura 63"
   ]
  },
  {
   "cell_type": "code",
   "execution_count": 63,
   "metadata": {},
   "outputs": [],
   "source": [
    "with open('/Users/cblanesg/cam.blanes Dropbox/Camila Blanes/Congressional-dataMX/data/00-id_data/00-id/id_legislatura63.json') as d:\n",
    "    data = json.load(d)"
   ]
  },
  {
   "cell_type": "code",
   "execution_count": 64,
   "metadata": {},
   "outputs": [],
   "source": [
    "data_inc = []\n",
    "for i in data:\n",
    "    if i['suplente_propietario'] == 'P':\n",
    "        data_inc.append(i)\n",
    "    "
   ]
  },
  {
   "cell_type": "code",
   "execution_count": 65,
   "metadata": {},
   "outputs": [
    {
     "data": {
      "text/plain": [
       "500"
      ]
     },
     "execution_count": 65,
     "metadata": {},
     "output_type": "execute_result"
    }
   ],
   "source": [
    "len(data_inc)"
   ]
  },
  {
   "cell_type": "code",
   "execution_count": 49,
   "metadata": {},
   "outputs": [],
   "source": [
    "    temp = {}\n",
    "    for i in driver.find_element_by_css_selector('body > div > table:nth-child(7) > tbody > tr > td > table:nth-child(2) > tbody > tr > td > div.curricula > table').find_elements_by_css_selector('tr'): ## loop in rows\n",
    "        if len(i.find_elements_by_css_selector('td')) == 1:\n",
    "            titulo = i.find_elements_by_css_selector('td')[0].text\n",
    "            temp[titulo] = []\n",
    "        else:\n",
    "            data_exp = re.sub('#', '', i.find_elements_by_css_selector('td')[0].text) + '|' + i.find_elements_by_css_selector('td')[1].text + '|' + i.find_elements_by_css_selector('td')[2].text \n",
    "            temp[titulo].append(data_exp)"
   ]
  },
  {
   "cell_type": "code",
   "execution_count": 76,
   "metadata": {},
   "outputs": [],
   "source": [
    "def get_experience63(driver, legis, id_inc):\n",
    "    temp = {}\n",
    "    for i in driver.find_element_by_css_selector('body > table:nth-child(2) > tbody > tr:nth-child(2) > td > table:nth-child(1) > tbody').find_elements_by_css_selector('tr'): ## loop in rows\n",
    "        if len(i.find_elements_by_css_selector('td')) == 1:\n",
    "            titulo = i.find_elements_by_css_selector('td')[0].text\n",
    "            temp[titulo] = []\n",
    "        else:\n",
    "            data_exp = re.sub('#', '', i.find_elements_by_css_selector('td')[0].text) + '%' + i.find_elements_by_css_selector('td')[1].text + '%' + i.find_elements_by_css_selector('td')[2].text \n",
    "            temp[titulo].append(data_exp)\n",
    "\n",
    "\n",
    "    df = []\n",
    "    for x, y in temp.items():\n",
    "        for i in y:\n",
    "            puesto, area, fecha = i.split('%')\n",
    "            temp2 = {}\n",
    "            temp2['legislatura'] = legis\n",
    "            temp2['id_legislador'] = id_inc\n",
    "            temp2['name_inc'] = re.sub('Dip. ', '', driver.find_element_by_css_selector('body > table:nth-child(1) > tbody > tr:nth-child(3) > td > table > tbody > tr > td:nth-child(3) > table > tbody > tr:nth-child(1) > td > font > strong').text)\n",
    "            temp2['area_experiencia'] = x\n",
    "            temp2['grado'] = puesto\n",
    "            temp2['institucion'] = area\n",
    "            temp2['tiempo'] = fecha\n",
    "            df.append(temp2)\n",
    "    return(df)"
   ]
  },
  {
   "cell_type": "code",
   "execution_count": 77,
   "metadata": {},
   "outputs": [],
   "source": [
    "carreer_data63 = []"
   ]
  },
  {
   "cell_type": "code",
   "execution_count": 80,
   "metadata": {
    "scrolled": true
   },
   "outputs": [
    {
     "name": "stderr",
     "output_type": "stream",
     "text": [
      "100%|██████████| 113/113 [02:22<00:00,  1.26s/it]\n"
     ]
    }
   ],
   "source": [
    "for i in tqdm(data_inc[387:]):\n",
    "    driver.get(i['link_curricula'])\n",
    "    all_e = get_experience63(driver, 63, i['id_legislador'])\n",
    "    for e in all_e:\n",
    "        carreer_data63.append(e)"
   ]
  },
  {
   "cell_type": "code",
   "execution_count": 55,
   "metadata": {},
   "outputs": [
    {
     "data": {
      "text/plain": [
       "3919"
      ]
     },
     "execution_count": 55,
     "metadata": {},
     "output_type": "execute_result"
    }
   ],
   "source": [
    "len(carreer_data63)"
   ]
  },
  {
   "cell_type": "code",
   "execution_count": 109,
   "metadata": {},
   "outputs": [],
   "source": [
    "with open('/Users/cblanesg/cam.blanes Dropbox/Camila Blanes/Congressional-dataMX/data/00-id_data/01-career_track/career_track63.json', 'w') as d:\n",
    "    json.dump(carreer_data63, d)"
   ]
  },
  {
   "cell_type": "code",
   "execution_count": 94,
   "metadata": {},
   "outputs": [
    {
     "data": {
      "text/html": [
       "<div>\n",
       "<style scoped>\n",
       "    .dataframe tbody tr th:only-of-type {\n",
       "        vertical-align: middle;\n",
       "    }\n",
       "\n",
       "    .dataframe tbody tr th {\n",
       "        vertical-align: top;\n",
       "    }\n",
       "\n",
       "    .dataframe thead th {\n",
       "        text-align: right;\n",
       "    }\n",
       "</style>\n",
       "<table border=\"1\" class=\"dataframe\">\n",
       "  <thead>\n",
       "    <tr style=\"text-align: right;\">\n",
       "      <th></th>\n",
       "      <th>name_inc</th>\n",
       "    </tr>\n",
       "    <tr>\n",
       "      <th>id_legislador</th>\n",
       "      <th></th>\n",
       "    </tr>\n",
       "  </thead>\n",
       "  <tbody>\n",
       "    <tr>\n",
       "      <th>00233634-fd01-11ea-83d8-acde48001122</th>\n",
       "      <td>7</td>\n",
       "    </tr>\n",
       "    <tr>\n",
       "      <th>006dd932-fd01-11ea-83d8-acde48001122</th>\n",
       "      <td>9</td>\n",
       "    </tr>\n",
       "    <tr>\n",
       "      <th>00a989a0-fd01-11ea-83d8-acde48001122</th>\n",
       "      <td>10</td>\n",
       "    </tr>\n",
       "    <tr>\n",
       "      <th>00ee3f8c-fd01-11ea-83d8-acde48001122</th>\n",
       "      <td>9</td>\n",
       "    </tr>\n",
       "    <tr>\n",
       "      <th>01306362-fd01-11ea-83d8-acde48001122</th>\n",
       "      <td>12</td>\n",
       "    </tr>\n",
       "    <tr>\n",
       "      <th>...</th>\n",
       "      <td>...</td>\n",
       "    </tr>\n",
       "    <tr>\n",
       "      <th>fedce540-fd00-11ea-83d8-acde48001122</th>\n",
       "      <td>14</td>\n",
       "    </tr>\n",
       "    <tr>\n",
       "      <th>ff1ba28a-fd00-11ea-83d8-acde48001122</th>\n",
       "      <td>2</td>\n",
       "    </tr>\n",
       "    <tr>\n",
       "      <th>ff6483d8-fd00-11ea-83d8-acde48001122</th>\n",
       "      <td>3</td>\n",
       "    </tr>\n",
       "    <tr>\n",
       "      <th>ffa8a68a-fd00-11ea-83d8-acde48001122</th>\n",
       "      <td>13</td>\n",
       "    </tr>\n",
       "    <tr>\n",
       "      <th>ffe70524-fd00-11ea-83d8-acde48001122</th>\n",
       "      <td>21</td>\n",
       "    </tr>\n",
       "  </tbody>\n",
       "</table>\n",
       "<p>456 rows × 1 columns</p>\n",
       "</div>"
      ],
      "text/plain": [
       "                                      name_inc\n",
       "id_legislador                                 \n",
       "00233634-fd01-11ea-83d8-acde48001122         7\n",
       "006dd932-fd01-11ea-83d8-acde48001122         9\n",
       "00a989a0-fd01-11ea-83d8-acde48001122        10\n",
       "00ee3f8c-fd01-11ea-83d8-acde48001122         9\n",
       "01306362-fd01-11ea-83d8-acde48001122        12\n",
       "...                                        ...\n",
       "fedce540-fd00-11ea-83d8-acde48001122        14\n",
       "ff1ba28a-fd00-11ea-83d8-acde48001122         2\n",
       "ff6483d8-fd00-11ea-83d8-acde48001122         3\n",
       "ffa8a68a-fd00-11ea-83d8-acde48001122        13\n",
       "ffe70524-fd00-11ea-83d8-acde48001122        21\n",
       "\n",
       "[456 rows x 1 columns]"
      ]
     },
     "execution_count": 94,
     "metadata": {},
     "output_type": "execute_result"
    }
   ],
   "source": [
    "pd.DataFrame(carreer_data63)[['name_inc', 'id_legislador']].groupby(['id_legislador']).count()"
   ]
  },
  {
   "cell_type": "code",
   "execution_count": null,
   "metadata": {},
   "outputs": [],
   "source": []
  },
  {
   "cell_type": "code",
   "execution_count": null,
   "metadata": {},
   "outputs": [],
   "source": []
  },
  {
   "cell_type": "markdown",
   "metadata": {},
   "source": [
    "## Legislatura 64"
   ]
  },
  {
   "cell_type": "code",
   "execution_count": 24,
   "metadata": {},
   "outputs": [],
   "source": [
    "table = driver.find_element_by_css_selector('body > div > table:nth-child(7) > tbody > tr > td > table:nth-child(2) > tbody > tr > td > div.curricula > table > tbody')"
   ]
  },
  {
   "cell_type": "code",
   "execution_count": 4,
   "metadata": {},
   "outputs": [],
   "source": [
    "with open('/Users/cblanesg/cam.blanes Dropbox/Camila Blanes/Congressional-dataMX/data/00-id_data/id_legislatura64.json') as d:\n",
    "    data = json.load(d)"
   ]
  },
  {
   "cell_type": "code",
   "execution_count": 6,
   "metadata": {},
   "outputs": [],
   "source": [
    "data_inc = []\n",
    "for i in data:\n",
    "    if i['suplente_propietario'] == 'P':\n",
    "        data_inc.append(i)\n",
    "    "
   ]
  },
  {
   "cell_type": "code",
   "execution_count": 8,
   "metadata": {},
   "outputs": [
    {
     "data": {
      "text/plain": [
       "500"
      ]
     },
     "execution_count": 8,
     "metadata": {},
     "output_type": "execute_result"
    }
   ],
   "source": [
    "len(data_inc)"
   ]
  },
  {
   "cell_type": "code",
   "execution_count": 49,
   "metadata": {},
   "outputs": [],
   "source": [
    "    temp = {}\n",
    "    for i in driver.find_element_by_css_selector('body > div > table:nth-child(7) > tbody > tr > td > table:nth-child(2) > tbody > tr > td > div.curricula > table').find_elements_by_css_selector('tr'): ## loop in rows\n",
    "        if len(i.find_elements_by_css_selector('td')) == 1:\n",
    "            titulo = i.find_elements_by_css_selector('td')[0].text\n",
    "            temp[titulo] = []\n",
    "        else:\n",
    "            data_exp = re.sub('#', '', i.find_elements_by_css_selector('td')[0].text) + '|' + i.find_elements_by_css_selector('td')[1].text + '|' + i.find_elements_by_css_selector('td')[2].text \n",
    "            temp[titulo].append(data_exp)"
   ]
  },
  {
   "cell_type": "code",
   "execution_count": 51,
   "metadata": {},
   "outputs": [],
   "source": [
    "def get_experience(driver, legis, id_inc):\n",
    "    temp = {}\n",
    "    for i in driver.find_element_by_css_selector('body > div > table:nth-child(7) > tbody > tr > td > table:nth-child(2) > tbody > tr > td > div.curricula > table').find_elements_by_css_selector('tr'): ## loop in rows\n",
    "        if len(i.find_elements_by_css_selector('td')) == 1:\n",
    "            titulo = i.find_elements_by_css_selector('td')[0].text\n",
    "            temp[titulo] = []\n",
    "        else:\n",
    "            data_exp = re.sub('#', '', i.find_elements_by_css_selector('td')[0].text) + '%' + i.find_elements_by_css_selector('td')[1].text + '%' + i.find_elements_by_css_selector('td')[2].text \n",
    "            temp[titulo].append(data_exp)\n",
    "\n",
    "\n",
    "    df = []\n",
    "    for x, y in temp.items():\n",
    "        for i in y:\n",
    "            puesto, area, fecha = i.split('%')\n",
    "            temp2 = {}\n",
    "            temp2['legislatura'] = legis\n",
    "            temp2['id_legislador'] = id_inc\n",
    "            temp2['name_inc'] = re.sub('Dip. ', '', driver.find_element_by_css_selector('body > div > table.cajasombra > tbody > tr > td > table > tbody > tr > td:nth-child(3) > table > tbody > tr:nth-child(1) > td > center > strong').text)\n",
    "            temp2['area_experiencia'] = x\n",
    "            temp2['grado'] = puesto\n",
    "            temp2['institucion'] = area\n",
    "            temp2['tiempo'] = fecha\n",
    "            df.append(temp2)\n",
    "    return(df)"
   ]
  },
  {
   "cell_type": "code",
   "execution_count": 36,
   "metadata": {},
   "outputs": [],
   "source": [
    "carreer_data = []"
   ]
  },
  {
   "cell_type": "code",
   "execution_count": 53,
   "metadata": {
    "scrolled": true
   },
   "outputs": [
    {
     "name": "stderr",
     "output_type": "stream",
     "text": [
      "100%|██████████| 2/2 [00:04<00:00,  2.17s/it]\n"
     ]
    }
   ],
   "source": [
    "for i in tqdm(data_inc[498:]):\n",
    "    driver.get(i['link_curricula'])\n",
    "    all_e = get_experience(driver, 64, i['id_legislador'])\n",
    "    for e in all_e:\n",
    "        carreer_data.append(e)"
   ]
  },
  {
   "cell_type": "code",
   "execution_count": 55,
   "metadata": {},
   "outputs": [
    {
     "data": {
      "text/plain": [
       "3919"
      ]
     },
     "execution_count": 55,
     "metadata": {},
     "output_type": "execute_result"
    }
   ],
   "source": [
    "len(carreer_data)"
   ]
  },
  {
   "cell_type": "code",
   "execution_count": 61,
   "metadata": {},
   "outputs": [],
   "source": [
    "with open('/Users/cblanesg/cam.blanes Dropbox/Camila Blanes/Congressional-dataMX/data/00-id_data/01-career_track/career_track64.json', 'w') as d:\n",
    "    json.dump(carreer_data, d)"
   ]
  }
 ],
 "metadata": {
  "kernelspec": {
   "display_name": "Python 3",
   "language": "python",
   "name": "python3"
  },
  "language_info": {
   "codemirror_mode": {
    "name": "ipython",
    "version": 3
   },
   "file_extension": ".py",
   "mimetype": "text/x-python",
   "name": "python",
   "nbconvert_exporter": "python",
   "pygments_lexer": "ipython3",
   "version": "3.8.3"
  }
 },
 "nbformat": 4,
 "nbformat_minor": 4
}
