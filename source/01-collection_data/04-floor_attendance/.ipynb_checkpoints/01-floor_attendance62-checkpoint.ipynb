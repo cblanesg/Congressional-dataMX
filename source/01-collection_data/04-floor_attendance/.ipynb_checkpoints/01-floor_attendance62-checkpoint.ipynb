{
 "cells": [
  {
   "cell_type": "code",
   "execution_count": 17,
   "metadata": {},
   "outputs": [],
   "source": [
    "import unidecode\n",
    "import re\n",
    "import pandas as pd\n",
    "import datetime\n",
    "from datetime import date\n",
    "import json"
   ]
  },
  {
   "cell_type": "code",
   "execution_count": 6,
   "metadata": {},
   "outputs": [],
   "source": [
    "import requests\n",
    "from bs4 import BeautifulSoup"
   ]
  },
  {
   "cell_type": "code",
   "execution_count": 7,
   "metadata": {},
   "outputs": [],
   "source": [
    "with open('/Users/cblanesg/cam.blanes Dropbox/Camila Blanes/Congressional-dataMX/data/00-id_data/00-id/id_legislatura62.json') as d:\n",
    "    data = json.load(d)"
   ]
  },
  {
   "cell_type": "code",
   "execution_count": 10,
   "metadata": {},
   "outputs": [],
   "source": [
    "link_curricula = data[0]['link_curricula']"
   ]
  },
  {
   "cell_type": "code",
   "execution_count": 11,
   "metadata": {},
   "outputs": [],
   "source": [
    "r = requests.get(link_curricula)\n",
    "soup = BeautifulSoup(r.content, 'html.parser')"
   ]
  },
  {
   "cell_type": "code",
   "execution_count": 14,
   "metadata": {},
   "outputs": [
    {
     "data": {
      "text/plain": [
       "'http://sitllxii.diputados.gob.mx/curricula.php?dipt=430'"
      ]
     },
     "execution_count": 14,
     "metadata": {},
     "output_type": "execute_result"
    }
   ],
   "source": [
    "link_curricula"
   ]
  },
  {
   "cell_type": "code",
   "execution_count": 19,
   "metadata": {},
   "outputs": [],
   "source": [
    "def get_link_to_periodos(link_curricula):\n",
    "    r = requests.get(link_curricula)\n",
    "    soup = BeautifulSoup(r.content, 'html.parser')\n",
    "    for i in soup.findAll('a'):\n",
    "        link = 'http://sitllxii.diputados.gob.mx/' + i.get('href')\n",
    "        if any(re.findall('asistencias', link)):\n",
    "            return(link)\n",
    "        else:\n",
    "            continue"
   ]
  },
  {
   "cell_type": "code",
   "execution_count": 20,
   "metadata": {},
   "outputs": [
    {
     "data": {
      "text/plain": [
       "'http://sitllxii.diputados.gob.mx/asistencias_diputados_xperiodonplxii.php?dipt=430'"
      ]
     },
     "execution_count": 20,
     "metadata": {},
     "output_type": "execute_result"
    }
   ],
   "source": [
    "get_link_to_periodos(link_curricula)"
   ]
  },
  {
   "cell_type": "code",
   "execution_count": 21,
   "metadata": {},
   "outputs": [],
   "source": [
    "r = requests.get(get_link_to_periodos(link_curricula))\n",
    "soup = BeautifulSoup(r.content, 'html.parser')"
   ]
  },
  {
   "cell_type": "code",
   "execution_count": 25,
   "metadata": {},
   "outputs": [],
   "source": [
    "def get_links_periodos(link_curricula):\n",
    "    r = requests.get(get_link_to_periodos(link_curricula))\n",
    "    soup = BeautifulSoup(r.content, 'html.parser')\n",
    "    links_periodos = []\n",
    "    for i in soup.findAll('a'):\n",
    "        link = 'http://sitllxii.diputados.gob.mx/' + i.get('href')\n",
    "        if any(re.findall('asistencias', link)):\n",
    "            links_periodos.append(link)\n",
    "        else:\n",
    "            continue\n",
    "    return(links_periodos)"
   ]
  },
  {
   "cell_type": "code",
   "execution_count": 27,
   "metadata": {},
   "outputs": [],
   "source": [
    "links_periodos = get_links_periodos(link_curricula)"
   ]
  },
  {
   "cell_type": "code",
   "execution_count": 28,
   "metadata": {},
   "outputs": [
    {
     "data": {
      "text/plain": [
       "['http://sitllxii.diputados.gob.mx/asistencias_por_pernplxii.php?iddipt=430&pert=1',\n",
       " 'http://sitllxii.diputados.gob.mx/asistencias_por_pernplxii.php?iddipt=430&pert=3',\n",
       " 'http://sitllxii.diputados.gob.mx/asistencias_por_pernplxii.php?iddipt=430&pert=13',\n",
       " 'http://sitllxii.diputados.gob.mx/asistencias_por_pernplxii.php?iddipt=430&pert=5',\n",
       " 'http://sitllxii.diputados.gob.mx/asistencias_por_pernplxii.php?iddipt=430&pert=7',\n",
       " 'http://sitllxii.diputados.gob.mx/asistencias_por_pernplxii.php?iddipt=430&pert=15',\n",
       " 'http://sitllxii.diputados.gob.mx/asistencias_por_pernplxii.php?iddipt=430&pert=16',\n",
       " 'http://sitllxii.diputados.gob.mx/asistencias_por_pernplxii.php?iddipt=430&pert=17',\n",
       " 'http://sitllxii.diputados.gob.mx/asistencias_por_pernplxii.php?iddipt=430&pert=18',\n",
       " 'http://sitllxii.diputados.gob.mx/asistencias_por_pernplxii.php?iddipt=430&pert=9',\n",
       " 'http://sitllxii.diputados.gob.mx/asistencias_por_pernplxii.php?iddipt=430&pert=11']"
      ]
     },
     "execution_count": 28,
     "metadata": {},
     "output_type": "execute_result"
    }
   ],
   "source": [
    "links_periodos"
   ]
  },
  {
   "cell_type": "code",
   "execution_count": 29,
   "metadata": {},
   "outputs": [],
   "source": [
    "r = requests.get(links_periodos[0])\n",
    "soup = BeautifulSoup(r.content, 'html.parser')"
   ]
  },
  {
   "cell_type": "code",
   "execution_count": 61,
   "metadata": {},
   "outputs": [
    {
     "data": {
      "text/plain": [
       "37"
      ]
     },
     "execution_count": 61,
     "metadata": {},
     "output_type": "execute_result"
    }
   ],
   "source": [
    "len(soup.findAll('table')[0].findAll('table')[4].findAll('tr'))"
   ]
  },
  {
   "cell_type": "code",
   "execution_count": 66,
   "metadata": {},
   "outputs": [
    {
     "data": {
      "text/plain": [
       "36"
      ]
     },
     "execution_count": 66,
     "metadata": {},
     "output_type": "execute_result"
    }
   ],
   "source": [
    "soup.findAll('table')[0].findAll('table')[4].findAll('tr')[0].findAll('tr')"
   ]
  },
  {
   "cell_type": "code",
   "execution_count": 67,
   "metadata": {},
   "outputs": [
    {
     "name": "stderr",
     "output_type": "stream",
     "text": [
      "[WDM] - Current google-chrome version is 85.0.4183\n",
      "[WDM] - Get LATEST driver version for 85.0.4183\n",
      "[WDM] - Driver [/Users/cblanesg/.wdm/drivers/chromedriver/mac64/85.0.4183.87/chromedriver] found in cache\n"
     ]
    },
    {
     "name": "stdout",
     "output_type": "stream",
     "text": [
      " \n"
     ]
    }
   ],
   "source": [
    "from webdriver_manager.chrome import ChromeDriverManager\n",
    "from selenium.webdriver import Chrome\n",
    "from selenium import webdriver\n",
    "import re\n",
    "import time\n",
    "import pandas as pd\n",
    "import datetime\n",
    "import uuid\n",
    "from tqdm import tqdm\n",
    "from datetime import date\n",
    "from selenium.webdriver.chrome.options import Options\n",
    "\n",
    "options = Options()\n",
    "options.add_argument('--headless')\n",
    "driver = webdriver.Chrome(ChromeDriverManager().install())"
   ]
  },
  {
   "cell_type": "code",
   "execution_count": 68,
   "metadata": {},
   "outputs": [],
   "source": [
    "driver.get(links_periodos[0])"
   ]
  },
  {
   "cell_type": "code",
   "execution_count": 72,
   "metadata": {},
   "outputs": [],
   "source": [
    "table = driver.find_element_by_css_selector('body > table > tbody > tr:nth-child(4) > td > table > tbody > tr:nth-child(2) > td > table:nth-child(2) > tbody')"
   ]
  },
  {
   "cell_type": "code",
   "execution_count": 79,
   "metadata": {},
   "outputs": [],
   "source": [
    "calendar_tables = table.find_elements_by_css_selector('table')[:-1]"
   ]
  },
  {
   "cell_type": "code",
   "execution_count": 80,
   "metadata": {},
   "outputs": [
    {
     "data": {
      "text/plain": [
       "<selenium.webdriver.remote.webelement.WebElement (session=\"168a0e4cb7474f05b0628a7690f99e45\", element=\"c9dd0775-bce6-4e0a-b607-d25142e42e7f\")>"
      ]
     },
     "execution_count": 80,
     "metadata": {},
     "output_type": "execute_result"
    }
   ],
   "source": [
    "calendar_tables[0]."
   ]
  },
  {
   "cell_type": "code",
   "execution_count": 97,
   "metadata": {},
   "outputs": [],
   "source": [
    "def get_month_table(inner_table):\n",
    "    text_month = inner_table.find_element_by_class_name('TitulosVerde').text.lower()\n",
    "    mes = month_to_number(re.findall('[a-z]+', text_month)[0])\n",
    "    año = int(re.findall('[0-9]+', text_month)[0])\n",
    "    return(mes, año)"
   ]
  },
  {
   "cell_type": "code",
   "execution_count": 101,
   "metadata": {},
   "outputs": [
    {
     "name": "stdout",
     "output_type": "stream",
     "text": [
      "Septiembre 2012\n",
      " \n",
      " \n",
      " \n",
      " \n",
      " \n",
      "1\n",
      "A\n",
      "2\n",
      "3\n",
      "4\n",
      "A\n",
      "5\n",
      "6\n",
      "A\n",
      "7\n",
      "8\n",
      "9\n",
      "10\n",
      "11\n",
      "A\n",
      "12\n",
      "13\n",
      "A\n",
      "14\n",
      "15\n",
      "16\n",
      "17\n",
      "18\n",
      "A\n",
      "19\n",
      "20\n",
      "A\n",
      "21\n",
      "22\n",
      "23\n",
      "24\n",
      "25\n",
      "A\n",
      "26\n",
      "27\n",
      "PM\n",
      "28\n",
      "PM/A\n",
      "29\n",
      "30\n",
      "31\n",
      " \n",
      " \n",
      " \n",
      " \n",
      " \n",
      " \n"
     ]
    }
   ],
   "source": [
    "for i in calendar_tables[0].find_elements_by_css_selector('td'):\n",
    "    print(i.text)"
   ]
  },
  {
   "cell_type": "code",
   "execution_count": null,
   "metadata": {},
   "outputs": [],
   "source": []
  },
  {
   "cell_type": "code",
   "execution_count": null,
   "metadata": {},
   "outputs": [],
   "source": []
  },
  {
   "cell_type": "code",
   "execution_count": 87,
   "metadata": {},
   "outputs": [
    {
     "data": {
      "text/plain": [
       "'septiembre'"
      ]
     },
     "execution_count": 87,
     "metadata": {},
     "output_type": "execute_result"
    }
   ],
   "source": [
    "re.findall('[a-z]+', text_month)[0]"
   ]
  },
  {
   "cell_type": "code",
   "execution_count": 85,
   "metadata": {},
   "outputs": [],
   "source": [
    "    text_month = calendar_tables[0].find_element_by_class_name('TitulosVerde').text.lower()"
   ]
  },
  {
   "cell_type": "code",
   "execution_count": 94,
   "metadata": {},
   "outputs": [],
   "source": [
    "def month_to_number(m):\n",
    "    if m == 'enero':\n",
    "        return(1)\n",
    "    elif m == 'febrero':\n",
    "        return(2)\n",
    "    elif m == 'marzo':\n",
    "        return(3)\n",
    "    elif m == 'abril':\n",
    "        return(4)\n",
    "    elif m == 'mayo':\n",
    "        return(5)\n",
    "    elif m == 'junio':\n",
    "        return(6)\n",
    "    elif m == 'julio':\n",
    "        return(7)\n",
    "    elif m == 'agosto':\n",
    "        return(8)\n",
    "    elif m == 'septiembre':\n",
    "        return(9)\n",
    "    elif m == 'octubre':\n",
    "        return(10)\n",
    "    elif m == 'novimebre':\n",
    "        return(11)\n",
    "    elif m == 'diciembre':\n",
    "        return(12)"
   ]
  },
  {
   "cell_type": "code",
   "execution_count": null,
   "metadata": {},
   "outputs": [],
   "source": []
  },
  {
   "cell_type": "code",
   "execution_count": null,
   "metadata": {},
   "outputs": [],
   "source": []
  },
  {
   "cell_type": "code",
   "execution_count": 24,
   "metadata": {},
   "outputs": [
    {
     "data": {
      "text/plain": [
       "['http://sitllxii.diputados.gob.mx/asistencias_por_pernplxii.php?iddipt=430&pert=1',\n",
       " 'http://sitllxii.diputados.gob.mx/asistencias_por_pernplxii.php?iddipt=430&pert=3',\n",
       " 'http://sitllxii.diputados.gob.mx/asistencias_por_pernplxii.php?iddipt=430&pert=13',\n",
       " 'http://sitllxii.diputados.gob.mx/asistencias_por_pernplxii.php?iddipt=430&pert=5',\n",
       " 'http://sitllxii.diputados.gob.mx/asistencias_por_pernplxii.php?iddipt=430&pert=7',\n",
       " 'http://sitllxii.diputados.gob.mx/asistencias_por_pernplxii.php?iddipt=430&pert=15',\n",
       " 'http://sitllxii.diputados.gob.mx/asistencias_por_pernplxii.php?iddipt=430&pert=16',\n",
       " 'http://sitllxii.diputados.gob.mx/asistencias_por_pernplxii.php?iddipt=430&pert=17',\n",
       " 'http://sitllxii.diputados.gob.mx/asistencias_por_pernplxii.php?iddipt=430&pert=18',\n",
       " 'http://sitllxii.diputados.gob.mx/asistencias_por_pernplxii.php?iddipt=430&pert=9',\n",
       " 'http://sitllxii.diputados.gob.mx/asistencias_por_pernplxii.php?iddipt=430&pert=11']"
      ]
     },
     "execution_count": 24,
     "metadata": {},
     "output_type": "execute_result"
    }
   ],
   "source": [
    "links_periodos"
   ]
  },
  {
   "cell_type": "code",
   "execution_count": null,
   "metadata": {},
   "outputs": [],
   "source": []
  },
  {
   "cell_type": "code",
   "execution_count": null,
   "metadata": {},
   "outputs": [],
   "source": [
    "links_periodos = []"
   ]
  },
  {
   "cell_type": "code",
   "execution_count": null,
   "metadata": {},
   "outputs": [],
   "source": []
  },
  {
   "cell_type": "code",
   "execution_count": null,
   "metadata": {},
   "outputs": [],
   "source": [
    "http://sitllxii.diputados.gob.mx/asistencias_diputados_xperiodonplxii.php?dipt=430"
   ]
  },
  {
   "cell_type": "code",
   "execution_count": null,
   "metadata": {},
   "outputs": [],
   "source": []
  },
  {
   "cell_type": "code",
   "execution_count": 4,
   "metadata": {},
   "outputs": [],
   "source": [
    "link_members = 'http://sitllxii.diputados.gob.mx/listado_diputados_gpnp.php?tipot=TOTAL'"
   ]
  },
  {
   "cell_type": "code",
   "execution_count": 5,
   "metadata": {},
   "outputs": [],
   "source": [
    "r = requests.get(link_members)\n",
    "soup = BeautifulSoup(r.content, 'html.parser')"
   ]
  },
  {
   "cell_type": "code",
   "execution_count": null,
   "metadata": {},
   "outputs": [],
   "source": [
    "soup = BeautifulSoup(r.content, 'html.parser')\n",
    "divs_content = soup.findAll(\"article\", {\"class\": \"nota\"})"
   ]
  }
 ],
 "metadata": {
  "kernelspec": {
   "display_name": "Python 3",
   "language": "python",
   "name": "python3"
  },
  "language_info": {
   "codemirror_mode": {
    "name": "ipython",
    "version": 3
   },
   "file_extension": ".py",
   "mimetype": "text/x-python",
   "name": "python",
   "nbconvert_exporter": "python",
   "pygments_lexer": "ipython3",
   "version": "3.8.3"
  }
 },
 "nbformat": 4,
 "nbformat_minor": 4
}
