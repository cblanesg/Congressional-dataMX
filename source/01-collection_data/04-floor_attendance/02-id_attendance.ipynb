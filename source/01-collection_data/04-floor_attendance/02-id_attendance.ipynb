{
 "cells": [
  {
   "cell_type": "code",
   "execution_count": 3,
   "metadata": {},
   "outputs": [],
   "source": [
    "import json\n",
    "import unidecode\n",
    "import re\n",
    "import pandas as pd\n",
    "from fuzzywuzzy import process\n",
    "from tqdm import tqdm"
   ]
  },
  {
   "cell_type": "markdown",
   "metadata": {},
   "source": [
    "## Legislatura 64"
   ]
  },
  {
   "cell_type": "code",
   "execution_count": 40,
   "metadata": {},
   "outputs": [],
   "source": [
    "## Load ID data\n",
    "with open('/Users/cblanesg/cam.blanes Dropbox/Camila Blanes/Congressional-dataMX/data/00-id_data/00-id/id_legislatura64.json') as f:\n",
    "    data64 = json.load(f)"
   ]
  },
  {
   "cell_type": "code",
   "execution_count": 41,
   "metadata": {},
   "outputs": [
    {
     "data": {
      "text/plain": [
       "995"
      ]
     },
     "execution_count": 41,
     "metadata": {},
     "output_type": "execute_result"
    }
   ],
   "source": [
    "mapping64 = {}\n",
    "for i in data64:\n",
    "    if i['nombre_completo'] not in mapping64.keys():\n",
    "        mapping64[re.sub(' [(]licencia[)]', '', re.sub('^[ ]+', '', unidecode.unidecode(i['nombre_completo'].lower())))] = i['id_legislador']\n",
    "    else:\n",
    "        continue\n",
    "\n",
    "len(mapping64)"
   ]
  },
  {
   "cell_type": "code",
   "execution_count": 42,
   "metadata": {},
   "outputs": [],
   "source": [
    "## Load roll call\n",
    "attendance64 = pd.read_csv('/Users/cblanesg/cam.blanes Dropbox/Camila Blanes/Congressional-dataMX/data/04-floor_attendance/floor_attendance64.csv').drop(['Unnamed: 0'], axis= 1)"
   ]
  },
  {
   "cell_type": "code",
   "execution_count": 43,
   "metadata": {},
   "outputs": [
    {
     "data": {
      "text/plain": [
       "Index(['legislatura', 'year_session', 'month_session', 'day_session', 'member',\n",
       "       'party', 'type_attendance'],\n",
       "      dtype='object')"
      ]
     },
     "execution_count": 43,
     "metadata": {},
     "output_type": "execute_result"
    }
   ],
   "source": [
    "attendance64.columns"
   ]
  },
  {
   "cell_type": "code",
   "execution_count": 44,
   "metadata": {},
   "outputs": [],
   "source": [
    "dict_att64 = []\n",
    "for a, b, c, d, e, f, g in zip(attendance64.legislatura , attendance64.year_session, \n",
    "                                 attendance64.month_session , attendance64.day_session, \n",
    "                                 attendance64.member , attendance64.party, \n",
    "                                 attendance64.type_attendance):\n",
    "    temp = {}\n",
    "    temp['legislatura'] = a\n",
    "    temp['year_session'] = b\n",
    "    temp['month_session'] = c\n",
    "    temp['day_session'] = d\n",
    "    temp['member'] = e\n",
    "    temp['party'] = f\n",
    "    temp['type_attendance'] = g\n",
    "    dict_att64.append(temp)"
   ]
  },
  {
   "cell_type": "code",
   "execution_count": 45,
   "metadata": {},
   "outputs": [
    {
     "data": {
      "text/plain": [
       "{'legislatura': 64,\n",
       " 'year_session': 2018,\n",
       " 'month_session': 9,\n",
       " 'day_session': 1,\n",
       " 'member': 'Abasolo Sanchez Pedro Daniel',\n",
       " 'party': 'MORENA',\n",
       " 'type_attendance': ' ASISTENCIA'}"
      ]
     },
     "execution_count": 45,
     "metadata": {},
     "output_type": "execute_result"
    }
   ],
   "source": [
    "dict_att64[0]"
   ]
  },
  {
   "cell_type": "code",
   "execution_count": 46,
   "metadata": {},
   "outputs": [],
   "source": [
    "members64 = pd.DataFrame(dict_att64).member.unique()"
   ]
  },
  {
   "cell_type": "code",
   "execution_count": 47,
   "metadata": {},
   "outputs": [
    {
     "data": {
      "text/plain": [
       "533"
      ]
     },
     "execution_count": 47,
     "metadata": {},
     "output_type": "execute_result"
    }
   ],
   "source": [
    "len(members64)"
   ]
  },
  {
   "cell_type": "code",
   "execution_count": 48,
   "metadata": {},
   "outputs": [
    {
     "data": {
      "text/plain": [
       "57916"
      ]
     },
     "execution_count": 48,
     "metadata": {},
     "output_type": "execute_result"
    }
   ],
   "source": [
    "len(dict_att64)"
   ]
  },
  {
   "cell_type": "code",
   "execution_count": 49,
   "metadata": {},
   "outputs": [
    {
     "name": "stderr",
     "output_type": "stream",
     "text": [
      "100%|██████████| 57916/57916 [1:10:44<00:00, 13.64it/s]  \n"
     ]
    }
   ],
   "source": [
    "missing_names = []\n",
    "\n",
    "for i in tqdm(dict_att64):\n",
    "    name = unidecode.unidecode(i['member'].lower())\n",
    "    try:\n",
    "        i['id'] = mapping64[name]\n",
    "    except:\n",
    "        try:\n",
    "            name_matched = process.extractOne(name, list(mapping64.keys()))[0]\n",
    "            #print(name_matched, ', ', name)\n",
    "            i['id'] = mapping64[name_matched]\n",
    "        except:\n",
    "            if name not in missing_names:\n",
    "                missing_names.append(name)\n",
    "                i['id'] = ''\n",
    "            else:\n",
    "                continue"
   ]
  },
  {
   "cell_type": "code",
   "execution_count": 64,
   "metadata": {},
   "outputs": [],
   "source": [
    "with open('/Users/cblanesg/cam.blanes Dropbox/Camila Blanes/Congressional-dataMX/data/04-floor_attendance/floor_attend_dip64.json', 'w') as d:\n",
    "    json.dump(dict_att64, d)"
   ]
  },
  {
   "cell_type": "code",
   "execution_count": null,
   "metadata": {},
   "outputs": [],
   "source": []
  },
  {
   "cell_type": "code",
   "execution_count": null,
   "metadata": {},
   "outputs": [],
   "source": []
  },
  {
   "cell_type": "markdown",
   "metadata": {},
   "source": [
    "## Legislatura 63"
   ]
  },
  {
   "cell_type": "code",
   "execution_count": 52,
   "metadata": {},
   "outputs": [],
   "source": [
    "## Load ID data\n",
    "with open('/Users/cblanesg/cam.blanes Dropbox/Camila Blanes/Congressional-dataMX/data/00-id_data/00-id/id_legislatura63.json') as f:\n",
    "    data63 = json.load(f)"
   ]
  },
  {
   "cell_type": "code",
   "execution_count": 53,
   "metadata": {},
   "outputs": [
    {
     "data": {
      "text/plain": [
       "1000"
      ]
     },
     "execution_count": 53,
     "metadata": {},
     "output_type": "execute_result"
    }
   ],
   "source": [
    "mapping63 = {}\n",
    "for i in data63:\n",
    "    if i['nombre_completo'] not in mapping63.keys():\n",
    "        mapping63[re.sub(' [(]licencia[)]', '', re.sub('^[ ]+', '', unidecode.unidecode(i['nombre_completo'].lower())))] = i['id_legislador']\n",
    "    else:\n",
    "        continue\n",
    "\n",
    "len(mapping63)"
   ]
  },
  {
   "cell_type": "code",
   "execution_count": 54,
   "metadata": {},
   "outputs": [],
   "source": [
    "## Load roll call\n",
    "attendance63 = pd.read_csv('/Users/cblanesg/cam.blanes Dropbox/Camila Blanes/Congressional-dataMX/data/04-floor_attendance/floor_attendance63.csv').drop(['Unnamed: 0'], axis= 1)"
   ]
  },
  {
   "cell_type": "code",
   "execution_count": 55,
   "metadata": {},
   "outputs": [
    {
     "data": {
      "text/plain": [
       "Index(['legislatura', 'year_session', 'month_session', 'day_session', 'member',\n",
       "       'party', 'type_attendance'],\n",
       "      dtype='object')"
      ]
     },
     "execution_count": 55,
     "metadata": {},
     "output_type": "execute_result"
    }
   ],
   "source": [
    "attendance63.columns"
   ]
  },
  {
   "cell_type": "code",
   "execution_count": 56,
   "metadata": {},
   "outputs": [],
   "source": [
    "dict_att63 = []\n",
    "for a, b, c, d, e, f, g in zip(attendance63.legislatura , attendance63.year_session, \n",
    "                                 attendance63.month_session , attendance63.day_session, \n",
    "                                 attendance63.member , attendance63.party, \n",
    "                                 attendance63.type_attendance):\n",
    "    temp = {}\n",
    "    temp['legislatura'] = a\n",
    "    temp['year_session'] = b\n",
    "    temp['month_session'] = c\n",
    "    temp['day_session'] = d\n",
    "    temp['member'] = e\n",
    "    temp['party'] = f\n",
    "    temp['type_attendance'] = g\n",
    "    dict_att63.append(temp)"
   ]
  },
  {
   "cell_type": "code",
   "execution_count": 57,
   "metadata": {},
   "outputs": [
    {
     "data": {
      "text/plain": [
       "{'legislatura': 63,\n",
       " 'year_session': 2015,\n",
       " 'month_session': 9,\n",
       " 'day_session': 1,\n",
       " 'member': 'Abdala Carmona Yahleel',\n",
       " 'party': 'PRI',\n",
       " 'type_attendance': ' ASISTENCIA'}"
      ]
     },
     "execution_count": 57,
     "metadata": {},
     "output_type": "execute_result"
    }
   ],
   "source": [
    "dict_att63[0]"
   ]
  },
  {
   "cell_type": "code",
   "execution_count": 58,
   "metadata": {},
   "outputs": [],
   "source": [
    "members63 = pd.DataFrame(dict_att63).member.unique()"
   ]
  },
  {
   "cell_type": "code",
   "execution_count": 59,
   "metadata": {},
   "outputs": [
    {
     "data": {
      "text/plain": [
       "670"
      ]
     },
     "execution_count": 59,
     "metadata": {},
     "output_type": "execute_result"
    }
   ],
   "source": [
    "len(members63)"
   ]
  },
  {
   "cell_type": "code",
   "execution_count": 60,
   "metadata": {},
   "outputs": [
    {
     "name": "stderr",
     "output_type": "stream",
     "text": [
      "100%|██████████| 94998/94998 [00:00<00:00, 191389.29it/s]\n"
     ]
    }
   ],
   "source": [
    "missing_names = []\n",
    "\n",
    "for i in tqdm(dict_att63):\n",
    "    name = unidecode.unidecode(i['member'].lower())\n",
    "    try:\n",
    "        if name == 'yunes linares miguel angel':\n",
    "            i['id'] = ''\n",
    "        elif name == 'zenteno nunez eduardo francisco':\n",
    "            i['id'] = ''\n",
    "        elif name == 'gonzalez murillo alejandro':\n",
    "            i['id'] = ''\n",
    "        elif name == 'campa almaral carmen victoria':\n",
    "            i['id'] = ''\n",
    "        else:\n",
    "            i['id'] = mapping63[name]\n",
    "    except:\n",
    "        try:\n",
    "            name_matched = process.extractOne(name, list(dict_att63.keys()))[0]\n",
    "            #print(name_matched, ', ', name)\n",
    "            i['id'] = mapping63[name_matched]\n",
    "        except:\n",
    "            if name not in missing_names:\n",
    "                missing_names.append(name)\n",
    "                i['id'] = ''\n",
    "            else:\n",
    "                continue"
   ]
  },
  {
   "cell_type": "code",
   "execution_count": 61,
   "metadata": {},
   "outputs": [
    {
     "data": {
      "text/plain": [
       "{'legislatura': 63,\n",
       " 'year_session': 2015,\n",
       " 'month_session': 9,\n",
       " 'day_session': 1,\n",
       " 'member': 'Abdala Carmona Yahleel',\n",
       " 'party': 'PRI',\n",
       " 'type_attendance': ' ASISTENCIA',\n",
       " 'id': 'ab80c31c-fd00-11ea-83d8-acde48001122'}"
      ]
     },
     "execution_count": 61,
     "metadata": {},
     "output_type": "execute_result"
    }
   ],
   "source": [
    "dict_att63[0]"
   ]
  },
  {
   "cell_type": "code",
   "execution_count": 63,
   "metadata": {},
   "outputs": [],
   "source": [
    "with open('/Users/cblanesg/cam.blanes Dropbox/Camila Blanes/Congressional-dataMX/data/04-floor_attendance/floor_attend_dip63.json', 'w') as d:\n",
    "    json.dump(dict_att63, d)"
   ]
  },
  {
   "cell_type": "markdown",
   "metadata": {},
   "source": [
    "## Legislatura 62"
   ]
  },
  {
   "cell_type": "code",
   "execution_count": 24,
   "metadata": {},
   "outputs": [],
   "source": [
    "## Load ID data\n",
    "with open('/Users/cblanesg/cam.blanes Dropbox/Camila Blanes/Congressional-dataMX/data/00-id_data/00-id/id_legislatura60.json') as f:\n",
    "    data64 = json.load(f)"
   ]
  },
  {
   "cell_type": "code",
   "execution_count": 25,
   "metadata": {},
   "outputs": [
    {
     "data": {
      "text/plain": [
       "1000"
      ]
     },
     "execution_count": 25,
     "metadata": {},
     "output_type": "execute_result"
    }
   ],
   "source": [
    "mapping64 = {}\n",
    "for i in data64:\n",
    "    if i['nombre_completo'] not in mapping64.keys():\n",
    "        mapping64[re.sub(' [(]licencia[)]', '', re.sub('^[ ]+', '', unidecode.unidecode(i['nombre_completo'].lower())))] = i['id_legislador']\n",
    "    else:\n",
    "        continue\n",
    "\n",
    "len(mapping64)"
   ]
  },
  {
   "cell_type": "code",
   "execution_count": 26,
   "metadata": {},
   "outputs": [],
   "source": [
    "## Load roll call\n",
    "attendance64 = pd.read_csv('/Users/cblanesg/cam.blanes Dropbox/Camila Blanes/Congressional-dataMX/data/04-floor_attendance/01-raw/floor_attendance60.csv').drop(['Unnamed: 0'], axis= 1)"
   ]
  },
  {
   "cell_type": "code",
   "execution_count": null,
   "metadata": {},
   "outputs": [],
   "source": []
  },
  {
   "cell_type": "code",
   "execution_count": 27,
   "metadata": {},
   "outputs": [
    {
     "data": {
      "text/plain": [
       "Index(['legislatura', 'year_session', 'month_session', 'day_session', 'member',\n",
       "       'party', 'type_attendance'],\n",
       "      dtype='object')"
      ]
     },
     "execution_count": 27,
     "metadata": {},
     "output_type": "execute_result"
    }
   ],
   "source": [
    "attendance64.columns"
   ]
  },
  {
   "cell_type": "code",
   "execution_count": 28,
   "metadata": {},
   "outputs": [],
   "source": [
    "dict_att64 = []\n",
    "for a, b, c, d, e, f, g in zip(attendance64.legislatura , attendance64.year_session, \n",
    "                                 attendance64.month_session , attendance64.day_session, \n",
    "                                 attendance64.member , attendance64.party, \n",
    "                                 attendance64.type_attendance):\n",
    "    temp = {}\n",
    "    temp['legislatura'] = 60\n",
    "    temp['year_session'] = b\n",
    "    temp['month_session'] = c\n",
    "    temp['day_session'] = d\n",
    "    temp['member'] = e\n",
    "    temp['party'] = f\n",
    "    temp['type_attendance'] = g\n",
    "    dict_att64.append(temp)"
   ]
  },
  {
   "cell_type": "code",
   "execution_count": 29,
   "metadata": {},
   "outputs": [
    {
     "data": {
      "text/plain": [
       "[{'legislatura': 60,\n",
       "  'year_session': 2009,\n",
       "  'month_session': 4,\n",
       "  'day_session': 30,\n",
       "  'member': 'Ochoa Lopez Nabor',\n",
       "  'party': 'Diputados sin partido',\n",
       "  'type_attendance': 'INASISTENCIA'}]"
      ]
     },
     "execution_count": 29,
     "metadata": {},
     "output_type": "execute_result"
    }
   ],
   "source": [
    "dict_att64[-1:]"
   ]
  },
  {
   "cell_type": "code",
   "execution_count": 30,
   "metadata": {},
   "outputs": [],
   "source": [
    "members64 = pd.DataFrame(dict_att64).member.unique()"
   ]
  },
  {
   "cell_type": "code",
   "execution_count": 31,
   "metadata": {},
   "outputs": [
    {
     "data": {
      "text/plain": [
       "598"
      ]
     },
     "execution_count": 31,
     "metadata": {},
     "output_type": "execute_result"
    }
   ],
   "source": [
    "len(members64)"
   ]
  },
  {
   "cell_type": "code",
   "execution_count": 32,
   "metadata": {},
   "outputs": [
    {
     "data": {
      "text/plain": [
       "90270"
      ]
     },
     "execution_count": 32,
     "metadata": {},
     "output_type": "execute_result"
    }
   ],
   "source": [
    "len(dict_att64)"
   ]
  },
  {
   "cell_type": "code",
   "execution_count": null,
   "metadata": {},
   "outputs": [],
   "source": []
  },
  {
   "cell_type": "code",
   "execution_count": 33,
   "metadata": {},
   "outputs": [
    {
     "name": "stderr",
     "output_type": "stream",
     "text": [
      " 22%|██▏       | 134/598 [03:12<13:47,  1.78s/it] "
     ]
    },
    {
     "name": "stdout",
     "output_type": "stream",
     "text": [
      "almonte borja ramon ,  morelos borja maria esperanza   :  86\n"
     ]
    },
    {
     "name": "stderr",
     "output_type": "stream",
     "text": [
      " 74%|███████▍  | 443/598 [07:51<11:00,  4.26s/it]"
     ]
    },
    {
     "name": "stdout",
     "output_type": "stream",
     "text": [
      "rubio chavez jose ignacio alberto ,  esteva salinas alberto   :  86\n"
     ]
    },
    {
     "name": "stderr",
     "output_type": "stream",
     "text": [
      "100%|██████████| 598/598 [16:58<00:00,  1.70s/it]\n"
     ]
    }
   ],
   "source": [
    "mapping_names = {}\n",
    "for i in tqdm(members64):\n",
    "    name = unidecode.unidecode(i.lower())\n",
    "    if name in mapping64.keys():\n",
    "        continue\n",
    "    else:\n",
    "        name_matched, ratio = process.extractOne(name, list(mapping64.keys()))\n",
    "        if ratio < 90:\n",
    "            print(name_matched, ', ', name, '  : ', ratio)\n",
    "        else:\n",
    "            mapping_names[name] = name_matched"
   ]
  },
  {
   "cell_type": "code",
   "execution_count": null,
   "metadata": {},
   "outputs": [],
   "source": []
  },
  {
   "cell_type": "code",
   "execution_count": 34,
   "metadata": {},
   "outputs": [],
   "source": [
    "missing_names = []\n",
    "\n",
    "for i in dict_att64:\n",
    "    name = unidecode.unidecode(i['member'].lower())\n",
    "    try:\n",
    "        i['id'] = mapping64[name]\n",
    "    except:\n",
    "        try:\n",
    "            matched_name = mapping_names[name]\n",
    "            i['id'] = mapping64[matched_name]\n",
    "        except:\n",
    "            i['id'] = ''\n",
    "            if name not in missing_names:\n",
    "                missing_names.append(name)\n",
    "            else:\n",
    "                continue"
   ]
  },
  {
   "cell_type": "code",
   "execution_count": 35,
   "metadata": {},
   "outputs": [
    {
     "data": {
      "text/plain": [
       "['morelos borja maria esperanza', 'esteva salinas alberto']"
      ]
     },
     "execution_count": 35,
     "metadata": {},
     "output_type": "execute_result"
    }
   ],
   "source": [
    "missing_names"
   ]
  },
  {
   "cell_type": "code",
   "execution_count": 36,
   "metadata": {},
   "outputs": [
    {
     "data": {
      "text/plain": [
       "{'legislatura': 60,\n",
       " 'year_session': 2006,\n",
       " 'month_session': 9,\n",
       " 'day_session': 1,\n",
       " 'member': 'Acosta Davila Constantino',\n",
       " 'party': 'Partido Acción Nacional',\n",
       " 'type_attendance': 'ASISTENCIA',\n",
       " 'id': 'e7f3daa8-fe1f-11ea-95ca-acde48001122'}"
      ]
     },
     "execution_count": 36,
     "metadata": {},
     "output_type": "execute_result"
    }
   ],
   "source": [
    "dict_att64[0]"
   ]
  },
  {
   "cell_type": "code",
   "execution_count": null,
   "metadata": {},
   "outputs": [],
   "source": []
  },
  {
   "cell_type": "code",
   "execution_count": 37,
   "metadata": {},
   "outputs": [],
   "source": [
    "with open('/Users/cblanesg/cam.blanes Dropbox/Camila Blanes/Congressional-dataMX/data/04-floor_attendance/02-id_members/floor_attend_dip60.json', 'w') as d:\n",
    "    json.dump(dict_att64, d)"
   ]
  },
  {
   "cell_type": "code",
   "execution_count": null,
   "metadata": {},
   "outputs": [],
   "source": []
  },
  {
   "cell_type": "code",
   "execution_count": 22,
   "metadata": {},
   "outputs": [],
   "source": [
    "with open('/Users/cblanesg/cam.blanes Dropbox/Camila Blanes/Congressional-dataMX/data/04-floor_attendance/02-id_members/floor_attend_dip61.json') as d:\n",
    "    data = json.load(d)"
   ]
  },
  {
   "cell_type": "code",
   "execution_count": 23,
   "metadata": {},
   "outputs": [
    {
     "data": {
      "text/plain": [
       "{'legislatura': 61,\n",
       " 'year_session': 2009,\n",
       " 'month_session': 9,\n",
       " 'day_session': 1,\n",
       " 'member': 'Acosta Gutierrez Manuel Ignacio',\n",
       " 'party': 'PARTIDO REVOLUCIONARIO INSTITUCIONAL',\n",
       " 'type_attendance': 'ASISTENCIA',\n",
       " 'id': 'f7a3a5ac-fe1d-11ea-95ca-acde48001122'}"
      ]
     },
     "execution_count": 23,
     "metadata": {},
     "output_type": "execute_result"
    }
   ],
   "source": [
    "data[0]"
   ]
  }
 ],
 "metadata": {
  "kernelspec": {
   "display_name": "Python 3",
   "language": "python",
   "name": "python3"
  },
  "language_info": {
   "codemirror_mode": {
    "name": "ipython",
    "version": 3
   },
   "file_extension": ".py",
   "mimetype": "text/x-python",
   "name": "python",
   "nbconvert_exporter": "python",
   "pygments_lexer": "ipython3",
   "version": "3.8.3"
  }
 },
 "nbformat": 4,
 "nbformat_minor": 4
}
