{
 "cells": [
  {
   "cell_type": "code",
   "execution_count": 4,
   "metadata": {},
   "outputs": [],
   "source": [
    "import json\n",
    "import unidecode\n",
    "import re\n",
    "import pandas as pd\n",
    "from fuzzywuzzy import process\n",
    "from tqdm import tqdm"
   ]
  },
  {
   "cell_type": "markdown",
   "metadata": {},
   "source": [
    "## Legislatura 64"
   ]
  },
  {
   "cell_type": "code",
   "execution_count": 40,
   "metadata": {},
   "outputs": [],
   "source": [
    "## Load ID data\n",
    "with open('/Users/cblanesg/cam.blanes Dropbox/Camila Blanes/Congressional-dataMX/data/00-id_data/00-id/id_legislatura64.json') as f:\n",
    "    data64 = json.load(f)"
   ]
  },
  {
   "cell_type": "code",
   "execution_count": 41,
   "metadata": {},
   "outputs": [
    {
     "data": {
      "text/plain": [
       "995"
      ]
     },
     "execution_count": 41,
     "metadata": {},
     "output_type": "execute_result"
    }
   ],
   "source": [
    "mapping64 = {}\n",
    "for i in data64:\n",
    "    if i['nombre_completo'] not in mapping64.keys():\n",
    "        mapping64[re.sub(' [(]licencia[)]', '', re.sub('^[ ]+', '', unidecode.unidecode(i['nombre_completo'].lower())))] = i['id_legislador']\n",
    "    else:\n",
    "        continue\n",
    "\n",
    "len(mapping64)"
   ]
  },
  {
   "cell_type": "code",
   "execution_count": 42,
   "metadata": {},
   "outputs": [],
   "source": [
    "## Load roll call\n",
    "attendance64 = pd.read_csv('/Users/cblanesg/cam.blanes Dropbox/Camila Blanes/Congressional-dataMX/data/04-floor_attendance/floor_attendance64.csv').drop(['Unnamed: 0'], axis= 1)"
   ]
  },
  {
   "cell_type": "code",
   "execution_count": 43,
   "metadata": {},
   "outputs": [
    {
     "data": {
      "text/plain": [
       "Index(['legislatura', 'year_session', 'month_session', 'day_session', 'member',\n",
       "       'party', 'type_attendance'],\n",
       "      dtype='object')"
      ]
     },
     "execution_count": 43,
     "metadata": {},
     "output_type": "execute_result"
    }
   ],
   "source": [
    "attendance64.columns"
   ]
  },
  {
   "cell_type": "code",
   "execution_count": 44,
   "metadata": {},
   "outputs": [],
   "source": [
    "dict_att64 = []\n",
    "for a, b, c, d, e, f, g in zip(attendance64.legislatura , attendance64.year_session, \n",
    "                                 attendance64.month_session , attendance64.day_session, \n",
    "                                 attendance64.member , attendance64.party, \n",
    "                                 attendance64.type_attendance):\n",
    "    temp = {}\n",
    "    temp['legislatura'] = a\n",
    "    temp['year_session'] = b\n",
    "    temp['month_session'] = c\n",
    "    temp['day_session'] = d\n",
    "    temp['member'] = e\n",
    "    temp['party'] = f\n",
    "    temp['type_attendance'] = g\n",
    "    dict_att64.append(temp)"
   ]
  },
  {
   "cell_type": "code",
   "execution_count": 45,
   "metadata": {},
   "outputs": [
    {
     "data": {
      "text/plain": [
       "{'legislatura': 64,\n",
       " 'year_session': 2018,\n",
       " 'month_session': 9,\n",
       " 'day_session': 1,\n",
       " 'member': 'Abasolo Sanchez Pedro Daniel',\n",
       " 'party': 'MORENA',\n",
       " 'type_attendance': ' ASISTENCIA'}"
      ]
     },
     "execution_count": 45,
     "metadata": {},
     "output_type": "execute_result"
    }
   ],
   "source": [
    "dict_att64[0]"
   ]
  },
  {
   "cell_type": "code",
   "execution_count": 46,
   "metadata": {},
   "outputs": [],
   "source": [
    "members64 = pd.DataFrame(dict_att64).member.unique()"
   ]
  },
  {
   "cell_type": "code",
   "execution_count": 47,
   "metadata": {},
   "outputs": [
    {
     "data": {
      "text/plain": [
       "533"
      ]
     },
     "execution_count": 47,
     "metadata": {},
     "output_type": "execute_result"
    }
   ],
   "source": [
    "len(members64)"
   ]
  },
  {
   "cell_type": "code",
   "execution_count": 48,
   "metadata": {},
   "outputs": [
    {
     "data": {
      "text/plain": [
       "57916"
      ]
     },
     "execution_count": 48,
     "metadata": {},
     "output_type": "execute_result"
    }
   ],
   "source": [
    "len(dict_att64)"
   ]
  },
  {
   "cell_type": "code",
   "execution_count": 49,
   "metadata": {},
   "outputs": [
    {
     "name": "stderr",
     "output_type": "stream",
     "text": [
      "100%|██████████| 57916/57916 [1:10:44<00:00, 13.64it/s]  \n"
     ]
    }
   ],
   "source": [
    "missing_names = []\n",
    "\n",
    "for i in tqdm(dict_att64):\n",
    "    name = unidecode.unidecode(i['member'].lower())\n",
    "    try:\n",
    "        i['id'] = mapping64[name]\n",
    "    except:\n",
    "        try:\n",
    "            name_matched = process.extractOne(name, list(mapping64.keys()))[0]\n",
    "            #print(name_matched, ', ', name)\n",
    "            i['id'] = mapping64[name_matched]\n",
    "        except:\n",
    "            if name not in missing_names:\n",
    "                missing_names.append(name)\n",
    "                i['id'] = ''\n",
    "            else:\n",
    "                continue"
   ]
  },
  {
   "cell_type": "code",
   "execution_count": 64,
   "metadata": {},
   "outputs": [],
   "source": [
    "with open('/Users/cblanesg/cam.blanes Dropbox/Camila Blanes/Congressional-dataMX/data/04-floor_attendance/floor_attend_dip64.json', 'w') as d:\n",
    "    json.dump(dict_att64, d)"
   ]
  },
  {
   "cell_type": "code",
   "execution_count": null,
   "metadata": {},
   "outputs": [],
   "source": []
  },
  {
   "cell_type": "code",
   "execution_count": null,
   "metadata": {},
   "outputs": [],
   "source": []
  },
  {
   "cell_type": "markdown",
   "metadata": {},
   "source": [
    "## Legislatura 63"
   ]
  },
  {
   "cell_type": "code",
   "execution_count": 52,
   "metadata": {},
   "outputs": [],
   "source": [
    "## Load ID data\n",
    "with open('/Users/cblanesg/cam.blanes Dropbox/Camila Blanes/Congressional-dataMX/data/00-id_data/00-id/id_legislatura63.json') as f:\n",
    "    data63 = json.load(f)"
   ]
  },
  {
   "cell_type": "code",
   "execution_count": 53,
   "metadata": {},
   "outputs": [
    {
     "data": {
      "text/plain": [
       "1000"
      ]
     },
     "execution_count": 53,
     "metadata": {},
     "output_type": "execute_result"
    }
   ],
   "source": [
    "mapping63 = {}\n",
    "for i in data63:\n",
    "    if i['nombre_completo'] not in mapping63.keys():\n",
    "        mapping63[re.sub(' [(]licencia[)]', '', re.sub('^[ ]+', '', unidecode.unidecode(i['nombre_completo'].lower())))] = i['id_legislador']\n",
    "    else:\n",
    "        continue\n",
    "\n",
    "len(mapping63)"
   ]
  },
  {
   "cell_type": "code",
   "execution_count": 54,
   "metadata": {},
   "outputs": [],
   "source": [
    "## Load roll call\n",
    "attendance63 = pd.read_csv('/Users/cblanesg/cam.blanes Dropbox/Camila Blanes/Congressional-dataMX/data/04-floor_attendance/floor_attendance63.csv').drop(['Unnamed: 0'], axis= 1)"
   ]
  },
  {
   "cell_type": "code",
   "execution_count": 55,
   "metadata": {},
   "outputs": [
    {
     "data": {
      "text/plain": [
       "Index(['legislatura', 'year_session', 'month_session', 'day_session', 'member',\n",
       "       'party', 'type_attendance'],\n",
       "      dtype='object')"
      ]
     },
     "execution_count": 55,
     "metadata": {},
     "output_type": "execute_result"
    }
   ],
   "source": [
    "attendance63.columns"
   ]
  },
  {
   "cell_type": "code",
   "execution_count": 56,
   "metadata": {},
   "outputs": [],
   "source": [
    "dict_att63 = []\n",
    "for a, b, c, d, e, f, g in zip(attendance63.legislatura , attendance63.year_session, \n",
    "                                 attendance63.month_session , attendance63.day_session, \n",
    "                                 attendance63.member , attendance63.party, \n",
    "                                 attendance63.type_attendance):\n",
    "    temp = {}\n",
    "    temp['legislatura'] = a\n",
    "    temp['year_session'] = b\n",
    "    temp['month_session'] = c\n",
    "    temp['day_session'] = d\n",
    "    temp['member'] = e\n",
    "    temp['party'] = f\n",
    "    temp['type_attendance'] = g\n",
    "    dict_att63.append(temp)"
   ]
  },
  {
   "cell_type": "code",
   "execution_count": 57,
   "metadata": {},
   "outputs": [
    {
     "data": {
      "text/plain": [
       "{'legislatura': 63,\n",
       " 'year_session': 2015,\n",
       " 'month_session': 9,\n",
       " 'day_session': 1,\n",
       " 'member': 'Abdala Carmona Yahleel',\n",
       " 'party': 'PRI',\n",
       " 'type_attendance': ' ASISTENCIA'}"
      ]
     },
     "execution_count": 57,
     "metadata": {},
     "output_type": "execute_result"
    }
   ],
   "source": [
    "dict_att63[0]"
   ]
  },
  {
   "cell_type": "code",
   "execution_count": 58,
   "metadata": {},
   "outputs": [],
   "source": [
    "members63 = pd.DataFrame(dict_att63).member.unique()"
   ]
  },
  {
   "cell_type": "code",
   "execution_count": 59,
   "metadata": {},
   "outputs": [
    {
     "data": {
      "text/plain": [
       "670"
      ]
     },
     "execution_count": 59,
     "metadata": {},
     "output_type": "execute_result"
    }
   ],
   "source": [
    "len(members63)"
   ]
  },
  {
   "cell_type": "code",
   "execution_count": 60,
   "metadata": {},
   "outputs": [
    {
     "name": "stderr",
     "output_type": "stream",
     "text": [
      "100%|██████████| 94998/94998 [00:00<00:00, 191389.29it/s]\n"
     ]
    }
   ],
   "source": [
    "missing_names = []\n",
    "\n",
    "for i in tqdm(dict_att63):\n",
    "    name = unidecode.unidecode(i['member'].lower())\n",
    "    try:\n",
    "        if name == 'yunes linares miguel angel':\n",
    "            i['id'] = ''\n",
    "        elif name == 'zenteno nunez eduardo francisco':\n",
    "            i['id'] = ''\n",
    "        elif name == 'gonzalez murillo alejandro':\n",
    "            i['id'] = ''\n",
    "        elif name == 'campa almaral carmen victoria':\n",
    "            i['id'] = ''\n",
    "        else:\n",
    "            i['id'] = mapping63[name]\n",
    "    except:\n",
    "        try:\n",
    "            name_matched = process.extractOne(name, list(dict_att63.keys()))[0]\n",
    "            #print(name_matched, ', ', name)\n",
    "            i['id'] = mapping63[name_matched]\n",
    "        except:\n",
    "            if name not in missing_names:\n",
    "                missing_names.append(name)\n",
    "                i['id'] = ''\n",
    "            else:\n",
    "                continue"
   ]
  },
  {
   "cell_type": "code",
   "execution_count": 61,
   "metadata": {},
   "outputs": [
    {
     "data": {
      "text/plain": [
       "{'legislatura': 63,\n",
       " 'year_session': 2015,\n",
       " 'month_session': 9,\n",
       " 'day_session': 1,\n",
       " 'member': 'Abdala Carmona Yahleel',\n",
       " 'party': 'PRI',\n",
       " 'type_attendance': ' ASISTENCIA',\n",
       " 'id': 'ab80c31c-fd00-11ea-83d8-acde48001122'}"
      ]
     },
     "execution_count": 61,
     "metadata": {},
     "output_type": "execute_result"
    }
   ],
   "source": [
    "dict_att63[0]"
   ]
  },
  {
   "cell_type": "code",
   "execution_count": 63,
   "metadata": {},
   "outputs": [],
   "source": [
    "with open('/Users/cblanesg/cam.blanes Dropbox/Camila Blanes/Congressional-dataMX/data/04-floor_attendance/floor_attend_dip63.json', 'w') as d:\n",
    "    json.dump(dict_att63, d)"
   ]
  },
  {
   "cell_type": "markdown",
   "metadata": {},
   "source": [
    "## Legislatura 62"
   ]
  },
  {
   "cell_type": "code",
   "execution_count": 11,
   "metadata": {},
   "outputs": [],
   "source": [
    "## Load ID data\n",
    "with open('/Users/cblanesg/cam.blanes Dropbox/Camila Blanes/Congressional-dataMX/data/00-id_data/00-id/id_legislatura61.json') as f:\n",
    "    data64 = json.load(f)"
   ]
  },
  {
   "cell_type": "code",
   "execution_count": 12,
   "metadata": {},
   "outputs": [
    {
     "data": {
      "text/plain": [
       "1000"
      ]
     },
     "execution_count": 12,
     "metadata": {},
     "output_type": "execute_result"
    }
   ],
   "source": [
    "mapping64 = {}\n",
    "for i in data64:\n",
    "    if i['nombre_completo'] not in mapping64.keys():\n",
    "        mapping64[re.sub(' [(]licencia[)]', '', re.sub('^[ ]+', '', unidecode.unidecode(i['nombre_completo'].lower())))] = i['id_legislador']\n",
    "    else:\n",
    "        continue\n",
    "\n",
    "len(mapping64)"
   ]
  },
  {
   "cell_type": "code",
   "execution_count": 13,
   "metadata": {},
   "outputs": [],
   "source": [
    "## Load roll call\n",
    "attendance64 = pd.read_csv('/Users/cblanesg/cam.blanes Dropbox/Camila Blanes/Congressional-dataMX/data/04-floor_attendance/01-raw/floor_attendance61.csv').drop(['Unnamed: 0'], axis= 1)"
   ]
  },
  {
   "cell_type": "code",
   "execution_count": null,
   "metadata": {},
   "outputs": [],
   "source": []
  },
  {
   "cell_type": "code",
   "execution_count": 43,
   "metadata": {},
   "outputs": [
    {
     "data": {
      "text/plain": [
       "Index(['legislatura', 'year_session', 'month_session', 'day_session', 'member',\n",
       "       'party', 'type_attendance'],\n",
       "      dtype='object')"
      ]
     },
     "execution_count": 43,
     "metadata": {},
     "output_type": "execute_result"
    }
   ],
   "source": [
    "attendance64.columns"
   ]
  },
  {
   "cell_type": "code",
   "execution_count": 17,
   "metadata": {},
   "outputs": [],
   "source": [
    "dict_att64 = []\n",
    "for a, b, c, d, e, f, g in zip(attendance64.legislatura , attendance64.year_session, \n",
    "                                 attendance64.month_session , attendance64.day_session, \n",
    "                                 attendance64.member , attendance64.party, \n",
    "                                 attendance64.type_attendance):\n",
    "    temp = {}\n",
    "    temp['legislatura'] = 61\n",
    "    temp['year_session'] = b\n",
    "    temp['month_session'] = c\n",
    "    temp['day_session'] = d\n",
    "    temp['member'] = e\n",
    "    temp['party'] = f\n",
    "    temp['type_attendance'] = g\n",
    "    dict_att64.append(temp)"
   ]
  },
  {
   "cell_type": "code",
   "execution_count": 18,
   "metadata": {},
   "outputs": [
    {
     "data": {
      "text/plain": [
       "[{'legislatura': 61,\n",
       "  'year_session': 2012,\n",
       "  'month_session': 4,\n",
       "  'day_session': 30,\n",
       "  'member': 'Vazquez Aguilar Jaime Arturo',\n",
       "  'party': 'DIPUTADOS SIN PARTIDO',\n",
       "  'type_attendance': 'ASISTENCIA'}]"
      ]
     },
     "execution_count": 18,
     "metadata": {},
     "output_type": "execute_result"
    }
   ],
   "source": [
    "dict_att64[-1:]"
   ]
  },
  {
   "cell_type": "code",
   "execution_count": 19,
   "metadata": {},
   "outputs": [],
   "source": [
    "members64 = pd.DataFrame(dict_att64).member.unique()"
   ]
  },
  {
   "cell_type": "code",
   "execution_count": 20,
   "metadata": {},
   "outputs": [
    {
     "data": {
      "text/plain": [
       "629"
      ]
     },
     "execution_count": 20,
     "metadata": {},
     "output_type": "execute_result"
    }
   ],
   "source": [
    "len(members64)"
   ]
  },
  {
   "cell_type": "code",
   "execution_count": 22,
   "metadata": {},
   "outputs": [
    {
     "data": {
      "text/plain": [
       "98247"
      ]
     },
     "execution_count": 22,
     "metadata": {},
     "output_type": "execute_result"
    }
   ],
   "source": [
    "len(dict_att64)"
   ]
  },
  {
   "cell_type": "code",
   "execution_count": 23,
   "metadata": {},
   "outputs": [
    {
     "name": "stdout",
     "output_type": "stream",
     "text": [
      "flores rico carlos ,  flores escalera hilda esthela   :  86\n",
      "josefina de la cruz celeste vazquez garcia ,  vazquez mota josefina eugenia   :  67\n",
      "ledesma romo eduardo ,  ledesma romo laura elena   :  71\n",
      "morales martinez fernando ,  garza flores noe fernando   :  64\n"
     ]
    }
   ],
   "source": [
    "for i in tqdm(members64):\n",
    "    name = unidecode.unidecode(i.lower())\n",
    "    if name in mapping64.keys():\n",
    "        continue\n",
    "    else:\n",
    "        name_matched, ratio = process.extractOne(name, list(mapping64.keys()))\n",
    "        if ratio < 90:\n",
    "            print(name_matched, ', ', name, '  : ', ratio)\n",
    "        else:\n",
    "            continue"
   ]
  },
  {
   "cell_type": "code",
   "execution_count": null,
   "metadata": {},
   "outputs": [
    {
     "name": "stderr",
     "output_type": "stream",
     "text": [
      "  0%|          | 65/98247 [00:42<22:35:51,  1.21it/s]"
     ]
    },
    {
     "name": "stdout",
     "output_type": "stream",
     "text": [
      "flores rico carlos ,  flores escalera hilda esthela\n"
     ]
    },
    {
     "name": "stderr",
     "output_type": "stream",
     "text": [
      "  0%|          | 377/98247 [05:03<23:41:34,  1.15it/s] "
     ]
    },
    {
     "name": "stdout",
     "output_type": "stream",
     "text": [
      "josefina de la cruz celeste vazquez garcia ,  vazquez mota josefina eugenia\n"
     ]
    },
    {
     "name": "stderr",
     "output_type": "stream",
     "text": [
      "  0%|          | 458/98247 [07:57<365:01:47, 13.44s/it]"
     ]
    },
    {
     "name": "stdout",
     "output_type": "stream",
     "text": [
      "ledesma romo eduardo ,  ledesma romo laura elena\n"
     ]
    },
    {
     "name": "stderr",
     "output_type": "stream",
     "text": [
      "  1%|          | 564/98247 [10:35<67:04:33,  2.47s/it] "
     ]
    },
    {
     "name": "stdout",
     "output_type": "stream",
     "text": [
      "flores rico carlos ,  flores escalera hilda esthela\n"
     ]
    },
    {
     "name": "stderr",
     "output_type": "stream",
     "text": [
      "  1%|          | 876/98247 [16:30<21:41:39,  1.25it/s] "
     ]
    },
    {
     "name": "stdout",
     "output_type": "stream",
     "text": [
      "josefina de la cruz celeste vazquez garcia ,  vazquez mota josefina eugenia\n"
     ]
    },
    {
     "name": "stderr",
     "output_type": "stream",
     "text": [
      "  1%|          | 957/98247 [18:40<133:07:01,  4.93s/it]"
     ]
    },
    {
     "name": "stdout",
     "output_type": "stream",
     "text": [
      "ledesma romo eduardo ,  ledesma romo laura elena\n"
     ]
    },
    {
     "name": "stderr",
     "output_type": "stream",
     "text": [
      "  1%|          | 1063/98247 [20:08<33:29:49,  1.24s/it]"
     ]
    },
    {
     "name": "stdout",
     "output_type": "stream",
     "text": [
      "flores rico carlos ,  flores escalera hilda esthela\n"
     ]
    },
    {
     "name": "stderr",
     "output_type": "stream",
     "text": [
      "  1%|▏         | 1375/98247 [25:05<21:37:03,  1.24it/s] "
     ]
    },
    {
     "name": "stdout",
     "output_type": "stream",
     "text": [
      "josefina de la cruz celeste vazquez garcia ,  vazquez mota josefina eugenia\n"
     ]
    },
    {
     "name": "stderr",
     "output_type": "stream",
     "text": [
      "  1%|▏         | 1456/98247 [26:46<101:44:16,  3.78s/it]"
     ]
    },
    {
     "name": "stdout",
     "output_type": "stream",
     "text": [
      "ledesma romo eduardo ,  ledesma romo laura elena\n"
     ]
    },
    {
     "name": "stderr",
     "output_type": "stream",
     "text": [
      "  2%|▏         | 1562/98247 [28:12<24:59:59,  1.07it/s] "
     ]
    },
    {
     "name": "stdout",
     "output_type": "stream",
     "text": [
      "flores rico carlos ,  flores escalera hilda esthela\n"
     ]
    },
    {
     "name": "stderr",
     "output_type": "stream",
     "text": [
      "  2%|▏         | 1874/98247 [32:02<16:52:31,  1.59it/s] "
     ]
    },
    {
     "name": "stdout",
     "output_type": "stream",
     "text": [
      "josefina de la cruz celeste vazquez garcia ,  vazquez mota josefina eugenia\n"
     ]
    },
    {
     "name": "stderr",
     "output_type": "stream",
     "text": [
      "  2%|▏         | 1955/98247 [33:22<68:38:53,  2.57s/it] "
     ]
    },
    {
     "name": "stdout",
     "output_type": "stream",
     "text": [
      "ledesma romo eduardo ,  ledesma romo laura elena\n"
     ]
    },
    {
     "name": "stderr",
     "output_type": "stream",
     "text": [
      "  2%|▏         | 2061/98247 [34:10<13:37:29,  1.96it/s]"
     ]
    },
    {
     "name": "stdout",
     "output_type": "stream",
     "text": [
      "flores rico carlos ,  flores escalera hilda esthela\n"
     ]
    },
    {
     "name": "stderr",
     "output_type": "stream",
     "text": [
      "  2%|▏         | 2373/98247 [36:22<9:08:19,  2.91it/s] "
     ]
    },
    {
     "name": "stdout",
     "output_type": "stream",
     "text": [
      "josefina de la cruz celeste vazquez garcia ,  vazquez mota josefina eugenia\n"
     ]
    },
    {
     "name": "stderr",
     "output_type": "stream",
     "text": [
      "  2%|▏         | 2454/98247 [37:23<51:43:56,  1.94s/it]"
     ]
    },
    {
     "name": "stdout",
     "output_type": "stream",
     "text": [
      "ledesma romo eduardo ,  ledesma romo laura elena\n"
     ]
    },
    {
     "name": "stderr",
     "output_type": "stream",
     "text": [
      "  3%|▎         | 2560/98247 [37:59<14:26:44,  1.84it/s]"
     ]
    },
    {
     "name": "stdout",
     "output_type": "stream",
     "text": [
      "flores rico carlos ,  flores escalera hilda esthela\n"
     ]
    },
    {
     "name": "stderr",
     "output_type": "stream",
     "text": [
      "  3%|▎         | 2872/98247 [40:38<18:25:09,  1.44it/s]"
     ]
    },
    {
     "name": "stdout",
     "output_type": "stream",
     "text": [
      "josefina de la cruz celeste vazquez garcia ,  vazquez mota josefina eugenia\n"
     ]
    },
    {
     "name": "stderr",
     "output_type": "stream",
     "text": [
      "  3%|▎         | 2953/98247 [41:50<52:44:51,  1.99s/it] "
     ]
    },
    {
     "name": "stdout",
     "output_type": "stream",
     "text": [
      "ledesma romo eduardo ,  ledesma romo laura elena\n"
     ]
    },
    {
     "name": "stderr",
     "output_type": "stream",
     "text": [
      "  3%|▎         | 3059/98247 [43:07<35:28:52,  1.34s/it]"
     ]
    },
    {
     "name": "stdout",
     "output_type": "stream",
     "text": [
      "flores rico carlos ,  flores escalera hilda esthela\n"
     ]
    },
    {
     "name": "stderr",
     "output_type": "stream",
     "text": [
      "  3%|▎         | 3371/98247 [45:02<6:38:17,  3.97it/s] "
     ]
    },
    {
     "name": "stdout",
     "output_type": "stream",
     "text": [
      "josefina de la cruz celeste vazquez garcia ,  vazquez mota josefina eugenia\n"
     ]
    },
    {
     "name": "stderr",
     "output_type": "stream",
     "text": [
      "  4%|▎         | 3452/98247 [45:41<33:01:36,  1.25s/it]"
     ]
    },
    {
     "name": "stdout",
     "output_type": "stream",
     "text": [
      "ledesma romo eduardo ,  ledesma romo laura elena\n"
     ]
    },
    {
     "name": "stderr",
     "output_type": "stream",
     "text": [
      "  4%|▎         | 3558/98247 [46:18<16:33:30,  1.59it/s]"
     ]
    },
    {
     "name": "stdout",
     "output_type": "stream",
     "text": [
      "flores rico carlos ,  flores escalera hilda esthela\n"
     ]
    },
    {
     "name": "stderr",
     "output_type": "stream",
     "text": [
      "  4%|▍         | 3870/98247 [48:23<12:07:16,  2.16it/s]"
     ]
    },
    {
     "name": "stdout",
     "output_type": "stream",
     "text": [
      "josefina de la cruz celeste vazquez garcia ,  vazquez mota josefina eugenia\n"
     ]
    },
    {
     "name": "stderr",
     "output_type": "stream",
     "text": [
      "  4%|▍         | 3951/98247 [49:29<56:50:11,  2.17s/it]"
     ]
    },
    {
     "name": "stdout",
     "output_type": "stream",
     "text": [
      "ledesma romo eduardo ,  ledesma romo laura elena\n"
     ]
    },
    {
     "name": "stderr",
     "output_type": "stream",
     "text": [
      "  4%|▍         | 4057/98247 [50:22<17:03:56,  1.53it/s]"
     ]
    },
    {
     "name": "stdout",
     "output_type": "stream",
     "text": [
      "flores rico carlos ,  flores escalera hilda esthela\n"
     ]
    },
    {
     "name": "stderr",
     "output_type": "stream",
     "text": [
      "  4%|▍         | 4369/98247 [54:37<22:59:37,  1.13it/s] "
     ]
    },
    {
     "name": "stdout",
     "output_type": "stream",
     "text": [
      "josefina de la cruz celeste vazquez garcia ,  vazquez mota josefina eugenia\n"
     ]
    },
    {
     "name": "stderr",
     "output_type": "stream",
     "text": [
      "  5%|▍         | 4450/98247 [56:29<160:29:14,  6.16s/it]"
     ]
    },
    {
     "name": "stdout",
     "output_type": "stream",
     "text": [
      "ledesma romo eduardo ,  ledesma romo laura elena\n"
     ]
    },
    {
     "name": "stderr",
     "output_type": "stream",
     "text": [
      "  5%|▍         | 4556/98247 [58:30<42:09:34,  1.62s/it] "
     ]
    },
    {
     "name": "stdout",
     "output_type": "stream",
     "text": [
      "flores rico carlos ,  flores escalera hilda esthela\n"
     ]
    },
    {
     "name": "stderr",
     "output_type": "stream",
     "text": [
      "  5%|▍         | 4868/98247 [1:03:11<30:37:31,  1.18s/it] "
     ]
    },
    {
     "name": "stdout",
     "output_type": "stream",
     "text": [
      "josefina de la cruz celeste vazquez garcia ,  vazquez mota josefina eugenia\n"
     ]
    },
    {
     "name": "stderr",
     "output_type": "stream",
     "text": [
      "  5%|▌         | 4949/98247 [1:05:31<180:54:16,  6.98s/it]"
     ]
    },
    {
     "name": "stdout",
     "output_type": "stream",
     "text": [
      "ledesma romo eduardo ,  ledesma romo laura elena\n"
     ]
    },
    {
     "name": "stderr",
     "output_type": "stream",
     "text": [
      "  5%|▌         | 5055/98247 [1:07:05<25:26:29,  1.02it/s] "
     ]
    },
    {
     "name": "stdout",
     "output_type": "stream",
     "text": [
      "flores rico carlos ,  flores escalera hilda esthela\n"
     ]
    },
    {
     "name": "stderr",
     "output_type": "stream",
     "text": [
      "  5%|▌         | 5367/98247 [1:10:47<14:09:21,  1.82it/s] "
     ]
    },
    {
     "name": "stdout",
     "output_type": "stream",
     "text": [
      "josefina de la cruz celeste vazquez garcia ,  vazquez mota josefina eugenia\n"
     ]
    },
    {
     "name": "stderr",
     "output_type": "stream",
     "text": [
      "  6%|▌         | 5448/98247 [1:12:09<71:36:38,  2.78s/it]"
     ]
    },
    {
     "name": "stdout",
     "output_type": "stream",
     "text": [
      "ledesma romo eduardo ,  ledesma romo laura elena\n"
     ]
    },
    {
     "name": "stderr",
     "output_type": "stream",
     "text": [
      "  6%|▌         | 5554/98247 [1:13:51<44:10:22,  1.72s/it]"
     ]
    },
    {
     "name": "stdout",
     "output_type": "stream",
     "text": [
      "flores rico carlos ,  flores escalera hilda esthela\n"
     ]
    },
    {
     "name": "stderr",
     "output_type": "stream",
     "text": [
      "  6%|▌         | 5866/98247 [1:18:12<15:39:38,  1.64it/s] "
     ]
    },
    {
     "name": "stdout",
     "output_type": "stream",
     "text": [
      "josefina de la cruz celeste vazquez garcia ,  vazquez mota josefina eugenia\n"
     ]
    },
    {
     "name": "stderr",
     "output_type": "stream",
     "text": [
      "  6%|▌         | 5947/98247 [1:19:48<89:05:04,  3.47s/it] "
     ]
    },
    {
     "name": "stdout",
     "output_type": "stream",
     "text": [
      "ledesma romo eduardo ,  ledesma romo laura elena\n"
     ]
    },
    {
     "name": "stderr",
     "output_type": "stream",
     "text": [
      "  6%|▌         | 6053/98247 [1:20:58<22:46:47,  1.12it/s]"
     ]
    },
    {
     "name": "stdout",
     "output_type": "stream",
     "text": [
      "flores rico carlos ,  flores escalera hilda esthela\n"
     ]
    },
    {
     "name": "stderr",
     "output_type": "stream",
     "text": [
      "  6%|▋         | 6365/98247 [1:24:14<14:22:16,  1.78it/s]"
     ]
    },
    {
     "name": "stdout",
     "output_type": "stream",
     "text": [
      "josefina de la cruz celeste vazquez garcia ,  vazquez mota josefina eugenia\n"
     ]
    },
    {
     "name": "stderr",
     "output_type": "stream",
     "text": [
      "  7%|▋         | 6447/98247 [1:26:02<106:49:05,  4.19s/it]"
     ]
    },
    {
     "name": "stdout",
     "output_type": "stream",
     "text": [
      "ledesma romo eduardo ,  ledesma romo laura elena\n"
     ]
    },
    {
     "name": "stderr",
     "output_type": "stream",
     "text": [
      "  7%|▋         | 6553/98247 [1:27:12<27:16:03,  1.07s/it] "
     ]
    },
    {
     "name": "stdout",
     "output_type": "stream",
     "text": [
      "flores rico carlos ,  flores escalera hilda esthela\n"
     ]
    },
    {
     "name": "stderr",
     "output_type": "stream",
     "text": [
      "  7%|▋         | 6865/98247 [1:30:32<12:48:54,  1.98it/s]"
     ]
    },
    {
     "name": "stdout",
     "output_type": "stream",
     "text": [
      "josefina de la cruz celeste vazquez garcia ,  vazquez mota josefina eugenia\n"
     ]
    },
    {
     "name": "stderr",
     "output_type": "stream",
     "text": [
      "  7%|▋         | 6947/98247 [1:31:45<74:48:39,  2.95s/it]"
     ]
    },
    {
     "name": "stdout",
     "output_type": "stream",
     "text": [
      "ledesma romo eduardo ,  ledesma romo laura elena\n"
     ]
    },
    {
     "name": "stderr",
     "output_type": "stream",
     "text": [
      "  7%|▋         | 7053/98247 [1:32:37<18:17:53,  1.38it/s]"
     ]
    },
    {
     "name": "stdout",
     "output_type": "stream",
     "text": [
      "flores rico carlos ,  flores escalera hilda esthela\n"
     ]
    },
    {
     "name": "stderr",
     "output_type": "stream",
     "text": [
      "  7%|▋         | 7365/98247 [1:35:29<11:45:03,  2.15it/s]"
     ]
    },
    {
     "name": "stdout",
     "output_type": "stream",
     "text": [
      "josefina de la cruz celeste vazquez garcia ,  vazquez mota josefina eugenia\n"
     ]
    },
    {
     "name": "stderr",
     "output_type": "stream",
     "text": [
      "  8%|▊         | 7447/98247 [1:36:46<69:57:24,  2.77s/it]"
     ]
    },
    {
     "name": "stdout",
     "output_type": "stream",
     "text": [
      "ledesma romo eduardo ,  ledesma romo laura elena\n"
     ]
    },
    {
     "name": "stderr",
     "output_type": "stream",
     "text": [
      "  8%|▊         | 7553/98247 [1:37:49<23:40:40,  1.06it/s]"
     ]
    },
    {
     "name": "stdout",
     "output_type": "stream",
     "text": [
      "flores rico carlos ,  flores escalera hilda esthela\n"
     ]
    },
    {
     "name": "stderr",
     "output_type": "stream",
     "text": [
      "  8%|▊         | 7865/98247 [1:40:57<9:42:43,  2.59it/s] "
     ]
    },
    {
     "name": "stdout",
     "output_type": "stream",
     "text": [
      "josefina de la cruz celeste vazquez garcia ,  vazquez mota josefina eugenia\n"
     ]
    },
    {
     "name": "stderr",
     "output_type": "stream",
     "text": [
      "  8%|▊         | 7947/98247 [1:42:17<80:32:21,  3.21s/it]"
     ]
    },
    {
     "name": "stdout",
     "output_type": "stream",
     "text": [
      "ledesma romo eduardo ,  ledesma romo laura elena\n"
     ]
    },
    {
     "name": "stderr",
     "output_type": "stream",
     "text": [
      "  8%|▊         | 8053/98247 [1:43:10<16:16:01,  1.54it/s]"
     ]
    },
    {
     "name": "stdout",
     "output_type": "stream",
     "text": [
      "flores rico carlos ,  flores escalera hilda esthela\n"
     ]
    },
    {
     "name": "stderr",
     "output_type": "stream",
     "text": [
      "  9%|▊         | 8365/98247 [1:45:43<16:07:39,  1.55it/s]"
     ]
    },
    {
     "name": "stdout",
     "output_type": "stream",
     "text": [
      "josefina de la cruz celeste vazquez garcia ,  vazquez mota josefina eugenia\n"
     ]
    },
    {
     "name": "stderr",
     "output_type": "stream",
     "text": [
      "  9%|▊         | 8447/98247 [1:46:55<62:55:35,  2.52s/it]"
     ]
    },
    {
     "name": "stdout",
     "output_type": "stream",
     "text": [
      "ledesma romo eduardo ,  ledesma romo laura elena\n"
     ]
    },
    {
     "name": "stderr",
     "output_type": "stream",
     "text": [
      "  9%|▊         | 8553/98247 [1:48:49<36:59:24,  1.48s/it]"
     ]
    },
    {
     "name": "stdout",
     "output_type": "stream",
     "text": [
      "flores rico carlos ,  flores escalera hilda esthela\n"
     ]
    },
    {
     "name": "stderr",
     "output_type": "stream",
     "text": [
      "  9%|▉         | 8865/98247 [1:52:39<11:05:45,  2.24it/s]"
     ]
    },
    {
     "name": "stdout",
     "output_type": "stream",
     "text": [
      "josefina de la cruz celeste vazquez garcia ,  vazquez mota josefina eugenia\n"
     ]
    },
    {
     "name": "stderr",
     "output_type": "stream",
     "text": [
      "  9%|▉         | 8947/98247 [1:54:06<89:55:20,  3.63s/it] "
     ]
    },
    {
     "name": "stdout",
     "output_type": "stream",
     "text": [
      "ledesma romo eduardo ,  ledesma romo laura elena\n"
     ]
    },
    {
     "name": "stderr",
     "output_type": "stream",
     "text": [
      "  9%|▉         | 9053/98247 [1:55:36<33:02:44,  1.33s/it]"
     ]
    },
    {
     "name": "stdout",
     "output_type": "stream",
     "text": [
      "flores rico carlos ,  flores escalera hilda esthela\n"
     ]
    },
    {
     "name": "stderr",
     "output_type": "stream",
     "text": [
      " 10%|▉         | 9365/98247 [1:59:21<16:58:48,  1.45it/s] "
     ]
    },
    {
     "name": "stdout",
     "output_type": "stream",
     "text": [
      "josefina de la cruz celeste vazquez garcia ,  vazquez mota josefina eugenia\n"
     ]
    },
    {
     "name": "stderr",
     "output_type": "stream",
     "text": [
      " 10%|▉         | 9447/98247 [2:00:46<46:52:12,  1.90s/it] "
     ]
    },
    {
     "name": "stdout",
     "output_type": "stream",
     "text": [
      "ledesma romo eduardo ,  ledesma romo laura elena\n"
     ]
    },
    {
     "name": "stderr",
     "output_type": "stream",
     "text": [
      " 10%|▉         | 9553/98247 [2:01:47<25:46:10,  1.05s/it]"
     ]
    },
    {
     "name": "stdout",
     "output_type": "stream",
     "text": [
      "flores rico carlos ,  flores escalera hilda esthela\n"
     ]
    },
    {
     "name": "stderr",
     "output_type": "stream",
     "text": [
      " 10%|█         | 9865/98247 [2:04:04<10:28:34,  2.34it/s]"
     ]
    },
    {
     "name": "stdout",
     "output_type": "stream",
     "text": [
      "josefina de la cruz celeste vazquez garcia ,  vazquez mota josefina eugenia\n"
     ]
    },
    {
     "name": "stderr",
     "output_type": "stream",
     "text": [
      " 10%|█         | 9947/98247 [2:05:11<49:45:05,  2.03s/it]"
     ]
    },
    {
     "name": "stdout",
     "output_type": "stream",
     "text": [
      "ledesma romo eduardo ,  ledesma romo laura elena\n"
     ]
    },
    {
     "name": "stderr",
     "output_type": "stream",
     "text": [
      " 10%|█         | 10053/98247 [2:05:58<16:00:14,  1.53it/s]"
     ]
    },
    {
     "name": "stdout",
     "output_type": "stream",
     "text": [
      "flores rico carlos ,  flores escalera hilda esthela\n"
     ]
    },
    {
     "name": "stderr",
     "output_type": "stream",
     "text": [
      " 11%|█         | 10365/98247 [2:07:56<8:35:48,  2.84it/s] "
     ]
    },
    {
     "name": "stdout",
     "output_type": "stream",
     "text": [
      "josefina de la cruz celeste vazquez garcia ,  vazquez mota josefina eugenia\n"
     ]
    },
    {
     "name": "stderr",
     "output_type": "stream",
     "text": [
      " 11%|█         | 10447/98247 [2:08:54<37:35:33,  1.54s/it]"
     ]
    },
    {
     "name": "stdout",
     "output_type": "stream",
     "text": [
      "ledesma romo eduardo ,  ledesma romo laura elena\n"
     ]
    },
    {
     "name": "stderr",
     "output_type": "stream",
     "text": [
      " 11%|█         | 10553/98247 [2:09:31<14:52:40,  1.64it/s]"
     ]
    },
    {
     "name": "stdout",
     "output_type": "stream",
     "text": [
      "flores rico carlos ,  flores escalera hilda esthela\n"
     ]
    },
    {
     "name": "stderr",
     "output_type": "stream",
     "text": [
      " 11%|█         | 10865/98247 [2:11:44<9:20:03,  2.60it/s] "
     ]
    },
    {
     "name": "stdout",
     "output_type": "stream",
     "text": [
      "josefina de la cruz celeste vazquez garcia ,  vazquez mota josefina eugenia\n"
     ]
    },
    {
     "name": "stderr",
     "output_type": "stream",
     "text": [
      " 11%|█         | 10947/98247 [2:12:23<29:18:54,  1.21s/it]"
     ]
    },
    {
     "name": "stdout",
     "output_type": "stream",
     "text": [
      "ledesma romo eduardo ,  ledesma romo laura elena\n"
     ]
    },
    {
     "name": "stderr",
     "output_type": "stream",
     "text": [
      " 11%|█▏        | 11053/98247 [2:13:14<19:25:41,  1.25it/s]"
     ]
    },
    {
     "name": "stdout",
     "output_type": "stream",
     "text": [
      "flores rico carlos ,  flores escalera hilda esthela\n"
     ]
    },
    {
     "name": "stderr",
     "output_type": "stream",
     "text": [
      " 12%|█▏        | 11365/98247 [2:15:29<9:18:52,  2.59it/s] "
     ]
    },
    {
     "name": "stdout",
     "output_type": "stream",
     "text": [
      "josefina de la cruz celeste vazquez garcia ,  vazquez mota josefina eugenia\n"
     ]
    },
    {
     "name": "stderr",
     "output_type": "stream",
     "text": [
      " 12%|█▏        | 11447/98247 [2:16:23<33:46:30,  1.40s/it]"
     ]
    },
    {
     "name": "stdout",
     "output_type": "stream",
     "text": [
      "ledesma romo eduardo ,  ledesma romo laura elena\n"
     ]
    },
    {
     "name": "stderr",
     "output_type": "stream",
     "text": [
      " 12%|█▏        | 11553/98247 [2:17:28<27:21:40,  1.14s/it]"
     ]
    },
    {
     "name": "stdout",
     "output_type": "stream",
     "text": [
      "flores rico carlos ,  flores escalera hilda esthela\n"
     ]
    },
    {
     "name": "stderr",
     "output_type": "stream",
     "text": [
      " 12%|█▏        | 11865/98247 [2:20:46<14:33:48,  1.65it/s]"
     ]
    },
    {
     "name": "stdout",
     "output_type": "stream",
     "text": [
      "josefina de la cruz celeste vazquez garcia ,  vazquez mota josefina eugenia\n"
     ]
    },
    {
     "name": "stderr",
     "output_type": "stream",
     "text": [
      " 12%|█▏        | 11947/98247 [2:21:58<50:29:30,  2.11s/it]"
     ]
    },
    {
     "name": "stdout",
     "output_type": "stream",
     "text": [
      "ledesma romo eduardo ,  ledesma romo laura elena\n"
     ]
    },
    {
     "name": "stderr",
     "output_type": "stream",
     "text": [
      " 12%|█▏        | 12053/98247 [2:23:11<19:47:25,  1.21it/s]"
     ]
    },
    {
     "name": "stdout",
     "output_type": "stream",
     "text": [
      "flores rico carlos ,  flores escalera hilda esthela\n"
     ]
    },
    {
     "name": "stderr",
     "output_type": "stream",
     "text": [
      " 13%|█▎        | 12365/98247 [2:26:40<13:05:29,  1.82it/s]"
     ]
    },
    {
     "name": "stdout",
     "output_type": "stream",
     "text": [
      "josefina de la cruz celeste vazquez garcia ,  vazquez mota josefina eugenia\n"
     ]
    },
    {
     "name": "stderr",
     "output_type": "stream",
     "text": [
      " 13%|█▎        | 12447/98247 [2:27:56<62:48:56,  2.64s/it]"
     ]
    },
    {
     "name": "stdout",
     "output_type": "stream",
     "text": [
      "ledesma romo eduardo ,  ledesma romo laura elena\n"
     ]
    },
    {
     "name": "stderr",
     "output_type": "stream",
     "text": [
      " 13%|█▎        | 12553/98247 [2:28:59<18:43:01,  1.27it/s]"
     ]
    },
    {
     "name": "stdout",
     "output_type": "stream",
     "text": [
      "flores rico carlos ,  flores escalera hilda esthela\n"
     ]
    },
    {
     "name": "stderr",
     "output_type": "stream",
     "text": [
      " 13%|█▎        | 12865/98247 [2:31:48<10:32:13,  2.25it/s]"
     ]
    },
    {
     "name": "stdout",
     "output_type": "stream",
     "text": [
      "josefina de la cruz celeste vazquez garcia ,  vazquez mota josefina eugenia\n"
     ]
    },
    {
     "name": "stderr",
     "output_type": "stream",
     "text": [
      " 13%|█▎        | 12947/98247 [2:32:53<48:34:32,  2.05s/it]"
     ]
    },
    {
     "name": "stdout",
     "output_type": "stream",
     "text": [
      "ledesma romo eduardo ,  ledesma romo laura elena\n"
     ]
    },
    {
     "name": "stderr",
     "output_type": "stream",
     "text": [
      " 13%|█▎        | 13053/98247 [2:33:59<18:26:30,  1.28it/s]"
     ]
    },
    {
     "name": "stdout",
     "output_type": "stream",
     "text": [
      "flores rico carlos ,  flores escalera hilda esthela\n"
     ]
    },
    {
     "name": "stderr",
     "output_type": "stream",
     "text": [
      " 14%|█▎        | 13365/98247 [2:36:52<9:36:05,  2.46it/s] "
     ]
    },
    {
     "name": "stdout",
     "output_type": "stream",
     "text": [
      "josefina de la cruz celeste vazquez garcia ,  vazquez mota josefina eugenia\n"
     ]
    },
    {
     "name": "stderr",
     "output_type": "stream",
     "text": [
      " 14%|█▎        | 13447/98247 [2:38:10<55:24:17,  2.35s/it]"
     ]
    },
    {
     "name": "stdout",
     "output_type": "stream",
     "text": [
      "ledesma romo eduardo ,  ledesma romo laura elena\n"
     ]
    },
    {
     "name": "stderr",
     "output_type": "stream",
     "text": [
      " 14%|█▍        | 13553/98247 [2:39:17<18:54:32,  1.24it/s]"
     ]
    },
    {
     "name": "stdout",
     "output_type": "stream",
     "text": [
      "flores rico carlos ,  flores escalera hilda esthela\n"
     ]
    },
    {
     "name": "stderr",
     "output_type": "stream",
     "text": [
      " 14%|█▍        | 13865/98247 [2:42:22<12:26:03,  1.89it/s]"
     ]
    },
    {
     "name": "stdout",
     "output_type": "stream",
     "text": [
      "josefina de la cruz celeste vazquez garcia ,  vazquez mota josefina eugenia\n"
     ]
    },
    {
     "name": "stderr",
     "output_type": "stream",
     "text": [
      " 14%|█▍        | 13947/98247 [2:43:51<59:52:05,  2.56s/it] "
     ]
    },
    {
     "name": "stdout",
     "output_type": "stream",
     "text": [
      "ledesma romo eduardo ,  ledesma romo laura elena\n"
     ]
    },
    {
     "name": "stderr",
     "output_type": "stream",
     "text": [
      " 14%|█▍        | 14053/98247 [2:44:55<22:09:42,  1.06it/s]"
     ]
    },
    {
     "name": "stdout",
     "output_type": "stream",
     "text": [
      "flores rico carlos ,  flores escalera hilda esthela\n"
     ]
    },
    {
     "name": "stderr",
     "output_type": "stream",
     "text": [
      " 15%|█▍        | 14365/98247 [2:47:52<12:09:32,  1.92it/s]"
     ]
    },
    {
     "name": "stdout",
     "output_type": "stream",
     "text": [
      "josefina de la cruz celeste vazquez garcia ,  vazquez mota josefina eugenia\n"
     ]
    },
    {
     "name": "stderr",
     "output_type": "stream",
     "text": [
      " 15%|█▍        | 14447/98247 [2:49:03<55:58:16,  2.40s/it]"
     ]
    },
    {
     "name": "stdout",
     "output_type": "stream",
     "text": [
      "ledesma romo eduardo ,  ledesma romo laura elena\n"
     ]
    },
    {
     "name": "stderr",
     "output_type": "stream",
     "text": [
      " 15%|█▍        | 14553/98247 [2:50:53<44:20:58,  1.91s/it] "
     ]
    },
    {
     "name": "stdout",
     "output_type": "stream",
     "text": [
      "flores rico carlos ,  flores escalera hilda esthela\n"
     ]
    },
    {
     "name": "stderr",
     "output_type": "stream",
     "text": [
      " 15%|█▌        | 14770/98247 [2:54:00<19:44:52,  1.17it/s] "
     ]
    }
   ],
   "source": [
    "missing_names = []\n",
    "\n",
    "for i in tqdm(dict_att64):\n",
    "    name = unidecode.unidecode(i['member'].lower())\n",
    "    try:\n",
    "        i['id'] = mapping64[name]\n",
    "    except:\n",
    "        try:\n",
    "            name_matched, ratio = process.extractOne(name, list(mapping64.keys()))\n",
    "            if ratio < 90:\n",
    "                print(name_matched, ', ', name)\n",
    "                i['id'] = ''\n",
    "            else:\n",
    "                i['id'] = mapping64[name_matched]\n",
    "                \n",
    "                \n",
    "        except:\n",
    "            if name not in missing_names:\n",
    "                missing_names.append(name)\n",
    "                i['id'] = ''\n",
    "            else:\n",
    "                continue"
   ]
  },
  {
   "cell_type": "code",
   "execution_count": 64,
   "metadata": {},
   "outputs": [],
   "source": [
    "with open('/Users/cblanesg/cam.blanes Dropbox/Camila Blanes/Congressional-dataMX/data/04-floor_attendance/floor_attend_dip64.json', 'w') as d:\n",
    "    json.dump(dict_att64, d)"
   ]
  },
  {
   "cell_type": "code",
   "execution_count": null,
   "metadata": {},
   "outputs": [],
   "source": []
  }
 ],
 "metadata": {
  "kernelspec": {
   "display_name": "Python 3",
   "language": "python",
   "name": "python3"
  },
  "language_info": {
   "codemirror_mode": {
    "name": "ipython",
    "version": 3
   },
   "file_extension": ".py",
   "mimetype": "text/x-python",
   "name": "python",
   "nbconvert_exporter": "python",
   "pygments_lexer": "ipython3",
   "version": "3.8.3"
  }
 },
 "nbformat": 4,
 "nbformat_minor": 4
}
