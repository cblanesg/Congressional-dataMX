{
 "cells": [
  {
   "cell_type": "code",
   "execution_count": 17,
   "metadata": {},
   "outputs": [],
   "source": [
    "import unidecode\n",
    "import re\n",
    "import pandas as pd\n",
    "import datetime\n",
    "from datetime import date\n",
    "import json"
   ]
  },
  {
   "cell_type": "code",
   "execution_count": 6,
   "metadata": {},
   "outputs": [],
   "source": [
    "import requests\n",
    "from bs4 import BeautifulSoup"
   ]
  },
  {
   "cell_type": "code",
   "execution_count": 7,
   "metadata": {},
   "outputs": [],
   "source": [
    "with open('/Users/cblanesg/cam.blanes Dropbox/Camila Blanes/Congressional-dataMX/data/00-id_data/00-id/id_legislatura62.json') as d:\n",
    "    data = json.load(d)"
   ]
  },
  {
   "cell_type": "code",
   "execution_count": 10,
   "metadata": {},
   "outputs": [],
   "source": [
    "link_curricula = data[0]['link_curricula']"
   ]
  },
  {
   "cell_type": "code",
   "execution_count": 11,
   "metadata": {},
   "outputs": [],
   "source": [
    "r = requests.get(link_curricula)\n",
    "soup = BeautifulSoup(r.content, 'html.parser')"
   ]
  },
  {
   "cell_type": "code",
   "execution_count": 14,
   "metadata": {},
   "outputs": [
    {
     "data": {
      "text/plain": [
       "'http://sitllxii.diputados.gob.mx/curricula.php?dipt=430'"
      ]
     },
     "execution_count": 14,
     "metadata": {},
     "output_type": "execute_result"
    }
   ],
   "source": [
    "link_curricula"
   ]
  },
  {
   "cell_type": "code",
   "execution_count": 19,
   "metadata": {},
   "outputs": [],
   "source": [
    "def get_link_to_periodos(link_curricula):\n",
    "    r = requests.get(link_curricula)\n",
    "    soup = BeautifulSoup(r.content, 'html.parser')\n",
    "    for i in soup.findAll('a'):\n",
    "        link = 'http://sitllxii.diputados.gob.mx/' + i.get('href')\n",
    "        if any(re.findall('asistencias', link)):\n",
    "            return(link)\n",
    "        else:\n",
    "            continue"
   ]
  },
  {
   "cell_type": "code",
   "execution_count": 20,
   "metadata": {},
   "outputs": [
    {
     "data": {
      "text/plain": [
       "'http://sitllxii.diputados.gob.mx/asistencias_diputados_xperiodonplxii.php?dipt=430'"
      ]
     },
     "execution_count": 20,
     "metadata": {},
     "output_type": "execute_result"
    }
   ],
   "source": [
    "get_link_to_periodos(link_curricula)"
   ]
  },
  {
   "cell_type": "code",
   "execution_count": 21,
   "metadata": {},
   "outputs": [],
   "source": [
    "r = requests.get(get_link_to_periodos(link_curricula))\n",
    "soup = BeautifulSoup(r.content, 'html.parser')"
   ]
  },
  {
   "cell_type": "code",
   "execution_count": 25,
   "metadata": {},
   "outputs": [],
   "source": [
    "def get_links_periodos(link_curricula):\n",
    "    r = requests.get(get_link_to_periodos(link_curricula))\n",
    "    soup = BeautifulSoup(r.content, 'html.parser')\n",
    "    links_periodos = []\n",
    "    for i in soup.findAll('a'):\n",
    "        link = 'http://sitllxii.diputados.gob.mx/' + i.get('href')\n",
    "        if any(re.findall('asistencias', link)):\n",
    "            links_periodos.append(link)\n",
    "        else:\n",
    "            continue\n",
    "    return(links_periodos)"
   ]
  },
  {
   "cell_type": "code",
   "execution_count": 27,
   "metadata": {},
   "outputs": [],
   "source": [
    "links_periodos = get_links_periodos(link_curricula)"
   ]
  },
  {
   "cell_type": "code",
   "execution_count": 28,
   "metadata": {},
   "outputs": [
    {
     "data": {
      "text/plain": [
       "['http://sitllxii.diputados.gob.mx/asistencias_por_pernplxii.php?iddipt=430&pert=1',\n",
       " 'http://sitllxii.diputados.gob.mx/asistencias_por_pernplxii.php?iddipt=430&pert=3',\n",
       " 'http://sitllxii.diputados.gob.mx/asistencias_por_pernplxii.php?iddipt=430&pert=13',\n",
       " 'http://sitllxii.diputados.gob.mx/asistencias_por_pernplxii.php?iddipt=430&pert=5',\n",
       " 'http://sitllxii.diputados.gob.mx/asistencias_por_pernplxii.php?iddipt=430&pert=7',\n",
       " 'http://sitllxii.diputados.gob.mx/asistencias_por_pernplxii.php?iddipt=430&pert=15',\n",
       " 'http://sitllxii.diputados.gob.mx/asistencias_por_pernplxii.php?iddipt=430&pert=16',\n",
       " 'http://sitllxii.diputados.gob.mx/asistencias_por_pernplxii.php?iddipt=430&pert=17',\n",
       " 'http://sitllxii.diputados.gob.mx/asistencias_por_pernplxii.php?iddipt=430&pert=18',\n",
       " 'http://sitllxii.diputados.gob.mx/asistencias_por_pernplxii.php?iddipt=430&pert=9',\n",
       " 'http://sitllxii.diputados.gob.mx/asistencias_por_pernplxii.php?iddipt=430&pert=11']"
      ]
     },
     "execution_count": 28,
     "metadata": {},
     "output_type": "execute_result"
    }
   ],
   "source": [
    "links_periodos"
   ]
  },
  {
   "cell_type": "code",
   "execution_count": 29,
   "metadata": {},
   "outputs": [],
   "source": [
    "r = requests.get(links_periodos[0])\n",
    "soup = BeautifulSoup(r.content, 'html.parser')"
   ]
  },
  {
   "cell_type": "code",
   "execution_count": 61,
   "metadata": {},
   "outputs": [
    {
     "data": {
      "text/plain": [
       "37"
      ]
     },
     "execution_count": 61,
     "metadata": {},
     "output_type": "execute_result"
    }
   ],
   "source": [
    "len(soup.findAll('table')[0].findAll('table')[4].findAll('tr'))"
   ]
  },
  {
   "cell_type": "code",
   "execution_count": 66,
   "metadata": {},
   "outputs": [
    {
     "data": {
      "text/plain": [
       "36"
      ]
     },
     "execution_count": 66,
     "metadata": {},
     "output_type": "execute_result"
    }
   ],
   "source": [
    "soup.findAll('table')[0].findAll('table')[4].findAll('tr')[0].findAll('tr')"
   ]
  },
  {
   "cell_type": "code",
   "execution_count": 127,
   "metadata": {},
   "outputs": [
    {
     "name": "stderr",
     "output_type": "stream",
     "text": [
      "[WDM] - Current google-chrome version is 85.0.4183\n",
      "[WDM] - Get LATEST driver version for 85.0.4183\n",
      "[WDM] - Driver [/Users/cblanesg/.wdm/drivers/chromedriver/mac64/85.0.4183.87/chromedriver] found in cache\n"
     ]
    },
    {
     "name": "stdout",
     "output_type": "stream",
     "text": [
      " \n"
     ]
    }
   ],
   "source": [
    "from webdriver_manager.chrome import ChromeDriverManager\n",
    "from selenium.webdriver import Chrome\n",
    "from selenium import webdriver\n",
    "import re\n",
    "import time\n",
    "import pandas as pd\n",
    "import datetime\n",
    "import uuid\n",
    "from tqdm import tqdm\n",
    "from datetime import date\n",
    "from selenium.webdriver.chrome.options import Options\n",
    "\n",
    "options = Options()\n",
    "options.add_argument('--headless')\n",
    "driver = webdriver.Chrome(ChromeDriverManager().install())"
   ]
  },
  {
   "cell_type": "code",
   "execution_count": 68,
   "metadata": {},
   "outputs": [],
   "source": [
    "driver.get(links_periodos[0])"
   ]
  },
  {
   "cell_type": "code",
   "execution_count": 72,
   "metadata": {},
   "outputs": [],
   "source": [
    "table = driver.find_element_by_css_selector('body > table > tbody > tr:nth-child(4) > td > table > tbody > tr:nth-child(2) > td > table:nth-child(2) > tbody')"
   ]
  },
  {
   "cell_type": "code",
   "execution_count": 79,
   "metadata": {},
   "outputs": [],
   "source": [
    "calendar_tables = table.find_elements_by_css_selector('table')[:-1]"
   ]
  },
  {
   "cell_type": "code",
   "execution_count": 80,
   "metadata": {},
   "outputs": [
    {
     "data": {
      "text/plain": [
       "<selenium.webdriver.remote.webelement.WebElement (session=\"168a0e4cb7474f05b0628a7690f99e45\", element=\"c9dd0775-bce6-4e0a-b607-d25142e42e7f\")>"
      ]
     },
     "execution_count": 80,
     "metadata": {},
     "output_type": "execute_result"
    }
   ],
   "source": [
    "calendar_tables[0]."
   ]
  },
  {
   "cell_type": "code",
   "execution_count": 97,
   "metadata": {},
   "outputs": [],
   "source": [
    "def get_month_table(inner_table):\n",
    "    text_month = inner_table.find_element_by_class_name('TitulosVerde').text.lower()\n",
    "    mes = month_to_number(re.findall('[a-z]+', text_month)[0])\n",
    "    año = int(re.findall('[0-9]+', text_month)[0])\n",
    "    return(mes, año)"
   ]
  },
  {
   "cell_type": "code",
   "execution_count": 113,
   "metadata": {},
   "outputs": [
    {
     "data": {
      "text/plain": [
       "'1\\nA'"
      ]
     },
     "execution_count": 113,
     "metadata": {},
     "output_type": "execute_result"
    }
   ],
   "source": [
    "calendar_tables[0].find_elements_by_css_selector('td')[6].text"
   ]
  },
  {
   "cell_type": "code",
   "execution_count": 117,
   "metadata": {},
   "outputs": [
    {
     "data": {
      "text/plain": [
       "{'legislatura': 62,\n",
       " 'id_legislador': '111264d0-fe1c-11ea-95ca-acde48001122',\n",
       " 'nombre_completo': 'Aceves y del Olmo Carlos Humberto',\n",
       " 'tipo_legislador': 'Representacion proporcional',\n",
       " 'entidad': 'Ciudad de Mexico',\n",
       " 'distrito': '4',\n",
       " 'curul': 'H-264',\n",
       " 'suplente_propietario': 'P',\n",
       " 'name_suplente': 'Juan Carlos Flores Flores',\n",
       " 'partido': 'pri',\n",
       " 'link_curricula': 'http://sitllxii.diputados.gob.mx/curricula.php?dipt=430'}"
      ]
     },
     "execution_count": 117,
     "metadata": {},
     "output_type": "execute_result"
    }
   ],
   "source": [
    "data[0]"
   ]
  },
  {
   "cell_type": "code",
   "execution_count": 128,
   "metadata": {},
   "outputs": [],
   "source": [
    "\n",
    "def get_asistencias_member(dict_member):\n",
    "    list_dict = []\n",
    "    \n",
    "    links_periodos = get_links_periodos(dict_member['link_curricula'])\n",
    "    for link in links_periodos:\n",
    "        driver.get(link)\n",
    "        table = driver.find_element_by_css_selector('body > table > tbody > tr:nth-child(4) > td > table > tbody > tr:nth-child(2) > td > table:nth-child(2) > tbody')\n",
    "        calendar_tables = table.find_elements_by_css_selector('table')[:-1]\n",
    "    \n",
    "    \n",
    "        for cal in calendar_tables:\n",
    "            mes, año = get_month_table(cal)\n",
    "            for i in cal.find_elements_by_css_selector('td'):\n",
    "                text_cuadro = i.text\n",
    "                if any(re.findall('\\n', text_cuadro)):\n",
    "                    day, tipo_asistencia = text_cuadro.split('\\n')\n",
    "                    temp = {}\n",
    "                    temp['legislatura'] = 62\n",
    "                    temp['year_session'] = año\n",
    "                    temp['month_session'] = mes\n",
    "                    temp['day_session'] = int(day)\n",
    "                    temp['member'] = dict_member['nombre_completo']\n",
    "                    temp['party'] = dict_member['partido']\n",
    "                    temp['type_attendance'] = tipo_asistencia\n",
    "                    temp['id'] = dict_member['id_legislador']\n",
    "                    list_dict.append(temp)\n",
    "                else:\n",
    "                    continue\n",
    "    return(list_dict)"
   ]
  },
  {
   "cell_type": "code",
   "execution_count": 124,
   "metadata": {},
   "outputs": [],
   "source": [
    "from tqdm import tqdm"
   ]
  },
  {
   "cell_type": "code",
   "execution_count": 126,
   "metadata": {},
   "outputs": [],
   "source": [
    "data_prop = []\n",
    "for i in data:\n",
    "    if i['suplente_propietario'] == 'P':\n",
    "        data_prop.append(i)\n",
    "    else:\n",
    "        continue"
   ]
  },
  {
   "cell_type": "code",
   "execution_count": null,
   "metadata": {},
   "outputs": [],
   "source": []
  },
  {
   "cell_type": "code",
   "execution_count": 129,
   "metadata": {},
   "outputs": [
    {
     "name": "stderr",
     "output_type": "stream",
     "text": [
      "100%|██████████| 500/500 [2:59:27<00:00, 21.53s/it]  \n"
     ]
    }
   ],
   "source": [
    "all_asistencias = []\n",
    "for i in tqdm(data_prop):\n",
    "    list_asistencias = get_asistencias_member(i)\n",
    "    for j in list_asistencias:\n",
    "        all_asistencias.append(j)"
   ]
  },
  {
   "cell_type": "code",
   "execution_count": 130,
   "metadata": {},
   "outputs": [
    {
     "data": {
      "text/plain": [
       "{'legislatura': 62,\n",
       " 'year_session': 2012,\n",
       " 'month_session': 9,\n",
       " 'day_session': 1,\n",
       " 'member': 'Aceves y del Olmo Carlos Humberto',\n",
       " 'party': 'pri',\n",
       " 'type_attendance': 'A',\n",
       " 'id': '111264d0-fe1c-11ea-95ca-acde48001122'}"
      ]
     },
     "execution_count": 130,
     "metadata": {},
     "output_type": "execute_result"
    }
   ],
   "source": [
    "with open('/Users/cblanesg/cam.blanes Dropbox/Camila Blanes/Congressional-dataMX/data/04-floor_attendance/02-id_members/floor_attend_dip62.json', 'w') as d:\n",
    "    json.du"
   ]
  },
  {
   "cell_type": "code",
   "execution_count": null,
   "metadata": {},
   "outputs": [],
   "source": []
  },
  {
   "cell_type": "code",
   "execution_count": null,
   "metadata": {},
   "outputs": [],
   "source": [
    "if any(re.findall('\\n', text_cuadro)):\n",
    "    day, tipo_asistencia = text_cuadro.split('\\n')\n",
    "    print()"
   ]
  },
  {
   "cell_type": "code",
   "execution_count": 112,
   "metadata": {},
   "outputs": [
    {
     "name": "stdout",
     "output_type": "stream",
     "text": [
      "1 :  A\n",
      "4 :  A\n",
      "6 :  A\n",
      "11 :  A\n",
      "13 :  A\n",
      "18 :  A\n",
      "20 :  A\n",
      "25 :  A\n",
      "27 :  PM\n",
      "28 :  PM/A\n"
     ]
    }
   ],
   "source": [
    "for i in calendar_tables[0].find_elements_by_css_selector('td'):\n",
    "    text_cuadro = i.text\n",
    "    if any(re.findall('\\n', text_cuadro)):\n",
    "        day, tipo_asistencia = text_cuadro.split('\\n')\n",
    "        print(day, ': ', tipo_asistencia)\n",
    "    else:\n",
    "        continue"
   ]
  },
  {
   "cell_type": "code",
   "execution_count": null,
   "metadata": {},
   "outputs": [],
   "source": []
  },
  {
   "cell_type": "code",
   "execution_count": null,
   "metadata": {},
   "outputs": [],
   "source": []
  },
  {
   "cell_type": "code",
   "execution_count": null,
   "metadata": {},
   "outputs": [],
   "source": []
  },
  {
   "cell_type": "code",
   "execution_count": 87,
   "metadata": {},
   "outputs": [
    {
     "data": {
      "text/plain": [
       "'septiembre'"
      ]
     },
     "execution_count": 87,
     "metadata": {},
     "output_type": "execute_result"
    }
   ],
   "source": [
    "re.findall('[a-z]+', text_month)[0]"
   ]
  },
  {
   "cell_type": "code",
   "execution_count": 85,
   "metadata": {},
   "outputs": [],
   "source": [
    "    text_month = calendar_tables[0].find_element_by_class_name('TitulosVerde').text.lower()"
   ]
  },
  {
   "cell_type": "code",
   "execution_count": 116,
   "metadata": {},
   "outputs": [],
   "source": [
    "def month_to_number(m):\n",
    "    if m == 'enero':\n",
    "        return(1)\n",
    "    elif m == 'febrero':\n",
    "        return(2)\n",
    "    elif m == 'marzo':\n",
    "        return(3)\n",
    "    elif m == 'abril':\n",
    "        return(4)\n",
    "    elif m == 'mayo':\n",
    "        return(5)\n",
    "    elif m == 'junio':\n",
    "        return(6)\n",
    "    elif m == 'julio':\n",
    "        return(7)\n",
    "    elif m == 'agosto':\n",
    "        return(8)\n",
    "    elif m == 'septiembre':\n",
    "        return(9)\n",
    "    elif m == 'octubre':\n",
    "        return(10)\n",
    "    elif m == 'noviembre':\n",
    "        return(11)\n",
    "    elif m == 'diciembre':\n",
    "        return(12)"
   ]
  },
  {
   "cell_type": "code",
   "execution_count": null,
   "metadata": {},
   "outputs": [],
   "source": []
  },
  {
   "cell_type": "code",
   "execution_count": null,
   "metadata": {},
   "outputs": [],
   "source": []
  },
  {
   "cell_type": "code",
   "execution_count": 24,
   "metadata": {},
   "outputs": [
    {
     "data": {
      "text/plain": [
       "['http://sitllxii.diputados.gob.mx/asistencias_por_pernplxii.php?iddipt=430&pert=1',\n",
       " 'http://sitllxii.diputados.gob.mx/asistencias_por_pernplxii.php?iddipt=430&pert=3',\n",
       " 'http://sitllxii.diputados.gob.mx/asistencias_por_pernplxii.php?iddipt=430&pert=13',\n",
       " 'http://sitllxii.diputados.gob.mx/asistencias_por_pernplxii.php?iddipt=430&pert=5',\n",
       " 'http://sitllxii.diputados.gob.mx/asistencias_por_pernplxii.php?iddipt=430&pert=7',\n",
       " 'http://sitllxii.diputados.gob.mx/asistencias_por_pernplxii.php?iddipt=430&pert=15',\n",
       " 'http://sitllxii.diputados.gob.mx/asistencias_por_pernplxii.php?iddipt=430&pert=16',\n",
       " 'http://sitllxii.diputados.gob.mx/asistencias_por_pernplxii.php?iddipt=430&pert=17',\n",
       " 'http://sitllxii.diputados.gob.mx/asistencias_por_pernplxii.php?iddipt=430&pert=18',\n",
       " 'http://sitllxii.diputados.gob.mx/asistencias_por_pernplxii.php?iddipt=430&pert=9',\n",
       " 'http://sitllxii.diputados.gob.mx/asistencias_por_pernplxii.php?iddipt=430&pert=11']"
      ]
     },
     "execution_count": 24,
     "metadata": {},
     "output_type": "execute_result"
    }
   ],
   "source": [
    "links_periodos"
   ]
  },
  {
   "cell_type": "code",
   "execution_count": null,
   "metadata": {},
   "outputs": [],
   "source": []
  },
  {
   "cell_type": "code",
   "execution_count": null,
   "metadata": {},
   "outputs": [],
   "source": [
    "links_periodos = []"
   ]
  },
  {
   "cell_type": "code",
   "execution_count": null,
   "metadata": {},
   "outputs": [],
   "source": []
  },
  {
   "cell_type": "code",
   "execution_count": null,
   "metadata": {},
   "outputs": [],
   "source": [
    "http://sitllxii.diputados.gob.mx/asistencias_diputados_xperiodonplxii.php?dipt=430"
   ]
  },
  {
   "cell_type": "code",
   "execution_count": null,
   "metadata": {},
   "outputs": [],
   "source": []
  },
  {
   "cell_type": "code",
   "execution_count": 4,
   "metadata": {},
   "outputs": [],
   "source": [
    "link_members = 'http://sitllxii.diputados.gob.mx/listado_diputados_gpnp.php?tipot=TOTAL'"
   ]
  },
  {
   "cell_type": "code",
   "execution_count": 5,
   "metadata": {},
   "outputs": [],
   "source": [
    "r = requests.get(link_members)\n",
    "soup = BeautifulSoup(r.content, 'html.parser')"
   ]
  },
  {
   "cell_type": "code",
   "execution_count": null,
   "metadata": {},
   "outputs": [],
   "source": [
    "soup = BeautifulSoup(r.content, 'html.parser')\n",
    "divs_content = soup.findAll(\"article\", {\"class\": \"nota\"})"
   ]
  }
 ],
 "metadata": {
  "kernelspec": {
   "display_name": "Python 3",
   "language": "python",
   "name": "python3"
  },
  "language_info": {
   "codemirror_mode": {
    "name": "ipython",
    "version": 3
   },
   "file_extension": ".py",
   "mimetype": "text/x-python",
   "name": "python",
   "nbconvert_exporter": "python",
   "pygments_lexer": "ipython3",
   "version": "3.8.3"
  }
 },
 "nbformat": 4,
 "nbformat_minor": 4
}
