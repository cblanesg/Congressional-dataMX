{
 "cells": [
  {
   "cell_type": "code",
   "execution_count": 1,
   "metadata": {},
   "outputs": [],
   "source": [
    "from webdriver_manager.chrome import ChromeDriverManager\n",
    "from selenium.webdriver import Chrome\n",
    "from selenium import webdriver\n",
    "import re\n",
    "import time\n",
    "import pandas as pd\n",
    "import datetime\n",
    "import uuid\n",
    "from tqdm import tqdm\n",
    "from datetime import date\n",
    "from selenium.webdriver.chrome.options import Options"
   ]
  },
  {
   "cell_type": "code",
   "execution_count": 2,
   "metadata": {},
   "outputs": [],
   "source": [
    "main_url = 'http://cronica.diputados.gob.mx:8080/exist/siid2/siid2.xql?legis=LXII#'"
   ]
  },
  {
   "cell_type": "code",
   "execution_count": 3,
   "metadata": {
    "scrolled": false
   },
   "outputs": [
    {
     "name": "stderr",
     "output_type": "stream",
     "text": [
      "[WDM] - Current google-chrome version is 85.0.4183\n",
      "[WDM] - Get LATEST driver version for 85.0.4183\n",
      "[WDM] - Driver [/Users/cblanesg/.wdm/drivers/chromedriver/mac64/85.0.4183.87/chromedriver] found in cache\n"
     ]
    },
    {
     "name": "stdout",
     "output_type": "stream",
     "text": [
      " \n"
     ]
    }
   ],
   "source": [
    "options = Options()\n",
    "options.add_argument('--headless')\n",
    "driver = webdriver.Chrome(ChromeDriverManager().install(), options = options)"
   ]
  },
  {
   "cell_type": "code",
   "execution_count": 4,
   "metadata": {},
   "outputs": [],
   "source": [
    "driver.get(main_url)"
   ]
  },
  {
   "cell_type": "code",
   "execution_count": 5,
   "metadata": {},
   "outputs": [],
   "source": [
    "import math\n",
    "def load_all_pages(driver, partido):\n",
    "    time.sleep(3)\n",
    "    if any(re.findall('No hay intervenciones',driver.find_element_by_id('navega').text)):\n",
    "        print('no intervenciones')\n",
    "    else:\n",
    "        try:            \n",
    "            number_of_intervenciones = max(re.findall('[0-9]+', driver.find_element_by_id('navega').text))\n",
    "            number_of_intervenciones = max(re.findall('[0-9]+', driver.find_element_by_id('navega').text))\n",
    "            while not any(number_of_intervenciones):\n",
    "                time.sleep(1)\n",
    "                number_of_intervenciones = max(re.findall('[0-9]+', driver.find_element_by_id('navega').text))\n",
    "            else:\n",
    "                number_of_intervenciones = max(re.findall('[0-9]+', driver.find_element_by_id('navega').text))\n",
    "\n",
    "            number_of_loops = math.ceil(int(number_of_intervenciones)/20)\n",
    "\n",
    "            if number_of_loops == 1:\n",
    "                entries_found = len(driver.find_elements_by_class_name('NoI'))\n",
    "                elements_to_scrape = max(re.findall('[0-9]+', driver.find_element_by_id('navega').text.split(',')[0]))\n",
    "\n",
    "                while entries_found < int(elements_to_scrape):\n",
    "                    time.sleep(1)\n",
    "                    entries_found = len(driver.find_elements_by_class_name('NoI'))\n",
    "                else:\n",
    "                    return(obtain_metadata(driver, partido))\n",
    "            else:\n",
    "                all_data = []\n",
    "                entries_found = len(driver.find_elements_by_class_name('NoI'))\n",
    "                elements_to_scrape = max(re.findall('[0-9]+', driver.find_element_by_id('navega').text.split(',')[0]))\n",
    "\n",
    "                while entries_found < int(elements_to_scrape):\n",
    "                    time.sleep(1)\n",
    "                    entries_found = len(driver.find_elements_by_class_name('NoI'))\n",
    "\n",
    "                else:\n",
    "                    all_data.append(obtain_metadata(driver, partido))\n",
    "                    r = 20\n",
    "                    for i in range(1,number_of_loops):\n",
    "                        time.sleep(3)\n",
    "                        driver.find_element_by_id('next').click()\n",
    "                        elements_to_scrape = max(re.findall('[0-9]+', driver.find_element_by_id('navega').text.split(',')[0]))\n",
    "\n",
    "                        e = int(elements_to_scrape) - r\n",
    "                        entries_found = len(driver.find_elements_by_class_name('NoI'))\n",
    "                        while entries_found < e:\n",
    "                            time.sleep(1)\n",
    "                            entries_found = len(driver.find_elements_by_class_name('NoI'))\n",
    "                        else:\n",
    "                            all_data.append(obtain_metadata(driver, partido))\n",
    "                        r += 20\n",
    "                    return(pd.concat(all_data))\n",
    "        except:\n",
    "            time.sleep(3)\n",
    "            number_of_intervenciones = max(re.findall('[0-9]+', driver.find_element_by_id('navega').text))\n",
    "            while not any(number_of_intervenciones):\n",
    "                time.sleep(1)\n",
    "                number_of_intervenciones = max(re.findall('[0-9]+', driver.find_element_by_id('navega').text))\n",
    "            else:\n",
    "                number_of_intervenciones = max(re.findall('[0-9]+', driver.find_element_by_id('navega').text))\n",
    "\n",
    "            number_of_loops = math.ceil(int(number_of_intervenciones)/20)\n",
    "\n",
    "            if number_of_loops == 1:\n",
    "                entries_found = len(driver.find_elements_by_class_name('NoI'))\n",
    "                elements_to_scrape = max(re.findall('[0-9]+', driver.find_element_by_id('navega').text.split(',')[0]))\n",
    "\n",
    "                while entries_found < int(elements_to_scrape):\n",
    "                    time.sleep(1)\n",
    "                    entries_found = len(driver.find_elements_by_class_name('NoI'))\n",
    "                else:\n",
    "                    return(obtain_metadata(driver, partido))\n",
    "            else:\n",
    "                all_data = []\n",
    "                entries_found = len(driver.find_elements_by_class_name('NoI'))\n",
    "                elements_to_scrape = max(re.findall('[0-9]+', driver.find_element_by_id('navega').text.split(',')[0]))\n",
    "\n",
    "                while entries_found < int(elements_to_scrape):\n",
    "                    time.sleep(1)\n",
    "                    entries_found = len(driver.find_elements_by_class_name('NoI'))\n",
    "\n",
    "                else:\n",
    "                    all_data.append(obtain_metadata(driver, partido))\n",
    "                    r = 20\n",
    "                    for i in range(1,number_of_loops):\n",
    "                        time.sleep(3)\n",
    "                        driver.find_element_by_id('next').click()\n",
    "                        elements_to_scrape = max(re.findall('[0-9]+', driver.find_element_by_id('navega').text.split(',')[0]))\n",
    "\n",
    "                        e = int(elements_to_scrape) - r\n",
    "                        entries_found = len(driver.find_elements_by_class_name('NoI'))\n",
    "                        while entries_found < e:\n",
    "                            time.sleep(1)\n",
    "                            entries_found = len(driver.find_elements_by_class_name('NoI'))\n",
    "                        else:\n",
    "                            all_data.append(obtain_metadata(driver, partido))\n",
    "                        r += 20\n",
    "                    return(pd.concat(all_data))"
   ]
  },
  {
   "cell_type": "code",
   "execution_count": 6,
   "metadata": {},
   "outputs": [],
   "source": [
    "def obtain_metadata(driver, party):\n",
    "    all_data = []\n",
    "    \n",
    "    years = []\n",
    "    tipo_sesion = []\n",
    "    periodo = []\n",
    "    fecha = []\n",
    "    diario = []\n",
    "    tema = []\n",
    "    link_speech = []\n",
    "    \n",
    "    for i in driver.find_element_by_id('output').find_elements_by_class_name('YearD'):\n",
    "        years.append(i.text)\n",
    "    \n",
    "    for i in driver.find_element_by_id('output').find_elements_by_class_name('FechaD'):\n",
    "        fecha.append(i.text)\n",
    "        \n",
    "    for i in driver.find_element_by_id('output').find_elements_by_class_name('TemaI'):\n",
    "        tema.append(i.text)\n",
    "        link_speech.append(i.find_element_by_css_selector('a').get_attribute('href'))\n",
    "    \n",
    "    df = pd.DataFrame({'year_session':years, \n",
    "                       'fecha': fecha, \n",
    "                       'tema':tema,\n",
    "                       'link_speech':link_speech\n",
    "                        })\n",
    "    df['partido'] = party\n",
    "    df['name'] = driver.find_element_by_id('Escudo').text\n",
    "    return(df)"
   ]
  },
  {
   "cell_type": "code",
   "execution_count": 7,
   "metadata": {},
   "outputs": [],
   "source": [
    "def obtain_allData(driver, partido):\n",
    "    names_deputies_party = []\n",
    "    partido_list = []\n",
    "    for i in driver.find_element_by_id('selectDipu').find_elements_by_css_selector('option'):\n",
    "        names_deputies_party.append(i.text)\n",
    "        partido_list.append(partido)\n",
    "        \n",
    "    all_d = []\n",
    "    for i, e in tqdm(zip(driver.find_element_by_id('selectDipu').find_elements_by_css_selector('option'), names_deputies_party), total = len(names_deputies_party)):\n",
    "        i.click()\n",
    "        time.sleep(5)\n",
    "        all_d.append(load_all_pages(driver, partido))\n",
    "    return(all_d)"
   ]
  },
  {
   "cell_type": "markdown",
   "metadata": {},
   "source": [
    "## Legislatura 64"
   ]
  },
  {
   "cell_type": "code",
   "execution_count": 551,
   "metadata": {
    "scrolled": true
   },
   "outputs": [
    {
     "name": "stderr",
     "output_type": "stream",
     "text": [
      "[WDM] - Current google-chrome version is 85.0.4183\n",
      "[WDM] - Get LATEST driver version for 85.0.4183\n",
      "[WDM] - Driver [/Users/cblanesg/.wdm/drivers/chromedriver/mac64/85.0.4183.87/chromedriver] found in cache\n"
     ]
    },
    {
     "name": "stdout",
     "output_type": "stream",
     "text": [
      " \n"
     ]
    }
   ],
   "source": [
    "driver = webdriver.Chrome(ChromeDriverManager().install())"
   ]
  },
  {
   "cell_type": "code",
   "execution_count": 552,
   "metadata": {},
   "outputs": [],
   "source": [
    "### Loop to all Parties\n",
    "url_legislatura64 = 'http://cronica.diputados.gob.mx:8080/exist/siid2/siid3.xql?legis=LXIV'\n",
    "driver.get(url_legislatura64)"
   ]
  },
  {
   "cell_type": "code",
   "execution_count": 553,
   "metadata": {},
   "outputs": [],
   "source": [
    "num_parties = len(driver.find_elements_by_class_name('Grupos-Menu-subItem'))\n",
    "name_parties = []\n",
    "for i in driver.find_elements_by_class_name('Grupos-Menu-subItem'):\n",
    "    if re.sub('\\n', ' ', i.text) not in name_parties:\n",
    "        name_parties.append(re.sub('\\n', ' ', i.text))\n",
    "    else:\n",
    "        continue"
   ]
  },
  {
   "cell_type": "code",
   "execution_count": 562,
   "metadata": {},
   "outputs": [
    {
     "data": {
      "text/plain": [
       "['Partido del Trabajo',\n",
       " 'Movimiento Ciudadano',\n",
       " 'Partido de la Revolución Democrática',\n",
       " 'Partido Verde Ecologista de México',\n",
       " 'Sin Partido']"
      ]
     },
     "execution_count": 562,
     "metadata": {},
     "output_type": "execute_result"
    }
   ],
   "source": [
    "name_parties[4:]"
   ]
  },
  {
   "cell_type": "code",
   "execution_count": null,
   "metadata": {},
   "outputs": [],
   "source": [
    "all_dataLegislatura = []"
   ]
  },
  {
   "cell_type": "code",
   "execution_count": 563,
   "metadata": {
    "scrolled": true
   },
   "outputs": [
    {
     "name": "stderr",
     "output_type": "stream",
     "text": [
      "  0%|          | 0/5 [00:00<?, ?it/s][WDM] - Current google-chrome version is 85.0.4183\n",
      "[WDM] - Get LATEST driver version for 85.0.4183\n",
      "[WDM] - Driver [/Users/cblanesg/.wdm/drivers/chromedriver/mac64/85.0.4183.87/chromedriver] found in cache\n"
     ]
    },
    {
     "name": "stdout",
     "output_type": "stream",
     "text": [
      " \n"
     ]
    },
    {
     "name": "stderr",
     "output_type": "stream",
     "text": [
      "\n",
      "  0%|          | 0/28 [00:00<?, ?it/s]\u001b[A\n",
      "  4%|▎         | 1/28 [00:05<02:26,  5.41s/it]\u001b[A\n",
      "  7%|▋         | 2/28 [00:20<03:36,  8.32s/it]\u001b[A\n",
      " 11%|█         | 3/28 [00:30<03:41,  8.86s/it]\u001b[A\n",
      " 14%|█▍        | 4/28 [00:46<04:24, 11.03s/it]\u001b[A\n",
      " 18%|█▊        | 5/28 [00:52<03:35,  9.39s/it]\u001b[A\n",
      " 21%|██▏       | 6/28 [00:58<03:02,  8.31s/it]\u001b[A\n",
      " 25%|██▌       | 7/28 [02:16<10:14, 29.26s/it]\u001b[A\n",
      " 29%|██▊       | 8/28 [02:21<07:23, 22.16s/it]\u001b[A\n",
      " 32%|███▏      | 9/28 [02:46<07:17, 23.00s/it]\u001b[A\n",
      " 36%|███▌      | 10/28 [02:56<05:44, 19.14s/it]\u001b[A\n",
      " 39%|███▉      | 11/28 [03:07<04:41, 16.54s/it]\u001b[A\n",
      " 43%|████▎     | 12/28 [03:17<03:55, 14.70s/it]\u001b[A\n",
      " 46%|████▋     | 13/28 [03:27<03:19, 13.33s/it]\u001b[A\n",
      " 50%|█████     | 14/28 [03:33<02:32, 10.93s/it]\u001b[A\n",
      " 54%|█████▎    | 15/28 [03:38<02:01,  9.37s/it]\u001b[A\n",
      " 57%|█████▋    | 16/28 [03:49<01:55,  9.65s/it]\u001b[A\n",
      " 61%|██████    | 17/28 [03:59<01:49,  9.91s/it]\u001b[A\n",
      " 64%|██████▍   | 18/28 [04:10<01:41, 10.11s/it]\u001b[A\n",
      " 68%|██████▊   | 19/28 [04:15<01:18,  8.68s/it]\u001b[A\n",
      " 71%|███████▏  | 20/28 [04:31<01:26, 10.77s/it]\u001b[A\n",
      " 75%|███████▌  | 21/28 [04:41<01:14, 10.60s/it]\u001b[A\n",
      " 79%|███████▊  | 22/28 [04:51<01:02, 10.46s/it]\u001b[A\n",
      " 82%|████████▏ | 23/28 [04:57<00:45,  9.01s/it]\u001b[A\n",
      " 86%|████████▌ | 24/28 [05:23<00:56, 14.14s/it]\u001b[A\n",
      " 89%|████████▉ | 25/28 [05:33<00:38, 12.98s/it]\u001b[A\n",
      " 93%|█████████▎| 26/28 [05:39<00:21, 10.78s/it]\u001b[A\n",
      " 96%|█████████▋| 27/28 [05:54<00:12, 12.11s/it]\u001b[A\n",
      "100%|██████████| 28/28 [06:00<00:00, 12.86s/it]\u001b[A\n",
      " 20%|██        | 1/5 [06:04<24:17, 364.44s/it][WDM] - Current google-chrome version is 85.0.4183\n",
      "[WDM] - Get LATEST driver version for 85.0.4183\n",
      "[WDM] - Driver [/Users/cblanesg/.wdm/drivers/chromedriver/mac64/85.0.4183.87/chromedriver] found in cache\n"
     ]
    },
    {
     "name": "stdout",
     "output_type": "stream",
     "text": [
      " \n"
     ]
    },
    {
     "name": "stderr",
     "output_type": "stream",
     "text": [
      "\n",
      "  0%|          | 0/29 [00:00<?, ?it/s]\u001b[A\n",
      "  3%|▎         | 1/29 [00:27<12:43, 27.28s/it]\u001b[A\n",
      "  7%|▋         | 2/29 [00:37<09:58, 22.17s/it]\u001b[A\n",
      " 10%|█         | 3/29 [00:43<07:29, 17.30s/it]\u001b[A\n",
      " 14%|█▍        | 4/29 [00:53<06:20, 15.24s/it]\u001b[A\n",
      " 17%|█▋        | 5/29 [01:04<05:32, 13.85s/it]\u001b[A\n",
      " 21%|██        | 6/29 [01:09<04:20, 11.31s/it]\u001b[A\n",
      " 24%|██▍       | 7/29 [01:20<04:05, 11.16s/it]\u001b[A\n",
      " 28%|██▊       | 8/29 [01:26<03:21,  9.58s/it]\u001b[A\n",
      " 31%|███       | 9/29 [01:36<03:15,  9.78s/it]\u001b[A\n",
      " 34%|███▍      | 10/29 [01:42<02:41,  8.48s/it]\u001b[A\n",
      " 38%|███▊      | 11/29 [01:48<02:18,  7.68s/it]\u001b[A\n",
      " 41%|████▏     | 12/29 [01:53<02:00,  7.11s/it]\u001b[A\n",
      " 45%|████▍     | 13/29 [01:59<01:47,  6.73s/it]\u001b[A\n",
      " 48%|████▊     | 14/29 [02:10<01:59,  7.95s/it]\u001b[A\n",
      " 52%|█████▏    | 15/29 [02:16<01:42,  7.35s/it]\u001b[A\n",
      " 55%|█████▌    | 16/29 [02:26<01:47,  8.25s/it]\u001b[A\n",
      " 59%|█████▊    | 17/29 [02:37<01:46,  8.87s/it]\u001b[A\n",
      " 62%|██████▏   | 18/29 [02:42<01:26,  7.91s/it]\u001b[A\n",
      " 66%|██████▌   | 19/29 [02:53<01:27,  8.79s/it]\u001b[A\n",
      " 69%|██████▉   | 20/29 [02:59<01:11,  7.93s/it]\u001b[A\n",
      " 72%|███████▏  | 21/29 [03:05<00:57,  7.22s/it]\u001b[A\n",
      " 76%|███████▌  | 22/29 [03:15<00:56,  8.09s/it]\u001b[A\n",
      " 79%|███████▉  | 23/29 [03:20<00:43,  7.28s/it]\u001b[A\n",
      " 83%|████████▎ | 24/29 [03:26<00:33,  6.75s/it]\u001b[A\n",
      " 86%|████████▌ | 25/29 [03:31<00:25,  6.42s/it]\u001b[A\n",
      " 90%|████████▉ | 26/29 [03:42<00:22,  7.62s/it]\u001b[A\n",
      " 93%|█████████▎| 27/29 [03:48<00:14,  7.11s/it]\u001b[A\n",
      " 97%|█████████▋| 28/29 [03:58<00:08,  8.22s/it]\u001b[A\n",
      "100%|██████████| 29/29 [04:04<00:00,  8.44s/it]\u001b[A\n",
      " 40%|████      | 2/5 [10:13<16:29, 329.75s/it][WDM] - Current google-chrome version is 85.0.4183\n",
      "[WDM] - Get LATEST driver version for 85.0.4183\n",
      "[WDM] - Driver [/Users/cblanesg/.wdm/drivers/chromedriver/mac64/85.0.4183.87/chromedriver] found in cache\n"
     ]
    },
    {
     "name": "stdout",
     "output_type": "stream",
     "text": [
      " \n"
     ]
    },
    {
     "name": "stderr",
     "output_type": "stream",
     "text": [
      "\n",
      "  0%|          | 0/20 [00:00<?, ?it/s]\u001b[A\n",
      "  5%|▌         | 1/20 [00:10<03:21, 10.62s/it]\u001b[A\n",
      " 10%|█         | 2/20 [00:25<03:36, 12.02s/it]\u001b[A\n",
      " 15%|█▌        | 3/20 [00:46<04:06, 14.48s/it]\u001b[A\n",
      " 20%|██        | 4/20 [00:56<03:33, 13.36s/it]\u001b[A\n",
      " 25%|██▌       | 5/20 [01:18<03:56, 15.76s/it]\u001b[A\n",
      " 30%|███       | 6/20 [01:33<03:37, 15.52s/it]\u001b[A\n",
      " 35%|███▌      | 7/20 [01:38<02:43, 12.57s/it]\u001b[A\n",
      " 40%|████      | 8/20 [01:44<02:04, 10.42s/it]\u001b[A\n",
      " 45%|████▌     | 9/20 [01:59<02:10, 11.88s/it]\u001b[A\n",
      " 50%|█████     | 10/20 [02:24<02:38, 15.88s/it]\u001b[A\n",
      " 55%|█████▌    | 11/20 [02:45<02:34, 17.20s/it]\u001b[A\n",
      " 60%|██████    | 12/20 [02:55<02:02, 15.26s/it]\u001b[A\n",
      " 65%|██████▌   | 13/20 [03:06<01:36, 13.84s/it]\u001b[A\n",
      " 70%|███████   | 14/20 [03:16<01:17, 12.85s/it]\u001b[A\n",
      " 75%|███████▌  | 15/20 [03:22<00:53, 10.75s/it]\u001b[A\n",
      " 80%|████████  | 16/20 [03:28<00:36,  9.24s/it]\u001b[A\n",
      " 85%|████████▌ | 17/20 [03:33<00:24,  8.07s/it]\u001b[A\n",
      " 90%|█████████ | 18/20 [03:43<00:17,  8.69s/it]\u001b[A\n",
      " 95%|█████████▌| 19/20 [03:49<00:07,  7.74s/it]\u001b[A\n",
      "100%|██████████| 20/20 [04:04<00:00, 12.23s/it]\u001b[A\n",
      " 60%|██████    | 3/5 [14:22<10:10, 305.48s/it][WDM] - Current google-chrome version is 85.0.4183\n",
      "[WDM] - Get LATEST driver version for 85.0.4183\n",
      "[WDM] - Driver [/Users/cblanesg/.wdm/drivers/chromedriver/mac64/85.0.4183.87/chromedriver] found in cache\n"
     ]
    },
    {
     "name": "stdout",
     "output_type": "stream",
     "text": [
      " \n"
     ]
    },
    {
     "name": "stderr",
     "output_type": "stream",
     "text": [
      "\n",
      "  0%|          | 0/11 [00:00<?, ?it/s]\u001b[A\n",
      "  9%|▉         | 1/11 [00:15<02:33, 15.32s/it]\u001b[A\n",
      " 18%|█▊        | 2/11 [00:30<02:17, 15.25s/it]\u001b[A\n",
      " 27%|██▋       | 3/11 [00:36<01:38, 12.35s/it]\u001b[A\n",
      " 36%|███▋      | 4/11 [00:41<01:12, 10.37s/it]\u001b[A\n",
      " 45%|████▌     | 5/11 [00:57<01:11, 11.89s/it]\u001b[A\n",
      " 55%|█████▍    | 6/11 [01:08<00:59, 11.85s/it]\u001b[A\n",
      " 64%|██████▎   | 7/11 [01:19<00:45, 11.41s/it]\u001b[A\n",
      " 73%|███████▎  | 8/11 [01:29<00:33, 11.08s/it]\u001b[A\n",
      " 82%|████████▏ | 9/11 [01:35<00:18,  9.43s/it]\u001b[A\n",
      " 91%|█████████ | 10/11 [01:45<00:09,  9.63s/it]\u001b[A\n",
      "100%|██████████| 11/11 [01:55<00:00, 10.49s/it]\u001b[A\n",
      " 80%|████████  | 4/5 [16:21<04:09, 249.64s/it][WDM] - Current google-chrome version is 85.0.4183\n",
      "[WDM] - Get LATEST driver version for 85.0.4183\n",
      "[WDM] - Driver [/Users/cblanesg/.wdm/drivers/chromedriver/mac64/85.0.4183.87/chromedriver] found in cache\n"
     ]
    },
    {
     "name": "stdout",
     "output_type": "stream",
     "text": [
      " \n"
     ]
    },
    {
     "name": "stderr",
     "output_type": "stream",
     "text": [
      "\n",
      "  0%|          | 0/2 [00:00<?, ?it/s]\u001b[A\n",
      " 50%|█████     | 1/2 [00:05<00:05,  5.89s/it]\u001b[A\n",
      "100%|██████████| 2/2 [00:11<00:00,  5.81s/it]\u001b[A\n",
      "100%|██████████| 5/5 [16:36<00:00, 199.31s/it]\n"
     ]
    }
   ],
   "source": [
    "for x, y in tqdm(zip(range(num_parties)[4:], name_parties[4:]), total = len(name_parties[4:])):\n",
    "    driver = webdriver.Chrome(ChromeDriverManager().install())\n",
    "    driver.get(url_legislatura64)\n",
    "    driver.find_elements_by_class_name('Grupos-Menu-subItem')[int(x)].click()\n",
    "        \n",
    "    all_dataLegislatura.append(obtain_allData(driver, y))\n",
    "    driver.close()"
   ]
  },
  {
   "cell_type": "code",
   "execution_count": 575,
   "metadata": {},
   "outputs": [],
   "source": [
    "all_d_faltten = []\n",
    "for i in all_dataLegislatura:\n",
    "    all_d_faltten.append(pd.concat(i))"
   ]
  },
  {
   "cell_type": "code",
   "execution_count": 576,
   "metadata": {},
   "outputs": [],
   "source": [
    "all_d_faltten = pd.concat(all_d_faltten).reset_index().drop(['index'], axis = 1)"
   ]
  },
  {
   "cell_type": "code",
   "execution_count": 577,
   "metadata": {},
   "outputs": [
    {
     "data": {
      "text/plain": [
       "8332"
      ]
     },
     "execution_count": 577,
     "metadata": {},
     "output_type": "execute_result"
    }
   ],
   "source": [
    "len(all_d_faltten)"
   ]
  },
  {
   "cell_type": "code",
   "execution_count": 578,
   "metadata": {},
   "outputs": [],
   "source": [
    "all_d_faltten.to_csv('./../../data/diputados/floor-speech/data_links_speeches64.csv', encoding = 'utf8')"
   ]
  },
  {
   "cell_type": "markdown",
   "metadata": {},
   "source": [
    "### Legislatura 63"
   ]
  },
  {
   "cell_type": "code",
   "execution_count": 592,
   "metadata": {
    "scrolled": true
   },
   "outputs": [
    {
     "name": "stderr",
     "output_type": "stream",
     "text": [
      "[WDM] - Current google-chrome version is 85.0.4183\n",
      "[WDM] - Get LATEST driver version for 85.0.4183\n",
      "[WDM] - Driver [/Users/cblanesg/.wdm/drivers/chromedriver/mac64/85.0.4183.87/chromedriver] found in cache\n"
     ]
    },
    {
     "name": "stdout",
     "output_type": "stream",
     "text": [
      " \n"
     ]
    },
    {
     "name": "stderr",
     "output_type": "stream",
     "text": [
      "  0%|          | 0/9 [00:00<?, ?it/s][WDM] - Current google-chrome version is 85.0.4183\n",
      "[WDM] - Get LATEST driver version for 85.0.4183\n",
      "[WDM] - Driver [/Users/cblanesg/.wdm/drivers/chromedriver/mac64/85.0.4183.87/chromedriver] found in cache\n"
     ]
    },
    {
     "name": "stdout",
     "output_type": "stream",
     "text": [
      " \n"
     ]
    },
    {
     "name": "stderr",
     "output_type": "stream",
     "text": [
      "\n",
      "  0%|          | 0/185 [00:00<?, ?it/s]\u001b[A\n",
      "  1%|          | 1/185 [00:10<31:58, 10.43s/it]\u001b[A\n",
      "  1%|          | 2/185 [00:20<31:46, 10.42s/it]\u001b[A\n",
      "  2%|▏         | 3/185 [00:31<31:56, 10.53s/it]\u001b[A\n",
      "  2%|▏         | 4/185 [00:41<31:34, 10.47s/it]\u001b[A\n",
      "  3%|▎         | 5/185 [00:52<31:25, 10.48s/it]\u001b[A\n",
      "  3%|▎         | 6/185 [01:02<31:07, 10.44s/it]\u001b[A\n",
      "  4%|▍         | 7/185 [01:13<30:59, 10.44s/it]\u001b[A\n",
      "  4%|▍         | 8/185 [01:23<30:41, 10.40s/it]\u001b[A\n",
      "  5%|▍         | 9/185 [01:33<30:31, 10.41s/it]\u001b[A\n",
      "  5%|▌         | 10/185 [01:44<30:20, 10.40s/it]\u001b[A\n",
      "  6%|▌         | 11/185 [01:54<30:13, 10.42s/it]\u001b[A\n",
      "  6%|▋         | 12/185 [02:05<30:20, 10.52s/it]\u001b[A\n",
      "  7%|▋         | 13/185 [02:15<30:03, 10.48s/it]\u001b[A\n",
      "  8%|▊         | 14/185 [02:26<29:47, 10.45s/it]\u001b[A\n",
      "  8%|▊         | 15/185 [02:36<29:37, 10.46s/it]\u001b[A\n",
      "  9%|▊         | 16/185 [02:47<29:20, 10.41s/it]\u001b[A\n",
      "  9%|▉         | 17/185 [02:58<29:52, 10.67s/it]\u001b[A\n",
      " 10%|▉         | 18/185 [03:09<29:49, 10.72s/it]\u001b[A\n",
      " 10%|█         | 19/185 [03:20<29:44, 10.75s/it]\u001b[A\n",
      " 11%|█         | 20/185 [03:30<29:21, 10.68s/it]\u001b[A\n",
      " 11%|█▏        | 21/185 [03:41<29:16, 10.71s/it]\u001b[A\n",
      " 12%|█▏        | 22/185 [03:51<28:53, 10.63s/it]\u001b[A\n",
      " 12%|█▏        | 23/185 [04:02<28:31, 10.57s/it]\u001b[A\n",
      " 13%|█▎        | 24/185 [04:12<28:26, 10.60s/it]\u001b[A\n",
      " 14%|█▎        | 25/185 [04:23<28:30, 10.69s/it]\u001b[A\n",
      " 14%|█▍        | 26/185 [04:35<29:05, 10.98s/it]\u001b[A\n",
      " 15%|█▍        | 27/185 [04:46<28:43, 10.91s/it]\u001b[A\n",
      " 15%|█▌        | 28/185 [04:59<30:15, 11.56s/it]\u001b[A\n",
      " 16%|█▌        | 29/185 [05:10<29:59, 11.53s/it]\u001b[A\n",
      " 16%|█▌        | 30/185 [05:22<29:58, 11.61s/it]\u001b[A\n",
      " 17%|█▋        | 31/185 [05:36<31:30, 12.27s/it]\u001b[A\n",
      " 17%|█▋        | 32/185 [05:49<31:51, 12.50s/it]\u001b[A\n",
      " 18%|█▊        | 33/185 [06:07<35:42, 14.10s/it]\u001b[A\n",
      " 18%|█▊        | 34/185 [06:18<33:32, 13.33s/it]\u001b[A\n",
      " 19%|█▉        | 35/185 [06:37<37:31, 15.01s/it]\u001b[A\n",
      " 19%|█▉        | 36/185 [06:52<36:47, 14.82s/it]\u001b[A\n",
      " 20%|██        | 37/185 [07:12<40:32, 16.43s/it]\u001b[A\n",
      " 21%|██        | 38/185 [07:33<43:38, 17.81s/it]\u001b[A\n",
      " 21%|██        | 39/185 [07:45<39:27, 16.21s/it]\u001b[A\n",
      " 22%|██▏       | 40/185 [08:10<45:36, 18.87s/it]\u001b[A\n",
      " 22%|██▏       | 41/185 [08:27<43:40, 18.20s/it]\u001b[A\n",
      " 23%|██▎       | 42/185 [08:49<46:15, 19.41s/it]\u001b[A\n",
      " 23%|██▎       | 43/185 [09:08<45:33, 19.25s/it]\u001b[A\n",
      " 24%|██▍       | 44/185 [09:31<48:08, 20.49s/it]\u001b[A\n",
      " 24%|██▍       | 45/185 [09:57<51:05, 21.89s/it]\u001b[A\n",
      " 25%|██▍       | 46/185 [10:15<47:57, 20.70s/it]\u001b[A\n",
      " 25%|██▌       | 47/185 [10:34<46:58, 20.42s/it]\u001b[A\n",
      " 26%|██▌       | 48/185 [11:05<53:44, 23.54s/it]\u001b[A\n",
      " 26%|██▋       | 49/185 [11:22<49:01, 21.63s/it]\u001b[A\n",
      " 27%|██▋       | 50/185 [11:38<44:44, 19.88s/it]\u001b[A\n",
      " 28%|██▊       | 51/185 [11:55<42:08, 18.87s/it]\u001b[A\n",
      " 28%|██▊       | 52/185 [12:17<44:29, 20.07s/it]\u001b[A\n",
      " 29%|██▊       | 53/185 [12:39<44:59, 20.45s/it]\u001b[A\n",
      " 29%|██▉       | 54/185 [12:53<40:28, 18.54s/it]\u001b[A\n",
      " 30%|██▉       | 55/185 [13:14<41:53, 19.33s/it]\u001b[A\n",
      " 30%|███       | 56/185 [13:26<36:53, 17.16s/it]\u001b[A\n",
      " 31%|███       | 57/185 [14:01<47:42, 22.37s/it]\u001b[A\n",
      " 31%|███▏      | 58/185 [14:15<42:00, 19.84s/it]\u001b[A\n",
      " 32%|███▏      | 59/185 [14:42<46:33, 22.17s/it]\u001b[A\n",
      " 32%|███▏      | 60/185 [15:05<46:33, 22.35s/it]\u001b[A\n",
      " 33%|███▎      | 61/185 [15:35<50:56, 24.65s/it]\u001b[A\n",
      " 34%|███▎      | 62/185 [16:02<52:06, 25.42s/it]\u001b[A\n",
      " 34%|███▍      | 63/185 [16:33<54:44, 26.92s/it]\u001b[A\n",
      " 35%|███▍      | 64/185 [16:46<46:12, 22.92s/it]\u001b[A\n",
      " 35%|███▌      | 65/185 [17:08<45:14, 22.62s/it]\u001b[A\n",
      " 36%|███▌      | 66/185 [17:35<47:25, 23.91s/it]\u001b[A\n",
      " 36%|███▌      | 67/185 [17:52<42:39, 21.69s/it]\u001b[A\n",
      " 37%|███▋      | 68/185 [18:15<43:25, 22.27s/it]\u001b[A\n",
      " 37%|███▋      | 69/185 [18:44<46:46, 24.20s/it]\u001b[A\n",
      " 38%|███▊      | 70/185 [19:00<41:30, 21.65s/it]\u001b[A\n",
      " 38%|███▊      | 71/185 [19:25<43:00, 22.64s/it]\u001b[A\n",
      " 39%|███▉      | 72/185 [19:48<42:55, 22.79s/it]\u001b[A\n",
      " 39%|███▉      | 73/185 [20:14<44:28, 23.83s/it]\u001b[A\n",
      " 40%|████      | 74/185 [20:34<41:59, 22.70s/it]\u001b[A\n",
      " 41%|████      | 75/185 [20:59<43:02, 23.47s/it]\u001b[A\n",
      " 41%|████      | 76/185 [21:29<45:48, 25.21s/it]\u001b[A\n",
      " 42%|████▏     | 77/185 [21:51<44:06, 24.50s/it]\u001b[A\n",
      " 42%|████▏     | 78/185 [22:17<44:13, 24.80s/it]\u001b[A\n",
      " 43%|████▎     | 79/185 [22:46<46:01, 26.05s/it]\u001b[A\n",
      " 43%|████▎     | 80/185 [23:09<43:47, 25.03s/it]\u001b[A\n",
      " 44%|████▍     | 81/185 [23:30<41:34, 23.99s/it]\u001b[A\n",
      " 44%|████▍     | 82/185 [23:53<40:33, 23.62s/it]\u001b[A\n",
      " 45%|████▍     | 83/185 [24:14<38:45, 22.80s/it]\u001b[A\n",
      " 45%|████▌     | 84/185 [24:37<38:36, 22.94s/it]\u001b[A\n",
      " 46%|████▌     | 85/185 [25:09<42:42, 25.63s/it]\u001b[A\n",
      " 46%|████▋     | 86/185 [25:28<38:56, 23.60s/it]\u001b[A\n",
      " 47%|████▋     | 87/185 [26:15<49:58, 30.60s/it]\u001b[A\n",
      " 48%|████▊     | 88/185 [26:40<46:44, 28.91s/it]\u001b[A\n",
      " 48%|████▊     | 89/185 [27:06<45:03, 28.16s/it]\u001b[A\n",
      " 49%|████▊     | 90/185 [27:30<42:20, 26.74s/it]\u001b[A\n",
      " 49%|████▉     | 91/185 [27:53<40:11, 25.65s/it]\u001b[A\n",
      " 50%|████▉     | 92/185 [28:07<34:29, 22.25s/it]\u001b[A\n",
      " 50%|█████     | 93/185 [28:30<34:29, 22.49s/it]\u001b[A\n",
      " 51%|█████     | 94/185 [28:49<32:23, 21.36s/it]\u001b[A\n",
      " 51%|█████▏    | 95/185 [29:10<32:13, 21.48s/it]\u001b[A\n",
      " 52%|█████▏    | 96/185 [29:32<31:43, 21.39s/it]\u001b[A\n",
      " 52%|█████▏    | 97/185 [29:45<27:54, 19.03s/it]\u001b[A\n",
      " 53%|█████▎    | 98/185 [30:07<28:58, 19.98s/it]\u001b[A\n",
      " 54%|█████▎    | 99/185 [30:25<27:43, 19.34s/it]\u001b[A\n",
      " 54%|█████▍    | 100/185 [30:38<24:41, 17.43s/it]\u001b[A\n",
      " 55%|█████▍    | 101/185 [30:57<25:03, 17.90s/it]\u001b[A\n",
      " 55%|█████▌    | 102/185 [31:09<22:13, 16.06s/it]\u001b[A\n",
      " 56%|█████▌    | 103/185 [31:24<21:37, 15.82s/it]\u001b[A\n",
      " 56%|█████▌    | 104/185 [31:47<24:15, 17.97s/it]\u001b[A\n",
      " 57%|█████▋    | 105/185 [32:05<23:58, 17.98s/it]\u001b[A\n",
      " 57%|█████▋    | 106/185 [32:17<21:24, 16.26s/it]\u001b[A\n",
      " 58%|█████▊    | 107/185 [32:31<20:15, 15.58s/it]\u001b[A\n",
      " 58%|█████▊    | 108/185 [32:55<22:52, 17.83s/it]\u001b[A\n",
      " 59%|█████▉    | 109/185 [33:15<23:35, 18.62s/it]\u001b[A\n",
      " 59%|█████▉    | 110/185 [33:31<22:17, 17.83s/it]\u001b[A\n",
      " 60%|██████    | 111/185 [33:57<24:51, 20.16s/it]\u001b[A\n",
      " 61%|██████    | 112/185 [34:24<27:02, 22.22s/it]\u001b[A\n",
      " 61%|██████    | 113/185 [34:43<25:32, 21.29s/it]\u001b[A\n",
      " 62%|██████▏   | 114/185 [35:06<25:58, 21.96s/it]\u001b[A\n",
      " 62%|██████▏   | 115/185 [35:25<24:20, 20.86s/it]\u001b[A\n",
      " 63%|██████▎   | 116/185 [35:40<21:57, 19.09s/it]\u001b[A\n",
      " 63%|██████▎   | 117/185 [36:02<22:56, 20.25s/it]\u001b[A\n",
      " 64%|██████▍   | 118/185 [36:18<21:06, 18.91s/it]\u001b[A\n",
      " 64%|██████▍   | 119/185 [36:52<25:37, 23.30s/it]\u001b[A\n",
      " 65%|██████▍   | 120/185 [37:12<24:08, 22.28s/it]\u001b[A\n",
      " 65%|██████▌   | 121/185 [37:31<22:49, 21.39s/it]\u001b[A\n",
      " 66%|██████▌   | 122/185 [37:52<22:14, 21.19s/it]\u001b[A\n",
      " 66%|██████▋   | 123/185 [38:10<20:50, 20.18s/it]\u001b[A\n",
      " 67%|██████▋   | 124/185 [38:23<18:35, 18.29s/it]\u001b[A\n",
      " 68%|██████▊   | 125/185 [38:43<18:35, 18.59s/it]\u001b[A\n",
      " 68%|██████▊   | 126/185 [38:59<17:36, 17.92s/it]\u001b[A\n",
      " 69%|██████▊   | 127/185 [39:18<17:28, 18.08s/it]\u001b[A\n",
      " 69%|██████▉   | 128/185 [39:35<16:58, 17.86s/it]\u001b[A\n",
      " 70%|██████▉   | 129/185 [40:10<21:36, 23.15s/it]\u001b[A\n",
      " 70%|███████   | 130/185 [40:34<21:19, 23.26s/it]\u001b[A\n",
      " 71%|███████   | 131/185 [40:46<17:49, 19.80s/it]\u001b[A\n",
      " 71%|███████▏  | 132/185 [41:03<16:45, 18.98s/it]\u001b[A\n",
      " 72%|███████▏  | 133/185 [41:15<14:40, 16.94s/it]\u001b[A\n",
      " 72%|███████▏  | 134/185 [41:27<13:18, 15.65s/it]\u001b[A\n",
      " 73%|███████▎  | 135/185 [42:46<28:45, 34.52s/it]\u001b[A\n",
      " 74%|███████▎  | 136/185 [43:00<23:08, 28.33s/it]\u001b[A\n",
      " 74%|███████▍  | 137/185 [43:18<20:13, 25.29s/it]\u001b[A\n",
      " 75%|███████▍  | 138/185 [43:35<17:52, 22.83s/it]\u001b[A\n",
      " 75%|███████▌  | 139/185 [43:54<16:40, 21.74s/it]\u001b[A\n",
      " 76%|███████▌  | 140/185 [44:14<15:51, 21.14s/it]\u001b[A\n",
      " 76%|███████▌  | 141/185 [44:30<14:15, 19.43s/it]\u001b[A\n",
      " 77%|███████▋  | 142/185 [44:48<13:35, 18.98s/it]\u001b[A\n",
      " 77%|███████▋  | 143/185 [45:07<13:28, 19.26s/it]\u001b[A\n",
      " 78%|███████▊  | 144/185 [45:29<13:38, 19.95s/it]\u001b[A\n",
      " 78%|███████▊  | 145/185 [45:45<12:33, 18.84s/it]\u001b[A\n",
      " 79%|███████▉  | 146/185 [46:16<14:29, 22.29s/it]\u001b[A\n",
      " 79%|███████▉  | 147/185 [46:32<13:03, 20.62s/it]\u001b[A\n",
      " 80%|████████  | 148/185 [46:44<11:04, 17.97s/it]\u001b[A\n",
      " 81%|████████  | 149/185 [47:06<11:33, 19.27s/it]\u001b[A\n",
      " 81%|████████  | 150/185 [47:18<09:55, 17.01s/it]\u001b[A\n",
      " 82%|████████▏ | 151/185 [47:40<10:23, 18.34s/it]\u001b[A\n",
      " 82%|████████▏ | 152/185 [47:57<09:54, 18.02s/it]\u001b[A\n",
      " 83%|████████▎ | 153/185 [48:22<10:47, 20.24s/it]\u001b[A\n",
      " 83%|████████▎ | 154/185 [48:47<11:07, 21.54s/it]\u001b[A\n",
      " 84%|████████▍ | 155/185 [49:13<11:24, 22.82s/it]\u001b[A\n",
      " 84%|████████▍ | 156/185 [49:35<10:54, 22.56s/it]\u001b[A\n",
      " 85%|████████▍ | 157/185 [49:52<09:50, 21.08s/it]\u001b[A\n",
      " 85%|████████▌ | 158/185 [50:16<09:51, 21.90s/it]\u001b[A\n",
      " 86%|████████▌ | 159/185 [50:38<09:29, 21.89s/it]\u001b[A\n",
      " 86%|████████▋ | 160/185 [50:51<08:01, 19.27s/it]\u001b[A\n",
      " 87%|████████▋ | 161/185 [51:02<06:43, 16.83s/it]\u001b[A\n",
      " 88%|████████▊ | 162/185 [51:16<06:09, 16.07s/it]\u001b[A\n",
      " 88%|████████▊ | 163/185 [51:27<05:19, 14.51s/it]\u001b[A\n",
      " 89%|████████▊ | 164/185 [51:43<05:11, 14.81s/it]\u001b[A\n",
      " 89%|████████▉ | 165/185 [52:02<05:23, 16.18s/it]\u001b[A\n",
      " 90%|████████▉ | 166/185 [52:15<04:46, 15.10s/it]\u001b[A\n",
      " 90%|█████████ | 167/185 [52:27<04:14, 14.14s/it]\u001b[A\n",
      " 91%|█████████ | 168/185 [52:39<03:50, 13.59s/it]\u001b[A\n",
      " 91%|█████████▏| 169/185 [52:53<03:39, 13.71s/it]\u001b[A\n",
      " 92%|█████████▏| 170/185 [53:08<03:30, 14.02s/it]\u001b[A\n",
      " 92%|█████████▏| 171/185 [53:25<03:30, 15.02s/it]\u001b[A\n",
      " 93%|█████████▎| 172/185 [53:36<02:59, 13.82s/it]\u001b[A\n",
      " 94%|█████████▎| 173/185 [53:47<02:34, 12.91s/it]\u001b[A\n",
      " 94%|█████████▍| 174/185 [53:57<02:14, 12.21s/it]\u001b[A\n",
      " 95%|█████████▍| 175/185 [54:08<01:57, 11.70s/it]\u001b[A\n",
      " 95%|█████████▌| 176/185 [54:19<01:42, 11.38s/it]\u001b[A\n",
      " 96%|█████████▌| 177/185 [54:29<01:28, 11.10s/it]\u001b[A\n",
      " 96%|█████████▌| 178/185 [54:41<01:18, 11.27s/it]\u001b[A\n",
      " 97%|█████████▋| 179/185 [54:52<01:06, 11.16s/it]\u001b[A\n",
      " 97%|█████████▋| 180/185 [55:02<00:54, 10.92s/it]\u001b[A\n",
      " 98%|█████████▊| 181/185 [55:12<00:43, 10.79s/it]\u001b[A\n",
      " 98%|█████████▊| 182/185 [55:23<00:32, 10.68s/it]\u001b[A\n",
      " 99%|█████████▉| 183/185 [55:34<00:21, 10.73s/it]\u001b[A\n",
      " 99%|█████████▉| 184/185 [55:44<00:10, 10.65s/it]\u001b[A\n",
      "100%|██████████| 185/185 [55:55<00:00, 18.14s/it]\u001b[A\n",
      " 11%|█         | 1/9 [56:02<7:28:17, 3362.17s/it][WDM] - Current google-chrome version is 85.0.4183\n",
      "[WDM] - Get LATEST driver version for 85.0.4183\n",
      "[WDM] - Driver [/Users/cblanesg/.wdm/drivers/chromedriver/mac64/85.0.4183.87/chromedriver] found in cache\n"
     ]
    },
    {
     "name": "stdout",
     "output_type": "stream",
     "text": [
      " \n"
     ]
    },
    {
     "name": "stderr",
     "output_type": "stream",
     "text": [
      "\n",
      "  0%|          | 0/108 [00:00<?, ?it/s]\u001b[A\n",
      "  1%|          | 1/108 [00:11<20:33, 11.53s/it]\u001b[A\n",
      "  2%|▏         | 2/108 [00:21<19:44, 11.18s/it]\u001b[A\n",
      "  3%|▎         | 3/108 [00:34<20:13, 11.55s/it]\u001b[A\n",
      "  4%|▎         | 4/108 [00:45<19:47, 11.42s/it]\u001b[A\n",
      "  5%|▍         | 5/108 [00:56<19:33, 11.39s/it]\u001b[A\n",
      "  6%|▌         | 6/108 [01:07<19:15, 11.33s/it]\u001b[A\n",
      "  6%|▋         | 7/108 [01:19<19:04, 11.33s/it]\u001b[A\n",
      "  7%|▋         | 8/108 [01:29<18:30, 11.11s/it]\u001b[A\n",
      "  8%|▊         | 9/108 [01:40<18:14, 11.06s/it]\u001b[A\n",
      "  9%|▉         | 10/108 [01:51<17:57, 10.99s/it]\u001b[A\n",
      " 10%|█         | 11/108 [02:03<18:13, 11.28s/it]\u001b[A\n",
      " 11%|█         | 12/108 [02:15<18:18, 11.44s/it]\u001b[A\n",
      " 12%|█▏        | 13/108 [02:28<18:39, 11.79s/it]\u001b[A\n",
      " 13%|█▎        | 14/108 [02:40<18:52, 12.05s/it]\u001b[A\n",
      " 14%|█▍        | 15/108 [02:54<19:23, 12.51s/it]\u001b[A\n",
      " 15%|█▍        | 16/108 [03:06<19:10, 12.50s/it]\u001b[A\n",
      " 16%|█▌        | 17/108 [03:18<18:28, 12.18s/it]\u001b[A\n",
      " 17%|█▋        | 18/108 [03:29<17:56, 11.96s/it]\u001b[A\n",
      " 18%|█▊        | 19/108 [03:41<17:37, 11.88s/it]\u001b[A\n",
      " 19%|█▊        | 20/108 [03:58<19:39, 13.40s/it]\u001b[A\n",
      " 19%|█▉        | 21/108 [04:09<18:39, 12.86s/it]\u001b[A\n",
      " 20%|██        | 22/108 [04:20<17:28, 12.19s/it]\u001b[A\n",
      " 21%|██▏       | 23/108 [04:31<16:55, 11.95s/it]\u001b[A\n",
      " 22%|██▏       | 24/108 [04:42<16:08, 11.53s/it]\u001b[A\n",
      " 23%|██▎       | 25/108 [05:00<18:35, 13.43s/it]\u001b[A\n",
      " 24%|██▍       | 26/108 [05:16<19:29, 14.26s/it]\u001b[A\n",
      " 25%|██▌       | 27/108 [05:27<17:48, 13.19s/it]\u001b[A\n",
      " 26%|██▌       | 28/108 [05:39<17:03, 12.80s/it]\u001b[A\n",
      " 27%|██▋       | 29/108 [05:49<16:06, 12.24s/it]\u001b[A\n",
      " 28%|██▊       | 30/108 [06:01<15:28, 11.90s/it]\u001b[A\n",
      " 29%|██▊       | 31/108 [06:18<17:23, 13.55s/it]\u001b[A\n",
      " 30%|██▉       | 32/108 [06:29<16:11, 12.79s/it]\u001b[A\n",
      " 31%|███       | 33/108 [06:40<15:18, 12.24s/it]\u001b[A\n",
      " 31%|███▏      | 34/108 [06:50<14:26, 11.71s/it]\u001b[A\n",
      " 32%|███▏      | 35/108 [07:02<14:06, 11.60s/it]\u001b[A\n",
      " 33%|███▎      | 36/108 [07:12<13:29, 11.24s/it]\u001b[A\n",
      " 34%|███▍      | 37/108 [07:23<13:07, 11.08s/it]\u001b[A\n",
      " 35%|███▌      | 38/108 [07:39<14:40, 12.58s/it]\u001b[A\n",
      " 36%|███▌      | 39/108 [07:51<14:07, 12.28s/it]\u001b[A\n",
      " 37%|███▋      | 40/108 [08:01<13:18, 11.74s/it]\u001b[A\n",
      " 38%|███▊      | 41/108 [08:13<13:02, 11.67s/it]\u001b[A\n",
      " 39%|███▉      | 42/108 [08:24<12:37, 11.47s/it]\u001b[A\n",
      " 40%|███▉      | 43/108 [08:35<12:18, 11.36s/it]\u001b[A\n",
      " 41%|████      | 44/108 [08:45<11:57, 11.21s/it]\u001b[A\n",
      " 42%|████▏     | 45/108 [08:56<11:38, 11.09s/it]\u001b[A\n",
      " 43%|████▎     | 46/108 [09:08<11:38, 11.27s/it]\u001b[A\n",
      " 44%|████▎     | 47/108 [09:19<11:18, 11.12s/it]\u001b[A\n",
      " 44%|████▍     | 48/108 [09:35<12:37, 12.63s/it]\u001b[A\n",
      " 45%|████▌     | 49/108 [09:45<11:47, 11.99s/it]\u001b[A\n",
      " 46%|████▋     | 50/108 [09:56<11:11, 11.58s/it]\u001b[A\n",
      " 47%|████▋     | 51/108 [10:07<10:48, 11.38s/it]\u001b[A\n",
      " 48%|████▊     | 52/108 [10:23<11:49, 12.67s/it]\u001b[A\n",
      " 49%|████▉     | 53/108 [10:34<11:09, 12.17s/it]\u001b[A\n",
      " 50%|█████     | 54/108 [10:45<10:49, 12.03s/it]\u001b[A\n",
      " 51%|█████     | 55/108 [10:56<10:20, 11.71s/it]\u001b[A\n",
      " 52%|█████▏    | 56/108 [11:08<10:01, 11.58s/it]\u001b[A\n",
      " 53%|█████▎    | 57/108 [11:19<09:43, 11.44s/it]\u001b[A\n",
      " 54%|█████▎    | 58/108 [11:30<09:24, 11.30s/it]\u001b[A\n",
      " 55%|█████▍    | 59/108 [11:40<09:00, 11.03s/it]\u001b[A\n",
      " 56%|█████▌    | 60/108 [11:51<08:46, 10.96s/it]\u001b[A\n",
      " 56%|█████▋    | 61/108 [12:02<08:30, 10.87s/it]\u001b[A\n",
      " 57%|█████▋    | 62/108 [12:12<08:14, 10.75s/it]\u001b[A\n",
      " 58%|█████▊    | 63/108 [12:23<08:03, 10.73s/it]\u001b[A\n",
      " 59%|█████▉    | 64/108 [12:33<07:49, 10.68s/it]\u001b[A\n",
      " 60%|██████    | 65/108 [12:44<07:43, 10.77s/it]\u001b[A\n",
      " 61%|██████    | 66/108 [12:55<07:31, 10.76s/it]\u001b[A\n",
      " 62%|██████▏   | 67/108 [13:06<07:21, 10.76s/it]\u001b[A\n",
      " 63%|██████▎   | 68/108 [13:16<07:07, 10.69s/it]\u001b[A\n",
      " 64%|██████▍   | 69/108 [13:27<07:00, 10.78s/it]\u001b[A\n",
      " 65%|██████▍   | 70/108 [13:38<06:49, 10.77s/it]\u001b[A\n",
      " 66%|██████▌   | 71/108 [13:49<06:42, 10.88s/it]\u001b[A\n",
      " 67%|██████▋   | 72/108 [14:00<06:28, 10.79s/it]\u001b[A\n",
      " 68%|██████▊   | 73/108 [14:11<06:21, 10.89s/it]\u001b[A\n",
      " 69%|██████▊   | 74/108 [14:22<06:08, 10.84s/it]\u001b[A\n",
      " 69%|██████▉   | 75/108 [14:32<05:57, 10.84s/it]\u001b[A\n",
      " 70%|███████   | 76/108 [14:49<06:44, 12.63s/it]\u001b[A\n",
      " 71%|███████▏  | 77/108 [15:01<06:20, 12.27s/it]\u001b[A\n",
      " 72%|███████▏  | 78/108 [15:11<05:53, 11.79s/it]\u001b[A\n",
      " 73%|███████▎  | 79/108 [15:27<06:14, 12.92s/it]\u001b[A\n",
      " 74%|███████▍  | 80/108 [15:37<05:41, 12.21s/it]\u001b[A\n",
      " 75%|███████▌  | 81/108 [15:48<05:16, 11.72s/it]\u001b[A\n",
      " 76%|███████▌  | 82/108 [15:58<04:55, 11.35s/it]\u001b[A\n",
      " 77%|███████▋  | 83/108 [16:10<04:43, 11.35s/it]\u001b[A\n",
      " 78%|███████▊  | 84/108 [16:21<04:29, 11.25s/it]\u001b[A\n",
      " 79%|███████▊  | 85/108 [16:31<04:13, 11.01s/it]\u001b[A\n",
      " 80%|███████▉  | 86/108 [16:42<03:59, 10.88s/it]\u001b[A\n",
      " 81%|████████  | 87/108 [16:52<03:46, 10.78s/it]\u001b[A\n",
      " 81%|████████▏ | 88/108 [17:04<03:38, 10.94s/it]\u001b[A\n",
      " 82%|████████▏ | 89/108 [17:14<03:25, 10.84s/it]\u001b[A\n",
      " 83%|████████▎ | 90/108 [17:25<03:14, 10.80s/it]\u001b[A\n",
      " 84%|████████▍ | 91/108 [17:36<03:02, 10.75s/it]\u001b[A\n",
      " 85%|████████▌ | 92/108 [17:47<02:55, 10.99s/it]\u001b[A\n",
      " 86%|████████▌ | 93/108 [17:58<02:44, 10.96s/it]\u001b[A\n",
      " 87%|████████▋ | 94/108 [18:10<02:35, 11.10s/it]\u001b[A\n",
      " 88%|████████▊ | 95/108 [18:20<02:21, 10.89s/it]\u001b[A\n",
      " 89%|████████▉ | 96/108 [18:31<02:09, 10.82s/it]\u001b[A\n",
      " 90%|████████▉ | 97/108 [18:41<01:58, 10.75s/it]\u001b[A\n",
      " 91%|█████████ | 98/108 [18:52<01:47, 10.76s/it]\u001b[A\n",
      " 92%|█████████▏| 99/108 [19:03<01:38, 10.92s/it]\u001b[A\n",
      " 93%|█████████▎| 100/108 [19:14<01:26, 10.85s/it]\u001b[A\n",
      " 94%|█████████▎| 101/108 [19:25<01:16, 10.99s/it]\u001b[A\n",
      " 94%|█████████▍| 102/108 [19:47<01:25, 14.22s/it]\u001b[A\n",
      " 95%|█████████▌| 103/108 [19:57<01:05, 13.08s/it]\u001b[A\n",
      " 96%|█████████▋| 104/108 [20:08<00:49, 12.27s/it]\u001b[A\n",
      " 97%|█████████▋| 105/108 [20:18<00:35, 11.77s/it]\u001b[A\n",
      " 98%|█████████▊| 106/108 [20:29<00:22, 11.39s/it]\u001b[A\n",
      " 99%|█████████▉| 107/108 [20:40<00:11, 11.34s/it]\u001b[A\n",
      "100%|██████████| 108/108 [20:51<00:00, 11.59s/it]\u001b[A\n",
      " 22%|██▏       | 2/9 [1:17:06<5:18:49, 2732.77s/it][WDM] - Current google-chrome version is 85.0.4183\n",
      "[WDM] - Get LATEST driver version for 85.0.4183\n",
      "[WDM] - Driver [/Users/cblanesg/.wdm/drivers/chromedriver/mac64/85.0.4183.87/chromedriver] found in cache\n"
     ]
    },
    {
     "name": "stdout",
     "output_type": "stream",
     "text": [
      " \n"
     ]
    },
    {
     "name": "stderr",
     "output_type": "stream",
     "text": [
      "\n",
      "  0%|          | 0/58 [00:00<?, ?it/s]\u001b[A\n",
      "  2%|▏         | 1/58 [00:16<15:13, 16.03s/it]\u001b[A\n",
      "  3%|▎         | 2/58 [00:27<13:36, 14.59s/it]\u001b[A\n",
      "  5%|▌         | 3/58 [00:37<12:16, 13.39s/it]\u001b[A\n",
      "  7%|▋         | 4/58 [00:59<14:18, 15.89s/it]\u001b[A\n",
      "  9%|▊         | 5/58 [01:10<12:49, 14.53s/it]\u001b[A\n",
      " 10%|█         | 6/58 [01:26<12:56, 14.93s/it]\u001b[A\n",
      " 12%|█▏        | 7/58 [01:37<11:34, 13.62s/it]\u001b[A\n",
      " 14%|█▍        | 8/58 [01:53<11:54, 14.30s/it]\u001b[A\n",
      " 16%|█▌        | 9/58 [02:04<11:01, 13.49s/it]\u001b[A\n",
      " 17%|█▋        | 10/58 [02:15<10:04, 12.60s/it]\u001b[A\n",
      " 19%|█▉        | 11/58 [02:31<10:40, 13.63s/it]\u001b[A\n",
      " 21%|██        | 12/58 [02:42<09:51, 12.86s/it]\u001b[A\n",
      " 22%|██▏       | 13/58 [02:53<09:15, 12.35s/it]\u001b[A\n",
      " 24%|██▍       | 14/58 [03:04<08:46, 11.98s/it]\u001b[A\n",
      " 26%|██▌       | 15/58 [03:16<08:29, 11.85s/it]\u001b[A\n",
      " 28%|██▊       | 16/58 [03:38<10:33, 15.10s/it]\u001b[A\n",
      " 29%|██▉       | 17/58 [03:50<09:31, 13.95s/it]\u001b[A\n",
      " 31%|███       | 18/58 [04:01<08:42, 13.06s/it]\u001b[A\n",
      " 33%|███▎      | 19/58 [04:22<10:08, 15.60s/it]\u001b[A\n",
      " 34%|███▍      | 20/58 [04:33<08:53, 14.04s/it]\u001b[A\n",
      " 36%|███▌      | 21/58 [04:44<08:08, 13.20s/it]\u001b[A\n",
      " 38%|███▊      | 22/58 [04:55<07:31, 12.56s/it]\u001b[A\n",
      " 40%|███▉      | 23/58 [05:10<07:50, 13.44s/it]\u001b[A\n",
      " 41%|████▏     | 24/58 [05:21<07:05, 12.52s/it]\u001b[A\n",
      " 43%|████▎     | 25/58 [05:48<09:21, 17.01s/it]\u001b[A\n",
      " 45%|████▍     | 26/58 [06:05<08:59, 16.87s/it]\u001b[A\n",
      " 47%|████▋     | 27/58 [06:20<08:30, 16.46s/it]\u001b[A\n",
      " 48%|████▊     | 28/58 [06:48<09:52, 19.76s/it]\u001b[A\n",
      " 50%|█████     | 29/58 [06:59<08:16, 17.11s/it]\u001b[A\n",
      " 52%|█████▏    | 30/58 [07:10<07:07, 15.26s/it]\u001b[A\n",
      " 53%|█████▎    | 31/58 [07:26<06:57, 15.47s/it]\u001b[A\n",
      " 55%|█████▌    | 32/58 [07:44<07:03, 16.28s/it]\u001b[A\n",
      " 57%|█████▋    | 33/58 [08:00<06:49, 16.37s/it]\u001b[A\n",
      " 59%|█████▊    | 34/58 [08:18<06:40, 16.67s/it]\u001b[A\n",
      " 60%|██████    | 35/58 [08:28<05:39, 14.76s/it]\u001b[A\n",
      " 62%|██████▏   | 36/58 [08:39<05:00, 13.64s/it]\u001b[A\n",
      " 64%|██████▍   | 37/58 [08:50<04:27, 12.73s/it]\u001b[A\n",
      " 66%|██████▌   | 38/58 [09:01<04:04, 12.22s/it]\u001b[A\n",
      " 67%|██████▋   | 39/58 [09:17<04:12, 13.30s/it]\u001b[A\n",
      " 69%|██████▉   | 40/58 [09:29<03:55, 13.11s/it]\u001b[A\n",
      " 71%|███████   | 41/58 [09:42<03:40, 12.94s/it]\u001b[A\n",
      " 72%|███████▏  | 42/58 [09:53<03:19, 12.49s/it]\u001b[A\n",
      " 74%|███████▍  | 43/58 [10:15<03:51, 15.41s/it]\u001b[A\n",
      " 76%|███████▌  | 44/58 [10:26<03:16, 14.06s/it]\u001b[A\n",
      " 78%|███████▊  | 45/58 [10:37<02:48, 12.98s/it]\u001b[A\n",
      " 79%|███████▉  | 46/58 [10:47<02:27, 12.28s/it]\u001b[A\n",
      " 81%|████████  | 47/58 [11:00<02:15, 12.34s/it]\u001b[A\n",
      " 83%|████████▎ | 48/58 [11:10<01:58, 11.81s/it]\u001b[A\n",
      " 84%|████████▍ | 49/58 [11:21<01:43, 11.55s/it]\u001b[A\n",
      " 86%|████████▌ | 50/58 [11:33<01:32, 11.62s/it]\u001b[A\n",
      " 88%|████████▊ | 51/58 [11:56<01:43, 14.84s/it]\u001b[A\n",
      " 90%|████████▉ | 52/58 [12:12<01:32, 15.39s/it]\u001b[A\n",
      " 91%|█████████▏| 53/58 [12:23<01:10, 14.05s/it]\u001b[A\n",
      " 93%|█████████▎| 54/58 [12:38<00:57, 14.38s/it]\u001b[A\n",
      " 95%|█████████▍| 55/58 [13:09<00:57, 19.28s/it]\u001b[A\n",
      " 97%|█████████▋| 56/58 [13:31<00:40, 20.07s/it]\u001b[A\n",
      " 98%|█████████▊| 57/58 [13:42<00:17, 17.27s/it]\u001b[A\n",
      "100%|██████████| 58/58 [13:58<00:00, 14.46s/it]\u001b[A\n",
      " 33%|███▎      | 3/9 [1:31:11<3:36:39, 2166.57s/it][WDM] - Current google-chrome version is 85.0.4183\n",
      "[WDM] - Get LATEST driver version for 85.0.4183\n"
     ]
    },
    {
     "name": "stdout",
     "output_type": "stream",
     "text": [
      " \n"
     ]
    },
    {
     "name": "stderr",
     "output_type": "stream",
     "text": [
      "[WDM] - Driver [/Users/cblanesg/.wdm/drivers/chromedriver/mac64/85.0.4183.87/chromedriver] found in cache\n",
      "\n",
      "  0%|          | 0/56 [00:00<?, ?it/s]\u001b[A\n",
      "  2%|▏         | 1/56 [00:17<15:40, 17.10s/it]\u001b[A\n",
      "  4%|▎         | 2/56 [00:27<13:32, 15.04s/it]\u001b[A\n",
      "  5%|▌         | 3/56 [00:39<12:29, 14.14s/it]\u001b[A\n",
      "  7%|▋         | 4/56 [00:50<11:23, 13.15s/it]\u001b[A\n",
      "  9%|▉         | 5/56 [01:01<10:42, 12.60s/it]\u001b[A\n",
      " 11%|█         | 6/56 [01:12<10:09, 12.19s/it]\u001b[A\n",
      " 12%|█▎        | 7/56 [01:24<09:53, 12.11s/it]\u001b[A\n",
      " 14%|█▍        | 8/56 [01:49<12:47, 16.00s/it]\u001b[A\n",
      " 16%|█▌        | 9/56 [02:00<11:21, 14.50s/it]\u001b[A\n",
      " 18%|█▊        | 10/56 [02:10<10:07, 13.20s/it]\u001b[A"
     ]
    },
    {
     "name": "stdout",
     "output_type": "stream",
     "text": [
      "no intervenciones\n"
     ]
    },
    {
     "name": "stderr",
     "output_type": "stream",
     "text": [
      "\n",
      " 20%|█▉        | 11/56 [02:21<09:21, 12.48s/it]\u001b[A\n",
      " 21%|██▏       | 12/56 [02:37<09:54, 13.51s/it]\u001b[A\n",
      " 23%|██▎       | 13/56 [02:48<09:10, 12.81s/it]\u001b[A\n",
      " 25%|██▌       | 14/56 [03:05<09:44, 13.93s/it]\u001b[A\n",
      " 27%|██▋       | 15/56 [03:16<08:50, 12.95s/it]\u001b[A\n",
      " 29%|██▊       | 16/56 [03:27<08:19, 12.49s/it]\u001b[A\n",
      " 30%|███       | 17/56 [03:37<07:43, 11.87s/it]\u001b[A\n",
      " 32%|███▏      | 18/56 [03:48<07:21, 11.63s/it]\u001b[A\n",
      " 34%|███▍      | 19/56 [04:00<07:14, 11.74s/it]\u001b[A\n",
      " 36%|███▌      | 20/56 [04:19<08:18, 13.86s/it]\u001b[A\n",
      " 38%|███▊      | 21/56 [04:30<07:30, 12.88s/it]\u001b[A\n",
      " 39%|███▉      | 22/56 [04:40<06:52, 12.14s/it]\u001b[A\n",
      " 41%|████      | 23/56 [04:52<06:32, 11.89s/it]\u001b[A\n",
      " 43%|████▎     | 24/56 [05:02<06:06, 11.45s/it]\u001b[A\n",
      " 45%|████▍     | 25/56 [05:18<06:38, 12.85s/it]\u001b[A\n",
      " 46%|████▋     | 26/56 [05:29<06:04, 12.14s/it]\u001b[A\n",
      " 48%|████▊     | 27/56 [05:40<05:42, 11.82s/it]\u001b[A\n",
      " 50%|█████     | 28/56 [05:50<05:19, 11.42s/it]\u001b[A\n",
      " 52%|█████▏    | 29/56 [06:08<05:57, 13.23s/it]\u001b[A\n",
      " 54%|█████▎    | 30/56 [06:18<05:25, 12.51s/it]\u001b[A\n",
      " 55%|█████▌    | 31/56 [06:29<04:57, 11.88s/it]\u001b[A\n",
      " 57%|█████▋    | 32/56 [06:46<05:20, 13.34s/it]\u001b[A\n",
      " 59%|█████▉    | 33/56 [06:56<04:46, 12.47s/it]\u001b[A\n",
      " 61%|██████    | 34/56 [07:07<04:21, 11.90s/it]\u001b[A\n",
      " 62%|██████▎   | 35/56 [07:23<04:41, 13.39s/it]\u001b[A\n",
      " 64%|██████▍   | 36/56 [07:34<04:12, 12.64s/it]\u001b[A\n",
      " 66%|██████▌   | 37/56 [07:45<03:48, 12.04s/it]\u001b[A\n",
      " 68%|██████▊   | 38/56 [08:01<03:56, 13.15s/it]\u001b[A\n",
      " 70%|██████▉   | 39/56 [08:11<03:30, 12.36s/it]\u001b[A\n",
      " 71%|███████▏  | 40/56 [08:22<03:09, 11.84s/it]\u001b[A\n",
      " 73%|███████▎  | 41/56 [08:33<02:53, 11.55s/it]\u001b[A\n",
      " 75%|███████▌  | 42/56 [08:50<03:04, 13.14s/it]\u001b[A\n",
      " 77%|███████▋  | 43/56 [09:13<03:30, 16.15s/it]\u001b[A\n",
      " 79%|███████▊  | 44/56 [09:23<02:52, 14.39s/it]\u001b[A\n",
      " 80%|████████  | 45/56 [09:39<02:43, 14.82s/it]\u001b[A\n",
      " 82%|████████▏ | 46/56 [09:49<02:14, 13.45s/it]\u001b[A\n",
      " 84%|████████▍ | 47/56 [10:06<02:09, 14.34s/it]\u001b[A\n",
      " 86%|████████▌ | 48/56 [10:16<01:45, 13.16s/it]\u001b[A\n",
      " 88%|████████▊ | 49/56 [10:27<01:26, 12.41s/it]\u001b[A\n",
      " 89%|████████▉ | 50/56 [10:37<01:11, 11.88s/it]\u001b[A\n",
      " 91%|█████████ | 51/56 [10:49<00:58, 11.75s/it]\u001b[A\n",
      " 93%|█████████▎| 52/56 [10:59<00:45, 11.32s/it]\u001b[A\n",
      " 95%|█████████▍| 53/56 [11:09<00:33, 11.03s/it]\u001b[A\n",
      " 96%|█████████▋| 54/56 [11:20<00:21, 10.89s/it]\u001b[A\n",
      " 98%|█████████▊| 55/56 [11:31<00:10, 10.98s/it]\u001b[A\n",
      "100%|██████████| 56/56 [11:42<00:00, 12.54s/it]\u001b[A\n",
      " 44%|████▍     | 4/9 [1:43:00<2:24:06, 1729.36s/it][WDM] - Current google-chrome version is 85.0.4183\n",
      "[WDM] - Get LATEST driver version for 85.0.4183\n",
      "[WDM] - Driver [/Users/cblanesg/.wdm/drivers/chromedriver/mac64/85.0.4183.87/chromedriver] found in cache\n"
     ]
    },
    {
     "name": "stdout",
     "output_type": "stream",
     "text": [
      " \n"
     ]
    },
    {
     "name": "stderr",
     "output_type": "stream",
     "text": [
      "\n",
      "  0%|          | 0/41 [00:00<?, ?it/s]\u001b[A\n",
      "  2%|▏         | 1/41 [00:16<11:11, 16.78s/it]\u001b[A\n",
      "  5%|▍         | 2/41 [00:39<12:04, 18.57s/it]\u001b[A\n",
      "  7%|▋         | 3/41 [00:55<11:15, 17.78s/it]\u001b[A\n",
      " 10%|▉         | 4/41 [01:07<09:55, 16.09s/it]\u001b[A\n",
      " 12%|█▏        | 5/41 [01:24<09:48, 16.35s/it]\u001b[A\n",
      " 15%|█▍        | 6/41 [01:48<10:48, 18.54s/it]\u001b[A\n",
      " 17%|█▋        | 7/41 [02:16<12:12, 21.54s/it]\u001b[A\n",
      " 20%|█▉        | 8/41 [02:27<10:02, 18.24s/it]\u001b[A\n",
      " 22%|██▏       | 9/41 [02:49<10:17, 19.30s/it]\u001b[A\n",
      " 24%|██▍       | 10/41 [03:00<08:47, 17.01s/it]\u001b[A\n",
      " 27%|██▋       | 11/41 [03:18<08:37, 17.25s/it]\u001b[A\n",
      " 29%|██▉       | 12/41 [03:34<08:11, 16.93s/it]\u001b[A\n",
      " 32%|███▏      | 13/41 [04:03<09:31, 20.39s/it]\u001b[A\n",
      " 34%|███▍      | 14/41 [04:40<11:28, 25.50s/it]\u001b[A\n",
      " 37%|███▋      | 15/41 [04:51<09:09, 21.14s/it]\u001b[A\n",
      " 39%|███▉      | 16/41 [05:02<07:34, 18.17s/it]\u001b[A\n",
      " 41%|████▏     | 17/41 [05:14<06:27, 16.15s/it]\u001b[A\n",
      " 44%|████▍     | 18/41 [05:33<06:30, 16.97s/it]\u001b[A\n",
      " 46%|████▋     | 19/41 [05:59<07:12, 19.65s/it]\u001b[A\n",
      " 49%|████▉     | 20/41 [06:15<06:33, 18.74s/it]\u001b[A\n",
      " 51%|█████     | 21/41 [06:32<06:01, 18.07s/it]\u001b[A\n",
      " 54%|█████▎    | 22/41 [07:02<06:51, 21.63s/it]\u001b[A\n",
      " 56%|█████▌    | 23/41 [07:14<05:38, 18.78s/it]\u001b[A\n",
      " 59%|█████▊    | 24/41 [07:33<05:21, 18.90s/it]\u001b[A\n",
      " 61%|██████    | 25/41 [08:02<05:48, 21.80s/it]\u001b[A\n",
      " 63%|██████▎   | 26/41 [08:13<04:40, 18.69s/it]\u001b[A\n",
      " 66%|██████▌   | 27/41 [08:24<03:50, 16.50s/it]\u001b[A\n",
      " 68%|██████▊   | 28/41 [08:35<03:10, 14.67s/it]\u001b[A\n",
      " 71%|███████   | 29/41 [08:46<02:43, 13.62s/it]\u001b[A\n",
      " 73%|███████▎  | 30/41 [09:02<02:39, 14.50s/it]\u001b[A\n",
      " 76%|███████▌  | 31/41 [09:20<02:32, 15.28s/it]\u001b[A\n",
      " 78%|███████▊  | 32/41 [09:30<02:04, 13.86s/it]\u001b[A\n",
      " 80%|████████  | 33/41 [09:42<01:45, 13.16s/it]\u001b[A\n",
      " 83%|████████▎ | 34/41 [09:52<01:26, 12.31s/it]\u001b[A\n",
      " 85%|████████▌ | 35/41 [10:08<01:20, 13.42s/it]\u001b[A\n",
      " 88%|████████▊ | 36/41 [10:22<01:07, 13.59s/it]\u001b[A\n",
      " 90%|█████████ | 37/41 [10:45<01:05, 16.36s/it]\u001b[A\n",
      " 93%|█████████▎| 38/41 [10:56<00:44, 14.87s/it]\u001b[A\n",
      " 95%|█████████▌| 39/41 [11:12<00:30, 15.28s/it]\u001b[A\n",
      " 98%|█████████▊| 40/41 [11:28<00:15, 15.50s/it]\u001b[A\n",
      "100%|██████████| 41/41 [11:45<00:00, 17.21s/it]\u001b[A\n",
      " 56%|█████▌    | 5/9 [1:54:55<1:34:59, 1424.97s/it][WDM] - Current google-chrome version is 85.0.4183\n",
      "[WDM] - Get LATEST driver version for 85.0.4183\n",
      "[WDM] - Driver [/Users/cblanesg/.wdm/drivers/chromedriver/mac64/85.0.4183.87/chromedriver] found in cache\n"
     ]
    },
    {
     "name": "stdout",
     "output_type": "stream",
     "text": [
      " \n"
     ]
    },
    {
     "name": "stderr",
     "output_type": "stream",
     "text": [
      "\n",
      "  0%|          | 0/30 [00:00<?, ?it/s]\u001b[A\n",
      "  3%|▎         | 1/30 [00:14<07:00, 14.52s/it]\u001b[A\n",
      "  7%|▋         | 2/30 [00:28<06:39, 14.28s/it]\u001b[A\n",
      " 10%|█         | 3/30 [00:39<06:01, 13.38s/it]\u001b[A\n",
      " 13%|█▎        | 4/30 [01:02<06:59, 16.13s/it]\u001b[A\n",
      " 17%|█▋        | 5/30 [01:19<06:49, 16.39s/it]\u001b[A\n",
      " 20%|██        | 6/30 [01:29<05:48, 14.50s/it]\u001b[A"
     ]
    },
    {
     "name": "stdout",
     "output_type": "stream",
     "text": [
      "no intervenciones\n"
     ]
    },
    {
     "name": "stderr",
     "output_type": "stream",
     "text": [
      "\n",
      " 23%|██▎       | 7/30 [01:57<07:07, 18.61s/it]\u001b[A\n",
      " 27%|██▋       | 8/30 [02:23<07:41, 20.97s/it]\u001b[A\n",
      " 30%|███       | 9/30 [02:36<06:28, 18.48s/it]\u001b[A\n",
      " 33%|███▎      | 10/30 [03:08<07:31, 22.57s/it]\u001b[A\n",
      " 37%|███▋      | 11/30 [03:19<06:00, 18.98s/it]\u001b[A\n",
      " 40%|████      | 12/30 [03:47<06:29, 21.62s/it]\u001b[A\n",
      " 43%|████▎     | 13/30 [04:12<06:24, 22.64s/it]\u001b[A\n",
      " 47%|████▋     | 14/30 [04:23<05:08, 19.26s/it]\u001b[A\n",
      " 50%|█████     | 15/30 [04:39<04:33, 18.23s/it]\u001b[A\n",
      " 53%|█████▎    | 16/30 [04:52<03:52, 16.61s/it]\u001b[A\n",
      " 57%|█████▋    | 17/30 [05:10<03:41, 17.02s/it]\u001b[A\n",
      " 60%|██████    | 18/30 [05:26<03:20, 16.75s/it]\u001b[A\n",
      " 63%|██████▎   | 19/30 [05:37<02:47, 15.20s/it]\u001b[A\n",
      " 67%|██████▋   | 20/30 [05:49<02:21, 14.15s/it]\u001b[A\n",
      " 70%|███████   | 21/30 [06:14<02:37, 17.52s/it]\u001b[A\n",
      " 73%|███████▎  | 22/30 [06:31<02:18, 17.26s/it]\u001b[A\n",
      " 77%|███████▋  | 23/30 [06:56<02:16, 19.47s/it]\u001b[A\n",
      " 80%|████████  | 24/30 [07:24<02:12, 22.02s/it]\u001b[A\n",
      " 83%|████████▎ | 25/30 [07:34<01:32, 18.52s/it]\u001b[A\n",
      " 87%|████████▋ | 26/30 [08:02<01:25, 21.46s/it]\u001b[A\n",
      " 90%|█████████ | 27/30 [08:13<00:54, 18.21s/it]\u001b[A\n",
      " 93%|█████████▎| 28/30 [08:36<00:39, 19.60s/it]\u001b[A\n",
      " 97%|█████████▋| 29/30 [08:47<00:17, 17.19s/it]\u001b[A\n",
      "100%|██████████| 30/30 [09:05<00:00, 18.19s/it]\u001b[A\n",
      " 67%|██████▋   | 6/9 [2:04:08<58:09, 1163.33s/it]  [WDM] - Current google-chrome version is 85.0.4183\n",
      "[WDM] - Get LATEST driver version for 85.0.4183\n"
     ]
    },
    {
     "name": "stdout",
     "output_type": "stream",
     "text": [
      " \n"
     ]
    },
    {
     "name": "stderr",
     "output_type": "stream",
     "text": [
      "[WDM] - Driver [/Users/cblanesg/.wdm/drivers/chromedriver/mac64/85.0.4183.87/chromedriver] found in cache\n",
      "\n",
      "  0%|          | 0/16 [00:00<?, ?it/s]\u001b[A\n",
      "  6%|▋         | 1/16 [00:18<04:44, 18.97s/it]\u001b[A\n",
      " 12%|█▎        | 2/16 [00:43<04:49, 20.68s/it]\u001b[A\n",
      " 19%|█▉        | 3/16 [01:07<04:39, 21.51s/it]\u001b[A\n",
      " 25%|██▌       | 4/16 [01:25<04:07, 20.60s/it]\u001b[A\n",
      " 31%|███▏      | 5/16 [01:36<03:13, 17.58s/it]\u001b[A\n",
      " 38%|███▊      | 6/16 [01:53<02:56, 17.60s/it]\u001b[A\n",
      " 44%|████▍     | 7/16 [02:11<02:39, 17.77s/it]\u001b[A\n",
      " 50%|█████     | 8/16 [02:29<02:22, 17.77s/it]\u001b[A\n",
      " 56%|█████▋    | 9/16 [02:52<02:14, 19.17s/it]\u001b[A\n",
      " 62%|██████▎   | 10/16 [03:15<02:01, 20.31s/it]\u001b[A\n",
      " 69%|██████▉   | 11/16 [03:26<01:27, 17.55s/it]\u001b[A\n",
      " 75%|███████▌  | 12/16 [03:48<01:16, 19.01s/it]\u001b[A\n",
      " 81%|████████▏ | 13/16 [04:11<01:00, 20.02s/it]\u001b[A\n",
      " 88%|████████▊ | 14/16 [04:33<00:41, 20.62s/it]\u001b[A\n",
      " 94%|█████████▍| 15/16 [05:03<00:23, 23.68s/it]\u001b[A\n",
      "100%|██████████| 16/16 [05:14<00:00, 19.66s/it]\u001b[A\n",
      " 78%|███████▊  | 7/9 [2:09:29<30:21, 910.61s/it] [WDM] - Current google-chrome version is 85.0.4183\n",
      "[WDM] - Get LATEST driver version for 85.0.4183\n",
      "[WDM] - Driver [/Users/cblanesg/.wdm/drivers/chromedriver/mac64/85.0.4183.87/chromedriver] found in cache\n"
     ]
    },
    {
     "name": "stdout",
     "output_type": "stream",
     "text": [
      " \n"
     ]
    },
    {
     "name": "stderr",
     "output_type": "stream",
     "text": [
      "\n",
      "  0%|          | 0/12 [00:00<?, ?it/s]\u001b[A\n",
      "  8%|▊         | 1/12 [00:11<02:03, 11.26s/it]\u001b[A\n",
      " 17%|█▋        | 2/12 [00:22<01:53, 11.38s/it]\u001b[A\n",
      " 25%|██▌       | 3/12 [00:45<02:13, 14.79s/it]\u001b[A\n",
      " 33%|███▎      | 4/12 [01:04<02:08, 16.12s/it]\u001b[A\n",
      " 42%|████▏     | 5/12 [01:31<02:15, 19.34s/it]\u001b[A\n",
      " 50%|█████     | 6/12 [01:42<01:41, 16.87s/it]\u001b[A\n",
      " 58%|█████▊    | 7/12 [02:18<01:51, 22.39s/it]\u001b[A\n",
      " 67%|██████▋   | 8/12 [02:28<01:15, 18.91s/it]\u001b[A\n",
      " 75%|███████▌  | 9/12 [03:03<01:10, 23.58s/it]\u001b[A\n",
      " 83%|████████▎ | 10/12 [03:37<00:53, 26.79s/it]\u001b[A\n",
      " 92%|█████████▏| 11/12 [03:54<00:23, 23.88s/it]\u001b[A\n",
      "100%|██████████| 12/12 [04:18<00:00, 21.56s/it]\u001b[A\n",
      " 89%|████████▉ | 8/9 [2:13:54<11:56, 716.87s/it][WDM] - Current google-chrome version is 85.0.4183\n",
      "[WDM] - Get LATEST driver version for 85.0.4183\n",
      "[WDM] - Driver [/Users/cblanesg/.wdm/drivers/chromedriver/mac64/85.0.4183.87/chromedriver] found in cache\n"
     ]
    },
    {
     "name": "stdout",
     "output_type": "stream",
     "text": [
      " \n"
     ]
    },
    {
     "name": "stderr",
     "output_type": "stream",
     "text": [
      "\n",
      "  0%|          | 0/1 [00:00<?, ?it/s]\u001b[A\n",
      "100%|██████████| 1/1 [00:21<00:00, 21.86s/it]\u001b[A\n",
      "100%|██████████| 9/9 [2:14:24<00:00, 896.02s/it]\n"
     ]
    }
   ],
   "source": [
    "### Loop to all Parties\n",
    "url_legislatura63 = 'http://cronica.diputados.gob.mx:8080/exist/siid2/siid2.xql?legis=LXIII#'\n",
    "driver = webdriver.Chrome(ChromeDriverManager().install())\n",
    "driver.get(url_legislatura63)\n",
    "\n",
    "num_parties = len(driver.find_elements_by_class_name('Grupos-Menu-subItem'))\n",
    "name_parties = []\n",
    "for i in driver.find_elements_by_class_name('Grupos-Menu-subItem'):\n",
    "    if re.sub('\\n', ' ', i.text) not in name_parties:\n",
    "        name_parties.append(re.sub('\\n', ' ', i.text))\n",
    "    else:\n",
    "        continue\n",
    "\n",
    "all_dataLegislatura63 = []\n",
    "for x, y in tqdm(zip(range(num_parties), name_parties), total = len(name_parties)):\n",
    "    driver = webdriver.Chrome(ChromeDriverManager().install())\n",
    "    driver.get(url_legislatura63)\n",
    "    driver.find_elements_by_class_name('Grupos-Menu-subItem')[int(x)].click()\n",
    "\n",
    "    all_dataLegislatura63.append(obtain_allData(driver, y))\n",
    "    driver.close()\n",
    "\n",
    "all_d_faltten63 = []\n",
    "for i in all_dataLegislatura63:\n",
    "    all_d_faltten63.append(pd.concat(i))\n",
    "\n",
    "all_d_faltten63 = pd.concat(all_d_faltten63).reset_index().drop(['index'], axis = 1)"
   ]
  },
  {
   "cell_type": "code",
   "execution_count": 594,
   "metadata": {
    "scrolled": true
   },
   "outputs": [],
   "source": [
    "all_d_faltten63.to_csv('./../../data/diputados/floor-speech/data_links_speeches63.csv', encoding = 'utf8')"
   ]
  },
  {
   "cell_type": "markdown",
   "metadata": {},
   "source": [
    "### Legislatura 62"
   ]
  },
  {
   "cell_type": "code",
   "execution_count": null,
   "metadata": {
    "scrolled": true
   },
   "outputs": [
    {
     "name": "stderr",
     "output_type": "stream",
     "text": [
      "[WDM] - Current google-chrome version is 85.0.4183\n",
      "[WDM] - Get LATEST driver version for 85.0.4183\n",
      "[WDM] - Driver [/Users/cblanesg/.wdm/drivers/chromedriver/mac64/85.0.4183.87/chromedriver] found in cache\n"
     ]
    },
    {
     "name": "stdout",
     "output_type": "stream",
     "text": [
      " \n"
     ]
    },
    {
     "name": "stderr",
     "output_type": "stream",
     "text": [
      "  0%|          | 0/7 [00:00<?, ?it/s][WDM] - Current google-chrome version is 85.0.4183\n",
      "[WDM] - Get LATEST driver version for 85.0.4183\n",
      "[WDM] - Driver [/Users/cblanesg/.wdm/drivers/chromedriver/mac64/85.0.4183.87/chromedriver] found in cache\n"
     ]
    },
    {
     "name": "stdout",
     "output_type": "stream",
     "text": [
      " \n"
     ]
    },
    {
     "name": "stderr",
     "output_type": "stream",
     "text": [
      "\n",
      "  0%|          | 0/217 [00:00<?, ?it/s]\u001b[A\n",
      "  0%|          | 1/217 [00:08<31:17,  8.69s/it]\u001b[A\n",
      "  1%|          | 2/217 [00:16<30:40,  8.56s/it]\u001b[A\n",
      "  1%|▏         | 3/217 [00:25<30:20,  8.51s/it]\u001b[A\n",
      "  2%|▏         | 4/217 [00:38<35:35, 10.03s/it]\u001b[A\n",
      "  2%|▏         | 5/217 [00:47<33:31,  9.49s/it]\u001b[A\n",
      "  3%|▎         | 6/217 [00:55<32:12,  9.16s/it]\u001b[A"
     ]
    }
   ],
   "source": [
    "### Loop to all Parties\n",
    "url_legislatura62 = 'http://cronica.diputados.gob.mx:8080/exist/siid2/siid2.xql?legis=LXII#'\n",
    "driver = webdriver.Chrome(ChromeDriverManager().install(), options = options)\n",
    "driver.get(url_legislatura62)\n",
    "\n",
    "num_parties = len(driver.find_elements_by_class_name('Grupos-Menu-subItem'))\n",
    "name_parties = []\n",
    "for i in driver.find_elements_by_class_name('Grupos-Menu-subItem'):\n",
    "    if re.sub('\\n', ' ', i.text) not in name_parties:\n",
    "        name_parties.append(re.sub('\\n', ' ', i.text))\n",
    "    else:\n",
    "        continue\n",
    "\n",
    "all_dataLegislatura62 = []\n",
    "for x, y in tqdm(zip(range(num_parties), name_parties), total = len(name_parties)):\n",
    "    driver = webdriver.Chrome(ChromeDriverManager().install(), options = options)\n",
    "    driver.get(url_legislatura62)\n",
    "    driver.find_elements_by_class_name('Grupos-Menu-subItem')[int(x)].click()\n",
    "\n",
    "    all_dataLegislatura62.append(obtain_allData(driver, y))\n",
    "    driver.close()"
   ]
  },
  {
   "cell_type": "markdown",
   "metadata": {},
   "source": [
    "## Legislatura 60 y 61"
   ]
  },
  {
   "cell_type": "code",
   "execution_count": null,
   "metadata": {},
   "outputs": [],
   "source": []
  }
 ],
 "metadata": {
  "kernelspec": {
   "display_name": "Python 3",
   "language": "python",
   "name": "python3"
  },
  "language_info": {
   "codemirror_mode": {
    "name": "ipython",
    "version": 3
   },
   "file_extension": ".py",
   "mimetype": "text/x-python",
   "name": "python",
   "nbconvert_exporter": "python",
   "pygments_lexer": "ipython3",
   "version": "3.8.3"
  }
 },
 "nbformat": 4,
 "nbformat_minor": 4
}
