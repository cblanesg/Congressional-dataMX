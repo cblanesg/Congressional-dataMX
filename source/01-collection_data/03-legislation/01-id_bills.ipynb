{
 "cells": [
  {
   "cell_type": "code",
   "execution_count": 2,
   "metadata": {},
   "outputs": [],
   "source": [
    "import json\n",
    "import unidecode\n",
    "import re\n",
    "import pandas as pd\n",
    "from fuzzywuzzy import process\n",
    "from tqdm import tqdm"
   ]
  },
  {
   "cell_type": "markdown",
   "metadata": {},
   "source": [
    "## Legislatura 64"
   ]
  },
  {
   "cell_type": "code",
   "execution_count": null,
   "metadata": {},
   "outputs": [],
   "source": [
    "## Load ID data\n",
    "with open('/Users/cblanesg/cam.blanes Dropbox/Camila Blanes/Congressional-dataMX/data/00-id_data/00-id/id_legislatura64.json') as f:\n",
    "    data64 = json.load(f)"
   ]
  },
  {
   "cell_type": "code",
   "execution_count": null,
   "metadata": {},
   "outputs": [],
   "source": [
    "mapping64 = {}\n",
    "for i in data64:\n",
    "    if i['nombre_completo'] not in mapping64.keys():\n",
    "        mapping64[re.sub(' [(]licencia[)]', '', re.sub('^[ ]+', '', unidecode.unidecode(i['nombre_completo'].lower())))] = i['id_legislador']\n",
    "    else:\n",
    "        continue\n",
    "\n",
    "len(mapping64)"
   ]
  },
  {
   "cell_type": "code",
   "execution_count": null,
   "metadata": {
    "scrolled": true
   },
   "outputs": [],
   "source": [
    "## Load roll call\n",
    "with open('/Users/cblanesg/cam.blanes Dropbox/Camila Blanes/Congressional-dataMX/data/03-legislation/01-raw/bills_proposed64.json')  as read_file:\n",
    "    data = json.load(read_file)"
   ]
  },
  {
   "cell_type": "code",
   "execution_count": null,
   "metadata": {
    "scrolled": true
   },
   "outputs": [],
   "source": [
    "missing_names = []\n",
    "\n",
    "for i in tqdm(data):\n",
    "    name = unidecode.unidecode(i['name_inc'].lower())\n",
    "    try:\n",
    "        if name == 'rosete sanchez maria':\n",
    "            i['id'] = ''\n",
    "        else:\n",
    "            i['id'] = mapping64[name]\n",
    "    except:\n",
    "        try:\n",
    "            name_matched = process.extractOne(name, list(mapping64.keys()))[0]\n",
    "            print(name_matched, ', ', name)\n",
    "            i['id'] = mapping64[name_matched]\n",
    "        except:\n",
    "            if name not in missing_names:\n",
    "                missing_names.append(name)\n",
    "                i['id'] = ''\n",
    "            else:\n",
    "                continue"
   ]
  },
  {
   "cell_type": "code",
   "execution_count": null,
   "metadata": {},
   "outputs": [],
   "source": [
    "with open('/Users/cblanesg/cam.blanes Dropbox/Camila Blanes/Congressional-dataMX/data/03-legislation/02-id_members/bills_proposed_dip64.json', 'w') as d:\n",
    "    json.dump(data, d)"
   ]
  },
  {
   "cell_type": "markdown",
   "metadata": {},
   "source": [
    "## Legislatura 63"
   ]
  },
  {
   "cell_type": "code",
   "execution_count": null,
   "metadata": {},
   "outputs": [],
   "source": [
    "## Load ID data\n",
    "with open('/Users/cblanesg/cam.blanes Dropbox/Camila Blanes/Congressional-dataMX/data/00-id_data/00-id/id_legislatura63.json') as f:\n",
    "    data64 = json.load(f)"
   ]
  },
  {
   "cell_type": "code",
   "execution_count": null,
   "metadata": {},
   "outputs": [],
   "source": [
    "mapping64 = {}\n",
    "for i in data64:\n",
    "    if i['nombre_completo'] not in mapping64.keys():\n",
    "        mapping64[re.sub(' [(]licencia[)]', '', re.sub('^[ ]+', '', unidecode.unidecode(i['nombre_completo'].lower())))] = i['id_legislador']\n",
    "    else:\n",
    "        continue\n",
    "\n",
    "len(mapping64)"
   ]
  },
  {
   "cell_type": "code",
   "execution_count": null,
   "metadata": {
    "scrolled": true
   },
   "outputs": [],
   "source": [
    "## Load roll call\n",
    "with open('/Users/cblanesg/cam.blanes Dropbox/Camila Blanes/Congressional-dataMX/data/03-legislation/01-raw/bills_proposed63.json')  as read_file:\n",
    "    data = json.load(read_file)"
   ]
  },
  {
   "cell_type": "code",
   "execution_count": null,
   "metadata": {
    "scrolled": true
   },
   "outputs": [],
   "source": [
    "missing_names = []\n",
    "\n",
    "for i in tqdm(data):\n",
    "    name = unidecode.unidecode(i['name_inc'].lower())\n",
    "    try:\n",
    "        if name == 'camacho quiroz cesar':\n",
    "            i['id'] = ''\n",
    "        elif name == 'campa almaral carmen victoria':\n",
    "            i['id'] = ''\n",
    "        else:\n",
    "            i['id'] = mapping64[name]\n",
    "    except:\n",
    "        try:\n",
    "            name_matched, ratio = process.extractOne(name, list(mapping64.keys()))\n",
    "            if ratio < 94:\n",
    "                print(name_matched, ', ', name, ' : ', ratio)\n",
    "                i['id'] = ''\n",
    "            else:\n",
    "                i['id'] = mapping64[name_matched]\n",
    "        except:\n",
    "            if name not in missing_names:\n",
    "                missing_names.append(name)\n",
    "                i['id'] = ''\n",
    "            else:\n",
    "                continue"
   ]
  },
  {
   "cell_type": "code",
   "execution_count": null,
   "metadata": {},
   "outputs": [],
   "source": []
  },
  {
   "cell_type": "code",
   "execution_count": null,
   "metadata": {},
   "outputs": [],
   "source": [
    "with open('/Users/cblanesg/cam.blanes Dropbox/Camila Blanes/Congressional-dataMX/data/03-legislation/02-id_members/bills_proposed_dip63.json', 'w') as d:\n",
    "    json.dump(data, d)"
   ]
  },
  {
   "cell_type": "markdown",
   "metadata": {},
   "source": [
    "## Legislatura 62"
   ]
  },
  {
   "cell_type": "code",
   "execution_count": null,
   "metadata": {},
   "outputs": [],
   "source": [
    "## Load ID data\n",
    "with open('/Users/cblanesg/cam.blanes Dropbox/Camila Blanes/Congressional-dataMX/data/00-id_data/00-id/id_legislatura62.json') as f:\n",
    "    data64 = json.load(f)"
   ]
  },
  {
   "cell_type": "code",
   "execution_count": null,
   "metadata": {},
   "outputs": [],
   "source": [
    "mapping64 = {}\n",
    "for i in data64:\n",
    "    if i['nombre_completo'] not in mapping64.keys():\n",
    "        mapping64[re.sub(' [(]licencia[)]', '', re.sub('^[ ]+', '', unidecode.unidecode(i['nombre_completo'].lower())))] = i['id_legislador']\n",
    "    else:\n",
    "        continue\n",
    "\n",
    "len(mapping64)"
   ]
  },
  {
   "cell_type": "code",
   "execution_count": null,
   "metadata": {
    "scrolled": true
   },
   "outputs": [],
   "source": [
    "## Load roll call\n",
    "with open('/Users/cblanesg/cam.blanes Dropbox/Camila Blanes/Congressional-dataMX/data/03-legislation/01-raw/bills_proposed62.json')  as read_file:\n",
    "    data = json.load(read_file)"
   ]
  },
  {
   "cell_type": "code",
   "execution_count": null,
   "metadata": {
    "scrolled": true
   },
   "outputs": [],
   "source": [
    "missing_names = []\n",
    "\n",
    "for i in tqdm(data):\n",
    "    name = unidecode.unidecode(i['name_inc'].lower())\n",
    "    try:\n",
    "        if name == 'camacho quiroz cesar':\n",
    "            i['id'] = ''\n",
    "        elif name == 'campa almaral carmen victoria':\n",
    "            i['id'] = ''\n",
    "        else:\n",
    "            i['id'] = mapping64[name]\n",
    "    except:\n",
    "        try:\n",
    "            name_matched, ratio = process.extractOne(name, list(mapping64.keys()))\n",
    "            if ratio < 94:\n",
    "                print(name_matched, ', ', name, ' : ', ratio)\n",
    "                i['id'] = ''\n",
    "            else:\n",
    "                i['id'] = mapping64[name_matched]\n",
    "        except:\n",
    "            if name not in missing_names:\n",
    "                missing_names.append(name)\n",
    "                i['id'] = ''\n",
    "            else:\n",
    "                continue"
   ]
  },
  {
   "cell_type": "code",
   "execution_count": null,
   "metadata": {},
   "outputs": [],
   "source": []
  },
  {
   "cell_type": "code",
   "execution_count": null,
   "metadata": {},
   "outputs": [],
   "source": [
    "with open('/Users/cblanesg/cam.blanes Dropbox/Camila Blanes/Congressional-dataMX/data/03-legislation/02-id_members/bills_proposed_dip62.json', 'w') as d:\n",
    "    json.dump(data, d)"
   ]
  },
  {
   "cell_type": "code",
   "execution_count": null,
   "metadata": {},
   "outputs": [],
   "source": []
  },
  {
   "cell_type": "code",
   "execution_count": null,
   "metadata": {},
   "outputs": [],
   "source": []
  },
  {
   "cell_type": "markdown",
   "metadata": {},
   "source": [
    "## Legislatura 61"
   ]
  },
  {
   "cell_type": "code",
   "execution_count": null,
   "metadata": {},
   "outputs": [],
   "source": [
    "## Load ID data\n",
    "with open('/Users/cblanesg/cam.blanes Dropbox/Camila Blanes/Congressional-dataMX/data/00-id_data/00-id/id_legislatura61.json') as f:\n",
    "    data64 = json.load(f)"
   ]
  },
  {
   "cell_type": "code",
   "execution_count": null,
   "metadata": {},
   "outputs": [],
   "source": [
    "mapping64 = {}\n",
    "for i in data64:\n",
    "    if i['nombre_completo'] not in mapping64.keys():\n",
    "        mapping64[re.sub(' [(]licencia[)]', '', re.sub('^[ ]+', '', unidecode.unidecode(i['nombre_completo'].lower())))] = i['id_legislador']\n",
    "    else:\n",
    "        continue\n",
    "\n",
    "len(mapping64)"
   ]
  },
  {
   "cell_type": "code",
   "execution_count": null,
   "metadata": {
    "scrolled": true
   },
   "outputs": [],
   "source": [
    "## Load roll call\n",
    "with open('/Users/cblanesg/cam.blanes Dropbox/Camila Blanes/Congressional-dataMX/data/03-legislation/01-raw/bills_proposed61.json')  as read_file:\n",
    "    data = json.load(read_file)"
   ]
  },
  {
   "cell_type": "code",
   "execution_count": null,
   "metadata": {
    "scrolled": true
   },
   "outputs": [],
   "source": [
    "missing_names = []\n",
    "\n",
    "for i in tqdm(data):\n",
    "    name = unidecode.unidecode(i['name_inc'].lower())\n",
    "    try:\n",
    "        if name == 'david david sami gabriel':\n",
    "            i['id'] = mapping64['david david sami']\n",
    "        elif name == 'torres abarca obdulia magdalena':\n",
    "            i['id'] =  mapping64['torres abarca o. magdalena']\n",
    "        else:\n",
    "            i['id'] = mapping64[name]\n",
    "    except:\n",
    "        try:\n",
    "            name_matched, ratio = process.extractOne(name, list(mapping64.keys()))\n",
    "            if ratio < 94:\n",
    "                print(name_matched, ', ', name, ' : ', ratio)\n",
    "                i['id'] = ''\n",
    "            else:\n",
    "                i['id'] = mapping64[name_matched]\n",
    "        except:\n",
    "            if name not in missing_names:\n",
    "                missing_names.append(name)\n",
    "                i['id'] = ''\n",
    "            else:\n",
    "                continue"
   ]
  },
  {
   "cell_type": "code",
   "execution_count": null,
   "metadata": {},
   "outputs": [],
   "source": [
    "with open('/Users/cblanesg/cam.blanes Dropbox/Camila Blanes/Congressional-dataMX/data/03-legislation/02-id_members/bills_proposed_dip61.json', 'w') as d:\n",
    "    json.dump(data, d)"
   ]
  },
  {
   "cell_type": "markdown",
   "metadata": {},
   "source": [
    "## Legislatura 60"
   ]
  },
  {
   "cell_type": "code",
   "execution_count": 3,
   "metadata": {},
   "outputs": [],
   "source": [
    "## Load ID data\n",
    "with open('/Users/cblanesg/cam.blanes Dropbox/Camila Blanes/Congressional-dataMX/data/00-id_data/00-id/id_legislatura60.json') as f:\n",
    "    data64 = json.load(f)"
   ]
  },
  {
   "cell_type": "code",
   "execution_count": 4,
   "metadata": {},
   "outputs": [
    {
     "data": {
      "text/plain": [
       "1000"
      ]
     },
     "execution_count": 4,
     "metadata": {},
     "output_type": "execute_result"
    }
   ],
   "source": [
    "mapping64 = {}\n",
    "for i in data64:\n",
    "    if i['nombre_completo'] not in mapping64.keys():\n",
    "        mapping64[re.sub(' [(]licencia[)]', '', re.sub('^[ ]+', '', unidecode.unidecode(i['nombre_completo'].lower())))] = i['id_legislador']\n",
    "    else:\n",
    "        continue\n",
    "\n",
    "len(mapping64)"
   ]
  },
  {
   "cell_type": "code",
   "execution_count": 5,
   "metadata": {
    "scrolled": true
   },
   "outputs": [],
   "source": [
    "## Load roll call\n",
    "with open('/Users/cblanesg/cam.blanes Dropbox/Camila Blanes/Congressional-dataMX/data/03-legislation/01-raw/bills_proposed60.json')  as read_file:\n",
    "    data = json.load(read_file)"
   ]
  },
  {
   "cell_type": "code",
   "execution_count": null,
   "metadata": {
    "scrolled": true
   },
   "outputs": [
    {
     "name": "stderr",
     "output_type": "stream",
     "text": [
      " 30%|███       | 1423/4727 [21:39<1:43:56,  1.89s/it]"
     ]
    },
    {
     "name": "stdout",
     "output_type": "stream",
     "text": [
      "gil ramirez moises ,  denegre-vaugth ramirez rosaura  :  86\n"
     ]
    },
    {
     "name": "stderr",
     "output_type": "stream",
     "text": [
      " 33%|███▎      | 1573/4727 [23:46<1:30:43,  1.73s/it]"
     ]
    },
    {
     "name": "stdout",
     "output_type": "stream",
     "text": [
      "rubio chavez jose ignacio alberto ,  esteva salinas alberto  :  86\n"
     ]
    },
    {
     "name": "stderr",
     "output_type": "stream",
     "text": [
      "\r",
      " 33%|███▎      | 1574/4727 [23:52<2:47:28,  3.19s/it]"
     ]
    },
    {
     "name": "stdout",
     "output_type": "stream",
     "text": [
      "rubio chavez jose ignacio alberto ,  esteva salinas alberto  :  86\n"
     ]
    },
    {
     "name": "stderr",
     "output_type": "stream",
     "text": [
      "\r",
      " 33%|███▎      | 1575/4727 [23:59<3:40:10,  4.19s/it]"
     ]
    },
    {
     "name": "stdout",
     "output_type": "stream",
     "text": [
      "rubio chavez jose ignacio alberto ,  esteva salinas alberto  :  86\n"
     ]
    },
    {
     "name": "stderr",
     "output_type": "stream",
     "text": [
      "\r",
      " 33%|███▎      | 1576/4727 [24:04<3:49:58,  4.38s/it]"
     ]
    },
    {
     "name": "stdout",
     "output_type": "stream",
     "text": [
      "rubio chavez jose ignacio alberto ,  esteva salinas alberto  :  86\n"
     ]
    },
    {
     "name": "stderr",
     "output_type": "stream",
     "text": [
      "\r",
      " 33%|███▎      | 1577/4727 [24:09<3:57:48,  4.53s/it]"
     ]
    },
    {
     "name": "stdout",
     "output_type": "stream",
     "text": [
      "rubio chavez jose ignacio alberto ,  esteva salinas alberto  :  86\n"
     ]
    },
    {
     "name": "stderr",
     "output_type": "stream",
     "text": [
      "\r",
      " 33%|███▎      | 1578/4727 [24:14<4:09:17,  4.75s/it]"
     ]
    },
    {
     "name": "stdout",
     "output_type": "stream",
     "text": [
      "rubio chavez jose ignacio alberto ,  esteva salinas alberto  :  86\n"
     ]
    },
    {
     "name": "stderr",
     "output_type": "stream",
     "text": [
      "\r",
      " 33%|███▎      | 1579/4727 [24:17<3:46:24,  4.32s/it]"
     ]
    },
    {
     "name": "stdout",
     "output_type": "stream",
     "text": [
      "rubio chavez jose ignacio alberto ,  esteva salinas alberto  :  86\n"
     ]
    },
    {
     "name": "stderr",
     "output_type": "stream",
     "text": [
      "\r",
      " 33%|███▎      | 1580/4727 [24:20<3:21:33,  3.84s/it]"
     ]
    },
    {
     "name": "stdout",
     "output_type": "stream",
     "text": [
      "rubio chavez jose ignacio alberto ,  esteva salinas alberto  :  86\n"
     ]
    },
    {
     "name": "stderr",
     "output_type": "stream",
     "text": [
      "\r",
      " 33%|███▎      | 1581/4727 [24:23<3:09:16,  3.61s/it]"
     ]
    },
    {
     "name": "stdout",
     "output_type": "stream",
     "text": [
      "rubio chavez jose ignacio alberto ,  esteva salinas alberto  :  86\n"
     ]
    },
    {
     "name": "stderr",
     "output_type": "stream",
     "text": [
      "\r",
      " 33%|███▎      | 1582/4727 [24:27<3:12:12,  3.67s/it]"
     ]
    },
    {
     "name": "stdout",
     "output_type": "stream",
     "text": [
      "rubio chavez jose ignacio alberto ,  esteva salinas alberto  :  86\n"
     ]
    },
    {
     "name": "stderr",
     "output_type": "stream",
     "text": [
      "\r",
      " 33%|███▎      | 1583/4727 [24:30<2:58:54,  3.41s/it]"
     ]
    },
    {
     "name": "stdout",
     "output_type": "stream",
     "text": [
      "rubio chavez jose ignacio alberto ,  esteva salinas alberto  :  86\n"
     ]
    },
    {
     "name": "stderr",
     "output_type": "stream",
     "text": [
      "\r",
      " 34%|███▎      | 1584/4727 [24:33<2:58:11,  3.40s/it]"
     ]
    },
    {
     "name": "stdout",
     "output_type": "stream",
     "text": [
      "rubio chavez jose ignacio alberto ,  esteva salinas alberto  :  86\n"
     ]
    },
    {
     "name": "stderr",
     "output_type": "stream",
     "text": [
      "\r",
      " 34%|███▎      | 1585/4727 [24:36<2:48:37,  3.22s/it]"
     ]
    },
    {
     "name": "stdout",
     "output_type": "stream",
     "text": [
      "rubio chavez jose ignacio alberto ,  esteva salinas alberto  :  86\n"
     ]
    },
    {
     "name": "stderr",
     "output_type": "stream",
     "text": [
      "\r",
      " 34%|███▎      | 1586/4727 [24:38<2:37:46,  3.01s/it]"
     ]
    },
    {
     "name": "stdout",
     "output_type": "stream",
     "text": [
      "rubio chavez jose ignacio alberto ,  esteva salinas alberto  :  86\n"
     ]
    },
    {
     "name": "stderr",
     "output_type": "stream",
     "text": [
      "\r",
      " 34%|███▎      | 1587/4727 [24:40<2:20:15,  2.68s/it]"
     ]
    },
    {
     "name": "stdout",
     "output_type": "stream",
     "text": [
      "rubio chavez jose ignacio alberto ,  esteva salinas alberto  :  86\n"
     ]
    },
    {
     "name": "stderr",
     "output_type": "stream",
     "text": [
      "\r",
      " 34%|███▎      | 1588/4727 [24:43<2:17:44,  2.63s/it]"
     ]
    },
    {
     "name": "stdout",
     "output_type": "stream",
     "text": [
      "rubio chavez jose ignacio alberto ,  esteva salinas alberto  :  86\n"
     ]
    },
    {
     "name": "stderr",
     "output_type": "stream",
     "text": [
      "\r",
      " 34%|███▎      | 1589/4727 [24:45<2:12:12,  2.53s/it]"
     ]
    },
    {
     "name": "stdout",
     "output_type": "stream",
     "text": [
      "rubio chavez jose ignacio alberto ,  esteva salinas alberto  :  86\n"
     ]
    },
    {
     "name": "stderr",
     "output_type": "stream",
     "text": [
      " 38%|███▊      | 1812/4727 [25:54<2:11:35,  2.71s/it]"
     ]
    },
    {
     "name": "stdout",
     "output_type": "stream",
     "text": [
      "ma. guadalupe josefina garcia noriega ,  garcia noriega maria guadalupe josefina  :  91\n"
     ]
    },
    {
     "name": "stderr",
     "output_type": "stream",
     "text": [
      "\r",
      " 38%|███▊      | 1813/4727 [26:05<4:12:54,  5.21s/it]"
     ]
    },
    {
     "name": "stdout",
     "output_type": "stream",
     "text": [
      "ma. guadalupe josefina garcia noriega ,  garcia noriega maria guadalupe josefina  :  91\n"
     ]
    },
    {
     "name": "stderr",
     "output_type": "stream",
     "text": [
      "\r",
      " 38%|███▊      | 1814/4727 [26:16<5:28:25,  6.76s/it]"
     ]
    },
    {
     "name": "stdout",
     "output_type": "stream",
     "text": [
      "ma. guadalupe josefina garcia noriega ,  garcia noriega maria guadalupe josefina  :  91\n"
     ]
    },
    {
     "name": "stderr",
     "output_type": "stream",
     "text": [
      "\r",
      " 38%|███▊      | 1815/4727 [26:25<6:06:10,  7.54s/it]"
     ]
    },
    {
     "name": "stdout",
     "output_type": "stream",
     "text": [
      "ma. guadalupe josefina garcia noriega ,  garcia noriega maria guadalupe josefina  :  91\n"
     ]
    },
    {
     "name": "stderr",
     "output_type": "stream",
     "text": [
      "\r",
      " 38%|███▊      | 1816/4727 [26:39<7:40:15,  9.49s/it]"
     ]
    },
    {
     "name": "stdout",
     "output_type": "stream",
     "text": [
      "ma. guadalupe josefina garcia noriega ,  garcia noriega maria guadalupe josefina  :  91\n"
     ]
    },
    {
     "name": "stderr",
     "output_type": "stream",
     "text": [
      "\r",
      " 38%|███▊      | 1817/4727 [26:59<10:11:52, 12.62s/it]"
     ]
    },
    {
     "name": "stdout",
     "output_type": "stream",
     "text": [
      "ma. guadalupe josefina garcia noriega ,  garcia noriega maria guadalupe josefina  :  91\n"
     ]
    },
    {
     "name": "stderr",
     "output_type": "stream",
     "text": [
      "\r",
      " 38%|███▊      | 1818/4727 [27:14<10:53:34, 13.48s/it]"
     ]
    },
    {
     "name": "stdout",
     "output_type": "stream",
     "text": [
      "ma. guadalupe josefina garcia noriega ,  garcia noriega maria guadalupe josefina  :  91\n"
     ]
    },
    {
     "name": "stderr",
     "output_type": "stream",
     "text": [
      " 44%|████▍     | 2069/4727 [30:20<3:40:36,  4.98s/it] "
     ]
    },
    {
     "name": "stdout",
     "output_type": "stream",
     "text": [
      "gonzalez sanchez ma. dolores ,  gonzalez sanchez maria dolores  :  93\n"
     ]
    },
    {
     "name": "stderr",
     "output_type": "stream",
     "text": [
      "\r",
      " 44%|████▍     | 2070/4727 [30:24<3:25:59,  4.65s/it]"
     ]
    },
    {
     "name": "stdout",
     "output_type": "stream",
     "text": [
      "gonzalez sanchez ma. dolores ,  gonzalez sanchez maria dolores  :  93\n"
     ]
    },
    {
     "name": "stderr",
     "output_type": "stream",
     "text": [
      " 54%|█████▍    | 2561/4727 [37:13<2:21:42,  3.93s/it]"
     ]
    },
    {
     "name": "stdout",
     "output_type": "stream",
     "text": [
      "lopez torres ma. soledad ,  lopez torres maria soledad  :  92\n"
     ]
    },
    {
     "name": "stderr",
     "output_type": "stream",
     "text": [
      "\r",
      " 57%|█████▋    | 2685/4727 [37:15<1:33:43,  2.75s/it]"
     ]
    },
    {
     "name": "stdout",
     "output_type": "stream",
     "text": [
      "maciel ortiz ma. mercedes ,  maciel ortiz maria mercedez  :  88\n",
      "maciel ortiz ma. mercedes ,  maciel ortiz maria mercedez  :  88\n"
     ]
    },
    {
     "name": "stderr",
     "output_type": "stream",
     "text": [
      "\r",
      " 57%|█████▋    | 2687/4727 [37:20<1:31:42,  2.70s/it]"
     ]
    },
    {
     "name": "stdout",
     "output_type": "stream",
     "text": [
      "maciel ortiz ma. mercedes ,  maciel ortiz maria mercedez  :  88\n"
     ]
    },
    {
     "name": "stderr",
     "output_type": "stream",
     "text": [
      " 63%|██████▎   | 2964/4727 [39:44<3:49:09,  7.80s/it]"
     ]
    },
    {
     "name": "stdout",
     "output_type": "stream",
     "text": [
      "fernando moctezuma pereda ,  moctezuma pereda fernando quetzalcoatl  :  86\n"
     ]
    },
    {
     "name": "stderr",
     "output_type": "stream",
     "text": [
      "\r",
      " 63%|██████▎   | 2965/4727 [39:52<3:55:18,  8.01s/it]"
     ]
    },
    {
     "name": "stdout",
     "output_type": "stream",
     "text": [
      "fernando moctezuma pereda ,  moctezuma pereda fernando quetzalcoatl  :  86\n"
     ]
    },
    {
     "name": "stderr",
     "output_type": "stream",
     "text": [
      "\r",
      " 63%|██████▎   | 2966/4727 [40:01<4:03:15,  8.29s/it]"
     ]
    },
    {
     "name": "stdout",
     "output_type": "stream",
     "text": [
      "fernando moctezuma pereda ,  moctezuma pereda fernando quetzalcoatl  :  86\n"
     ]
    },
    {
     "name": "stderr",
     "output_type": "stream",
     "text": [
      "\r",
      " 63%|██████▎   | 2967/4727 [40:15<4:53:22, 10.00s/it]"
     ]
    },
    {
     "name": "stdout",
     "output_type": "stream",
     "text": [
      "fernando moctezuma pereda ,  moctezuma pereda fernando quetzalcoatl  :  86\n"
     ]
    },
    {
     "name": "stderr",
     "output_type": "stream",
     "text": [
      "\r",
      " 63%|██████▎   | 2968/4727 [40:28<5:16:56, 10.81s/it]"
     ]
    },
    {
     "name": "stdout",
     "output_type": "stream",
     "text": [
      "fernando moctezuma pereda ,  moctezuma pereda fernando quetzalcoatl  :  86\n"
     ]
    },
    {
     "name": "stderr",
     "output_type": "stream",
     "text": [
      "\r",
      " 63%|██████▎   | 2969/4727 [40:42<5:41:27, 11.65s/it]"
     ]
    },
    {
     "name": "stdout",
     "output_type": "stream",
     "text": [
      "fernando moctezuma pereda ,  moctezuma pereda fernando quetzalcoatl  :  86\n"
     ]
    },
    {
     "name": "stderr",
     "output_type": "stream",
     "text": [
      "\r",
      " 63%|██████▎   | 2970/4727 [40:54<5:51:07, 11.99s/it]"
     ]
    },
    {
     "name": "stdout",
     "output_type": "stream",
     "text": [
      "fernando moctezuma pereda ,  moctezuma pereda fernando quetzalcoatl  :  86\n"
     ]
    },
    {
     "name": "stderr",
     "output_type": "stream",
     "text": [
      "\r",
      " 63%|██████▎   | 2971/4727 [41:03<5:24:40, 11.09s/it]"
     ]
    },
    {
     "name": "stdout",
     "output_type": "stream",
     "text": [
      "fernando moctezuma pereda ,  moctezuma pereda fernando quetzalcoatl  :  86\n"
     ]
    },
    {
     "name": "stderr",
     "output_type": "stream",
     "text": [
      "\r",
      " 63%|██████▎   | 2972/4727 [41:12<5:06:17, 10.47s/it]"
     ]
    },
    {
     "name": "stdout",
     "output_type": "stream",
     "text": [
      "fernando moctezuma pereda ,  moctezuma pereda fernando quetzalcoatl  :  86\n"
     ]
    },
    {
     "name": "stderr",
     "output_type": "stream",
     "text": [
      "\r",
      " 63%|██████▎   | 2973/4727 [41:24<5:18:39, 10.90s/it]"
     ]
    },
    {
     "name": "stdout",
     "output_type": "stream",
     "text": [
      "fernando moctezuma pereda ,  moctezuma pereda fernando quetzalcoatl  :  86\n"
     ]
    },
    {
     "name": "stderr",
     "output_type": "stream",
     "text": [
      "\r",
      " 63%|██████▎   | 2974/4727 [41:35<5:14:11, 10.75s/it]"
     ]
    },
    {
     "name": "stdout",
     "output_type": "stream",
     "text": [
      "fernando moctezuma pereda ,  moctezuma pereda fernando quetzalcoatl  :  86\n"
     ]
    },
    {
     "name": "stderr",
     "output_type": "stream",
     "text": [
      "\r",
      " 63%|██████▎   | 2975/4727 [41:48<5:40:49, 11.67s/it]"
     ]
    },
    {
     "name": "stdout",
     "output_type": "stream",
     "text": [
      "fernando moctezuma pereda ,  moctezuma pereda fernando quetzalcoatl  :  86\n"
     ]
    },
    {
     "name": "stderr",
     "output_type": "stream",
     "text": [
      "\r",
      " 63%|██████▎   | 2976/4727 [42:00<5:41:08, 11.69s/it]"
     ]
    },
    {
     "name": "stdout",
     "output_type": "stream",
     "text": [
      "fernando moctezuma pereda ,  moctezuma pereda fernando quetzalcoatl  :  86\n"
     ]
    },
    {
     "name": "stderr",
     "output_type": "stream",
     "text": [
      "\r",
      " 63%|██████▎   | 2977/4727 [42:10<5:28:33, 11.26s/it]"
     ]
    },
    {
     "name": "stdout",
     "output_type": "stream",
     "text": [
      "fernando moctezuma pereda ,  moctezuma pereda fernando quetzalcoatl  :  86\n"
     ]
    },
    {
     "name": "stderr",
     "output_type": "stream",
     "text": [
      "\r",
      " 63%|██████▎   | 2978/4727 [42:17<4:43:37,  9.73s/it]"
     ]
    },
    {
     "name": "stdout",
     "output_type": "stream",
     "text": [
      "fernando moctezuma pereda ,  moctezuma pereda fernando quetzalcoatl  :  86\n"
     ]
    },
    {
     "name": "stderr",
     "output_type": "stream",
     "text": [
      "\r",
      " 63%|██████▎   | 2979/4727 [42:24<4:24:51,  9.09s/it]"
     ]
    },
    {
     "name": "stdout",
     "output_type": "stream",
     "text": [
      "fernando moctezuma pereda ,  moctezuma pereda fernando quetzalcoatl  :  86\n"
     ]
    },
    {
     "name": "stderr",
     "output_type": "stream",
     "text": [
      "\r",
      " 63%|██████▎   | 2980/4727 [42:32<4:13:44,  8.71s/it]"
     ]
    },
    {
     "name": "stdout",
     "output_type": "stream",
     "text": [
      "fernando moctezuma pereda ,  moctezuma pereda fernando quetzalcoatl  :  86\n"
     ]
    },
    {
     "name": "stderr",
     "output_type": "stream",
     "text": [
      "\r",
      " 63%|██████▎   | 2981/4727 [42:39<3:59:35,  8.23s/it]"
     ]
    },
    {
     "name": "stdout",
     "output_type": "stream",
     "text": [
      "fernando moctezuma pereda ,  moctezuma pereda fernando quetzalcoatl  :  86\n"
     ]
    },
    {
     "name": "stderr",
     "output_type": "stream",
     "text": [
      "\r",
      " 63%|██████▎   | 2982/4727 [42:45<3:37:41,  7.49s/it]"
     ]
    },
    {
     "name": "stdout",
     "output_type": "stream",
     "text": [
      "fernando moctezuma pereda ,  moctezuma pereda fernando quetzalcoatl  :  86\n"
     ]
    },
    {
     "name": "stderr",
     "output_type": "stream",
     "text": [
      "\r",
      " 63%|██████▎   | 2983/4727 [42:52<3:32:57,  7.33s/it]"
     ]
    },
    {
     "name": "stdout",
     "output_type": "stream",
     "text": [
      "fernando moctezuma pereda ,  moctezuma pereda fernando quetzalcoatl  :  86\n"
     ]
    },
    {
     "name": "stderr",
     "output_type": "stream",
     "text": [
      "\r",
      " 63%|██████▎   | 2984/4727 [42:58<3:25:22,  7.07s/it]"
     ]
    },
    {
     "name": "stdout",
     "output_type": "stream",
     "text": [
      "fernando moctezuma pereda ,  moctezuma pereda fernando quetzalcoatl  :  86\n"
     ]
    },
    {
     "name": "stderr",
     "output_type": "stream",
     "text": [
      "\r",
      " 63%|██████▎   | 2985/4727 [43:06<3:29:09,  7.20s/it]"
     ]
    },
    {
     "name": "stdout",
     "output_type": "stream",
     "text": [
      "fernando moctezuma pereda ,  moctezuma pereda fernando quetzalcoatl  :  86\n"
     ]
    },
    {
     "name": "stderr",
     "output_type": "stream",
     "text": [
      "\r",
      " 63%|██████▎   | 2986/4727 [43:13<3:26:47,  7.13s/it]"
     ]
    },
    {
     "name": "stdout",
     "output_type": "stream",
     "text": [
      "fernando moctezuma pereda ,  moctezuma pereda fernando quetzalcoatl  :  86\n"
     ]
    },
    {
     "name": "stderr",
     "output_type": "stream",
     "text": [
      "\r",
      " 63%|██████▎   | 2987/4727 [43:22<3:41:15,  7.63s/it]"
     ]
    },
    {
     "name": "stdout",
     "output_type": "stream",
     "text": [
      "fernando moctezuma pereda ,  moctezuma pereda fernando quetzalcoatl  :  86\n"
     ]
    },
    {
     "name": "stderr",
     "output_type": "stream",
     "text": [
      "\r",
      " 63%|██████▎   | 2988/4727 [43:31<3:55:58,  8.14s/it]"
     ]
    },
    {
     "name": "stdout",
     "output_type": "stream",
     "text": [
      "fernando moctezuma pereda ,  moctezuma pereda fernando quetzalcoatl  :  86\n"
     ]
    },
    {
     "name": "stderr",
     "output_type": "stream",
     "text": [
      "\r",
      " 63%|██████▎   | 2989/4727 [43:41<4:15:45,  8.83s/it]"
     ]
    },
    {
     "name": "stdout",
     "output_type": "stream",
     "text": [
      "fernando moctezuma pereda ,  moctezuma pereda fernando quetzalcoatl  :  86\n"
     ]
    }
   ],
   "source": [
    "missing_names = []\n",
    "\n",
    "for i in tqdm(data):\n",
    "    name = unidecode.unidecode(i['name_inc'].lower())\n",
    "    try:\n",
    "        if name == 'antuna batista fidel':\n",
    "            i['id'] = mapping64['fidel antuna batista (sale de funciones)']\n",
    "        elif name == 'garcia noriega maria guadalupe josefina':\n",
    "            i['id'] = mapping64['ma. guadalupe josefina garcia noriega']\n",
    "        else:\n",
    "            i['id'] = mapping64[name]\n",
    "    except:\n",
    "        try:\n",
    "            name_matched, ratio = process.extractOne(name, list(mapping64.keys()))\n",
    "            if ratio < 94:\n",
    "                print(name_matched, ', ', name, ' : ', ratio)\n",
    "                i['id'] = ''\n",
    "            else:\n",
    "                i['id'] = mapping64[name_matched]\n",
    "        except:\n",
    "            if name not in missing_names:\n",
    "                missing_names.append(name)\n",
    "                i['id'] = ''\n",
    "            else:\n",
    "                continue"
   ]
  },
  {
   "cell_type": "code",
   "execution_count": null,
   "metadata": {},
   "outputs": [],
   "source": [
    "with open('/Users/cblanesg/cam.blanes Dropbox/Camila Blanes/Congressional-dataMX/data/03-legislation/02-id_members/bills_proposed_dip60.json', 'w') as d:\n",
    "    json.dump(data, d)"
   ]
  }
 ],
 "metadata": {
  "kernelspec": {
   "display_name": "Python 3",
   "language": "python",
   "name": "python3"
  },
  "language_info": {
   "codemirror_mode": {
    "name": "ipython",
    "version": 3
   },
   "file_extension": ".py",
   "mimetype": "text/x-python",
   "name": "python",
   "nbconvert_exporter": "python",
   "pygments_lexer": "ipython3",
   "version": "3.8.3"
  }
 },
 "nbformat": 4,
 "nbformat_minor": 4
}
