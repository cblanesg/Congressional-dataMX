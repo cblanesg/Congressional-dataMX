{
 "cells": [
  {
   "cell_type": "code",
   "execution_count": 1,
   "metadata": {},
   "outputs": [],
   "source": [
    "import pandas as pd\n",
    "import json\n",
    "import os\n",
    "from os import listdir"
   ]
  },
  {
   "cell_type": "markdown",
   "metadata": {},
   "source": [
    "## Notebook to obtain main stats of the collected data"
   ]
  },
  {
   "cell_type": "markdown",
   "metadata": {},
   "source": [
    "### 0.1 id data\n",
    "    - committee data\n",
    "    - career track "
   ]
  },
  {
   "cell_type": "code",
   "execution_count": 13,
   "metadata": {},
   "outputs": [
    {
     "name": "stdout",
     "output_type": "stream",
     "text": [
      "career_track61.json\n"
     ]
    }
   ],
   "source": [
    "path_id_data = '/Users/cblanesg/cam.blanes Dropbox/Camila Blanes/Congressional-dataMX/data/00-id_data/01-career_track/'\n",
    "\n",
    "data_career = []\n",
    "for i in listdir(path_id_data):\n",
    "    try:\n",
    "        with open(path_id_data + i) as json_file:\n",
    "            data = json.load(json_file)\n",
    "        for j in data:\n",
    "            data_career.append(j)\n",
    "    except:\n",
    "        print(i)"
   ]
  },
  {
   "cell_type": "code",
   "execution_count": 19,
   "metadata": {},
   "outputs": [
    {
     "data": {
      "text/plain": [
       "array(['ESCOLARIDAD', 'CARGOS DE ELECCIÓN POPULAR',\n",
       "       'EXPERIENCIA LEGISLATIVA', 'ADMINISTRACIÓN PÚBLICA LOCAL',\n",
       "       'TRAYECTORIA POLÍTICA', 'INICIATIVA PRIVADA',\n",
       "       'ACTIVIDADES DOCENTES', 'ADMINISTRACIÓN PÚBLICA FEDERAL',\n",
       "       'ASOCIACIONES A LAS QUE PERTENECE', 'PUBLICACIONES',\n",
       "       'ACTIVIDADES EMPRESARIALES', '',\n",
       "       'CARGOS EN LEGISLATURAS LOCALES O FEDERALES',\n",
       "       'Actividad Empresarial', 'ACTIVIDAD EMPRESARIAL',\n",
       "       'ORGANISMOS INTERNACIONALES'], dtype=object)"
      ]
     },
     "execution_count": 19,
     "metadata": {},
     "output_type": "execute_result"
    }
   ],
   "source": [
    "pd.DataFrame(data_career).area_experiencia.unique()"
   ]
  },
  {
   "cell_type": "code",
   "execution_count": null,
   "metadata": {},
   "outputs": [],
   "source": []
  },
  {
   "cell_type": "code",
   "execution_count": 18,
   "metadata": {},
   "outputs": [
    {
     "data": {
      "text/html": [
       "<div>\n",
       "<style scoped>\n",
       "    .dataframe tbody tr th:only-of-type {\n",
       "        vertical-align: middle;\n",
       "    }\n",
       "\n",
       "    .dataframe tbody tr th {\n",
       "        vertical-align: top;\n",
       "    }\n",
       "\n",
       "    .dataframe thead th {\n",
       "        text-align: right;\n",
       "    }\n",
       "</style>\n",
       "<table border=\"1\" class=\"dataframe\">\n",
       "  <thead>\n",
       "    <tr style=\"text-align: right;\">\n",
       "      <th></th>\n",
       "      <th>legislatura</th>\n",
       "      <th>id_legislador</th>\n",
       "      <th>name_inc</th>\n",
       "      <th>area_experiencia</th>\n",
       "      <th>grado</th>\n",
       "      <th>institucion</th>\n",
       "      <th>tiempo</th>\n",
       "    </tr>\n",
       "  </thead>\n",
       "  <tbody>\n",
       "  </tbody>\n",
       "</table>\n",
       "</div>"
      ],
      "text/plain": [
       "Empty DataFrame\n",
       "Columns: [legislatura, id_legislador, name_inc, area_experiencia, grado, institucion, tiempo]\n",
       "Index: []"
      ]
     },
     "execution_count": 18,
     "metadata": {},
     "output_type": "execute_result"
    }
   ],
   "source": [
    "pd.DataFrame(data_career)[pd.DataFrame(data_career)['area_experiencia'].isna()]"
   ]
  },
  {
   "cell_type": "markdown",
   "metadata": {},
   "source": [
    "### 0.2 floor speeches\n",
    "    - interventions in debates\n",
    "    - full-text debates"
   ]
  },
  {
   "cell_type": "markdown",
   "metadata": {},
   "source": [
    "### 0.3 roll call votes\n",
    "    - voting behavior"
   ]
  },
  {
   "cell_type": "markdown",
   "metadata": {},
   "source": [
    "### 0.4 Legislations\n",
    "    - bills proposed"
   ]
  },
  {
   "cell_type": "markdown",
   "metadata": {},
   "source": [
    "### 0.5 Floor attendance\n",
    "    - attendance of memebrs"
   ]
  },
  {
   "cell_type": "code",
   "execution_count": null,
   "metadata": {},
   "outputs": [],
   "source": []
  },
  {
   "cell_type": "code",
   "execution_count": null,
   "metadata": {},
   "outputs": [],
   "source": []
  },
  {
   "cell_type": "code",
   "execution_count": null,
   "metadata": {},
   "outputs": [],
   "source": []
  }
 ],
 "metadata": {
  "kernelspec": {
   "display_name": "Python 3",
   "language": "python",
   "name": "python3"
  },
  "language_info": {
   "codemirror_mode": {
    "name": "ipython",
    "version": 3
   },
   "file_extension": ".py",
   "mimetype": "text/x-python",
   "name": "python",
   "nbconvert_exporter": "python",
   "pygments_lexer": "ipython3",
   "version": "3.8.3"
  }
 },
 "nbformat": 4,
 "nbformat_minor": 4
}
