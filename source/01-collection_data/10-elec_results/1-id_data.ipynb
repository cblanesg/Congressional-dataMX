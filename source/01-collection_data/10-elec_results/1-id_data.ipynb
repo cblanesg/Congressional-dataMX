{
 "cells": [
  {
   "cell_type": "code",
   "execution_count": 84,
   "metadata": {},
   "outputs": [],
   "source": [
    "import pandas as pd\n",
    "from os import listdir\n",
    "import numpy as np"
   ]
  },
  {
   "cell_type": "code",
   "execution_count": 85,
   "metadata": {},
   "outputs": [],
   "source": [
    "path = '/Users/cblanesg/cam.blanes Dropbox/Camila Blanes/Congressional-dataMX/data/01-collection_data/10-elec_results/2-clean/'"
   ]
  },
  {
   "cell_type": "code",
   "execution_count": 86,
   "metadata": {},
   "outputs": [],
   "source": [
    "id_data = pd.read_excel('/Users/cblanesg/cam.blanes Dropbox/Camila Blanes/Congressional-dataMX/data/01-collection_data/00-id_data/00-id/id_data_aggregate.xlsx')"
   ]
  },
  {
   "cell_type": "code",
   "execution_count": 87,
   "metadata": {
    "scrolled": true
   },
   "outputs": [],
   "source": [
    "ids_estados = { 'Mexico': 15,\n",
    "'Guerrero': 12,\n",
    " 'Sinaloa': 25,\n",
    "'Michoacan': 16,\n",
    " 'Jalisco': 14,\n",
    " 'Sonora': 26,\n",
    " 'Guanajuato': 11,\n",
    " 'Zacatecas': 32,\n",
    " 'Aguascalientes': 1,\n",
    " 'Queretaro': 22,\n",
    " 'Ciudad de Mexico': 9,\n",
    " 'Veracruz': 30,\n",
    " 'Nuevo Leon': 19,\n",
    " 'Puebla': 21,\n",
    " 'Morelos': 17,\n",
    " 'Coahuila':5 ,\n",
    " 'Chihuahua':8,\n",
    " 'San Luis Potosi': 24,\n",
    " 'Colima':6 ,\n",
    " 'Baja California': 2,\n",
    " 'Oaxaca': 20,\n",
    " 'Yucatan': 31,\n",
    " 'Tamaulipas': 28,\n",
    " 'Tlaxcala': 29,\n",
    " 'Chiapas':7,\n",
    " 'Durango':10 ,\n",
    " 'Quintana Roo': 23,\n",
    " 'Hidalgo': 13,\n",
    " 'Nayarit': 18,\n",
    " 'Campeche': 4,\n",
    " 'Tabasco': 27,\n",
    " 'Baja California Sur': 3}"
   ]
  },
  {
   "cell_type": "code",
   "execution_count": 88,
   "metadata": {},
   "outputs": [],
   "source": [
    "ids_estados_reverse = {}\n",
    "for x, y in ids_estados.items():\n",
    "    ids_estados_reverse[y] = x"
   ]
  },
  {
   "cell_type": "code",
   "execution_count": 89,
   "metadata": {},
   "outputs": [],
   "source": [
    "df = pd.read_excel(path + listdir(path)[2])"
   ]
  },
  {
   "cell_type": "code",
   "execution_count": 90,
   "metadata": {
    "scrolled": true
   },
   "outputs": [],
   "source": [
    "all_data = []\n",
    "for i in listdir(path):\n",
    "    df = pd.read_excel(path + i)\n",
    "    df = df.rename(columns = {'ID_ESTADO':'estado', \n",
    "                             'ESTADO':'estado'})\n",
    "    df['entidad'] = df.apply(lambda x: ids_estados_reverse[x['estado']], axis = 1)\n",
    "    df_clean = df[['legislatura','entidad','estado', 'distrito', 'margin_victory']]\n",
    "    all_data.append(df_clean)\n",
    "all_data = pd.concat(all_data)   "
   ]
  },
  {
   "cell_type": "code",
   "execution_count": 93,
   "metadata": {},
   "outputs": [],
   "source": [
    "id_data_clean = id_data[['id_legislador','legislatura', 'entidad', 'distrito', 'tipo_legislador']]"
   ]
  },
  {
   "cell_type": "code",
   "execution_count": 94,
   "metadata": {},
   "outputs": [],
   "source": [
    "id_data_clean = id_data_clean[id_data_clean['tipo_legislador'] == 'Mayoria Relativa'].drop_duplicates()"
   ]
  },
  {
   "cell_type": "code",
   "execution_count": 95,
   "metadata": {},
   "outputs": [],
   "source": [
    "data = pd.merge(left = id_data_clean, \n",
    "        right = all_data, \n",
    "        on = ['legislatura', \n",
    "             'entidad', \n",
    "             'distrito'], \n",
    "        how = 'left')"
   ]
  },
  {
   "cell_type": "code",
   "execution_count": 96,
   "metadata": {},
   "outputs": [],
   "source": [
    "data['type_election'] = np.where(data['margin_victory'] > 0.132, 'loose_election', 'close_election')"
   ]
  },
  {
   "cell_type": "code",
   "execution_count": 97,
   "metadata": {},
   "outputs": [
    {
     "data": {
      "text/html": [
       "<div>\n",
       "<style scoped>\n",
       "    .dataframe tbody tr th:only-of-type {\n",
       "        vertical-align: middle;\n",
       "    }\n",
       "\n",
       "    .dataframe tbody tr th {\n",
       "        vertical-align: top;\n",
       "    }\n",
       "\n",
       "    .dataframe thead th {\n",
       "        text-align: right;\n",
       "    }\n",
       "</style>\n",
       "<table border=\"1\" class=\"dataframe\">\n",
       "  <thead>\n",
       "    <tr style=\"text-align: right;\">\n",
       "      <th></th>\n",
       "      <th>entidad</th>\n",
       "    </tr>\n",
       "    <tr>\n",
       "      <th>type_election</th>\n",
       "      <th></th>\n",
       "    </tr>\n",
       "  </thead>\n",
       "  <tbody>\n",
       "    <tr>\n",
       "      <th>close_election</th>\n",
       "      <td>1732</td>\n",
       "    </tr>\n",
       "    <tr>\n",
       "      <th>loose_election</th>\n",
       "      <td>1268</td>\n",
       "    </tr>\n",
       "  </tbody>\n",
       "</table>\n",
       "</div>"
      ],
      "text/plain": [
       "                entidad\n",
       "type_election          \n",
       "close_election     1732\n",
       "loose_election     1268"
      ]
     },
     "execution_count": 97,
     "metadata": {},
     "output_type": "execute_result"
    }
   ],
   "source": [
    "data[['entidad', 'type_election']].groupby('type_election').count()"
   ]
  },
  {
   "cell_type": "code",
   "execution_count": 100,
   "metadata": {},
   "outputs": [],
   "source": [
    "data.to_excel('/Users/cblanesg/cam.blanes Dropbox/Camila Blanes/Congressional-dataMX/data/01-collection_data/10-elec_results/3-id_data/elec_results_id.xlsx')"
   ]
  }
 ],
 "metadata": {
  "kernelspec": {
   "display_name": "Python 3",
   "language": "python",
   "name": "python3"
  },
  "language_info": {
   "codemirror_mode": {
    "name": "ipython",
    "version": 3
   },
   "file_extension": ".py",
   "mimetype": "text/x-python",
   "name": "python",
   "nbconvert_exporter": "python",
   "pygments_lexer": "ipython3",
   "version": "3.8.3"
  }
 },
 "nbformat": 4,
 "nbformat_minor": 4
}
