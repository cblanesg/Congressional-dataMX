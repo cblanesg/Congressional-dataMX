{
 "cells": [
  {
   "cell_type": "code",
   "execution_count": 50,
   "metadata": {},
   "outputs": [],
   "source": [
    "import pandas as pd\n",
    "from os import listdir"
   ]
  },
  {
   "cell_type": "code",
   "execution_count": 51,
   "metadata": {},
   "outputs": [],
   "source": [
    "import warnings\n",
    "warnings.filterwarnings(\"ignore\")"
   ]
  },
  {
   "cell_type": "code",
   "execution_count": 6,
   "metadata": {},
   "outputs": [],
   "source": [
    "path = '/Users/cblanesg/cam.blanes Dropbox/Camila Blanes/Congressional-dataMX/data/01-collection_data/10-elec_results/1-raw_data/'"
   ]
  },
  {
   "cell_type": "code",
   "execution_count": 7,
   "metadata": {},
   "outputs": [
    {
     "data": {
      "text/plain": [
       "['elec_results60.xlsx',\n",
       " 'elec_results61.xlsx',\n",
       " 'elec_results64.csv',\n",
       " 'elec_results62.xlsx',\n",
       " 'elec_results63.xlsx']"
      ]
     },
     "execution_count": 7,
     "metadata": {},
     "output_type": "execute_result"
    }
   ],
   "source": [
    "listdir(path)"
   ]
  },
  {
   "cell_type": "code",
   "execution_count": 9,
   "metadata": {},
   "outputs": [],
   "source": [
    "results60 = pd.read_excel(path + listdir(path)[0])"
   ]
  },
  {
   "cell_type": "code",
   "execution_count": 11,
   "metadata": {},
   "outputs": [
    {
     "data": {
      "text/plain": [
       "Index(['ID_ESTADO', 'DISTRITO', 'SECCION', 'ID_CASILLA', 'TIPO_CASILLA',\n",
       "       'EXT_CONTIGUA', 'TIPO_CANDIDATURA', 'TIPO_ACTA', 'LISTA_NOMINAL',\n",
       "       'NO_VOTOS_NULOS', 'NO_VOTOS_CAN_NREG', 'NO_VOTOS_VALIDOS',\n",
       "       'TOTAL_VOTOS', 'ORDEN', 'PAN', 'APM', 'PBT', 'NA', 'ASDC', 'MUNICIPIO',\n",
       "       'PAQUETE_ENTREGADO', 'CASILLA_INSTALADA', 'FECHA_HORA'],\n",
       "      dtype='object')"
      ]
     },
     "execution_count": 11,
     "metadata": {},
     "output_type": "execute_result"
    }
   ],
   "source": [
    "results60.columns"
   ]
  },
  {
   "cell_type": "code",
   "execution_count": 16,
   "metadata": {},
   "outputs": [],
   "source": [
    "temp_results = results60[['ID_ESTADO', 'DISTRITO','PAN', 'APM', 'PBT', 'NA', 'ASDC']].groupby(['ID_ESTADO', 'DISTRITO']).sum().reset_index()"
   ]
  },
  {
   "cell_type": "code",
   "execution_count": 18,
   "metadata": {},
   "outputs": [],
   "source": [
    "temp_results['total_votes'] = temp_results.apply(lambda x: x['PAN'] + x['APM'] + x['PBT'] + x['NA'] + x['ASDC'], axis = 1)"
   ]
  },
  {
   "cell_type": "code",
   "execution_count": 21,
   "metadata": {},
   "outputs": [],
   "source": [
    "def get_vote_pct(x, y):\n",
    "    return(x/y)"
   ]
  },
  {
   "cell_type": "code",
   "execution_count": 24,
   "metadata": {},
   "outputs": [],
   "source": [
    "temp_results['pan_votes'] = temp_results.apply(lambda x: get_vote_pct(x['PAN'], x['total_votes']), axis = 1)\n",
    "temp_results['APM_votes'] = temp_results.apply(lambda x: get_vote_pct(x['APM'], x['total_votes']), axis = 1)\n",
    "temp_results['PBT_votes'] = temp_results.apply(lambda x: get_vote_pct(x['PBT'], x['total_votes']), axis = 1)\n",
    "temp_results['NA_votes'] = temp_results.apply(lambda x: get_vote_pct(x['NA'], x['total_votes']), axis = 1)\n",
    "temp_results['ASDC_votes'] = temp_results.apply(lambda x: get_vote_pct(x['ASDC'], x['total_votes']), axis = 1)"
   ]
  },
  {
   "cell_type": "code",
   "execution_count": 90,
   "metadata": {},
   "outputs": [],
   "source": [
    "def margin_victory(list_votes):\n",
    "    top_winners = sorted(list_votes)[-2:]\n",
    "    mov = round(float(top_winners[1]) - float(top_winners[0]), 3)\n",
    "    return(mov)"
   ]
  },
  {
   "cell_type": "code",
   "execution_count": 44,
   "metadata": {},
   "outputs": [],
   "source": [
    "temp_results['margin_victory'] = temp_results.apply(lambda x: margin_victory(x['pan_votes'], \n",
    "                                                                            x['APM_votes'], \n",
    "                                                                            x['PBT_votes'],\n",
    "                                                                            x['NA_votes'], \n",
    "                                                                            x['ASDC_votes']), axis = 1)"
   ]
  },
  {
   "cell_type": "code",
   "execution_count": 47,
   "metadata": {},
   "outputs": [],
   "source": [
    "results60 = temp_results[['ID_ESTADO', 'DISTRITO', 'margin_victory']]"
   ]
  },
  {
   "cell_type": "code",
   "execution_count": 52,
   "metadata": {},
   "outputs": [],
   "source": [
    "results60['legislatura'] = 60"
   ]
  },
  {
   "cell_type": "code",
   "execution_count": 95,
   "metadata": {},
   "outputs": [],
   "source": [
    "results60 = results60.rename(columns = {'ID:ESTADO':'estado', \n",
    "                           'DISTRITO':'distrito'})"
   ]
  },
  {
   "cell_type": "code",
   "execution_count": 96,
   "metadata": {},
   "outputs": [],
   "source": [
    "results60.to_excel('/Users/cblanesg/cam.blanes Dropbox/Camila Blanes/Congressional-dataMX/data/01-collection_data/10-elec_results/2-clean/elec_results60.xlsx')"
   ]
  },
  {
   "cell_type": "markdown",
   "metadata": {},
   "source": [
    "### Legislatura 61"
   ]
  },
  {
   "cell_type": "code",
   "execution_count": 56,
   "metadata": {},
   "outputs": [],
   "source": [
    "results61 = pd.read_excel(path + listdir(path)[1])"
   ]
  },
  {
   "cell_type": "code",
   "execution_count": 84,
   "metadata": {},
   "outputs": [],
   "source": [
    "temp_results = results61[['ESTADO', 'DISTRITO','PAN', 'PRI', 'PRD', 'PVEM', 'PT', 'CONVERGENCIA',\n",
    "       'NUEVA ALIANZA', 'PSD', 'C_PRI_PVEM', 'C_PT_CONV', 'TOTAL_VOTOS']].replace('-', 0).replace(' ', 0).replace('Sin dato', 0).replace('Ilegible', 0).groupby(['ESTADO', 'DISTRITO']).sum().reset_index()"
   ]
  },
  {
   "cell_type": "code",
   "execution_count": 88,
   "metadata": {},
   "outputs": [],
   "source": [
    "temp_results['PAN'] = temp_results.apply(lambda x: get_vote_pct(x['PAN'], x['TOTAL_VOTOS']), axis = 1)\n",
    "temp_results['PRI'] = temp_results.apply(lambda x: get_vote_pct(x['PRI'], x['TOTAL_VOTOS']), axis = 1)\n",
    "temp_results['PRD'] = temp_results.apply(lambda x: get_vote_pct(x['PRD'], x['TOTAL_VOTOS']), axis = 1)\n",
    "temp_results['PVEM'] = temp_results.apply(lambda x: get_vote_pct(x['PVEM'], x['TOTAL_VOTOS']), axis = 1)\n",
    "temp_results['PT'] = temp_results.apply(lambda x: get_vote_pct(x['PT'], x['TOTAL_VOTOS']), axis = 1)\n",
    "temp_results['CONVERGENCIA'] = temp_results.apply(lambda x: get_vote_pct(x['CONVERGENCIA'], x['TOTAL_VOTOS']), axis = 1)\n",
    "temp_results['NUEVA ALIANZA'] = temp_results.apply(lambda x: get_vote_pct(x['NUEVA ALIANZA'], x['TOTAL_VOTOS']), axis = 1)\n",
    "temp_results['PSD'] = temp_results.apply(lambda x: get_vote_pct(x['PSD'], x['TOTAL_VOTOS']), axis = 1)\n",
    "temp_results['C_PT_CONV'] = temp_results.apply(lambda x: get_vote_pct(x['C_PT_CONV'], x['TOTAL_VOTOS']), axis = 1)\n",
    "temp_results['C_PRI_PVEM'] = temp_results.apply(lambda x: get_vote_pct(x['C_PRI_PVEM'], x['TOTAL_VOTOS']), axis = 1)"
   ]
  },
  {
   "cell_type": "code",
   "execution_count": 91,
   "metadata": {},
   "outputs": [],
   "source": [
    "temp_results['margin_victory'] = temp_results.apply(lambda x: margin_victory([x['PAN'], \n",
    "                                                                            x['PRI'], \n",
    "                                                                            x['PRD'],\n",
    "                                                                            x['PVEM'], \n",
    "                                                                            x['PT'],\n",
    "                                                                            x['CONVERGENCIA'], \n",
    "                                                                            x['NUEVA ALIANZA'], \n",
    "                                                                            x['PSD'],\n",
    "                                                                            x['C_PT_CONV'], \n",
    "                                                                            x['C_PRI_PVEM']]), axis = 1)"
   ]
  },
  {
   "cell_type": "code",
   "execution_count": 97,
   "metadata": {},
   "outputs": [],
   "source": [
    "results61 = temp_results[['ESTADO', 'DISTRITO', 'margin_victory']]\n",
    "results61['legislatura'] = 61\n",
    "results61 = results61.rename(columns = {'ID:ESTADO':'estado', \n",
    "                           'DISTRITO':'distrito'})\n",
    "results61.to_excel('/Users/cblanesg/cam.blanes Dropbox/Camila Blanes/Congressional-dataMX/data/01-collection_data/10-elec_results/2-clean/elec_results61.xlsx')"
   ]
  },
  {
   "cell_type": "markdown",
   "metadata": {},
   "source": [
    "### Legislatura 62"
   ]
  },
  {
   "cell_type": "code",
   "execution_count": 143,
   "metadata": {},
   "outputs": [],
   "source": [
    "import numpy as np"
   ]
  },
  {
   "cell_type": "code",
   "execution_count": 144,
   "metadata": {},
   "outputs": [],
   "source": [
    "results62 = pd.read_excel(path +'elec_results62.xlsx')"
   ]
  },
  {
   "cell_type": "code",
   "execution_count": 145,
   "metadata": {},
   "outputs": [
    {
     "data": {
      "text/plain": [
       "Index(['ID_ESTADO', 'D_DISTRITO', 'SECCION', 'ID_CASILLA', 'TIPO_CASILLA',\n",
       "       'EXT_CONTIGUA', 'TIPO_CANDIDATURA', 'CASILLA', 'ESTATUS_ACTA', 'ORDEN',\n",
       "       'LISTA_NOMINAL_CASILLA', 'ID_GRUPO', 'TIPO_RECUENTO', 'NUM_VOTOS_NULOS',\n",
       "       'NUM_VOTOS_CAN_NREG', 'NUMERO_VOTOS_VALIDOS', 'TOTAL_VOTOS',\n",
       "       'BOLETAS_INUTILIZADAS', 'PAN', 'PRI', 'PRD', 'PVEM', 'PT', 'MC',\n",
       "       'PANAL', 'PRI_PVEM', 'PRD_PT_MC', 'PRD_PT', 'PRD_MC', 'PT_MC',\n",
       "       'ID_MUNICIPIO', 'LISTA_NOMINAL', 'VOTOS_RESERVADOS'],\n",
       "      dtype='object')"
      ]
     },
     "execution_count": 145,
     "metadata": {},
     "output_type": "execute_result"
    }
   ],
   "source": [
    "results62.columns"
   ]
  },
  {
   "cell_type": "code",
   "execution_count": 146,
   "metadata": {},
   "outputs": [],
   "source": [
    "temp_results = results62[['ID_ESTADO', 'D_DISTRITO','TOTAL_VOTOS', 'PAN', 'PRI', 'PRD', 'PVEM', 'PT', 'MC',\n",
    "       'PANAL', 'PRI_PVEM', 'PRD_PT_MC', 'PRD_PT', 'PRD_MC', 'PT_MC']].replace(np.nan, 0).groupby(['ID_ESTADO', 'D_DISTRITO']).sum().reset_index()"
   ]
  },
  {
   "cell_type": "code",
   "execution_count": 147,
   "metadata": {},
   "outputs": [],
   "source": [
    "temp_results['PAN'] = temp_results.apply(lambda x: get_vote_pct(x['PAN'], x['TOTAL_VOTOS']), axis = 1)\n",
    "temp_results['PRI'] = temp_results.apply(lambda x: get_vote_pct(x['PRI'], x['TOTAL_VOTOS']), axis = 1)\n",
    "temp_results['PRD'] = temp_results.apply(lambda x: get_vote_pct(x['PRD'], x['TOTAL_VOTOS']), axis = 1)\n",
    "temp_results['PVEM'] = temp_results.apply(lambda x: get_vote_pct(x['PVEM'], x['TOTAL_VOTOS']), axis = 1)\n",
    "temp_results['PT'] = temp_results.apply(lambda x: get_vote_pct(x['PT'], x['TOTAL_VOTOS']), axis = 1)\n",
    "temp_results['MC'] = temp_results.apply(lambda x: get_vote_pct(x['MC'], x['TOTAL_VOTOS']), axis = 1)\n",
    "temp_results['PANAL'] = temp_results.apply(lambda x: get_vote_pct(x['PANAL'], x['TOTAL_VOTOS']), axis = 1)\n",
    "temp_results['PRI_PVEM'] = temp_results.apply(lambda x: get_vote_pct(x['PRI_PVEM'], x['TOTAL_VOTOS']), axis = 1)\n",
    "temp_results['PRD_PT_MC'] = temp_results.apply(lambda x: get_vote_pct(x['PRD_PT_MC'], x['TOTAL_VOTOS']), axis = 1)\n",
    "temp_results['PRD_PT'] = temp_results.apply(lambda x: get_vote_pct(x['PRD_PT'], x['TOTAL_VOTOS']), axis = 1)\n",
    "\n",
    "temp_results['PRD_MC'] = temp_results.apply(lambda x: get_vote_pct(x['PRD_MC'], x['TOTAL_VOTOS']), axis = 1)\n",
    "temp_results['PT_MC'] = temp_results.apply(lambda x: get_vote_pct(x['PT_MC'], x['TOTAL_VOTOS']), axis = 1)"
   ]
  },
  {
   "cell_type": "code",
   "execution_count": 148,
   "metadata": {},
   "outputs": [],
   "source": [
    "temp_results['margin_victory'] = temp_results.apply(lambda x: margin_victory([x['PAN'], \n",
    "                                                                            x['PRI'], \n",
    "                                                                            x['PRD'],\n",
    "                                                                            x['PVEM'], \n",
    "                                                                            x['PT'],\n",
    "                                                                            x['MC'], \n",
    "                                                                            x['PANAL'], \n",
    "                                                                            x['PRI_PVEM'],\n",
    "                                                                            x['PRD_PT_MC'], \n",
    "                                                                            x['PRD_PT'],\n",
    "                                                                             x['PRD_MC'], \n",
    "                                                                            x['PT_MC']]), axis = 1)"
   ]
  },
  {
   "cell_type": "code",
   "execution_count": 149,
   "metadata": {},
   "outputs": [],
   "source": [
    "results62 = temp_results[['ID_ESTADO', 'D_DISTRITO', 'margin_victory']]\n",
    "results62['legislatura'] = 62\n",
    "results62 = results62.rename(columns = {'ID_ESTADO':'estado', \n",
    "                           'D_DISTRITO':'distrito'})"
   ]
  },
  {
   "cell_type": "code",
   "execution_count": 150,
   "metadata": {},
   "outputs": [
    {
     "data": {
      "text/html": [
       "<div>\n",
       "<style scoped>\n",
       "    .dataframe tbody tr th:only-of-type {\n",
       "        vertical-align: middle;\n",
       "    }\n",
       "\n",
       "    .dataframe tbody tr th {\n",
       "        vertical-align: top;\n",
       "    }\n",
       "\n",
       "    .dataframe thead th {\n",
       "        text-align: right;\n",
       "    }\n",
       "</style>\n",
       "<table border=\"1\" class=\"dataframe\">\n",
       "  <thead>\n",
       "    <tr style=\"text-align: right;\">\n",
       "      <th></th>\n",
       "      <th>estado</th>\n",
       "      <th>distrito</th>\n",
       "      <th>margin_victory</th>\n",
       "      <th>legislatura</th>\n",
       "    </tr>\n",
       "  </thead>\n",
       "  <tbody>\n",
       "    <tr>\n",
       "      <th>0</th>\n",
       "      <td>1</td>\n",
       "      <td>1</td>\n",
       "      <td>0.056</td>\n",
       "      <td>62</td>\n",
       "    </tr>\n",
       "    <tr>\n",
       "      <th>1</th>\n",
       "      <td>1</td>\n",
       "      <td>2</td>\n",
       "      <td>0.001</td>\n",
       "      <td>62</td>\n",
       "    </tr>\n",
       "    <tr>\n",
       "      <th>2</th>\n",
       "      <td>1</td>\n",
       "      <td>3</td>\n",
       "      <td>0.076</td>\n",
       "      <td>62</td>\n",
       "    </tr>\n",
       "    <tr>\n",
       "      <th>3</th>\n",
       "      <td>2</td>\n",
       "      <td>1</td>\n",
       "      <td>0.032</td>\n",
       "      <td>62</td>\n",
       "    </tr>\n",
       "    <tr>\n",
       "      <th>4</th>\n",
       "      <td>2</td>\n",
       "      <td>2</td>\n",
       "      <td>0.073</td>\n",
       "      <td>62</td>\n",
       "    </tr>\n",
       "    <tr>\n",
       "      <th>...</th>\n",
       "      <td>...</td>\n",
       "      <td>...</td>\n",
       "      <td>...</td>\n",
       "      <td>...</td>\n",
       "    </tr>\n",
       "    <tr>\n",
       "      <th>295</th>\n",
       "      <td>31</td>\n",
       "      <td>5</td>\n",
       "      <td>0.022</td>\n",
       "      <td>62</td>\n",
       "    </tr>\n",
       "    <tr>\n",
       "      <th>296</th>\n",
       "      <td>32</td>\n",
       "      <td>1</td>\n",
       "      <td>0.250</td>\n",
       "      <td>62</td>\n",
       "    </tr>\n",
       "    <tr>\n",
       "      <th>297</th>\n",
       "      <td>32</td>\n",
       "      <td>2</td>\n",
       "      <td>0.118</td>\n",
       "      <td>62</td>\n",
       "    </tr>\n",
       "    <tr>\n",
       "      <th>298</th>\n",
       "      <td>32</td>\n",
       "      <td>3</td>\n",
       "      <td>0.203</td>\n",
       "      <td>62</td>\n",
       "    </tr>\n",
       "    <tr>\n",
       "      <th>299</th>\n",
       "      <td>32</td>\n",
       "      <td>4</td>\n",
       "      <td>0.231</td>\n",
       "      <td>62</td>\n",
       "    </tr>\n",
       "  </tbody>\n",
       "</table>\n",
       "<p>300 rows × 4 columns</p>\n",
       "</div>"
      ],
      "text/plain": [
       "     estado  distrito  margin_victory  legislatura\n",
       "0         1         1           0.056           62\n",
       "1         1         2           0.001           62\n",
       "2         1         3           0.076           62\n",
       "3         2         1           0.032           62\n",
       "4         2         2           0.073           62\n",
       "..      ...       ...             ...          ...\n",
       "295      31         5           0.022           62\n",
       "296      32         1           0.250           62\n",
       "297      32         2           0.118           62\n",
       "298      32         3           0.203           62\n",
       "299      32         4           0.231           62\n",
       "\n",
       "[300 rows x 4 columns]"
      ]
     },
     "execution_count": 150,
     "metadata": {},
     "output_type": "execute_result"
    }
   ],
   "source": [
    "results62"
   ]
  },
  {
   "cell_type": "code",
   "execution_count": 151,
   "metadata": {},
   "outputs": [],
   "source": [
    "results62.to_excel('/Users/cblanesg/cam.blanes Dropbox/Camila Blanes/Congressional-dataMX/data/01-collection_data/10-elec_results/2-clean/elec_results62.xlsx')"
   ]
  },
  {
   "cell_type": "markdown",
   "metadata": {},
   "source": [
    "### Legislatura 63"
   ]
  },
  {
   "cell_type": "code",
   "execution_count": 155,
   "metadata": {},
   "outputs": [],
   "source": [
    "results63 = pd.read_excel(path +'elec_results63.xlsx')"
   ]
  },
  {
   "cell_type": "code",
   "execution_count": 156,
   "metadata": {},
   "outputs": [
    {
     "data": {
      "text/plain": [
       "Index(['ESTADO', 'DISTRITO', 'SECCION', 'ID_CASILLA', 'TIPO_CASILLA',\n",
       "       'EXT_CONTIGUA', 'UBICACION_CASILLA', 'TIPO_ACTA',\n",
       "       'NUM_BOLETAS_SOBRANTES', 'TOTAL_CIUDADANOS_VOTARON',\n",
       "       'NUM_BOLETAS_EXTRAIDAS', 'PAN', 'PRI', 'PRD', 'PVEM', 'PT',\n",
       "       'MOVIMIENTO_CIUDADANO', 'NUEVA_ALIANZA', 'MORENA', 'PH', 'PS',\n",
       "       'C_PRI_PVEM', 'C_PRD_PT', 'CAND_IND_1', 'CAND_IND_2', 'NO_REGISTRADOS',\n",
       "       'NULOS', 'TOTAL_VOTOS', 'LISTA_NOMINAL', 'OBSERVACIONES',\n",
       "       'CONTABILIZADA'],\n",
       "      dtype='object')"
      ]
     },
     "execution_count": 156,
     "metadata": {},
     "output_type": "execute_result"
    }
   ],
   "source": [
    "results63.columns"
   ]
  },
  {
   "cell_type": "code",
   "execution_count": 164,
   "metadata": {},
   "outputs": [],
   "source": [
    "temp_results = results63[['ESTADO', 'DISTRITO', 'PAN', 'PRI', 'PRD', 'PVEM', 'PT',\n",
    "       'MOVIMIENTO_CIUDADANO', 'NUEVA_ALIANZA', 'MORENA', 'PH', 'PS',\n",
    "       'C_PRI_PVEM', 'C_PRD_PT']].replace(np.nan, 0).replace('-', 0).replace(' ', 0).replace('Sin dato', 0).replace('Ilegible', 0).groupby(['ESTADO', 'DISTRITO']).sum().reset_index()"
   ]
  },
  {
   "cell_type": "code",
   "execution_count": 165,
   "metadata": {},
   "outputs": [],
   "source": [
    "temp_results['TOTAL_CIUDADANOS_VOTARON'] = temp_results.apply(lambda x: x['PAN'] + \n",
    "                   x['PRI'] + \n",
    "                   x['PRD'] + \n",
    "                   x['PVEM'] + \n",
    "                   x['PT'] + \n",
    "                   x['MORENA'] + \n",
    "                   x['PH'] + \n",
    "                   x['PS'] + \n",
    "                   x['C_PRI_PVEM'] + \n",
    "                   x['C_PRD_PT'] + \n",
    "                   x['MOVIMIENTO_CIUDADANO'] + \n",
    "                   x['NUEVA_ALIANZA']  , axis = 1)"
   ]
  },
  {
   "cell_type": "code",
   "execution_count": 166,
   "metadata": {},
   "outputs": [],
   "source": [
    "temp_results['PAN'] = temp_results.apply(lambda x: get_vote_pct(x['PAN'], x['TOTAL_CIUDADANOS_VOTARON']), axis = 1)\n",
    "temp_results['PRI'] = temp_results.apply(lambda x: get_vote_pct(x['PRI'], x['TOTAL_CIUDADANOS_VOTARON']), axis = 1)\n",
    "temp_results['PRD'] = temp_results.apply(lambda x: get_vote_pct(x['PRD'], x['TOTAL_CIUDADANOS_VOTARON']), axis = 1)\n",
    "temp_results['PVEM'] = temp_results.apply(lambda x: get_vote_pct(x['PVEM'], x['TOTAL_CIUDADANOS_VOTARON']), axis = 1)\n",
    "temp_results['PT'] = temp_results.apply(lambda x: get_vote_pct(x['PT'], x['TOTAL_CIUDADANOS_VOTARON']), axis = 1)\n",
    "temp_results['MOVIMIENTO_CIUDADANO'] = temp_results.apply(lambda x: get_vote_pct(x['MOVIMIENTO_CIUDADANO'], x['TOTAL_CIUDADANOS_VOTARON']), axis = 1)\n",
    "temp_results['NUEVA_ALIANZA'] = temp_results.apply(lambda x: get_vote_pct(x['NUEVA_ALIANZA'], x['TOTAL_CIUDADANOS_VOTARON']), axis = 1)\n",
    "temp_results['MORENA'] = temp_results.apply(lambda x: get_vote_pct(x['MORENA'], x['TOTAL_CIUDADANOS_VOTARON']), axis = 1)\n",
    "temp_results['PH'] = temp_results.apply(lambda x: get_vote_pct(x['PH'], x['TOTAL_CIUDADANOS_VOTARON']), axis = 1)\n",
    "temp_results['PS'] = temp_results.apply(lambda x: get_vote_pct(x['PS'], x['TOTAL_CIUDADANOS_VOTARON']), axis = 1)\n",
    "\n",
    "temp_results['C_PRI_PVEM'] = temp_results.apply(lambda x: get_vote_pct(x['C_PRI_PVEM'], x['TOTAL_CIUDADANOS_VOTARON']), axis = 1)\n",
    "temp_results['C_PRD_PT'] = temp_results.apply(lambda x: get_vote_pct(x['C_PRD_PT'], x['TOTAL_CIUDADANOS_VOTARON']), axis = 1)"
   ]
  },
  {
   "cell_type": "code",
   "execution_count": 168,
   "metadata": {},
   "outputs": [],
   "source": [
    "temp_results['margin_victory'] = temp_results.apply(lambda x: margin_victory([x['PAN'], \n",
    "                                                                            x['PRI'], \n",
    "                                                                            x['PRD'],\n",
    "                                                                            x['PVEM'], \n",
    "                                                                            x['PT'],\n",
    "                                                                            x['MOVIMIENTO_CIUDADANO'], \n",
    "                                                                            x['NUEVA_ALIANZA'], \n",
    "                                                                            x['MORENA'],\n",
    "                                                                            x['PH'], \n",
    "                                                                            x['PS'],\n",
    "                                                                             x['C_PRI_PVEM'], \n",
    "                                                                            x['C_PRD_PT']]), axis = 1)"
   ]
  },
  {
   "cell_type": "code",
   "execution_count": 169,
   "metadata": {},
   "outputs": [],
   "source": [
    "results63 = temp_results[['ESTADO', 'DISTRITO', 'margin_victory']]\n",
    "results63['legislatura'] = 63\n",
    "results63 = results63.rename(columns = {'ESTADO':'estado', \n",
    "                           'DISTRITO':'distrito'})"
   ]
  },
  {
   "cell_type": "code",
   "execution_count": 172,
   "metadata": {},
   "outputs": [],
   "source": [
    "results63.to_excel('/Users/cblanesg/cam.blanes Dropbox/Camila Blanes/Congressional-dataMX/data/01-collection_data/10-elec_results/2-clean/elec_results63.xlsx')"
   ]
  },
  {
   "cell_type": "markdown",
   "metadata": {},
   "source": [
    "### Legislatura 64"
   ]
  },
  {
   "cell_type": "code",
   "execution_count": 175,
   "metadata": {},
   "outputs": [],
   "source": [
    "results64 = pd.read_excel(path +'elec_results64.xlsx')"
   ]
  },
  {
   "cell_type": "code",
   "execution_count": 176,
   "metadata": {},
   "outputs": [
    {
     "data": {
      "text/plain": [
       "Index(['CLAVE_CASILLA', 'CLAVE_ACTA', 'ID_ESTADO', 'NOMBRE_ESTADO',\n",
       "       'ID_DISTRITO', 'NOMBRE_DISTRITO', 'SECCION', 'ID_CASILLA',\n",
       "       'TIPO_CASILLA', 'EXT_CONTIGUA', 'CASILLA', 'NUM_ACTA_IMPRESO', 'PAN',\n",
       "       'PRI', 'PRD', 'PVEM', 'PT', 'MOVIMIENTO CIUDADANO', 'NUEVA ALIANZA',\n",
       "       'MORENA', 'ENCUENTRO SOCIAL', 'PAN_PRD_MC', 'PAN_PRD', 'PAN_MC',\n",
       "       'PRD_MC', 'PRI_PVEM_NA', 'PRI_PVEM', 'PRI_NA', 'PVEM_NA',\n",
       "       'PT_MORENA_PES', 'PT_MORENA', 'PT_PES', 'MORENA_PES', 'CAND_IND_01',\n",
       "       'CAND_IND_02', 'CNR', 'VN', 'TOTAL_VOTOS_CALCULADOS',\n",
       "       'LISTA_NOMINAL_CASILLA', 'OBSERVACIONES', 'MECANISMOS_TRASLADO',\n",
       "       'FECHA_HORA'],\n",
       "      dtype='object')"
      ]
     },
     "execution_count": 176,
     "metadata": {},
     "output_type": "execute_result"
    }
   ],
   "source": [
    "results64.columns"
   ]
  },
  {
   "cell_type": "code",
   "execution_count": 178,
   "metadata": {},
   "outputs": [],
   "source": [
    "temp_results = results64[['ID_ESTADO', 'NOMBRE_ESTADO','ID_DISTRITO', 'PAN',\n",
    "       'PRI', 'PRD', 'PVEM', 'PT', 'MOVIMIENTO CIUDADANO', 'NUEVA ALIANZA',\n",
    "       'MORENA', 'ENCUENTRO SOCIAL', 'PAN_PRD_MC', 'PAN_PRD', 'PAN_MC',\n",
    "       'PRD_MC', 'PRI_PVEM_NA', 'PRI_PVEM', 'PRI_NA', 'PVEM_NA',\n",
    "       'PT_MORENA_PES', 'PT_MORENA', 'PT_PES', 'MORENA_PES', 'CAND_IND_01',\n",
    "       'CAND_IND_02', 'CNR', 'VN', 'TOTAL_VOTOS_CALCULADOS']].replace(np.nan, 0).replace('-', 0).replace(' ', 0).replace('Sin dato', 0).replace('Ilegible', 0).groupby(['ID_ESTADO', 'NOMBRE_ESTADO','ID_DISTRITO',]).sum().reset_index()"
   ]
  },
  {
   "cell_type": "code",
   "execution_count": 180,
   "metadata": {},
   "outputs": [],
   "source": [
    "def margin_victory(list_votes, total):\n",
    "    pct = []\n",
    "    for i in list_votes:\n",
    "        pct.append(i/total)\n",
    "    top_winners = sorted(pct)[-2:]\n",
    "    mov = round(float(top_winners[1]) - float(top_winners[0]), 3)\n",
    "    return(mov)"
   ]
  },
  {
   "cell_type": "code",
   "execution_count": 183,
   "metadata": {},
   "outputs": [
    {
     "ename": "TypeError",
     "evalue": "margin_victory() missing 1 required positional argument: 'total'",
     "output_type": "error",
     "traceback": [
      "\u001b[0;31m---------------------------------------------------------------------------\u001b[0m",
      "\u001b[0;31mTypeError\u001b[0m                                 Traceback (most recent call last)",
      "\u001b[0;32m<ipython-input-183-a68f325c718a>\u001b[0m in \u001b[0;36m<module>\u001b[0;34m\u001b[0m\n\u001b[0;32m----> 1\u001b[0;31m temp_results['margin_victory'] = temp_results.apply(lambda x: margin_victory(x[['PAN',\n\u001b[0m\u001b[1;32m      2\u001b[0m        \u001b[0;34m'PRI'\u001b[0m\u001b[0;34m,\u001b[0m \u001b[0;34m'PRD'\u001b[0m\u001b[0;34m,\u001b[0m \u001b[0;34m'PVEM'\u001b[0m\u001b[0;34m,\u001b[0m \u001b[0;34m'PT'\u001b[0m\u001b[0;34m,\u001b[0m \u001b[0;34m'MOVIMIENTO CIUDADANO'\u001b[0m\u001b[0;34m,\u001b[0m \u001b[0;34m'NUEVA ALIANZA'\u001b[0m\u001b[0;34m,\u001b[0m\u001b[0;34m\u001b[0m\u001b[0;34m\u001b[0m\u001b[0m\n\u001b[1;32m      3\u001b[0m        \u001b[0;34m'MORENA'\u001b[0m\u001b[0;34m,\u001b[0m \u001b[0;34m'ENCUENTRO SOCIAL'\u001b[0m\u001b[0;34m,\u001b[0m \u001b[0;34m'PAN_PRD_MC'\u001b[0m\u001b[0;34m,\u001b[0m \u001b[0;34m'PAN_PRD'\u001b[0m\u001b[0;34m,\u001b[0m \u001b[0;34m'PAN_MC'\u001b[0m\u001b[0;34m,\u001b[0m\u001b[0;34m\u001b[0m\u001b[0;34m\u001b[0m\u001b[0m\n\u001b[1;32m      4\u001b[0m        \u001b[0;34m'PRD_MC'\u001b[0m\u001b[0;34m,\u001b[0m \u001b[0;34m'PRI_PVEM_NA'\u001b[0m\u001b[0;34m,\u001b[0m \u001b[0;34m'PRI_PVEM'\u001b[0m\u001b[0;34m,\u001b[0m \u001b[0;34m'PRI_NA'\u001b[0m\u001b[0;34m,\u001b[0m \u001b[0;34m'PVEM_NA'\u001b[0m\u001b[0;34m,\u001b[0m\u001b[0;34m\u001b[0m\u001b[0;34m\u001b[0m\u001b[0m\n\u001b[1;32m      5\u001b[0m        \u001b[0;34m'PT_MORENA_PES'\u001b[0m\u001b[0;34m,\u001b[0m \u001b[0;34m'PT_MORENA'\u001b[0m\u001b[0;34m,\u001b[0m \u001b[0;34m'PT_PES'\u001b[0m\u001b[0;34m,\u001b[0m \u001b[0;34m'MORENA_PES'\u001b[0m\u001b[0;34m,\u001b[0m \u001b[0;34m'CAND_IND_01'\u001b[0m\u001b[0;34m,\u001b[0m\u001b[0;34m\u001b[0m\u001b[0;34m\u001b[0m\u001b[0m\n",
      "\u001b[0;32m/Library/Frameworks/Python.framework/Versions/3.8/lib/python3.8/site-packages/pandas/core/frame.py\u001b[0m in \u001b[0;36mapply\u001b[0;34m(self, func, axis, raw, result_type, args, **kwds)\u001b[0m\n\u001b[1;32m   7763\u001b[0m             \u001b[0mkwds\u001b[0m\u001b[0;34m=\u001b[0m\u001b[0mkwds\u001b[0m\u001b[0;34m,\u001b[0m\u001b[0;34m\u001b[0m\u001b[0;34m\u001b[0m\u001b[0m\n\u001b[1;32m   7764\u001b[0m         )\n\u001b[0;32m-> 7765\u001b[0;31m         \u001b[0;32mreturn\u001b[0m \u001b[0mop\u001b[0m\u001b[0;34m.\u001b[0m\u001b[0mget_result\u001b[0m\u001b[0;34m(\u001b[0m\u001b[0;34m)\u001b[0m\u001b[0;34m\u001b[0m\u001b[0;34m\u001b[0m\u001b[0m\n\u001b[0m\u001b[1;32m   7766\u001b[0m \u001b[0;34m\u001b[0m\u001b[0m\n\u001b[1;32m   7767\u001b[0m     \u001b[0;32mdef\u001b[0m \u001b[0mapplymap\u001b[0m\u001b[0;34m(\u001b[0m\u001b[0mself\u001b[0m\u001b[0;34m,\u001b[0m \u001b[0mfunc\u001b[0m\u001b[0;34m,\u001b[0m \u001b[0mna_action\u001b[0m\u001b[0;34m:\u001b[0m \u001b[0mOptional\u001b[0m\u001b[0;34m[\u001b[0m\u001b[0mstr\u001b[0m\u001b[0;34m]\u001b[0m \u001b[0;34m=\u001b[0m \u001b[0;32mNone\u001b[0m\u001b[0;34m)\u001b[0m \u001b[0;34m->\u001b[0m \u001b[0mDataFrame\u001b[0m\u001b[0;34m:\u001b[0m\u001b[0;34m\u001b[0m\u001b[0;34m\u001b[0m\u001b[0m\n",
      "\u001b[0;32m/Library/Frameworks/Python.framework/Versions/3.8/lib/python3.8/site-packages/pandas/core/apply.py\u001b[0m in \u001b[0;36mget_result\u001b[0;34m(self)\u001b[0m\n\u001b[1;32m    183\u001b[0m             \u001b[0;32mreturn\u001b[0m \u001b[0mself\u001b[0m\u001b[0;34m.\u001b[0m\u001b[0mapply_raw\u001b[0m\u001b[0;34m(\u001b[0m\u001b[0;34m)\u001b[0m\u001b[0;34m\u001b[0m\u001b[0;34m\u001b[0m\u001b[0m\n\u001b[1;32m    184\u001b[0m \u001b[0;34m\u001b[0m\u001b[0m\n\u001b[0;32m--> 185\u001b[0;31m         \u001b[0;32mreturn\u001b[0m \u001b[0mself\u001b[0m\u001b[0;34m.\u001b[0m\u001b[0mapply_standard\u001b[0m\u001b[0;34m(\u001b[0m\u001b[0;34m)\u001b[0m\u001b[0;34m\u001b[0m\u001b[0;34m\u001b[0m\u001b[0m\n\u001b[0m\u001b[1;32m    186\u001b[0m \u001b[0;34m\u001b[0m\u001b[0m\n\u001b[1;32m    187\u001b[0m     \u001b[0;32mdef\u001b[0m \u001b[0mapply_empty_result\u001b[0m\u001b[0;34m(\u001b[0m\u001b[0mself\u001b[0m\u001b[0;34m)\u001b[0m\u001b[0;34m:\u001b[0m\u001b[0;34m\u001b[0m\u001b[0;34m\u001b[0m\u001b[0m\n",
      "\u001b[0;32m/Library/Frameworks/Python.framework/Versions/3.8/lib/python3.8/site-packages/pandas/core/apply.py\u001b[0m in \u001b[0;36mapply_standard\u001b[0;34m(self)\u001b[0m\n\u001b[1;32m    274\u001b[0m \u001b[0;34m\u001b[0m\u001b[0m\n\u001b[1;32m    275\u001b[0m     \u001b[0;32mdef\u001b[0m \u001b[0mapply_standard\u001b[0m\u001b[0;34m(\u001b[0m\u001b[0mself\u001b[0m\u001b[0;34m)\u001b[0m\u001b[0;34m:\u001b[0m\u001b[0;34m\u001b[0m\u001b[0;34m\u001b[0m\u001b[0m\n\u001b[0;32m--> 276\u001b[0;31m         \u001b[0mresults\u001b[0m\u001b[0;34m,\u001b[0m \u001b[0mres_index\u001b[0m \u001b[0;34m=\u001b[0m \u001b[0mself\u001b[0m\u001b[0;34m.\u001b[0m\u001b[0mapply_series_generator\u001b[0m\u001b[0;34m(\u001b[0m\u001b[0;34m)\u001b[0m\u001b[0;34m\u001b[0m\u001b[0;34m\u001b[0m\u001b[0m\n\u001b[0m\u001b[1;32m    277\u001b[0m \u001b[0;34m\u001b[0m\u001b[0m\n\u001b[1;32m    278\u001b[0m         \u001b[0;31m# wrap results\u001b[0m\u001b[0;34m\u001b[0m\u001b[0;34m\u001b[0m\u001b[0;34m\u001b[0m\u001b[0m\n",
      "\u001b[0;32m/Library/Frameworks/Python.framework/Versions/3.8/lib/python3.8/site-packages/pandas/core/apply.py\u001b[0m in \u001b[0;36mapply_series_generator\u001b[0;34m(self)\u001b[0m\n\u001b[1;32m    288\u001b[0m             \u001b[0;32mfor\u001b[0m \u001b[0mi\u001b[0m\u001b[0;34m,\u001b[0m \u001b[0mv\u001b[0m \u001b[0;32min\u001b[0m \u001b[0menumerate\u001b[0m\u001b[0;34m(\u001b[0m\u001b[0mseries_gen\u001b[0m\u001b[0;34m)\u001b[0m\u001b[0;34m:\u001b[0m\u001b[0;34m\u001b[0m\u001b[0;34m\u001b[0m\u001b[0m\n\u001b[1;32m    289\u001b[0m                 \u001b[0;31m# ignore SettingWithCopy here in case the user mutates\u001b[0m\u001b[0;34m\u001b[0m\u001b[0;34m\u001b[0m\u001b[0;34m\u001b[0m\u001b[0m\n\u001b[0;32m--> 290\u001b[0;31m                 \u001b[0mresults\u001b[0m\u001b[0;34m[\u001b[0m\u001b[0mi\u001b[0m\u001b[0;34m]\u001b[0m \u001b[0;34m=\u001b[0m \u001b[0mself\u001b[0m\u001b[0;34m.\u001b[0m\u001b[0mf\u001b[0m\u001b[0;34m(\u001b[0m\u001b[0mv\u001b[0m\u001b[0;34m)\u001b[0m\u001b[0;34m\u001b[0m\u001b[0;34m\u001b[0m\u001b[0m\n\u001b[0m\u001b[1;32m    291\u001b[0m                 \u001b[0;32mif\u001b[0m \u001b[0misinstance\u001b[0m\u001b[0;34m(\u001b[0m\u001b[0mresults\u001b[0m\u001b[0;34m[\u001b[0m\u001b[0mi\u001b[0m\u001b[0;34m]\u001b[0m\u001b[0;34m,\u001b[0m \u001b[0mABCSeries\u001b[0m\u001b[0;34m)\u001b[0m\u001b[0;34m:\u001b[0m\u001b[0;34m\u001b[0m\u001b[0;34m\u001b[0m\u001b[0m\n\u001b[1;32m    292\u001b[0m                     \u001b[0;31m# If we have a view on v, we need to make a copy because\u001b[0m\u001b[0;34m\u001b[0m\u001b[0;34m\u001b[0m\u001b[0;34m\u001b[0m\u001b[0m\n",
      "\u001b[0;32m<ipython-input-183-a68f325c718a>\u001b[0m in \u001b[0;36m<lambda>\u001b[0;34m(x)\u001b[0m\n\u001b[0;32m----> 1\u001b[0;31m temp_results['margin_victory'] = temp_results.apply(lambda x: margin_victory(x[['PAN',\n\u001b[0m\u001b[1;32m      2\u001b[0m        \u001b[0;34m'PRI'\u001b[0m\u001b[0;34m,\u001b[0m \u001b[0;34m'PRD'\u001b[0m\u001b[0;34m,\u001b[0m \u001b[0;34m'PVEM'\u001b[0m\u001b[0;34m,\u001b[0m \u001b[0;34m'PT'\u001b[0m\u001b[0;34m,\u001b[0m \u001b[0;34m'MOVIMIENTO CIUDADANO'\u001b[0m\u001b[0;34m,\u001b[0m \u001b[0;34m'NUEVA ALIANZA'\u001b[0m\u001b[0;34m,\u001b[0m\u001b[0;34m\u001b[0m\u001b[0;34m\u001b[0m\u001b[0m\n\u001b[1;32m      3\u001b[0m        \u001b[0;34m'MORENA'\u001b[0m\u001b[0;34m,\u001b[0m \u001b[0;34m'ENCUENTRO SOCIAL'\u001b[0m\u001b[0;34m,\u001b[0m \u001b[0;34m'PAN_PRD_MC'\u001b[0m\u001b[0;34m,\u001b[0m \u001b[0;34m'PAN_PRD'\u001b[0m\u001b[0;34m,\u001b[0m \u001b[0;34m'PAN_MC'\u001b[0m\u001b[0;34m,\u001b[0m\u001b[0;34m\u001b[0m\u001b[0;34m\u001b[0m\u001b[0m\n\u001b[1;32m      4\u001b[0m        \u001b[0;34m'PRD_MC'\u001b[0m\u001b[0;34m,\u001b[0m \u001b[0;34m'PRI_PVEM_NA'\u001b[0m\u001b[0;34m,\u001b[0m \u001b[0;34m'PRI_PVEM'\u001b[0m\u001b[0;34m,\u001b[0m \u001b[0;34m'PRI_NA'\u001b[0m\u001b[0;34m,\u001b[0m \u001b[0;34m'PVEM_NA'\u001b[0m\u001b[0;34m,\u001b[0m\u001b[0;34m\u001b[0m\u001b[0;34m\u001b[0m\u001b[0m\n\u001b[1;32m      5\u001b[0m        \u001b[0;34m'PT_MORENA_PES'\u001b[0m\u001b[0;34m,\u001b[0m \u001b[0;34m'PT_MORENA'\u001b[0m\u001b[0;34m,\u001b[0m \u001b[0;34m'PT_PES'\u001b[0m\u001b[0;34m,\u001b[0m \u001b[0;34m'MORENA_PES'\u001b[0m\u001b[0;34m,\u001b[0m \u001b[0;34m'CAND_IND_01'\u001b[0m\u001b[0;34m,\u001b[0m\u001b[0;34m\u001b[0m\u001b[0;34m\u001b[0m\u001b[0m\n",
      "\u001b[0;31mTypeError\u001b[0m: margin_victory() missing 1 required positional argument: 'total'"
     ]
    }
   ],
   "source": [
    "temp_results['margin_victory'] = temp_results.apply(lambda x: margin_victory(x[['PAN',\n",
    "       'PRI', 'PRD', 'PVEM', 'PT', 'MOVIMIENTO CIUDADANO', 'NUEVA ALIANZA',\n",
    "       'MORENA', 'ENCUENTRO SOCIAL', 'PAN_PRD_MC', 'PAN_PRD', 'PAN_MC',\n",
    "       'PRD_MC', 'PRI_PVEM_NA', 'PRI_PVEM', 'PRI_NA', 'PVEM_NA',\n",
    "       'PT_MORENA_PES', 'PT_MORENA', 'PT_PES', 'MORENA_PES', 'CAND_IND_01',\n",
    "       'CAND_IND_02', 'CNR', 'VN']], x['TOTAL_VOTOS_CALCULADOS']), axis = 1)"
   ]
  },
  {
   "cell_type": "code",
   "execution_count": 169,
   "metadata": {},
   "outputs": [],
   "source": [
    "results64 = temp_results[['ESTADO', 'DISTRITO', 'margin_victory']]\n",
    "results64['legislatura'] = 64\n",
    "results64 = results64.rename(columns = {'ESTADO':'estado', \n",
    "                           'DISTRITO':'distrito'})"
   ]
  },
  {
   "cell_type": "code",
   "execution_count": 172,
   "metadata": {},
   "outputs": [],
   "source": [
    "results64.to_excel('/Users/cblanesg/cam.blanes Dropbox/Camila Blanes/Congressional-dataMX/data/01-collection_data/10-elec_results/2-clean/elec_results64.xlsx')"
   ]
  },
  {
   "cell_type": "code",
   "execution_count": null,
   "metadata": {},
   "outputs": [],
   "source": []
  }
 ],
 "metadata": {
  "kernelspec": {
   "display_name": "Python 3",
   "language": "python",
   "name": "python3"
  },
  "language_info": {
   "codemirror_mode": {
    "name": "ipython",
    "version": 3
   },
   "file_extension": ".py",
   "mimetype": "text/x-python",
   "name": "python",
   "nbconvert_exporter": "python",
   "pygments_lexer": "ipython3",
   "version": "3.8.3"
  }
 },
 "nbformat": 4,
 "nbformat_minor": 4
}
