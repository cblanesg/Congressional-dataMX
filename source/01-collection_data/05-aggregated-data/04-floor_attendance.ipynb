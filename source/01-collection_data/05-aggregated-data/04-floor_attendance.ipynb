{
 "cells": [
  {
   "cell_type": "markdown",
   "metadata": {},
   "source": [
    "## Id data"
   ]
  },
  {
   "cell_type": "code",
   "execution_count": 31,
   "metadata": {},
   "outputs": [],
   "source": [
    "import pandas as pd\n",
    "import numpy as np\n",
    "import os\n",
    "import json\n",
    "import unidecode\n",
    "import re\n",
    "from os import listdir"
   ]
  },
  {
   "cell_type": "code",
   "execution_count": 1,
   "metadata": {},
   "outputs": [],
   "source": [
    "path = '../../../data/01-collection_data/04-floor_attendance/02-id_members/'"
   ]
  },
  {
   "cell_type": "code",
   "execution_count": 32,
   "metadata": {},
   "outputs": [
    {
     "name": "stdout",
     "output_type": "stream",
     "text": [
      ".DS_Store\n"
     ]
    }
   ],
   "source": [
    "all_data = []\n",
    "for i in listdir(path):\n",
    "    file = path + i\n",
    "    try:\n",
    "        with open(file) as f:\n",
    "            data = json.load(f)\n",
    "            for j in data:\n",
    "                j['type_attendance'] = unidecode.unidecode(re.sub('^[ ]+', '', clean_attendance(j['type_attendance'])).lower())\n",
    "                all_data.append(j)\n",
    "    except:\n",
    "        print(i)\n",
    "        "
   ]
  },
  {
   "cell_type": "code",
   "execution_count": 33,
   "metadata": {},
   "outputs": [
    {
     "data": {
      "text/plain": [
       "{'legislatura': 60,\n",
       " 'year_session': 2006,\n",
       " 'month_session': 9,\n",
       " 'day_session': 1,\n",
       " 'member': 'Acosta Davila Constantino',\n",
       " 'party': 'Partido Acción Nacional',\n",
       " 'type_attendance': 'asistencia',\n",
       " 'id': 'e7f3daa8-fe1f-11ea-95ca-acde48001122'}"
      ]
     },
     "execution_count": 33,
     "metadata": {},
     "output_type": "execute_result"
    }
   ],
   "source": [
    "all_data[0]"
   ]
  },
  {
   "cell_type": "code",
   "execution_count": 34,
   "metadata": {},
   "outputs": [
    {
     "data": {
      "text/plain": [
       "array(['asistencia', 'inasistencia', 'justificada',\n",
       "       'permiso mesa directiva', 'cedula', 'oficial comision',\n",
       "       'no presentes en la mitad de las votaciones',\n",
       "       'inasistencia por votaciones', 'no presente en votaciones'],\n",
       "      dtype=object)"
      ]
     },
     "execution_count": 34,
     "metadata": {},
     "output_type": "execute_result"
    }
   ],
   "source": [
    "pd.DataFrame(all_data).type_attendance.unique()"
   ]
  },
  {
   "cell_type": "code",
   "execution_count": 24,
   "metadata": {},
   "outputs": [
    {
     "name": "stdout",
     "output_type": "stream",
     "text": [
      "ASISTENCIA\n",
      "INASISTENCIA\n",
      "JUSTIFICADA\n",
      "PERMISO MESA DIRECTIVA\n",
      "CÉDULA\n",
      "OFICIAL COMISIÓN\n",
      "NO PRESENTES EN LA MITAD DE LAS VOTACIONES\n",
      "ASISTENCIA\n",
      "PERMISO MESA DIRECTIVA\n",
      "ASISTENCIA\n",
      "CÉDULA\n",
      "JUSTIFICADA\n",
      "ASISTENCIA\n",
      "INASISTENCIA\n",
      "OFICIAL COMISIÓN\n",
      "INASISTENCIA POR VOTACIONES\n",
      "PERMISO MESA DIRECTIVA\n",
      "ASISTENCIA\n",
      "ASISTENCIA\n",
      "ASISTENCIA\n",
      "PERMISO MESA DIRECTIVA\n",
      "ASISTENCIA\n",
      "INASISTENCIA\n",
      "JUSTIFICADA\n",
      "ASISTENCIA\n",
      "ASISTENCIA\n",
      "JUSTIFICADA\n",
      "CÉDULA\n",
      "ASISTENCIA\n",
      "PERMISO MESA DIRECTIVA\n",
      "JUSTIFICADA\n",
      "CÉDULA\n",
      "INASISTENCIA\n",
      "NO PRESENTES EN LA MITAD DE LAS VOTACIONES\n",
      "OFICIAL COMISIÓN\n",
      "NO PRESENTE EN VOTACIONES\n"
     ]
    }
   ],
   "source": [
    "for i in pd.DataFrame(all_data).type_attendance.unique():\n",
    "    print(re.sub('^[ ]+', '', clean_attendance(i)))"
   ]
  },
  {
   "cell_type": "code",
   "execution_count": 20,
   "metadata": {},
   "outputs": [],
   "source": [
    "def clean_attendance(x):\n",
    "    if x == 'A' or x == 'PM/A' or x == 'A/A' or x == 'IJ/A' or x == 'AC/A' or x == 'A/IJ' or x == 'A/IV' or x == 'A/PM' or x == 'I/A':\n",
    "        return('ASISTENCIA')\n",
    "    \n",
    "    elif x == 'PM':\n",
    "        return('PERMISO MESA DIRECTIVA')\n",
    "    \n",
    "    elif x == 'PM' or x == 'PM/I' or x == 'PM/PM':\n",
    "        return('PERMISO MESA DIRECTIVA')\n",
    "    \n",
    "    elif x == 'AC' or x == 'AC/IV':\n",
    "        return('CÉDULA')\n",
    "    \n",
    "    elif x == 'IJ' or x == 'IJ/IJ' or x == 'IJ/IV':\n",
    "        return('JUSTIFICADA')\n",
    "    \n",
    "    elif x == 'I' or x == 'I/IV':\n",
    "        return('INASISTENCIA')\n",
    "    \n",
    "    elif x == 'AO':\n",
    "        return('OFICIAL COMISIÓN')\n",
    "    \n",
    "    elif x == 'IV':\n",
    "        return('INASISTENCIA POR VOTACIONES')\n",
    "    else:\n",
    "        return(x)"
   ]
  }
 ],
 "metadata": {
  "kernelspec": {
   "display_name": "Python 3",
   "language": "python",
   "name": "python3"
  },
  "language_info": {
   "codemirror_mode": {
    "name": "ipython",
    "version": 3
   },
   "file_extension": ".py",
   "mimetype": "text/x-python",
   "name": "python",
   "nbconvert_exporter": "python",
   "pygments_lexer": "ipython3",
   "version": "3.8.3"
  }
 },
 "nbformat": 4,
 "nbformat_minor": 4
}
