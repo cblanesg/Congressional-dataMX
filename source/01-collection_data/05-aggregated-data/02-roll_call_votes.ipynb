{
 "cells": [
  {
   "cell_type": "code",
   "execution_count": 13,
   "metadata": {},
   "outputs": [],
   "source": [
    "import pandas as pd\n",
    "import numpy as np\n",
    "import os\n",
    "import json\n",
    "import re\n",
    "import unidecode\n",
    "from os import listdir"
   ]
  },
  {
   "cell_type": "code",
   "execution_count": 4,
   "metadata": {},
   "outputs": [],
   "source": [
    "path = '../../../data/01-collection_data/02-roll_call_votes/02-id_votes/'"
   ]
  },
  {
   "cell_type": "code",
   "execution_count": 14,
   "metadata": {},
   "outputs": [],
   "source": [
    "all_data = []\n",
    "for i in listdir(path):\n",
    "    file = path + i\n",
    "    try:\n",
    "        with open(file) as f:\n",
    "            data = json.load(f)\n",
    "            for j in data:\n",
    "                j['titulo_votacion'] = j['titulo_votacion'].lower()\n",
    "                j['voto'] = unidecode.unidecode(re.sub('^[ ]+', '', j['voto']))\n",
    "                all_data.append(j)\n",
    "    except:\n",
    "        print(i)\n",
    "        "
   ]
  },
  {
   "cell_type": "code",
   "execution_count": 18,
   "metadata": {},
   "outputs": [],
   "source": [
    "df = pd.DataFrame(all_data)"
   ]
  },
  {
   "cell_type": "code",
   "execution_count": 28,
   "metadata": {},
   "outputs": [],
   "source": [
    "with open('/Users/cblanesg/cam.blanes Dropbox/Camila Blanes/Congressional-dataMX/data/01-collection_data/05-aggregated-data/roll_call_votes.json', 'w') as d:\n",
    "    json.dump(all_data, d)"
   ]
  },
  {
   "cell_type": "code",
   "execution_count": null,
   "metadata": {},
   "outputs": [],
   "source": []
  },
  {
   "cell_type": "code",
   "execution_count": 27,
   "metadata": {
    "scrolled": true
   },
   "outputs": [
    {
     "data": {
      "text/plain": [
       "3053"
      ]
     },
     "execution_count": 27,
     "metadata": {},
     "output_type": "execute_result"
    }
   ],
   "source": [
    "len(df.id.unique())"
   ]
  },
  {
   "cell_type": "code",
   "execution_count": null,
   "metadata": {},
   "outputs": [],
   "source": []
  },
  {
   "cell_type": "code",
   "execution_count": 22,
   "metadata": {},
   "outputs": [
    {
     "data": {
      "text/plain": [
       "array(['Caamal Mena Jose Angelino', 'Fujiwara Montelongo Rene Ricardo',\n",
       "       'Gonzalez Roldan Luis Antonio', 'Bribiesca Sahagun Fernando',\n",
       "       'Cerda Franco Maria Sanjuana', 'Felix Hays Ruben Benjamin',\n",
       "       'Garfias Gutierrez Lucila', 'Olvera Barrios Cristina',\n",
       "       'Rincon Chanona Sonia', 'Talamante Lemas Dora Maria Guadalupe',\n",
       "       'Jimenez del Angel Roberto', 'Banuelos de la Torre Soralla',\n",
       "       'Garcia Yanez Angel', 'Gutierrez Santoyo Maria Luisa',\n",
       "       'Mendez Salas Jesus Rafael', 'Ocampo Bedolla Maria Eugenia',\n",
       "       'Palomares Ramirez Elvia Graciela', 'Quezada Salas Jose Bernardo',\n",
       "       'Reyes Avila Angelica', 'Sanchez Ruiz Karina',\n",
       "       'Torres Sandoval Melissa', 'Valles Mendoza Luis Alfredo',\n",
       "       'Zetina Aguiluz Manuel Alexander', 'Campa Almaral Carmen Victoria',\n",
       "       'Pinto Torres Francisco Javier', 'Lara Salazar Mariano',\n",
       "       'Gutierrez Garcia Carlos', 'Hernandez Leon Luis Manuel',\n",
       "       'Saldivar Paz Mirna Isabel', 'Gonzalez Luna Josefina',\n",
       "       'Cardenas Fonseca Manuel', 'Castillo Najera Ariel',\n",
       "       'Davila  Esquivel Humberto', 'Gomez Pasillas Jacinto',\n",
       "       'Jimenez Godinez Miguel Angel', 'Luna Becerril Blanca',\n",
       "       'Luna Rodriguez Silvia', 'Arriola  Monica', 'Pineyro Arias Irma',\n",
       "       'Perez Bolanos Ana Elisa', 'Kahwagi Macari Jorge Antonio',\n",
       "       'Villarreal Benassini Karla Daniella',\n",
       "       'Orozco Torres Norma Leticia', 'Martinez Pena Elsa Maria',\n",
       "       'Perez de Alva Blanco Roberto', 'Pinedo Alonso Cora',\n",
       "       'Tamez Guerra Reyes S.', 'Torre Canales Maria del Pilar',\n",
       "       'Del Mazo Morales Gerardo', 'Meza Elizondo Jose Isabel'],\n",
       "      dtype=object)"
      ]
     },
     "execution_count": 22,
     "metadata": {},
     "output_type": "execute_result"
    }
   ],
   "source": [
    "df[df['party'].isna()].member.unique()"
   ]
  },
  {
   "cell_type": "code",
   "execution_count": null,
   "metadata": {},
   "outputs": [],
   "source": []
  },
  {
   "cell_type": "code",
   "execution_count": null,
   "metadata": {},
   "outputs": [],
   "source": []
  },
  {
   "cell_type": "code",
   "execution_count": null,
   "metadata": {},
   "outputs": [],
   "source": []
  },
  {
   "cell_type": "code",
   "execution_count": null,
   "metadata": {},
   "outputs": [],
   "source": []
  }
 ],
 "metadata": {
  "kernelspec": {
   "display_name": "Python 3",
   "language": "python",
   "name": "python3"
  },
  "language_info": {
   "codemirror_mode": {
    "name": "ipython",
    "version": 3
   },
   "file_extension": ".py",
   "mimetype": "text/x-python",
   "name": "python",
   "nbconvert_exporter": "python",
   "pygments_lexer": "ipython3",
   "version": "3.8.3"
  }
 },
 "nbformat": 4,
 "nbformat_minor": 4
}
