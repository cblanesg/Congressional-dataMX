{
 "cells": [
  {
   "cell_type": "code",
   "execution_count": 18,
   "metadata": {},
   "outputs": [],
   "source": [
    "import pandas as pd\n",
    "import numpy as np\n",
    "import os\n",
    "import re\n",
    "import json\n",
    "from os import listdir"
   ]
  },
  {
   "cell_type": "code",
   "execution_count": 6,
   "metadata": {},
   "outputs": [],
   "source": [
    "path = '../../../data/01-collection_data/01-floor_speech/01-id_speakers/'"
   ]
  },
  {
   "cell_type": "code",
   "execution_count": 7,
   "metadata": {},
   "outputs": [
    {
     "name": "stdout",
     "output_type": "stream",
     "text": [
      ".DS_Store\n"
     ]
    }
   ],
   "source": [
    "all_data = []\n",
    "for i in listdir(path):\n",
    "    file = path + i\n",
    "    try:\n",
    "        with open(file) as f:\n",
    "            data = json.load(f)\n",
    "            for j in data:\n",
    "                all_data.append(j)\n",
    "    except:\n",
    "        print(i)\n",
    "        "
   ]
  },
  {
   "cell_type": "code",
   "execution_count": 48,
   "metadata": {},
   "outputs": [
    {
     "data": {
      "text/plain": [
       "array([63, 62, 64, 61, 60])"
      ]
     },
     "execution_count": 48,
     "metadata": {},
     "output_type": "execute_result"
    }
   ],
   "source": [
    "pd.DataFrame(all_data).legislatura.unique()"
   ]
  },
  {
   "cell_type": "code",
   "execution_count": 49,
   "metadata": {},
   "outputs": [],
   "source": [
    "with open('/Users/cblanesg/cam.blanes Dropbox/Camila Blanes/Congressional-dataMX/data/01-collection_data/05-aggregated-data/floor_speech.json', 'w') as d:\n",
    "    json.dump(all_data, d)"
   ]
  },
  {
   "cell_type": "code",
   "execution_count": 40,
   "metadata": {},
   "outputs": [],
   "source": [
    "def clean_topic(y, x):\n",
    "    if any(re.findall('[...]', y)):\n",
    "        return(y)\n",
    "    else:\n",
    "        text = re.sub('%20', ' ', x.split('tema=')[1]).lower()\n",
    "        clean = re.sub('%c3%93', 'o', text)\n",
    "        clean = re.sub('%c3%9', 'u', clean)\n",
    "        clean = re.sub('%c3%89', 'e', clean)\n",
    "        clean = re.sub('%c3%81', 'a', clean)\n",
    "        clean = re.sub('%c3%8d', 'i', clean)\n",
    "        clean = re.sub('%c2%a0', ' ', clean)\n",
    "        return(clean)"
   ]
  },
  {
   "cell_type": "code",
   "execution_count": null,
   "metadata": {},
   "outputs": [],
   "source": []
  },
  {
   "cell_type": "code",
   "execution_count": 43,
   "metadata": {},
   "outputs": [
    {
     "name": "stdout",
     "output_type": "stream",
     "text": [
      "%c2%93dia internacional de la niu1a%c2%94 http://cronica.diputados.gob.mx:8080/exist/siid2/xQsiid2.xql?legis=LXIII&coleccion=/db/LXIII/A1/P1/Ord%20,/db/LXIII/A1/P1/CPerma%20,/db/LXIII/A1/P2/Ord%20,/db/LXIII/A1/P2/1Extra%20,/db/LXIII/A1/P2/2Extra%20,/db/LXIII/A2/P1/Ord%20,/db/LXIII/A2/P1/CPerma%20,/db/LXIII/A2/P2/Ord%20,/db/LXIII/A3/P1/Ord%20,/db/LXIII/A3/P1/CPerma%20,/db/LXIII/A3/P2/Ord%20&id=1018&num=7328&fecha=20151013&tema=%C2%93D%C3%8DA%20INTERNACIONAL%20DE%20LA%20NI%C3%91A%C2%94 DÍA INTERNACIONAL DE LA NIÑA\n",
      "%c2%93dia del cuidado y atencion infantil%c2%94 http://cronica.diputados.gob.mx:8080/exist/siid2/xQsiid2.xql?legis=LXIII&coleccion=/db/LXIII/A1/P1/Ord%20,/db/LXIII/A1/P1/CPerma%20,/db/LXIII/A1/P2/Ord%20,/db/LXIII/A1/P2/1Extra%20,/db/LXIII/A1/P2/2Extra%20,/db/LXIII/A2/P1/Ord%20,/db/LXIII/A2/P1/CPerma%20,/db/LXIII/A2/P2/Ord%20,/db/LXIII/A3/P1/Ord%20,/db/LXIII/A3/P1/CPerma%20,/db/LXIII/A3/P2/Ord%20&id=555&num=7304&fecha=20151013&tema=%C2%93D%C3%8DA%20DEL%20CUIDADO%20Y%20ATENCI%C3%93N%20INFANTIL%C2%94 DÍA DEL CUIDADO Y ATENCIÓN INFANTIL\n",
      "declare %c2%932015, au1o de la ley agraria%c2%94 http://cronica.diputados.gob.mx:8080/exist/siid2/xQsiid2.xql?legis=LXII&coleccion=/db/LXII/A1/P1/Ord%20,/db/LXII/A1/P1/CPerma%20,/db/LXII/A1/P2/Ord%20,/db/LXII/A1/P2/1Extra%20,/db/LXII/A1/P2/2Extra%20,/db/LXII/A1/P2/3Extra%20,/db/LXII/A1/P2/4Extra%20,/db/LXII/A2/P1/Ord%20,/db/LXII/A2/P1/CPerma%20,/db/LXII/A2/P2/Ord%20,/db/LXII/A2/P2/1Extra%20,/db/LXII/A2/P2/2Extra%20,/db/LXII/A2/P2/3Extra%20,/db/LXII/A2/P2/4Extra%20,/db/LXII/A3/P1/Ord%20,/db/LXII/A3/P1/CPerma%20,/db/LXII/A3/P2/Ord%20&id=75&num=8293&fecha=20141222&tema=DECLARE%20%C2%932015,%20A%C3%91O%20DE%20LA%20LEY%20AGRARIA%C2%94 DECLARE 2015, AÑO DE LA LEY AGRARIA\n",
      "para inscribir en el muro de honor %c2%93al movimiento estudiantil de 1968%c2%94 http://cronica.diputados.gob.mx:8080/exist/siid2/xQsiid2.xql?legis=LXIV&coleccion=/db/LXIV/A1/P1/Ord%20,/db/LXIV/A1/P1/CPerma%20,/db/LXIV/A1/P2/Ord%20,/db/LXIV/A1/P2/1Extra%20,/db/LXIV/A1/P2/2Extra%20,/db/LXIV/A1/P2/3Extra%20,/db/LXIV/A1/P2/4Extra%20,/db/LXIV/A2/P1/Ord%20,/db/LXIV/A2/P1/CPerma%20,/db/LXIV/A2/P2/Ord%20,/db/LXIV/A2/P2/1Extra%20,/db/LXIV/A2/P2/2Extra%20,/db/LXIV/A2/P2/3Extra%20,/db/LXIV/A3/P1/Ord%20&id=8&num=6115&fecha=20180920&tema=PARA%20INSCRIBIR%20EN%20EL%20MURO%20DE%20HONOR%20%C2%93AL%20MOVIMIENTO%20ESTUDIANTIL%20DE%201968%C2%94 PARA INSCRIBIR EN EL MURO DE HONOR AL MOVIMIENTO ESTUDIANTIL DE 1968\n",
      "se declara el 2019 como %c2%93au1o del caudillo del sur, emiliano zapata%c2%94 http://cronica.diputados.gob.mx:8080/exist/siid2/xQsiid2.xql?legis=LXIV&coleccion=/db/LXIV/A1/P1/Ord%20,/db/LXIV/A1/P1/CPerma%20,/db/LXIV/A1/P2/Ord%20,/db/LXIV/A1/P2/1Extra%20,/db/LXIV/A1/P2/2Extra%20,/db/LXIV/A1/P2/3Extra%20,/db/LXIV/A1/P2/4Extra%20,/db/LXIV/A2/P1/Ord%20,/db/LXIV/A2/P1/CPerma%20,/db/LXIV/A2/P2/Ord%20,/db/LXIV/A2/P2/1Extra%20,/db/LXIV/A2/P2/2Extra%20,/db/LXIV/A2/P2/3Extra%20,/db/LXIV/A3/P1/Ord%20&id=221&num=8313&fecha=20181213&tema=SE%20DECLARA%20EL%202019%20COMO%20%C2%93A%C3%91O%20DEL%20CAUDILLO%20DEL%20SUR,%20EMILIANO%20ZAPATA%C2%94 SE DECLARA EL 2019 COMO AÑO DEL CAUDILLO DEL SUR, EMILIANO ZAPATA\n",
      "para inscribir en el muro de honor %c2%93al movimiento estudiantil de 1968%c2%94 http://cronica.diputados.gob.mx:8080/exist/siid2/xQsiid2.xql?legis=LXIV&coleccion=/db/LXIV/A1/P1/Ord%20,/db/LXIV/A1/P1/CPerma%20,/db/LXIV/A1/P2/Ord%20,/db/LXIV/A1/P2/1Extra%20,/db/LXIV/A1/P2/2Extra%20,/db/LXIV/A1/P2/3Extra%20,/db/LXIV/A1/P2/4Extra%20,/db/LXIV/A2/P1/Ord%20,/db/LXIV/A2/P1/CPerma%20,/db/LXIV/A2/P2/Ord%20,/db/LXIV/A2/P2/1Extra%20,/db/LXIV/A2/P2/2Extra%20,/db/LXIV/A2/P2/3Extra%20,/db/LXIV/A3/P1/Ord%20&id=172&num=6127&fecha=20180920&tema=PARA%20INSCRIBIR%20EN%20EL%20MURO%20DE%20HONOR%20%C2%93AL%20MOVIMIENTO%20ESTUDIANTIL%20DE%201968%C2%94 PARA INSCRIBIR EN EL MURO DE HONOR AL MOVIMIENTO ESTUDIANTIL DE 1968\n",
      "se declara el au1o 2019 como %c2%93au1o del caudillo del sur, emiliano zapata%c2%94 http://cronica.diputados.gob.mx:8080/exist/siid2/xQsiid2.xql?legis=LXIV&coleccion=/db/LXIV/A1/P1/Ord%20,/db/LXIV/A1/P1/CPerma%20,/db/LXIV/A1/P2/Ord%20,/db/LXIV/A1/P2/1Extra%20,/db/LXIV/A1/P2/2Extra%20,/db/LXIV/A1/P2/3Extra%20,/db/LXIV/A1/P2/4Extra%20,/db/LXIV/A2/P1/Ord%20,/db/LXIV/A2/P1/CPerma%20,/db/LXIV/A2/P2/Ord%20,/db/LXIV/A2/P2/1Extra%20,/db/LXIV/A2/P2/2Extra%20,/db/LXIV/A2/P2/3Extra%20,/db/LXIV/A3/P1/Ord%20&id=33&num=6310&fecha=20180927&tema=SE%20DECLARA%20EL%20A%C3%91O%202019%20COMO%20%C2%93A%C3%91O%20DEL%20CAUDILLO%20DEL%20SUR,%20EMILIANO%20ZAPATA%C2%94 SE DECLARA EL AÑO 2019 COMO AÑO DEL CAUDILLO DEL SUR, EMILIANO ZAPATA\n",
      "se declara el 2019 como %c2%93au1o del caudillo del sur, emiliano zapata%c2%94 http://cronica.diputados.gob.mx:8080/exist/siid2/xQsiid2.xql?legis=LXIV&coleccion=/db/LXIV/A1/P1/Ord%20,/db/LXIV/A1/P1/CPerma%20,/db/LXIV/A1/P2/Ord%20,/db/LXIV/A1/P2/1Extra%20,/db/LXIV/A1/P2/2Extra%20,/db/LXIV/A1/P2/3Extra%20,/db/LXIV/A1/P2/4Extra%20,/db/LXIV/A2/P1/Ord%20,/db/LXIV/A2/P1/CPerma%20,/db/LXIV/A2/P2/Ord%20,/db/LXIV/A2/P2/1Extra%20,/db/LXIV/A2/P2/2Extra%20,/db/LXIV/A2/P2/3Extra%20,/db/LXIV/A3/P1/Ord%20&id=33&num=8321&fecha=20181213&tema=SE%20DECLARA%20EL%202019%20COMO%20%C2%93A%C3%91O%20DEL%20CAUDILLO%20DEL%20SUR,%20EMILIANO%20ZAPATA%C2%94 SE DECLARA EL 2019 COMO AÑO DEL CAUDILLO DEL SUR, EMILIANO ZAPATA\n",
      "se declara el au1o 2020 como %c2%93au1o del primer jefe, venustiano carranza%c2%94 http://cronica.diputados.gob.mx:8080/exist/siid2/xQsiid2.xql?legis=LXIV&coleccion=/db/LXIV/A1/P1/Ord%20,/db/LXIV/A1/P1/CPerma%20,/db/LXIV/A1/P2/Ord%20,/db/LXIV/A1/P2/1Extra%20,/db/LXIV/A1/P2/2Extra%20,/db/LXIV/A1/P2/3Extra%20,/db/LXIV/A1/P2/4Extra%20,/db/LXIV/A2/P1/Ord%20,/db/LXIV/A2/P1/CPerma%20,/db/LXIV/A2/P2/Ord%20,/db/LXIV/A2/P2/1Extra%20,/db/LXIV/A2/P2/2Extra%20,/db/LXIV/A2/P2/3Extra%20,/db/LXIV/A3/P1/Ord%20&id=189&num=1114&fecha=20190905&tema=SE%20DECLARA%20EL%20A%C3%91O%202020%20COMO%20%C2%93A%C3%91O%20DEL%20PRIMER%20JEFE,%20VENUSTIANO%20CARRANZA%C2%94 SE DECLARA EL AÑO 2020 COMO AÑO DEL PRIMER JEFE, VENUSTIANO CARRANZA\n",
      "para inscribir en el muro de honor %c2%93al movimiento estudiantil de 1968%c2%94 http://cronica.diputados.gob.mx:8080/exist/siid2/xQsiid2.xql?legis=LXIV&coleccion=/db/LXIV/A1/P1/Ord%20,/db/LXIV/A1/P1/CPerma%20,/db/LXIV/A1/P2/Ord%20,/db/LXIV/A1/P2/1Extra%20,/db/LXIV/A1/P2/2Extra%20,/db/LXIV/A1/P2/3Extra%20,/db/LXIV/A1/P2/4Extra%20,/db/LXIV/A2/P1/Ord%20,/db/LXIV/A2/P1/CPerma%20,/db/LXIV/A2/P2/Ord%20,/db/LXIV/A2/P2/1Extra%20,/db/LXIV/A2/P2/2Extra%20,/db/LXIV/A2/P2/3Extra%20,/db/LXIV/A3/P1/Ord%20&id=209&num=6135&fecha=20180920&tema=PARA%20INSCRIBIR%20EN%20EL%20MURO%20DE%20HONOR%20%C2%93AL%20MOVIMIENTO%20ESTUDIANTIL%20DE%201968%C2%94 PARA INSCRIBIR EN EL MURO DE HONOR AL MOVIMIENTO ESTUDIANTIL DE 1968\n",
      "para inscribir en el muro de honor %c2%93al movimiento estudiantil de 1968%c2%94 http://cronica.diputados.gob.mx:8080/exist/siid2/xQsiid2.xql?legis=LXIV&coleccion=/db/LXIV/A1/P1/Ord%20,/db/LXIV/A1/P1/CPerma%20,/db/LXIV/A1/P2/Ord%20,/db/LXIV/A1/P2/1Extra%20,/db/LXIV/A1/P2/2Extra%20,/db/LXIV/A1/P2/3Extra%20,/db/LXIV/A1/P2/4Extra%20,/db/LXIV/A2/P1/Ord%20,/db/LXIV/A2/P1/CPerma%20,/db/LXIV/A2/P2/Ord%20,/db/LXIV/A2/P2/1Extra%20,/db/LXIV/A2/P2/2Extra%20,/db/LXIV/A2/P2/3Extra%20,/db/LXIV/A3/P1/Ord%20&id=231&num=6123&fecha=20180920&tema=PARA%20INSCRIBIR%20EN%20EL%20MURO%20DE%20HONOR%20%C2%93AL%20MOVIMIENTO%20ESTUDIANTIL%20DE%201968%C2%94 PARA INSCRIBIR EN EL MURO DE HONOR AL MOVIMIENTO ESTUDIANTIL DE 1968\n",
      "se declara el 2019 como %c2%93au1o del caudillo del sur, emiliano zapata%c2%94 http://cronica.diputados.gob.mx:8080/exist/siid2/xQsiid2.xql?legis=LXIV&coleccion=/db/LXIV/A1/P1/Ord%20,/db/LXIV/A1/P1/CPerma%20,/db/LXIV/A1/P2/Ord%20,/db/LXIV/A1/P2/1Extra%20,/db/LXIV/A1/P2/2Extra%20,/db/LXIV/A1/P2/3Extra%20,/db/LXIV/A1/P2/4Extra%20,/db/LXIV/A2/P1/Ord%20,/db/LXIV/A2/P1/CPerma%20,/db/LXIV/A2/P2/Ord%20,/db/LXIV/A2/P2/1Extra%20,/db/LXIV/A2/P2/2Extra%20,/db/LXIV/A2/P2/3Extra%20,/db/LXIV/A3/P1/Ord%20&id=124&num=8324&fecha=20181213&tema=SE%20DECLARA%20EL%202019%20COMO%20%C2%93A%C3%91O%20DEL%20CAUDILLO%20DEL%20SUR,%20EMILIANO%20ZAPATA%C2%94 SE DECLARA EL 2019 COMO AÑO DEL CAUDILLO DEL SUR, EMILIANO ZAPATA\n",
      "se declara el 2019 como %c2%93au1o del caudillo del sur, emiliano zapata%c2%94 http://cronica.diputados.gob.mx:8080/exist/siid2/xQsiid2.xql?legis=LXIV&coleccion=/db/LXIV/A1/P1/Ord%20,/db/LXIV/A1/P1/CPerma%20,/db/LXIV/A1/P2/Ord%20,/db/LXIV/A1/P2/1Extra%20,/db/LXIV/A1/P2/2Extra%20,/db/LXIV/A1/P2/3Extra%20,/db/LXIV/A1/P2/4Extra%20,/db/LXIV/A2/P1/Ord%20,/db/LXIV/A2/P1/CPerma%20,/db/LXIV/A2/P2/Ord%20,/db/LXIV/A2/P2/1Extra%20,/db/LXIV/A2/P2/2Extra%20,/db/LXIV/A2/P2/3Extra%20,/db/LXIV/A3/P1/Ord%20&id=50&num=8322&fecha=20181213&tema=SE%20DECLARA%20EL%202019%20COMO%20%C2%93A%C3%91O%20DEL%20CAUDILLO%20DEL%20SUR,%20EMILIANO%20ZAPATA%C2%94 SE DECLARA EL 2019 COMO AÑO DEL CAUDILLO DEL SUR, EMILIANO ZAPATA\n",
      "para inscribir en el muro de honor %c2%93al movimiento estudiantil de 1968%c2%94 http://cronica.diputados.gob.mx:8080/exist/siid2/xQsiid2.xql?legis=LXIV&coleccion=/db/LXIV/A1/P1/Ord%20,/db/LXIV/A1/P1/CPerma%20,/db/LXIV/A1/P2/Ord%20,/db/LXIV/A1/P2/1Extra%20,/db/LXIV/A1/P2/2Extra%20,/db/LXIV/A1/P2/3Extra%20,/db/LXIV/A1/P2/4Extra%20,/db/LXIV/A2/P1/Ord%20,/db/LXIV/A2/P1/CPerma%20,/db/LXIV/A2/P2/Ord%20,/db/LXIV/A2/P2/1Extra%20,/db/LXIV/A2/P2/2Extra%20,/db/LXIV/A2/P2/3Extra%20,/db/LXIV/A3/P1/Ord%20&id=230&num=6125&fecha=20180920&tema=PARA%20INSCRIBIR%20EN%20EL%20MURO%20DE%20HONOR%20%C2%93AL%20MOVIMIENTO%20ESTUDIANTIL%20DE%201968%C2%94 PARA INSCRIBIR EN EL MURO DE HONOR AL MOVIMIENTO ESTUDIANTIL DE 1968\n",
      "para inscribir en el muro de honor %c2%93al movimiento estudiantil de 1968%c2%94 http://cronica.diputados.gob.mx:8080/exist/siid2/xQsiid2.xql?legis=LXIV&coleccion=/db/LXIV/A1/P1/Ord%20,/db/LXIV/A1/P1/CPerma%20,/db/LXIV/A1/P2/Ord%20,/db/LXIV/A1/P2/1Extra%20,/db/LXIV/A1/P2/2Extra%20,/db/LXIV/A1/P2/3Extra%20,/db/LXIV/A1/P2/4Extra%20,/db/LXIV/A2/P1/Ord%20,/db/LXIV/A2/P1/CPerma%20,/db/LXIV/A2/P2/Ord%20,/db/LXIV/A2/P2/1Extra%20,/db/LXIV/A2/P2/2Extra%20,/db/LXIV/A2/P2/3Extra%20,/db/LXIV/A3/P1/Ord%20&id=152&num=6121&fecha=20180920&tema=PARA%20INSCRIBIR%20EN%20EL%20MURO%20DE%20HONOR%20%C2%93AL%20MOVIMIENTO%20ESTUDIANTIL%20DE%201968%C2%94 PARA INSCRIBIR EN EL MURO DE HONOR AL MOVIMIENTO ESTUDIANTIL DE 1968\n",
      "para inscribir en el muro de honor %c2%93al movimiento estudiantil de 1968%c2%94 http://cronica.diputados.gob.mx:8080/exist/siid2/xQsiid2.xql?legis=LXIV&coleccion=/db/LXIV/A1/P1/Ord%20,/db/LXIV/A1/P1/CPerma%20,/db/LXIV/A1/P2/Ord%20,/db/LXIV/A1/P2/1Extra%20,/db/LXIV/A1/P2/2Extra%20,/db/LXIV/A1/P2/3Extra%20,/db/LXIV/A1/P2/4Extra%20,/db/LXIV/A2/P1/Ord%20,/db/LXIV/A2/P1/CPerma%20,/db/LXIV/A2/P2/Ord%20,/db/LXIV/A2/P2/1Extra%20,/db/LXIV/A2/P2/2Extra%20,/db/LXIV/A2/P2/3Extra%20,/db/LXIV/A3/P1/Ord%20&id=182&num=6122&fecha=20180920&tema=PARA%20INSCRIBIR%20EN%20EL%20MURO%20DE%20HONOR%20%C2%93AL%20MOVIMIENTO%20ESTUDIANTIL%20DE%201968%C2%94 PARA INSCRIBIR EN EL MURO DE HONOR AL MOVIMIENTO ESTUDIANTIL DE 1968\n",
      "para inscribir en el muro de honor %c2%93al movimiento estudiantil de 1968%c2%94 http://cronica.diputados.gob.mx:8080/exist/siid2/xQsiid2.xql?legis=LXIV&coleccion=/db/LXIV/A1/P1/Ord%20,/db/LXIV/A1/P1/CPerma%20,/db/LXIV/A1/P2/Ord%20,/db/LXIV/A1/P2/1Extra%20,/db/LXIV/A1/P2/2Extra%20,/db/LXIV/A1/P2/3Extra%20,/db/LXIV/A1/P2/4Extra%20,/db/LXIV/A2/P1/Ord%20,/db/LXIV/A2/P1/CPerma%20,/db/LXIV/A2/P2/Ord%20,/db/LXIV/A2/P2/1Extra%20,/db/LXIV/A2/P2/2Extra%20,/db/LXIV/A2/P2/3Extra%20,/db/LXIV/A3/P1/Ord%20&id=92&num=6118&fecha=20180920&tema=PARA%20INSCRIBIR%20EN%20EL%20MURO%20DE%20HONOR%20%C2%93AL%20MOVIMIENTO%20ESTUDIANTIL%20DE%201968%C2%94 PARA INSCRIBIR EN EL MURO DE HONOR AL MOVIMIENTO ESTUDIANTIL DE 1968\n",
      "se declara el 2019 como %c2%93au1o del caudillo del sur, emiliano zapata%c2%94 http://cronica.diputados.gob.mx:8080/exist/siid2/xQsiid2.xql?legis=LXIV&coleccion=/db/LXIV/A1/P1/Ord%20,/db/LXIV/A1/P1/CPerma%20,/db/LXIV/A1/P2/Ord%20,/db/LXIV/A1/P2/1Extra%20,/db/LXIV/A1/P2/2Extra%20,/db/LXIV/A1/P2/3Extra%20,/db/LXIV/A1/P2/4Extra%20,/db/LXIV/A2/P1/Ord%20,/db/LXIV/A2/P1/CPerma%20,/db/LXIV/A2/P2/Ord%20,/db/LXIV/A2/P2/1Extra%20,/db/LXIV/A2/P2/2Extra%20,/db/LXIV/A2/P2/3Extra%20,/db/LXIV/A3/P1/Ord%20&id=92&num=8327&fecha=20181213&tema=SE%20DECLARA%20EL%202019%20COMO%20%C2%93A%C3%91O%20DEL%20CAUDILLO%20DEL%20SUR,%20EMILIANO%20ZAPATA%C2%94 SE DECLARA EL 2019 COMO AÑO DEL CAUDILLO DEL SUR, EMILIANO ZAPATA\n",
      "para inscribir en el muro de honor %c2%93al movimiento estudiantil de 1968%c2%94 http://cronica.diputados.gob.mx:8080/exist/siid2/xQsiid2.xql?legis=LXIV&coleccion=/db/LXIV/A1/P1/Ord%20,/db/LXIV/A1/P1/CPerma%20,/db/LXIV/A1/P2/Ord%20,/db/LXIV/A1/P2/1Extra%20,/db/LXIV/A1/P2/2Extra%20,/db/LXIV/A1/P2/3Extra%20,/db/LXIV/A1/P2/4Extra%20,/db/LXIV/A2/P1/Ord%20,/db/LXIV/A2/P1/CPerma%20,/db/LXIV/A2/P2/Ord%20,/db/LXIV/A2/P2/1Extra%20,/db/LXIV/A2/P2/2Extra%20,/db/LXIV/A2/P2/3Extra%20,/db/LXIV/A3/P1/Ord%20&id=234&num=6113&fecha=20180920&tema=PARA%20INSCRIBIR%20EN%20EL%20MURO%20DE%20HONOR%20%C2%93AL%20MOVIMIENTO%20ESTUDIANTIL%20DE%201968%C2%94 PARA INSCRIBIR EN EL MURO DE HONOR AL MOVIMIENTO ESTUDIANTIL DE 1968\n",
      "exhorto para que se informe sobre el coronavirus, covid%c2%9619, y sus medidas preventivas http://cronica.diputados.gob.mx:8080/exist/siid2/xQsiid2.xql?legis=LXIV&coleccion=/db/LXIV/A1/P1/Ord%20,/db/LXIV/A1/P1/CPerma%20,/db/LXIV/A1/P2/Ord%20,/db/LXIV/A1/P2/1Extra%20,/db/LXIV/A1/P2/2Extra%20,/db/LXIV/A1/P2/3Extra%20,/db/LXIV/A1/P2/4Extra%20,/db/LXIV/A2/P1/Ord%20,/db/LXIV/A2/P1/CPerma%20,/db/LXIV/A2/P2/Ord%20,/db/LXIV/A2/P2/1Extra%20,/db/LXIV/A2/P2/2Extra%20,/db/LXIV/A2/P2/3Extra%20,/db/LXIV/A3/P1/Ord%20&id=249&num=292&fecha=20200218&tema=EXHORTO%20PARA%20QUE%20SE%20INFORME%20SOBRE%20EL%20CORONAVIRUS,%20COVID%C2%9619,%20Y%20SUS%20MEDIDAS%20PREVENTIVAS EXHORTO PARA QUE SE INFORME SOBRE EL CORONAVIRUS, COVID19, Y SUS MEDIDAS PREVENTIVAS\n",
      "se declara el 2019 como %c2%93au1o del caudillo del sur, emiliano zapata%c2%94 http://cronica.diputados.gob.mx:8080/exist/siid2/xQsiid2.xql?legis=LXIV&coleccion=/db/LXIV/A1/P1/Ord%20,/db/LXIV/A1/P1/CPerma%20,/db/LXIV/A1/P2/Ord%20,/db/LXIV/A1/P2/1Extra%20,/db/LXIV/A1/P2/2Extra%20,/db/LXIV/A1/P2/3Extra%20,/db/LXIV/A1/P2/4Extra%20,/db/LXIV/A2/P1/Ord%20,/db/LXIV/A2/P1/CPerma%20,/db/LXIV/A2/P2/Ord%20,/db/LXIV/A2/P2/1Extra%20,/db/LXIV/A2/P2/2Extra%20,/db/LXIV/A2/P2/3Extra%20,/db/LXIV/A3/P1/Ord%20&id=104&num=8325&fecha=20181213&tema=SE%20DECLARA%20EL%202019%20COMO%20%C2%93A%C3%91O%20DEL%20CAUDILLO%20DEL%20SUR,%20EMILIANO%20ZAPATA%C2%94 SE DECLARA EL 2019 COMO AÑO DEL CAUDILLO DEL SUR, EMILIANO ZAPATA\n",
      "para inscribir en el muro de honor %c2%93al movimiento estudiantil de 1968%c2%94 http://cronica.diputados.gob.mx:8080/exist/siid2/xQsiid2.xql?legis=LXIV&coleccion=/db/LXIV/A1/P1/Ord%20,/db/LXIV/A1/P1/CPerma%20,/db/LXIV/A1/P2/Ord%20,/db/LXIV/A1/P2/1Extra%20,/db/LXIV/A1/P2/2Extra%20,/db/LXIV/A1/P2/3Extra%20,/db/LXIV/A1/P2/4Extra%20,/db/LXIV/A2/P1/Ord%20,/db/LXIV/A2/P1/CPerma%20,/db/LXIV/A2/P2/Ord%20,/db/LXIV/A2/P2/1Extra%20,/db/LXIV/A2/P2/2Extra%20,/db/LXIV/A2/P2/3Extra%20,/db/LXIV/A3/P1/Ord%20&id=228&num=6124&fecha=20180920&tema=PARA%20INSCRIBIR%20EN%20EL%20MURO%20DE%20HONOR%20%C2%93AL%20MOVIMIENTO%20ESTUDIANTIL%20DE%201968%C2%94 PARA INSCRIBIR EN EL MURO DE HONOR AL MOVIMIENTO ESTUDIANTIL DE 1968\n",
      "se declara el dia 23 de febrero de cada au1o, %c2%93dia nacional del rotarismo%c2%94 http://cronica.diputados.gob.mx:8080/exist/siid2/xQsiid2.xql?legis=LXIV&coleccion=/db/LXIV/A1/P1/Ord%20,/db/LXIV/A1/P1/CPerma%20,/db/LXIV/A1/P2/Ord%20,/db/LXIV/A1/P2/1Extra%20,/db/LXIV/A1/P2/2Extra%20,/db/LXIV/A1/P2/3Extra%20,/db/LXIV/A1/P2/4Extra%20,/db/LXIV/A2/P1/Ord%20,/db/LXIV/A2/P1/CPerma%20,/db/LXIV/A2/P2/Ord%20,/db/LXIV/A2/P2/1Extra%20,/db/LXIV/A2/P2/2Extra%20,/db/LXIV/A2/P2/3Extra%20,/db/LXIV/A3/P1/Ord%20&id=228&num=3976&fecha=20190226&tema=SE%20DECLARA%20EL%20D%C3%8DA%2023%20DE%20FEBRERO%20DE%20CADA%20A%C3%91O,%20%C2%93D%C3%8DA%20NACIONAL%20DEL%20ROTARISMO%C2%94 SE DECLARA EL DÍA 23 DE FEBRERO DE CADA AÑO, DÍA NACIONAL DEL ROTARISMO\n",
      "para inscribir en el muro de honor %c2%93al movimiento estudiantil de 1968%c2%94 http://cronica.diputados.gob.mx:8080/exist/siid2/xQsiid2.xql?legis=LXIV&coleccion=/db/LXIV/A1/P1/Ord%20,/db/LXIV/A1/P1/CPerma%20,/db/LXIV/A1/P2/Ord%20,/db/LXIV/A1/P2/1Extra%20,/db/LXIV/A1/P2/2Extra%20,/db/LXIV/A1/P2/3Extra%20,/db/LXIV/A1/P2/4Extra%20,/db/LXIV/A2/P1/Ord%20,/db/LXIV/A2/P1/CPerma%20,/db/LXIV/A2/P2/Ord%20,/db/LXIV/A2/P2/1Extra%20,/db/LXIV/A2/P2/2Extra%20,/db/LXIV/A2/P2/3Extra%20,/db/LXIV/A3/P1/Ord%20&id=252&num=6132&fecha=20180920&tema=PARA%20INSCRIBIR%20EN%20EL%20MURO%20DE%20HONOR%20%C2%93AL%20MOVIMIENTO%20ESTUDIANTIL%20DE%201968%C2%94 PARA INSCRIBIR EN EL MURO DE HONOR AL MOVIMIENTO ESTUDIANTIL DE 1968\n",
      "se declara el 2019 como %c2%93au1o del caudillo del sur, emiliano zapata%c2%94 http://cronica.diputados.gob.mx:8080/exist/siid2/xQsiid2.xql?legis=LXIV&coleccion=/db/LXIV/A1/P1/Ord%20,/db/LXIV/A1/P1/CPerma%20,/db/LXIV/A1/P2/Ord%20,/db/LXIV/A1/P2/1Extra%20,/db/LXIV/A1/P2/2Extra%20,/db/LXIV/A1/P2/3Extra%20,/db/LXIV/A1/P2/4Extra%20,/db/LXIV/A2/P1/Ord%20,/db/LXIV/A2/P1/CPerma%20,/db/LXIV/A2/P2/Ord%20,/db/LXIV/A2/P2/1Extra%20,/db/LXIV/A2/P2/2Extra%20,/db/LXIV/A2/P2/3Extra%20,/db/LXIV/A3/P1/Ord%20&id=307&num=8320&fecha=20181213&tema=SE%20DECLARA%20EL%202019%20COMO%20%C2%93A%C3%91O%20DEL%20CAUDILLO%20DEL%20SUR,%20EMILIANO%20ZAPATA%C2%94 SE DECLARA EL 2019 COMO AÑO DEL CAUDILLO DEL SUR, EMILIANO ZAPATA\n",
      "para inscribir en el muro de honor %c2%93al movimiento estudiantil de 1968%c2%94 http://cronica.diputados.gob.mx:8080/exist/siid2/xQsiid2.xql?legis=LXIV&coleccion=/db/LXIV/A1/P1/Ord%20,/db/LXIV/A1/P1/CPerma%20,/db/LXIV/A1/P2/Ord%20,/db/LXIV/A1/P2/1Extra%20,/db/LXIV/A1/P2/2Extra%20,/db/LXIV/A1/P2/3Extra%20,/db/LXIV/A1/P2/4Extra%20,/db/LXIV/A2/P1/Ord%20,/db/LXIV/A2/P1/CPerma%20,/db/LXIV/A2/P2/Ord%20,/db/LXIV/A2/P2/1Extra%20,/db/LXIV/A2/P2/2Extra%20,/db/LXIV/A2/P2/3Extra%20,/db/LXIV/A3/P1/Ord%20&id=260&num=6116&fecha=20180920&tema=PARA%20INSCRIBIR%20EN%20EL%20MURO%20DE%20HONOR%20%C2%93AL%20MOVIMIENTO%20ESTUDIANTIL%20DE%201968%C2%94 PARA INSCRIBIR EN EL MURO DE HONOR AL MOVIMIENTO ESTUDIANTIL DE 1968\n",
      "se declara el 2019 como %c2%93au1o del caudillo del sur, emiliano zapata%c2%94 http://cronica.diputados.gob.mx:8080/exist/siid2/xQsiid2.xql?legis=LXIV&coleccion=/db/LXIV/A1/P1/Ord%20,/db/LXIV/A1/P1/CPerma%20,/db/LXIV/A1/P2/Ord%20,/db/LXIV/A1/P2/1Extra%20,/db/LXIV/A1/P2/2Extra%20,/db/LXIV/A1/P2/3Extra%20,/db/LXIV/A1/P2/4Extra%20,/db/LXIV/A2/P1/Ord%20,/db/LXIV/A2/P1/CPerma%20,/db/LXIV/A2/P2/Ord%20,/db/LXIV/A2/P2/1Extra%20,/db/LXIV/A2/P2/2Extra%20,/db/LXIV/A2/P2/3Extra%20,/db/LXIV/A3/P1/Ord%20&id=354&num=8319&fecha=20181213&tema=SE%20DECLARA%20EL%202019%20COMO%20%C2%93A%C3%91O%20DEL%20CAUDILLO%20DEL%20SUR,%20EMILIANO%20ZAPATA%C2%94 SE DECLARA EL 2019 COMO AÑO DEL CAUDILLO DEL SUR, EMILIANO ZAPATA\n",
      "INICIATIVA PARA APLICAR EL 8% DE IVA A LAS ACTIVIDADES DE IMPORTACIÓN O ENAJENACIÓN REALIZAD... http://cronica.diputados.gob.mx:8080/exist/siid2/xQsiid2.xql?legis=LXIV&coleccion=/db/LXIV/A1/P1/Ord%20,/db/LXIV/A1/P1/CPerma%20,/db/LXIV/A1/P2/Ord%20,/db/LXIV/A1/P2/1Extra%20,/db/LXIV/A1/P2/2Extra%20,/db/LXIV/A1/P2/3Extra%20,/db/LXIV/A1/P2/4Extra%20,/db/LXIV/A2/P1/Ord%20,/db/LXIV/A2/P1/CPerma%20,/db/LXIV/A2/P2/Ord%20,/db/LXIV/A2/P2/1Extra%20,/db/LXIV/A2/P2/2Extra%20,/db/LXIV/A2/P2/3Extra%20,/db/LXIV/A3/P1/Ord%20&id=379&num=7289&fecha=20181031&tema=INICIATIVA%20PARA%20APLICAR%20EL%208%%20DE%20IVA%20A%20LAS%20ACTIVIDADES%20DEIMPORTACI%C3%93N%20O%20ENAJENACI%C3%93N%20REALIZADAS%20EN%20LA%20REGI%C3%93N%20FRONTERIZA%20DEL%20NORTE%20DE%20M%C3%89XICO INICIATIVA PARA APLICAR EL 8% DE IVA A LAS ACTIVIDADES DE IMPORTACIÓN O ENAJENACIÓN REALIZAD...\n",
      "INICIATIVA PARA APLICAR TASA DEL 20% DEL ISR A LAS PERSONAS MORALES DE LA REGIÓN FRONTERIZA ... http://cronica.diputados.gob.mx:8080/exist/siid2/xQsiid2.xql?legis=LXIV&coleccion=/db/LXIV/A1/P1/Ord%20,/db/LXIV/A1/P1/CPerma%20,/db/LXIV/A1/P2/Ord%20,/db/LXIV/A1/P2/1Extra%20,/db/LXIV/A1/P2/2Extra%20,/db/LXIV/A1/P2/3Extra%20,/db/LXIV/A1/P2/4Extra%20,/db/LXIV/A2/P1/Ord%20,/db/LXIV/A2/P1/CPerma%20,/db/LXIV/A2/P2/Ord%20,/db/LXIV/A2/P2/1Extra%20,/db/LXIV/A2/P2/2Extra%20,/db/LXIV/A2/P2/3Extra%20,/db/LXIV/A3/P1/Ord%20&id=379&num=7290&fecha=20181031&tema=INICIATIVA%20PARA%20APLICAR%20TASA%20DEL%2020%%20DEL%20ISR%20A%20LAS%20PERSONASMORALES%20DE%20LA%20REGI%C3%93N%20FRONTERIZA%20NORTE INICIATIVA PARA APLICAR TASA DEL 20% DEL ISR A LAS PERSONAS MORALES DE LA REGIÓN FRONTERIZA ...\n",
      "para inscribir en el muro de honor %c2%93al movimiento estudiantil de 1968%c2%94 http://cronica.diputados.gob.mx:8080/exist/siid2/xQsiid2.xql?legis=LXIV&coleccion=/db/LXIV/A1/P1/Ord%20,/db/LXIV/A1/P1/CPerma%20,/db/LXIV/A1/P2/Ord%20,/db/LXIV/A1/P2/1Extra%20,/db/LXIV/A1/P2/2Extra%20,/db/LXIV/A1/P2/3Extra%20,/db/LXIV/A1/P2/4Extra%20,/db/LXIV/A2/P1/Ord%20,/db/LXIV/A2/P1/CPerma%20,/db/LXIV/A2/P2/Ord%20,/db/LXIV/A2/P2/1Extra%20,/db/LXIV/A2/P2/2Extra%20,/db/LXIV/A2/P2/3Extra%20,/db/LXIV/A3/P1/Ord%20&id=405&num=6126&fecha=20180920&tema=PARA%20INSCRIBIR%20EN%20EL%20MURO%20DE%20HONOR%20%C2%93AL%20MOVIMIENTO%20ESTUDIANTIL%20DE%201968%C2%94 PARA INSCRIBIR EN EL MURO DE HONOR AL MOVIMIENTO ESTUDIANTIL DE 1968\n",
      "se declara el 2019 como %c2%93au1o del caudillo del sur, emiliano zapata%c2%94 http://cronica.diputados.gob.mx:8080/exist/siid2/xQsiid2.xql?legis=LXIV&coleccion=/db/LXIV/A1/P1/Ord%20,/db/LXIV/A1/P1/CPerma%20,/db/LXIV/A1/P2/Ord%20,/db/LXIV/A1/P2/1Extra%20,/db/LXIV/A1/P2/2Extra%20,/db/LXIV/A1/P2/3Extra%20,/db/LXIV/A1/P2/4Extra%20,/db/LXIV/A2/P1/Ord%20,/db/LXIV/A2/P1/CPerma%20,/db/LXIV/A2/P2/Ord%20,/db/LXIV/A2/P2/1Extra%20,/db/LXIV/A2/P2/2Extra%20,/db/LXIV/A2/P2/3Extra%20,/db/LXIV/A3/P1/Ord%20&id=411&num=8318&fecha=20181213&tema=SE%20DECLARA%20EL%202019%20COMO%20%C2%93A%C3%91O%20DEL%20CAUDILLO%20DEL%20SUR,%20EMILIANO%20ZAPATA%C2%94 SE DECLARA EL 2019 COMO AÑO DEL CAUDILLO DEL SUR, EMILIANO ZAPATA\n",
      "para inscribir en el muro de honor %c2%93al movimiento estudiantil de 1968%c2%94 http://cronica.diputados.gob.mx:8080/exist/siid2/xQsiid2.xql?legis=LXIV&coleccion=/db/LXIV/A1/P1/Ord%20,/db/LXIV/A1/P1/CPerma%20,/db/LXIV/A1/P2/Ord%20,/db/LXIV/A1/P2/1Extra%20,/db/LXIV/A1/P2/2Extra%20,/db/LXIV/A1/P2/3Extra%20,/db/LXIV/A1/P2/4Extra%20,/db/LXIV/A2/P1/Ord%20,/db/LXIV/A2/P1/CPerma%20,/db/LXIV/A2/P2/Ord%20,/db/LXIV/A2/P2/1Extra%20,/db/LXIV/A2/P2/2Extra%20,/db/LXIV/A2/P2/3Extra%20,/db/LXIV/A3/P1/Ord%20&id=419&num=6128&fecha=20180920&tema=PARA%20INSCRIBIR%20EN%20EL%20MURO%20DE%20HONOR%20%C2%93AL%20MOVIMIENTO%20ESTUDIANTIL%20DE%201968%C2%94 PARA INSCRIBIR EN EL MURO DE HONOR AL MOVIMIENTO ESTUDIANTIL DE 1968\n",
      "para inscribir en el muro de honor %c2%93al movimiento estudiantil de 1968%c2%94 http://cronica.diputados.gob.mx:8080/exist/siid2/xQsiid2.xql?legis=LXIV&coleccion=/db/LXIV/A1/P1/Ord%20,/db/LXIV/A1/P1/CPerma%20,/db/LXIV/A1/P2/Ord%20,/db/LXIV/A1/P2/1Extra%20,/db/LXIV/A1/P2/2Extra%20,/db/LXIV/A1/P2/3Extra%20,/db/LXIV/A1/P2/4Extra%20,/db/LXIV/A2/P1/Ord%20,/db/LXIV/A2/P1/CPerma%20,/db/LXIV/A2/P2/Ord%20,/db/LXIV/A2/P2/1Extra%20,/db/LXIV/A2/P2/2Extra%20,/db/LXIV/A2/P2/3Extra%20,/db/LXIV/A3/P1/Ord%20&id=426&num=6114&fecha=20180920&tema=PARA%20INSCRIBIR%20EN%20EL%20MURO%20DE%20HONOR%20%C2%93AL%20MOVIMIENTO%20ESTUDIANTIL%20DE%201968%C2%94 PARA INSCRIBIR EN EL MURO DE HONOR AL MOVIMIENTO ESTUDIANTIL DE 1968\n",
      "para inscribir en el muro de honor %c2%93al movimiento estudiantil de 1968%c2%94 http://cronica.diputados.gob.mx:8080/exist/siid2/xQsiid2.xql?legis=LXIV&coleccion=/db/LXIV/A1/P1/Ord%20,/db/LXIV/A1/P1/CPerma%20,/db/LXIV/A1/P2/Ord%20,/db/LXIV/A1/P2/1Extra%20,/db/LXIV/A1/P2/2Extra%20,/db/LXIV/A1/P2/3Extra%20,/db/LXIV/A1/P2/4Extra%20,/db/LXIV/A2/P1/Ord%20,/db/LXIV/A2/P1/CPerma%20,/db/LXIV/A2/P2/Ord%20,/db/LXIV/A2/P2/1Extra%20,/db/LXIV/A2/P2/2Extra%20,/db/LXIV/A2/P2/3Extra%20,/db/LXIV/A3/P1/Ord%20&id=430&num=6129&fecha=20180920&tema=PARA%20INSCRIBIR%20EN%20EL%20MURO%20DE%20HONOR%20%C2%93AL%20MOVIMIENTO%20ESTUDIANTIL%20DE%201968%C2%94 PARA INSCRIBIR EN EL MURO DE HONOR AL MOVIMIENTO ESTUDIANTIL DE 1968\n",
      "se declara el 2019 como %c2%93au1o del caudillo del sur, emiliano zapata%c2%94 http://cronica.diputados.gob.mx:8080/exist/siid2/xQsiid2.xql?legis=LXIV&coleccion=/db/LXIV/A1/P1/Ord%20,/db/LXIV/A1/P1/CPerma%20,/db/LXIV/A1/P2/Ord%20,/db/LXIV/A1/P2/1Extra%20,/db/LXIV/A1/P2/2Extra%20,/db/LXIV/A1/P2/3Extra%20,/db/LXIV/A1/P2/4Extra%20,/db/LXIV/A2/P1/Ord%20,/db/LXIV/A2/P1/CPerma%20,/db/LXIV/A2/P2/Ord%20,/db/LXIV/A2/P2/1Extra%20,/db/LXIV/A2/P2/2Extra%20,/db/LXIV/A2/P2/3Extra%20,/db/LXIV/A3/P1/Ord%20&id=425&num=8317&fecha=20181213&tema=SE%20DECLARA%20EL%202019%20COMO%20%C2%93A%C3%91O%20DEL%20CAUDILLO%20DEL%20SUR,%20EMILIANO%20ZAPATA%C2%94 SE DECLARA EL 2019 COMO AÑO DEL CAUDILLO DEL SUR, EMILIANO ZAPATA\n",
      "para inscribir en el muro de honor %c2%93al movimiento estudiantil de 1968%c2%94 http://cronica.diputados.gob.mx:8080/exist/siid2/xQsiid2.xql?legis=LXIV&coleccion=/db/LXIV/A1/P1/Ord%20,/db/LXIV/A1/P1/CPerma%20,/db/LXIV/A1/P2/Ord%20,/db/LXIV/A1/P2/1Extra%20,/db/LXIV/A1/P2/2Extra%20,/db/LXIV/A1/P2/3Extra%20,/db/LXIV/A1/P2/4Extra%20,/db/LXIV/A2/P1/Ord%20,/db/LXIV/A2/P1/CPerma%20,/db/LXIV/A2/P2/Ord%20,/db/LXIV/A2/P2/1Extra%20,/db/LXIV/A2/P2/2Extra%20,/db/LXIV/A2/P2/3Extra%20,/db/LXIV/A3/P1/Ord%20&id=423&num=6134&fecha=20180920&tema=PARA%20INSCRIBIR%20EN%20EL%20MURO%20DE%20HONOR%20%C2%93AL%20MOVIMIENTO%20ESTUDIANTIL%20DE%201968%C2%94 PARA INSCRIBIR EN EL MURO DE HONOR AL MOVIMIENTO ESTUDIANTIL DE 1968\n",
      "para inscribir en el muro de honor %c2%93al movimiento estudiantil de 1968%c2%94 http://cronica.diputados.gob.mx:8080/exist/siid2/xQsiid2.xql?legis=LXIV&coleccion=/db/LXIV/A1/P1/Ord%20,/db/LXIV/A1/P1/CPerma%20,/db/LXIV/A1/P2/Ord%20,/db/LXIV/A1/P2/1Extra%20,/db/LXIV/A1/P2/2Extra%20,/db/LXIV/A1/P2/3Extra%20,/db/LXIV/A1/P2/4Extra%20,/db/LXIV/A2/P1/Ord%20,/db/LXIV/A2/P1/CPerma%20,/db/LXIV/A2/P2/Ord%20,/db/LXIV/A2/P2/1Extra%20,/db/LXIV/A2/P2/2Extra%20,/db/LXIV/A2/P2/3Extra%20,/db/LXIV/A3/P1/Ord%20&id=413&num=6120&fecha=20180920&tema=PARA%20INSCRIBIR%20EN%20EL%20MURO%20DE%20HONOR%20%C2%93AL%20MOVIMIENTO%20ESTUDIANTIL%20DE%201968%C2%94 PARA INSCRIBIR EN EL MURO DE HONOR AL MOVIMIENTO ESTUDIANTIL DE 1968\n",
      "para inscribir en el muro de honor %c2%93al movimiento estudiantil de 1968%c2%94 http://cronica.diputados.gob.mx:8080/exist/siid2/xQsiid2.xql?legis=LXIV&coleccion=/db/LXIV/A1/P1/Ord%20,/db/LXIV/A1/P1/CPerma%20,/db/LXIV/A1/P2/Ord%20,/db/LXIV/A1/P2/1Extra%20,/db/LXIV/A1/P2/2Extra%20,/db/LXIV/A1/P2/3Extra%20,/db/LXIV/A1/P2/4Extra%20,/db/LXIV/A2/P1/Ord%20,/db/LXIV/A2/P1/CPerma%20,/db/LXIV/A2/P2/Ord%20,/db/LXIV/A2/P2/1Extra%20,/db/LXIV/A2/P2/2Extra%20,/db/LXIV/A2/P2/3Extra%20,/db/LXIV/A3/P1/Ord%20&id=450&num=6119&fecha=20180920&tema=PARA%20INSCRIBIR%20EN%20EL%20MURO%20DE%20HONOR%20%C2%93AL%20MOVIMIENTO%20ESTUDIANTIL%20DE%201968%C2%94 PARA INSCRIBIR EN EL MURO DE HONOR AL MOVIMIENTO ESTUDIANTIL DE 1968\n",
      "se declara el 2019 como %c2%93au1o del caudillo del sur, emiliano zapata%c2%94 http://cronica.diputados.gob.mx:8080/exist/siid2/xQsiid2.xql?legis=LXIV&coleccion=/db/LXIV/A1/P1/Ord%20,/db/LXIV/A1/P1/CPerma%20,/db/LXIV/A1/P2/Ord%20,/db/LXIV/A1/P2/1Extra%20,/db/LXIV/A1/P2/2Extra%20,/db/LXIV/A1/P2/3Extra%20,/db/LXIV/A1/P2/4Extra%20,/db/LXIV/A2/P1/Ord%20,/db/LXIV/A2/P1/CPerma%20,/db/LXIV/A2/P2/Ord%20,/db/LXIV/A2/P2/1Extra%20,/db/LXIV/A2/P2/2Extra%20,/db/LXIV/A2/P2/3Extra%20,/db/LXIV/A3/P1/Ord%20&id=456&num=8326&fecha=20181213&tema=SE%20DECLARA%20EL%202019%20COMO%20%C2%93A%C3%91O%20DEL%20CAUDILLO%20DEL%20SUR,%20EMILIANO%20ZAPATA%C2%94 SE DECLARA EL 2019 COMO AÑO DEL CAUDILLO DEL SUR, EMILIANO ZAPATA\n",
      "se declara el 2019 como %c2%93au1o del caudillo del sur, emiliano zapata%c2%94 http://cronica.diputados.gob.mx:8080/exist/siid2/xQsiid2.xql?legis=LXIV&coleccion=/db/LXIV/A1/P1/Ord%20,/db/LXIV/A1/P1/CPerma%20,/db/LXIV/A1/P2/Ord%20,/db/LXIV/A1/P2/1Extra%20,/db/LXIV/A1/P2/2Extra%20,/db/LXIV/A1/P2/3Extra%20,/db/LXIV/A1/P2/4Extra%20,/db/LXIV/A2/P1/Ord%20,/db/LXIV/A2/P1/CPerma%20,/db/LXIV/A2/P2/Ord%20,/db/LXIV/A2/P2/1Extra%20,/db/LXIV/A2/P2/2Extra%20,/db/LXIV/A2/P2/3Extra%20,/db/LXIV/A3/P1/Ord%20&id=455&num=8316&fecha=20181213&tema=SE%20DECLARA%20EL%202019%20COMO%20%C2%93A%C3%91O%20DEL%20CAUDILLO%20DEL%20SUR,%20EMILIANO%20ZAPATA%C2%94 SE DECLARA EL 2019 COMO AÑO DEL CAUDILLO DEL SUR, EMILIANO ZAPATA\n",
      "se declara el 2019 como %c2%93au1o del caudillo del sur, emiliano zapata%c2%94 http://cronica.diputados.gob.mx:8080/exist/siid2/xQsiid2.xql?legis=LXIV&coleccion=/db/LXIV/A1/P1/Ord%20,/db/LXIV/A1/P1/CPerma%20,/db/LXIV/A1/P2/Ord%20,/db/LXIV/A1/P2/1Extra%20,/db/LXIV/A1/P2/2Extra%20,/db/LXIV/A1/P2/3Extra%20,/db/LXIV/A1/P2/4Extra%20,/db/LXIV/A2/P1/Ord%20,/db/LXIV/A2/P1/CPerma%20,/db/LXIV/A2/P2/Ord%20,/db/LXIV/A2/P2/1Extra%20,/db/LXIV/A2/P2/2Extra%20,/db/LXIV/A2/P2/3Extra%20,/db/LXIV/A3/P1/Ord%20&id=485&num=8323&fecha=20181213&tema=SE%20DECLARA%20EL%202019%20COMO%20%C2%93A%C3%91O%20DEL%20CAUDILLO%20DEL%20SUR,%20EMILIANO%20ZAPATA%C2%94 SE DECLARA EL 2019 COMO AÑO DEL CAUDILLO DEL SUR, EMILIANO ZAPATA\n",
      "%3einiciativa para disminuir el precio de gasolinas y el diesel http://cronica.diputados.gob.mx:8080/exist/siid2/xQsiid2.xql?legis=LXIV&coleccion=/db/LXIV/A1/P1/Ord%20,/db/LXIV/A1/P1/CPerma%20,/db/LXIV/A1/P2/Ord%20,/db/LXIV/A1/P2/1Extra%20,/db/LXIV/A1/P2/2Extra%20,/db/LXIV/A1/P2/3Extra%20,/db/LXIV/A1/P2/4Extra%20,/db/LXIV/A2/P1/Ord%20,/db/LXIV/A2/P1/CPerma%20,/db/LXIV/A2/P2/Ord%20,/db/LXIV/A2/P2/1Extra%20,/db/LXIV/A2/P2/2Extra%20,/db/LXIV/A2/P2/3Extra%20,/db/LXIV/A3/P1/Ord%20&id=469&num=7013&fecha=20181023&tema=%3EINICIATIVA%20PARA%20DISMINUIR%20EL%20PRECIO%20DE%20GASOLINAS%20Y%20EL%20DIESEL >INICIATIVA PARA DISMINUIR EL PRECIO DE GASOLINAS Y EL DIESEL\n",
      "para inscribir en el muro de honor %c2%93al movimiento estudiantil de 1968%c2%94 http://cronica.diputados.gob.mx:8080/exist/siid2/xQsiid2.xql?legis=LXIV&coleccion=/db/LXIV/A1/P1/Ord%20,/db/LXIV/A1/P1/CPerma%20,/db/LXIV/A1/P2/Ord%20,/db/LXIV/A1/P2/1Extra%20,/db/LXIV/A1/P2/2Extra%20,/db/LXIV/A1/P2/3Extra%20,/db/LXIV/A1/P2/4Extra%20,/db/LXIV/A2/P1/Ord%20,/db/LXIV/A2/P1/CPerma%20,/db/LXIV/A2/P2/Ord%20,/db/LXIV/A2/P2/1Extra%20,/db/LXIV/A2/P2/2Extra%20,/db/LXIV/A2/P2/3Extra%20,/db/LXIV/A3/P1/Ord%20&id=481&num=6117&fecha=20180920&tema=PARA%20INSCRIBIR%20EN%20EL%20MURO%20DE%20HONOR%20%C2%93AL%20MOVIMIENTO%20ESTUDIANTIL%20DE%201968%C2%94 PARA INSCRIBIR EN EL MURO DE HONOR AL MOVIMIENTO ESTUDIANTIL DE 1968\n",
      "se declara el 2019 como %c2%93au1o del caudillo del sur, emiliano zapata%c2%94 http://cronica.diputados.gob.mx:8080/exist/siid2/xQsiid2.xql?legis=LXIV&coleccion=/db/LXIV/A1/P1/Ord%20,/db/LXIV/A1/P1/CPerma%20,/db/LXIV/A1/P2/Ord%20,/db/LXIV/A1/P2/1Extra%20,/db/LXIV/A1/P2/2Extra%20,/db/LXIV/A1/P2/3Extra%20,/db/LXIV/A1/P2/4Extra%20,/db/LXIV/A2/P1/Ord%20,/db/LXIV/A2/P1/CPerma%20,/db/LXIV/A2/P2/Ord%20,/db/LXIV/A2/P2/1Extra%20,/db/LXIV/A2/P2/2Extra%20,/db/LXIV/A2/P2/3Extra%20,/db/LXIV/A3/P1/Ord%20&id=481&num=8315&fecha=20181213&tema=SE%20DECLARA%20EL%202019%20COMO%20%C2%93A%C3%91O%20DEL%20CAUDILLO%20DEL%20SUR,%20EMILIANO%20ZAPATA%C2%94 SE DECLARA EL 2019 COMO AÑO DEL CAUDILLO DEL SUR, EMILIANO ZAPATA\n",
      "se declara el 2019 como %c2%93au1o del caudillo del sur, emiliano zapata%c2%94 http://cronica.diputados.gob.mx:8080/exist/siid2/xQsiid2.xql?legis=LXIV&coleccion=/db/LXIV/A1/P1/Ord%20,/db/LXIV/A1/P1/CPerma%20,/db/LXIV/A1/P2/Ord%20,/db/LXIV/A1/P2/1Extra%20,/db/LXIV/A1/P2/2Extra%20,/db/LXIV/A1/P2/3Extra%20,/db/LXIV/A1/P2/4Extra%20,/db/LXIV/A2/P1/Ord%20,/db/LXIV/A2/P1/CPerma%20,/db/LXIV/A2/P2/Ord%20,/db/LXIV/A2/P2/1Extra%20,/db/LXIV/A2/P2/2Extra%20,/db/LXIV/A2/P2/3Extra%20,/db/LXIV/A3/P1/Ord%20&id=497&num=8314&fecha=20181213&tema=SE%20DECLARA%20EL%202019%20COMO%20%C2%93A%C3%91O%20DEL%20CAUDILLO%20DEL%20SUR,%20EMILIANO%20ZAPATA%C2%94 SE DECLARA EL 2019 COMO AÑO DEL CAUDILLO DEL SUR, EMILIANO ZAPATA\n"
     ]
    },
    {
     "name": "stdout",
     "output_type": "stream",
     "text": [
      "libro %c2%93camisas azules, manos negras%c2%94 http://cronica.diputados.gob.mx:8080/exist/siid2/xQsiid2.xql?legis=LXI&coleccion=/db/LXI/A1/P1/Ord%20,/db/LXI/A1/P1/CPerma%20,/db/LXI/A1/P2/Ord%20,/db/LXI/A2/P1/Ord%20,/db/LXI/A2/P2/Ord%20,/db/LXI/A3/P1/Ord%20,/db/LXI/A3/P2/Ord%20&id=64&num=7049&fecha=20101215&tema=LIBRO%20%C2%93CAMISAS%20AZULES,%20MANOS%20NEGRAS%C2%94 LIBRO CAMISAS AZULES, MANOS NEGRAS\n"
     ]
    },
    {
     "ename": "TypeError",
     "evalue": "expected string or bytes-like object",
     "output_type": "error",
     "traceback": [
      "\u001b[0;31m---------------------------------------------------------------------------\u001b[0m",
      "\u001b[0;31mTypeError\u001b[0m                                 Traceback (most recent call last)",
      "\u001b[0;32m<ipython-input-43-48e67bb8cf3d>\u001b[0m in \u001b[0;36m<module>\u001b[0;34m\u001b[0m\n\u001b[1;32m      1\u001b[0m for x, y in zip(pd.DataFrame(all_data).link_speech, \n\u001b[1;32m      2\u001b[0m                pd.DataFrame(all_data).topic_speech):\n\u001b[0;32m----> 3\u001b[0;31m     \u001b[0mclean\u001b[0m \u001b[0;34m=\u001b[0m \u001b[0mclean_topic\u001b[0m\u001b[0;34m(\u001b[0m\u001b[0my\u001b[0m\u001b[0;34m,\u001b[0m \u001b[0mx\u001b[0m\u001b[0;34m)\u001b[0m\u001b[0;34m\u001b[0m\u001b[0;34m\u001b[0m\u001b[0m\n\u001b[0m\u001b[1;32m      4\u001b[0m     \u001b[0;32mif\u001b[0m \u001b[0many\u001b[0m\u001b[0;34m(\u001b[0m\u001b[0mre\u001b[0m\u001b[0;34m.\u001b[0m\u001b[0mfindall\u001b[0m\u001b[0;34m(\u001b[0m\u001b[0;34m'%'\u001b[0m\u001b[0;34m,\u001b[0m \u001b[0mclean\u001b[0m\u001b[0;34m)\u001b[0m\u001b[0;34m)\u001b[0m\u001b[0;34m:\u001b[0m\u001b[0;34m\u001b[0m\u001b[0;34m\u001b[0m\u001b[0m\n\u001b[1;32m      5\u001b[0m         \u001b[0mprint\u001b[0m\u001b[0;34m(\u001b[0m\u001b[0mclean\u001b[0m\u001b[0;34m,\u001b[0m \u001b[0mx\u001b[0m\u001b[0;34m,\u001b[0m \u001b[0my\u001b[0m\u001b[0;34m)\u001b[0m\u001b[0;34m\u001b[0m\u001b[0;34m\u001b[0m\u001b[0m\n",
      "\u001b[0;32m<ipython-input-40-bea726fc0c5f>\u001b[0m in \u001b[0;36mclean_topic\u001b[0;34m(y, x)\u001b[0m\n\u001b[1;32m      1\u001b[0m \u001b[0;32mdef\u001b[0m \u001b[0mclean_topic\u001b[0m\u001b[0;34m(\u001b[0m\u001b[0my\u001b[0m\u001b[0;34m,\u001b[0m \u001b[0mx\u001b[0m\u001b[0;34m)\u001b[0m\u001b[0;34m:\u001b[0m\u001b[0;34m\u001b[0m\u001b[0;34m\u001b[0m\u001b[0m\n\u001b[0;32m----> 2\u001b[0;31m     \u001b[0;32mif\u001b[0m \u001b[0many\u001b[0m\u001b[0;34m(\u001b[0m\u001b[0mre\u001b[0m\u001b[0;34m.\u001b[0m\u001b[0mfindall\u001b[0m\u001b[0;34m(\u001b[0m\u001b[0;34m'[...]'\u001b[0m\u001b[0;34m,\u001b[0m \u001b[0my\u001b[0m\u001b[0;34m)\u001b[0m\u001b[0;34m)\u001b[0m\u001b[0;34m:\u001b[0m\u001b[0;34m\u001b[0m\u001b[0;34m\u001b[0m\u001b[0m\n\u001b[0m\u001b[1;32m      3\u001b[0m         \u001b[0;32mreturn\u001b[0m\u001b[0;34m(\u001b[0m\u001b[0my\u001b[0m\u001b[0;34m)\u001b[0m\u001b[0;34m\u001b[0m\u001b[0;34m\u001b[0m\u001b[0m\n\u001b[1;32m      4\u001b[0m     \u001b[0;32melse\u001b[0m\u001b[0;34m:\u001b[0m\u001b[0;34m\u001b[0m\u001b[0;34m\u001b[0m\u001b[0m\n\u001b[1;32m      5\u001b[0m         \u001b[0mtext\u001b[0m \u001b[0;34m=\u001b[0m \u001b[0mre\u001b[0m\u001b[0;34m.\u001b[0m\u001b[0msub\u001b[0m\u001b[0;34m(\u001b[0m\u001b[0;34m'%20'\u001b[0m\u001b[0;34m,\u001b[0m \u001b[0;34m' '\u001b[0m\u001b[0;34m,\u001b[0m \u001b[0mx\u001b[0m\u001b[0;34m.\u001b[0m\u001b[0msplit\u001b[0m\u001b[0;34m(\u001b[0m\u001b[0;34m'tema='\u001b[0m\u001b[0;34m)\u001b[0m\u001b[0;34m[\u001b[0m\u001b[0;36m1\u001b[0m\u001b[0;34m]\u001b[0m\u001b[0;34m)\u001b[0m\u001b[0;34m.\u001b[0m\u001b[0mlower\u001b[0m\u001b[0;34m(\u001b[0m\u001b[0;34m)\u001b[0m\u001b[0;34m\u001b[0m\u001b[0;34m\u001b[0m\u001b[0m\n",
      "\u001b[0;32m/Library/Frameworks/Python.framework/Versions/3.8/lib/python3.8/re.py\u001b[0m in \u001b[0;36mfindall\u001b[0;34m(pattern, string, flags)\u001b[0m\n\u001b[1;32m    239\u001b[0m \u001b[0;34m\u001b[0m\u001b[0m\n\u001b[1;32m    240\u001b[0m     Empty matches are included in the result.\"\"\"\n\u001b[0;32m--> 241\u001b[0;31m     \u001b[0;32mreturn\u001b[0m \u001b[0m_compile\u001b[0m\u001b[0;34m(\u001b[0m\u001b[0mpattern\u001b[0m\u001b[0;34m,\u001b[0m \u001b[0mflags\u001b[0m\u001b[0;34m)\u001b[0m\u001b[0;34m.\u001b[0m\u001b[0mfindall\u001b[0m\u001b[0;34m(\u001b[0m\u001b[0mstring\u001b[0m\u001b[0;34m)\u001b[0m\u001b[0;34m\u001b[0m\u001b[0;34m\u001b[0m\u001b[0m\n\u001b[0m\u001b[1;32m    242\u001b[0m \u001b[0;34m\u001b[0m\u001b[0m\n\u001b[1;32m    243\u001b[0m \u001b[0;32mdef\u001b[0m \u001b[0mfinditer\u001b[0m\u001b[0;34m(\u001b[0m\u001b[0mpattern\u001b[0m\u001b[0;34m,\u001b[0m \u001b[0mstring\u001b[0m\u001b[0;34m,\u001b[0m \u001b[0mflags\u001b[0m\u001b[0;34m=\u001b[0m\u001b[0;36m0\u001b[0m\u001b[0;34m)\u001b[0m\u001b[0;34m:\u001b[0m\u001b[0;34m\u001b[0m\u001b[0;34m\u001b[0m\u001b[0m\n",
      "\u001b[0;31mTypeError\u001b[0m: expected string or bytes-like object"
     ]
    }
   ],
   "source": [
    "for x, y in zip(pd.DataFrame(all_data).link_speech, \n",
    "               pd.DataFrame(all_data).topic_speech):\n",
    "    clean = clean_topic(y, x)\n",
    "    if any(re.findall('%', clean)):\n",
    "        print(clean, x, y)"
   ]
  },
  {
   "cell_type": "code",
   "execution_count": 44,
   "metadata": {},
   "outputs": [
    {
     "data": {
      "text/plain": [
       "array(['EXPIDE LA LEY DE FOMENTO PARA EL DESARROLLO E...',\n",
       "       'ACUERDO DE LOS ORGANOS DE GOBIERNO', 'LEY GENERAL DE SALUD', ...,\n",
       "       'JEFE DE ESTADO - JEFE DE GOBIERNO', 'AUTISMO',\n",
       "       'ARTICULOS 73 Y 74 CONSTITUCIONALES - LEY FEDE...'], dtype=object)"
      ]
     },
     "execution_count": 44,
     "metadata": {},
     "output_type": "execute_result"
    }
   ],
   "source": [
    "pd.DataFrame(all_data).topic_speech.unique()"
   ]
  },
  {
   "cell_type": "code",
   "execution_count": null,
   "metadata": {},
   "outputs": [],
   "source": []
  }
 ],
 "metadata": {
  "kernelspec": {
   "display_name": "Python 3",
   "language": "python",
   "name": "python3"
  },
  "language_info": {
   "codemirror_mode": {
    "name": "ipython",
    "version": 3
   },
   "file_extension": ".py",
   "mimetype": "text/x-python",
   "name": "python",
   "nbconvert_exporter": "python",
   "pygments_lexer": "ipython3",
   "version": "3.8.3"
  }
 },
 "nbformat": 4,
 "nbformat_minor": 4
}
