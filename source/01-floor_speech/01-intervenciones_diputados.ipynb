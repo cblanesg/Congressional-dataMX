{
 "cells": [
  {
   "cell_type": "code",
   "execution_count": 108,
   "metadata": {},
   "outputs": [],
   "source": [
    "import unidecode"
   ]
  },
  {
   "cell_type": "code",
   "execution_count": 34,
   "metadata": {},
   "outputs": [],
   "source": [
    "import pandas as pd\n",
    "import datetime\n",
    "from datetime import date\n",
    "import json"
   ]
  },
  {
   "cell_type": "code",
   "execution_count": 18,
   "metadata": {},
   "outputs": [
    {
     "name": "stderr",
     "output_type": "stream",
     "text": [
      "[WDM] - Current google-chrome version is 85.0.4183\n",
      "[WDM] - Get LATEST driver version for 85.0.4183\n",
      "[WDM] - Driver [/Users/cblanesg/.wdm/drivers/chromedriver/mac64/85.0.4183.87/chromedriver] found in cache\n"
     ]
    },
    {
     "name": "stdout",
     "output_type": "stream",
     "text": [
      " \n"
     ]
    }
   ],
   "source": [
    "from webdriver_manager.chrome import ChromeDriverManager\n",
    "from selenium.webdriver import Chrome\n",
    "from selenium import webdriver\n",
    "import re\n",
    "import time\n",
    "import pandas as pd\n",
    "import datetime\n",
    "import uuid\n",
    "from tqdm import tqdm\n",
    "from datetime import date\n",
    "from selenium.webdriver.chrome.options import Options\n",
    "\n",
    "options = Options()\n",
    "options.add_argument('--headless')\n",
    "driver = webdriver.Chrome(ChromeDriverManager().install())"
   ]
  },
  {
   "cell_type": "code",
   "execution_count": 2,
   "metadata": {},
   "outputs": [],
   "source": [
    "speech64 = pd.read_csv('../../data/diputados/floor-speech/data_links_speeches64.csv').drop(['Unnamed: 0'], axis = 1)"
   ]
  },
  {
   "cell_type": "code",
   "execution_count": 3,
   "metadata": {},
   "outputs": [],
   "source": [
    "def clean_date(x):\n",
    "    return(datetime.date(int(x.split('-')[0]), \n",
    "                        month_to_number(x.split('-')[1].lower()), \n",
    "                        int(x.split('-')[2])))"
   ]
  },
  {
   "cell_type": "code",
   "execution_count": 5,
   "metadata": {},
   "outputs": [],
   "source": [
    "def month_to_number(m):\n",
    "    if m == 'ene':\n",
    "        return(1)\n",
    "    elif m == 'feb':\n",
    "        return(2)\n",
    "    elif m == 'mar':\n",
    "        return(3)\n",
    "    elif m == 'abr':\n",
    "        return(4)\n",
    "    elif m == 'may':\n",
    "        return(5)\n",
    "    elif m == 'jun':\n",
    "        return(6)\n",
    "    elif m == 'jul':\n",
    "        return(7)\n",
    "    elif m == 'ago':\n",
    "        return(8)\n",
    "    elif m == 'sep':\n",
    "        return(9)\n",
    "    elif m == 'oct':\n",
    "        return(10)\n",
    "    elif m == 'nov':\n",
    "        return(11)\n",
    "    elif m == 'dic':\n",
    "        return(12)"
   ]
  },
  {
   "cell_type": "code",
   "execution_count": 16,
   "metadata": {},
   "outputs": [],
   "source": [
    "import unidecode"
   ]
  },
  {
   "cell_type": "code",
   "execution_count": 11,
   "metadata": {},
   "outputs": [],
   "source": [
    "speech64['fecha'] =speech64['fecha'].apply(lambda x: clean_date(x))"
   ]
  },
  {
   "cell_type": "code",
   "execution_count": 22,
   "metadata": {},
   "outputs": [],
   "source": [
    "def get_text_intervencion(link_speech):\n",
    "    driver.get(link_speech)\n",
    "    text_intervencion = unidecode.unidecode(driver.find_element_by_id('Intervencion').text)\n",
    "    return(re.sub('\\n', ' ', re.sub('.*:',  '',text_intervencion)))"
   ]
  },
  {
   "cell_type": "code",
   "execution_count": 23,
   "metadata": {},
   "outputs": [
    {
     "name": "stderr",
     "output_type": "stream",
     "text": [
      "100%|██████████| 7611/7611 [3:24:53<00:00,  1.62s/it]  \n"
     ]
    }
   ],
   "source": [
    "speech = []\n",
    "id_speech = []\n",
    "for i in tqdm(speech64.link_speech):\n",
    "    speech.append(get_text_intervencion(i))\n",
    "    id_speech.append(str(uuid.uuid3(uuid.NAMESPACE_URL,i)))"
   ]
  },
  {
   "cell_type": "code",
   "execution_count": 28,
   "metadata": {},
   "outputs": [],
   "source": [
    "speech64['id_speech'] = id_speech\n",
    "speech64['text_speech'] = speech"
   ]
  },
  {
   "cell_type": "code",
   "execution_count": 91,
   "metadata": {},
   "outputs": [],
   "source": [
    "speeches64 = []\n",
    "for a, b, c, d, e, f, g, h in zip(speech64.year_session, speech64.fecha,speech64.tema, speech64.link_speech,\n",
    "                                 speech64.partido, speech64.name,\n",
    "                                 speech64.id_speech, speech64.text_speech):\n",
    "    temp = {}\n",
    "    temp['legislatura'] = 64\n",
    "    temp['year_session'] = a\n",
    "    temp['year_speech'] = b.year\n",
    "    temp['month_speech'] = b.month\n",
    "    temp['day_speech'] = b.day\n",
    "    temp['topic_speech'] = c\n",
    "    temp['link_speech'] = d\n",
    "    temp['inc_party'] = e\n",
    "    temp['inc_name'] = f\n",
    "    temp['id_speech'] = g\n",
    "    temp['text_speech'] = h \n",
    "    speeches64.append(temp)"
   ]
  },
  {
   "cell_type": "code",
   "execution_count": 339,
   "metadata": {},
   "outputs": [
    {
     "data": {
      "text/plain": [
       "995"
      ]
     },
     "execution_count": 339,
     "metadata": {},
     "output_type": "execute_result"
    }
   ],
   "source": [
    "## Add ID to members\n",
    "## Add ID to members\n",
    "import json\n",
    "\n",
    "with open('/Users/cblanesg/cam.blanes Dropbox/Camila Blanes/floor-speechMX/data/diputados/id_data/legislatura64.json') as f:\n",
    "    data4 = json.load(f)\n",
    "\n",
    "mapping = {}\n",
    "for i in data4:\n",
    "    if i['nombre_completo'] not in mapping.keys() and i['legislatura'] == 64:\n",
    "        mapping[unidecode.unidecode(i['nombre_completo'].lower())] = i['id_legislador']\n",
    "    else:\n",
    "        continue\n",
    "\n",
    "len(mapping)"
   ]
  },
  {
   "cell_type": "code",
   "execution_count": 377,
   "metadata": {},
   "outputs": [],
   "source": [
    "missing_names = []\n",
    "for i in speeches64:\n",
    "    try:\n",
    "        name = unidecode.unidecode(i['inc_name'].lower())\n",
    "        if name == 'ruffo appel ernesto':\n",
    "            i['id'] = mapping['ruffo appel ernesto guillermo']\n",
    "        elif name == 'delgado carrillo mario martin':\n",
    "            i['id'] = mapping['delgado carrillo mario']\n",
    "        elif name == 'espinosa de los monteros garcia adriana':\n",
    "            i['id'] = mapping['espinosa de los monteros garcia adriana maria guadalupe']\n",
    "        elif name == 'interian gallegos limbert ivan':\n",
    "            i['id'] = mapping['interian gallegos limbert ivan de jesus']\n",
    "        elif name == 'olvera bautista sandra simey':\n",
    "            i['id'] = mapping['olvera bautista simey']\n",
    "        elif name == 'villavicencio ayala lorena':\n",
    "            i['id'] = mapping['villavicencio ayala silvia lorena']\n",
    "        elif name == 'rosete sanchez maria':\n",
    "            i['id'] = mapping['rosete maria']\n",
    "        elif name == 'robles montoya angel benjamin':\n",
    "            i['id'] = mapping['robles montoya benjamin']\n",
    "        elif name == 'del toro prez higinio':\n",
    "            i['id'] = mapping['del toro perez higinio']\n",
    "        elif name == 'tagle martinez martha angelica':\n",
    "            i['id'] = mapping['tagle martinez martha']\n",
    "        elif name == 'almaguer pardo maria guadalupe':\n",
    "            i['id'] = mapping['almaguer pardo ma. guadalupe']\n",
    "            \n",
    "        elif name == 'arechiga santamaria jose guillermo':\n",
    "            i['id'] = mapping['jose guillermo arechiga santamaria']\n",
    "        elif name == 'avila olmeda marina del pilar':\n",
    "            i['id'] = mapping['marina del pilar avila olmeda']\n",
    "        elif name == 'carrillo martinez miroslava':\n",
    "            i['id'] = mapping['miroslava carrillo martinez']\n",
    "        elif name == 'charrez pedraza cipriano':\n",
    "            i['id'] = mapping['cipriano charrez pedraza']\n",
    "        elif name == 'cuellar cisneros lorena':\n",
    "            i['id'] = mapping['lorena cuellar cisneros']\n",
    "        elif name == 'duarte olivares horacio':\n",
    "            i['id'] = mapping['horacio duarte olivares']\n",
    "        elif name == 'loera de la rosa juan carlos':\n",
    "            i['id'] = mapping['juan carlos loera de la rosa']\n",
    "        elif name == 'montes salas jose jaime':\n",
    "            i['id'] = mapping['jose jaime montes salas']\n",
    "        elif name == 'morales miranda flor ivone':\n",
    "            i['id'] = mapping['flor ivone morales miranda']\n",
    "        elif name == 'pedrero moreno humberto':\n",
    "            i['id'] = mapping['humberto pedrero moreno']\n",
    "        \n",
    "        elif name == 'ramirez cuellar alfonso':\n",
    "            i['id'] = mapping['alfonso ramirez cuellar']\n",
    "        elif name == 'robledo aburto zoe alejandro':\n",
    "            i['id'] = mapping['zoe alejandro robledo aburto']\n",
    "        elif name == 'morales miranda flor ivone':\n",
    "            i['id'] = mapping['flor ivone morales miranda']\n",
    "        elif name == 'ruiz arias maximiliano':\n",
    "            i['id'] = mapping['maximiliano (deceso) ruiz arias']\n",
    "        \n",
    "        \n",
    "        elif name == 'sales ruiz ciro':\n",
    "            i['id'] = mapping['alfonso ramirez cuellar']\n",
    "        elif name == 'zagal ramirez xochitl nashielly':\n",
    "            i['id'] = mapping['xochitl nashielly zagal ramirez']\n",
    "        elif name == 'mendez reyes laura leticia':\n",
    "            i['id'] = mapping['laura leticia mendez reyes']\n",
    "        elif name == 'sanchez ramiro adrian':\n",
    "            i['id'] = mapping['adrian sanchez ramiro']\n",
    "            \n",
    "            \n",
    "        elif name == 'munoz marquez juan carlos':\n",
    "            i['id'] = mapping['juan carlos munoz marquez']\n",
    "        elif name == 'guel saldivar norma adela':\n",
    "            i['id'] = mapping['guel saldivar norma']\n",
    "        elif name == 'castaneda pomposo javier julian':\n",
    "            i['id'] = mapping['javier julian castaneda pomposo']\n",
    "        elif name == 'morales flores eudoxio':\n",
    "            i['id'] = mapping['eudoxio morales flores']\n",
    "        elif name == 'guevara espinoza ana gabriela':\n",
    "            i['id'] = mapping['ana gabriela guevara espinoza']\n",
    "        elif name == 'sanchez garcia lizeth':\n",
    "            i['id'] = mapping['lizeth sanchez garcia']\n",
    "        elif name == 'esquer gutierrez alberto':\n",
    "            i['id'] = mapping['alberto esquer gutierrez']\n",
    "            \n",
    "        elif name == 'zaleta martinez edmundo':\n",
    "            i['id'] = mapping['edmundo martinez zaleta']\n",
    "        elif name == 'manrique guevara beatriz':\n",
    "            i['id'] = mapping['beatriz manrique guevara']\n",
    "        elif name == 'rayo martinez rogelio':\n",
    "            i['id'] = mapping['rogelio rayo martinez']\n",
    "            \n",
    "        else:\n",
    "            i['id'] = mapping[name]\n",
    "    except:\n",
    "        if name not in missing_names:\n",
    "            missing_names.append(name)\n",
    "            i['id'] = ''\n",
    "        else:\n",
    "            continue"
   ]
  },
  {
   "cell_type": "code",
   "execution_count": 380,
   "metadata": {},
   "outputs": [],
   "source": [
    "## Remove accents \n",
    "for i in speeches64:\n",
    "    i['text_speech'] = unidecode.unidecode(i['text_speech'])"
   ]
  },
  {
   "cell_type": "code",
   "execution_count": 381,
   "metadata": {},
   "outputs": [
    {
     "data": {
      "text/plain": [
       "{'legislatura': 64,\n",
       " 'year_session': 'I',\n",
       " 'year_speech': 2018,\n",
       " 'month_speech': 10,\n",
       " 'day_speech': 9,\n",
       " 'topic_speech': 'RECRUDECIMIENTO DE LA VIOLENCIA EN GUAYMAS Y SUR DE SONORA',\n",
       " 'link_speech': 'http://cronica.diputados.gob.mx:8080/exist/siid2/xQsiid2.xql?legis=LXIV&coleccion=/db/LXIV/A1/P1/Ord%20,/db/LXIV/A1/P1/CPerma%20,/db/LXIV/A1/P2/Ord%20,/db/LXIV/A1/P2/1Extra%20,/db/LXIV/A1/P2/2Extra%20,/db/LXIV/A1/P2/3Extra%20,/db/LXIV/A1/P2/4Extra%20,/db/LXIV/A2/P1/Ord%20,/db/LXIV/A2/P1/CPerma%20,/db/LXIV/A2/P2/Ord%20,/db/LXIV/A2/P2/1Extra%20,/db/LXIV/A2/P2/2Extra%20,/db/LXIV/A2/P2/3Extra%20,/db/LXIV/A3/P1/Ord%20&id=90&num=6635&fecha=20181009&tema=RECRUDECIMIENTO%20DE%20LA%20VIOLENCIA%20EN%20GUAYMAS%20Y%20SUR%20DE%20SONORA',\n",
       " 'inc_party': 'Morena',\n",
       " 'inc_name': 'Aguilar Castillo Heriberto Marcelo',\n",
       " 'id_speech': 'de78d790-2280-334e-911b-247d13cc617c',\n",
       " 'text_speech': ' Muchas gracias, diputada presidenta. Hago uso de la voz desde esta curul con la intencion de hacer eco de los llamados y demandas urgentes de los habitantes de Guaymas y del sur de Sonora, que claman atencion real y contundente por parte de los tres niveles de gobierno, debido al recrudecimiento de la violencia relacionada con el crimen organizado. Como es de dominio publico, el pasado 4 de octubre fueron asesinados cinco policias municipales en Guaymas, por el crimen organizado, y la ultima persona en caer, un transito desarmado que daba el pase a los ninos en un plantel educativo. En Morena creemos en una estrategia de prevencion que combata las causas de esta crisis de seguridad, pero tambien consideramos necesarias las fuerzas coercitivas del Estado en contra de los delincuentes con el fin de dar mayor seguridad y atencion a las personas. Tambien los diputados sonorenses de Morena exigimos que se atienda por parte de la gobernadora la voz del Congreso local en cuanto al nombramiento del fiscal del estado y el secretario de Seguridad Publica, cuyos titulares...  Senor diputado, se ha excedido en su tiempo.  ...el pasado 5 de octubre. Concluyo, presidenta. Los diputados sonorenses expresamos nuestra solidaridad hacia los deudos de los policias atacados y pedimos atender sus demandas, asi como la de los integrantes de la corporacion policiaca en activo, y anunciamos que, a la brevedad, estaremos presentando un punto de acuerdo que formalice estas peticiones. Finalmente, en memoria de los servidores publicos caidos, pido respetuosamente a esta soberania guardar un minuto de silencio en este pleno. Muchas gracias, diputada presidenta.',\n",
       " 'id': 'cc9474dc-fd0e-11ea-83d8-acde48001122'}"
      ]
     },
     "execution_count": 381,
     "metadata": {},
     "output_type": "execute_result"
    }
   ],
   "source": [
    "speeches64[0]"
   ]
  },
  {
   "cell_type": "code",
   "execution_count": 382,
   "metadata": {},
   "outputs": [],
   "source": [
    "with open('../../data/diputados/floor-speech/raw_speech64.json', 'w') as json_file:\n",
    "    json.dump(speeches64, json_file)"
   ]
  },
  {
   "cell_type": "code",
   "execution_count": 148,
   "metadata": {},
   "outputs": [
    {
     "data": {
      "text/plain": [
       "453"
      ]
     },
     "execution_count": 148,
     "metadata": {},
     "output_type": "execute_result"
    }
   ],
   "source": [
    "names_scraped = []\n",
    "for i in speeches64:\n",
    "    if i['inc_name'] not in names_scraped:\n",
    "        names_scraped.append(i['inc_name'])\n",
    "    else:\n",
    "        continue\n",
    "len(names_scraped)"
   ]
  },
  {
   "cell_type": "markdown",
   "metadata": {},
   "source": [
    "### Legislatura 63"
   ]
  },
  {
   "cell_type": "code",
   "execution_count": 44,
   "metadata": {},
   "outputs": [],
   "source": [
    "speech63 = pd.read_csv('../../data/diputados/floor-speech/data_links_speeches63.csv').drop(['Unnamed: 0'], axis = 1)"
   ]
  },
  {
   "cell_type": "code",
   "execution_count": 56,
   "metadata": {},
   "outputs": [],
   "source": [
    "def cleanfecha63(x):\n",
    "    return(datetime.date(int(re.findall('^[0-9]{4}', str(x))[0]), \n",
    "                 int(re.findall('^[0-9]{4}([0-9]{2})', str(x))[0]), \n",
    "                 int(re.findall('[0-9]{2}$', str(x))[0])))"
   ]
  },
  {
   "cell_type": "code",
   "execution_count": 57,
   "metadata": {},
   "outputs": [],
   "source": [
    "speech63['fecha'] =speech63['fecha'].apply(lambda x: cleanfecha63(x))"
   ]
  },
  {
   "cell_type": "code",
   "execution_count": 58,
   "metadata": {},
   "outputs": [
    {
     "name": "stderr",
     "output_type": "stream",
     "text": [
      "100%|██████████| 7963/7963 [3:50:53<00:00,  1.74s/it]   \n"
     ]
    }
   ],
   "source": [
    "speech2 = []\n",
    "for i in tqdm(speech63.link_speech):\n",
    "    speech2.append(get_text_intervencion(i))"
   ]
  },
  {
   "cell_type": "code",
   "execution_count": 59,
   "metadata": {},
   "outputs": [
    {
     "name": "stderr",
     "output_type": "stream",
     "text": [
      "100%|██████████| 7963/7963 [00:00<00:00, 8817.95it/s]\n"
     ]
    }
   ],
   "source": [
    "id_speech2 = []\n",
    "for i in tqdm(speech63.link_speech):\n",
    "    id_speech2.append(str(uuid.uuid3(uuid.NAMESPACE_URL,i)))"
   ]
  },
  {
   "cell_type": "code",
   "execution_count": 61,
   "metadata": {},
   "outputs": [],
   "source": [
    "speech63['id_speech'] = id_speech2\n",
    "speech63['text_speech'] = speech2"
   ]
  },
  {
   "cell_type": "code",
   "execution_count": 62,
   "metadata": {},
   "outputs": [],
   "source": [
    "speeches63 = []\n",
    "for a, b, c, d, e, f, g, h in zip(speech63.year_session, speech63.fecha, \n",
    "                                 speech63.tema, speech63.link_speech,\n",
    "                                 speech63.partido, speech63.name,\n",
    "                                 speech63.id_speech, speech63.text_speech):\n",
    "    temp = {}\n",
    "    temp['legislatura'] = 63\n",
    "    temp['year_session'] = a\n",
    "    temp['year_speech'] = b.year\n",
    "    temp['month_speech'] = b.month\n",
    "    temp['day_speech'] = b.day\n",
    "    temp['topic_speech'] = c\n",
    "    temp['link_speech'] = d\n",
    "    temp['inc_party'] = e\n",
    "    temp['inc_name'] = f\n",
    "    temp['id_speech'] = g\n",
    "    temp['text_speech'] = h \n",
    "    speeches63.append(temp)"
   ]
  },
  {
   "cell_type": "code",
   "execution_count": 63,
   "metadata": {},
   "outputs": [],
   "source": [
    "with open('../../data/diputados/floor-speech/raw_speech63.json', 'w') as json_file:\n",
    "    json.dump(speeches63, json_file)"
   ]
  },
  {
   "cell_type": "code",
   "execution_count": 312,
   "metadata": {},
   "outputs": [],
   "source": [
    "## Add ID to members\n",
    "import json\n",
    "\n",
    "with open('/Users/cblanesg/cam.blanes Dropbox/Camila Blanes/floor-speechMX/data/diputados/id_data/legislatura63.json') as f:\n",
    "    data = json.load(f)"
   ]
  },
  {
   "cell_type": "code",
   "execution_count": 314,
   "metadata": {},
   "outputs": [],
   "source": [
    "mapping_inc_id = {}\n",
    "for i in data:\n",
    "    if i['nombre_completo'] not in mapping_inc_id.keys() and i['legislatura'] == 63:\n",
    "        mapping_inc_id[unidecode.unidecode(i['nombre_completo'].lower())] = i['id_legislador']\n",
    "    else:\n",
    "        continue"
   ]
  },
  {
   "cell_type": "code",
   "execution_count": 315,
   "metadata": {},
   "outputs": [
    {
     "data": {
      "text/plain": [
       "1000"
      ]
     },
     "execution_count": 315,
     "metadata": {},
     "output_type": "execute_result"
    }
   ],
   "source": [
    "len(mapping_inc_id)"
   ]
  },
  {
   "cell_type": "code",
   "execution_count": 333,
   "metadata": {},
   "outputs": [],
   "source": [
    "missing_names63 = []\n",
    "for i in speexches63:\n",
    "    try:\n",
    "        name = unidecode.unidecode(i['inc_name'].lower())\n",
    "        if name == 'hermosillo arteaga carlos gerardo':\n",
    "            i['id'] = mapping_inc_id['hermosillo arteaga carlos gerardo (deceso)']\n",
    "        elif name == 'tamayo morales martha sofia':\n",
    "            i['id'] = mapping_inc_id['tamayo morales martha sofia (licencia)']\n",
    "        elif name == 'moya marin angelica':\n",
    "            i['id'] = mapping_inc_id['moya marin angelica (licencia)']\n",
    "        elif name == 'ovando reazola janette':\n",
    "            i['id'] = mapping_inc_id['ovando reazola janette (licencia)']\n",
    "        elif name == 'schemelensky castro ingrid krasopani':\n",
    "            i['id'] = mapping_inc_id['schemelensky castro ingrid krasopani (licencia)']\n",
    "        elif name == 'abramo masso yerico':\n",
    "            i['id'] = mapping_inc_id['yerico abramo masso']\n",
    "        elif name == 'aguilar robles david':\n",
    "            i['id'] = mapping_inc_id['david aguilar robles']\n",
    "        elif name == 'aguirre chavez marco polo':\n",
    "            i['id'] = mapping_inc_id['marco polo aguirre chavez']\n",
    "        elif name == 'amaro cancino antonio':\n",
    "            i['id'] = mapping_inc_id['antonio amaro cancino']\n",
    "        elif name == 'antelo esper bernardino':\n",
    "            i['id'] = mapping_inc_id['bernardino antelo esper']\n",
    "        elif name == 'basanez garcia pablo':\n",
    "            i['id'] = mapping_inc_id['pablo basanez garcia']\n",
    "        elif name == 'beltrones sanchez sylvana':\n",
    "            i['id'] = mapping_inc_id['sylvana beltrones sanchez']\n",
    "        elif name == 'camacho quiroz cesar octavio':\n",
    "            i['id'] = mapping_inc_id['cesar camacho']\n",
    "        elif name == 'casillas zanatta gabriel':\n",
    "            i['id'] = mapping_inc_id['gabriel casillas zanatta']\n",
    "            \n",
    "        elif name == 'castillo martinez edgar':\n",
    "            i['id'] = mapping_inc_id['edgar castillo martinez']\n",
    "        elif name == 'cervera hernandez felipe':\n",
    "            i['id'] = mapping_inc_id['felipe cervera hernandez']\n",
    "        elif name == 'de la torre valdez yolanda':\n",
    "            i['id'] = mapping_inc_id['yolanda de la torre valdez']\n",
    "        elif name == 'del mazo maza alfredo':\n",
    "            i['id'] = mapping_inc_id['alfredo del mazo maza']\n",
    "        elif name == 'dominguez rex raul':\n",
    "            i['id'] = mapping_inc_id['raul dominguez rex']\n",
    "        elif name == 'elizondo garcia pablo':\n",
    "            i['id'] = mapping_inc_id['pablo elizondo garcia']\n",
    "        elif name == 'gamboa miner pablo':\n",
    "            i['id'] = mapping_inc_id['pablo gamboa miner']\n",
    "        elif name == 'gonzalez salas y petricioli ma. marcela':\n",
    "            i['id'] = mapping_inc_id['ma. marcela gonzalez salas y petricioli']\n",
    "        elif name == 'hinojosa ochoa baltazar manuel':\n",
    "            i['id'] = mapping_inc_id['baltazar manuel hinojosa ochoa']\n",
    "        \n",
    "        \n",
    "        elif name == 'mendez hernandez sandra':\n",
    "            i['id'] = mapping_inc_id['sandra mendez hernandez']\n",
    "        elif name == 'millan bueno rosa elena':\n",
    "            i['id'] = mapping_inc_id['rosa elena millan bueno']\n",
    "        elif name == 'monroy del mazo carolina':\n",
    "            i['id'] = mapping_inc_id['carolina monroy del mazo']\n",
    "        elif name == 'munoz parra maria veronica':\n",
    "            i['id'] = mapping_inc_id['maria veronica munoz parra']\n",
    "        \n",
    "        elif name == 'ortega pacheco ivonne aracelly':\n",
    "            i['id'] = mapping_inc_id['ivonne aracelly ortega pacheco']\n",
    "        elif name == 'ramirez marin jorge carlos':\n",
    "            i['id'] = mapping_inc_id['jorge carlos ramirez marin']\n",
    "        elif name == 'rebollo mendoza maria del rocio':\n",
    "            i['id'] = mapping_inc_id['maria del rocio rebollo mendoza']\n",
    "        elif name == 'rivera sosa jose lorenzo':\n",
    "            i['id'] = mapping_inc_id['jose lorenzo rivera sosa']\n",
    "        \n",
    "        elif name == 'serrano hernandez maricela':\n",
    "            i['id'] = mapping_inc_id['maricela serrano hernandez']\n",
    "        elif name == 'torres cantu daniel':\n",
    "            i['id'] = mapping_inc_id['daniel torres cantu']\n",
    "        elif name == 'trujillo zentella georgina':\n",
    "            i['id'] = mapping_inc_id['georgina trujillo zentella']\n",
    "        elif name == 'cruz blackledge gina andrea':\n",
    "            i['id'] = mapping_inc_id['gina andrea cruz blackledge']\n",
    "        \n",
    "        elif name == 'diaz mena joaquin jesus':\n",
    "            i['id'] = mapping_inc_id['joaquin jesus diaz mena']\n",
    "        elif name == 'enriquez vanderkam mayra angelica':\n",
    "            i['id'] = mapping_inc_id['mayra angelica enriquez vanderkam']\n",
    "        elif name == 'garcia garcia patricia':\n",
    "            i['id'] = mapping_inc_id['patricia garcia garcia']\n",
    "        elif name == 'garza trevino pedro':\n",
    "            i['id'] = mapping_inc_id['pedro garza trevino']\n",
    "        \n",
    "        elif name == 'ibarra montoya victor ernesto':\n",
    "            i['id'] = mapping_inc_id['victor ernesto ibarra montoya']\n",
    "        elif name == 'madero munoz gustavo enrique':\n",
    "            i['id'] = mapping_inc_id['gustavo enrique madero munoz']\n",
    "        elif name == 'murguia gutierrez maria guadalupe':\n",
    "            i['id'] = mapping_inc_id['maria guadalupe murguia gutierrez']\n",
    "        elif name == 'paes martinez jisela':\n",
    "            i['id'] = mapping_inc_id['jisela paes martinez']\n",
    "        \n",
    "        elif name == 'ramos hernandez jorge':\n",
    "            i['id'] = mapping_inc_id['jorge ramos hernandez']\n",
    "        elif name == 'rodriguez della vecchia monica':\n",
    "            i['id'] = mapping_inc_id['monica rodriguez della vecchia']\n",
    "        elif name == 'salas valencia jose antonio':\n",
    "            i['id'] = mapping_inc_id['jose antonio salas valencia']\n",
    "        elif name == 'sheffield padilla francisco ricardo':\n",
    "            i['id'] = mapping_inc_id['francisco ricardo sheffield padilla']\n",
    "        \n",
    "        \n",
    "        elif name == 'yunes linares miguel angel':\n",
    "            i['id'] = mapping_inc_id['miguel angel yunes linares']\n",
    "        elif name == 'fernandez gonzalez waldo':\n",
    "            i['id'] = mapping_inc_id['waldo fernandez gonzalez']\n",
    "        elif name == 'avendano bermudez luis ignacio':\n",
    "            i['id'] = mapping_inc_id['luis ignacio avendano bermudez']\n",
    "        elif name == 'alvarez lopez jorge':\n",
    "            i['id'] = mapping_inc_id['jorge alvarez lopez']\n",
    "        \n",
    "        elif name == 'de leon villard sasil dora luz':\n",
    "            i['id'] = mapping_inc_id['sasil dora luz de leon villard']\n",
    "        elif name == 'de los santos torres daniela':\n",
    "            i['id'] = mapping_inc_id['daniela de los santos torres']\n",
    "        elif name == 'estrada barba remberto':\n",
    "            i['id'] = mapping_inc_id['remberto estrada barba']\n",
    "        elif name == 'gaxiola lezama jorgina':\n",
    "            i['id'] = mapping_inc_id['jorgina gaxiola lezama']\n",
    "        \n",
    "        elif name == 'izquierdo rojas jesus gerardo':\n",
    "            i['id'] = mapping_inc_id['jesus gerardo izquierdo rojas']\n",
    "        elif name == 'ordaz coppel quirino':\n",
    "            i['id'] = mapping_inc_id['quirino ordaz coppel']\n",
    "        elif name == 'falcon venegas sandra luz':\n",
    "            i['id'] = mapping_inc_id['sandra luz falcon venegas']\n",
    "        elif name == 'toledo aceves wendolin':\n",
    "            i['id'] = mapping_inc_id['wendolin toledo aceves']\n",
    "        elif name == 'vazquez parissi cirilo':\n",
    "            i['id'] = mapping_inc_id['cirilo vazquez parissi']\n",
    "        \n",
    "        elif name == 'llerenas morales vidal':\n",
    "            i['id'] = mapping_inc_id['vidal llerenas morales']\n",
    "        elif name == 'marquez canales diana marcela':\n",
    "            i['id'] = mapping_inc_id['diana marcela marquez canales']\n",
    "        elif name == 'mex albornoz mario david':\n",
    "            i['id'] = mapping_inc_id['mario david mex albornoz']\n",
    "        elif name == 'moreno vega magdalena':\n",
    "            i['id'] = mapping_inc_id['magdalena moreno vega']\n",
    "        elif name == 'ojeda aquino elias':\n",
    "            i['id'] = mapping_inc_id['elias ojeda aquino']\n",
    "            \n",
    "        elif name == 'castaneda hoeflich jose clemente':\n",
    "            i['id'] = mapping_inc_id['jose clemente castaneda hoeflich']\n",
    "        elif name == 'lomeli bolanos carlos':\n",
    "            i['id'] = mapping_inc_id['lomeli bolanos carlos (licencia)']\n",
    "        elif name == 'delgadillo garcia veronica':\n",
    "            i['id'] = mapping_inc_id['veronica delgadillo garcia']\n",
    "        elif name == 'espino barrientos manuel de jesus':\n",
    "            i['id'] = mapping_inc_id['espino manuel de jesus']\n",
    "        \n",
    "        elif name == 'martinez garcia jonadab':\n",
    "            i['id'] = mapping_inc_id['jonadab martinez garcia']\n",
    "        elif name == 'munguia gonzalez luis ernesto':\n",
    "            i['id'] = mapping_inc_id['luis ernesto munguia gonzalez']\n",
    "        elif name == 'orantes lopez maria elena':\n",
    "            i['id'] = mapping_inc_id['maria elena orantes lopez']\n",
    "        elif name == 'sosa carpio daniel adrian':\n",
    "            i['id'] = mapping_inc_id['daniel adrian sosa carpio']\n",
    "        elif name == 'banuelos de la torre soralla':\n",
    "            i['id'] = mapping_inc_id['soralla banuelos de la torre']\n",
    "            \n",
    "        elif name == 'campa almaral carmen victoria':\n",
    "            i['id'] = mapping_inc_id['carmen victoria campa almaral']\n",
    "        elif name == 'gutierrez santoyo maria luisa':\n",
    "            i['id'] = mapping_inc_id['maria luisa gutierrez santoyo']\n",
    "        elif name == 'lara salazar mariano':\n",
    "            i['id'] = mapping_inc_id['mariano lara salazar']\n",
    "        elif name == 'quezada salas jose bernardo':\n",
    "            i['id'] = mapping_inc_id['jose bernardo quezada salas']\n",
    "        elif name == 'zetina aguiluz manuel alexander':\n",
    "            i['id'] = mapping_inc_id['manuel alexander zetina aguiluz']\n",
    "        \n",
    "        \n",
    "        elif name == 'clouthier carrillo manuel jesus':\n",
    "            i['id'] = mapping_inc_id['manuel jesus clouthier carrillo']\n",
    "        elif name == 'gonzalez murillo alejandro':\n",
    "            i['id'] = mapping_inc_id['alejandro gonzalez murillo']\n",
    "        elif name == 'flores cervantes hugo eric':\n",
    "            i['id'] = mapping_inc_id['hugo eric flores cervantes']\n",
    "            \n",
    "        elif name == 'zamora zamora salvador':\n",
    "            i['id'] = mapping_inc_id['salvador zamora zamora']\n",
    "            \n",
    "        elif name == 'flores gomez mirza':\n",
    "            i['id'] = mapping_inc_id['flores gomez mirza (licencia)']\n",
    "            \n",
    "        elif name == 'martinez olguin nicanor':\n",
    "            i['id'] = mapping_inc_id['nicanor martinez olguin']\n",
    "            \n",
    "        elif name == 'santis espinoza angel':\n",
    "            i['id'] = mapping_inc_id['angel santis espinoza']\n",
    "            \n",
    "        elif name == 'cancino barffuson sergio rene':\n",
    "            i['id'] = mapping_inc_id['sergio rene cancino barffuson']\n",
    "            \n",
    "      \n",
    "        else:\n",
    "            i['id'] = mapping_inc_id[name]\n",
    "    except:\n",
    "        if name not in missing_names63:\n",
    "            missing_names63.append(name)\n",
    "            i['id'] = ''\n",
    "        else:\n",
    "            continue"
   ]
  },
  {
   "cell_type": "code",
   "execution_count": 383,
   "metadata": {},
   "outputs": [
    {
     "data": {
      "text/plain": [
       "5"
      ]
     },
     "execution_count": 383,
     "metadata": {},
     "output_type": "execute_result"
    }
   ],
   "source": [
    "len(missing_names63)"
   ]
  },
  {
   "cell_type": "code",
   "execution_count": 384,
   "metadata": {
    "scrolled": false
   },
   "outputs": [
    {
     "data": {
      "text/plain": [
       "['yunes linares miguel angel',\n",
       " 'zenteno nunez eduardo francisco',\n",
       " 'campa almaral carmen victoria',\n",
       " 'gutierrez santoyo maria luisa',\n",
       " 'gonzalez murillo alejandro']"
      ]
     },
     "execution_count": 384,
     "metadata": {},
     "output_type": "execute_result"
    }
   ],
   "source": [
    "missing_names63"
   ]
  },
  {
   "cell_type": "code",
   "execution_count": 387,
   "metadata": {},
   "outputs": [
    {
     "data": {
      "text/plain": [
       "{'legislatura': 63,\n",
       " 'year_session': 'I',\n",
       " 'year_speech': 2016,\n",
       " 'month_speech': 2,\n",
       " 'day_speech': 3,\n",
       " 'topic_speech': 'EXPIDE LA LEY DE FOMENTO PARA EL DESARROLLO E...',\n",
       " 'link_speech': 'http://cronica.diputados.gob.mx:8080/exist/siid2/xQsiid2.xql?legis=LXIII&coleccion=/db/LXIII/A1/P1/Ord%20,/db/LXIII/A1/P1/CPerma%20,/db/LXIII/A1/P2/Ord%20,/db/LXIII/A1/P2/1Extra%20,/db/LXIII/A1/P2/2Extra%20,/db/LXIII/A2/P1/Ord%20,/db/LXIII/A2/P1/CPerma%20,/db/LXIII/A2/P2/Ord%20,/db/LXIII/A3/P1/Ord%20,/db/LXIII/A3/P1/CPerma%20,/db/LXIII/A3/P2/Ord%20&id=551&num=5447&fecha=20160203&tema=EXPIDE%20LA%20LEY%20DE%20FOMENTO%20PARA%20EL%20DESARROLLO%20ECON%C3%93MICO%20DE%20MADRES%20SOLTERAS%20Y%20JEFAS%20DE%20FAMILIA,%20Y%20LEY%20DEL%20IMPUESTO%20SOBRE%20LA%20RENTA',\n",
       " 'inc_party': 'Partido Revolucionario Institucional',\n",
       " 'inc_name': 'Abdala Carmona Yahleel',\n",
       " 'id_speech': 'c722e947-9e5e-3eae-8e47-e696d7d93af3',\n",
       " 'text_speech': ' Muchísimas gracias, señor presidente. Compañeras diputadas y compañeros diputados, las jefas de familia tenemos que luchar día a día con dificultades sociales y con dificultades económicas. Tenemos que encontrar el equilibrio perfecto, entregarles a nuestros hijos lo urgente, que es un desarrollo económico y lo que es verdaderamente importante, que es criarlos con amor y con acciones. En esta ley se pretende fusionar ambos, y entregarles a las madres solteras y jefas de familia el bienestar social y familiar para ellas y para sus hijos. En ciertos aspectos las madres solteras no son consideradas en los grupos vulnerables, sin embargo, es importante señalar que se comparten muchas características similares con estos grupos, como lo es la desigualdad en el empleo; la falta de oportunidades laborales y económicas; las bajas posibilidades de desarrollo en educación y personal, y las casi nulas causas y necesidades para poder ayudar a sostener una familia. Además, existen jefas de familia como abuelas, tías, primas, sobrinas u algún otro familiar de género femenino que por diversas causas se tienen que hacer cargo del hogar, de la custodia o de la patria potestad de los menores.  el primero, como proveedoras únicas y responsables de los ingresos y labores del hogar. La otra, solventar las necesidades emocionales y la formación de nuestros hijos. En los últimos años se ha incrementado en nuestro país considerablemente el número de femeninas que se encargan de una familia. Sumamos ya más de 4 millones, de las cuales tristemente solo en el 2015, 35 mil quedaron desempleadas. La iniciativa que hoy presento está dirigida a todas las madres solteras y jefas de familia que se encuentren separadas, viudas, divorciadas, que tengan por esposo una persona con discapacidad y que realizan la manutención de su hogar y la crianza de sus hijos, sin la presencia física o sentimental del padre, del concubino o de cualquier otro varón. Las valientes mujeres que presento en esta iniciativa de ley son todas aquellas que se encuentran en desventajas socioeconómicas. Como mujer, como jefa de familia, como integrante del Partido Revolucionario Institucional, me siento profundamente convencida y comprometida que es prioritario otorgarles a las madres solteras y jefas de familia, un marco jurídico que garantice su bienestar y sus derechos. Por eso les pido, que aprobemos que quieran los patrones aprobar seis horas de turno laborar en lugar de ocho, con ello van a poder satisfacer estas mujeres diferentes aspectos en su hogar y no caer en la necesidad de incurrir en un empleo mal pagado, en que tengan que cubrir doble turno, que repercute directamente en la desintegración familiar y en la descomposición de la sociedad. Por eso este proyecto de ley es para las madres solteras y jefas de familia, para otorgarles las condiciones necesarias para tener un empleo digno y que ellas y sus hijos puedan acceder a una mejor calidad de vida. Los patrones que aprovechen esta Ley de Fomento podrán tener acceso a incentivos fiscales en el SAT, en el Seguro Social; ser susceptibles a descuentos de multas, de recargos, de accesorios, de actualizaciones. Aunado a eso y como parte de los incentivos podrán deducir en sus declaraciones trimestrales o anuales el 100 por ciento de las dos horas diarias que completan una jornada laboral, y que estamos seguros que las madres solteras y jefas de familia van a dedicar al cuidado de sus hijos y de sus familias. El beneficio social que esta ley nos traería es por demás importante y muy necesario. Al compartir las madres más tiempo con sus hijos vamos a evitar embarazos en adolescentes, delincuencia juvenil, adicciones, violencia, violaciones, desnutrición, enfermedades. En fin, tantas cosas que desgraciadamente suceden cuando la madre no está cerca de sus hijos. La propuesta que pongo a consideración de esta soberanía va dirigida a brindar la oportunidad a nuestros hijos de disfrutar de más tiempo del amor, los cuidados y la enseñanza de sus madres, para así, nosotras poder seguir impulsándolos para que se preparen, para que se eduquen y hacer de ellos hombres y mujeres de bien, productivos para esta sociedad. Confiar en las jefas de familia es transformar a México. Gracias. «Iniciativa que expide la Ley de Fomento para el Desarrollo Económico de Madres Solteras y Jefas de Familia, y reforma diversas disposiciones de la Ley del Impuesto sobre la Renta, a cargo del diputado Yahleel Abdala Carmona, del Grupo Parlamentario del PRI  Exposición de Motivos Todo gobierno debe procurar que sus gobernantes mejoren las condiciones de vida de la población, mediante políticas públicas que contribuyan a ello y que mejor que estén tomados en cuentas las más necesitadas, la igualdad ante la ley y la protección a la familia por parte del Estado constituyen también compromisos del Estado Mexicano, esto al haberse suscrito a la Convención Americana sobre Derechos Humanos, el Pacto Internacional de Derechos Civiles y Políticos, y el Pacto Internacional de Derechos Económicos, Sociales y Culturales. Las madres solteras no son reconocidas como parte de los grupos vulnerables, porque esto solo incluyen a los menores y adolescentes, a los discapacitados y a los adultos mayores, sin embargo, es importante señalar que ellas comparten ciertas características con estos grupos, como la desigualdad en las oportunidades laborales, las bajas posibilidades de desarrollo social y económico, en ocasiones la falta de seguridad social, las casi nulas opciones de superación en la educación y un presupuesto reducido que no alcanza para sostener una familia. Además existen jefas de familia, compuestas por abuelas, tías u otro familiar que por diversas causas tienen la custodia o patria potestad de los y las menores o de las personas de capacidades diferentes. Las mujeres por diferentes circunstancias han tenido que asumir las obligaciones de jefas de familia como proveedoras únicas y responsables de los ingresos y las labores del hogar y cubrir aspectos como los afectivo-emocionales y formadoras de los hijos. Las mexicanas y los mexicanos, consideramos como jefe de familia a aquel miembro del núcleo familiar que se encuentra en una posición jerárquica superior al resto de la organización familiar, es aquel que detenta mayor autoridad en la toma de decisiones y el principal soporte económico del hogar. El rol de jefe de familia, tradicionalmente, se le asigna al varón debido a que los estereotipos de género designan a éste como proveedor, sin embargo, factores como el abandono marital, la gran movilidad de los varones, madres solteras, así como la incorporación de las mujeres al mercado laboral extra doméstico, ha incrementado el número de hogares con jefatura femenina. Ser mujer Jefa de Familia implica la responsabilidad de manutención, educación y búsqueda de todo tipo de satisfactores para todas las necesidades de la familia. Se entiende que esta es una jefatura declarada, donde la mujer es la única que toma decisiones, pero debe enfrentarse a las limitaciones que se le presenten en su entorno económico y social. Debido a esa situación de vulnerabilidad, a la que se enfrenta un gran número de mujeres Jefas de Familia, particularmente aquellas en situación económica desfavorable, sufren inequidad y desigualdad en su desarrollo social, humano y como consecuencia de ello, sus hijos o sus dependientes económicos tienen que enfrentarse a un umbral de mayor adversidad, al no contar con la atención de sus necesidades básicas. En estos términos, debemos tener claro que las mujeres que son jefas de familia enfrentan la doble necesidad de obtener ingresos suficientes para sus familias y atender las responsabilidades del cuidado y crianza de sus hijos al mismo tiempo. De lo anterior, se desprende la imperiosa necesidad de generar un ordenamiento legal que garantice la protección y apoyo a las mujeres Jefas de Familias económicamente activas. La iniciativa de ley busca proteger e impulsar el desarrollo económico, personal y productivo de las jefas de familia que asumen la responsabilidad total y única de los hijos menores de edad. El derecho humano al desarrollo de la familia es un derecho fundamental que se encuentra previsto en el artículo 4o. de la Constitución Política de los Estados Unidos Mexicanos, y es una responsabilidad prioritaria del Estado el otorgarla a las personas. Cabe señalar que en la Declaración Universal de los Derechos Humanos, en su artículo 16, numeral 3, señala que \\x93la familia es el elemento natural y fundamental de la sociedad y tiene derecho a la protección de la sociedad y del Estado\\x94. La igualdad ante la ley y la protección a la familia constituyen también compromisos del Estado Mexicano, al haber suscrito la Convención Americana sobre Derechos Humanos, el Pacto Internacional de Derechos Civiles y Políticos, y el Pacto Internacional de Derechos Económicos, Sociales y Culturales. Cobra relevancia lo anterior, por la reforma publicada en el Diario Oficial de la Federación el 10 de junio del 2011, la cual establece que las y los mexicanos gozaremos de los derechos consagrados en la Constitución Política de los Estados Unidos Mexicanos y en los Tratados Internacionales de los que el Estado mexicano sea parte, y de las garantías para su protección. Bajo estas consideraciones, en algunos estados del país, como el Distrito Federal y Sonora se han expedido leyes con el propósito de proteger a las madres solteras jefas de familia. En algunas entidades como Baja California Sur, Coahuila, Chihuahua, Colima, Guerrero, Puebla, Michoacán, Oaxaca y Querétaro, sólo han presentado diversas iniciativas con el mismo propósito, pero no cubriendo, a pesar de los avances referidos no se han considerado impulso alguno para las madres solteras económicamente activas. Por ello, la iniciativa con proyecto de decreto que se presenta a esta soberanía, tiene por objeto sentar las bases para impulsar a las económicamente activas, esas madres solteras jefas de familia que tengan a su cargo hijos menores de edad, que no perciban más de 3 salarios mínimos diarios vigentes para el Distrito Federal o en el área geográfica de aplicación, a efecto de que puedan mejorar su calidad de vida y la de sus hijos e hijas y puedan alcanzar una plena integración a la sociedad. La Iniciativa está dirigida a todas aquellas madres solteras jefas de familia que actualmente se encuentran separadas, viudas o divorciadas y que realizan la crianza de sus hijos e hijas menores de dieciocho años de edad, sin la presencia física, ni el apoyo económico del padre, del concubino o de cualquier otro varón. Para las madres solteras jefas de familia, cuya obligación es cubrir las necesidades básicas de sus hijos e hijas, en muchas de las ocasiones no les permite cumplirlas plenamente, debido a que al mismo tiempo deben cubrir funciones domésticas y educativas, en forma simultánea, ocupando todo su tiempo para ello, lo que se traduce que no dispongan de un momento de su vida para salir a trabajar y llevar lo indispensable para mantener a sus descendientes y muchas de las veces se ven en la necesidad de optar por trabajos con menores ingresos o en ocasiones acceden a trabajos precarios. De acuerdo con el Inegi, en su Encuesta Nacional de Ocupación y Empleo (ENOE), 35 mil jefas de familia quedaron desempleadas en el 2015, la mayoría son mujeres mayores de 40 años y madres solteras sobre quienes pesa el sustento de sus hogares, con sueldos entre uno y dos salarios mínimos. Este mismo instituto precisa que de los 48 millones 823 mil mexicanos que trabajan 18 millones 791 mil son mujeres, es decir 38.4%. De ellas, las que son madres de uno y hasta más de 6 hijos suman 13 millones 853 mil trabajadoras, es decir 73% de la población laboral femenina. Las madres que cumplen con la doble condición de trabajar y ser jefas de familia suman, a su vez los 3 millones 832 mil 689 referidos. Dicha cantidad representa, a su vez, 89% entre el total de jefas de familia (se incluyen las que no tienen hijos), 27.6% entre las madres trabajadoras y apenas 20% o la quinta parte entre todas las mexicanas que trabajan. Más de la mitad de las madres trabajadoras (7 millones 68 mil) tienen uno o dos vástagos. Otro 41% (5 millones 696 mil) tiene entre 3 y 5 hijos y hay un 7.3% equivalente a un millón 87 mujeres que declaró tener 6 hijos vivos o más.  en el grupo de 3 a 5 hijos representan 54.6%, entra las que tienen de uno a 2 hijos representaron 43% y en las de más de 6 hijos el 72% del grupo. Las jefas de familia, tienen que luchar día a día con dificultades económicas y sociales en el país, debemos hacer todos los esfuerzos financieros posibles para encontrar el difícil equilibrio entre lo urgente, que es dar la oportunidad de un verdadero desarrollo económico a las jefas de familia, y lo verdaderamente importante, ambas se traducen con una ley que pueda garantizar a madres solteras jefas de familia el bienestar social y familiar de sus hijos e hijas menores de edad. De acuerdo con lo anterior, se propone la Ley de Fomento a las Jefas de Familia, la cual en su Título Primero se establecen las disposiciones generales, donde se define a las madres solteras como aquellas mujeres viudas, divorciadas, separadas o que hayan procreado algún hijo o hija en forma independiente, que asuman por completo la responsabilidad económica de sus descendientes en línea recta. Es nuestra responsabilidad como representantes del pueblo de México generar las condiciones para incrementar las oportunidades de los grupos vulnerables, las madres jefas de familia representan una considerable cifra en la integración de la sociedad, pero más que verlas como un número importante, viven la desigualdad en las oportunidades laborales, las escasas opciones de desarrollo social y económico, de seguridad social, de políticas de apoyo encaminadas a la superación de su educación y lo que más pega, un presupuesto reducido que no alcanza para el sostenimiento de un hogar. Como mujer y diputada integrante de la Fracción Parlamentaria del Partido Revolucionario Institucional, me siento convencida y comprometida que es prioritario e impostergable que las madres jefas de familia cuenten con un marco jurídico que proteja y garantice sus derechos, al margen de brindarle las herramientas de apoyo necesarias que les permitan trabajar turnos de medio turno y ganar lo suficiente para satisfacer las necesidades de su hogar sin la necesidad de encontrarse en un empleo mal pagado, que pueda contar con las condiciones de un empleo digno. Las mujeres jefas de familia en el Proyecto de Ley que tengo a bien presentar, son aquellas que se encuentran en condiciones de desventaja socioeconómica, por el hecho de ser madres jefas de familia y ser el único sostén económico de hijas e hijos menores de edad, con independencia de las circunstancias que originaron dicha situación, las cuales deben de ser sujetas de apoyos, programas y políticas públicas compensatorias. El Instituto Nacional de la Mujeres señala que del total de mujeres que trabajan, un 65 por ciento se concentra en el sector servicios (restaurantes y comercios), 20.2 por ciento son empleadas de oficinas, 13.1 por ciento lo hace sin recibir ninguna remuneración y sólo 1.8 por ciento son empleadoras, es decir, la mayor parte de las mujeres son contratadas con ingresos inferiores a los tres salarios mínimos, situación a la que habrá que agregar los casos en que se les somete a examen de ingravidez o se les cancela el contrato cuando están embarazadas. Adicionalmente a esta situación de humillación y desventaja, tienen que enfrentar jornadas laborales extenuantes y el permanente acoso sexual de sus jefes o compañeros de trabajo. En el Grupo Parlamentario del Partido Revolucionario Institucional, consideramos que en un Estado social de derecho, y por ende en una democracia que, para serlo cabalmente, tiene que ser ajena a la exclusión, a la marginación y a la desigualdad, asegurando el pleno ejercicio de los derechos y de las libertades de las personas. Un objetivo como éste necesariamente conlleva la posibilidad de acceso a la igualdad real de oportunidades a las madres solteras o jefas de familia, persistentemente escatimada por un modelo económico y por una realidad lacerante que se agrava día a día. Por tanto, la propuesta que ponemos a la consideración de esta soberanía va dirigida a impulsar el desarrollo económico de aquellas mujeres que siendo madres solteras y al mismo tiempo jefas de familia, asumen cada día las responsabilidades de ser el único ingreso familiar. En vista de las anteriores consideraciones, y con fundamento en lo dispuesto en el artículo 71, fracción II, de la Constitución Política de los Estados Unidos Mexicanos, someto a la consideración de esta soberanía el siguiente proyecto de Decreto por el que se expide la Ley de Fomento para el Desarrollo Económico de Madres Solteras Jefas de Familia.  Título Primero Disposiciones Generales Capítulo I Del Fomento para el Desarrollo Económico de Madres Solteras Jefas de Familia Artículo 1. La presente Ley es de orden público, interés social y de observancia en el territorio nacional, y tiene por objeto fomentar el empleo de medio tiempo a las madres solteras jefas de familia, recibiendo sueldo de tiempo completo. Artículo 2. Serán objeto de la presente Ley, las madres solteras jefas de familia. Artículo 3. La Federación, las entidades federativas, el Distrito Federal y los municipios en el ámbito de sus respectivas competencias expedirán el reglamento y/o normas legales necesarias, para realizar las medidas presupuestables y administrativas correspondientes, para garantizar el cumplimiento de la presente Ley. La interpretación administrativa de esta Ley en el ámbito federal, corresponderá a través de la Secretaria de Trabajo y Previsión Social, en el ámbito de sus respectivas atribuciones.   Ley de Fomento para el Desarrollo Económico de Madres Solteras Jefas de Familia;  Presidente Constitucional de los Estados Unidos Mexicanos;  La Secretaría de Trabajo y Previsión Social;  Mujeres beneficiarias que se encuentren viudas, divorciadas, separadas o que hayan procreado algún hijo o hija en forma independiente, que asuman el rol de jefas de familia y se encarguen en forma única y total de los alimentos de sus descendientes en línea recta, menores de 0 a 18 años de edad; V. Servicio.- Servicio Nacional de Empleo. VI. Medio tiempo.- Se entenderá como turno de medio tiempo aquel periodo laboral diario que no sobrepase las 4 horas, para mayor ahondamiento se estará lo indicado en el rubro de horas laborables lo indicado en la Ley Federal del Trabajo.  I. Promover la creación de nuevos empleos y de reafirmar los ya existentes para las Madres Solteras Jefas de Familia; II. Diseñar políticas para incorporar a las madres solteras jefas de familia al ámbito laboral, mediante empleo digno; III. Apoyar a las empresas en la formación, capacitación, especialización y todo lo necesario para lograr el crecimiento profesional de las madres solteras jefas de familia, mediante programas del Servicio; IV. Orientar a las madres solteras jefas de familia para la búsqueda de un empleo de calidad acorde a sus perfiles, expectativas y entorno, y V. Brindar servicios especializados y gratuitos para la atención de las madres solteras jefas de familia en busca de empleo, así como los destinados para desarrollar competencias, habilidades y certificaciones laborales. Artículo 6. Las acciones a que se refiere el artículo anterior se ejecutarán de manera coordinada entre las entidades federativas, el Distrito Federal, los municipios, organizaciones empresariales y de la sociedad civil a través del Servicio Nacional de Empleo en coordinación con los servicios locales de empleo. Artículo 7. La Secretaría, expedirá los lineamientos generales para que las madres solteras jefas de familia puedan acceder a programas de fomento al desarrollo económico de las madres solteras jefas de familia en las empresas o dependencias del sector público y privado. Artículo 8. Las acciones o programas tendrán como finalidad contribuir a la integración a la fuerza laboral formal, sin desatender a sus hijos menores de edad a las madres solteras jefas de familia en empleos de nueva creación o bien a los ya existentes bajo las condiciones de esta ley. Artículo 9. Las disposiciones que no se encuentren previstas en la presente Ley, deberán sujetarse a los principios, criterios y disposiciones que establezca la Ley Federal del Trabajo y de otras leyes relacionadas con la materia que regula este ordenamiento. Capítulo II Beneficios del Fomento para el Desarrollo Económico de Madres Solteras Jefas de Familia para los Patrones   a) Estar legalmente constituidas conforme a las leyes de su entidad; b) Contar con registro patronal ante el Instituto Mexicano del Seguro Social; c) Encontrarse al corriente en el cumplimiento de sus obligaciones tributarias, de conformidad con lo establecido en los ordenamientos jurídicos aplicables, en caso de no estar al corriente, al inscribirse en este programa, podrán ser susceptibles a un descuento no menor del 30% del monto total del adeudo, multas, incluyendo recargos, accesorios y actualizaciones; d) No ser una entidad pública, ni formar parte de las administraciones públicas de la Federación, entidades federativas o municipios; e) Entregar la documentación e información que reglamentariamente se determine; f) Participar en programas de empleo o en acciones de promoción, formación o reconversión profesionales que se determinen; g) Entregar informes, datos y documentación que les sea requerido con relación al puesto de nueva creación o a la trabajadora madre soltera jefa de familia colocada; h) Los demás que determinen esta ley, el reglamento y otros ordenamientos aplicables. II. En el caso de patrones, deberán cumplir con los mismos requisitos exceptuando el contemplado en el inciso a) de la fracción I de este artículo.  I. Apoyar a los patrones que contraten a las madres solteras jefas de familia; II. Estimular y promover la incorporación de las madres solteras jefas de familia a un empleo en el sector formal adecuado a sus perfiles, expectativas y entorno; III. Impulsar la capacitación de las madres solteras jefas de familia en el desarrollo de sus habilidades según el perfil del empleo y expectativas; IV. Fomentar el trabajo de medio tiempo para con las madres solteras jefas de familia; V. Suscribir y celebrar acuerdos y convenios de coordinación con los gobiernos estatales y municipales, para transparentar el trabajo de medio tiempo, fomentando siempre el fortalecimiento del núcleo familiar; VI. Los patrones que contraten a las madres solteras jefas de familia en los términos de la presente Ley, tendrán acceso a los estímulos fiscales de los que manifestados en la presente Ley. VII. Los patrones deberán inscribirse en la Secretaría y en el Servicio a fin de poder tener derecho a los estímulos fiscales a los que tengan derecho. VIII. Los interesados en inscribirse en el padrón como empresas o patrones con interés de contratar a las madres solteras jefas de familia, deberán presentar su solicitud de inscripción dentro del plazo que establezca el reglamento o leyes aplicables, adjuntando la documentación necesaria para acreditar que cuenta con los requisitos a que se refiere el artículo anterior, en caso de no encontrarse en el cumplimiento de sus obligaciones fiscales, la autoridad contemplara su regularización con un porcentaje de condonación no menor al 30% del monto total del adeudo, multas, recargos, accesorios y actualizaciones Título Segundo Del Fomento al Desarrollo Económico a Madres Solteras Jefas de Familia Capítulo I De las Madres Solteras Jefas de Familia Artículo 12. Tienen derecho al apoyo y a los beneficios a que se refiere el esta Ley todas las madres solteras jefas de familia. Artículo 13. Las madres solteras jefas de familia, tendrán derecho a empleos de nueva creación o bien a los ya existentes trabajando medio tiempo y percibiendo el total de un sueldo de tiempo completo. Artículo 14. Las contrataciones deberán ser de calidad y de acuerdo con los perfiles, expectativas y entorno.  I. Recibir información de los trámites necesarios para acceder a los beneficios de esta Ley; III. Cumplir con los requisitos fijados en el Artículo 16 para ser beneficiaria; IV. Manifestar por escrito bajo protesta de decir verdad no contar con otros apoyos económicos otorgados por institución pública o privada o gobierno alguno.  I. Ser mexicana y residir en el territorio nacional; II. Tener hijos menores de edad y que dependen económicamente de la madre; III. Contar con un ingreso menor o igual a dos salarios mínimos vigentes para el Distrito Federal o área geográfica de aplicación; IV. Tener descendientes en línea recta que tengan entre 0 y 18 años de edad; V. No contar con apoyo económico de otras instituciones públicas o privadas, ni de gobierno alguno; VI. Acreditar la residencia en territorio nacional; VII. Acreditar la ausencia del cónyuge o concubino; y VIII. Los demás que prevean expresamente las disposiciones reglamentarias.  I. Contraiga nuevas nupcias o se una en concubinato; II. Reciba otros ingresos mensuales otorgados por una institución pública o privada o gobierno alguno por su condición de madre o jefa de familia; y III. Tenga hijos mayores de 18 de edad. Capítulo II De la Coordinación Interinstitucional e Intergubernamental  I. Establecer el registro denominado de las madres solteras jefas de familia, para conocer la integración de los mismos en la apertura de puestos de nueva creación; II. Establecer mecanismos e instrumentos de cooperación y vinculación, así como promover la celebración de convenios y acuerdos con dependencias de las distintas ramas y órdenes de gobierno y los órganos autónomos, para diseñar, planear, coordinar, aplicar y fortalecer políticas, programas y acciones de fomento al empleo de las madres solteras jefas de familia; III. Establecer convenios y acuerdos bilaterales y multilaterales, mediante los cuales se incentiven el desarrollo integral de políticas públicas en la materia de fomento al empleo madres solteras jefas de familia, y IV. Establecer a través del Sistema Nacional de Empleo, el sistema de colocación de las madres solteras jefas de familia, que decidan convertirse en trabajadoras en base y en los términos de la presente Ley. Transitorios  Título VII De los Estímulos Fiscales (...) (...) Capítulo IX Del Fomento al Desarrollo Económico de las Madres Solteras Jefas de Familia Artículo 205. Las disposiciones de este Capítulo tienen por objeto incentivar la creación de nuevos empleos, así como fomentar los ya existentes de carácter permanente en territorio nacional, así como fomentar el empleo de madres solteras jefas de familia. Artículo 206. Los patrones que contraten a trabajadoras madres solteras jefas de familia para ocupar puestos de nueva creación o existentes, tendrán derecho a una deducción adicional en el impuesto sobre la renta.  I. Al salario base y/o salario mínimo general a que se refiere esta Ley multiplicado por el número de días laborados en el mes o en el año por cada trabajadora madres solteras jefas de familia, según corresponda, se le disminuirá el monto que resulte de multiplicar dicha cantidad por la tasa establecida de esta Ley vigente en el ejercicio en que se aplique la deducción. II. El resultado obtenido conforme a la fracción anterior, se dividirá entre la tasa del impuesto sobre la renta vigente en el ejercicio de que se trate. III. El 40% del monto obtenido conforme a la fracción anterior será el monto máximo de la deducción adicional aplicable en el cálculo del pago provisional o del ejercicio, según corresponda. La deducción adicional determinada conforme a esta fracción, será aplicable en el ejercicio y en los pagos provisionales sin que en ningún caso exceda el monto de la utilidad fiscal o de la base que en su caso corresponda determinada antes de aplicar dicha deducción adicional. IV. El patrón que no considere en el cálculo de los pagos provisionales o del ejercicio fiscal que corresponda la deducción adicional, pudiendo haberlo hecho conforme al mismo, perderá el derecho a hacerlo en los pagos provisionales o en los ejercicios posteriores hasta por la cantidad en la que pudo haberla aplicado. La deducción adicional a que se refiere este artículo deberá considerarse para efectos de calcular la renta gravable que servirá de base para la determinación de la participación de los trabajadores en las utilidades de las empresas a que se refiere el artículo 123, Apartado A, fracción IX, inciso e) de la Constitución Política de los Estados Unidos Mexicanos. El monto de la deducción adicional sólo será aplicable tratándose de trabajadoras El monto de la deducción adicional sólo será aplicable tratándose de trabajadoras madres solteras jefas de familia. Tratándose de patrones personas físicas, la deducción adicional a que se refiere esta Ley sólo será aplicable contra los ingresos obtenidos por la realización de actividades empresariales y servicios profesionales, y por arrendamiento y en general por otorgar el uso o goce temporal de bienes inmuebles a que se refieren los capítulos correspondientes de esta Ley.   la persona física o moral que tenga ese carácter en los términos de lo dispuesto por el artículo 10 de la Ley Federal del Trabajo.  la persona física que tenga ese carácter conforme a lo previsto por el artículo 8 de la Ley Federal del Trabajo.  es aquella trabajadora que no tenga registro previo de aseguramiento en el régimen obligatorio ante el Instituto Mexicano del Seguro Social por ser de recién ingreso a la fuerza laboral mexicana o bien que pueda tener ya existente su registro ante el Instituto Mexicano del Seguro Social.  todo aquel de nueva creación y que incremente el número de trabajadores asegurados en el régimen obligatorio ante el Instituto Mexicano del Seguro Social a partir de la entrada en vigor de este artículo y en los términos de lo dispuesto en el artículo 232 de esta Ley.  todos aquéllos creados con anterioridad a la entrada en vigor del estímulo a que se refiere la presente Ley.  el que en los términos de la Ley del Seguro Social se integra como salario base de cotización para la determinación de las cuotas de seguridad social. Artículo 208. Para efectos de la aplicación de los beneficios establecidos en esta Ley, puesto de nueva creación será aquél que incremente el número de trabajadores asegurados registrados en el régimen obligatorio del Instituto Mexicano del Seguro Social en cada ejercicio fiscal. Para determinar el número base de los registros cuyo incremento se considerará puesto de nueva creación, no se tomarán en cuenta las bajas en los registros correspondientes de trabajadores pensionados o jubilados durante el ejercicio fiscal de que se trate, así como aquellas bajas registradas de los últimos dos meses de promulgadas la presente reforma. Los puestos ya existentes serán aquellos con los que cuente actualmente el patrón para sus labores cotidianas de su vida comercial. Artículo 209. La deducción adicional a que se refiere esta Ley se aplicará en el ejercicio fiscal de que se trate, así como en el cálculo de los pagos provisionales del impuesto sobre la renta. La determinación de la deducción adicional que se podrá aplicar en los pagos provisionales se llevará a cabo en los mismos términos y condiciones establecidos en esta Ley, pero considerando el salario base pagado a las trabajadoras madres solteras jefas de familia en el periodo al que corresponda el pago. Tratándose de personas morales, el patrón disminuirá de la utilidad fiscal que corresponda al pago provisional de que se trate, el monto de la deducción adicional que resulte para el mes de que se trate. Para efectos de la determinación del coeficiente de utilidad a que se refiere esta Ley, no deberá considerarse la deducción adicional aplicada en el ejercicio inmediato anterior a aquél por el que se calcula el coeficiente.  I. Sus relaciones laborales se deberán regir por el apartado A del artículo 123 de la Constitución Política de los Estados Unidos Mexicanos. II. Crear puestos nuevos o en los ya existentes en su empresa, contratar madres solteras jefas de familia para ocuparlos. III. Inscribir a las madres solteras jefas de familia ante el Instituto Mexicano del Seguro Social, en los términos que establece la Ley del Seguro Social. IV. Determinar y enterar al Instituto Mexicano del Seguro Social el importe de las cuotas obrero-patronales causadas tanto por las trabajadoras madres solteras jefas de familia, como por el resto de los trabajadores a su servicio, conforme a lo dispuesto en la Ley del Seguro Social. Además, respecto de los trabajadores a que se refiere el párrafo anterior, se deberá cumplir con las obligaciones de retención y entero a que se refiere esta Ley. V. No tener a su cargo adeudos por créditos fiscales firmes determinados tanto por el Servicio de Administración Tributaria, como por el Instituto Mexicano del Seguro Social, en caso de tenerlos, al incorporarse al padrón de patrones de la presente ley, se harán acreedores de los beneficios de descuentos por adeudos fiscales anteriores, que no será menor al 50% del monto total, multas, recargos y actualizaciones. VI. Presentar ante el Servicio de Administración Tributaria el aviso y la información mensual, de conformidad con las reglas de carácter general que emita dicho órgano desconcentrado. VII. Cumplir con las obligaciones de seguridad social que correspondan según los ordenamientos legales aplicables. Artículo 211. El patrón no perderá el beneficio que le otorga el presente Capítulo en caso de que a la trabajadora madres soltera jefa de familia le sea rescindido su contrato de trabajo en términos de lo establecido por el artículo 47 de la Ley Federal del Trabajo y ésta sea sustituida por otra trabajadora madre soltera jefa de familia, siempre que el patrón conserve el puesto de nueva creación o el ya existente vacante, conforme lo establecido esta Ley.   a) El registro federal de contribuyentes. b) Todos los registros patronales ante el Instituto Mexicano del Seguro Social asociados al registro federal de contribuyentes.  a) El nombre completo. b) El número de seguridad social. c) La clave única de registro de población. d) El registro federal de contribuyentes. e) El monto del salario base de cotización con el que se encuentran registradas ante el Instituto Mexicano del Seguro Social. f) El monto de las cuotas de seguridad social pagadas. III. El monto de la deducción adicional aplicada en el mes de que se trate.  a) El número de seguridad social de la trabajadora sustituida. b) El número de seguridad social de la trabajadora sustituta, de quien deberá entregarse la información señalada en la fracción II de este artículo. V. La demás información necesaria para verificar la correcta aplicación de la deducción adicional establecida en el artículo 205 de la presente Ley. El Servicio de Administración Tributaria deberá remitir copia de la información que presenten los patrones en los términos de este artículo al Instituto Mexicano del Seguro Social. Artículo 213. Los patrones que en un ejercicio fiscal incumplan con los requisitos establecidos en este Capítulo para aplicar la deducción adicional a que se refiere el artículo 205 de esta Ley, perderán el derecho a aplicar dicha deducción adicional por el periodo de un año natural por la contratación de trabajadoras madres solteras jefas de familia que se realicen en ejercicios posteriores a aquél en el que se incurrió en incumplimiento. Artículo 214. Con independencia de las sanciones que se apliquen a los patrones que de manera indebida efectúen la deducción adicional prevista en el artículo 205 de esta Ley, dichos patrones deberán pagar el impuesto sobre la renta que le hubiera correspondido de no haber aplicado en los pagos provisionales o en el ejercicio de que se trate la deducción adicional a que se refiere el mencionado artículo 205, debidamente actualizado y con los recargos que correspondan, en los términos de las disposiciones fiscales aplicables, desde la fecha en la que se aplicó indebidamente la mencionada deducción adicional y hasta el día en el que se efectúe el pago.\\x94 Transitorios Primero. El presente Decreto entrará en vigor a partir del día siguiente al de su publicación en el Diario Oficial de la Federación. Segundo. El Capítulo IX \\x93Del fomento al desarrollo económico de las madres solteras jefas de familia\\x94 de la Ley del Impuesto sobre la Renta no tendrá una vigencia, por lo que será incluido en esta ley en forma permanente y su duración será igual. Tercero. El monto máximo de la deducción adicional a que se refiere el artículo 205 de la Ley del Impuesto sobre la Renta se disminuirá en un 5% a partir del segundo año de vigencia del presente Decreto y así en forma gradual por el mismo porcentaje por año transcurrido hasta pagar sus cuotas en forma regular igual que por los demás trabajadores. Cuarto. Para los efectos del artículo 212 de la Ley del Impuesto sobre la Renta, la información que deban presentar los patrones respecto de las contrataciones de trabajadoras realizadas en el primer mes del primer año de vigencia del Capítulo IX del título VII de la Ley del Impuesto sobre la Renta, se deberá efectuar el día 17 del mes inmediato posterior a dicho mes. Quinto. La Federación, las entidades federativas y el Distrito Federal, deberán incluir en sus proyectos de presupuesto de egresos para los ejercicios fiscales de cada año, los recursos necesarios para el fomento al desarrollo económico de las madres solteras jefas de familia, en cumplimiento de la presente Ley. Sexto. El Ejecutivo Federal deberá emitir el Reglamento de la Ley de Fomento a Desarrollo Económico de las Madres Solteras Jefas de Familia y las normas legales correspondientes, en un plazo que no excederá de treinta días naturales contados a partir de la entrada en vigor del presente decreto.  Yahleel Abdala Carmona, Abel Murrieta Gutiérrez, Alberto Silva Ramos, Alejandro Armenta Mier, Ángel García Yáñez, Arlette Ivette Muñoz Cervantes, Armando Soto Espino, Brenda Velázquez Valdez, Christian Joaquín Sánchez Sánchez, Daniel Ignacio Olivas Gutiérrez, Eloísa Chavarrías Barajas, Emma Margarita Alemán Olvera, Erick Alejandro Lagos Hernández, Erika Lorena Arroyo Bello, Esdras Romero Vega, Fabiola Guerrero Aguilar, Flor Estela Rentería Medina, Francisco José Gutiérrez De Velasco Urtaza, Gabriela Ramírez Ramos, Genoveva Huerta Villegas, Gianni Raul Ramírez Ocampo, Gretel Culin Jaime, Jesús Antonio López Rodríguez, José Luis Orozco Sánchez Aldana, José Refugio Sandoval Rodríguez, Karla Karina Osuna Carranco, Kathia María Bolio Pinelo, Laura Nereida Plascencia Pacheco, Liborio Vidal Aguilar, Lillian Zepahua García, Luz Argelia Paniagua Figueroa, Marco Polo Aguirre Chávez, María Bárbara Botello Santibáñez, María de la Paz Quiñones Cornejo, María del Rocío Rebollo Mendoza, María Esther Guadalupe Camargo Félix, Martha Lorena Covarrubias Anaya, Miguel Ángel González Salum, Mónica Rodríguez Della Vecchia, Montserrat Alicia Arcos Veláquez, Noemí Zoila Guzmán Lagunes, Pablo Gamboa Miner, Ricardo Ramírez Nieto, Susana Corella Platt, Timoteo Villa Ramírez, Virgilio Daniel Méndez Bazán, Ximena Tamariz García, Xitlalic Ceja García, Yerico Abramo Masso (rúbricas).»',\n",
       " 'id': 'ab80c31c-fd00-11ea-83d8-acde48001122'}"
      ]
     },
     "execution_count": 387,
     "metadata": {},
     "output_type": "execute_result"
    }
   ],
   "source": [
    "speeches63[0]"
   ]
  },
  {
   "cell_type": "code",
   "execution_count": 390,
   "metadata": {},
   "outputs": [
    {
     "name": "stdout",
     "output_type": "stream",
     "text": [
      "{'legislatura': 63, 'year_session': 'I', 'year_speech': 2015, 'month_speech': 9, 'day_speech': 8, 'topic_speech': 'LEY SOBRE EL ESCUDO, LA BANDERA Y EL HIMNO NA...', 'link_speech': 'http://cronica.diputados.gob.mx:8080/exist/siid2/xQsiid2.xql?legis=LXIII&coleccion=/db/LXIII/A1/P1/Ord%20,/db/LXIII/A1/P1/CPerma%20,/db/LXIII/A1/P2/Ord%20,/db/LXIII/A1/P2/1Extra%20,/db/LXIII/A1/P2/2Extra%20,/db/LXIII/A2/P1/Ord%20,/db/LXIII/A2/P1/CPerma%20,/db/LXIII/A2/P2/Ord%20,/db/LXIII/A3/P1/Ord%20,/db/LXIII/A3/P1/CPerma%20,/db/LXIII/A3/P2/Ord%20&id=1040&num=6916&fecha=20150908&tema=LEY%20SOBRE%20EL%20ESCUDO,%20LA%20BANDERA%20Y%20EL%20HIMNO%20NACIONALES', 'inc_party': 'Partido Acción Nacional', 'inc_name': 'Yunes Linares Miguel Ángel', 'id_speech': '0d1e313b-8979-3afe-a599-c83b77485b74', 'text_speech': ' Gracias, señor presidente, para hacer una propuesta. Señor presidente, en virtud de que estamos muy cerca de una fecha emblemática y que ha quedado para siempre registrada en la historia de nuestro país, quiero proponer a este pleno que esta iniciativa no sea turnada a comisiones, sino que la resuelva en esta misma sesión el pleno.  quien puede lo más, puede lo menos. Si este pleno tiene la facultad de nombrar las comisiones, puede también asumir las funciones de comisión, dictaminar en esta misma sesión esta iniciativa y proceder a aprobarla. Esa es concretamente la propuesta. Muchas gracias.', 'id': ''}\n",
      "{'legislatura': 63, 'year_session': 'I', 'year_speech': 2015, 'month_speech': 10, 'day_speech': 15, 'topic_speech': 'LEY FEDERAL DE DERECHOS', 'link_speech': 'http://cronica.diputados.gob.mx:8080/exist/siid2/xQsiid2.xql?legis=LXIII&coleccion=/db/LXIII/A1/P1/Ord%20,/db/LXIII/A1/P1/CPerma%20,/db/LXIII/A1/P2/Ord%20,/db/LXIII/A1/P2/1Extra%20,/db/LXIII/A1/P2/2Extra%20,/db/LXIII/A2/P1/Ord%20,/db/LXIII/A2/P1/CPerma%20,/db/LXIII/A2/P2/Ord%20,/db/LXIII/A3/P1/Ord%20,/db/LXIII/A3/P1/CPerma%20,/db/LXIII/A3/P2/Ord%20&id=1040&num=7396&fecha=20151015&tema=LEY%20FEDERAL%20DE%20DERECHOS', 'inc_party': 'Partido Acción Nacional', 'inc_name': 'Yunes Linares Miguel Ángel', 'id_speech': 'd46ef2db-8d89-3338-9046-8574ec995dc7', 'text_speech': ' Presidente.  Sonido en la curul del diputado Miguel Ángel Yunes.  Gracias, presidente. Comentando lo dicho por el diputado Ramírez Marín, el tablero no sólo sirve para medir mayorías o minorías, sirve también para disponer el sentido del voto y para dejar constancia histórica de quiénes estamos por la transparencia y quienes por la opacidad.', 'id': 'dbd7fd0a-fcec-11ea-83d8-acde48001122'}\n",
      "{'legislatura': 63, 'year_session': 'I', 'year_speech': 2015, 'month_speech': 10, 'day_speech': 27, 'topic_speech': 'AGENDA POLÍTICA', 'link_speech': 'http://cronica.diputados.gob.mx:8080/exist/siid2/xQsiid2.xql?legis=LXIII&coleccion=/db/LXIII/A1/P1/Ord%20,/db/LXIII/A1/P1/CPerma%20,/db/LXIII/A1/P2/Ord%20,/db/LXIII/A1/P2/1Extra%20,/db/LXIII/A1/P2/2Extra%20,/db/LXIII/A2/P1/Ord%20,/db/LXIII/A2/P1/CPerma%20,/db/LXIII/A2/P2/Ord%20,/db/LXIII/A3/P1/Ord%20,/db/LXIII/A3/P1/CPerma%20,/db/LXIII/A3/P2/Ord%20&id=1040&num=7689&fecha=20151027&tema=AGENDA%20POL%C3%8DTICA', 'inc_party': 'Partido Acción Nacional', 'inc_name': 'Yunes Linares Miguel Ángel', 'id_speech': 'cf198e6a-aa9c-3295-9f49-afbb0686e128', 'text_speech': ' Con su permiso, señor presidente. Compañeras diputadas y compañeros diputados, el Tribunal Electoral del Poder Judicial de la Federación fue creado con sus actuales facultades y características en 1996, va a cumplir 20 años. Desde entonces se han celebrado casi 100 elecciones para gobernador, de las cuales se han impugnado 48 y se han anulado 3.  1. El principio de legalidad 2. Garantizar elecciones libres y auténticas, y 3. El principio de imparcialidad. En el año 2000 el tribunal anuló la elección para gobernador del estado de Tabasco, en 2003 el tribunal anuló la elección para gobernador del estado de Colima y en 2015 anuló nuevamente las elecciones para gobernador en el estado de Colima. En estas tres nulidades decretadas por el tribunal la causal más importante fue la intervención del gobernador del estado para favorecer a quienes fueron candidatos del PRI. Es decir, en el Trife el PRI lleva record perfecto, de 3, 3. El caso de Colima es paradigmático, en su resolución el Trife expresamente señaló que se pretende evitar que por interpósita persona el gobernador infractor defraude la finalidad de la ley, la cual persigue proscribir su intervención en funciones que no le corresponden. Lo anterior confirma que hay quienes siguen pensando que nada ha cambiado en México y que las elecciones serán por siempre una competencia de partidos contra gobierno, y no un asunto exclusivo de ciudadanos y de partidos. La lectura de la expediente trajo a mi memoria una famosa serie de televisión y tres películas, Walking Dead, un relato de zombis; Hannibal, en la que Anthony Hopkins magistralmente interpreta un enfermo mental recluido en un hospital psiquiátrico; Harry Potter con su escoba mágica, y la Ley de Herodes, gran película mexicana. Y es que en el expediente de Colima se relata cómo los zombis se levantaron de su tumba para votar, como en Walking Dead. ¿Cómo alguien recluido en un hospital psiquiátrico pudo salir a votar?, ¿Cómo paisanos de Colima que trabajan del otro lado de la frontera pudieron venir a votar y regresar a los Estados Unidos el mismo día?, seguramente con el apoyo de la escoba mágica de Harry Potter. Pero lo que realmente me impacto del caso Colima fue la gran semejanza con la cinta del director Luis Estrada, que inauguró el siglo XXI exhibiendo al sistema político mexicano con su extraordinaria película La Ley de Herodes, y es que lo de Colima, si no fuera trágico para la democracia sería cómico. Les pido que escuchemos esta joya de la arqueología electoral, esta son las instrucciones que el secretario de Desarrollo Social de Colima, Roberto Salazar Velasco, dio a una trabajadora de esa dependencia, Claudia Ivonne Contreras, quien tuvo el valor de grabarlo y denunciarlo.  \\x93Lo que ocupa de usted en este momento es apoyar al candidato a gobernador, apoyar a Óscar, apoyar al gobernador. Tú estás aquí por el gobernador. Hay que apoyar a Nacho, que era el candidato del PRI a gobernador. A Quique, a Alma, que admira al gobernador, la tenemos que apoyar.  gobernador deja a gobernador; presidente deja a presidente. \\x93Ésta es tu responsabilidad, le dice, y si tú estás aquí por Mario, es decir por el gobernador, es apoyar a Mario para que deje a un gobernador y todo listo\\x94. Toda una joya. Me dice que Giovanni Sartori, el destacado politólogo italiano, está buscando a Salazar Velasco para que le permita tomar esta lección de democracia y poder agregarla a su última obra, denominada Democracia en 30 lecciones, que de Colima en adelante se denominará Democracia en 31 lecciones. Seguramente Juan Linz, maestro en Yale, de democracia y en especial analista de los regímenes totalitarios y autoritarios, estará deseando desde su tumba de New Haven conocer esta revelación de la teoría de la democracia que tenemos en Colima. Cuánto hubiera querido el respetado maestro Jorge Carpizo tenerlo a su lado para que le apoyara a escribir el capítulo de Facultades metaconstitucionales del presidencialismo en México, obra cumbre de Carpizo y del constitucionalismo mexicano. Pero no, compañeras y compañeros, a Salazar Velasco no lo buscan ni en Harvard ni en Yale ni en Florencia, lo busca la justicia hoy y lo busca Luis Estrada, el director de la afamada película La Ley de Herodes, para que ocupe el principal papel en la próxima producción en la que terminará de ridiculizar a ese México que no se quiere ir, a pesar de que estamos en pleno siglo XXI.  Necesitamos renovar nuestras instituciones y no lo vamos a hacer con los mismos modelos, estamos cayendo en la perfecta definición de idiotez. Un idiota \\x96dijo\\x96 es el que repite mil veces el mismo error y nosotros, pese al fracaso de nuestro modelo, insistimos e insistimos en ese modelo. Esa es una confesión de parte. Sí, esto tiene que cambiar y el tribunal ha enviado un mensaje fuerte a todos los gobernadores del país. Falta algo que tenemos que agregar, que los partidos beneficiarios de la trampa deben pagar el costo de la elección extraordinaria con cargo a sus prerrogativas. \\x96Termino\\x96. Esto sería una especie de reparación del daño. Estoy seguro que Jorge Luis Preciado volverá a ganar las elecciones en Colima.  Los servidores públicos de la federación, los estados y los municipios, así como del Distrito Federal y sus delegaciones tienen en todo tiempo la obligación de aplicar con imparcialidad los recursos públicos que están bajo su responsabilidad, sin influir en la equidad de la competencia entre los partidos políticos. Muchas gracias, señor presidente. Muchas gracias.', 'id': 'dbd7fd0a-fcec-11ea-83d8-acde48001122'}\n",
      "{'legislatura': 63, 'year_session': 'I', 'year_speech': 2015, 'month_speech': 11, 'day_speech': 4, 'topic_speech': 'CONSTITUCIÓN POLÍTICA DE LOS ESTADOS UNIDOS M...', 'link_speech': 'http://cronica.diputados.gob.mx:8080/exist/siid2/xQsiid2.xql?legis=LXIII&coleccion=/db/LXIII/A1/P1/Ord%20,/db/LXIII/A1/P1/CPerma%20,/db/LXIII/A1/P2/Ord%20,/db/LXIII/A1/P2/1Extra%20,/db/LXIII/A1/P2/2Extra%20,/db/LXIII/A2/P1/Ord%20,/db/LXIII/A2/P1/CPerma%20,/db/LXIII/A2/P2/Ord%20,/db/LXIII/A3/P1/Ord%20,/db/LXIII/A3/P1/CPerma%20,/db/LXIII/A3/P2/Ord%20&id=1040&num=7738&fecha=20151104&tema=CONSTITUCI%C3%93N%20POL%C3%8DTICA%20DE%20LOS%20ESTADOS%20UNIDOS%20MEXICANOS', 'inc_party': 'Partido Acción Nacional', 'inc_name': 'Yunes Linares Miguel Ángel', 'id_speech': '62ef48e8-09bb-325c-b656-b144a4bb4dc4', 'text_speech': ' Con su permiso, señor presidente. Compañeras y compañeros diputados, en México puedes asesinar y salirte con la tuya, en Estados Unidos no. Mientras en México apenas el 20 por ciento de los homicidios reciben una condena, en Estados Unidos 9 de cada 10 homicidas son sentenciados. Sólo el 10 por ciento de los secuestros cometidos en México son denunciados. Éste es un delito de bajo riesgo y altas ganancias. Qué duras expresiones, pero también son ciertas. No son afirmaciones mías aunque las comparto, son de Rudolph Giuliani, quien logró reducir la tasa global de delincuencia en Nueva York en 56 por ciento, los asesinatos en 66 por ciento, las violaciones en 40 por ciento y los asaltos en 72 por ciento. Dice también Giuliani que para lograr seguridad el tema medular es el cumplimiento de la ley y el fortalecimiento de los mecanismos para cumplirla. Lo expresó en Tijuana, un municipio gobernado por el Partido Acción Nacional que puede preciarse de haber logrado abatir los índices delictivos coordinando esfuerzos y capacidades, sin abdicar de la responsabilidad del propio municipio de cuidar de la vida, la integridad física y el patrimonio de sus habitantes. Giuliani, alcalde de Nuevo York, y Jorge Ramos, alcalde de Tijuana, hoy diputado federal, lograron lo que queremos alcanzar para todo México; abatir la inseguridad y recuperar la paz y la tranquilidad para las familias. Se ha dicho hasta el hartazgo, hoy el problema que más preocupa a los mexicanos, a más del 70 por ciento, es la inseguridad y en la búsqueda de soluciones a este grave problema nos da por repartir culpas en lugar de distribuir responsabilidades. Hoy se dice que el culpable de la inseguridad es el municipio y que la solución es apretarle el cuello y quitarle más facultades. A ese paso lo que sigue es que cualquier día se proponga la desaparición de los municipios y los estados y que volvamos a un régimen centralista. Pero no se trata de repartir culpas sino de encontrar soluciones. Está muy bien lo que dijo hace unos cuantos días el presidente Peña Nieto. En materia de seguridad pública no se vale nadar de muertito. Lo suscribo, debe ser tarea de todos, el problema es enorme, por eso el PAN no propone una solución simplista como lo es agrupar todas las corporaciones municipales en una policía estatal o mando único. Vamos por una cirugía mayor, que parte de reconocer en el municipio la potestad de proteger los derechos esenciales de sus habitantes y de apoyar al municipio para que lo logre. Asumir también que habrá ocasiones en que el fenómeno delictivo rebase a la célula municipal y entonces se le tengan que apoyar, o de manera subsidiaria intervenir o sustituir. Para Acción Nacional el camino no es centralizar, sino desconcentrar y coordinar y darle bases técnicas a la operación de las instituciones de seguridad. Estas son las razones de la iniciativa que hoy presentamos a su consideración. Se trata de cambiar un modelo que no ha funcionado, por uno nuevo, en el que sean criterios técnicos, científicos y no políticos, los que orienten el rumbo de la seguridad pública en México.  crear el Instituto Nacional de Seguridad Pública, integrado por expertos designados por el Senado de la República, organismo que sustituiría al Secretariado Ejecutivo del Sistema Nacional de Seguridad Pública, al Consejo Nacional de Seguridad Pública y a las distintas conferencias que operan en esta materia. Esto sería a costos compensados, no tendría costo adicional. Instituir el servicio nacional de carrera policial para la selección, ingreso, formación, permanencia, evaluación, reconocimiento y certificación de todos los miembros de las instituciones policiales. Condicionar el funcionamiento y existencia de las instituciones de seguridad pública al cumplimiento de los estándares y capacidades establecidos por la ley. Diseñar un nuevo modelo de evaluación e intervención de las instituciones de seguridad, mediante el cual el instituto podrá evaluar, auditar, intervenir y disolver una institución de seguridad cuando incumpla los estándares que establezca la ley. Facultar también al instituto para definir las reglas de operación de los fondos y subsidios y evaluar su aplicación. Crear el Instituto Nacional de Ciencias Forenses, para contar con un órgano de alta capacidad y especialidad para la ejecución de esta tarea básica para el proceso penal. Y establecer un tabulador salarial a nivel nacional para los miembros de las instituciones policiales, garantizar sus derechos laborales y brindar seguridad social a ellos y a sus familias. Compañeras y compañeros diputados, Acción Nacional actúa con responsabilidad, la iniciativa que hoy presentamos es resultado de varios meses de trabajo, análisis y consulta con especialistas. La seguridad pública debe ser un tema de Estado, así lo asumimos, por eso lo que planteamos es una solución de fondo, un replanteamiento serio de nuestro modelo constitucional en materia de seguridad. No venimos a repartir culpas y señalar culpables, sino a plantear soluciones. Esta es la nuestra, esperamos poder contrastarla y debatirla, para entre todos tomar la mejor decisión y poder enfrentar el grave problema de inseguridad que hoy cimbra a México. Muchas gracias, señor presidente. «Iniciativa que reforma y adiciona diversas disposiciones de la Constitución Política de los Estados Unidos Mexicanos, a cargo del diputado Miguel Ángel Yunes Linares y suscrita por integrantes del Grupo Parlamentario del PAN Los diputados y senadores del Partido Acción Nacional, en la LXIII Legislatura del Honorable Congreso de la Unión, con fundamento en los artículos 71, fracción II, 72 y 135 de la Constitución Política de los Estados Unidos Mexicanos; 164, 169 y 172; así como los demás relativos y aplicables del Reglamento del Senado de la República, someten a consideración de esta honorable asamblea la siguiente iniciativa con proyecto de decreto por el que se reforman y adicionan los artículos 21, 73, 76 y 123, Apartado C, al tenor de la siguiente Exposición de Motivos 1. Recuento de las reformas legales e institucionales para el fortalecimiento del sistema de seguridad pública en México Durante las ocho décadas siguientes a la promulgación de la Constitución, el arreglo institucional de la seguridad pública del país descansó, primordialmente, en funciones que ejercían las entidades de la República para la investigación y persecución de delitos. Los municipios no tenían atribuciones en la materia y, a pesar de que existía un ámbito de competencia penal federal, la baja ocurrencia de incidentes delictivos de esta jurisdicción no volvía imperativo contar con un cuerpo de policía encargado de la prevención e investigación de delitos distintos de las agencias ya establecidas. No existían mecanismos de coordinación formales entre órdenes de gobierno ni había la necesidad de crearlos porque el sistema de justicia se enfrentaba a una conflictividad social poco compleja y de naturaleza más política que delincuencial. El aparato meta institucional controlaba los conflictos y el institucional era relevante sólo en tanto legalizaba el actuar del primero. Hacia 1983, en la coyuntura de la redefinición de la institución municipal y derivado del alza en los índices delictivos del país, el Constituyente reformó el artículo 115 constitucional para otorgar a los municipios funciones en materia de seguridad pública y tránsito, concurrentes con los gobiernos estatales. Esta modificación normativa marcó el inicio de una etapa descentralizadora pues, a través de esa reforma y otras, se asignaron funciones en seguridad pública a los tres órdenes de gobierno. Sin embargo, éstas no serían reguladas sino hasta una década después. Por ello, los arreglos institucionales en términos de coordinación y mando que existieron durante este periodo, cuando no fueron inexistentes, siempre dependieron de consensos extra institucionales.  Gobernación, Defensa Nacional, Marina, PGR, DDF, PGJ DF y procuradurías de las entidades. Si bien esto constituyó un paso en la dirección correcta, el sistema de asignación competencial seguía funcionando bajo una lógica política y no como un esfuerzo de largo aliento.  el marco normativo la definiría por primera vez y se plantearía la base para la formación de un Sistema Nacional en la materia. De este modo, en 1995 se promulgaría la Ley General que establece las bases de Coordinación del Sistema Nacional de Seguridad Pública, sentando efectivamente los fundamentos para el desarrollo de este Sistema. Dicho ordenamiento regularía, por primera vez, los mecanismos de coordinación, procedimientos de ingreso, permanencia, formación, promoción, disciplina y estímulos de las instituciones policiales en los tres órdenes de gobierno. No obstante, tal como sucedió en sexenios anteriores, los mecanismos informales de arbitraje de los conflictos y de desarrollo institucional se mostraron laxos e insuficientes para consolidar instituciones modernas de seguridad. Mientras tanto, el secuestro y el combate a la criminalidad organizada se convertían en problemas y prioridades nacionales. A esto respondió la expedición de la Ley Federal Contra la Delincuencia Organizada en 1996, y, en 1999, como una iniciativa a fin de consolidar una institución encargada de la prevención y persecución del delito a nivel federal, se creó la Policía Federal Preventiva, unificando en una sola institución diversas agencias federales. También en 1999, y con el objetivo de iniciar un proceso de depuración de las hasta entonces muy criticadas instituciones de seguridad y procuración de justicia a nivel nacional (corrupción, desconfianza ciudadana, ineficacia e infiltración por el crimen organizado), se reformó el Apartado B del artículo 123 Constitucional, que impedía la reinstalación del personal que no cumpliera con los estándares impuestos por la reforma constitucional de 1995. Las ambiciones detrás del nuevo texto constitucional pronto se vieron frenadas por la interpretación que los jueces federales dieron a la reforma, permitiendo a muchos agentes purgados en procesos de control de confianza mantener sus plazas y prestaciones. Ello truncó la capacidad de la autoridad para renovar sus cuadros dentro de las instituciones de seguridad pública y procuración de justicia en los tres órdenes de gobierno.  la Secretaría de Seguridad Pública Federal. Esta Secretaría absorbió muchas de las estructuras y atribuciones que antes habían sido responsabilidad de la SEGOB. Por ejemplo, asumió la responsabilidad de la Policía Federal Preventiva y del Secretariado Ejecutivo del Sistema Nacional de Seguridad Pública, adquirió la facultad de regular y autorizar la portación de armas para empleados federales y asumió la Presidencia del Consejo Nacional de Seguridad Pública. Asimismo, a inicios de su sexenio, creó la Agencia Federal de Investigación, como relevo de la Policía Judicial Federal y brazo operativo de la PGR, que se encargó de combatir delitos federales como el secuestro, el tráfico de drogas, la delincuencia organizada así como los delitos electorales. Este proceso de reestructuración marcó el inicio de un aumento consistente en el gasto público que, del 2000 al 2012, se incrementaría en 300%. Sin embargo, la reingeniería institucional y el incremento en gasto público en este rubro no lograron revertir la tendencia creciente de incidencia delictiva, ni lograron contener el fenómeno del crimen organizado que se expandía y agudizaba en todo el país. La nueva Agencia Federal de Investigación adoleció de los mismos problemas que las corporaciones policiales antes formadas y, para finales del sexenio, su desaparición fue inminente.  la Policía Federal Preventiva se convirtió en Policía Federal, concebida como un cuerpo profesionalizado respaldado por un Servicio Civil de Carrera Policial más funcional. Estos esfuerzos en torno al fortalecimiento del personal policial estuvieron acompañados de otros de orden tecnológico con la creación y puesta en marcha de Plataforma México. Sin embargo, mientras la estructuración y depuración de las corporaciones policiales avanzaba lento, la violencia continuaba recrudeciéndose y el crimen organizado se expandía y mutaba. La participación de las fuerzas militares dejó de ser auxiliar y se convirtió en la primera respuesta ante cualquier crisis de narcotráfico y delincuencia en los tres órdenes de gobierno. Para entonces, la Suprema Corte de Justicia de la Nación ya había declarado como constitucional su participación en tareas de seguridad pública, pero lo que hacía falta era un instrumento más eficaz para el combate contra los cárteles.  1) redefinió la noción de seguridad pública, estableció sus principios y las bases mínimas de coordinación para el Sistema Nacional de Seguridad Pública y plasmó un nuevo modelo policial; 2) creó un régimen diferenciado para la delincuencia organizada; y, 3) transformó los cimientos del sistema de justicia penal. Sin embargo, lejos del plano normativo, y a pesar de la iniciativa del Gobierno Federal de consolidar un modelo de coordinación policial con base en las capacidades de los gobiernos locales, en la práctica se observaron importantes retrocesos en términos de la coordinación del orden federal con estados y municipios. Más aún, al medir el éxito o fracaso de la política en materia de seguridad pública con base en la incidencia de homicidios dolosos, un aumento en 35% respecto al sexenio anterior, tornó impostergable revisitar el modelo de seguridad pública en su totalidad. Finalmente, con la entrada del gobierno del Presidente Enrique Peña Nieto, se reformularon estrategias y arreglos institucionales, disolviendo la Secretaría de Seguridad Pública Federal y se subsumieron sus funciones en la Comisión Nacional de Seguridad, ahora dependiente de la Secretaría de Gobernación. Pero fue a partir de lo ocurrido en el Estado de Michoacán, con el surgimiento de las autodefensas y la posterior intervención del gobierno federal, y de los lamentables hechos ocurridos en Iguala, Guerrero, que los dispares esquemas de coordinación y centralización del mando policial estatal \\x96que empezaron a proliferar desde el sexenio anterior\\x96 se perfilaron como la solución que propuso el Ejecutivo Federal ante la debilidad municipal frente a la infiltración del crimen organizado.  el perfil promedio de los 130 mil policías municipales del país tiene una escolaridad de secundaria, un ingreso promedio entre los 2,700 y los 13 mil pesos mensuales y, también, una edad predominantemente entre los 30 y 39 años. Sobre su régimen de seguridad social, a pesar de lo que establece el artículo 123, Apartado B, fracción XIII constitucional, no se cuenta con información oficial completa. Sin embargo, diversos diagnósticos sobre las características de la policía en México apuntan a que éste tema continúa como una gran asignatura pendiente.  1) las grandes reformas constitucionales en materia de seguridad pública que carecen de un plan de implementación de largo alcance están destinadas al fracaso; 2) las grandes reformas constitucionales en materia de seguridad pública que descansan en mecanismos de coordinación y adjudicación de competencias sujetas a consensos políticos coyunturales están, también, destinadas al fracaso; y, 3) las grandes reformas constitucionales en materia de seguridad pública que no se hacen cargo de construir un piso mínimo de seguridad social para todos los miembros de las corporaciones policiales \\x96al menos equivalente al de las fuerzas armadas, como mandata la Constitución\\x96 están, necesariamente, destinadas al fracaso. Consolidar, pues, instituciones de seguridad pública eficaces y confiables no conduce necesariamente a la desaparición del eslabón más débil, por el contrario, exige su fortalecimiento. 2. ¿Por qué no es posible impulsar una reforma policial en los términos propuestos por la Iniciativa presentada por el Ejecutivo Federal? Tal como se ha explicado en párrafos anteriores, la iniciativa del Presidente de la República parte de la premisa de que varias de las corporaciones policiales municipales no han tenido la solidez institucional suficiente para hacer frente a la delincuencia en sus diversas expresiones, lo que se ha traducido en la cooptación de los elementos que integran estas corporaciones por parte del crimen organizado. En virtud de ello, la iniciativa propone concentrar las funciones policiales en determinados órdenes de gobierno, a efecto de facilitar las condiciones de mando. Ello implica desaparecer las policías municipales.  1. Las policías estatales no son necesariamente mejores que las municipales. Por el contrario, en algunos municipios \\x96Nezahualcóyotl y Querétaro, por ejemplo\\x96 han sido reconocidos por el gobierno federal como modelos policiales con las mejores prácticas del país. Más aún, la población mexicana tiene en algunos casos mayor confianza en las autoridades policiales municipales que en las estatales. Figura 1. Percepción de inseguridad municipios vs estados 2014  INEGI. Encuesta Nacional de Victimización y Percepción sobre Seguridad Pública, 2012, 2013 y 2014 2. No existe claridad sobre el modelo de mando único que propone el Ejecutivo. Sin embargo, cualquier opción dentro del catálogo de mandos coordinados o de policía estatal única no se ha probado aún como un arreglo institucional blindado ante la corrupción, infiltración o ineficacia. 3. Eliminar a las corporaciones policíacas municipales limita la posibilidad de innovación y generación de mejores prácticas locales que sirvan como insumos para elevar la calidad de otras corporaciones en otros sitios del territorio nacional. 4. Unificar a la policía en células estatales, mediante la eliminación de unidades municipales, potencializa el riesgo de daño ante una corporación infiltrada, corrupta o poco capacitada. En vez de lidiar con una localidad afectada por una institución policial, tendríamos que enfrentar consecuencias para toda una entidad. En ese sentido, fragmentar la policía es también una estrategia para fragmentar el riesgo y minimizar el daño. 5. Garantizar la seguridad pública requiere una multiplicidad de tareas para las que se requieren distintos tipos de capital humano, capacitación, equipamiento, profesionalización, etc. Más allá de una distinción entre mandos por orden de gobierno, cualquier modelo policial debe comprehender un catálogo de perfiles de corporaciones y elementos policialesad hoc.  España, Estados Unidos de Norteamérica, Canadá e Italia, entre otros, confieren gran importancia a la policía municipal por su cercanía a la comunidad y capacidad de respuesta en la protección de la seguridad ciudadana. 7. Por último, el modelo policial que se proponga debe hacerse cargo de las características sociodemográficas del capital humano que desea reclutar. Atender a la complejidad del actual mercado laboral, los perfiles de egreso de la educación media-\\x97superior y superior, así como cuales son las expectativas de las próximas generaciones en relación al fomento de oportunidades de primer empleo y de carrera profesional. 3. ¿Cuál es el modelo policial que impulsa el Partido Acción Nacional?  1) Combatir la corrupción e ineficacia de las fuerzas policiales es un problema complejo que requiere soluciones integrales y multifactoriales. La sola concentración de los esquemas de mando no se ha probado como un remedio infalible contra la infiltración del crimen, mucho menos la concentración funcional en los órdenes de gobierno estatales; 2) Mantener corporaciones policiales de los tres órdenes de gobierno, siempre y cuando éstas puedan cumplir con los parámetros mínimos indispensables para el cumplimiento de su labor. Mantener instituciones locales sólidas es deseable, ya que garantiza la seguridad y confianza de la ciudadanía y, en buena medida, contribuye a formar agentes con fuertes vínculos dentro de la comunidad que protegen; y, 3) Para combatir con eficacia la conflictividad nacional es necesario reconocer todas sus aristas. En este sentido, no todos los fenómenos delictivos pueden, ni deben, ser combatidos con elementos policiales paramilitarizados o elementos militares con capacitación policial. Es necesario repensar los perfiles de los agentes que se requieren para hacer frente a los distintos tipos de conflictividad social que persisten en el país.  1.Preservará corporaciones policiales municipales.El modelo propone preservar las corporaciones policíacas de los tres órdenes de gobierno, siempre y cuando satisfagan estándares mínimos que aseguren su buen funcionamiento.  a. Regulará y gestionará el Servicio Nacional de Carrera Policial, el cual establecerá la reglamentación de la selección, ingreso, formación, permanencia, evaluación, reconocimiento y certificación del personal de instituciones de seguridad pública. La operación y desarrollo de estas acciones será competencia de la Federación, el Distrito Federal, los Estados y los municipios en el ámbito de sus respectivas atribuciones. Establecido este sistema nacional, ninguna persona podrá ingresar a las instituciones de seguridad pública si no ha sido debidamente certificado y registrado por él. b. Estará encargado de gestionar, administración y regular las bases de datos de información en materia de seguridad pública y administración penitenciaria. c. Estará facultado para proponer políticas públicas en el ámbito de sus competencias, atendiendo a mecanismos de participación ciudadana. 3.Preverá el diseño de mecanismos de intervención, sustitución y colaboración subsidiaria de las instituciones de seguridad pública de los distintos órdenes de gobierno. Se implementarán esquemas de evaluación, intervención, interdicción, subrogación y disolución de instituciones de seguridad pública de una entidad o de un municipio cuando no satisfagan los estándares mínimos determinados por la ley y por el Instituto Nacional de Seguridad Pública. 4.Creará modelos de control interno y externo.Los controles internos se centrarán en el cumplimiento de los principios de legalidad, disciplina y ética, mientras que los externos vigilarán el desempeño e interacción con la ciudadanía con alianzas y participación de la sociedad civil organizada. 5.Establecerá un Instituto Nacional de Ciencias Forenses.Su objetivo será auxiliar, en el ámbito de las ciencias forenses y servicios periciales, a las Instituciones de Procuración de Justicia, Protección de Derechos Humanos, de Defensoría Pública y Asesoría Jurídica de víctimas, tanto en el orden federal como en el local. 6.Contemplará un nuevo régimen laboral y de seguridad social para el personal de las instancias de seguridad y procuración de justicia.Se busca la homogenización del régimen laboral y de seguridad social para todo el personal civil de las instituciones de seguridad pública, seguridad nacional y procuración de justicia. Igualmente, se establecerá la portabilidad de rango, antigüedad y prestaciones, entre el personal de seguridad y procuración de justicia de municipios, estados y federación. En este sentido, el Congreso de la Unión determinará la o las instituciones de seguridad social para el personal de las instituciones de seguridad y procuración de justicia, consolidando un régimen complementario al de derechos de los trabajadores del estado. Establecerá, además, una nueva legislación que conozca y atienda las problemáticas sociales, económicas, familiares y de salud particulares del personal dedicado a tareas de seguridad y de sus familias. 1. Preverá contrapesos institucionales. La amenaza de retirar subsidios federales no ha constituido un incentivo eficiente para dirigir el uso de recursos hacia la mejora de las corporaciones policiacas en el orden estatal y municipal. Por este motivo, la reforma propondrá la competencia del Instituto Nacional de Seguridad Pública de determinar las reglas de operación y requisitos para la asignación de los fondos, aportaciones, subsidios y demás inversiones para la seguridad pública a nivel nacional, estatal y municipal. Este órgano será garante del destino exclusivo de dichos recursos para tales fines. Asimismo, estará facultado para llevar a cabo evaluaciones periódicas durante el ejercicio fiscal de su aplicación.  sus necesidades operativas y formativas, así como su movilidad. El Servicio Nacional de Carrera Policial tendrá la facultad de establecer distintos perfiles de agentes de seguridad pública con base en los requerimientos de formación y certificación establecidos por la ley y por el Instituto Nacional de Seguridad Pública. 4. Las propuestas de esta iniciativa. A) Una reingeniería del Sistema Nacional de Seguridad Pública. A la luz de las consideraciones y argumentaciones precedentes, esta iniciativa plantea modificaciones específicas a los artículos 21, 73, 76 y 123 Apartado C de la Constitución General de la República. Al efecto, se propone reformar el artículo 21 constitucional para establecer una nueva integración del Sistema Nacional de Seguridad Pública, el cual se conformará por el Instituto Nacional de Seguridad Pública, el Instituto Nacional de Ciencias Forenses, las instituciones de Seguridad Pública, Procuración de Justicia y de Administración Penitenciaria de los tres órdenes de gobierno. De este modo, se propone la creación del Instituto Nacional de Seguridad Pública, órgano con personalidad jurídica y patrimonio propios, que tendrá a su cargo la reglamentación, supervisión y evaluación de las competencias y facultades de las distintas instituciones de seguridad pública y administración penitenciaria de los tres órdenes de gobierno establecidos en la ley de la materia. Para el mejor cumplimiento de esta función, el Instituto Nacional de Seguridad Pública será el órgano encargado de gestionar, administrar y regular las bases de datos de información en materia de seguridad pública y administración penitenciaria. Para ello, dicho Instituto regulará, a través de sus reglamentos, los mecanismos de recopilación, intercambio y acceso a dichas bases de datos. En el ejercicio de esta función, el Instituto Nacional será responsable de mantener actualizada y accesible la información estadística en la materia. El Instituto Nacional de Seguridad Pública tendrá como una de sus encomiendas principales la regulación y gestión del Servicio Nacional de Carrera Policial. Este Servicio será el encargado de la reglamentación de la selección, ingreso, formación, permanencia, evaluación, reconocimiento y certificación de los integrantes de las instituciones de seguridad pública de los tres órdenes de gobierno. La operación y desarrollo de dichas acciones será competencia de la Federación, el Distrito Federal, los Estados y los municipios en el ámbito de sus respectivas atribuciones. De este modo, este sistema garantizará que ninguna persona podrá ingresar a las instituciones de seguridad pública si no ha sido debidamente certificado y registrado por él. Dado el enorme potencial de información y capacidades del Instituto Nacional de Seguridad Pública como máximo órgano especializado en la materia, se estima necesario otorgarle la facultad para proponer políticas públicas en el ámbito de sus competencias. Para su proposición, se utilizarán mecanismos de participación ciudadana como medio de acercamiento entre la ciudadanía y la función estatal de seguridad pública. De igual modo, bajo esta premisa, se propone la participación de la comunidad en los procesos internos y externos de evaluación de las políticas de prevención del delito, así como de las instituciones de seguridad pública, como medio democrático de control de dichas instituciones. Asimismo, se propone garantizar en el texto constitucional una distribución equitativa, eficiente y eficaz de los fondos, aportaciones, subsidios y demás inversiones para la seguridad pública, a nivel nacional, para las entidades federativas y municipios para ser destinados exclusivamente a estos fines. De acuerdo a la información que sirve como fundamento de esta iniciativa, se ha observado que la distribución de dichos recursos, para el ejercicio de estos fines, no ha sido funcional para garantizar eficazmente la función de seguridad pública del Estado. Por ello, se propone que el Instituto Nacional de Seguridad Pública sea el órgano estatal encargado de determinar las reglas de operación y requisitos para la asignación de esos recursos, como también para llevar a cabo las evaluaciones periódicas durante el ejercicio fiscal de su aplicación.  los aspirantes deberán ser mayores de 30 años, profesionistas titulados con, por lo menos, 10 años de antigüedad, y tener reconocido prestigio en el ámbito académico, de la sociedad civil o el sector público. Se estima que la pluralidad e idoneidad de profesiones afines a la seguridad pública debe ser observada. De igual modo, que los aspirantes no deberán haber militado en un partido político durante los 5 años anteriores inmediatos a la designación, ni haber laborado previamente en una institución de seguridad, procuración de justicia o en las Fuerzas Armadas durante el mismo periodo señalado, a fin de garantizar una mayor objetividad, imparcialidad y profesionalización en el ejercicio de su encomienda. El nombramiento de los consejeros estará a cargo del Senado de la República por el voto de las dos terceras partes de los miembros presentes. Además, los nombramientos quedarán sujetos a las objeciones que el titular del Ejecutivo Federal pueda presentar durante los siguientes 10 días hábiles al de la designación. En caso de que el Presidente de la República objetara el nombramiento, la Cámara de Senadores nombrará una nueva propuesta, siguiendo la lógica anterior. Sin embargo, si el segundo nombramiento fuera objetado nuevamente por el Ejecutivo Federal, la Cámara de Senadores designará al consejero que ocupará la vacante con la misma votación. Con el establecimiento de este Instituto Nacional, se añade en los artículos transitorios de esta iniciativa que los actuales Consejo Nacional de Seguridad Pública, la Conferencia Nacional de Procuración de Justicia, la Conferencia Nacional de Secretarios de Seguridad Pública o sus equivalentes; la Conferencia Nacional del Sistema Penitenciario; la Conferencia Nacional de Seguridad Pública Municipal, los Consejos Locales e Instancias Regionales y el Secretariado Ejecutivo del Sistema Nacional de Seguridad Pública, establecidos en la Ley General del Sistema Nacional de Seguridad Pública, y sus correlativos en las entidades federativas, en términos de los establecido en la presente reforma, deberán ser disueltos en un plazo no mayor a 180 días contados a partir de la publicación del presente Decreto, a fin de que su patrimonio y recursos pasen a formar parte del Instituto Nacional de Seguridad Pública. B) Mecanismos de intervención. En el contexto nacional, y a la luz de las intervenciones estatales y federales en materia de seguridad de la última década, es menester de esta reforma regularizar y normar los mecanismos institucionales para la intervención de un orden de gobierno superior dentro de las funciones de uno inferior. En términos de la autonomía municipal y del pacto federal, es necesario afinar los elementos con que cuenta el Estado para poder hacer frente a las más variadas crisis y emergencias en materia de seguridad pública, sin romper con la normalidad constitucional. Es por ello, que se propone un conjunto de medidas complementarias, graduales y subsidiarias para poder intervenir en una institución de seguridad pública desde las primeras señales de problemas de gestión, hasta en las grandes crisis de corrupción o abusos policiacos o penitenciarios. La reforma establece las bases para el ejercicio de la función de seguridad pública, sujeta a las capacidades de las instituciones municipales, estatales o federales para efectivamente llevar a cabo dicha función, así como para justificar la existencia de una institución de seguridad pública o administración penitenciaria de cualquier orden de gobierno. Prevé el mecanismo para la coordinación interinstitucional, los mecanismos de intervención para la evaluación y fortalecimiento de capacidades y su acreditación. Del mismo modo, se faculta al Instituto Nacional de Seguridad Pública para iniciar el procedimiento de subrogación de la función de seguridad pública o la disolución de una institución, ya sea su absorción por otra, la subrogación temporal del servicio de seguridad pública en otra institución, así como los procedimientos para determinar el destino de sus recursos humanos, técnicos, materiales y financieros. La reforma plantea los supuestos de violaciones graves a los derechos humanos y de patrones sistemáticos de corrupción para justificar la disolución de una institución de seguridad pública o de administración penitenciaria, a fin de cortar de tajo el problema y evitar la perpetuación de estados de cosas inconstitucionales o riesgosos para el pleno goce y garantía de los derechos humanos de la población en general. El destino del patrimonio y personal de una institución en proceso de subrogación o disolución se remite al cumplimiento de requisitos, así como a la capacidad y necesidad de la institución que interviene en la localidad, a fin de dar garantías de continuidad y consolidación del estado de cosas resultante. De igual modo, esta iniciativa propone que en los supuestos de interdicción, subrogación o disolución, el orden de gobierno intervenido mantenga a su cargo el costo presupuestal del servicio de seguridad pública, incluyendo los fondos y aportaciones federales que podrán ser retenidas y resignadas de acuerdo a la redistribución de funciones. También se contemplan los mecanismos de control legislativo para poder determinar la disolución de una institución de seguridad pública o de administración penitenciaria. En los casos de instituciones municipales y locales la ratificación de la decisión del Instituto Nacional de Seguridad Pública será de los Congresos de los Estados, mientras que la intervención de la Federación en un Estado, o la disolución de una institución federal, corresponderá ratificarlas al Senado de la República. C) Instituto Nacional de Ciencias Forenses Un problema que afecta a todos los niveles la implementación del nuevo sistema de justicia penal y su relación con el Sistema Nacional de Seguridad Pública es el de los servicios periciales y de ciencias forenses. A lo largo y ancho del país existen laboratorios y expertos, pero la calidad, confiabilidad y pericia de sus expertos es variada y responde a las realidades culturales e institucionales de cada entidad federativa. Como una respuesta al problema de la diversa calidad y relativa confiabilidad de todos y cada uno de los laboratorios y unidades de servicios periciales del país, es que se propone la creación de un Instituto Nacional de Ciencias Forenses, que se encargue de satisfacer las necesidades de servicios periciales, ciencias forenses y medicina legal de todas las instituciones de procuración de justicia, defensoría pública, asesoría jurídica de víctimas y protección de derechos humanos del país. A través de mecanismos de certificación de unidades, expertos y procedimientos, el Instituto será el encargado de garantizar la calidad, confiabilidad y certeza de los dictámenes que nutran al sistema de justicia y de protección a los derechos humanos mexicano. D) Bases de funcionamiento, organización y coordinación de las instituciones del Sistema Nacional de Seguridad Pública. La reforma faculta al Congreso de la Unión para establecer, además de las bases de coordinación del Sistema Nacional de Seguridad Pública, el desarrollo de las bases institucionales mínimas, los procedimientos, así como las condiciones en que operarán todas las instituciones de seguridad pública del país. Como consecuencia del esfuerzo de homologación de capacidades y perfiles del personal de dichas instituciones, es necesario que la ley que regule a nivel nacional la materia de seguridad pública, establezca también los requisitos organizacionales y procedimientos mínimos para la adecuada prestación del servicio de seguridad pública. Derivado de este ordenamiento, se establecerán los criterios y supuestos para la evaluación e intervención en las instituciones, quedando salvaguardado el Estado de Derecho y la normalidad constitucional en los casos de intervención necesaria dentro de un orden de gobierno por otro E) Ratificación parlamentaria del Secretario de Seguridad Pública. Al inicio de la presente administración se reformó la Ley Orgánica de la Administración Pública Federal a fin de centralizar en la Secretaría de Gobernación las funciones anteriormente realizadas por la Secretaría de Seguridad Pública a nivel federal, y establecer en la esfera del Secretario de Gobernación, a través de la Comisión Nacional de Seguridad, a la Policía Federal, la política criminal, la política penitenciaria, el Secretariado Ejecutivo del Sistema Nacional de Seguridad Pública y demás organismos anteriormente adscritos a seguridad pública. Como consecuencia de los hechos ocurridos en Tanhuato, Michoacán, y la fuga del penal del Altiplano por parte de uno de los delincuentes más buscados del mundo, es justificado replantear el arreglo institucional dentro del gabinete federal, a fin de volver a priorizar los temas de seguridad pública en el primer nivel de importancia y atención. En términos de la cada vez más activa participación del Poder Legislativo en sus funciones de control, y de las reformas de gran calado en materia política de los últimos años, es viable proponer la rehabilitación y reconfiguración de la Secretaría de Seguridad Pública a nivel federal, reabsorbiendo el patrimonio y funciones trasladados a la Comisión Nacional de Seguridad, así como su inclusión dentro de la lista de Secretarios \\x96al lado de Función Pública, Relaciones Exteriores y Hacienda\\x96 que exigen ratificación del Senado de la República cuando el Presidente opta por no formar gobierno de coalición. La materia de seguridad pública tiene la suficiente relevancia y trascendencia de Estado, como para justificar la restitución de dicha Secretaría como parte de la Administración Pública Federal, así como la intervención del Senado en el nombramiento de su titular, quien deberá rendirle cuentas en los mismos términos que el resto del gabinete. F) Régimen laboral y de seguridad social para el personal de las instancias de seguridad pública  malos salarios, discrecionalidad en el ascenso y en la permanencia en las instituciones; corrupción al interior de las instituciones; una cultura paupérrima de respeto a las condiciones mínimas de trabajo; falta de regularidad salarial y los castigos corporales y económicos parecen una constante en toda la República y en todos los niveles de gobierno. Algunos estados de la República, como Aguascalientes, Morelos, Nuevo León o Veracruz, han emprendido esfuerzos por consolidar a nivel estatal mandos únicos y policías acreditables, dotándolas de regímenes mínimos para los trabajadores del gobierno del Estado, y por otro lado considerando algunas prestaciones particulares como vivienda, seguros médicos y de vida superiores a los de la ley, sobreprimas de riesgo, etc. Adicionalmente, la expansión y mejoramiento de la oferta de reclutamiento en algunos estados de la República, ha provocado la práctica de reclutamiento para fuerzas estatales y municipales fuera de los confines territoriales de cada entidad federativa a fin de cubrir el total de plazas disponibles y en necesidad de ser cubiertas. Esto, poniendo en competencia a las distintas corporaciones para captar el mejor capital humano disponible, con variadas ofertas laborales, y obligando a entidades con débiles fuentes de recaudación a competir con entidades con fuertes ingresos fiscales, con la problemática presupuestal que a mediano y largo plazo esto puede causar. La percepción de los integrantes de las instituciones de seguridad pública del país, sobre todo a nivel estatal y municipal, es de incertidumbre por sus derechos humanos, laborales y de seguridad social. La transición en muchos estados hacia un mando único ha buscado crear incentivos laborales complementarios, aunque en muchos casos, sólo ha sido meramente superficial, pues los policías tienen aún graves conflictos laborales con las instituciones municipales o estatales, como es el caso de Nayarit. Por lo tanto, cualquier expansión al sistema de derechos y prestaciones de la seguridad social debe responder a la propia demanda de los efectivos policiacos a mejores condiciones de vida. De igual modo, a un replanteamiento del perfil, redimensión del rol y estatus del policía a nivel social. Debe buscar resignificar al policía como un miembro de la sociedad valioso en sí mismo. No debe ser sólo visto como un medio o instrumento en el cumplimiento de las funciones de seguridad pública, sino como un ciudadano que cumple con la responsabilidad de guardia y protección de la comunidad, de la que él mismo es parte. Una finalidad explícita de esta reforma constitucional, es la de romper con la inercias y resistencias al desarrollo de un verdadero sistema de profesionalización policial de corte democrático a nivel nacional. Al regular y regularizar las relaciones entre las instituciones y su personal, eliminar al mínimo los espacios a la arbitrariedad y la corrupción, esta reforma puede poner la siguiente piedra en la larga lucha por consolidar democráticamente las instituciones del Estado mexicano. En términos de los compromisos internacionales de nuestro país, en particular la Convención Americana de Derechos Humanos, su Protocolo, y las Convenciones Internacionales de Derechos Civiles y Políticos, y de Derechos Económicos, Sociales y Culturales, así como los convenios de la Organización Internacional del Trabajo, es menester que el Estado mexicano reconozca explícitamente derechos y sus garantías al personal de las instituciones de seguridad a nivel nacional. Condiciones laborales mínimas, prestaciones laborales y de seguridad social contempladas en dichos instrumentos internacionales de los que el Estado mexicano es parte, es fundamental para extender la normalidad constitucional y convencional al régimen sui generis que en materia administrativo/laboral rige en las instituciones de seguridad.  1. El desarrollo de sistemas nacionales de carrera para policías, ministerios públicos, peritos y personal penitenciario que sean los responsables de realizar el reclutamiento, acreditación, adscripción, formación inicial, formación de mandos, certificación de habilidades, control de confianza, régimen disciplinario, formación continua, estímulos y recompensas, a fin de separar de las responsabilidades operativas del día a día de las instituciones de seguridad pública el cúmulo de responsabilidades en materia de recursos humanos, homologando criterios, estándares y capacidades. 2. Un régimen diferenciado y gradual en términos de la permanencia en una institución de seguridad pública, cuidando la solidez del sistema en términos de confianza y cumplimiento de requisitos en ley, así como acotando los supuestos de no reinstalación a procesos de responsabilidad para promover la estabilidad laboral y el desarrollo de un robusto sistema nacional de carrera. 3. Por primera vez, establecer dentro de la relación jurídica especial que existe entre el Estado y el personal de las instituciones de seguridad, garantías de tipo laboral mínimas, tales como jornada máxima, prestaciones mínimas, un tabulador homologado a nivel nacional, y los estímulos y recompensas desde la propia ley, a fin de acotar al máximo la discrecionalidad y arbitrariedad de mandos para reconocer y respetar estándares laborales mínimos en todo el país para todos y cada uno de los miembros de estas instituciones. 4. Se amplían los requisitos de ingreso, permanencia y ascenso en las instituciones de seguridad, no sólo a exámenes de control de confianza, sino también a la acreditación de conocimientos, competencias y habilidades 5. Delinea la formalización de un esquema de portabilidad y movilidad laboral y de prestaciones entre los integrantes de las instituciones civiles de seguridad, así como entre distintos servicios nacionales de carrera, a fin de garantizar la suficiencia operativa y de derechos del personal adscrito a estas instituciones. 6. Establecer en la ley la o las instituciones de seguridad social que atenderá o atenderán las necesidades en la materia del personal civil de las instancias de seguridad nacional, seguridad pública, administración penitenciaria y procuración de justicia de los tres órdenes de gobierno. 7. La ley deberá establecer los mecanismos de protección de las condiciones mínimas de trabajo y derechos del personal de las instituciones de seguridad, verifique el cumplimiento de sus obligaciones, y se establecerá una jurisdicción especializada para atender los conflictos entre el personal de instituciones de seguridad y dichas instituciones, así como los medios de impugnación efectiva en contra de sus determinaciones. 8. En términos de la propuesta de adiciones al artículo 21 constitucional, busca establecer continuidad y salvaguarda de derechos laborales de policías acreditados en instituciones en vías de subrogación o disolución. Por las razones antes expuestas, se propone la siguiente iniciativa de Decreto por el que reforman los artículos 21, 73, 76, 89 y 123 de la Constitución Política de los Estados Unidos Mexicanos Único.Se reforma el párrafo nueve, y adicionan las Bases I, II y III del Artículo 21; se reforma la fracción XXIII del Artículo 73; se reforma la fracción II, adiciona la fracción XIV y recorre la numeración del Artículo 76; se reforma la fracción II del artículo 89; y se reforma la fracción XIII del Apartado B y adiciona un Apartado C al Artículo 123. Artículo 21.... ... ... ... ... ... ... ...   a) El Instituto Nacional de Seguridad Pública reglamentará, supervisará y evaluará el ejercicio de competencias y facultades en materia de seguridad pública y administración penitenciaria de los distintos órganos de los tres órdenes de gobierno, y promoverá la generación de capacidades institucionales. Asimismo, regulará y gestionará el Servicio Nacional de Carrera Policial. b)Lareglamentaciónde la selección, ingreso, formación, permanencia, evaluación, reconocimiento y certificación de los integrantes de las instituciones de seguridad públicaserá establecida por el Servicio Nacional de Carrera Policial de acuerdo a lo establecido en la ley. La operación y desarrollo de estas acciones será competencia de la Federación, el Distrito Federal, los Estados y los municipios en el ámbito de sus respectivas atribuciones. Ninguna persona podrá ingresar a las instituciones de seguridad pública si no ha sido debidamente certificado y registrado en el sistema. c) El Instituto Nacional será el encargado de gestionar, administrar y regular las bases de datos de información en materia de seguridad pública y administración penitenciaria; reglamentará los mecanismos de recopilación, intercambio y acceso a las mismas. Asimismo, será responsable de mantener actualizada y accesible la información estadística en la materia. d) El Instituto Nacional estará facultado para proponer políticas públicas en el ámbito de sus competencias, atendiendo a mecanismos de participación ciudadana. e)Se garantizará la participación de la comunidad que coadyuvará, entre otros, en los procesosinternos y externosde evaluación de las políticas de prevención del delito, así como de las instituciones de seguridad pública. f)Los fondos, aportaciones, subsidios y demás inversiones para la seguridad pública, a nivel nacional, serán aportados a las entidades federativas y municipios para ser destinados exclusivamente a estos fines.El Instituto Nacional determinará las reglas de operación y requisitos para la asignación de esos recursos y llevará a cabo evaluaciones periódicas durante el ejercicio fiscal de su aplicación.  a) A partir de las evaluaciones y auditorías que practique, el Instituto Nacional podrá emitir observaciones y recomendaciones para la corrección o mejora de capacidades y procesos. b) Cuando la institución evaluada o auditada incumpla las recomendaciones y observaciones mencionadas en el inciso anterior, el Instituto Nacional podrá designar un interventor encargado de supervisar la implementación de las medidas correctivas. El Instituto podrá determinar la interdicción de la corporación o un área de ella cuando incumpla de manera reiterada las bases del Sistema Nacional de Seguridad Pública. La interdicción consistirá en la remoción de mandos, su reestructuración organizacional o de procedimientos. La ley establecerá las bases y reglas para la ejecución de esta competencia. c) El titular del Ejecutivo de cualquier orden de gobierno podrá solicitar la subrogación del ejercicio de la función de seguridad pública, por incapacidad o cualquier otra situación que afecte de forma relevante la prestación de dicho servicio, ante el Instituto Nacional. El Instituto determinará las condiciones de coordinación subsidiaria, las responsabilidades de los órdenes de gobierno y la temporalidad de la subrogación. El Instituto podrá ejercer de oficio esta competencia, con independencia de la facultad de los congresos de los Estados prevista en el inciso d) de la fracción II del artículo 115 de esta Constitución. d) A solicitud del titular del Ejecutivo de cualquier orden de gobierno o de oficio, el Instituto Nacional podrá iniciar el procedimiento de disolución de una corporación de seguridad pública por patrones sistemáticos de corrupción o violaciones graves de derechos humanos determinadas por autoridad competente. En el caso de disolución de una corporación a nivel municipal, la legislatura del Estado de que se trate deberá confirmar esta decisión. Tratándose de la disolución de una corporación estatal, y la Federación deba asumir funciones de seguridad pública local, será el Senado de la República quien deba confirmar la resolución del Instituto Nacional. La determinación de disolución de una corporación federal deberá ser aprobada igualmente por el Senado. La ley regulará los supuestos, funciones y procedimientos de esta facultad. El personal que cumpla con los requisitos de permanencia y el patrimonio de una institución de seguridad pública o penitenciaria en proceso de disolución se integrarán a la institución de seguridad pública que asuma las funciones en la localidad afectada. e) En los supuestos de interdicción, subrogación o disolución, el orden de gobierno intervenido mantendrá a su cargo el costo presupuestal del servicio de seguridad pública. La ley establecerá las reglas y mecanismos para, en su caso, la retención o descuento en las participaciones respectivas. III. El Instituto Nacional de Seguridad Pública contará con personalidad jurídica y patrimonio propios. Su régimen técnico, presupuestal y de gestión será determinado en la ley. Con independencia de las facultades expresamente establecidas en esta Constitución, el Instituto Nacional no tendrá funciones operativas. El Instituto Nacional se integrará por siete consejeros que durarán en su encargo siete años con posibilidad de reelección. Cada tres años, el consejo elegirá de entre sus miembros al presidente, el cual no podrá ser reelecto para el periodo inmediato posterior. Para ser designado consejero, los aspirantes deberán ser mayores de 30 años, profesionistas titulados con por lo menos 10años de antigüedad, y tener reconocido prestigio en el ámbito académico, de la sociedad civil o el sector público. La pluralidad e idoneidad de profesiones afines a la seguridad pública deberá ser observada. No deberán haber militado en un partido político durante los 5 años anteriores inmediatos a la designación, ni haber laborado previamente en una institución de seguridad, procuración de justicia o en las Fuerzas Armadas durante el mismo periodo. El nombramiento de los consejeros estará a cargo del Senado de la República. La designación se hará por el voto de las dos terceras partes de los miembros presentes. Los nombramientos quedarán sujetos a las objeciones que el titular del Ejecutivo Federal pueda presentar durante los siguientes 10 días hábiles al de la designación. En caso de que el Presidente de la República objetara el nombramiento, la Cámara de Senadores nombrará una nueva propuesta, en los términos del párrafo anterior. Si este segundo nombramiento fuera objetado, la Cámara de Senadores, designará al consejero que ocupará la vacante con la misma votación. Los consejeros se abstendrán de desempeñar cualquier otro empleo, trabajo, cargo o comisión públicos o privados, con excepción de los académicos. IV. La Ley establecerá el Instituto Nacional de Ciencias Forenses como el órgano que tendrá a su cargo auxiliar en el ámbito de las ciencias forenses y servicios periciales a las Instituciones de Procuración de Justicia, Protección de Derechos Humanos, de Defensoría Pública y Asesoría Jurídica de víctimas, tanto en el orden federal como en el local. Este Instituto será un organismo público dotado de personalidad jurídica y patrimonio propios, así como de autonomía técnica y de gestión en el ejercicio de sus atribuciones y se regirá por los principios de independencia, ética, objetividad e imparcialidad sobre la base de los conocimientos científicos. El Instituto Nacional de Ciencias Forenses será presidido por un profesional titulado en alguna de las ciencias objeto de la materia de este instituto. Deberá tener experiencia y reconocido prestigio durante al menos diez años anteriores a su nombramiento. Durará en su encargo 7 años y será elegido por el voto de las dos terceras partes de los miembros presentes de la Cámara de Senadores. Artículo 73. ... I a XXII. ... XXIII.Para expedir leyes que establezcanlas bases de funcionamiento, organización y coordinación del Sistema Nacional de Seguridad Pública, el sistema nacional de carrera policial, así como a las instituciones de seguridad pública en materia federal; XXIV a XXX.... Artículo 76. ... I... II.Ratificar los nombramientos que el mismo funcionario haga de los secretarios de Estado, en caso de que éste opte por un gobierno de coalición, con excepción de los titulares de los ramos de Defensa Nacional y Marina; del Secretario responsable del control interno del Ejecutivo Federal; del Secretario de Relaciones;del Secretario de Seguridad Pública; de los embajadores y cónsules generales; de los empleados superiores del ramo de Relaciones; de los integrantes de los órganos colegiados encargados de la regulación en materia de telecomunicaciones, energía, competencia económica, y coroneles y demás jefes superiores del Ejército, Armada y Fuerza Aérea Nacionales, en los términos que la ley disponga; III a XIII...; XIV. Nombrar a los consejeros del Instituto Nacional de Seguridad Pública establecido en el artículo 21 de esta Constitución, en los términos establecidos por la misma y las disposiciones previstas en la ley; y XIV..... Artículo 89. ... I... II... ... En los supuestos de la ratificación de los secretarios deSeguridad Pública, Relaciones y de Hacienda, cuando no se opte por un gobierno de coalición, si la Cámara respectiva no ratificare en dos ocasiones el nombramiento del mismo Secretario de Estado, ocupará el cargo la persona que designe el Presidente de la República; III a XX... Artículo 123. ... El Congreso de la Unión, sin contravenir a las bases siguientes deberá < sup >?</ sup >  A. ... I a XXXI...  I a XII... XIII.(Derogado) (Derogado) (Derogado) (Derogado) XIII Bis... XIV.  I. Los militares y marinos se regirán por sus propias leyes. El Estado proporcionará a los miembros en el activo del ejército, fuerza aérea y armada, las prestaciones a que se refiere el inciso f) de la fracción XI del apartado B del este artículo, en términos similares y a través del organismo encargado de la seguridad social de los componentes de dichas instituciones;  a. Se establecerán sistemas nacionales de carrera policial, ministerial, pericial y de administración penitenciaria, mismos que serán los responsables del reclutamiento, acreditación, adscripción, formación inicial, formación de mandos, certificación de habilidades, control de confianza, régimen disciplinario, formación continua, estímulos y recompensas. b. El personal de instituciones de seguridad, procuración de justicia y administración penitenciaria de la Federación, el Distrito Federal, los estados y los municipios, podrán i. Causar baja de la institución de seguridad o ser puesto a disposición del sistema por pérdida de confianza, a juicio de la autoridad política que ostente el mando de la institución; ii. Ser separados de sus cargos cuando no cumplan con los requisitos previstos en la ley para permanecer en dichas instituciones; iii. Ser removidos por incurrir en responsabilidad en el desempeño de sus funciones, en cuyo caso no procederá su reinstalación. c. La ley establecerá las condiciones de las relaciones entre el Estado y el personal de las instituciones de seguridad y procuración de justicia de naturaleza civil. La ley deberá establecer la jornada laboral, el tabulador salarial nacional, las prestaciones laborales, los estímulos y recompensas. d. El ingreso, permanencia y ascenso dentro de las instituciones de seguridad y procuración de justicia se someterá a la acreditación de los respectivos exámenes de control de confianza, así como a las pruebas de conocimientos, habilidades y capacidades que determine la ley. e. La ley establecerá las modalidades y condiciones para la adscripción y transferencia del personal civil y sus mandos entre las instituciones de seguridad, salvaguardando su antigüedad, rango y demás prestaciones. f. La ley determinará las instituciones de seguridad social que atenderán las prestaciones del personal civil sujeto a este Apartado y de sus dependientes económicos a nivel nacional. g. La ley establecerá las reglas y procedimientos para garantizar el cumplimiento de sus obligaciones, la protección de sus derechos y condiciones de trabajo, así como para la resolución de los conflictos que surjan entre las instituciones a las que se refiere este apartado y su personal. Para tal efecto, la ley establecerá tribunales especializados, así como los medios de impugnación que procedan contra sus determinaciones.  Transitorios Primero. El presente decreto entrará en vigor al día siguiente de su publicación en el Diario Oficial de la Federación.  a) Realizar las adecuaciones a la Ley General del Sistema Nacional de Seguridad Pública relativas a los artículos 21 y la fracción XXIII del artículo 73 de esta Constitución, establecer el Instituto Nacional de Seguridad Pública y reglamentar sus facultades en los términos del mismo artículo. b) Expedir la Ley que crea el Instituto Nacional de Ciencias Forenses, y las adecuaciones normativas para su funcionamiento. c) Expedir la ley reglamentaria del Apartado C del Artículo 123 Constitucional en materia de condiciones laborales y seguridad social del personal ministerial, pericial, policial y de administración penitenciaria a nivel nacional, así como la ley orgánica de la institución de seguridad social para servidores públicos de seguridad a nivel nacional. Tercero. El Consejo Nacional de Seguridad Pública, la Conferencia Nacional de Procuración de Justicia, la Conferencia Nacional de Secretarios de Seguridad Pública o sus equivalentes; la Conferencia Nacional del Sistema Penitenciario; la Conferencia Nacional de Seguridad Pública Municipal, los Consejos Locales e Instancias Regionales y el Secretariado Ejecutivo del Sistema Nacional de Seguridad Pública, establecidos en la Ley General del Sistema Nacional de Seguridad Pública, y sus correlativos en las entidades federativas, en términos de los establecido en la presente reforma, deberán ser disueltos en un plazo no mayor a 180 días contados a partir de la publicación del presente Decreto. Su patrimonio y recursos pasarán a formar parte del Instituto Nacional de Seguridad Pública. Cuarto. La Secretaría de Seguridad Pública Federal se constituirá a los 30 días de entrada en vigor de la presente reforma. Quinto. La reinstalación del personal de instituciones de seguridad pública en ningún momento o circunstancia tendrá carácter retroactivo a la entrada en vigor de esta reforma. La posible reinstalación estará sujeta a la acreditación de los exámenes de competencia y confianza que establezca la ley para el primer ingreso a una corporación de seguridad pública. Sexto. Los gobiernos de las entidades federativas y de los municipios podrán solicitar, de acuerdo a lo que establezca la Ley General derivada de esta reforma, la intervención del Instituto Nacional de Seguridad Pública para sujetarse voluntariamente a los esquemas de subrogación y disolución de sus corporaciones de seguridad pública. Séptimo. Las corporaciones de seguridad pública que no hayan sido objeto de intervención o subrogación voluntaria se someterán a una evaluación de capacidades que aplicará el Instituto Nacional de Seguridad Pública de acuerdo a lo establecido en esta Constitución y en la ley de la materia. Dichas evaluaciones se llevarán a cabo dentro del plazo de un año. Octavo. Derivado de las evaluaciones realizadas, el Instituto Nacional determinará si las corporaciones de seguridad pública podrán permanecer en sus términos, o bien, si éstas deberán ser intervenidas, interdictadas, subrogadas o disueltas. A partir del ejercicio de su facultad de interdicción, el Instituto Nacional de Seguridad Pública podrá determinar la remoción y cambio de mandos de las distintas corporaciones de seguridad pública. Noveno. La federación, las entidades federativas y los municipios garantizarán los fondos y recursos necesarios para la implementación del presente decreto, para lo cual realizarán de forma inmediata los ajustes y previsiones presupuestales a efecto del cumplimiento de sus obligaciones. Décimo. Todos los recursos humanos y materiales con que cuentan las instituciones de procuración de justicia en materia de servicios periciales y ciencias forenses pasarán a formar parte del Instituto Nacional de Ciencias Forenses.  1 Los promedios se calcularon como suma ponderada con base en los datos del Censo Nacional de Gobierno, Seguridad Pública y Sistema Penitenciario Estatales 2014 y el Censo Nacional de Gobiernos Municipales y Delegacionales 2013. Miguel Ángel Yunes Linares,Adriana Elizarraraz Sandoval, Alejandra Gutiérrez Campos, Alejandra Noemí Reynoso Sánchez, Alfredo Miguel Herrera Deras, Angélica Moya Marín, Arlette Ivette Muñoz Cervantes, Baltazar Martínez Montemayor, Brenda Velázquez Valdez, Carlos Alberto de la Fuente Flores, Carlos Bello Otero, César Flores Sosa, Claudia Sánchez Juárez, Delia Guerrero Coronado, Edmundo Javier Bolaños Aguilar, Elías Octavio Íñiguez Mejía, Eloísa Chavarrías Barajas, Elva Lidia Valles Olvera, Emma Margarita Alemán Olvera, Enrique Cambranis Torres, Exaltación González Ceceña, Federico Döring Casar, Francisco Ricardo Sheffield Padilla, Genoveva Huerta Villegas, Gerardo Gabriel Cuanalo Sánchez, Gina Andrea Cruz Blackledge, Gretel Culin Jaime, Guadalupe González Suástegui, Gustavo Enrique Madero Muñoz, Héctor Barrera Marmolejo, Herminio Corral Estrada, Hugo Alejo Domínguez, Indrid Krasopani Schemelensky Castro, J. Apolinar Casillas Gutiérrez, Javier Antonio Neblina Vega, Jesús Antonio López Rodríguez, Jisela Paes Martínez, Jorge López Martín, Jorge Ramos Hernández, Jorge Tello López, José Adrián González Navarro, José Erandi Bermúdez Méndez, José Everardo López Córdova, José Hernán Cortés Berumen, José Máximo García López, José Teodoro Barraza López, Juan Alberto Blanco Zaldívar, Juan Corral Mier, Julio Saldaña Morán, Karina Padilla Ávila, Karla Karina Osuna Carranco, Kathia María Bolio Pinelo, Leonel Gerardo Cordero Lerma, Leticia Amparano Gámez, Lilia Arminda García Escobar, Lorena del Carmen Alfaro García, Luis de León Martínez Sánchez, Luis Fernando Antero Valle, Luis Gilberto Marrón Agustín, Luz Argelia Paniagua Figueroa, María del Rosario Rodríguez Rubio, María García Pérez, María Guadalupe Murguía Gutiérrez, María Soledad Sandoval Martínez, María Verónica Agundis Estrada, Martha Cristina Jiménez Márquez, Mayra Angélica Enríquez Vanderkam, Miguel Ángel Huepa Pérez, Miguel Ángel Salim Alle, Minerva Hernández Ramos, Mónica Rodríguez Della Vecchia, Nadia Haydee Vega Olivas, Nelly del Carmen Márquez Zapata, Patricia Sánchez Carrillo, Pedro Garza Treviño, Refugio Trinidad Garzón Canchola, René Mandujano Tinajero, Rocío Matesanz Santamaría, Román Francisco Cortés Lugo, Rubén Alejandro Garrido Muñoz, Santiago Taboada Cortina, Santiago Torreblanca Engell, Sergio Emilio Gómez Olivier, Teresa de Jesús Lizárraga Figueroa, Víctor Ernesto Ibarra Montoya, Wenceslao Martínez Santos, Ximena Tamariz García (rúbricas).»', 'id': 'dbd7fd0a-fcec-11ea-83d8-acde48001122'}\n",
      "{'legislatura': 63, 'year_session': 'I', 'year_speech': 2015, 'month_speech': 11, 'day_speech': 5, 'topic_speech': 'LEY GENERAL DE ACCESO DE LAS MUJERES A UNA VI...', 'link_speech': 'http://cronica.diputados.gob.mx:8080/exist/siid2/xQsiid2.xql?legis=LXIII&coleccion=/db/LXIII/A1/P1/Ord%20,/db/LXIII/A1/P1/CPerma%20,/db/LXIII/A1/P2/Ord%20,/db/LXIII/A1/P2/1Extra%20,/db/LXIII/A1/P2/2Extra%20,/db/LXIII/A2/P1/Ord%20,/db/LXIII/A2/P1/CPerma%20,/db/LXIII/A2/P2/Ord%20,/db/LXIII/A3/P1/Ord%20,/db/LXIII/A3/P1/CPerma%20,/db/LXIII/A3/P2/Ord%20&id=1040&num=7768&fecha=20151105&tema=LEY%20GENERAL%20DE%20ACCESO%20DE%20LAS%20MUJERES%20A%20UNA%20VIDA%20LIBRE%20DE%20VIOLENCIA', 'inc_party': 'Partido Acción Nacional', 'inc_name': 'Yunes Linares Miguel Ángel', 'id_speech': '58cbdb1f-ee6b-3bfb-9f45-1abe62718fe9', 'text_speech': ' Presidente.  Sonido en la curul del diputado Miguel Ángel Yunes, por favor.  Gracias, señor presidente. Para adherirme, si ella me lo permite, a la iniciativa que ha propuesto nuestra compañera diputada. Pero también para señalar lo siguiente, la Constitución establece los principios de igualdad entre el hombre y la mujer, y en particular el derecho a la libre procreación. Cuando rendimos protesta como diputados federales, todos nos comprometimos a respetar las normas constitucionales, y muy recientemente un diputado federal, Alberto Silva Ramos, ha violado la Constitución al señalar que a las personas que deseen ser candidatas del PRI \\x96ya termino\\x96 les aplicarán pruebas de embarazo o de gravidez. Exijo que se disculpe públicamente el diputado Silva Ramos. Y me adhiero a la correspondencia. Muchas gracias.  Con todo respeto, diputado Yunes, no ha lugar a estos señalamientos específicos. Su petición de palabra era para solicitar permiso para adhesión. Entonces la diputada Briones, proponente, manifiesta su asentimiento para que así suceda, y queda a disposición como lo hemos estilado aquí, la iniciativa, para quienes quieran suscribirla en la Mesa Directiva. Gracias.', 'id': 'dbd7fd0a-fcec-11ea-83d8-acde48001122'}\n",
      "{'legislatura': 63, 'year_session': 'I', 'year_speech': 2015, 'month_speech': 11, 'day_speech': 19, 'topic_speech': 'RESUELVAN LAS DENUNCIAS PENALES INTERPUESTAS ...', 'link_speech': 'http://cronica.diputados.gob.mx:8080/exist/siid2/xQsiid2.xql?legis=LXIII&coleccion=/db/LXIII/A1/P1/Ord%20,/db/LXIII/A1/P1/CPerma%20,/db/LXIII/A1/P2/Ord%20,/db/LXIII/A1/P2/1Extra%20,/db/LXIII/A1/P2/2Extra%20,/db/LXIII/A2/P1/Ord%20,/db/LXIII/A2/P1/CPerma%20,/db/LXIII/A2/P2/Ord%20,/db/LXIII/A3/P1/Ord%20,/db/LXIII/A3/P1/CPerma%20,/db/LXIII/A3/P2/Ord%20&id=1040&num=8068&fecha=20151119&tema=RESUELVAN%20LAS%20DENUNCIAS%20PENALES%20INTERPUESTAS%20CONTRA%20FUNCIONARIOS%20DEL%20GOBIERNO%20DEL%20ESTADO%20DE%20VERACRUZ', 'inc_party': 'Partido Acción Nacional', 'inc_name': 'Yunes Linares Miguel Ángel', 'id_speech': 'a66cbe21-e73a-3dcc-9044-b52a9660e607', 'text_speech': ' Con su permiso, señor presidente. Compañeras y compañeros diputados, la Auditoría Superior de la Federación y la Ley de Fiscalización Superior han cumplido ya 15 años. Sin embargo, la Auditoría tiene en los hechos un grave problema de merma de facultades, tanto las facultades de resarcimiento como las de fincamiento de responsabilidades administrativas y penales a servidores públicos que hagan mal uso de recursos. Hace unos días el auditor superior de la Federación, en esta misma Cámara informó que hay más de 500 denuncias penales presentadas ante la Procuraduría General de la República por indebido uso de recursos que no han sido tramitadas. Esto es realmente inaudito. Después de que la Auditoría Superior de la Federación lleva a cabo largos procesos de revisión, analiza las cuentas públicas, determina responsabilidades administrativas, financieras y en su caso, penales, se encuentra con un tope, el de la Procuraduría General de la República, que nunca actúa en contra de los servidores públicos denunciados por la Auditoría Superior de la Federación. Lo anterior prácticamente anula el objetivo para el cual fue creada esta institución tan relevante de nuestro sistema constitucional. Lo anterior impide que en la práctica se sancione de manera ejemplar a quienes desvían recursos públicos federales, y particularmente a quienes en las entidades federativas utilizan estos recursos federales en beneficio propio o en otro tipo de actividades y no aquellas para las cuales están destinados. Estamos frente a una grave debilidad institucional. Podemos estar también frente a falta de voluntad política o en el caso extremo, frente a un afán de encubrimiento. Quiero ser preciso, no se trata de la procuradora, se trata de la Procuraduría como institución, porque esta falta viene de hace varios años. Este criterio de no proceder se ha mantenido desde hace bastante tiempo. Traigo a esta tribuna un botón de muestra, es un botón gigantesco. En este cuadro se enumeran 16 denuncias penales que ha interpuesto la Auditoría Superior de la Federación ante la Procuraduría General de la República por desviación de recursos públicos federales en el estado de Veracruz, 16 denuncias. En estas denuncias se señala con toda precisión que ha sido desviados casi 10 mil 600 millones de pesos de fondo destinados fundamentalmente a la salud y a la educación. Esto se ha recrudecido en los últimos tres años, entre 2011 y 2013 se desviaron 7 mil 600 millones destinados a educación y a salud. Para tener una idea de la magnitud de esta desviación de recursos basta con decir que en el Fondo de Apoyo a la Seguridad Pública para estados y municipios aprobamos precisamente 7 mil millones de pesos, es decir, se ha desviado más de lo que aprobamos en materia de apoyo a la seguridad pública. Por ello considero que es fundamental que la Procuraduría General de la República tome nota de todas las denuncias, sea cuál sea el funcionario, provenga del partido que venga y en los 500 casos que se han presentado hasta hoy actúe de manera ejemplar, pero que lo haga particularmente en el caso de Veracruz, donde desviar fondos federales se ha convertido en una práctica cotidiana. Hoy hay niños que mueren en los hospitales de Veracruz por falta de medicamento. Hoy no hay recursos para pagar a los maestros de la Universidad Veracruzana. Hoy no hay recursos siquiera para una obra de infraestructura mínima, porque los recursos se han desviado y porque no se ha procedido en contra de los funcionarios responsables. Por ello, compañeras y compañeros, propongo a este pleno que exhortemos a la Procuraduría General de la República, a que atienda todas las denuncias que se han presentado, no solo las denuncias que se refieren a funcionarios del gobierno de Javier Duarte, las denuncias en contra de todos los malos servidores públicos que hayan actuado de manera indebida y hayan desviado recursos públicos. Aquí veremos, si efectivamente hay afán de transparencia y honestidad o simplemente hay gritones, como en muchas ocasiones lo advertimos. Muchas gracias. «Proposición con punto de acuerdo, por el que se exhorta a la PGR a investigar, resolver y fincar responsabilidades derivadas de las denuncias interpuestas por la ASF por el delito de desvío de recursos cometido por funcionarios de diversas entidades federativas y resolver las denuncias penales interpuestas contra servidores públicos adscritos al gobierno de Veracruz, a cargo del diputado Miguel Ángel Yunes Linares, del Grupo Parlamentario del PAN El suscrito diputado, Miguel Ángel Yunes Linares, integrante del Grupo Parlamentario del Partido Acción Nacional en la LXIII Legislatura de la Cámara de Diputados, con fundamento en lo dispuesto por el artículo 74 de la Constitución Política de los Estados Unidos Mexicanos y 79, fracción II, numeral 2, fracción VI, del Reglamento de la Cámara de Diputados, somete a consideración de esta soberanía, el presente punto de acuerdo con base en las siguientes Consideraciones La Auditoría Superior de la Federación, en su carácter de entidad de fiscalización superior, fue creada para apoyar a la Honorable Cámara de Diputados en el ejercicio de sus atribuciones constitucionales relativas a la revisión de la Cuenta de la Hacienda Pública Federal y todo aquel ente que ejerza recursos públicos federales, con objeto de conocer los resultados de la gestión financiera, comprobar si ésta se ajustó a los lineamientos señalados por el presupuesto y constatar la consecución de los objetivos y las metas contenidas en los programas de gobierno. De igual manera, es competencia de la Auditoría Superior de la Federación informar a la sociedad y a la Cámara de Diputados el último día hábil de los meses de junio y octubre, así como el 20 de febrero siguiente a la presentación de la Cuenta Pública; fiscalizar en forma posterior los ingresos, egresos y deuda; inducir el manejo eficaz, productivo y honesto de los mismos; promover la transparencia y la rendición de cuentas por parte de los Poderes de la Unión y los entes públicos, que se asignan para beneficio de la población a la que se tiene que servir; rendir un informe específico a la Cámara de Diputados. Asimismo, la Constitución Política encomienda a la ASF investigar los actos u omisiones que impliquen alguna irregularidad o conducta ilícita en el ingreso, egreso, manejo custodia y aplicación de fondos y recursos federales. Derivado de sus investigaciones, promover las responsabilidades que sean procedentes ante el Tribunal Federal de Justicia Administrativa, la Fiscalía Especializada en Combate a la Corrupción o las autoridades competentes. Es por ello, que la Auditoría Superior de la Federación, ha interpuesto cientos de denuncias en contra de funcionarios públicos de las entidades federativas por el desvío de recursos púbicos. En el caso particular de Veracruz, son más de quince denuncias penales como resultado del ejercicio de los recursos en las administraciones de Fidel Herrera Beltrán y el actual, Javier Duarte Ochoa. En estas denuncias, la ASF acredita que no sólo no se solventaron las irregularidades detectadas, sino que se trató de simulación ya qué, una vez obtenidos los sellos de recepción del órgano autónomo de la Cámara de Diputados, los recursos eran de nueva cuenta sustraídos para ser depositados en cuentas distintas a las del Gobierno Estatal, sin que se pudiera acreditar el destino final de los recursos. Se trata de más de diez mil quinientos millones de pesos el monto de recursos federales desviados. Ante lo denunciado, la Procuraduría General de la República, sí bien ha abierto averiguaciones previas, sus trabajos no muestran avances en la investigación, ya que ha sido omisa en formular una imputación concreta contra los presuntos responsables o en su caso, sobreseer el asunto. Con este proceder, la PGR, incumple el objetivo de su existencia que es la investigación y persecución de los delitos de forma legal, profesional, objetiva eficiente y honrada, que permita la vigencia del estado de derecho, el combate a la corrupción y la impunidad. La procuración de justicia es uno de los mayores retos de la alternancia democrática, constituye un enorme embudo donde se viola el derecho al acceso a la justicia y reparación del daño a las víctimas del delito. La impunidad campante que aqueja a la ciudadanía agrava y profundiza la desigualdad, ya que los delincuentes, deben ser investigados y juzgados por su proceder contrario al derecho y la ética pública. En el caso particular que nos atañe, constituye una conducta delictiva en contra de la hacienda pública y denota completa ausencia de vocación de servicio, probidad, honradez y profesionalismo. Lo más lamentable de estas conductas, es que se pone en riesgo el futuro de las próximas generaciones, comprometiendo el ejercicio de sus derechos, ya que las irregularidades encontradas son sobre los fondos federales para educación, seguridad pública, seguro popular, infraestructura, servicios de salud, adelanto y educación para adultos. Los montos de recursos públicos cuyo paradero se desconoce, son equivalentes al 10% total del presupuesto del Estado para un año. Semejante atraco a las finanzas públicas, ha provocado una enorme deuda estatal que las y los ciudadanos tendrán que pagar por varias décadas. La falta de medicinas en los hospitales, la deficiencia de los servicios educativos, la grave situación de inseguridad y la inexistencia de obra pública, graves problemas que afectan a la sociedad veracruzana, no obedecen a falta de recursos, sino a la deshonestidad de quienes debieron servir a la ciudadanía. Pareciera que regresamos a los tiempos en que los órganos de procuración de justicia, actuaron con criterio selectivo, partidista y consigna política; atendiendo a intereses que poco o nada, tienen que ver con el bienestar y cuidado del patrimonio de la sociedad. La Procuraduría General de la República, tiene la obligación de atender las evidencias que la Auditoría Superior de la Federación ha presentado, ya que ostenta la carga probatoria en el proceso penal y sus actuaciones deben distinguirse por ser imparciales, apegadas a la legalidad y a los derechos humanos. México aspira a ser un Estado democrático de derecho, por ello no debe permitirse que se saquee la hacienda pública y muchos menos que los responsables caminen bajo el manto de la impunidad. Las y los legisladores tenemos un compromiso ético y legal de denunciar y ejercer contrapeso en contra de los abusos y omisiones de funcionarios cuyo actuar se ciñe a intereses políticos y no institucionales. Por lo anteriormente expuesto Punto de Acuerdo Único. La Cámara de Diputados del honorable Congreso de la Unión exhorta a la titular de la Procuraduría General de la República para que investigue, resuelva y se finquen responsabilidades con motivo de las denuncias interpuestas por la auditoría superior de la federación por el delito de desvío de recursos cometidos por funcionarios de diversas entidades federativas; en particular resolver las denuncias penales interpuestas contra funcionarios del gobierno del estado de Veracruz. Dado en el Palacio Legislativo de San Lázaro, a los 19 días del mes de noviembre de 2015. \\x97 DiputadoMiguel Ángel Yunes Linares(rúbrica).»', 'id': 'dbd7fd0a-fcec-11ea-83d8-acde48001122'}\n"
     ]
    }
   ],
   "source": [
    "for i in speeches63:\n",
    "    if unidecode.unidecode(i['inc_name'].lower()) == 'yunes linares miguel angel':\n",
    "        print(i)"
   ]
  }
 ],
 "metadata": {
  "kernelspec": {
   "display_name": "Python 3",
   "language": "python",
   "name": "python3"
  },
  "language_info": {
   "codemirror_mode": {
    "name": "ipython",
    "version": 3
   },
   "file_extension": ".py",
   "mimetype": "text/x-python",
   "name": "python",
   "nbconvert_exporter": "python",
   "pygments_lexer": "ipython3",
   "version": "3.8.3"
  }
 },
 "nbformat": 4,
 "nbformat_minor": 4
}
