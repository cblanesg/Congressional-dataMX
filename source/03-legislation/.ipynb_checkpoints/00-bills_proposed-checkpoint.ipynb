{
 "cells": [
  {
   "cell_type": "code",
   "execution_count": 1,
   "metadata": {},
   "outputs": [],
   "source": [
    "from webdriver_manager.chrome import ChromeDriverManager\n",
    "from selenium.webdriver import Chrome\n",
    "from selenium import webdriver\n",
    "import re\n",
    "import time\n",
    "import pandas as pd\n",
    "import datetime\n",
    "from datetime import date\n",
    "import uuid\n",
    "import unidecode\n",
    "from tqdm import tqdm\n",
    "from selenium.webdriver.chrome.options import Options"
   ]
  },
  {
   "cell_type": "code",
   "execution_count": 5,
   "metadata": {},
   "outputs": [
    {
     "name": "stderr",
     "output_type": "stream",
     "text": [
      "[WDM] - Current google-chrome version is 85.0.4183\n",
      "[WDM] - Get LATEST driver version for 85.0.4183\n",
      "[WDM] - Driver [/Users/cblanesg/.wdm/drivers/chromedriver/mac64/85.0.4183.87/chromedriver] found in cache\n"
     ]
    },
    {
     "name": "stdout",
     "output_type": "stream",
     "text": [
      " \n"
     ]
    }
   ],
   "source": [
    "\n",
    "main_url = 'http://gaceta.diputados.gob.mx/base/inis/64/gp64_b_diputados.php3'\n",
    "\n",
    "options = Options()\n",
    "options.add_argument('--headless')\n",
    "driver = webdriver.Chrome(ChromeDriverManager().install(), options = options)\n",
    "\n",
    "driver.get(main_url)"
   ]
  },
  {
   "cell_type": "code",
   "execution_count": 6,
   "metadata": {},
   "outputs": [],
   "source": [
    "def obtain_iniciativas(driver, diputado, legis):\n",
    "    all_iniciativas = []\n",
    "    \n",
    "    for i in driver.find_elements_by_css_selector('p'):\n",
    "        temp_date = re.sub('Fecha: ', '', i.text.split('\\n')[0])\n",
    "        \n",
    "        temp = {}\n",
    "        temp['legislatura'] = legis\n",
    "        temp['name_inc'] = unidecode.unidecode(diputado)\n",
    "        temp['year_iniciativa'] = datetime.date(int(temp_date.split('-')[0]),month_to_num(temp_date.split('-')[1].lower()), int(temp_date.split('-')[2])).year\n",
    "        temp['month_iniciativa'] = datetime.date(int(temp_date.split('-')[0]),month_to_num(temp_date.split('-')[1].lower()), int(temp_date.split('-')[2])).month\n",
    "        temp['day_iniciativa'] = datetime.date(int(temp_date.split('-')[0]),month_to_num(temp_date.split('-')[1].lower()), int(temp_date.split('-')[2])).day\n",
    "        temp['topic_iniciativa'] = unidecode.unidecode(i.text.split('\\n')[1])\n",
    "        temp['link_gaceta'] = i.find_elements_by_css_selector('a')[-1:][0].get_attribute('href')\n",
    "        temp['status_raw'] = i.text.split('\\n')[-2:][0]\n",
    "        temp['status_clean'] = obtain_status(i.text.split('\\n')[-2:][0])\n",
    "        temp['date_capture_status'] =  date.today().strftime('%Y-%m-%d')\n",
    "        temp['id_iniciativa'] = str(uuid.uuid3(uuid.NAMESPACE_URL,i.find_elements_by_css_selector('a')[-1:][0].get_attribute('href')))\n",
    "        all_iniciativas.append(temp)\n",
    "    return(all_iniciativas)"
   ]
  },
  {
   "cell_type": "code",
   "execution_count": 9,
   "metadata": {},
   "outputs": [],
   "source": [
    "def obtain_status(x):\n",
    "    if any(re.findall('Turnada a la Cámara de Senadores', x)):\n",
    "        return('dictaminada positivamente')\n",
    "    elif any(re.findall('^Retirada', x)):\n",
    "        return('retirada')\n",
    "    elif any(re.findall('^Prórroga', x)):\n",
    "        return('prorroga')\n",
    "    elif any(re.findall('^Turnada a la Comisión', x)):\n",
    "        return('turnada a comision')\n",
    "    else:\n",
    "        return(x)"
   ]
  },
  {
   "cell_type": "code",
   "execution_count": 10,
   "metadata": {},
   "outputs": [],
   "source": [
    "def month_to_num(x):\n",
    "    if x == 'ene':\n",
    "        return(1)\n",
    "    elif x == 'feb':\n",
    "        return(2)\n",
    "    elif x == 'mar':\n",
    "        return(3)\n",
    "    elif x == 'abr':\n",
    "        return(4)\n",
    "    elif x == 'may':\n",
    "        return(5)\n",
    "    elif x == 'jun':\n",
    "        return(6)\n",
    "    elif x == 'jul':\n",
    "        return(7)\n",
    "    elif x == 'ago':\n",
    "        return(8)\n",
    "    elif x == 'sep':\n",
    "        return(9)\n",
    "    elif x == 'oct':\n",
    "        return(10)\n",
    "    elif x == 'nov':\n",
    "        return(11)\n",
    "    elif x == 'dic':\n",
    "        return(12)"
   ]
  },
  {
   "cell_type": "code",
   "execution_count": 7,
   "metadata": {},
   "outputs": [],
   "source": [
    "links_legislaturas = ['http://gaceta.diputados.gob.mx/base/inis/64/gp64_b_diputados.php3']"
   ]
  },
  {
   "cell_type": "code",
   "execution_count": null,
   "metadata": {},
   "outputs": [
    {
     "name": "stderr",
     "output_type": "stream",
     "text": [
      "  0%|          | 0/1 [00:00<?, ?it/s]\n",
      "  0%|          | 0/479 [00:00<?, ?it/s]\u001b[A\n",
      "  0%|          | 1/479 [00:01<09:04,  1.14s/it]\u001b[A\n",
      "  0%|          | 2/479 [00:02<09:40,  1.22s/it]\u001b[A\n",
      "  1%|          | 3/479 [00:03<09:39,  1.22s/it]\u001b[A\n",
      "  1%|          | 4/479 [00:04<08:55,  1.13s/it]\u001b[A\n",
      "  1%|          | 5/479 [00:05<08:46,  1.11s/it]\u001b[A\n",
      "  1%|▏         | 6/479 [00:06<07:37,  1.03it/s]\u001b[A\n",
      "  1%|▏         | 7/479 [00:07<06:49,  1.15it/s]\u001b[A\n",
      "  2%|▏         | 8/479 [00:07<06:07,  1.28it/s]\u001b[A\n",
      "  2%|▏         | 9/479 [00:08<05:55,  1.32it/s]\u001b[A\n",
      "  2%|▏         | 10/479 [00:08<05:30,  1.42it/s]\u001b[A\n",
      "  2%|▏         | 11/479 [00:11<09:06,  1.17s/it]\u001b[A\n",
      "  3%|▎         | 12/479 [00:12<08:27,  1.09s/it]\u001b[A\n",
      "  3%|▎         | 13/479 [00:14<11:16,  1.45s/it]\u001b[A\n",
      "  3%|▎         | 14/479 [00:15<09:37,  1.24s/it]\u001b[A\n",
      "  3%|▎         | 15/479 [00:16<09:33,  1.24s/it]\u001b[A\n",
      "  3%|▎         | 16/479 [00:17<08:44,  1.13s/it]\u001b[A\n",
      "  4%|▎         | 17/479 [00:18<09:11,  1.19s/it]\u001b[A\n",
      "  4%|▍         | 18/479 [00:20<10:24,  1.35s/it]\u001b[A\n",
      "  4%|▍         | 19/479 [00:20<08:49,  1.15s/it]\u001b[A\n",
      "  4%|▍         | 20/479 [00:23<12:55,  1.69s/it]\u001b[A\n",
      "  4%|▍         | 21/479 [00:24<10:48,  1.42s/it]\u001b[A\n",
      "  5%|▍         | 22/479 [00:27<14:24,  1.89s/it]\u001b[A\n",
      "  5%|▍         | 23/479 [00:28<12:54,  1.70s/it]\u001b[A\n",
      "  5%|▌         | 24/479 [00:29<10:49,  1.43s/it]\u001b[A\n",
      "  5%|▌         | 25/479 [00:30<10:23,  1.37s/it]\u001b[A\n",
      "  5%|▌         | 26/479 [00:31<09:30,  1.26s/it]\u001b[A"
     ]
    }
   ],
   "source": [
    "data_all_legislaturas = []\n",
    "for link, leg in tqdm(zip(links_legislaturas, [64]), total = len(links_legislaturas)):\n",
    "    driver.get(link)\n",
    "    diputados = len(driver.find_elements_by_css_selector('option'))\n",
    "    \n",
    "    data_legislatura = []\n",
    "    for i in tqdm(range(diputados)):\n",
    "        driver.get(link)\n",
    "        \n",
    "        driver.find_elements_by_css_selector('option')[i].click()\n",
    "        dip = driver.find_elements_by_css_selector('option')[i].text\n",
    "        driver.find_element_by_css_selector('body > table:nth-child(3) > tbody > tr > td:nth-child(2) > input[type=SUBMIT]:nth-child(1)').click()\n",
    "        \n",
    "        iniciativas_dip = obtain_iniciativas(driver, dip, leg)\n",
    "        for h in iniciativas_dip:\n",
    "            data_legislatura.append(h)\n",
    "    \n",
    "    data_all_legislaturas.append(data_legislatura)\n",
    "    name_file = 'bills_proposed' + str(leg) + 'json'\n",
    "    \n",
    "    with open('../../data/03-legislation/' + name_file, 'w') as json_file:\n",
    "        json.dump(data_legislatura, json_file)     "
   ]
  }
 ],
 "metadata": {
  "kernelspec": {
   "display_name": "Python 3",
   "language": "python",
   "name": "python3"
  },
  "language_info": {
   "codemirror_mode": {
    "name": "ipython",
    "version": 3
   },
   "file_extension": ".py",
   "mimetype": "text/x-python",
   "name": "python",
   "nbconvert_exporter": "python",
   "pygments_lexer": "ipython3",
   "version": "3.8.3"
  }
 },
 "nbformat": 4,
 "nbformat_minor": 4
}
